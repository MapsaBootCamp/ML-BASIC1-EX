{
 "cells": [
  {
   "cell_type": "code",
   "execution_count": 1,
   "id": "98fe102e-f678-46aa-8b10-fcf214618661",
   "metadata": {},
   "outputs": [],
   "source": [
    "import pandas as pd\n",
    "import numpy as np\n"
   ]
  },
  {
   "cell_type": "code",
   "execution_count": 2,
   "id": "fb4edac4-b4eb-493a-98cf-7a09d494a860",
   "metadata": {},
   "outputs": [],
   "source": [
    "df =pd.read_csv('train.csv')\n"
   ]
  },
  {
   "cell_type": "markdown",
   "id": "d12ad13e-78d6-43a1-9b9e-d9b940f0e6c7",
   "metadata": {},
   "source": [
    "## ابتدا تعداد سطر و سپس تعداد ستون‌های این دادگان را به دست آورید‌ (با space، جدا کنید) :"
   ]
  },
  {
   "cell_type": "code",
   "execution_count": 11,
   "id": "c6c2e63b-fd44-4e5b-9700-3073c9cd47cf",
   "metadata": {},
   "outputs": [
    {
     "name": "stdout",
     "output_type": "stream",
     "text": [
      "1590 10\n"
     ]
    }
   ],
   "source": [
    "print(f'{df.shape[0]} {df.shape[1]}')"
   ]
  },
  {
   "cell_type": "markdown",
   "id": "afc4a9ad-7ac2-473c-bd5d-6e3c89709694",
   "metadata": {},
   "source": [
    "## متوسط درآمد سالانه مشتریان چه‌ قدر است (فقط قسمت عدد صحیح)؟"
   ]
  },
  {
   "cell_type": "code",
   "execution_count": 10,
   "id": "f4172f13-5216-41ad-ae06-092d231a7615",
   "metadata": {},
   "outputs": [
    {
     "data": {
      "text/html": [
       "<div>\n",
       "<style scoped>\n",
       "    .dataframe tbody tr th:only-of-type {\n",
       "        vertical-align: middle;\n",
       "    }\n",
       "\n",
       "    .dataframe tbody tr th {\n",
       "        vertical-align: top;\n",
       "    }\n",
       "\n",
       "    .dataframe thead th {\n",
       "        text-align: right;\n",
       "    }\n",
       "</style>\n",
       "<table border=\"1\" class=\"dataframe\">\n",
       "  <thead>\n",
       "    <tr style=\"text-align: right;\">\n",
       "      <th></th>\n",
       "      <th>Customer Id</th>\n",
       "      <th>Age</th>\n",
       "      <th>Employment Type</th>\n",
       "      <th>GraduateOrNot</th>\n",
       "      <th>AnnualIncome</th>\n",
       "      <th>FamilyMembers</th>\n",
       "      <th>ChronicDiseases</th>\n",
       "      <th>FrequentFlyer</th>\n",
       "      <th>EverTravelledAbroad</th>\n",
       "      <th>TravelInsurance</th>\n",
       "    </tr>\n",
       "  </thead>\n",
       "  <tbody>\n",
       "    <tr>\n",
       "      <th>0</th>\n",
       "      <td>3JUN0VW6F043</td>\n",
       "      <td>34</td>\n",
       "      <td>Private Sector/Self Employed</td>\n",
       "      <td>Yes</td>\n",
       "      <td>1300000</td>\n",
       "      <td>6</td>\n",
       "      <td>0</td>\n",
       "      <td>Yes</td>\n",
       "      <td>No</td>\n",
       "      <td>No</td>\n",
       "    </tr>\n",
       "    <tr>\n",
       "      <th>1</th>\n",
       "      <td>VLHY2ABIR4QL</td>\n",
       "      <td>28</td>\n",
       "      <td>Private Sector/Self Employed</td>\n",
       "      <td>Yes</td>\n",
       "      <td>750000</td>\n",
       "      <td>7</td>\n",
       "      <td>0</td>\n",
       "      <td>Yes</td>\n",
       "      <td>No</td>\n",
       "      <td>No</td>\n",
       "    </tr>\n",
       "    <tr>\n",
       "      <th>2</th>\n",
       "      <td>6E3F7UNXYNFF</td>\n",
       "      <td>28</td>\n",
       "      <td>Private Sector/Self Employed</td>\n",
       "      <td>Yes</td>\n",
       "      <td>750000</td>\n",
       "      <td>6</td>\n",
       "      <td>0</td>\n",
       "      <td>Yes</td>\n",
       "      <td>No</td>\n",
       "      <td>No</td>\n",
       "    </tr>\n",
       "    <tr>\n",
       "      <th>3</th>\n",
       "      <td>JJ8R0ZRYWR31</td>\n",
       "      <td>32</td>\n",
       "      <td>Government Sector</td>\n",
       "      <td>Yes</td>\n",
       "      <td>800000</td>\n",
       "      <td>6</td>\n",
       "      <td>1</td>\n",
       "      <td>No</td>\n",
       "      <td>No</td>\n",
       "      <td>No</td>\n",
       "    </tr>\n",
       "    <tr>\n",
       "      <th>4</th>\n",
       "      <td>2WGFUEX6IEHM</td>\n",
       "      <td>34</td>\n",
       "      <td>Private Sector/Self Employed</td>\n",
       "      <td>Yes</td>\n",
       "      <td>700000</td>\n",
       "      <td>4</td>\n",
       "      <td>1</td>\n",
       "      <td>No</td>\n",
       "      <td>No</td>\n",
       "      <td>No</td>\n",
       "    </tr>\n",
       "  </tbody>\n",
       "</table>\n",
       "</div>"
      ],
      "text/plain": [
       "    Customer Id  Age               Employment Type GraduateOrNot  \\\n",
       "0  3JUN0VW6F043   34  Private Sector/Self Employed           Yes   \n",
       "1  VLHY2ABIR4QL   28  Private Sector/Self Employed           Yes   \n",
       "2  6E3F7UNXYNFF   28  Private Sector/Self Employed           Yes   \n",
       "3  JJ8R0ZRYWR31   32             Government Sector           Yes   \n",
       "4  2WGFUEX6IEHM   34  Private Sector/Self Employed           Yes   \n",
       "\n",
       "   AnnualIncome  FamilyMembers  ChronicDiseases FrequentFlyer  \\\n",
       "0       1300000              6                0           Yes   \n",
       "1        750000              7                0           Yes   \n",
       "2        750000              6                0           Yes   \n",
       "3        800000              6                1            No   \n",
       "4        700000              4                1            No   \n",
       "\n",
       "  EverTravelledAbroad TravelInsurance  \n",
       "0                  No              No  \n",
       "1                  No              No  \n",
       "2                  No              No  \n",
       "3                  No              No  \n",
       "4                  No              No  "
      ]
     },
     "execution_count": 10,
     "metadata": {},
     "output_type": "execute_result"
    }
   ],
   "source": [
    "df.head()"
   ]
  },
  {
   "cell_type": "code",
   "execution_count": 16,
   "id": "38e67484-1a68-4048-a952-99cbc5110019",
   "metadata": {},
   "outputs": [
    {
     "data": {
      "text/plain": [
       "928553"
      ]
     },
     "execution_count": 16,
     "metadata": {},
     "output_type": "execute_result"
    }
   ],
   "source": [
    "int(df['AnnualIncome'].mean())"
   ]
  },
  {
   "cell_type": "markdown",
   "id": "e21e30e7-171a-41ab-abac-e688a4a255e5",
   "metadata": {},
   "source": [
    "## چند نفر از مشتریان سابقه سفر خارجی داشته‌اند؟"
   ]
  },
  {
   "cell_type": "code",
   "execution_count": 23,
   "id": "1ed43cd3-b3f3-4e15-a71e-10b77933ef8f",
   "metadata": {},
   "outputs": [
    {
     "data": {
      "text/plain": [
       "3020"
      ]
     },
     "execution_count": 23,
     "metadata": {},
     "output_type": "execute_result"
    }
   ],
   "source": [
    "df[df['EverTravelledAbroad'] == 'Yes'].size"
   ]
  },
  {
   "cell_type": "markdown",
   "id": "4da6ffe8-ea10-4144-bbcf-651da20c236c",
   "metadata": {},
   "source": [
    "## بیشتر افراد، در بخش خصوصی به کار گرفته شده‌اند و یا بخش دولتی؟ چند درصد افراد در آن بخش مشغول هستند (با دقت دو رقم اعشار)؟"
   ]
  },
  {
   "cell_type": "code",
   "execution_count": 112,
   "id": "3478a7c2-15ce-4006-a983-200f96a0ed13",
   "metadata": {},
   "outputs": [],
   "source": [
    "new=df.groupby('Employment Type').count()"
   ]
  },
  {
   "cell_type": "code",
   "execution_count": 113,
   "id": "517c0c9d-5d26-4b6f-a680-4d6802e47c30",
   "metadata": {},
   "outputs": [],
   "source": [
    "new.sort_values('Age',ascending=False,inplace=True)"
   ]
  },
  {
   "cell_type": "code",
   "execution_count": 114,
   "id": "21ff57a8-d743-48b6-a3e9-c5a4afb185d1",
   "metadata": {},
   "outputs": [],
   "source": [
    "private,government=df['Employment Type'].value_counts()"
   ]
  },
  {
   "cell_type": "code",
   "execution_count": 115,
   "id": "c80f7943-a37c-4cfc-baa9-728576c5b2ff",
   "metadata": {},
   "outputs": [],
   "source": [
    "all_employee=private+government"
   ]
  },
  {
   "cell_type": "code",
   "execution_count": 116,
   "id": "0712b196-35ad-423b-988c-8509f1d7c903",
   "metadata": {},
   "outputs": [
    {
     "name": "stdout",
     "output_type": "stream",
     "text": [
      "Private Sector/Self Employed is more than othes\n"
     ]
    }
   ],
   "source": [
    "print(f'{new.index[0]} is more than othes')"
   ]
  },
  {
   "cell_type": "code",
   "execution_count": 117,
   "id": "7c776350-a6cb-4ed5-8e84-99325d3644ec",
   "metadata": {},
   "outputs": [
    {
     "name": "stdout",
     "output_type": "stream",
     "text": [
      "72.64 %\n"
     ]
    }
   ],
   "source": [
    "print(f'{(private/all_employee)*100:.2f} %')"
   ]
  },
  {
   "cell_type": "markdown",
   "id": "75305978-e1a1-46d1-b6a5-a15a484536a0",
   "metadata": {},
   "source": [
    " ## چند درصد از افرادی که بیماری زمینه‌ای دارند، خودشان را برای سفر بیمه کرده‌اند (دقت تا دو رقم اعشار)؟"
   ]
  },
  {
   "cell_type": "code",
   "execution_count": 50,
   "id": "30b97989-8081-4dcb-bcfd-8be371a2fdd1",
   "metadata": {},
   "outputs": [],
   "source": [
    "chronic_dis=df[df['ChronicDiseases']==1]"
   ]
  },
  {
   "cell_type": "code",
   "execution_count": 51,
   "id": "c706d780-a79e-4e2d-9ee7-5d568a956959",
   "metadata": {},
   "outputs": [
    {
     "data": {
      "text/html": [
       "<div>\n",
       "<style scoped>\n",
       "    .dataframe tbody tr th:only-of-type {\n",
       "        vertical-align: middle;\n",
       "    }\n",
       "\n",
       "    .dataframe tbody tr th {\n",
       "        vertical-align: top;\n",
       "    }\n",
       "\n",
       "    .dataframe thead th {\n",
       "        text-align: right;\n",
       "    }\n",
       "</style>\n",
       "<table border=\"1\" class=\"dataframe\">\n",
       "  <thead>\n",
       "    <tr style=\"text-align: right;\">\n",
       "      <th></th>\n",
       "      <th>Customer Id</th>\n",
       "      <th>Age</th>\n",
       "      <th>Employment Type</th>\n",
       "      <th>GraduateOrNot</th>\n",
       "      <th>AnnualIncome</th>\n",
       "      <th>FamilyMembers</th>\n",
       "      <th>ChronicDiseases</th>\n",
       "      <th>FrequentFlyer</th>\n",
       "      <th>EverTravelledAbroad</th>\n",
       "      <th>TravelInsurance</th>\n",
       "    </tr>\n",
       "  </thead>\n",
       "  <tbody>\n",
       "    <tr>\n",
       "      <th>3</th>\n",
       "      <td>JJ8R0ZRYWR31</td>\n",
       "      <td>32</td>\n",
       "      <td>Government Sector</td>\n",
       "      <td>Yes</td>\n",
       "      <td>800000</td>\n",
       "      <td>6</td>\n",
       "      <td>1</td>\n",
       "      <td>No</td>\n",
       "      <td>No</td>\n",
       "      <td>No</td>\n",
       "    </tr>\n",
       "    <tr>\n",
       "      <th>4</th>\n",
       "      <td>2WGFUEX6IEHM</td>\n",
       "      <td>34</td>\n",
       "      <td>Private Sector/Self Employed</td>\n",
       "      <td>Yes</td>\n",
       "      <td>700000</td>\n",
       "      <td>4</td>\n",
       "      <td>1</td>\n",
       "      <td>No</td>\n",
       "      <td>No</td>\n",
       "      <td>No</td>\n",
       "    </tr>\n",
       "    <tr>\n",
       "      <th>5</th>\n",
       "      <td>V4GZ5HKMGHZ1</td>\n",
       "      <td>28</td>\n",
       "      <td>Government Sector</td>\n",
       "      <td>Yes</td>\n",
       "      <td>300000</td>\n",
       "      <td>6</td>\n",
       "      <td>1</td>\n",
       "      <td>No</td>\n",
       "      <td>No</td>\n",
       "      <td>No</td>\n",
       "    </tr>\n",
       "    <tr>\n",
       "      <th>14</th>\n",
       "      <td>D9M4QDEJFMDL</td>\n",
       "      <td>30</td>\n",
       "      <td>Private Sector/Self Employed</td>\n",
       "      <td>No</td>\n",
       "      <td>750000</td>\n",
       "      <td>3</td>\n",
       "      <td>1</td>\n",
       "      <td>No</td>\n",
       "      <td>No</td>\n",
       "      <td>Yes</td>\n",
       "    </tr>\n",
       "    <tr>\n",
       "      <th>15</th>\n",
       "      <td>HOJG4E0IMD3U</td>\n",
       "      <td>29</td>\n",
       "      <td>Private Sector/Self Employed</td>\n",
       "      <td>Yes</td>\n",
       "      <td>1350000</td>\n",
       "      <td>7</td>\n",
       "      <td>1</td>\n",
       "      <td>No</td>\n",
       "      <td>Yes</td>\n",
       "      <td>Yes</td>\n",
       "    </tr>\n",
       "    <tr>\n",
       "      <th>...</th>\n",
       "      <td>...</td>\n",
       "      <td>...</td>\n",
       "      <td>...</td>\n",
       "      <td>...</td>\n",
       "      <td>...</td>\n",
       "      <td>...</td>\n",
       "      <td>...</td>\n",
       "      <td>...</td>\n",
       "      <td>...</td>\n",
       "      <td>...</td>\n",
       "    </tr>\n",
       "    <tr>\n",
       "      <th>1563</th>\n",
       "      <td>C70HFLJF7640</td>\n",
       "      <td>30</td>\n",
       "      <td>Private Sector/Self Employed</td>\n",
       "      <td>No</td>\n",
       "      <td>800000</td>\n",
       "      <td>4</td>\n",
       "      <td>1</td>\n",
       "      <td>Yes</td>\n",
       "      <td>No</td>\n",
       "      <td>No</td>\n",
       "    </tr>\n",
       "    <tr>\n",
       "      <th>1568</th>\n",
       "      <td>8CUXXHH4MD44</td>\n",
       "      <td>35</td>\n",
       "      <td>Private Sector/Self Employed</td>\n",
       "      <td>No</td>\n",
       "      <td>800000</td>\n",
       "      <td>7</td>\n",
       "      <td>1</td>\n",
       "      <td>No</td>\n",
       "      <td>No</td>\n",
       "      <td>Yes</td>\n",
       "    </tr>\n",
       "    <tr>\n",
       "      <th>1581</th>\n",
       "      <td>231OGPC8MOZH</td>\n",
       "      <td>26</td>\n",
       "      <td>Private Sector/Self Employed</td>\n",
       "      <td>Yes</td>\n",
       "      <td>600000</td>\n",
       "      <td>4</td>\n",
       "      <td>1</td>\n",
       "      <td>No</td>\n",
       "      <td>No</td>\n",
       "      <td>No</td>\n",
       "    </tr>\n",
       "    <tr>\n",
       "      <th>1586</th>\n",
       "      <td>2JEE5P5T9MT0</td>\n",
       "      <td>34</td>\n",
       "      <td>Private Sector/Self Employed</td>\n",
       "      <td>Yes</td>\n",
       "      <td>850000</td>\n",
       "      <td>3</td>\n",
       "      <td>1</td>\n",
       "      <td>No</td>\n",
       "      <td>Yes</td>\n",
       "      <td>No</td>\n",
       "    </tr>\n",
       "    <tr>\n",
       "      <th>1589</th>\n",
       "      <td>8VEME4MXPTBC</td>\n",
       "      <td>28</td>\n",
       "      <td>Private Sector/Self Employed</td>\n",
       "      <td>Yes</td>\n",
       "      <td>750000</td>\n",
       "      <td>5</td>\n",
       "      <td>1</td>\n",
       "      <td>Yes</td>\n",
       "      <td>No</td>\n",
       "      <td>No</td>\n",
       "    </tr>\n",
       "  </tbody>\n",
       "</table>\n",
       "<p>445 rows × 10 columns</p>\n",
       "</div>"
      ],
      "text/plain": [
       "       Customer Id  Age               Employment Type GraduateOrNot  \\\n",
       "3     JJ8R0ZRYWR31   32             Government Sector           Yes   \n",
       "4     2WGFUEX6IEHM   34  Private Sector/Self Employed           Yes   \n",
       "5     V4GZ5HKMGHZ1   28             Government Sector           Yes   \n",
       "14    D9M4QDEJFMDL   30  Private Sector/Self Employed            No   \n",
       "15    HOJG4E0IMD3U   29  Private Sector/Self Employed           Yes   \n",
       "...            ...  ...                           ...           ...   \n",
       "1563  C70HFLJF7640   30  Private Sector/Self Employed            No   \n",
       "1568  8CUXXHH4MD44   35  Private Sector/Self Employed            No   \n",
       "1581  231OGPC8MOZH   26  Private Sector/Self Employed           Yes   \n",
       "1586  2JEE5P5T9MT0   34  Private Sector/Self Employed           Yes   \n",
       "1589  8VEME4MXPTBC   28  Private Sector/Self Employed           Yes   \n",
       "\n",
       "      AnnualIncome  FamilyMembers  ChronicDiseases FrequentFlyer  \\\n",
       "3           800000              6                1            No   \n",
       "4           700000              4                1            No   \n",
       "5           300000              6                1            No   \n",
       "14          750000              3                1            No   \n",
       "15         1350000              7                1            No   \n",
       "...            ...            ...              ...           ...   \n",
       "1563        800000              4                1           Yes   \n",
       "1568        800000              7                1            No   \n",
       "1581        600000              4                1            No   \n",
       "1586        850000              3                1            No   \n",
       "1589        750000              5                1           Yes   \n",
       "\n",
       "     EverTravelledAbroad TravelInsurance  \n",
       "3                     No              No  \n",
       "4                     No              No  \n",
       "5                     No              No  \n",
       "14                    No             Yes  \n",
       "15                   Yes             Yes  \n",
       "...                  ...             ...  \n",
       "1563                  No              No  \n",
       "1568                  No             Yes  \n",
       "1581                  No              No  \n",
       "1586                 Yes              No  \n",
       "1589                  No              No  \n",
       "\n",
       "[445 rows x 10 columns]"
      ]
     },
     "execution_count": 51,
     "metadata": {},
     "output_type": "execute_result"
    }
   ],
   "source": [
    "chronic_dis"
   ]
  },
  {
   "cell_type": "code",
   "execution_count": 53,
   "id": "d70f051b-60b6-4db8-9ca3-6d5581dfce45",
   "metadata": {},
   "outputs": [],
   "source": [
    "insurance_chronic=chronic_dis[chronic_dis['TravelInsurance']=='Yes']"
   ]
  },
  {
   "cell_type": "code",
   "execution_count": 55,
   "id": "b068c8e7-d603-449f-bc6d-62856de0d6cb",
   "metadata": {},
   "outputs": [
    {
     "name": "stdout",
     "output_type": "stream",
     "text": [
      "37.53 %\n"
     ]
    }
   ],
   "source": [
    "print(f'{(insurance_chronic.size/chronic_dis.size)*100:.2f} %')"
   ]
  }
 ],
 "metadata": {
  "kernelspec": {
   "display_name": "Python 3 (ipykernel)",
   "language": "python",
   "name": "python3"
  },
  "language_info": {
   "codemirror_mode": {
    "name": "ipython",
    "version": 3
   },
   "file_extension": ".py",
   "mimetype": "text/x-python",
   "name": "python",
   "nbconvert_exporter": "python",
   "pygments_lexer": "ipython3",
   "version": "3.8.5"
  }
 },
 "nbformat": 4,
 "nbformat_minor": 5
}
