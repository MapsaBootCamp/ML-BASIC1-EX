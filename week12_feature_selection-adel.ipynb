{
 "cells": [
  {
   "cell_type": "code",
   "execution_count": 1,
   "id": "bfecad6a-9705-4578-8fe3-50f7a4571300",
   "metadata": {},
   "outputs": [],
   "source": [
    "import pandas as pd\n",
    "import numpy as np"
   ]
  },
  {
   "cell_type": "code",
   "execution_count": 2,
   "id": "00dfb9bf-6023-401d-925b-0f3b76a0ff8a",
   "metadata": {},
   "outputs": [],
   "source": [
    "df_data = pd.read_excel('LSVT_voice_rehabilitation.xlsx', sheet_name='Data')\n",
    "df_response = pd.read_excel('LSVT_voice_rehabilitation.xlsx', sheet_name='Binary response')\n",
    "df_subject = pd.read_excel('LSVT_voice_rehabilitation.xlsx', sheet_name='Subject demographics')"
   ]
  },
  {
   "cell_type": "code",
   "execution_count": 3,
   "id": "b39dea37-a9e9-4ab0-bd10-ca30b1e0654f",
   "metadata": {},
   "outputs": [],
   "source": [
    "df = pd.concat([df_data, df_response, df_subject], axis=1)"
   ]
  },
  {
   "cell_type": "code",
   "execution_count": 4,
   "id": "821cf252-45d7-47cb-b51a-f0ce8de015d3",
   "metadata": {},
   "outputs": [
    {
     "data": {
      "text/plain": [
       "(126, 314)"
      ]
     },
     "execution_count": 4,
     "metadata": {},
     "output_type": "execute_result"
    }
   ],
   "source": [
    "df.shape"
   ]
  },
  {
   "cell_type": "code",
   "execution_count": 5,
   "id": "a3288823-9bf4-4c0e-b913-15acbc5912aa",
   "metadata": {},
   "outputs": [],
   "source": [
    "###\n",
    "\n",
    "# the no of features are more than the rows so we need to reduce the features\n",
    "# both feature extraction and feature reduction will be applied"
   ]
  },
  {
   "cell_type": "markdown",
   "id": "370ad753-5707-44c4-8b8b-9d9b60f7302f",
   "metadata": {},
   "source": [
    "### feature extraction - PCA"
   ]
  },
  {
   "cell_type": "code",
   "execution_count": 100,
   "id": "463ff7bc-1eb9-42d7-9dc8-8a4612addeaa",
   "metadata": {},
   "outputs": [],
   "source": [
    "X = df.drop('Binary class 1=acceptable, 2=unacceptable', axis=1)\n",
    "y = df['Binary class 1=acceptable, 2=unacceptable'].copy()"
   ]
  },
  {
   "cell_type": "code",
   "execution_count": 132,
   "id": "012e548d-cf5b-4cfb-8951-65827a871b45",
   "metadata": {},
   "outputs": [],
   "source": [
    "from sklearn.model_selection import train_test_split\n",
    "\n",
    "X_train, X_test, y_train, y_test = train_test_split(X, y, stratify=y)"
   ]
  },
  {
   "cell_type": "code",
   "execution_count": 8,
   "id": "7312f2ed-93f8-4e49-bbf6-ce043e6c6b30",
   "metadata": {},
   "outputs": [],
   "source": [
    "from sklearn.decomposition import PCA\n",
    "\n",
    "pca = PCA()\n",
    "X_train_pca = pca.fit_transform(X_train)\n",
    "X_test_pca = pca.transform(X_test)"
   ]
  },
  {
   "cell_type": "code",
   "execution_count": 9,
   "id": "8e9e2d81-4ee8-4f11-bca7-c459ddfdda61",
   "metadata": {},
   "outputs": [
    {
     "name": "stdout",
     "output_type": "stream",
     "text": [
      "X_train_pca shape :  (94, 94)\n",
      "X_train shape :  (94, 313)\n",
      "pca.components :  (94, 313)\n"
     ]
    }
   ],
   "source": [
    "print('X_train_pca shape : ',X_train_pca.shape)\n",
    "print('X_train shape : ',X_train.shape)\n",
    "print('pca.components : ',pca.components_.shape)"
   ]
  },
  {
   "cell_type": "code",
   "execution_count": 10,
   "id": "d7007371-ed3b-41db-bfb8-edf7e1542c6c",
   "metadata": {},
   "outputs": [],
   "source": [
    "###\n",
    "\n",
    "# as the above shapes show pca reduced no of features from 313 to 94 (defaults is min of rank and samples)\n",
    "# still seems so many features and keep reducing\n"
   ]
  },
  {
   "cell_type": "code",
   "execution_count": 11,
   "id": "c22aa4f4-0535-416c-884b-382b3fe2a10f",
   "metadata": {},
   "outputs": [
    {
     "name": "stdout",
     "output_type": "stream",
     "text": [
      "no of features explain 0.99 % of pca components is :  0\n"
     ]
    }
   ],
   "source": [
    "# lets find features with 95% explained variance\n",
    "\n",
    "\n",
    "cumsum = 0.99\n",
    "pca_features=0\n",
    "for i in range(0,X_train_pca.shape[1]):\n",
    "    if pca.explained_variance_ratio_.cumsum()[i] < cumsum:\n",
    "        pca_features = i\n",
    "print('no of features explain', cumsum,'% of pca components is : ',pca_features)\n"
   ]
  },
  {
   "cell_type": "code",
   "execution_count": 44,
   "id": "026ad726-9aca-4783-af9e-31f179d74661",
   "metadata": {},
   "outputs": [
    {
     "data": {
      "text/plain": [
       "(313, 1)"
      ]
     },
     "execution_count": 44,
     "metadata": {},
     "output_type": "execute_result"
    }
   ],
   "source": [
    "# the class notebook:\n",
    "\n",
    "# ### selection principle components, create projection matrix\n",
    "# cumsum_variance = np.cumsum(pca.explained_variance_ratio_)\n",
    "# d = np.argmax(cumsum_variance > .95) + 1\n",
    "# d\n",
    "\n",
    "# n_component = 1\n",
    "# projection_matrix = pca.components_[:n_component].T\n",
    "# projection_matrix.shape"
   ]
  },
  {
   "cell_type": "code",
   "execution_count": 45,
   "id": "6bebf1ec-5f9e-4bfc-83be-86d901c3e952",
   "metadata": {},
   "outputs": [
    {
     "data": {
      "text/plain": [
       "(94, 1)"
      ]
     },
     "execution_count": 45,
     "metadata": {},
     "output_type": "execute_result"
    }
   ],
   "source": [
    "X_train_transformed = X_train  @ projection_matrix\n",
    "X_train_transformed.shape"
   ]
  },
  {
   "cell_type": "code",
   "execution_count": 12,
   "id": "b90948a5-c61c-4cf1-99b8-35d1ff119a5a",
   "metadata": {},
   "outputs": [],
   "source": [
    "###\n",
    "\n",
    "# as shown above just the first pca feature explains 99% of the variance so pca[0] will be considered\n"
   ]
  },
  {
   "cell_type": "code",
   "execution_count": 13,
   "id": "12badb74-1290-4dee-8146-30c5d69317f5",
   "metadata": {},
   "outputs": [
    {
     "data": {
      "text/plain": [
       "(94, 1)"
      ]
     },
     "execution_count": 13,
     "metadata": {},
     "output_type": "execute_result"
    }
   ],
   "source": [
    "first_principal_component = pca.components_[0]\n",
    "\n",
    "X_train_1stpca = np.dot(X_train, first_principal_component).reshape(-1,1)\n",
    "X_train_1stpca.shape"
   ]
  },
  {
   "cell_type": "code",
   "execution_count": 14,
   "id": "eb2e2c52-7411-4559-ab3d-f7457fa0b693",
   "metadata": {},
   "outputs": [
    {
     "data": {
      "text/plain": [
       "(32, 1)"
      ]
     },
     "execution_count": 14,
     "metadata": {},
     "output_type": "execute_result"
    }
   ],
   "source": [
    "first_principal_component = pca.components_[0]\n",
    "\n",
    "X_test_1stpca = np.dot(X_test, first_principal_component).reshape(-1,1)\n",
    "X_test_1stpca.shape"
   ]
  },
  {
   "cell_type": "code",
   "execution_count": 15,
   "id": "59a69a8f-4a1b-4193-b30a-9bda2b3ace54",
   "metadata": {},
   "outputs": [],
   "source": [
    "###\n",
    "\n",
    "# now given the transfored X_train and X_test we will make the models\n",
    "# for a better comparison, we apply same models which made for the data without any feature reduction\n"
   ]
  },
  {
   "cell_type": "markdown",
   "id": "6803d15d-5975-4637-8d27-e50d8265617a",
   "metadata": {},
   "source": [
    "#### SVC linear"
   ]
  },
  {
   "cell_type": "code",
   "execution_count": 16,
   "id": "50692d95-92f3-412b-847d-6dd11729f470",
   "metadata": {},
   "outputs": [],
   "source": [
    "from sklearn.preprocessing import StandardScaler\n",
    "from sklearn.svm import SVC\n",
    "from sklearn.pipeline import make_pipeline"
   ]
  },
  {
   "cell_type": "code",
   "execution_count": 23,
   "id": "b665cbcb-2d6b-4a9b-80c4-1c39b298a8a0",
   "metadata": {},
   "outputs": [],
   "source": [
    "svc_linear = SVC(kernel = 'linear')\n",
    "model_svc_linear = make_pipeline(StandardScaler(), svc_linear)\n",
    "model_svc_linear.fit(X_train_1stpca, y_train)\n",
    "pred_1stpca = model_svc_linear.predict(X_test_1stpca)"
   ]
  },
  {
   "cell_type": "code",
   "execution_count": 21,
   "id": "0278d445-0469-451f-bcb6-1221a25eed5c",
   "metadata": {},
   "outputs": [],
   "source": [
    "from sklearn.metrics import classification_report, precision_score, recall_score, f1_score, accuracy_score, confusion_matrix"
   ]
  },
  {
   "cell_type": "code",
   "execution_count": 24,
   "id": "0554f2a4-11dc-4cad-b02f-209e306330c3",
   "metadata": {},
   "outputs": [
    {
     "name": "stdout",
     "output_type": "stream",
     "text": [
      "accuracy for linear kernel :  0.65625\n",
      "f_1 score for linear kernel :  0.0\n",
      "[[ 0 11]\n",
      " [ 0 21]]\n"
     ]
    }
   ],
   "source": [
    "print('accuracy for linear kernel : ', accuracy_score(y_test, pred_1stpca))\n",
    "print('f_1 score for linear kernel : ', f1_score(y_test, pred_1stpca))\n",
    "print(confusion_matrix(y_test, pred_1stpca))"
   ]
  },
  {
   "cell_type": "raw",
   "id": "9e5d3b1b-1e63-4342-8587-e984fd4b5e87",
   "metadata": {},
   "source": [
    "results for the original data:\n",
    "\n",
    "accuracy for linear kernel :  0.78125\n",
    "f_1 score for linear kernel :  0.72\n",
    "[[ 9  7]\n",
    " [ 0 16]]"
   ]
  },
  {
   "cell_type": "code",
   "execution_count": 30,
   "id": "5876468e-08ce-40a1-922a-86435ca89488",
   "metadata": {},
   "outputs": [],
   "source": [
    "###\n",
    "\n",
    "# the original data shows better accuracy score and f1 score"
   ]
  },
  {
   "cell_type": "markdown",
   "id": "6288b72d-2fca-4bbc-ba0d-4ee9f534fb00",
   "metadata": {},
   "source": [
    "#### SVC polynomial"
   ]
  },
  {
   "cell_type": "code",
   "execution_count": 28,
   "id": "8022260c-5cf6-465a-a579-f4823fd4ae6e",
   "metadata": {},
   "outputs": [],
   "source": [
    "# degree:2\n",
    "\n",
    "svc_poly_d2 = SVC(kernel='poly', degree=2)\n",
    "model_svc_poly_d2 = make_pipeline(StandardScaler(), svc_poly_d2)\n",
    "model_svc_poly_d2.fit(X_train_1stpca, y_train)\n",
    "pred_1stpca = model_svc_poly_d2.predict(X_test_1stpca)"
   ]
  },
  {
   "cell_type": "code",
   "execution_count": 29,
   "id": "99311c04-821c-4b58-ba63-3940e333940a",
   "metadata": {},
   "outputs": [
    {
     "name": "stdout",
     "output_type": "stream",
     "text": [
      "accuracy for linear kernel :  0.65625\n",
      "f_1 score for linear kernel :  0.0\n",
      "[[ 0 11]\n",
      " [ 0 21]]\n"
     ]
    }
   ],
   "source": [
    "print('accuracy for linear kernel : ', accuracy_score(y_test, pred_1stpca))\n",
    "print('f_1 score for linear kernel : ', f1_score(y_test, pred_1stpca))\n",
    "print(confusion_matrix(y_test, pred_1stpca))"
   ]
  },
  {
   "cell_type": "raw",
   "id": "3b052c34-d7ae-4eff-867e-c94bbf25f8a0",
   "metadata": {},
   "source": [
    "the results with the original data:\n",
    "\n",
    "accuracy for polynomial kernel, Degree = 2 :  0.625\n",
    "f_1 score for polynomial kernel, Degree = 2 :  0.0\n",
    "[[ 0  9]\n",
    " [ 3 20]]"
   ]
  },
  {
   "cell_type": "markdown",
   "id": "65a0281b-ae08-470d-8ece-fe72804b4ff8",
   "metadata": {},
   "source": [
    "### finding the best model using GridSearch"
   ]
  },
  {
   "cell_type": "code",
   "execution_count": 31,
   "id": "16ce6336-dc2f-455c-abd4-4154cf0a2ea1",
   "metadata": {},
   "outputs": [],
   "source": [
    "# as long as the data size has been reduced significantly, we expect faster fine tune"
   ]
  },
  {
   "cell_type": "markdown",
   "id": "0f6db131-17ee-4c1c-8cf7-26dcea78cc8a",
   "metadata": {},
   "source": [
    "#### SVC -- PCA"
   ]
  },
  {
   "cell_type": "code",
   "execution_count": 40,
   "id": "7dee4c5d-ab74-4f5d-985a-750af6f089ce",
   "metadata": {},
   "outputs": [
    {
     "name": "stdout",
     "output_type": "stream",
     "text": [
      "accuracy :  0.65625\n",
      "f_1 score :  0.0\n",
      "best params:  {'svc__C': 0.1, 'svc__degree': 2, 'svc__gamma': 'scale', 'svc__kernel': 'linear'}\n"
     ]
    }
   ],
   "source": [
    "from sklearn.model_selection import GridSearchCV\n",
    "\n",
    "hyper_params = {\n",
    "    'svc__kernel': ['linear', 'rbf', 'poly'],\n",
    "    'svc__degree': [2,3],\n",
    "    'svc__gamma': ['scale', 0.1, 1, 10],\n",
    "    'svc__C': [0.1, 1, 10],\n",
    "}\n",
    "svc_model = make_pipeline(StandardScaler(), SVC())\n",
    "svc_tuned = GridSearchCV(svc_model, param_grid=hyper_params, cv=3, scoring='accuracy')\n",
    "svc_tuned.fit(X_train_1stpca, y_train)\n",
    "pred_svc_tuned = svc_tuned.predict(X_test_1stpca)\n",
    "print('accuracy : ',accuracy_score(y_test, pred_svc_tuned))\n",
    "print('f_1 score : ', f1_score(y_test, pred_svc_tuned))\n",
    "print('best params: ', svc_tuned.best_params_)"
   ]
  },
  {
   "cell_type": "markdown",
   "id": "7e28b0c5-29ba-4a6c-8b3b-b3787f8770a7",
   "metadata": {},
   "source": [
    "#### random forest -- PCA"
   ]
  },
  {
   "cell_type": "code",
   "execution_count": 61,
   "id": "175aacba-ba76-4886-86ca-21a1f2ce59e3",
   "metadata": {},
   "outputs": [
    {
     "name": "stdout",
     "output_type": "stream",
     "text": [
      "accuracy :  0.6875\n",
      "f_1 score :  0.37499999999999994\n",
      "best params:  {'randomforestclassifier__criterion': 'gini', 'randomforestclassifier__max_leaf_nodes': 4, 'randomforestclassifier__n_estimators': 50}\n"
     ]
    }
   ],
   "source": [
    "from sklearn.ensemble import RandomForestClassifier\n",
    "from sklearn.model_selection import cross_val_score\n",
    "\n",
    "rf_model = make_pipeline(StandardScaler(), RandomForestClassifier())\n",
    "\n",
    "hyper_params = {\n",
    "    'randomforestclassifier__n_estimators': [50,100,200],\n",
    "    'randomforestclassifier__criterion': ['gini', 'entropy'],\n",
    "    'randomforestclassifier__max_leaf_nodes': [4,6,8]\n",
    "}\n",
    "\n",
    "rf_tuned = GridSearchCV(rf_model, param_grid=hyper_params, cv=3, scoring='accuracy')\n",
    "rf_tuned.fit(X_train_1stpca, y_train)\n",
    "pred_rf = rf_tuned.predict(X_test_1stpca)\n",
    "print('accuracy : ',accuracy_score(y_test, pred_rf))\n",
    "print('f_1 score : ', f1_score(y_test, pred_rf))\n",
    "print('best params: ', rf_tuned.best_params_)"
   ]
  },
  {
   "cell_type": "code",
   "execution_count": 63,
   "id": "0e66adff-c116-4469-91ea-d1eb54df4e26",
   "metadata": {},
   "outputs": [],
   "source": [
    "###\n",
    "\n",
    "# random forest showed higher accuracy and f1 score compared to SVC\n"
   ]
  },
  {
   "cell_type": "markdown",
   "id": "1d4861de-3798-4bbd-b703-f04c8cc7f4bd",
   "metadata": {},
   "source": [
    "### feature extraction - LDA"
   ]
  },
  {
   "cell_type": "markdown",
   "id": "f53d8a21-20d3-4c21-a311-c00ffed9b95e",
   "metadata": {},
   "source": [
    "#### SVC -- LDA"
   ]
  },
  {
   "cell_type": "code",
   "execution_count": 65,
   "id": "4cccd679-c973-4eba-b86b-6b442bffbcf5",
   "metadata": {},
   "outputs": [],
   "source": [
    "from sklearn.discriminant_analysis import LinearDiscriminantAnalysis"
   ]
  },
  {
   "cell_type": "code",
   "execution_count": 72,
   "id": "9a63fc40-e54d-400f-b54a-8b1e8c687de8",
   "metadata": {},
   "outputs": [
    {
     "data": {
      "text/html": [
       "<style>#sk-container-id-2 {color: black;}#sk-container-id-2 pre{padding: 0;}#sk-container-id-2 div.sk-toggleable {background-color: white;}#sk-container-id-2 label.sk-toggleable__label {cursor: pointer;display: block;width: 100%;margin-bottom: 0;padding: 0.3em;box-sizing: border-box;text-align: center;}#sk-container-id-2 label.sk-toggleable__label-arrow:before {content: \"▸\";float: left;margin-right: 0.25em;color: #696969;}#sk-container-id-2 label.sk-toggleable__label-arrow:hover:before {color: black;}#sk-container-id-2 div.sk-estimator:hover label.sk-toggleable__label-arrow:before {color: black;}#sk-container-id-2 div.sk-toggleable__content {max-height: 0;max-width: 0;overflow: hidden;text-align: left;background-color: #f0f8ff;}#sk-container-id-2 div.sk-toggleable__content pre {margin: 0.2em;color: black;border-radius: 0.25em;background-color: #f0f8ff;}#sk-container-id-2 input.sk-toggleable__control:checked~div.sk-toggleable__content {max-height: 200px;max-width: 100%;overflow: auto;}#sk-container-id-2 input.sk-toggleable__control:checked~label.sk-toggleable__label-arrow:before {content: \"▾\";}#sk-container-id-2 div.sk-estimator input.sk-toggleable__control:checked~label.sk-toggleable__label {background-color: #d4ebff;}#sk-container-id-2 div.sk-label input.sk-toggleable__control:checked~label.sk-toggleable__label {background-color: #d4ebff;}#sk-container-id-2 input.sk-hidden--visually {border: 0;clip: rect(1px 1px 1px 1px);clip: rect(1px, 1px, 1px, 1px);height: 1px;margin: -1px;overflow: hidden;padding: 0;position: absolute;width: 1px;}#sk-container-id-2 div.sk-estimator {font-family: monospace;background-color: #f0f8ff;border: 1px dotted black;border-radius: 0.25em;box-sizing: border-box;margin-bottom: 0.5em;}#sk-container-id-2 div.sk-estimator:hover {background-color: #d4ebff;}#sk-container-id-2 div.sk-parallel-item::after {content: \"\";width: 100%;border-bottom: 1px solid gray;flex-grow: 1;}#sk-container-id-2 div.sk-label:hover label.sk-toggleable__label {background-color: #d4ebff;}#sk-container-id-2 div.sk-serial::before {content: \"\";position: absolute;border-left: 1px solid gray;box-sizing: border-box;top: 0;bottom: 0;left: 50%;z-index: 0;}#sk-container-id-2 div.sk-serial {display: flex;flex-direction: column;align-items: center;background-color: white;padding-right: 0.2em;padding-left: 0.2em;position: relative;}#sk-container-id-2 div.sk-item {position: relative;z-index: 1;}#sk-container-id-2 div.sk-parallel {display: flex;align-items: stretch;justify-content: center;background-color: white;position: relative;}#sk-container-id-2 div.sk-item::before, #sk-container-id-2 div.sk-parallel-item::before {content: \"\";position: absolute;border-left: 1px solid gray;box-sizing: border-box;top: 0;bottom: 0;left: 50%;z-index: -1;}#sk-container-id-2 div.sk-parallel-item {display: flex;flex-direction: column;z-index: 1;position: relative;background-color: white;}#sk-container-id-2 div.sk-parallel-item:first-child::after {align-self: flex-end;width: 50%;}#sk-container-id-2 div.sk-parallel-item:last-child::after {align-self: flex-start;width: 50%;}#sk-container-id-2 div.sk-parallel-item:only-child::after {width: 0;}#sk-container-id-2 div.sk-dashed-wrapped {border: 1px dashed gray;margin: 0 0.4em 0.5em 0.4em;box-sizing: border-box;padding-bottom: 0.4em;background-color: white;}#sk-container-id-2 div.sk-label label {font-family: monospace;font-weight: bold;display: inline-block;line-height: 1.2em;}#sk-container-id-2 div.sk-label-container {text-align: center;}#sk-container-id-2 div.sk-container {/* jupyter's `normalize.less` sets `[hidden] { display: none; }` but bootstrap.min.css set `[hidden] { display: none !important; }` so we also need the `!important` here to be able to override the default hidden behavior on the sphinx rendered scikit-learn.org. See: https://github.com/scikit-learn/scikit-learn/issues/21755 */display: inline-block !important;position: relative;}#sk-container-id-2 div.sk-text-repr-fallback {display: none;}</style><div id=\"sk-container-id-2\" class=\"sk-top-container\"><div class=\"sk-text-repr-fallback\"><pre>GridSearchCV(cv=3,\n",
       "             estimator=Pipeline(steps=[(&#x27;pipeline&#x27;,\n",
       "                                        Pipeline(steps=[(&#x27;lineardiscriminantanalysis&#x27;,\n",
       "                                                         LinearDiscriminantAnalysis(n_components=1)),\n",
       "                                                        (&#x27;standardscaler&#x27;,\n",
       "                                                         StandardScaler())])),\n",
       "                                       (&#x27;svc&#x27;, SVC())]),\n",
       "             param_grid={&#x27;svc__C&#x27;: [0.1, 1, 10], &#x27;svc__degree&#x27;: [2, 3],\n",
       "                         &#x27;svc__gamma&#x27;: [&#x27;scale&#x27;, 0.1, 1, 10],\n",
       "                         &#x27;svc__kernel&#x27;: [&#x27;linear&#x27;, &#x27;rbf&#x27;, &#x27;poly&#x27;]},\n",
       "             scoring=&#x27;accuracy&#x27;)</pre><b>In a Jupyter environment, please rerun this cell to show the HTML representation or trust the notebook. <br />On GitHub, the HTML representation is unable to render, please try loading this page with nbviewer.org.</b></div><div class=\"sk-container\" hidden><div class=\"sk-item sk-dashed-wrapped\"><div class=\"sk-label-container\"><div class=\"sk-label sk-toggleable\"><input class=\"sk-toggleable__control sk-hidden--visually\" id=\"sk-estimator-id-4\" type=\"checkbox\" ><label for=\"sk-estimator-id-4\" class=\"sk-toggleable__label sk-toggleable__label-arrow\">GridSearchCV</label><div class=\"sk-toggleable__content\"><pre>GridSearchCV(cv=3,\n",
       "             estimator=Pipeline(steps=[(&#x27;pipeline&#x27;,\n",
       "                                        Pipeline(steps=[(&#x27;lineardiscriminantanalysis&#x27;,\n",
       "                                                         LinearDiscriminantAnalysis(n_components=1)),\n",
       "                                                        (&#x27;standardscaler&#x27;,\n",
       "                                                         StandardScaler())])),\n",
       "                                       (&#x27;svc&#x27;, SVC())]),\n",
       "             param_grid={&#x27;svc__C&#x27;: [0.1, 1, 10], &#x27;svc__degree&#x27;: [2, 3],\n",
       "                         &#x27;svc__gamma&#x27;: [&#x27;scale&#x27;, 0.1, 1, 10],\n",
       "                         &#x27;svc__kernel&#x27;: [&#x27;linear&#x27;, &#x27;rbf&#x27;, &#x27;poly&#x27;]},\n",
       "             scoring=&#x27;accuracy&#x27;)</pre></div></div></div><div class=\"sk-parallel\"><div class=\"sk-parallel-item\"><div class=\"sk-item\"><div class=\"sk-label-container\"><div class=\"sk-label sk-toggleable\"><input class=\"sk-toggleable__control sk-hidden--visually\" id=\"sk-estimator-id-5\" type=\"checkbox\" ><label for=\"sk-estimator-id-5\" class=\"sk-toggleable__label sk-toggleable__label-arrow\">estimator: Pipeline</label><div class=\"sk-toggleable__content\"><pre>Pipeline(steps=[(&#x27;pipeline&#x27;,\n",
       "                 Pipeline(steps=[(&#x27;lineardiscriminantanalysis&#x27;,\n",
       "                                  LinearDiscriminantAnalysis(n_components=1)),\n",
       "                                 (&#x27;standardscaler&#x27;, StandardScaler())])),\n",
       "                (&#x27;svc&#x27;, SVC())])</pre></div></div></div><div class=\"sk-serial\"><div class=\"sk-item\"><div class=\"sk-serial\"><div class=\"sk-item\"><div class=\"sk-label-container\"><div class=\"sk-label sk-toggleable\"><input class=\"sk-toggleable__control sk-hidden--visually\" id=\"sk-estimator-id-6\" type=\"checkbox\" ><label for=\"sk-estimator-id-6\" class=\"sk-toggleable__label sk-toggleable__label-arrow\">pipeline: Pipeline</label><div class=\"sk-toggleable__content\"><pre>Pipeline(steps=[(&#x27;lineardiscriminantanalysis&#x27;,\n",
       "                 LinearDiscriminantAnalysis(n_components=1)),\n",
       "                (&#x27;standardscaler&#x27;, StandardScaler())])</pre></div></div></div><div class=\"sk-serial\"><div class=\"sk-item\"><div class=\"sk-estimator sk-toggleable\"><input class=\"sk-toggleable__control sk-hidden--visually\" id=\"sk-estimator-id-7\" type=\"checkbox\" ><label for=\"sk-estimator-id-7\" class=\"sk-toggleable__label sk-toggleable__label-arrow\">LinearDiscriminantAnalysis</label><div class=\"sk-toggleable__content\"><pre>LinearDiscriminantAnalysis(n_components=1)</pre></div></div></div><div class=\"sk-item\"><div class=\"sk-estimator sk-toggleable\"><input class=\"sk-toggleable__control sk-hidden--visually\" id=\"sk-estimator-id-8\" type=\"checkbox\" ><label for=\"sk-estimator-id-8\" class=\"sk-toggleable__label sk-toggleable__label-arrow\">StandardScaler</label><div class=\"sk-toggleable__content\"><pre>StandardScaler()</pre></div></div></div></div></div><div class=\"sk-item\"><div class=\"sk-estimator sk-toggleable\"><input class=\"sk-toggleable__control sk-hidden--visually\" id=\"sk-estimator-id-9\" type=\"checkbox\" ><label for=\"sk-estimator-id-9\" class=\"sk-toggleable__label sk-toggleable__label-arrow\">SVC</label><div class=\"sk-toggleable__content\"><pre>SVC()</pre></div></div></div></div></div></div></div></div></div></div></div></div>"
      ],
      "text/plain": [
       "GridSearchCV(cv=3,\n",
       "             estimator=Pipeline(steps=[('pipeline',\n",
       "                                        Pipeline(steps=[('lineardiscriminantanalysis',\n",
       "                                                         LinearDiscriminantAnalysis(n_components=1)),\n",
       "                                                        ('standardscaler',\n",
       "                                                         StandardScaler())])),\n",
       "                                       ('svc', SVC())]),\n",
       "             param_grid={'svc__C': [0.1, 1, 10], 'svc__degree': [2, 3],\n",
       "                         'svc__gamma': ['scale', 0.1, 1, 10],\n",
       "                         'svc__kernel': ['linear', 'rbf', 'poly']},\n",
       "             scoring='accuracy')"
      ]
     },
     "execution_count": 72,
     "metadata": {},
     "output_type": "execute_result"
    }
   ],
   "source": [
    "lda = LinearDiscriminantAnalysis(n_components=1)\n",
    "lda_preprocess = make_pipeline(lda, StandardScaler())\n",
    "lda_svc_model = make_pipeline(lda_preprocess, SVC())\n",
    "hyper_params = {\n",
    "    'svc__kernel': ['linear', 'rbf', 'poly'],\n",
    "    'svc__degree': [2,3],\n",
    "    'svc__gamma': ['scale', 0.1, 1, 10],\n",
    "    'svc__C': [0.1, 1, 10],\n",
    "}\n",
    "lda_tuned = GridSearchCV(lda_svc_model, param_grid=hyper_params, scoring='accuracy', cv=3)\n",
    "lda_tuned.fit(X_train, y_train)"
   ]
  },
  {
   "cell_type": "code",
   "execution_count": 73,
   "id": "703d3ea5-2459-4770-a37c-7ecc0a4d6547",
   "metadata": {},
   "outputs": [
    {
     "name": "stdout",
     "output_type": "stream",
     "text": [
      "accuracy :  0.75\n",
      "f_1 score :  0.6363636363636364\n",
      "best params:  {'svc__C': 1, 'svc__degree': 3, 'svc__gamma': 'scale', 'svc__kernel': 'poly'}\n"
     ]
    }
   ],
   "source": [
    "pred_lda_sva = lda_tuned.predict(X_test)\n",
    "print('accuracy : ',accuracy_score(y_test, pred_lda_sva))\n",
    "print('f_1 score : ', f1_score(y_test, pred_lda_sva))\n",
    "print('best params: ', lda_tuned.best_params_)"
   ]
  },
  {
   "cell_type": "code",
   "execution_count": 74,
   "id": "ea2fd727-5574-412d-91db-ede84c897ea7",
   "metadata": {},
   "outputs": [],
   "source": [
    "###\n",
    "\n",
    "# LDA provided higher accuracy and f1 score than PCA with SVC\n",
    "# SVC with original data and PCA, had its best accuracy for linear kernel\n",
    "# unlike original data and PCA, LDA had irs best accuracy in degree=3 of polynomial kernel"
   ]
  },
  {
   "cell_type": "markdown",
   "id": "1edf4fd7-4113-4dfa-8ad9-ddc49ced388d",
   "metadata": {},
   "source": [
    "#### randomforest -- LDA"
   ]
  },
  {
   "cell_type": "code",
   "execution_count": 76,
   "id": "bc958cd8-e42a-46f9-93c1-3235abfab207",
   "metadata": {},
   "outputs": [
    {
     "name": "stdout",
     "output_type": "stream",
     "text": [
      "accuracy :  0.8125\n",
      "f_1 score :  0.7000000000000001\n",
      "best params:  {'randomforestclassifier__criterion': 'gini', 'randomforestclassifier__max_leaf_nodes': 6, 'randomforestclassifier__n_estimators': 200}\n"
     ]
    }
   ],
   "source": [
    "lda = LinearDiscriminantAnalysis(n_components=1)\n",
    "lda_preprocess = make_pipeline(lda, StandardScaler())\n",
    "lda_rf_model = make_pipeline(lda_preprocess, RandomForestClassifier())\n",
    "\n",
    "hyper_params = {\n",
    "    'randomforestclassifier__n_estimators': [50,100,200],\n",
    "    'randomforestclassifier__criterion': ['gini', 'entropy'],\n",
    "    'randomforestclassifier__max_leaf_nodes': [4,6,8]\n",
    "}\n",
    "\n",
    "lda_rf_tuned = GridSearchCV(rf_model, param_grid=hyper_params, cv=3, scoring='accuracy')\n",
    "lda_rf_tuned.fit(X_train, y_train)\n",
    "pred_lda_rf = lda_rf_tuned.predict(X_test)\n",
    "print('accuracy : ',accuracy_score(y_test, pred_lda_rf))\n",
    "print('f_1 score : ', f1_score(y_test, pred_lda_rf))\n",
    "print('best params: ', lda_rf_tuned.best_params_)"
   ]
  },
  {
   "cell_type": "code",
   "execution_count": 106,
   "id": "48c2169d-b9f5-4af2-9bf6-404a16a8b6f3",
   "metadata": {},
   "outputs": [],
   "source": [
    "####\n",
    "\n",
    "# higher accurcay score and f1 score with LDA randomforest than all PCA models!\n"
   ]
  },
  {
   "cell_type": "markdown",
   "id": "c2b894bb-a912-4e0c-8b67-c74f9f78c4e6",
   "metadata": {},
   "source": [
    "### feature selection - SelectKBest"
   ]
  },
  {
   "cell_type": "code",
   "execution_count": 107,
   "id": "5192caaa-6dcf-4b8a-9398-a5c79cba92c0",
   "metadata": {},
   "outputs": [],
   "source": [
    "from sklearn.feature_selection import SelectKBest, f_classif, chi2, mutual_info_classif"
   ]
  },
  {
   "cell_type": "code",
   "execution_count": 122,
   "id": "676defbd-9cbb-4987-a29f-174ac6f98f01",
   "metadata": {},
   "outputs": [
    {
     "name": "stdout",
     "output_type": "stream",
     "text": [
      "94\n",
      "94\n"
     ]
    }
   ],
   "source": [
    "print(len(X_train.select_dtypes(include=['number'])))\n",
    "print(len(X_train))"
   ]
  },
  {
   "cell_type": "code",
   "execution_count": 117,
   "id": "a0f5dfc8-8707-46d4-86a4-d70592fbf162",
   "metadata": {},
   "outputs": [
    {
     "name": "stdout",
     "output_type": "stream",
     "text": [
      "Data_length\n",
      "Age\n",
      "Gender, 0->Male, 1->Female\n"
     ]
    }
   ],
   "source": [
    "for col in X_train.select_dtypes(include=['number']):\n",
    "    if X_train.select_dtypes(include=['number'])[col].nunique() < 12:\n",
    "        print(col)"
   ]
  },
  {
   "cell_type": "code",
   "execution_count": 123,
   "id": "ecd66075-01ce-4f0b-a673-f7033eb14ddb",
   "metadata": {},
   "outputs": [],
   "source": [
    "### \n",
    "\n",
    "# all columns are numeric and according to their unique values could be considered continues\n",
    "# it could be acceptable to consider age as categorical but since its ordinal properties we keep it as continuous\n",
    "# gender is obviouslly categorical and it is the only categorical featrure\n"
   ]
  },
  {
   "cell_type": "code",
   "execution_count": 134,
   "id": "c0ef34da-4d17-4cd4-9e02-e595138571c1",
   "metadata": {},
   "outputs": [
    {
     "data": {
      "text/plain": [
       "Index(['Jitter->F0_abs_dif', 'Jitter->F0_dif_percent',\n",
       "       'Jitter->F0_PQ5_classical_Schoentgen', 'Jitter->F0_PQ5_classical_Baken',\n",
       "       'Jitter->F0_PQ5_generalised_Schoentgen', 'Jitter->F0_abs0th_perturb',\n",
       "       'Jitter->F0_CV', 'Jitter->F0_TKEO_mean', 'Jitter->F0_TKEO_std',\n",
       "       'Jitter->F0_TKEO_prc5',\n",
       "       ...\n",
       "       'det_TKEO_std4_4_coef', 'det_TKEO_std4_5_coef', 'det_TKEO_std4_6_coef',\n",
       "       'det_TKEO_std4_7_coef', 'det_TKEO_std4_8_coef', 'det_TKEO_std4_9_coef',\n",
       "       'det_TKEO_std4_10_coef', 'Subject_index', 'Age',\n",
       "       'Gender, 0->Male, 1->Female'],\n",
       "      dtype='object', length=313)"
      ]
     },
     "execution_count": 134,
     "metadata": {},
     "output_type": "execute_result"
    }
   ],
   "source": [
    "X_train.columns"
   ]
  },
  {
   "cell_type": "code",
   "execution_count": 151,
   "id": "638cde73-c0fc-4a39-bc13-3429f9466b7d",
   "metadata": {},
   "outputs": [
    {
     "data": {
      "text/plain": [
       "array(['num__MFCC_2nd coef', 'cat__Gender, 0->Male, 1->Female'],\n",
       "      dtype=object)"
      ]
     },
     "execution_count": 151,
     "metadata": {},
     "output_type": "execute_result"
    }
   ],
   "source": [
    "from sklearn.compose import ColumnTransformer\n",
    "\n",
    "# as long as categorical and numerical features have different methods in seleckbest, I seperated the\n",
    "# categorical and numerical features\n",
    "\n",
    "# there are two pipelines one for categorical and one for numerical with different selectkbest methods\n",
    "# finally, pipelines will be applied to entire data by columntransfer\n",
    "\n",
    "# k=2 for numerical features\n",
    "# k=1 for categorical feature (there is just one categorical feature)\n",
    "\n",
    "numeric_columns = pd.DataFrame(X_train).drop('Gender, 0->Male, 1->Female', axis=1).columns\n",
    "cat_columns = pd.DataFrame(X_train['Gender, 0->Male, 1->Female']).columns\n",
    "\n",
    "skb_num = make_pipeline(StandardScaler(), SelectKBest(f_classif, k=1))\n",
    "skb_cat = make_pipeline(SelectKBest(chi2, k=1))\n",
    "\n",
    "preprocessing = ColumnTransformer([\n",
    "    ('num', skb_num, numeric_columns),\n",
    "    ('cat', skb_num, cat_columns)\n",
    "])\n",
    "\n",
    "X_selected = preprocessing.fit_transform(X_train, y_train)\n",
    "preprocessing.get_feature_names_out()"
   ]
  },
  {
   "cell_type": "code",
   "execution_count": 152,
   "id": "663bdbad-91d7-41cb-beb6-274ea3d05d80",
   "metadata": {},
   "outputs": [
    {
     "data": {
      "text/plain": [
       "(94, 2)"
      ]
     },
     "execution_count": 152,
     "metadata": {},
     "output_type": "execute_result"
    }
   ],
   "source": [
    "X_selected.shape"
   ]
  },
  {
   "cell_type": "markdown",
   "id": "1149c0c9-f135-4624-bba3-ebb51b45cf19",
   "metadata": {},
   "source": [
    "#### SVC"
   ]
  },
  {
   "cell_type": "code",
   "execution_count": 155,
   "id": "3e95f087-9875-4362-8e66-e3d398bbb02b",
   "metadata": {},
   "outputs": [
    {
     "name": "stdout",
     "output_type": "stream",
     "text": [
      "accuracy :  0.8125\n",
      "f_1 score :  0.7272727272727273\n",
      "best params:  ['num__MFCC_2nd coef' 'cat__Gender, 0->Male, 1->Female']\n"
     ]
    }
   ],
   "source": [
    "skb_svc = make_pipeline(preprocessing, SVC())\n",
    "skb_svc.fit(X_train, y_train)\n",
    "predict_skb_svc = skb_svc.predict(X_test)\n",
    "print('accuracy : ',accuracy_score(y_test, predict_skb_svc))\n",
    "print('f_1 score : ', f1_score(y_test, predict_skb_svc))\n",
    "print('best params: ', preprocessing.get_feature_names_out())"
   ]
  },
  {
   "cell_type": "code",
   "execution_count": null,
   "id": "a3f2ffcf-4319-4fd7-92fc-29425dce411b",
   "metadata": {},
   "outputs": [],
   "source": [
    "# this time even greater accuracy and f1 score than all PCA and LDA models!"
   ]
  },
  {
   "cell_type": "code",
   "execution_count": null,
   "id": "f2191bd8-089b-4e22-a5f9-24ca838bd065",
   "metadata": {},
   "outputs": [],
   "source": []
  },
  {
   "cell_type": "code",
   "execution_count": null,
   "id": "1e498563-663e-4d82-abfc-d9275e391861",
   "metadata": {},
   "outputs": [],
   "source": []
  },
  {
   "cell_type": "code",
   "execution_count": null,
   "id": "6dce8049-f4c0-47a7-bcb1-808e6f41bf18",
   "metadata": {},
   "outputs": [],
   "source": []
  },
  {
   "cell_type": "code",
   "execution_count": null,
   "id": "83ecba3e-81f6-4bab-999a-f084e32dbd70",
   "metadata": {},
   "outputs": [],
   "source": []
  },
  {
   "cell_type": "code",
   "execution_count": null,
   "id": "5bdb80da-d781-4c23-8855-25e4adb3cad8",
   "metadata": {},
   "outputs": [],
   "source": []
  }
 ],
 "metadata": {
  "kernelspec": {
   "display_name": "Python 3 (ipykernel)",
   "language": "python",
   "name": "python3"
  },
  "language_info": {
   "codemirror_mode": {
    "name": "ipython",
    "version": 3
   },
   "file_extension": ".py",
   "mimetype": "text/x-python",
   "name": "python",
   "nbconvert_exporter": "python",
   "pygments_lexer": "ipython3",
   "version": "3.10.12"
  }
 },
 "nbformat": 4,
 "nbformat_minor": 5
}
