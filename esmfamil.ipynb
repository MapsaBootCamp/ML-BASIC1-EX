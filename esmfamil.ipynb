{
 "cells": [
  {
   "cell_type": "markdown",
   "metadata": {},
   "source": [
    "# بازی اسم‌فامیل"
   ]
  },
  {
   "cell_type": "markdown",
   "metadata": {},
   "source": [
    "سلیب که از تنهایی و خانه‌نشینی حوصله‌اش سر رفته تصمیم گرفته که دوستانش را دعوت کند تا با آن‌ها اسم‌فامیل بازی کند.\n",
    "\n",
    "بعد از رسیدن دوستان سلیب آن‌ها بازی را شروع کردند، اما بعد از تمام شدن دست اول در امتیاز‌دهی دچار مشکل شده‌اند. هیچ‌کس کلمات دیگری را قبول نداشت به همین خاطر نمره‌ی هر کلمه نامشخص بود.\n",
    "\n",
    "سلیب و دوستانش برنامه‌نویس هستند و فقط به برنامه‌ها اعتماد دارند. به همین خاطر از شما می‌خواهند برایشان برنامه‌ای بنویسید تا با دریافت فایل تمامی کلمات قابل قبول طبق قوانین ذکر شده، بتواند به او و دوستانش نمره‌ای صحیح بدهد.\n",
    "\n",
    "فایل کامل کلمات\n",
    "دوستان سلیب برای این که در امتیازدهی به مشکل نخورند یک فایل CSV آماده کردند که شامل همه کلمات درست است."
   ]
  },
  {
   "cell_type": "markdown",
   "metadata": {},
   "source": [
    "شما باید سه تابع با نام های ready_up و add_participant و calculate_all را برای سلیب پیاده‌سازی کنید.\n",
    "شما باید سه تابع با نام های \"ready_up\"  و شیی"
   ]
  },
  {
   "cell_type": "markdown",
   "metadata": {},
   "source": [
    "# ready_up"
   ]
  },
  {
   "cell_type": "code",
   "execution_count": 16,
   "metadata": {},
   "outputs": [],
   "source": [
    "import csv \n",
    "all_words={}\n",
    "sections=['esm','famil','keshvar','rang','ashia','ghaza']\n",
    "\n",
    "for section in sections :\n",
    "    all_words[section]=[]\n"
   ]
  },
  {
   "cell_type": "code",
   "execution_count": 17,
   "metadata": {},
   "outputs": [],
   "source": [
    "\n",
    "def normalize(s):\n",
    "    if not s:\n",
    "        return ''\n",
    "    return(s.replace(' ',''))"
   ]
  },
  {
   "cell_type": "code",
   "execution_count": 18,
   "metadata": {},
   "outputs": [],
   "source": [
    "\n",
    "def ready_up():\n",
    "    csvdata=open('esm_famil_data.csv')\n",
    "    reader=csv.reader(csvdata)\n",
    "    next(reader)\n",
    "    for row in reader:\n",
    "        all_words['esm'].append(normalize(row[0]))\n",
    "        all_words['famil'].append(normalize(row[1]))\n",
    "        all_words['keshvar'].append(normalize(row[2]))\n",
    "        all_words['rang'].append(normalize(row[3]))\n",
    "        all_words['ashia'].append(normalize(row[4]))\n",
    "        all_words['ghaza'].append(normalize(row[5]))\n",
    "ready_up()"
   ]
  },
  {
   "cell_type": "code",
   "execution_count": 1,
   "metadata": {
    "scrolled": false
   },
   "outputs": [],
   "source": [
    "#all_words"
   ]
  },
  {
   "cell_type": "markdown",
   "metadata": {},
   "source": [
    "# add_participant"
   ]
  },
  {
   "cell_type": "code",
   "execution_count": 20,
   "metadata": {},
   "outputs": [],
   "source": [
    "participents=[]\n",
    "def add_participents(participent,answers):\n",
    "    for section in sections:\n",
    "        #print(participent, answers, answers[section])\n",
    "        answers[section]=normalize(answers[section])\n",
    "        #print(answers)\n",
    "    participents.append({'name': participent, 'answers':answers})"
   ]
  },
  {
   "cell_type": "markdown",
   "metadata": {},
   "source": [
    "# نمونه بازی داده شده"
   ]
  },
  {
   "cell_type": "raw",
   "metadata": {
    "scrolled": true
   },
   "source": [
    "ready_up()\n",
    ">> add_participant(participant = 'salib', answers = {'esm': 'بردیا', 'famil': 'بابایی', 'keshvar': 'باربادوس', 'rang': 'بنفش', 'ashia': 'بمب', 'ghaza': 'باقالیپلو'})\n",
    ">> add_participant(participant = 'kianoush', answers = {'esm': 'بهرام', 'famil': 'بهرامی', 'keshvar': 'برزیل', 'rang': 'بلوطی', 'ashia': 'بیل', 'ghaza': 'به   پلو'})\n",
    ">> add_participant(participant = 'sajjad', answers = {'esm': 'بابک', 'famil': 'بهشتی', 'keshvar': 'باهاما', 'rang': 'بژ', 'ashia': '        ', 'ghaza': 'برنج خورشت'})\n",
    ">> add_participant(participant = 'farhad', answers = {'esm': 'بهرام', 'famil': 'براتی', 'keshvar': 'بببببب', 'rang': 'بژ', 'ashia': 'بیل', 'ghaza': 'باقلوا'})\n"
   ]
  },
  {
   "cell_type": "code",
   "execution_count": 22,
   "metadata": {},
   "outputs": [],
   "source": [
    "add_participents(participent = 'salib', answers = {'esm': 'بردیا', 'famil': 'بابایی', 'keshvar': 'باربادوس', 'rang': 'بنفش', 'ashia': 'بمب', 'ghaza': 'باقالیپلو'})\n",
    "add_participents(participent = 'kianoush', answers = {'esm': 'بهرام', 'famil': 'بهرامی', 'keshvar': 'برزیل', 'rang': 'بلوطی', 'ashia': 'بیل', 'ghaza': 'به   پلو'})\n",
    "add_participents(participent = 'sajjad', answers = {'esm': 'بابک', 'famil': 'بهشتی', 'keshvar': 'باهاما', 'rang': 'بژ', 'ashia': '        ', 'ghaza': 'برنج خورشت'})\n",
    "add_participents(participent = 'farhad', answers = {'esm': 'بهرام', 'famil': 'براتی', 'keshvar': 'بببببب', 'rang': 'بژ', 'ashia': 'بیل', 'ghaza': 'باقلوا'})"
   ]
  },
  {
   "cell_type": "code",
   "execution_count": 23,
   "metadata": {
    "scrolled": false
   },
   "outputs": [
    {
     "data": {
      "text/plain": [
       "[{'name': 'salib',\n",
       "  'answers': {'esm': 'بردیا',\n",
       "   'famil': 'بابایی',\n",
       "   'keshvar': 'باربادوس',\n",
       "   'rang': 'بنفش',\n",
       "   'ashia': 'بمب',\n",
       "   'ghaza': 'باقالیپلو'}},\n",
       " {'name': 'kianoush',\n",
       "  'answers': {'esm': 'بهرام',\n",
       "   'famil': 'بهرامی',\n",
       "   'keshvar': 'برزیل',\n",
       "   'rang': 'بلوطی',\n",
       "   'ashia': 'بیل',\n",
       "   'ghaza': 'بهپلو'}},\n",
       " {'name': 'sajjad',\n",
       "  'answers': {'esm': 'بابک',\n",
       "   'famil': 'بهشتی',\n",
       "   'keshvar': 'باهاما',\n",
       "   'rang': 'بژ',\n",
       "   'ashia': '',\n",
       "   'ghaza': 'برنجخورشت'}},\n",
       " {'name': 'farhad',\n",
       "  'answers': {'esm': 'بهرام',\n",
       "   'famil': 'براتی',\n",
       "   'keshvar': 'بببببب',\n",
       "   'rang': 'بژ',\n",
       "   'ashia': 'بیل',\n",
       "   'ghaza': 'باقلوا'}}]"
      ]
     },
     "execution_count": 23,
     "metadata": {},
     "output_type": "execute_result"
    }
   ],
   "source": [
    "participents"
   ]
  },
  {
   "cell_type": "markdown",
   "metadata": {},
   "source": [
    "# نتیجه مورد انتظار بازی"
   ]
  },
  {
   "cell_type": "raw",
   "metadata": {},
   "source": [
    ">> calculate_all()\n",
    "> {'salib': 65, 'kianoush': 55, 'sajjad': 45, 'farhad': 40}"
   ]
  },
  {
   "cell_type": "markdown",
   "metadata": {},
   "source": [
    "# calculate_all"
   ]
  },
  {
   "cell_type": "code",
   "execution_count": 25,
   "metadata": {},
   "outputs": [
    {
     "data": {
      "text/plain": [
       "{'salib': 65, 'kianoush': 55, 'sajjad': 45, 'farhad': 40}"
      ]
     },
     "execution_count": 25,
     "metadata": {},
     "output_type": "execute_result"
    }
   ],
   "source": [
    "def calculate_all():\n",
    "    scores={}\n",
    "    \n",
    "    for participent in participents:\n",
    "        this_name=participent['name']\n",
    "        this_answers=participent['answers']\n",
    "        scores[this_name]=0\n",
    "        for section in sections:\n",
    "            this_answer=normalize(this_answers.get(section,False))\n",
    "            if not this_answer or this_answer not in all_words[section] :\n",
    "                score=0\n",
    "            else:\n",
    "                duplicate=False\n",
    "                all_answered=True\n",
    "                for other in participents:\n",
    "                    \n",
    "                    if this_name==other['name']:\n",
    "                        continue\n",
    "                    other_answer=normalize(other['answers'][section])\n",
    "                    if other_answer==this_answer:\n",
    "                        duplicate=True\n",
    "                    if not normalize(other_answer):\n",
    "                        all_answered=False\n",
    "                if all_answered and duplicate:\n",
    "                    score=5\n",
    "                if not all_answered and duplicate:\n",
    "                    score=10\n",
    "                if all_answered and not duplicate:\n",
    "                    score=10\n",
    "                if not all_answered and not duplicate:\n",
    "                    score=15  \n",
    "            scores[this_name]+=score\n",
    "    return scores         \n",
    "\n",
    "calculate_all()"
   ]
  }
 ],
 "metadata": {
  "kernelspec": {
   "display_name": "Python 3 (ipykernel)",
   "language": "python",
   "name": "python3"
  },
  "language_info": {
   "codemirror_mode": {
    "name": "ipython",
    "version": 3
   },
   "file_extension": ".py",
   "mimetype": "text/x-python",
   "name": "python",
   "nbconvert_exporter": "python",
   "pygments_lexer": "ipython3",
   "version": "3.9.13"
  }
 },
 "nbformat": 4,
 "nbformat_minor": 2
}
