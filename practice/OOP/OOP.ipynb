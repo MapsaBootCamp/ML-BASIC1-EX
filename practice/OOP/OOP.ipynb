{
 "cells": [
  {
   "cell_type": "code",
   "execution_count": 2,
   "id": "initial_id",
   "metadata": {},
   "outputs": [],
   "source": [
    "import abc"
   ]
  },
  {
   "cell_type": "code",
   "execution_count": 27,
   "id": "8af1f163-355b-479e-af1b-f8addc47beae",
   "metadata": {},
   "outputs": [],
   "source": [
    "class Base(abc.ABC):\n",
    "    name:str='A'\n",
    "    \n",
    "    @abc.abstractmethod\n",
    "    def as_name(self):\n",
    "        return self.name"
   ]
  },
  {
   "cell_type": "code",
   "execution_count": 32,
   "id": "679b1091-29ce-4886-9383-54651785ecfb",
   "metadata": {
    "editable": true,
    "slideshow": {
     "slide_type": ""
    },
    "tags": []
   },
   "outputs": [],
   "source": [
    "class Product(Base):\n",
    "    number :int = 0\n",
    "    def as_name(self):\n",
    "        return self.name * 2"
   ]
  },
  {
   "cell_type": "code",
   "execution_count": 33,
   "id": "1da20bce-2b3d-4a9b-b4cf-6ac7eef3f1d8",
   "metadata": {},
   "outputs": [],
   "source": [
    "class ProductA(Base):\n",
    "    number :int = 0"
   ]
  },
  {
   "cell_type": "code",
   "execution_count": 34,
   "id": "2644c09d-cbc3-4797-ba53-a0aa1ea6ac31",
   "metadata": {},
   "outputs": [],
   "source": [
    "class ProductB(Base):\n",
    "    number :int = 0"
   ]
  },
  {
   "cell_type": "code",
   "execution_count": 35,
   "id": "1fbec644-9b52-4625-8e06-12f5c482520d",
   "metadata": {},
   "outputs": [],
   "source": [
    "p = Product()"
   ]
  },
  {
   "cell_type": "code",
   "execution_count": 36,
   "id": "ca193c27-b962-4cef-bda9-38c6cdd00787",
   "metadata": {},
   "outputs": [
    {
     "data": {
      "text/plain": [
       "'AA'"
      ]
     },
     "execution_count": 36,
     "metadata": {},
     "output_type": "execute_result"
    }
   ],
   "source": [
    "p.as_name()"
   ]
  },
  {
   "cell_type": "code",
   "execution_count": null,
   "id": "b9691753-be8f-4127-ba41-89b64cb43e1c",
   "metadata": {},
   "outputs": [],
   "source": []
  }
 ],
 "metadata": {
  "kernelspec": {
   "display_name": "Python 3 (ipykernel)",
   "language": "python",
   "name": "python3"
  },
  "language_info": {
   "codemirror_mode": {
    "name": "ipython",
    "version": 3
   },
   "file_extension": ".py",
   "mimetype": "text/x-python",
   "name": "python",
   "nbconvert_exporter": "python",
   "pygments_lexer": "ipython3",
   "version": "3.11.4"
  }
 },
 "nbformat": 4,
 "nbformat_minor": 5
}
