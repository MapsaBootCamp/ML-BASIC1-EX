{
 "cells": [
  {
   "cell_type": "markdown",
   "id": "ef1c28f1-faff-4108-aace-8233228a49a4",
   "metadata": {
    "editable": true,
    "slideshow": {
     "slide_type": ""
    },
    "tags": []
   },
   "source": [
    "<div id=\"sec_cp\" style=\"direction:rtl;line-height:300%;\">\n",
    "\n",
    "اکتشاف - تحلیل بیمه ۱\n",
    "\n",
    "از آن‌جایی که اوضاع مالی محمد، سجاد و هادی خیلی خوب شده، تصمیم گرفتند برای تنوع، امسال تعطیلات خود را به جای حیاط خلوت خانه حامد، در یک کشور خارجی سپری کنند. برای همین منظور، این افراد پس از انتخاب کشور مدنظر خود، چهار بلیط فرست کلس تهیه، چمدان های خود را بسته و راهی سفر پرماجرای خود شدند.توضیح تصویر\n",
    "\n",
    "آن ها پس از رسیدن به مقصد، به هتل ۵ ستاره از پیش رزرو شده خود رفتند و چمدان‌های خود را باز کردند. در همان لحظه محمد احساس سرگیجه و تب و لرز کرد. فردای آن روز حال محمد بدتر شد و مجبور شدند به یک بیمارستان تخصصی برای درمان محمد بروند و پس از درمان، هزینه سنگینی را برای دارو و ویزیت پرداخت کردند. فردای آن روز، حال محمد بهتر شد. پس از ولخرجی‌های‌ بسیار این چهار نفر و رفتن به رستوران و مراکز تفریحی گران!، به هتل برگشته و وسایل خود را برای برگشت به ایران آماده کردند، اما...\n",
    "\n",
    "گذرنامه و ویزاهای حامد و سجاد گم شده و دیگر به دلیل تمام شدن پولشان، نمی‌توانند گذرنامه و ویزای جدید بگیرند. هادی که دوست باتجربه‌تر این اکیپ محسوب می‌شد، به محمد و حامد و سجاد گفت، اگر قبل از سفر، خودمان را بیمه مسافرتی می‌کردیم، هم هزینه‌های ویزیت و دارو محمد را متحمل نمی‌شدیم و هم می‌توانستیم ویزا و گذرنامه حامد و سجاد را دوباره تهیه و هزینه آن را در ایران بپردازیم. همان جا تصمیم گرفتند به محض برگشت، یک شرکت بیمه مسافرتی تاسیس کنند! و از آن جایی که خیلی علاقه به هوش مصنوعی و تحلیل داده نیز دارند، تصمیم گرفتند که یک تحلیل‌گر داده به تیم خود اضافه کنند. شما از هم اکنون می‌توانید در آزمون استخدامی شرکت بیمه مسافرتی حمسه (حامد، محمد، سجاد و هادی) شرکت کنید. 😎\n",
    "\n",
    "دادگان\n",
    "می‌توانید دادگان این سوال را از این لینک دریافت کنید. هر ردیف دادگان آموزش train.csv، یک رکورد سفر مشتری بوده و مشخصات آن، طبق جدول زیر می‌باشد:\n",
    "\n",
    "توضیحات ستون\tنام ستون\n",
    "\n",
    "سن هر مشتری\tAge\n",
    "\n",
    "بخشی که در آن مشتری مشغول به کار است\tEmployment Type\n",
    "\n",
    "آیا مشتری فارغ التحصیل دانشگاه‌ است؟\tGraduateOrNot\n",
    "\n",
    "درآمد سالانه مشتری\tAnnualIncome\n",
    "\n",
    "\n",
    "تعداد اعضای خانواده مشتری\tFamilyMembers\n",
    "\n",
    "آیا مشتری از هر بیماری مهم یا شرایطی مانند دیابت، فشار خون بالا یا غیره رنج می برد؟\tChronicDiseases\n",
    "\n",
    "آیا مشتری در طول دو سال گذشته، حداقل چهار سفر داشته‌است؟\n",
    "FrequentFlyer\n",
    "\n",
    "آیا مشتری تا به حال به یک کشور خارجی سفر کرده‌است؟\t\n",
    "EverTravelledAbroad\n",
    "\n",
    "آیا مشتری بسته بیمه مسافرتی، خریداری کرده‌است؟\t\n",
    "TravelInsurance\n",
    "صورت مسئله\n",
    "در ابتدای کار، شما می‌خواهید با بررسی اولیه به اکتشاف در مجموعه دادگان آموزش (train.csv) بپردازید و به سوالات زیر پاسخ بدهید (مثال خروجی هر سوال، در زیر آن آورده شده‌است).\n",
    "\n",
    "ابتدا تعداد سطر و سپس تعداد ستون‌های این دادگان را به دست آورید‌ (با space، جدا کنید):\n",
    "\n",
    "1000 100\n",
    "\n",
    "متوسط درآمد سالانه مشتریان چه‌ قدر است (فقط قسمت عدد صحیح)؟\n",
    "\n",
    "5000\n",
    "\n",
    "چند نفر از مشتریان سابقه سفر خارجی داشته‌اند؟\n",
    "\n",
    "500\n",
    "\n",
    "بیشتر افراد، در بخش خصوصی به کار گرفته شده‌اند و یا بخش دولتی؟ چند درصد افراد در آن بخش مشغول هستند (با دقت دو رقم اعشار)؟\n",
    "\n",
    "Government Sector 12.34\n",
    "\n",
    "چند درصد از افرادی که بیماری زمینه‌ای دارند، خودشان را برای سفر بیمه کرده‌اند (دقت تا دو رقم اعشار)؟\n",
    "توجه\n",
    "\n",
    "70.75\n",
    "\n",
    "این مرحله در مجموع، شامل ۵ سوال (هر سوال، ۱۰ امتیاز) می‌باشد. در صورتی که به تمامی سوالات پاسخ صحیح بدهید، بایستی که بتوانید ۵۰ امتیاز از این مرحله کسب کنید.\n",
    "\n",
    "خروجی\n",
    "برای ارسال پاسخ، جواب هر سوال را مشابه‌ مثال، در یک سطر از یک فایل text بنویسید. در نهایت یک فایل پنج خطی با نام output.txt را برای ما بارگذاری کنید.\n",
    "\n",
    "در صورتی که جواب سوالی را نمی‌دانید در سطر مربوطه ۱- وارد کنید.\n",
    "\n",
    "نمونه خروجی ۱\n",
    "\n",
    "</div>"
   ]
  },
  {
   "cell_type": "code",
   "execution_count": 1,
   "id": "510f628c-3257-4f08-aa02-80c56fdb66a8",
   "metadata": {
    "editable": true,
    "slideshow": {
     "slide_type": ""
    },
    "tags": []
   },
   "outputs": [],
   "source": [
    "import pandas as pd "
   ]
  },
  {
   "cell_type": "code",
   "execution_count": 32,
   "id": "eb366148-d47e-46f5-92b3-e94cd200577d",
   "metadata": {
    "editable": true,
    "slideshow": {
     "slide_type": ""
    },
    "tags": []
   },
   "outputs": [
    {
     "name": "stdout",
     "output_type": "stream",
     "text": [
      "<class 'pandas.core.frame.DataFrame'>\n",
      "RangeIndex: 1590 entries, 0 to 1589\n",
      "Data columns (total 10 columns):\n",
      " #   Column               Non-Null Count  Dtype \n",
      "---  ------               --------------  ----- \n",
      " 0   Customer Id          1590 non-null   object\n",
      " 1   Age                  1590 non-null   int64 \n",
      " 2   Employment Type      1590 non-null   object\n",
      " 3   GraduateOrNot        1590 non-null   object\n",
      " 4   AnnualIncome         1590 non-null   int64 \n",
      " 5   FamilyMembers        1590 non-null   int64 \n",
      " 6   ChronicDiseases      1590 non-null   int64 \n",
      " 7   FrequentFlyer        1590 non-null   object\n",
      " 8   EverTravelledAbroad  1590 non-null   object\n",
      " 9   TravelInsurance      1590 non-null   object\n",
      "dtypes: int64(4), object(6)\n",
      "memory usage: 124.3+ KB\n"
     ]
    }
   ],
   "source": [
    "df = pd.read_csv('./travel_insurance/train.csv')\n",
    "\n",
    "df.info()"
   ]
  },
  {
   "cell_type": "code",
   "execution_count": 33,
   "id": "4bfcbbf1-882f-47c8-8e1c-799fbd9d9607",
   "metadata": {},
   "outputs": [
    {
     "data": {
      "text/html": [
       "<div>\n",
       "<style scoped>\n",
       "    .dataframe tbody tr th:only-of-type {\n",
       "        vertical-align: middle;\n",
       "    }\n",
       "\n",
       "    .dataframe tbody tr th {\n",
       "        vertical-align: top;\n",
       "    }\n",
       "\n",
       "    .dataframe thead th {\n",
       "        text-align: right;\n",
       "    }\n",
       "</style>\n",
       "<table border=\"1\" class=\"dataframe\">\n",
       "  <thead>\n",
       "    <tr style=\"text-align: right;\">\n",
       "      <th></th>\n",
       "      <th>Customer Id</th>\n",
       "      <th>Age</th>\n",
       "      <th>Employment Type</th>\n",
       "      <th>GraduateOrNot</th>\n",
       "      <th>AnnualIncome</th>\n",
       "      <th>FamilyMembers</th>\n",
       "      <th>ChronicDiseases</th>\n",
       "      <th>FrequentFlyer</th>\n",
       "      <th>EverTravelledAbroad</th>\n",
       "      <th>TravelInsurance</th>\n",
       "    </tr>\n",
       "  </thead>\n",
       "  <tbody>\n",
       "    <tr>\n",
       "      <th>0</th>\n",
       "      <td>3JUN0VW6F043</td>\n",
       "      <td>34</td>\n",
       "      <td>Private Sector/Self Employed</td>\n",
       "      <td>Yes</td>\n",
       "      <td>1300000</td>\n",
       "      <td>6</td>\n",
       "      <td>0</td>\n",
       "      <td>Yes</td>\n",
       "      <td>No</td>\n",
       "      <td>No</td>\n",
       "    </tr>\n",
       "    <tr>\n",
       "      <th>1</th>\n",
       "      <td>VLHY2ABIR4QL</td>\n",
       "      <td>28</td>\n",
       "      <td>Private Sector/Self Employed</td>\n",
       "      <td>Yes</td>\n",
       "      <td>750000</td>\n",
       "      <td>7</td>\n",
       "      <td>0</td>\n",
       "      <td>Yes</td>\n",
       "      <td>No</td>\n",
       "      <td>No</td>\n",
       "    </tr>\n",
       "  </tbody>\n",
       "</table>\n",
       "</div>"
      ],
      "text/plain": [
       "    Customer Id  Age               Employment Type GraduateOrNot  \\\n",
       "0  3JUN0VW6F043   34  Private Sector/Self Employed           Yes   \n",
       "1  VLHY2ABIR4QL   28  Private Sector/Self Employed           Yes   \n",
       "\n",
       "   AnnualIncome  FamilyMembers  ChronicDiseases FrequentFlyer  \\\n",
       "0       1300000              6                0           Yes   \n",
       "1        750000              7                0           Yes   \n",
       "\n",
       "  EverTravelledAbroad TravelInsurance  \n",
       "0                  No              No  \n",
       "1                  No              No  "
      ]
     },
     "execution_count": 33,
     "metadata": {},
     "output_type": "execute_result"
    }
   ],
   "source": [
    "df.head(2)"
   ]
  },
  {
   "cell_type": "markdown",
   "id": "963ef709-e811-4e3b-ac60-6f454d0bcfbb",
   "metadata": {
    "jp-MarkdownHeadingCollapsed": true
   },
   "source": [
    "## Q1\n",
    "\n",
    "ابتدا تعداد سطر و سپس تعداد ستون‌های این دادگان را به دست آورید‌ (با space، جدا کنید):\n"
   ]
  },
  {
   "cell_type": "code",
   "execution_count": 16,
   "id": "ed78c3a4-1351-4f61-a348-908e34198603",
   "metadata": {},
   "outputs": [
    {
     "data": {
      "text/plain": [
       "(10, 1590)"
      ]
     },
     "execution_count": 16,
     "metadata": {},
     "output_type": "execute_result"
    }
   ],
   "source": [
    "len(df.columns), len(df.index)"
   ]
  },
  {
   "cell_type": "markdown",
   "id": "72e62914-89ad-4bda-98fe-2e6f7244ad25",
   "metadata": {
    "editable": true,
    "jp-MarkdownHeadingCollapsed": true,
    "slideshow": {
     "slide_type": ""
    },
    "tags": []
   },
   "source": [
    "## Q2\n",
    "متوسط درآمد سالانه مشتریان چه‌ قدر است (فقط قسمت عدد صحیح)؟\n"
   ]
  },
  {
   "cell_type": "code",
   "execution_count": 22,
   "id": "bae81adb-2f0b-4ffc-8cb0-d801758d2f9c",
   "metadata": {},
   "outputs": [
    {
     "data": {
      "text/plain": [
       "928553"
      ]
     },
     "execution_count": 22,
     "metadata": {},
     "output_type": "execute_result"
    }
   ],
   "source": [
    "round(df.AnnualIncome.mean())"
   ]
  },
  {
   "cell_type": "markdown",
   "id": "234ca4e2-d07b-457f-b6e4-9e9ab9185d10",
   "metadata": {
    "editable": true,
    "slideshow": {
     "slide_type": ""
    },
    "tags": []
   },
   "source": [
    "# Q3\n",
    "چند نفر از مشتریان سابقه سفر خارجی داشته‌اند؟\n"
   ]
  },
  {
   "cell_type": "code",
   "execution_count": 29,
   "id": "f6a4c52f-a815-4364-b0d1-47f1b124933e",
   "metadata": {},
   "outputs": [
    {
     "data": {
      "text/plain": [
       "302"
      ]
     },
     "execution_count": 29,
     "metadata": {},
     "output_type": "execute_result"
    }
   ],
   "source": [
    "df.EverTravelledAbroad[df.EverTravelledAbroad =='Yes'].count()"
   ]
  },
  {
   "cell_type": "markdown",
   "id": "63aac999-ffce-41b7-9c7e-c9658e35e9da",
   "metadata": {},
   "source": [
    "## Q4\n",
    "بیشتر افراد، در بخش خصوصی به کار گرفته شده‌اند و یا بخش دولتی؟ چند درصد افراد در آن بخش مشغول هستند (با دقت دو رقم اعشار)؟"
   ]
  },
  {
   "cell_type": "code",
   "execution_count": 41,
   "id": "4b3f93b4-6c9a-4749-8e20-1501c0b0dff4",
   "metadata": {
    "editable": true,
    "slideshow": {
     "slide_type": ""
    },
    "tags": []
   },
   "outputs": [
    {
     "data": {
      "text/plain": [
       "27.36"
      ]
     },
     "execution_count": 41,
     "metadata": {},
     "output_type": "execute_result"
    }
   ],
   "source": [
    "self_emp = df[\"Employment Type\"][df[\"Employment Type\"] =='Private Sector/Self Employed'].count()\n",
    "total_emp= len(df.index)\n",
    "gov_emp =  total_emp- self_emp\n",
    "round((gov_emp/total_emp)*100,2)"
   ]
  },
  {
   "cell_type": "markdown",
   "id": "c8e67410-9534-4aa5-9c5a-c46b71b722ed",
   "metadata": {},
   "source": [
    "## Q5\n",
    "\n",
    "چند درصد از افرادی که بیماری زمینه‌ای دارند، خودشان را برای سفر بیمه کرده‌اند (دقت تا دو رقم اعشار)؟\n"
   ]
  },
  {
   "cell_type": "code",
   "execution_count": 106,
   "id": "40b48a22-35ea-468b-a186-4e20eb8f2d5c",
   "metadata": {
    "editable": true,
    "slideshow": {
     "slide_type": ""
    },
    "tags": []
   },
   "outputs": [
    {
     "data": {
      "text/plain": [
       "10.5"
      ]
     },
     "execution_count": 106,
     "metadata": {},
     "output_type": "execute_result"
    }
   ],
   "source": [
    "disease_insurance_count = df[\"ChronicDiseases\"].loc[(df.ChronicDiseases.gt(0)) & (df.TravelInsurance.eq('Yes'))].count()\n",
    "\n",
    "round((disease_insurance_count / total_emp)*100,2)"
   ]
  },
  {
   "cell_type": "code",
   "execution_count": null,
   "id": "5e6bc4e2-cb08-4bde-98a5-21b8bd5ba13e",
   "metadata": {
    "editable": true,
    "slideshow": {
     "slide_type": ""
    },
    "tags": []
   },
   "outputs": [],
   "source": []
  }
 ],
 "metadata": {
  "kernelspec": {
   "display_name": "Python 3 (ipykernel)",
   "language": "python",
   "name": "python3"
  },
  "language_info": {
   "codemirror_mode": {
    "name": "ipython",
    "version": 3
   },
   "file_extension": ".py",
   "mimetype": "text/x-python",
   "name": "python",
   "nbconvert_exporter": "python",
   "pygments_lexer": "ipython3",
   "version": "3.11.4"
  }
 },
 "nbformat": 4,
 "nbformat_minor": 5
}
