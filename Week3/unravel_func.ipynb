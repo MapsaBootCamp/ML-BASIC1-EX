{
 "cells": [
  {
   "cell_type": "code",
   "execution_count": 2,
   "id": "85322803-b948-49f2-8d12-35ec80355138",
   "metadata": {},
   "outputs": [],
   "source": [
    "import numpy as np"
   ]
  },
  {
   "cell_type": "code",
   "execution_count": 480,
   "id": "1c1fa2e0-6bca-4eca-9c4a-4c63dff91c55",
   "metadata": {},
   "outputs": [],
   "source": [
    "def unravel_index_(indx, shape):\n",
    "    if not shape:\n",
    "        print(\"shape must be a non empty tuple\")\n",
    "        return\n",
    "        \n",
    "    if type(indx) == int:\n",
    "        \n",
    "        if indx < 0:\n",
    "            print(\"index cannot be negative\")\n",
    "            return\n",
    "                \n",
    "        size = 1\n",
    "        for num in shape:\n",
    "            size *= num\n",
    "        if size <= indx:\n",
    "            print(\"index out of bounds\")\n",
    "            return\n",
    "            \n",
    "        indices = []\n",
    "        for dim in reversed(shape):\n",
    "            indices.append(indx % dim)\n",
    "            indx //= dim\n",
    "        indices.reverse()\n",
    "        return tuple(indices)\n",
    "\n",
    "    \n",
    "    if type(indx) == list:\n",
    "\n",
    "        size = 1\n",
    "        for i in shape:\n",
    "            size *= i\n",
    "        for num in indx:\n",
    "            if size <= num:\n",
    "                print(\"index out of bounds\")\n",
    "                return\n",
    "    \n",
    "        item_indices = []\n",
    "        for item in indx:\n",
    "            index = 0\n",
    "            for dim in reversed(shape):\n",
    "                if len(item_indices) != len(shape):\n",
    "                    item_indices.append(np.array([item % dim]))\n",
    "                    item //= dim\n",
    "                else:\n",
    "                    item_indices[index] = np.append(item_indices[index], item % dim)\n",
    "                    item //= dim\n",
    "                    index += 1\n",
    "        item_indices.reverse()\n",
    "        return tuple(item_indices)\n",
    "         \n",
    "        \n",
    "    else:print('only int indices permitted')\n",
    "        "
   ]
  },
  {
   "cell_type": "code",
   "execution_count": 485,
   "id": "065caa3e-4c77-47e6-8e60-1e2347528af8",
   "metadata": {},
   "outputs": [
    {
     "name": "stdout",
     "output_type": "stream",
     "text": [
      "4.82 µs ± 431 ns per loop (mean ± std. dev. of 7 runs, 10,000 loops each)\n"
     ]
    }
   ],
   "source": [
    "\n",
    "%timeit -n 10000 unravel_index_([123456000], (1131,2223,3323,1244,525))"
   ]
  },
  {
   "cell_type": "code",
   "execution_count": 486,
   "id": "ea192885-f466-4174-83d0-e18abbae144b",
   "metadata": {},
   "outputs": [
    {
     "name": "stdout",
     "output_type": "stream",
     "text": [
      "2.57 µs ± 669 ns per loop (mean ± std. dev. of 7 runs, 10,000 loops each)\n"
     ]
    }
   ],
   "source": [
    "%timeit -n 10000 np.unravel_index([123456000], (1131,2223,3323,1244,525))"
   ]
  },
  {
   "cell_type": "code",
   "execution_count": null,
   "id": "bbd09e6f-7f51-4722-bf8a-266388761bac",
   "metadata": {},
   "outputs": [],
   "source": []
  },
  {
   "cell_type": "code",
   "execution_count": null,
   "id": "8c43501b-9237-4a0d-b949-9ad4f1422fe0",
   "metadata": {},
   "outputs": [],
   "source": []
  }
 ],
 "metadata": {
  "kernelspec": {
   "display_name": "Python 3 (ipykernel)",
   "language": "python",
   "name": "python3"
  },
  "language_info": {
   "codemirror_mode": {
    "name": "ipython",
    "version": 3
   },
   "file_extension": ".py",
   "mimetype": "text/x-python",
   "name": "python",
   "nbconvert_exporter": "python",
   "pygments_lexer": "ipython3",
   "version": "3.10.12"
  }
 },
 "nbformat": 4,
 "nbformat_minor": 5
}
