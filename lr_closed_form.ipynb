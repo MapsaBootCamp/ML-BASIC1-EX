{
 "cells": [
  {
   "cell_type": "code",
   "execution_count": 2,
   "id": "0f2934a4-75c1-48b7-8f2f-cc174de47783",
   "metadata": {},
   "outputs": [],
   "source": [
    "import pandas as pd\n",
    "import numpy as np\n",
    "import matplotlib.pyplot as plt\n",
    "import seaborn as sns"
   ]
  },
  {
   "cell_type": "code",
   "execution_count": 5,
   "id": "111b4128-e6f1-4c3f-8acf-7ab1d6967986",
   "metadata": {},
   "outputs": [],
   "source": [
    "df_raw = pd.read_csv('housing.csv')"
   ]
  },
  {
   "cell_type": "code",
   "execution_count": 6,
   "id": "27147691-8642-47d4-a1d1-6c68e5e132ed",
   "metadata": {},
   "outputs": [
    {
     "data": {
      "text/html": [
       "<div>\n",
       "<style scoped>\n",
       "    .dataframe tbody tr th:only-of-type {\n",
       "        vertical-align: middle;\n",
       "    }\n",
       "\n",
       "    .dataframe tbody tr th {\n",
       "        vertical-align: top;\n",
       "    }\n",
       "\n",
       "    .dataframe thead th {\n",
       "        text-align: right;\n",
       "    }\n",
       "</style>\n",
       "<table border=\"1\" class=\"dataframe\">\n",
       "  <thead>\n",
       "    <tr style=\"text-align: right;\">\n",
       "      <th></th>\n",
       "      <th>longitude</th>\n",
       "      <th>latitude</th>\n",
       "      <th>housing_median_age</th>\n",
       "      <th>total_rooms</th>\n",
       "      <th>total_bedrooms</th>\n",
       "      <th>population</th>\n",
       "      <th>households</th>\n",
       "      <th>median_income</th>\n",
       "      <th>median_house_value</th>\n",
       "      <th>ocean_proximity</th>\n",
       "    </tr>\n",
       "  </thead>\n",
       "  <tbody>\n",
       "    <tr>\n",
       "      <th>0</th>\n",
       "      <td>-122.23</td>\n",
       "      <td>37.88</td>\n",
       "      <td>41.0</td>\n",
       "      <td>880.0</td>\n",
       "      <td>129.0</td>\n",
       "      <td>322.0</td>\n",
       "      <td>126.0</td>\n",
       "      <td>8.3252</td>\n",
       "      <td>452600.0</td>\n",
       "      <td>NEAR BAY</td>\n",
       "    </tr>\n",
       "    <tr>\n",
       "      <th>1</th>\n",
       "      <td>-122.22</td>\n",
       "      <td>37.86</td>\n",
       "      <td>21.0</td>\n",
       "      <td>7099.0</td>\n",
       "      <td>1106.0</td>\n",
       "      <td>2401.0</td>\n",
       "      <td>1138.0</td>\n",
       "      <td>8.3014</td>\n",
       "      <td>358500.0</td>\n",
       "      <td>NEAR BAY</td>\n",
       "    </tr>\n",
       "    <tr>\n",
       "      <th>2</th>\n",
       "      <td>-122.24</td>\n",
       "      <td>37.85</td>\n",
       "      <td>52.0</td>\n",
       "      <td>1467.0</td>\n",
       "      <td>190.0</td>\n",
       "      <td>496.0</td>\n",
       "      <td>177.0</td>\n",
       "      <td>7.2574</td>\n",
       "      <td>352100.0</td>\n",
       "      <td>NEAR BAY</td>\n",
       "    </tr>\n",
       "    <tr>\n",
       "      <th>3</th>\n",
       "      <td>-122.25</td>\n",
       "      <td>37.85</td>\n",
       "      <td>52.0</td>\n",
       "      <td>1274.0</td>\n",
       "      <td>235.0</td>\n",
       "      <td>558.0</td>\n",
       "      <td>219.0</td>\n",
       "      <td>5.6431</td>\n",
       "      <td>341300.0</td>\n",
       "      <td>NEAR BAY</td>\n",
       "    </tr>\n",
       "    <tr>\n",
       "      <th>4</th>\n",
       "      <td>-122.25</td>\n",
       "      <td>37.85</td>\n",
       "      <td>52.0</td>\n",
       "      <td>1627.0</td>\n",
       "      <td>280.0</td>\n",
       "      <td>565.0</td>\n",
       "      <td>259.0</td>\n",
       "      <td>3.8462</td>\n",
       "      <td>342200.0</td>\n",
       "      <td>NEAR BAY</td>\n",
       "    </tr>\n",
       "  </tbody>\n",
       "</table>\n",
       "</div>"
      ],
      "text/plain": [
       "   longitude  latitude  housing_median_age  total_rooms  total_bedrooms  \\\n",
       "0    -122.23     37.88                41.0        880.0           129.0   \n",
       "1    -122.22     37.86                21.0       7099.0          1106.0   \n",
       "2    -122.24     37.85                52.0       1467.0           190.0   \n",
       "3    -122.25     37.85                52.0       1274.0           235.0   \n",
       "4    -122.25     37.85                52.0       1627.0           280.0   \n",
       "\n",
       "   population  households  median_income  median_house_value ocean_proximity  \n",
       "0       322.0       126.0         8.3252            452600.0        NEAR BAY  \n",
       "1      2401.0      1138.0         8.3014            358500.0        NEAR BAY  \n",
       "2       496.0       177.0         7.2574            352100.0        NEAR BAY  \n",
       "3       558.0       219.0         5.6431            341300.0        NEAR BAY  \n",
       "4       565.0       259.0         3.8462            342200.0        NEAR BAY  "
      ]
     },
     "execution_count": 6,
     "metadata": {},
     "output_type": "execute_result"
    }
   ],
   "source": [
    "df_raw.head()"
   ]
  },
  {
   "cell_type": "code",
   "execution_count": 98,
   "id": "e8acaff4-f81b-42ca-84ad-e7c46631d4cf",
   "metadata": {},
   "outputs": [],
   "source": [
    "df = df_raw[['median_income', 'population', 'median_house_value']]"
   ]
  },
  {
   "cell_type": "code",
   "execution_count": 99,
   "id": "93409812-0979-4abf-834a-541055bbecf0",
   "metadata": {},
   "outputs": [
    {
     "data": {
      "text/plain": [
       "(20640, 3)"
      ]
     },
     "execution_count": 99,
     "metadata": {},
     "output_type": "execute_result"
    }
   ],
   "source": [
    "df.shape"
   ]
  },
  {
   "cell_type": "code",
   "execution_count": 101,
   "id": "db7e170c-4f79-4083-8f83-558cee790cd2",
   "metadata": {},
   "outputs": [],
   "source": [
    "df.columns=['income', 'population', 'value']"
   ]
  },
  {
   "cell_type": "code",
   "execution_count": 102,
   "id": "578a221a-2920-46fd-8ee3-09d6561e9e11",
   "metadata": {},
   "outputs": [],
   "source": [
    "x = df.drop('value', axis=1)\n",
    "y = df['value'].copy()"
   ]
  },
  {
   "cell_type": "code",
   "execution_count": 103,
   "id": "5b90f7dc-606b-48a7-887a-1149e236b2f1",
   "metadata": {},
   "outputs": [],
   "source": [
    "X = x.to_numpy()\n",
    "Y = y.to_numpy()"
   ]
  },
  {
   "cell_type": "code",
   "execution_count": 104,
   "id": "3965f08a-bb31-49ff-9c17-685127f44fb3",
   "metadata": {},
   "outputs": [],
   "source": [
    "# X = np.array(X_array)\n",
    "# X = np.array(Y_array)"
   ]
  },
  {
   "cell_type": "code",
   "execution_count": 105,
   "id": "e0531132-3b12-4ec8-8622-3cc204f90f46",
   "metadata": {},
   "outputs": [],
   "source": [
    "XTX = X.T.dot(X)\n",
    "XTY = X.T.dot(Y)"
   ]
  },
  {
   "cell_type": "code",
   "execution_count": 106,
   "id": "afc114f8-9a49-4d43-8c6c-ed1fa7587748",
   "metadata": {},
   "outputs": [],
   "source": [
    "beta_hat = np.linalg.inv(XTX).dot(XTY)"
   ]
  },
  {
   "cell_type": "code",
   "execution_count": 107,
   "id": "562be6cc-2e4c-446a-915c-4469ac3354ff",
   "metadata": {},
   "outputs": [],
   "source": [
    "# β_hat = (X.T.dot(X))^(-1).dot(X.T).dot(Y)"
   ]
  },
  {
   "cell_type": "code",
   "execution_count": null,
   "id": "eea6fc84-4f1b-485b-94b3-98c633298c5b",
   "metadata": {},
   "outputs": [],
   "source": []
  },
  {
   "cell_type": "code",
   "execution_count": null,
   "id": "0868988c-03ce-43e9-ab0f-892b9ee8cff0",
   "metadata": {},
   "outputs": [],
   "source": []
  },
  {
   "cell_type": "code",
   "execution_count": null,
   "id": "87784740-36d3-4555-b4fa-7d7204248cbb",
   "metadata": {},
   "outputs": [],
   "source": []
  },
  {
   "cell_type": "code",
   "execution_count": 169,
   "id": "f433f07f-e163-44be-8074-25150375cd11",
   "metadata": {},
   "outputs": [],
   "source": [
    "def linear_regression(features, label):\n",
    "    if (type(features)==np.ndarray) & (type(label)==np.ndarray):\n",
    "        X = features\n",
    "        Y = label\n",
    "    elif (type(features)==pd.core.frame.DataFrame) & (type(label)==pd.core.series.Series):\n",
    "        X = features.to_numpy()\n",
    "        Y = label.to_numpy()\n",
    "    else: print('input dataframe of numpyarray')\n",
    "    XTX = X.T.dot(X)\n",
    "    XTY = X.T.dot(Y)\n",
    "    beta_hat = np.linalg.inv(XTX).dot(XTY)\n",
    "    print('linear coefficients: ', beta_hat)\n",
    "    coef=[]\n",
    "    # for item in np.arange(X.shape[1]):\n",
    "    for item in np.arange(len(beta_hat)):\n",
    "        coef.append(beta_hat[item])\n",
    "        return coef"
   ]
  },
  {
   "cell_type": "code",
   "execution_count": 170,
   "id": "3b376a05-aaac-4eda-b983-a886db5a9df7",
   "metadata": {},
   "outputs": [
    {
     "name": "stdout",
     "output_type": "stream",
     "text": [
      "linear coefficients:  [4.96281105e+04 5.22124441e+00]\n"
     ]
    },
    {
     "data": {
      "text/plain": [
       "[49628.110537575274]"
      ]
     },
     "execution_count": 170,
     "metadata": {},
     "output_type": "execute_result"
    }
   ],
   "source": [
    "linear_regression(x,y)"
   ]
  },
  {
   "cell_type": "code",
   "execution_count": 167,
   "id": "df5bb196-d32d-4291-99a4-ace266b0157a",
   "metadata": {},
   "outputs": [
    {
     "name": "stdout",
     "output_type": "stream",
     "text": [
      "linear coefficients:  [4.96281105e+04 5.22124441e+00]\n"
     ]
    }
   ],
   "source": [
    "linear_regression(X,Y)"
   ]
  },
  {
   "cell_type": "code",
   "execution_count": null,
   "id": "4f5fdeca-038b-4349-92a0-a32bd4889b28",
   "metadata": {},
   "outputs": [],
   "source": []
  },
  {
   "cell_type": "code",
   "execution_count": null,
   "id": "a91ac72c-bf46-416b-bdb9-d437304fdff2",
   "metadata": {},
   "outputs": [],
   "source": []
  },
  {
   "cell_type": "code",
   "execution_count": null,
   "id": "22327dac-fc2a-4c0c-8986-97b087ab7a37",
   "metadata": {},
   "outputs": [],
   "source": []
  },
  {
   "cell_type": "code",
   "execution_count": null,
   "id": "00dd33af-b96d-404b-9f7a-f80a10c69f56",
   "metadata": {},
   "outputs": [],
   "source": []
  },
  {
   "cell_type": "code",
   "execution_count": null,
   "id": "137c40b1-5341-413c-898e-35c960fa5ed4",
   "metadata": {},
   "outputs": [],
   "source": []
  },
  {
   "cell_type": "code",
   "execution_count": null,
   "id": "3cd2588b-66f2-41ab-b3d6-791f8cda07bf",
   "metadata": {},
   "outputs": [],
   "source": []
  },
  {
   "cell_type": "code",
   "execution_count": null,
   "id": "e8a4d294-046f-47ad-84ca-74e96fc1b06c",
   "metadata": {},
   "outputs": [],
   "source": []
  },
  {
   "cell_type": "code",
   "execution_count": null,
   "id": "e72e8661-31c7-476a-bdb0-82c4af4b3279",
   "metadata": {},
   "outputs": [],
   "source": []
  },
  {
   "cell_type": "code",
   "execution_count": null,
   "id": "a3a448c8-e998-4580-bcde-0eda84a749cc",
   "metadata": {},
   "outputs": [],
   "source": []
  },
  {
   "cell_type": "code",
   "execution_count": null,
   "id": "97b403f1-7d7e-4a6a-89d2-35cd2c0ed090",
   "metadata": {},
   "outputs": [],
   "source": []
  },
  {
   "cell_type": "code",
   "execution_count": 81,
   "id": "a4baf6a4-eb90-444f-821b-bf77ec59bef3",
   "metadata": {},
   "outputs": [
    {
     "name": "stdout",
     "output_type": "stream",
     "text": [
      "Estimated coefficients (beta_hat): [1.3 0.7]\n"
     ]
    }
   ],
   "source": [
    "# import numpy as np\n",
    "\n",
    "# Generate example data\n",
    "X = np.array([[1, 2], [1, 3], [1, 4], [1, 5]])  # Feature matrix with an added column of ones\n",
    "Y = np.array([2, 4, 5, 4])  # Target vector\n",
    "\n",
    "# Calculate the closed-form solution for beta\n",
    "XTX = X.T.dot(X)\n",
    "XTY = X.T.dot(Y)\n",
    "beta_hat = np.linalg.inv(XTX).dot(XTY)\n",
    "\n",
    "print(\"Estimated coefficients (beta_hat):\", beta_hat)\n"
   ]
  },
  {
   "cell_type": "code",
   "execution_count": 82,
   "id": "8b736342-564e-4d74-9b1f-ca064a81e35a",
   "metadata": {},
   "outputs": [
    {
     "data": {
      "text/plain": [
       "(4, 2)"
      ]
     },
     "execution_count": 82,
     "metadata": {},
     "output_type": "execute_result"
    }
   ],
   "source": [
    "X.shape"
   ]
  },
  {
   "cell_type": "code",
   "execution_count": 83,
   "id": "f316f5d1-bcd8-4d89-99d1-96a31e0e3218",
   "metadata": {},
   "outputs": [
    {
     "data": {
      "text/plain": [
       "(2, 2)"
      ]
     },
     "execution_count": 83,
     "metadata": {},
     "output_type": "execute_result"
    }
   ],
   "source": [
    "XTX.shape"
   ]
  },
  {
   "cell_type": "code",
   "execution_count": 84,
   "id": "d9ca1091-a68a-4474-99a1-88524cab2789",
   "metadata": {},
   "outputs": [
    {
     "data": {
      "text/plain": [
       "array([[ 4, 14],\n",
       "       [14, 54]])"
      ]
     },
     "execution_count": 84,
     "metadata": {},
     "output_type": "execute_result"
    }
   ],
   "source": [
    "XTX"
   ]
  },
  {
   "cell_type": "code",
   "execution_count": 85,
   "id": "f43951b6-cfbe-4e79-8ac7-fe0f59204c4c",
   "metadata": {},
   "outputs": [
    {
     "data": {
      "text/plain": [
       "array([15, 56])"
      ]
     },
     "execution_count": 85,
     "metadata": {},
     "output_type": "execute_result"
    }
   ],
   "source": [
    "XTY"
   ]
  },
  {
   "cell_type": "code",
   "execution_count": null,
   "id": "0a103ae3-5094-4831-b7e7-8dce5962e68d",
   "metadata": {},
   "outputs": [],
   "source": []
  },
  {
   "cell_type": "code",
   "execution_count": null,
   "id": "8d4568d5-6c1c-4b79-8b19-10a100a465cc",
   "metadata": {},
   "outputs": [],
   "source": []
  },
  {
   "cell_type": "code",
   "execution_count": null,
   "id": "d81d6994-d5d5-49f3-9e3a-b96d8355ba51",
   "metadata": {},
   "outputs": [],
   "source": []
  },
  {
   "cell_type": "code",
   "execution_count": null,
   "id": "8d86c820-b6a0-4b80-8105-fca4b18bd84f",
   "metadata": {},
   "outputs": [],
   "source": []
  },
  {
   "cell_type": "code",
   "execution_count": null,
   "id": "67da32bb-9809-46e8-805e-89d4457354a9",
   "metadata": {},
   "outputs": [],
   "source": []
  },
  {
   "cell_type": "code",
   "execution_count": null,
   "id": "5fdc0c1d-7633-4ff9-858d-94e2e063fd7a",
   "metadata": {},
   "outputs": [],
   "source": []
  },
  {
   "cell_type": "code",
   "execution_count": null,
   "id": "77f6f6d8-ce31-4f06-b43d-dae72673b9c0",
   "metadata": {},
   "outputs": [],
   "source": []
  },
  {
   "cell_type": "code",
   "execution_count": null,
   "id": "f61c0cb7-ec9c-4f27-9415-a71dba247a58",
   "metadata": {},
   "outputs": [],
   "source": []
  },
  {
   "cell_type": "code",
   "execution_count": null,
   "id": "3a2e19be-693f-45d2-8420-dd02affd0a25",
   "metadata": {},
   "outputs": [],
   "source": []
  },
  {
   "cell_type": "code",
   "execution_count": null,
   "id": "b19178b7-44db-45c5-ace2-1b140355b5c6",
   "metadata": {},
   "outputs": [],
   "source": []
  },
  {
   "cell_type": "code",
   "execution_count": null,
   "id": "6d896195-bc41-41cd-bb69-6f67895f26c7",
   "metadata": {},
   "outputs": [],
   "source": []
  },
  {
   "cell_type": "code",
   "execution_count": null,
   "id": "a7e7d5ff-511e-47fe-9c56-8f26c1dae327",
   "metadata": {},
   "outputs": [],
   "source": []
  },
  {
   "cell_type": "code",
   "execution_count": null,
   "id": "c7f1e081-a795-43c0-8bcc-e2725879cfd2",
   "metadata": {},
   "outputs": [],
   "source": []
  },
  {
   "cell_type": "code",
   "execution_count": null,
   "id": "0e140bfc-7a3c-4a95-ae86-bc090f73f726",
   "metadata": {},
   "outputs": [],
   "source": []
  },
  {
   "cell_type": "code",
   "execution_count": null,
   "id": "1d146574-34cb-4dc0-89d2-f15274ecad66",
   "metadata": {},
   "outputs": [],
   "source": []
  },
  {
   "cell_type": "code",
   "execution_count": null,
   "id": "99048216-6226-488b-a847-9c98ac8bd76c",
   "metadata": {},
   "outputs": [],
   "source": []
  },
  {
   "cell_type": "code",
   "execution_count": null,
   "id": "775e7a46-ccf3-4713-8bca-c628bcfe1c69",
   "metadata": {},
   "outputs": [],
   "source": []
  },
  {
   "cell_type": "code",
   "execution_count": null,
   "id": "bdba8545-5836-4ef6-91a1-354de8847612",
   "metadata": {},
   "outputs": [],
   "source": []
  },
  {
   "cell_type": "code",
   "execution_count": null,
   "id": "89d682fc-f754-43bd-bb75-2c496c2ca9c5",
   "metadata": {},
   "outputs": [],
   "source": []
  },
  {
   "cell_type": "code",
   "execution_count": null,
   "id": "113910c9-88c7-4521-9e6e-0eb660fc8a13",
   "metadata": {},
   "outputs": [],
   "source": []
  },
  {
   "cell_type": "code",
   "execution_count": null,
   "id": "a6f63c6a-0085-490d-b2ae-0fb7bd15a536",
   "metadata": {},
   "outputs": [],
   "source": []
  },
  {
   "cell_type": "code",
   "execution_count": null,
   "id": "34b2d5d4-8b7c-421f-a702-653c2db4fb38",
   "metadata": {},
   "outputs": [],
   "source": []
  },
  {
   "cell_type": "markdown",
   "id": "eaee5f19-8947-4930-b042-ff2928518f6c",
   "metadata": {},
   "source": []
  }
 ],
 "metadata": {
  "kernelspec": {
   "display_name": "Python 3 (ipykernel)",
   "language": "python",
   "name": "python3"
  },
  "language_info": {
   "codemirror_mode": {
    "name": "ipython",
    "version": 3
   },
   "file_extension": ".py",
   "mimetype": "text/x-python",
   "name": "python",
   "nbconvert_exporter": "python",
   "pygments_lexer": "ipython3",
   "version": "3.10.12"
  }
 },
 "nbformat": 4,
 "nbformat_minor": 5
}
