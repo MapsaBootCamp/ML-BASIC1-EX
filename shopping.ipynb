{
 "cells": [
  {
   "cell_type": "markdown",
   "metadata": {},
   "source": [
    "## Shopping-cart analysis"
   ]
  },
  {
   "cell_type": "code",
   "execution_count": 1,
   "metadata": {},
   "outputs": [],
   "source": [
    "import numpy as np\n",
    "import pandas as pd"
   ]
  },
  {
   "cell_type": "code",
   "execution_count": 2,
   "metadata": {},
   "outputs": [
    {
     "data": {
      "text/html": [
       "<div>\n",
       "<style scoped>\n",
       "    .dataframe tbody tr th:only-of-type {\n",
       "        vertical-align: middle;\n",
       "    }\n",
       "\n",
       "    .dataframe tbody tr th {\n",
       "        vertical-align: top;\n",
       "    }\n",
       "\n",
       "    .dataframe thead th {\n",
       "        text-align: right;\n",
       "    }\n",
       "</style>\n",
       "<table border=\"1\" class=\"dataframe\">\n",
       "  <thead>\n",
       "    <tr style=\"text-align: right;\">\n",
       "      <th></th>\n",
       "      <th>Customer Id</th>\n",
       "      <th>Date</th>\n",
       "      <th>Product</th>\n",
       "    </tr>\n",
       "  </thead>\n",
       "  <tbody>\n",
       "    <tr>\n",
       "      <td>0</td>\n",
       "      <td>JKML5ZWXP0XQ</td>\n",
       "      <td>2020-07-20</td>\n",
       "      <td>tropical fruit</td>\n",
       "    </tr>\n",
       "    <tr>\n",
       "      <td>1</td>\n",
       "      <td>YOGWQIUPDAJ7</td>\n",
       "      <td>2020-04-30</td>\n",
       "      <td>whole milk</td>\n",
       "    </tr>\n",
       "    <tr>\n",
       "      <td>2</td>\n",
       "      <td>Q3NL22281AF6</td>\n",
       "      <td>2020-09-18</td>\n",
       "      <td>pip fruit</td>\n",
       "    </tr>\n",
       "    <tr>\n",
       "      <td>3</td>\n",
       "      <td>C59GRTLMZQAU</td>\n",
       "      <td>2020-12-11</td>\n",
       "      <td>other vegetables</td>\n",
       "    </tr>\n",
       "    <tr>\n",
       "      <td>4</td>\n",
       "      <td>WUSF8LTEQZ5L</td>\n",
       "      <td>2020-01-02</td>\n",
       "      <td>whole milk</td>\n",
       "    </tr>\n",
       "    <tr>\n",
       "      <td>5</td>\n",
       "      <td>MICEEAEQ9LX5</td>\n",
       "      <td>2020-02-14</td>\n",
       "      <td>rolls/buns</td>\n",
       "    </tr>\n",
       "    <tr>\n",
       "      <td>6</td>\n",
       "      <td>XBIAXE6PVLF7</td>\n",
       "      <td>2020-08-04</td>\n",
       "      <td>other vegetables</td>\n",
       "    </tr>\n",
       "    <tr>\n",
       "      <td>7</td>\n",
       "      <td>QJ7BSEZEXTDA</td>\n",
       "      <td>2020-12-22</td>\n",
       "      <td>pot plants</td>\n",
       "    </tr>\n",
       "    <tr>\n",
       "      <td>8</td>\n",
       "      <td>QAIAGD5XA9EW</td>\n",
       "      <td>2020-03-19</td>\n",
       "      <td>whole milk</td>\n",
       "    </tr>\n",
       "    <tr>\n",
       "      <td>9</td>\n",
       "      <td>QXH9SBEFLTPU</td>\n",
       "      <td>2020-12-01</td>\n",
       "      <td>tropical fruit</td>\n",
       "    </tr>\n",
       "  </tbody>\n",
       "</table>\n",
       "</div>"
      ],
      "text/plain": [
       "    Customer Id        Date           Product\n",
       "0  JKML5ZWXP0XQ  2020-07-20    tropical fruit\n",
       "1  YOGWQIUPDAJ7  2020-04-30        whole milk\n",
       "2  Q3NL22281AF6  2020-09-18         pip fruit\n",
       "3  C59GRTLMZQAU  2020-12-11  other vegetables\n",
       "4  WUSF8LTEQZ5L  2020-01-02        whole milk\n",
       "5  MICEEAEQ9LX5  2020-02-14        rolls/buns\n",
       "6  XBIAXE6PVLF7  2020-08-04  other vegetables\n",
       "7  QJ7BSEZEXTDA  2020-12-22        pot plants\n",
       "8  QAIAGD5XA9EW  2020-03-19        whole milk\n",
       "9  QXH9SBEFLTPU  2020-12-01    tropical fruit"
      ]
     },
     "execution_count": 2,
     "metadata": {},
     "output_type": "execute_result"
    }
   ],
   "source": [
    "supermarket = pd.read_csv(\"supermarket.csv\")\n",
    "supermarket.head(10)"
   ]
  },
  {
   "cell_type": "markdown",
   "metadata": {},
   "source": [
    "#### P1"
   ]
  },
  {
   "cell_type": "code",
   "execution_count": 3,
   "metadata": {},
   "outputs": [
    {
     "data": {
      "text/plain": [
       "array(['tropical fruit', 'whole milk', 'pip fruit', 'other vegetables',\n",
       "       'rolls/buns', 'pot plants', 'citrus fruit', 'beef', 'chicken',\n",
       "       'butter', 'fruit/vegetable juice', 'packaged fruit/vegetables',\n",
       "       'chocolate', 'specialty bar', 'butter milk', 'bottled water',\n",
       "       'yogurt', 'sausage', 'brown bread', 'hamburger meat',\n",
       "       'root vegetables', 'pastry', 'berries', 'coffee', 'turkey',\n",
       "       'curd cheese', 'frozen potato products', 'flour', 'sugar',\n",
       "       'frozen meals', 'herbs', 'soda', 'detergent', 'grapes',\n",
       "       'processed cheese', 'fish', 'curd', 'pasta', 'popcorn',\n",
       "       'finished products', 'beverages', 'bottled beer', 'dessert',\n",
       "       'specialty chocolate', 'condensed milk', 'cleaner', 'meat',\n",
       "       'ice cream', 'hard cheese', 'pickled vegetables', 'UHT-milk',\n",
       "       'candy', 'onions', 'domestic eggs', 'margarine', 'salt', 'oil',\n",
       "       'whipped/sour cream', 'frozen vegetables', 'sliced cheese',\n",
       "       'dish cleaner', 'baking powder', 'specialty cheese', 'salty snack',\n",
       "       'Instant food products', 'white bread', 'soap', 'frozen chicken',\n",
       "       'house keeping products', 'spread cheese', 'decalcifier',\n",
       "       'frozen dessert', 'nuts/prunes', 'potato products', 'frozen fish',\n",
       "       'hygiene articles', 'artif. sweetener', 'light bulbs',\n",
       "       'canned vegetables', 'chewing gum', 'canned fish', 'cookware',\n",
       "       'semi-finished bread', 'bathroom cleaner', 'zwieback',\n",
       "       'canned fruit', 'frozen fruits', 'baby cosmetics', 'spices',\n",
       "       'napkins', 'waffles', 'sauces', 'chocolate marshmallow',\n",
       "       'long life bakery product', 'bags', 'sweet spreads', 'soups',\n",
       "       'mustard', 'specialty fat', 'instant coffee', 'snack products',\n",
       "       'organic sausage', 'soft cheese', 'mayonnaise', 'dental care',\n",
       "       'roll products', 'kitchen towels', 'flower soil/fertilizer',\n",
       "       'cereals', 'meat spreads', 'dishes', 'male cosmetics', 'candles',\n",
       "       'cooking chocolate', 'seasonal products', 'abrasive cleaner',\n",
       "       'ketchup', 'cream', 'skin care', 'nut snack', 'cocoa drinks',\n",
       "       'softener', 'organic products', 'cake bar', 'honey', 'jam',\n",
       "       'kitchen utensil', 'flower (seeds)', 'rice', 'tea',\n",
       "       'salad dressing', 'specialty vegetables', 'pudding powder',\n",
       "       'ready soups', 'make up remover', 'toilet cleaner',\n",
       "       'preservation products'], dtype=object)"
      ]
     },
     "execution_count": 3,
     "metadata": {},
     "output_type": "execute_result"
    }
   ],
   "source": [
    "supermarket[\"Product\"].unique()"
   ]
  },
  {
   "cell_type": "code",
   "execution_count": 4,
   "metadata": {},
   "outputs": [
    {
     "data": {
      "text/plain": [
       "137"
      ]
     },
     "execution_count": 4,
     "metadata": {},
     "output_type": "execute_result"
    }
   ],
   "source": [
    "total_bought = len(supermarket[\"Product\"].unique())\n",
    "total_bought"
   ]
  },
  {
   "cell_type": "markdown",
   "metadata": {},
   "source": [
    "#### P2"
   ]
  },
  {
   "cell_type": "code",
   "execution_count": 5,
   "metadata": {},
   "outputs": [
    {
     "data": {
      "text/plain": [
       "Date\n",
       "2019-01-01    46\n",
       "2019-01-02    56\n",
       "2019-01-03    46\n",
       "2019-01-04    57\n",
       "2019-01-05    36\n",
       "2019-01-06    27\n",
       "2019-01-07    27\n",
       "2019-01-08    38\n",
       "2019-01-09    53\n",
       "2019-01-10    53\n",
       "2019-01-11    30\n",
       "2019-01-12    35\n",
       "2019-01-13    36\n",
       "2019-01-14    51\n",
       "2019-01-15    27\n",
       "2019-01-16    37\n",
       "2019-01-17    40\n",
       "2019-01-18    44\n",
       "2019-01-19    41\n",
       "2019-01-20    43\n",
       "2019-01-21    49\n",
       "2019-01-22    34\n",
       "2019-01-23    56\n",
       "2019-01-24    36\n",
       "2019-01-25    38\n",
       "2019-01-26    24\n",
       "2019-01-27    42\n",
       "2019-01-28    57\n",
       "2019-01-29    29\n",
       "2019-01-30    58\n",
       "2019-01-31    57\n",
       "2019-02-01    48\n",
       "2019-02-02    37\n",
       "2019-02-03    54\n",
       "2019-02-04    56\n",
       "2019-02-05    50\n",
       "2019-02-06    50\n",
       "2019-02-07    57\n",
       "2019-02-08    48\n",
       "2019-02-09    60\n",
       "2019-02-10    39\n",
       "2019-02-11    44\n",
       "2019-02-12    40\n",
       "2019-02-13    39\n",
       "2019-02-14    51\n",
       "2019-02-15    47\n",
       "2019-02-16    47\n",
       "2019-02-17    52\n",
       "2019-02-18    45\n",
       "2019-02-19    36\n",
       "2019-02-20    41\n",
       "2019-02-21    36\n",
       "2019-02-22    54\n",
       "2019-02-23    36\n",
       "2019-02-24    55\n",
       "2019-02-25    38\n",
       "2019-02-26    59\n",
       "2019-02-27    48\n",
       "2019-02-28    42\n",
       "2019-03-01    44\n",
       "Name: Product, dtype: int64"
      ]
     },
     "execution_count": 5,
     "metadata": {},
     "output_type": "execute_result"
    }
   ],
   "source": [
    "supermarket.groupby(['Date'])['Product'].count().head(60)"
   ]
  },
  {
   "cell_type": "code",
   "execution_count": 6,
   "metadata": {},
   "outputs": [
    {
     "data": {
      "text/plain": [
       "44.93"
      ]
     },
     "execution_count": 6,
     "metadata": {},
     "output_type": "execute_result"
    }
   ],
   "source": [
    "BPD = round(supermarket.groupby(['Date'])['Product'].count().mean(),2)\n",
    "BPD"
   ]
  },
  {
   "cell_type": "markdown",
   "metadata": {},
   "source": [
    "#### P3"
   ]
  },
  {
   "cell_type": "code",
   "execution_count": 7,
   "metadata": {},
   "outputs": [
    {
     "data": {
      "text/plain": [
       "Product\n",
       "kitchen utensil          1\n",
       "preservation products    1\n",
       "baby cosmetics           3\n",
       "bags                     4\n",
       "Name: Customer Id, dtype: int64"
      ]
     },
     "execution_count": 7,
     "metadata": {},
     "output_type": "execute_result"
    }
   ],
   "source": [
    "Four_Least = supermarket.groupby('Product')['Customer Id'].count().sort_values(ascending = True).head(4)\n",
    "Four_Least"
   ]
  },
  {
   "cell_type": "markdown",
   "metadata": {},
   "source": [
    "#### P4"
   ]
  },
  {
   "cell_type": "code",
   "execution_count": 8,
   "metadata": {},
   "outputs": [
    {
     "data": {
      "text/plain": [
       "Customer Id   Date      \n",
       "H9BRJQMWGT5B  2020-06-17    9\n",
       "DD3KOEOVDVIM  2020-04-16    9\n",
       "MC1BX6TSP1OP  2020-12-06    9\n",
       "ED8WY0DE27XG  2020-05-28    9\n",
       "JS4R1I2PUM8C  2020-12-26    8\n",
       "Name: Product, dtype: int64"
      ]
     },
     "execution_count": 8,
     "metadata": {},
     "output_type": "execute_result"
    }
   ],
   "source": [
    "Five_Customer = supermarket.groupby(['Customer Id','Date'])['Product'].count().sort_values(ascending = False).head(5)\n",
    "Five_Customer"
   ]
  },
  {
   "cell_type": "markdown",
   "metadata": {},
   "source": [
    "#### P5"
   ]
  },
  {
   "cell_type": "code",
   "execution_count": 9,
   "metadata": {
    "scrolled": true
   },
   "outputs": [
    {
     "data": {
      "text/html": [
       "<div>\n",
       "<style scoped>\n",
       "    .dataframe tbody tr th:only-of-type {\n",
       "        vertical-align: middle;\n",
       "    }\n",
       "\n",
       "    .dataframe tbody tr th {\n",
       "        vertical-align: top;\n",
       "    }\n",
       "\n",
       "    .dataframe thead th {\n",
       "        text-align: right;\n",
       "    }\n",
       "</style>\n",
       "<table border=\"1\" class=\"dataframe\">\n",
       "  <thead>\n",
       "    <tr style=\"text-align: right;\">\n",
       "      <th></th>\n",
       "      <th>Customer Id</th>\n",
       "      <th>Date</th>\n",
       "      <th>Product</th>\n",
       "    </tr>\n",
       "  </thead>\n",
       "  <tbody>\n",
       "    <tr>\n",
       "      <td>0</td>\n",
       "      <td>JKML5ZWXP0XQ</td>\n",
       "      <td>Monday</td>\n",
       "      <td>tropical fruit</td>\n",
       "    </tr>\n",
       "    <tr>\n",
       "      <td>1</td>\n",
       "      <td>YOGWQIUPDAJ7</td>\n",
       "      <td>Thursday</td>\n",
       "      <td>whole milk</td>\n",
       "    </tr>\n",
       "    <tr>\n",
       "      <td>2</td>\n",
       "      <td>Q3NL22281AF6</td>\n",
       "      <td>Friday</td>\n",
       "      <td>pip fruit</td>\n",
       "    </tr>\n",
       "    <tr>\n",
       "      <td>3</td>\n",
       "      <td>C59GRTLMZQAU</td>\n",
       "      <td>Friday</td>\n",
       "      <td>other vegetables</td>\n",
       "    </tr>\n",
       "    <tr>\n",
       "      <td>4</td>\n",
       "      <td>WUSF8LTEQZ5L</td>\n",
       "      <td>Thursday</td>\n",
       "      <td>whole milk</td>\n",
       "    </tr>\n",
       "    <tr>\n",
       "      <td>...</td>\n",
       "      <td>...</td>\n",
       "      <td>...</td>\n",
       "      <td>...</td>\n",
       "    </tr>\n",
       "    <tr>\n",
       "      <td>32705</td>\n",
       "      <td>PM1BQU9H9S2Q</td>\n",
       "      <td>Wednesday</td>\n",
       "      <td>oil</td>\n",
       "    </tr>\n",
       "    <tr>\n",
       "      <td>32706</td>\n",
       "      <td>6AWIAP3ZV551</td>\n",
       "      <td>Saturday</td>\n",
       "      <td>sliced cheese</td>\n",
       "    </tr>\n",
       "    <tr>\n",
       "      <td>32707</td>\n",
       "      <td>LRWVFLSC8X5B</td>\n",
       "      <td>Saturday</td>\n",
       "      <td>candy</td>\n",
       "    </tr>\n",
       "    <tr>\n",
       "      <td>32708</td>\n",
       "      <td>8KYRMELYKNIH</td>\n",
       "      <td>Tuesday</td>\n",
       "      <td>cake bar</td>\n",
       "    </tr>\n",
       "    <tr>\n",
       "      <td>32709</td>\n",
       "      <td>41NGW85T47Q1</td>\n",
       "      <td>Tuesday</td>\n",
       "      <td>fruit/vegetable juice</td>\n",
       "    </tr>\n",
       "  </tbody>\n",
       "</table>\n",
       "<p>32710 rows × 3 columns</p>\n",
       "</div>"
      ],
      "text/plain": [
       "        Customer Id       Date                Product\n",
       "0      JKML5ZWXP0XQ     Monday         tropical fruit\n",
       "1      YOGWQIUPDAJ7   Thursday             whole milk\n",
       "2      Q3NL22281AF6     Friday              pip fruit\n",
       "3      C59GRTLMZQAU     Friday       other vegetables\n",
       "4      WUSF8LTEQZ5L   Thursday             whole milk\n",
       "...             ...        ...                    ...\n",
       "32705  PM1BQU9H9S2Q  Wednesday                    oil\n",
       "32706  6AWIAP3ZV551   Saturday          sliced cheese\n",
       "32707  LRWVFLSC8X5B   Saturday                  candy\n",
       "32708  8KYRMELYKNIH    Tuesday               cake bar\n",
       "32709  41NGW85T47Q1    Tuesday  fruit/vegetable juice\n",
       "\n",
       "[32710 rows x 3 columns]"
      ]
     },
     "execution_count": 9,
     "metadata": {},
     "output_type": "execute_result"
    }
   ],
   "source": [
    "supermarket['Date'] = pd.to_datetime(supermarket['Date'])\n",
    "supermarket['Date'] = supermarket['Date'].dt.strftime('%A')\n",
    "supermarket"
   ]
  },
  {
   "cell_type": "code",
   "execution_count": 10,
   "metadata": {},
   "outputs": [
    {
     "data": {
      "text/plain": [
       "Date\n",
       "Friday       4539\n",
       "Monday       4655\n",
       "Saturday     4774\n",
       "Sunday       4480\n",
       "Thursday     4614\n",
       "Tuesday      4802\n",
       "Wednesday    4846\n",
       "Name: Date, dtype: int64"
      ]
     },
     "execution_count": 10,
     "metadata": {},
     "output_type": "execute_result"
    }
   ],
   "source": [
    "total_days = supermarket.groupby('Date')['Date'].count()\n",
    "total_days"
   ]
  },
  {
   "cell_type": "code",
   "execution_count": 11,
   "metadata": {},
   "outputs": [
    {
     "data": {
      "text/plain": [
       "{'Friday': 4539,\n",
       " 'Monday': 4655,\n",
       " 'Saturday': 4774,\n",
       " 'Sunday': 4480,\n",
       " 'Thursday': 4614,\n",
       " 'Tuesday': 4802,\n",
       " 'Wednesday': 4846}"
      ]
     },
     "execution_count": 11,
     "metadata": {},
     "output_type": "execute_result"
    }
   ],
   "source": [
    "days_dict = total_days.to_dict()\n",
    "days_dict"
   ]
  },
  {
   "cell_type": "code",
   "execution_count": 12,
   "metadata": {},
   "outputs": [
    {
     "data": {
      "text/plain": [
       "'Wednesday'"
      ]
     },
     "execution_count": 12,
     "metadata": {},
     "output_type": "execute_result"
    }
   ],
   "source": [
    "maxday = max(days_dict.values())\n",
    "ndays_in_total = list(days_dict.keys())\n",
    "days_in_total = list(days_dict.values())\n",
    "ind = days_in_total.index(maxday)\n",
    "most_day_total = ndays_in_total[ind]\n",
    "most_day_total"
   ]
  },
  {
   "cell_type": "markdown",
   "metadata": {},
   "source": [
    "#### P6"
   ]
  },
  {
   "cell_type": "code",
   "execution_count": 13,
   "metadata": {},
   "outputs": [
    {
     "data": {
      "text/plain": [
       "whole milk               2363\n",
       "other vegetables         1827\n",
       "rolls/buns               1646\n",
       "soda                     1453\n",
       "yogurt                   1285\n",
       "                         ... \n",
       "frozen chicken              5\n",
       "bags                        4\n",
       "baby cosmetics              3\n",
       "kitchen utensil             1\n",
       "preservation products       1\n",
       "Name: Product, Length: 137, dtype: int64"
      ]
     },
     "execution_count": 13,
     "metadata": {},
     "output_type": "execute_result"
    }
   ],
   "source": [
    "product_counts = supermarket['Product'].value_counts()\n",
    "product_counts"
   ]
  },
  {
   "cell_type": "code",
   "execution_count": 14,
   "metadata": {},
   "outputs": [
    {
     "data": {
      "text/plain": [
       "whole milk               0.072241\n",
       "other vegetables         0.055854\n",
       "rolls/buns               0.050321\n",
       "soda                     0.044421\n",
       "yogurt                   0.039285\n",
       "                           ...   \n",
       "frozen chicken           0.000153\n",
       "bags                     0.000122\n",
       "baby cosmetics           0.000092\n",
       "kitchen utensil          0.000031\n",
       "preservation products    0.000031\n",
       "Name: Product, Length: 137, dtype: float64"
      ]
     },
     "execution_count": 14,
     "metadata": {},
     "output_type": "execute_result"
    }
   ],
   "source": [
    "total_trans = len(supermarket)\n",
    "support = product_counts/total_trans\n",
    "support"
   ]
  },
  {
   "cell_type": "code",
   "execution_count": 15,
   "metadata": {},
   "outputs": [
    {
     "data": {
      "text/plain": [
       "whole milk          0.072241\n",
       "other vegetables    0.055854\n",
       "rolls/buns          0.050321\n",
       "soda                0.044421\n",
       "yogurt              0.039285\n",
       "Name: Product, dtype: float64"
      ]
     },
     "execution_count": 15,
     "metadata": {},
     "output_type": "execute_result"
    }
   ],
   "source": [
    "top_5_products = support.sort_values(ascending = False).head(5)\n",
    "top_5_products"
   ]
  },
  {
   "cell_type": "code",
   "execution_count": null,
   "metadata": {},
   "outputs": [],
   "source": []
  }
 ],
 "metadata": {
  "kernelspec": {
   "display_name": "Python 3",
   "language": "python",
   "name": "python3"
  },
  "language_info": {
   "codemirror_mode": {
    "name": "ipython",
    "version": 3
   },
   "file_extension": ".py",
   "mimetype": "text/x-python",
   "name": "python",
   "nbconvert_exporter": "python",
   "pygments_lexer": "ipython3",
   "version": "3.7.4"
  }
 },
 "nbformat": 4,
 "nbformat_minor": 2
}
