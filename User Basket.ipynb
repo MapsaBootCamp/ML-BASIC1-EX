{
 "cells": [
  {
   "cell_type": "code",
   "execution_count": 2,
   "id": "73187df3",
   "metadata": {},
   "outputs": [],
   "source": [
    "import pandas as pd\n",
    "import numpy as np "
   ]
  },
  {
   "cell_type": "code",
   "execution_count": 3,
   "id": "82ae0145",
   "metadata": {},
   "outputs": [],
   "source": [
    "df=pd.DataFrame(pd.read_csv('supermarket.csv'))"
   ]
  },
  {
   "cell_type": "code",
   "execution_count": 4,
   "id": "6be8fe70",
   "metadata": {},
   "outputs": [
    {
     "name": "stdout",
     "output_type": "stream",
     "text": [
      "<class 'pandas.core.frame.DataFrame'>\n",
      "RangeIndex: 32710 entries, 0 to 32709\n",
      "Data columns (total 3 columns):\n",
      " #   Column       Non-Null Count  Dtype \n",
      "---  ------       --------------  ----- \n",
      " 0   Customer Id  32710 non-null  object\n",
      " 1   Date         32710 non-null  object\n",
      " 2   Product      32710 non-null  object\n",
      "dtypes: object(3)\n",
      "memory usage: 766.8+ KB\n"
     ]
    }
   ],
   "source": [
    "df.info()"
   ]
  },
  {
   "cell_type": "code",
   "execution_count": 5,
   "id": "f01b433d",
   "metadata": {},
   "outputs": [
    {
     "data": {
      "text/html": [
       "<div>\n",
       "<style scoped>\n",
       "    .dataframe tbody tr th:only-of-type {\n",
       "        vertical-align: middle;\n",
       "    }\n",
       "\n",
       "    .dataframe tbody tr th {\n",
       "        vertical-align: top;\n",
       "    }\n",
       "\n",
       "    .dataframe thead th {\n",
       "        text-align: right;\n",
       "    }\n",
       "</style>\n",
       "<table border=\"1\" class=\"dataframe\">\n",
       "  <thead>\n",
       "    <tr style=\"text-align: right;\">\n",
       "      <th></th>\n",
       "      <th>Customer Id</th>\n",
       "      <th>Date</th>\n",
       "      <th>Product</th>\n",
       "    </tr>\n",
       "  </thead>\n",
       "  <tbody>\n",
       "    <tr>\n",
       "      <th>0</th>\n",
       "      <td>JKML5ZWXP0XQ</td>\n",
       "      <td>2020-07-20</td>\n",
       "      <td>tropical fruit</td>\n",
       "    </tr>\n",
       "    <tr>\n",
       "      <th>1</th>\n",
       "      <td>YOGWQIUPDAJ7</td>\n",
       "      <td>2020-04-30</td>\n",
       "      <td>whole milk</td>\n",
       "    </tr>\n",
       "    <tr>\n",
       "      <th>2</th>\n",
       "      <td>Q3NL22281AF6</td>\n",
       "      <td>2020-09-18</td>\n",
       "      <td>pip fruit</td>\n",
       "    </tr>\n",
       "    <tr>\n",
       "      <th>3</th>\n",
       "      <td>C59GRTLMZQAU</td>\n",
       "      <td>2020-12-11</td>\n",
       "      <td>other vegetables</td>\n",
       "    </tr>\n",
       "    <tr>\n",
       "      <th>4</th>\n",
       "      <td>WUSF8LTEQZ5L</td>\n",
       "      <td>2020-01-02</td>\n",
       "      <td>whole milk</td>\n",
       "    </tr>\n",
       "  </tbody>\n",
       "</table>\n",
       "</div>"
      ],
      "text/plain": [
       "    Customer Id        Date           Product\n",
       "0  JKML5ZWXP0XQ  2020-07-20    tropical fruit\n",
       "1  YOGWQIUPDAJ7  2020-04-30        whole milk\n",
       "2  Q3NL22281AF6  2020-09-18         pip fruit\n",
       "3  C59GRTLMZQAU  2020-12-11  other vegetables\n",
       "4  WUSF8LTEQZ5L  2020-01-02        whole milk"
      ]
     },
     "execution_count": 5,
     "metadata": {},
     "output_type": "execute_result"
    }
   ],
   "source": [
    "df.head()"
   ]
  },
  {
   "cell_type": "code",
   "execution_count": 6,
   "id": "86e0cdd8",
   "metadata": {},
   "outputs": [
    {
     "data": {
      "text/plain": [
       "array(['tropical fruit', 'whole milk', 'pip fruit', 'other vegetables',\n",
       "       'rolls/buns', 'pot plants', 'citrus fruit', 'beef', 'chicken',\n",
       "       'butter', 'fruit/vegetable juice', 'packaged fruit/vegetables',\n",
       "       'chocolate', 'specialty bar', 'butter milk', 'bottled water',\n",
       "       'yogurt', 'sausage', 'brown bread', 'hamburger meat',\n",
       "       'root vegetables', 'pastry', 'berries', 'coffee', 'turkey',\n",
       "       'curd cheese', 'frozen potato products', 'flour', 'sugar',\n",
       "       'frozen meals', 'herbs', 'soda', 'detergent', 'grapes',\n",
       "       'processed cheese', 'fish', 'curd', 'pasta', 'popcorn',\n",
       "       'finished products', 'beverages', 'bottled beer', 'dessert',\n",
       "       'specialty chocolate', 'condensed milk', 'cleaner', 'meat',\n",
       "       'ice cream', 'hard cheese', 'pickled vegetables', 'UHT-milk',\n",
       "       'candy', 'onions', 'domestic eggs', 'margarine', 'salt', 'oil',\n",
       "       'whipped/sour cream', 'frozen vegetables', 'sliced cheese',\n",
       "       'dish cleaner', 'baking powder', 'specialty cheese', 'salty snack',\n",
       "       'Instant food products', 'white bread', 'soap', 'frozen chicken',\n",
       "       'house keeping products', 'spread cheese', 'decalcifier',\n",
       "       'frozen dessert', 'nuts/prunes', 'potato products', 'frozen fish',\n",
       "       'hygiene articles', 'artif. sweetener', 'light bulbs',\n",
       "       'canned vegetables', 'chewing gum', 'canned fish', 'cookware',\n",
       "       'semi-finished bread', 'bathroom cleaner', 'zwieback',\n",
       "       'canned fruit', 'frozen fruits', 'baby cosmetics', 'spices',\n",
       "       'napkins', 'waffles', 'sauces', 'chocolate marshmallow',\n",
       "       'long life bakery product', 'bags', 'sweet spreads', 'soups',\n",
       "       'mustard', 'specialty fat', 'instant coffee', 'snack products',\n",
       "       'organic sausage', 'soft cheese', 'mayonnaise', 'dental care',\n",
       "       'roll products', 'kitchen towels', 'flower soil/fertilizer',\n",
       "       'cereals', 'meat spreads', 'dishes', 'male cosmetics', 'candles',\n",
       "       'cooking chocolate', 'seasonal products', 'abrasive cleaner',\n",
       "       'ketchup', 'cream', 'skin care', 'nut snack', 'cocoa drinks',\n",
       "       'softener', 'organic products', 'cake bar', 'honey', 'jam',\n",
       "       'kitchen utensil', 'flower (seeds)', 'rice', 'tea',\n",
       "       'salad dressing', 'specialty vegetables', 'pudding powder',\n",
       "       'ready soups', 'make up remover', 'toilet cleaner',\n",
       "       'preservation products'], dtype=object)"
      ]
     },
     "execution_count": 6,
     "metadata": {},
     "output_type": "execute_result"
    }
   ],
   "source": [
    "df.Product.unique()"
   ]
  },
  {
   "cell_type": "code",
   "execution_count": 47,
   "id": "d149b4be",
   "metadata": {},
   "outputs": [],
   "source": [
    "Number_of_product=df.Product.unique()"
   ]
  },
  {
   "cell_type": "code",
   "execution_count": null,
   "id": "155d5bf4",
   "metadata": {},
   "outputs": [],
   "source": [
    "#Question_1: Number of Products "
   ]
  },
  {
   "cell_type": "code",
   "execution_count": 48,
   "id": "99a00703",
   "metadata": {},
   "outputs": [
    {
     "data": {
      "text/plain": [
       "137"
      ]
     },
     "execution_count": 48,
     "metadata": {},
     "output_type": "execute_result"
    }
   ],
   "source": [
    "len(Number_of_product)"
   ]
  },
  {
   "cell_type": "code",
   "execution_count": 19,
   "id": "db5e1bc1",
   "metadata": {},
   "outputs": [
    {
     "data": {
      "text/plain": [
       "count    44.931319\n",
       "dtype: float64"
      ]
     },
     "execution_count": 19,
     "metadata": {},
     "output_type": "execute_result"
    }
   ],
   "source": [
    "#Question_2: Mean of Product in each day\n",
    "date_group=df.groupby('Date').agg(count=('Product', 'count')).mean()\n",
    "date_group"
   ]
  },
  {
   "cell_type": "code",
   "execution_count": 28,
   "id": "dc3f64a5",
   "metadata": {},
   "outputs": [
    {
     "data": {
      "text/html": [
       "<div>\n",
       "<style scoped>\n",
       "    .dataframe tbody tr th:only-of-type {\n",
       "        vertical-align: middle;\n",
       "    }\n",
       "\n",
       "    .dataframe tbody tr th {\n",
       "        vertical-align: top;\n",
       "    }\n",
       "\n",
       "    .dataframe thead th {\n",
       "        text-align: right;\n",
       "    }\n",
       "</style>\n",
       "<table border=\"1\" class=\"dataframe\">\n",
       "  <thead>\n",
       "    <tr style=\"text-align: right;\">\n",
       "      <th></th>\n",
       "      <th>count</th>\n",
       "    </tr>\n",
       "    <tr>\n",
       "      <th>Product</th>\n",
       "      <th></th>\n",
       "    </tr>\n",
       "  </thead>\n",
       "  <tbody>\n",
       "    <tr>\n",
       "      <th>kitchen utensil</th>\n",
       "      <td>1</td>\n",
       "    </tr>\n",
       "    <tr>\n",
       "      <th>preservation products</th>\n",
       "      <td>1</td>\n",
       "    </tr>\n",
       "    <tr>\n",
       "      <th>baby cosmetics</th>\n",
       "      <td>3</td>\n",
       "    </tr>\n",
       "    <tr>\n",
       "      <th>bags</th>\n",
       "      <td>4</td>\n",
       "    </tr>\n",
       "  </tbody>\n",
       "</table>\n",
       "</div>"
      ],
      "text/plain": [
       "                       count\n",
       "Product                     \n",
       "kitchen utensil            1\n",
       "preservation products      1\n",
       "baby cosmetics             3\n",
       "bags                       4"
      ]
     },
     "execution_count": 28,
     "metadata": {},
     "output_type": "execute_result"
    }
   ],
   "source": [
    "#Question_3: \n",
    "\n",
    "product_group=df.groupby('Product').agg(count=('Product', 'count')).sort_values('count',ascending=True)\n",
    "product_group.nsmallest(4, 'count')"
   ]
  },
  {
   "cell_type": "code",
   "execution_count": 46,
   "id": "b6500896",
   "metadata": {},
   "outputs": [
    {
     "data": {
      "text/html": [
       "<div>\n",
       "<style scoped>\n",
       "    .dataframe tbody tr th:only-of-type {\n",
       "        vertical-align: middle;\n",
       "    }\n",
       "\n",
       "    .dataframe tbody tr th {\n",
       "        vertical-align: top;\n",
       "    }\n",
       "\n",
       "    .dataframe thead th {\n",
       "        text-align: right;\n",
       "    }\n",
       "</style>\n",
       "<table border=\"1\" class=\"dataframe\">\n",
       "  <thead>\n",
       "    <tr style=\"text-align: right;\">\n",
       "      <th></th>\n",
       "      <th>count</th>\n",
       "    </tr>\n",
       "    <tr>\n",
       "      <th>Customer Id</th>\n",
       "      <th></th>\n",
       "    </tr>\n",
       "  </thead>\n",
       "  <tbody>\n",
       "    <tr>\n",
       "      <th>0P1TPIH74E79</th>\n",
       "      <td>32</td>\n",
       "    </tr>\n",
       "    <tr>\n",
       "      <th>0ZRF32AJ06BC</th>\n",
       "      <td>30</td>\n",
       "    </tr>\n",
       "    <tr>\n",
       "      <th>L1V5UZI2G191</th>\n",
       "      <td>28</td>\n",
       "    </tr>\n",
       "    <tr>\n",
       "      <th>7V1DR149IGK5</th>\n",
       "      <td>26</td>\n",
       "    </tr>\n",
       "    <tr>\n",
       "      <th>JKC89PT6OZ01</th>\n",
       "      <td>26</td>\n",
       "    </tr>\n",
       "  </tbody>\n",
       "</table>\n",
       "</div>"
      ],
      "text/plain": [
       "              count\n",
       "Customer Id        \n",
       "0P1TPIH74E79     32\n",
       "0ZRF32AJ06BC     30\n",
       "L1V5UZI2G191     28\n",
       "7V1DR149IGK5     26\n",
       "JKC89PT6OZ01     26"
      ]
     },
     "execution_count": 46,
     "metadata": {},
     "output_type": "execute_result"
    }
   ],
   "source": [
    "customer_high_basket=df.groupby(['Date', 'Customer Id']).agg(count=('Customer Id', 'size'))\n",
    "customer_high_basket.groupby('Customer Id').sum().nlargest(5, 'count')\n",
    "\n"
   ]
  },
  {
   "cell_type": "code",
   "execution_count": 49,
   "id": "6eec25a4",
   "metadata": {},
   "outputs": [
    {
     "name": "stdout",
     "output_type": "stream",
     "text": [
      "<class 'pandas.core.frame.DataFrame'>\n",
      "RangeIndex: 32710 entries, 0 to 32709\n",
      "Data columns (total 3 columns):\n",
      " #   Column       Non-Null Count  Dtype \n",
      "---  ------       --------------  ----- \n",
      " 0   Customer Id  32710 non-null  object\n",
      " 1   Date         32710 non-null  object\n",
      " 2   Product      32710 non-null  object\n",
      "dtypes: object(3)\n",
      "memory usage: 766.8+ KB\n"
     ]
    }
   ],
   "source": [
    "df.info()"
   ]
  },
  {
   "cell_type": "code",
   "execution_count": 50,
   "id": "ef96a128",
   "metadata": {},
   "outputs": [],
   "source": [
    "df['Date']=pd.to_datetime(df['Date'])"
   ]
  },
  {
   "cell_type": "code",
   "execution_count": 55,
   "id": "26d96825",
   "metadata": {},
   "outputs": [],
   "source": [
    "df['DayofWeek']=df['Date'].dt.day_name()"
   ]
  },
  {
   "cell_type": "code",
   "execution_count": 68,
   "id": "753833ff",
   "metadata": {},
   "outputs": [
    {
     "data": {
      "text/plain": [
       "<AxesSubplot:ylabel='DayofWeek'>"
      ]
     },
     "execution_count": 68,
     "metadata": {},
     "output_type": "execute_result"
    },
    {
     "data": {
      "image/png": "[encoded data removed]",
      "text/plain": [
       "<Figure size 432x288 with 1 Axes>"
      ]
     },
     "metadata": {
      "needs_background": "light"
     },
     "output_type": "display_data"
    }
   ],
   "source": [
    "Day_of_week=df.groupby('DayofWeek').agg(Size=('Product', 'size'))\n",
    "Day_of_week.sort_values('Size',ascending=True)\n",
    "Day_of_week.plot(kind='barh')"
   ]
  }
 ],
 "metadata": {
  "kernelspec": {
   "display_name": "Python 3 (ipykernel)",
   "language": "python",
   "name": "python3"
  },
  "language_info": {
   "codemirror_mode": {
    "name": "ipython",
    "version": 3
   },
   "file_extension": ".py",
   "mimetype": "text/x-python",
   "name": "python",
   "nbconvert_exporter": "python",
   "pygments_lexer": "ipython3",
   "version": "3.9.7"
  }
 },
 "nbformat": 4,
 "nbformat_minor": 5
}
