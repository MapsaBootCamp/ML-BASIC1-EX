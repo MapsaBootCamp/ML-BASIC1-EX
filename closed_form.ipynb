{
 "cells": [
  {
   "cell_type": "code",
   "execution_count": 1,
   "id": "1fe280de-10f2-4d11-aef9-908d8e1c2df2",
   "metadata": {},
   "outputs": [],
   "source": [
    "import numpy as np"
   ]
  },
  {
   "cell_type": "code",
   "execution_count": 2,
   "id": "e619f235-c8a8-4b83-a14a-63a682c51f54",
   "metadata": {},
   "outputs": [],
   "source": [
    "class ClosedForm_LinearRegression:\n",
    "    def __init__(self):\n",
    "        self.weights = None\n",
    "        self.bias = None\n",
    "\n",
    "    def fit(self, X, y):\n",
    "        X = np.hstack((np.ones((X.shape[0], 1)), X))\n",
    "        XT_X = np.dot(X.T, X)\n",
    "        XT_Y = np.dot(X.T, y)\n",
    "        self.weights, _ = np.linalg.lstsq(XT_X, XT_Y, rcond=None)[:2]\n",
    "        self.bias = self.weights[0]\n",
    "        self.weights = self.weights[1:]\n",
    "\n",
    "    def predict(self, X):\n",
    "        X = np.hstack((np.ones((X.shape[0], 1)), X))\n",
    "        return np.dot(X, np.append(self.bias, self.weights))"
   ]
  },
  {
   "cell_type": "code",
   "execution_count": null,
   "id": "3f63cb90-4ce6-4728-89bf-7622a9424d2d",
   "metadata": {},
   "outputs": [],
   "source": []
  }
 ],
 "metadata": {
  "kernelspec": {
   "display_name": "Python 3 (ipykernel)",
   "language": "python",
   "name": "python3"
  },
  "language_info": {
   "codemirror_mode": {
    "name": "ipython",
    "version": 3
   },
   "file_extension": ".py",
   "mimetype": "text/x-python",
   "name": "python",
   "nbconvert_exporter": "python",
   "pygments_lexer": "ipython3",
   "version": "3.10.12"
  }
 },
 "nbformat": 4,
 "nbformat_minor": 5
}
