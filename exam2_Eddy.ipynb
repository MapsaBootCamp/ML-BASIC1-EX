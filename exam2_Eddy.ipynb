{
 "cells": [
  {
   "cell_type": "markdown",
   "metadata": {
    "id": "9U1oR4G6phxk"
   },
   "source": [
    "# تمامی سوالات با نامپای حل شود و لیست ها به\n",
    "# numpy array\n",
    "\n",
    "# تبدیل شود\n",
    " نامپای اری = numpy array\n",
    "\n",
    " اری = array"
   ]
  },
  {
   "cell_type": "code",
   "execution_count": 1,
   "metadata": {},
   "outputs": [],
   "source": [
    "import numpy as np"
   ]
  },
  {
   "cell_type": "markdown",
   "metadata": {
    "id": "-aJMm-G8j-tk"
   },
   "source": [
    "۱-\n",
    "اعداد فرد را با -۱ جایگزین کنید\n",
    "\n",
    "[0, 1, 2, 3, 4, 5, 6, 7, 8, 9]"
   ]
  },
  {
   "cell_type": "code",
   "execution_count": 2,
   "metadata": {
    "colab": {
     "base_uri": "https://localhost:8080/"
    },
    "id": "QoDo1HE6j9d7",
    "outputId": "5bfb26fc-2a92-41b5-bec0-b1da3a1d3211"
   },
   "outputs": [
    {
     "data": {
      "text/plain": [
       "array([ 0, -1,  2, -1,  4, -1,  6, -1,  8, -1])"
      ]
     },
     "execution_count": 2,
     "metadata": {},
     "output_type": "execute_result"
    }
   ],
   "source": [
    "arr =  np.array([0, 1, 2, 3, 4, 5, 6, 7, 8, 9])\n",
    "q1 = np.where(arr % 2 == 1, -1, arr)\n",
    "q1"
   ]
  },
  {
   "cell_type": "markdown",
   "metadata": {
    "id": "crI0NSuDlVGh"
   },
   "source": [
    "۲- خروجی کد بالا را به شکل زیر تغییر دهید"
   ]
  },
  {
   "cell_type": "code",
   "execution_count": 3,
   "metadata": {
    "colab": {
     "base_uri": "https://localhost:8080/"
    },
    "id": "Hl2Xmim_lPjI",
    "outputId": "02ea0e86-e220-4289-f75f-f9509dfbd044"
   },
   "outputs": [
    {
     "data": {
      "text/plain": [
       "array([[ 0, -1,  2, -1,  4],\n",
       "       [-1,  6, -1,  8, -1]])"
      ]
     },
     "execution_count": 3,
     "metadata": {},
     "output_type": "execute_result"
    }
   ],
   "source": [
    "q2 = q1.reshape(2,5)\n",
    "q2"
   ]
  },
  {
   "cell_type": "markdown",
   "metadata": {
    "id": "7Bs4QG5nl7hD"
   },
   "source": [
    "[1,2,3,2,3,4,3,4,5,6]\n",
    "\n",
    "[7,2,10,2,7,4,9,4,9,8]\n",
    "\n",
    "۳- مشخص کنید بین دو لیست گفته شده کدام اعضا و در چه ایندکسی اشتراک دارند"
   ]
  },
  {
   "cell_type": "code",
   "execution_count": 4,
   "metadata": {
    "colab": {
     "base_uri": "https://localhost:8080/"
    },
    "id": "TVo8Kjo3l8BH",
    "outputId": "aee15b75-8ee1-46cf-c528-2344d669197e"
   },
   "outputs": [
    {
     "data": {
      "text/plain": [
       "(array([2, 4]), array([1, 5]), array([1, 5]))"
      ]
     },
     "execution_count": 4,
     "metadata": {},
     "output_type": "execute_result"
    }
   ],
   "source": [
    "arr1 = np.array([1,2,3,2,3,4,3,4,5,6])\n",
    "arr2 = np.array([7,2,10,2,7,4,9,4,9,8])\n",
    "# arr1[np.in1d(arr1, arr2)]\n",
    "np.intersect1d(arr1,arr2,return_indices=True)"
   ]
  },
  {
   "cell_type": "markdown",
   "metadata": {
    "id": "TCbDJ_Hom-_T"
   },
   "source": [
    "array([ 0,  1,  2, ..., 12, 13, 14]\n",
    "\n",
    "۴- برای حذف سه نقطه به هنگام پرینت چه راهی پیشنهاد می دهید\n",
    "\n",
    "و با چه روشی میتوان چک کرد مقدار خالی وجود دارد یا خیر\n"
   ]
  },
  {
   "cell_type": "code",
   "execution_count": null,
   "metadata": {
    "id": "4-6xXGJVm_dS"
   },
   "outputs": [],
   "source": [
    "np.isin()\n",
    "# ارگومان اول چیزی که میخواهیم و ارگومان دوم ارای در خروجی بولین تایپ میگیریم"
   ]
  },
  {
   "cell_type": "markdown",
   "metadata": {
    "id": "hGcIjdVRpIhO"
   },
   "source": [
    "۵- مقادیر یکتای لیست زیر چقدر است و از هر کدام چند تا در لیست وجود دارد\n",
    "\n",
    "[1,2,3,2,3,4,3,4,5,6]"
   ]
  },
  {
   "cell_type": "code",
   "execution_count": 12,
   "metadata": {
    "colab": {
     "base_uri": "https://localhost:8080/"
    },
    "id": "d-7MSzEpoUNn",
    "outputId": "b4ca36e2-7de6-463a-9926-672e9b005996"
   },
   "outputs": [
    {
     "data": {
      "text/plain": [
       "{1: 1, 2: 2, 3: 3, 4: 2, 5: 1, 6: 1}"
      ]
     },
     "execution_count": 12,
     "metadata": {},
     "output_type": "execute_result"
    }
   ],
   "source": [
    "my_arry = np.array([1,2,3,2,3,4,3,4,5,6])\n",
    "unique, counts = np.unique(my_arry, return_counts=True)\n",
    "\n",
    "dict(zip(unique, counts))\n"
   ]
  },
  {
   "cell_type": "markdown",
   "metadata": {
    "id": "ApHYEVwuqtTg"
   },
   "source": [
    "۶- یک array\n",
    "\n",
    " رندوم ۳۰ عضوی بین اعداد ۱ تا ۵۰ بسازید و اعدادی که کوچکتر از ۱۰ هستند را به ۱۰ و اعدادی که از ۳۰ بزرگتر هستند را به ۳۰ تغییر دهید"
   ]
  },
  {
   "cell_type": "code",
   "execution_count": 17,
   "metadata": {
    "colab": {
     "base_uri": "https://localhost:8080/"
    },
    "id": "wi70Mm8Vo0Ml",
    "outputId": "4b1422f7-811c-4fb8-fe1a-f58644ef1975"
   },
   "outputs": [
    {
     "data": {
      "text/plain": [
       "array([30, 30, 20, 13, 10, 10, 27, 29, 15, 29, 19, 30, 18, 30, 21, 17, 18,\n",
       "       27, 24, 28, 11, 17, 30, 10, 30, 30, 26, 30, 30, 30])"
      ]
     },
     "execution_count": 17,
     "metadata": {},
     "output_type": "execute_result"
    }
   ],
   "source": [
    "random_arr = np.random.randint(1,50,30)\n",
    "random_arr = np.where( random_arr<10,10 ,random_arr )\n",
    "np.where(random_arr>30 ,30 ,random_arr )"
   ]
  },
  {
   "cell_type": "markdown",
   "metadata": {
    "id": "yqDvPeDsr86h"
   },
   "source": [
    "۷-  array یک\n",
    "\n",
    "سه بعدی ساخته و در انتها آن را یک بعدی کنید"
   ]
  },
  {
   "cell_type": "code",
   "execution_count": 20,
   "metadata": {
    "colab": {
     "base_uri": "https://localhost:8080/"
    },
    "id": "HZLxYYD0rqQ3",
    "outputId": "05cd0c02-3d27-4f66-cd30-d259849e6a6b"
   },
   "outputs": [
    {
     "data": {
      "text/plain": [
       "array([8, 1, 6, 7, 7, 2, 1, 6, 5, 7, 8, 8, 6, 5, 5, 7, 4, 9, 7, 5, 6, 7,\n",
       "       5, 2])"
      ]
     },
     "execution_count": 20,
     "metadata": {},
     "output_type": "execute_result"
    }
   ],
   "source": [
    "arr_3d = np.random.randint(1, 10, size=(2, 3, 4))\n",
    "arr_3d.reshape(-1)"
   ]
  },
  {
   "cell_type": "markdown",
   "metadata": {
    "id": "lPvjwDButXsY"
   },
   "source": [
    "۸- بزرگترین عضو در هر ردیف و سپس بزرگترین عضو در هر ستون بیابید"
   ]
  },
  {
   "cell_type": "code",
   "execution_count": 33,
   "metadata": {
    "colab": {
     "base_uri": "https://localhost:8080/"
    },
    "id": "UHnkAFfOuApB",
    "outputId": "c3734429-eccb-493b-c0fb-2cfe3a91a8e5"
   },
   "outputs": [
    {
     "name": "stdout",
     "output_type": "stream",
     "text": [
      "[[9 9 4 8]\n",
      " [8 1 5 3]\n",
      " [6 3 3 3]\n",
      " [2 1 9 5]\n",
      " [1 7 3 5]\n",
      " [2 6 4 5]\n",
      " [5 4 8 2]\n",
      " [2 8 8 1]]\n"
     ]
    }
   ],
   "source": [
    "import numpy as np\n",
    "\n",
    "np.random.seed(100)\n",
    "a = np.random.randint(1,10, [8,4])\n",
    "print(a)\n",
    "max_in_cul = a.max(axis = 0)\n",
    "max_in_row = a.max(axis = 1)\n"
   ]
  },
  {
   "cell_type": "markdown",
   "metadata": {
    "id": "cLNzAJuwyS8t"
   },
   "source": [
    "۹- نامپای اری را بسازید که بین دو تاریخ '2022-02-01' و '2022-02-25'\n",
    "به صورت یک روز در میان باشد\n",
    "\n",
    "حالا روزهای جا افتاده در اری بالا را به آن اضافه کنید\n"
   ]
  },
  {
   "cell_type": "code",
   "execution_count": 48,
   "metadata": {},
   "outputs": [
    {
     "data": {
      "text/plain": [
       "array(['2005-01-31', '2005-02-02', '2005-02-04', '2005-02-06',\n",
       "       '2005-02-08', '2005-02-10', '2005-02-12', '2005-02-14',\n",
       "       '2005-02-16', '2005-02-18', '2005-02-20', '2005-02-22',\n",
       "       '2005-02-24', '2005-02-26'], dtype='datetime64[2D]')"
      ]
     },
     "execution_count": 48,
     "metadata": {},
     "output_type": "execute_result"
    }
   ],
   "source": [
    "np.arange('2005-02', '2005-03', dtype='datetime64[2D]')"
   ]
  },
  {
   "cell_type": "markdown",
   "metadata": {
    "id": "-kiAuUBPzKAy"
   },
   "source": [
    "۱۰- عکس زیر را با کتابخانه\n",
    "\n",
    "requests\n",
    "\n",
    "گرفته و سپس با استفاده از کتابخانه\n",
    "\n",
    "BytesIO\n",
    "\n",
    "آن را باز کرده و به سایز ۲۵۰ در ۲۵۰ تغییر داده و در نامپای اری ذخیره کنید\n"
   ]
  },
  {
   "cell_type": "code",
   "execution_count": 60,
   "metadata": {
    "colab": {
     "base_uri": "https://localhost:8080/"
    },
    "id": "DMklSUtRugcL",
    "outputId": "05415873-c8f2-4b7c-c90f-74e2e73549fb"
   },
   "outputs": [
    {
     "data": {
      "text/plain": [
       "array([[[100, 103, 112],\n",
       "        [ 98, 101, 110],\n",
       "        [ 97, 100, 109],\n",
       "        ...,\n",
       "        [120, 119, 124],\n",
       "        [120, 119, 124],\n",
       "        [114, 113, 118]],\n",
       "\n",
       "       [[107, 110, 119],\n",
       "        [106, 109, 118],\n",
       "        [102, 105, 114],\n",
       "        ...,\n",
       "        [116, 115, 121],\n",
       "        [117, 116, 121],\n",
       "        [116, 115, 120]],\n",
       "\n",
       "       [[108, 111, 120],\n",
       "        [108, 111, 120],\n",
       "        [101, 104, 113],\n",
       "        ...,\n",
       "        [106, 105, 111],\n",
       "        [112, 111, 116],\n",
       "        [116, 115, 120]],\n",
       "\n",
       "       ...,\n",
       "\n",
       "       [[ 64,  62,  73],\n",
       "        [ 66,  64,  75],\n",
       "        [ 67,  65,  76],\n",
       "        ...,\n",
       "        [240, 241, 238],\n",
       "        [237, 238, 233],\n",
       "        [237, 238, 233]],\n",
       "\n",
       "       [[ 65,  63,  74],\n",
       "        [ 66,  64,  75],\n",
       "        [ 70,  68,  79],\n",
       "        ...,\n",
       "        [241, 241, 239],\n",
       "        [240, 241, 236],\n",
       "        [240, 241, 236]],\n",
       "\n",
       "       [[ 73,  71,  82],\n",
       "        [ 70,  68,  79],\n",
       "        [ 72,  70,  81],\n",
       "        ...,\n",
       "        [239, 239, 238],\n",
       "        [240, 240, 237],\n",
       "        [240, 241, 236]]], dtype=uint8)"
      ]
     },
     "execution_count": 60,
     "metadata": {},
     "output_type": "execute_result"
    }
   ],
   "source": []
  },
  {
   "cell_type": "markdown",
   "metadata": {
    "id": "6WEDqaz_3WVh"
   },
   "source": [
    "# linux\n",
    "1-برای تنظیمات گراب بهتر است کدوم فولدر تغییر داده شود\n",
    "\n",
    "2- شما برنامه ای را برای پیش بینی قیمت کالا نوشته اید این برمامه برای ران شدن احتیاج به خواندن ورودی به عنوان کانفیگ دارد کانفیگ های برنامه بهتر است چگونه و در کجا اعمال شوند\n",
    "\n",
    "3-به نظر شما نود پرینتر یا هر سخت افزار در کدام فولدر ذخیره میشود\n",
    "\n",
    "4-چیست bios کار\n",
    "\n",
    "5- منظور از ~ چیست"
   ]
  }
 ],
 "metadata": {
  "colab": {
   "provenance": []
  },
  "kernelspec": {
   "display_name": "Python 3 (ipykernel)",
   "language": "python",
   "name": "python3"
  },
  "language_info": {
   "codemirror_mode": {
    "name": "ipython",
    "version": 3
   },
   "file_extension": ".py",
   "mimetype": "text/x-python",
   "name": "python",
   "nbconvert_exporter": "python",
   "pygments_lexer": "ipython3",
   "version": "3.10.12"
  },
  "widgets": {
   "application/vnd.jupyter.widget-state+json": {
    "state": {},
    "version_major": 2,
    "version_minor": 0
   }
  }
 },
 "nbformat": 4,
 "nbformat_minor": 4
}
