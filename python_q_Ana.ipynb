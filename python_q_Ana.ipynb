{
 "cells": [
  {
   "cell_type": "markdown",
   "id": "42976f64-9534-4f1c-ba5e-c21c3befa7a6",
   "metadata": {},
   "source": [
    "Find the sum of three integers in the given array 'nums' of length 'n' such that the sum is closest to the target. Return the computed sum. Assume that there is exactly one solution for each input."
   ]
  },
  {
   "cell_type": "markdown",
   "id": "efd7fa7c-4865-4480-863b-7203874b40d6",
   "metadata": {},
   "source": [
    "Example 1:\n",
    "\n",
    "Input: nums = [-1,2,1,-4], target = 1\n",
    "Output: 2\n",
    "Explanation: The sum that is closest to the target is 2. (-1 + 2 + 1 = 2).\n",
    "\n",
    "Example 2:\n",
    "\n",
    "Input: nums = [0,0,0], target = 1\n",
    "Output: 0\n",
    "Explanation: The sum that is closest to the target is 0. (0 + 0 + 0 = 0)."
   ]
  },
  {
   "cell_type": "code",
   "execution_count": 1,
   "id": "ca1566c6",
   "metadata": {},
   "outputs": [],
   "source": [
    "def sum_of_new_three (num, target):\n",
    "    result = []\n",
    "    for i in range(len(num)-2):\n",
    "        for j in range(i + 1, len(num)-1):\n",
    "            for k in range(j + 1, len(num)):\n",
    "                if num[i] + num[j] + num[k] == target:\n",
    "                    res = []\n",
    "                    res.append(num[i])\n",
    "                    res.append(num[j])\n",
    "                    res.append(num[k])\n",
    "                    result.append(tuple(res))\n",
    "    return list(result)"
   ]
  },
  {
   "cell_type": "code",
   "execution_count": 2,
   "id": "b59925f5",
   "metadata": {},
   "outputs": [
    {
     "name": "stdout",
     "output_type": "stream",
     "text": [
      "[(-1, 2, 1)]\n"
     ]
    }
   ],
   "source": [
    "nums = [-1,2,1,-4]\n",
    "target = 2\n",
    "print(sum_of_new_three(nums, target))"
   ]
  },
  {
   "cell_type": "code",
   "execution_count": null,
   "id": "6ee3b7ce",
   "metadata": {},
   "outputs": [],
   "source": []
  }
 ],
 "metadata": {
  "kernelspec": {
   "display_name": "Python 3 (ipykernel)",
   "language": "python",
   "name": "python3"
  },
  "language_info": {
   "codemirror_mode": {
    "name": "ipython",
    "version": 3
   },
   "file_extension": ".py",
   "mimetype": "text/x-python",
   "name": "python",
   "nbconvert_exporter": "python",
   "pygments_lexer": "ipython3",
   "version": "3.9.18"
  }
 },
 "nbformat": 4,
 "nbformat_minor": 5
}
