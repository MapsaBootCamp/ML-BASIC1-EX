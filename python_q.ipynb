{
 "cells": [
  {
   "cell_type": "markdown",
   "id": "42976f64-9534-4f1c-ba5e-c21c3befa7a6",
   "metadata": {},
   "source": [
    "Find the sum of three integers in the given array 'nums' of length 'n' such that the sum is closest to the target. Return the computed sum. Assume that there is exactly one solution for each input."
   ]
  },
  {
   "cell_type": "markdown",
   "id": "efd7fa7c-4865-4480-863b-7203874b40d6",
   "metadata": {},
   "source": [
    "Example 1:\n",
    "\n",
    "Input: nums = [-1,2,1,-4], target = 1\n",
    "Output: 2\n",
    "Explanation: The sum that is closest to the target is 2. (-1 + 2 + 1 = 2).\n",
    "\n",
    "Example 2:\n",
    "\n",
    "Input: nums = [0,0,0], target = 1\n",
    "Output: 0\n",
    "Explanation: The sum that is closest to the target is 0. (0 + 0 + 0 = 0)."
   ]
  },
  {
   "cell_type": "code",
   "execution_count": 18,
   "id": "8320f2ba",
   "metadata": {},
   "outputs": [],
   "source": [
    "def threeSumClosest(nums, target):\n",
    "    nums.sort()\n",
    "    closest_sum = float('inf')\n",
    "    result = None\n",
    "\n",
    "    for i in range(len(nums) - 2):\n",
    "        left, right = i + 1, len(nums) - 1\n",
    "\n",
    "        while left < right:\n",
    "            current_sum = nums[i] + nums[left] + nums[right]\n",
    "\n",
    "            if abs(current_sum - target) < abs(closest_sum - target):\n",
    "                closest_sum = current_sum\n",
    "                result = (nums[i], nums[left], nums[right])\n",
    "\n",
    "            if current_sum < target:\n",
    "                left += 1\n",
    "            elif current_sum > target:\n",
    "                right -= 1\n",
    "            else:\n",
    "                return result\n",
    "\n",
    "    return result"
   ]
  },
  {
   "cell_type": "code",
   "execution_count": 19,
   "id": "fb3ee719",
   "metadata": {},
   "outputs": [],
   "source": [
    "nums1 = [-1, 2, 1, -4]\n",
    "nums2 = [0, 0, 0]\n",
    "target1 = 1\n",
    "target2 = 1"
   ]
  },
  {
   "cell_type": "code",
   "execution_count": 20,
   "id": "9b8dba50",
   "metadata": {},
   "outputs": [
    {
     "data": {
      "text/plain": [
       "((-1, 1, 2), (0, 0, 0))"
      ]
     },
     "execution_count": 20,
     "metadata": {},
     "output_type": "execute_result"
    }
   ],
   "source": [
    "threeSumClosest(nums1, target1) , threeSumClosest(nums2, target2)"
   ]
  }
 ],
 "metadata": {
  "kernelspec": {
   "display_name": "Python 3 (ipykernel)",
   "language": "python",
   "name": "python3"
  },
  "language_info": {
   "codemirror_mode": {
    "name": "ipython",
    "version": 3
   },
   "file_extension": ".py",
   "mimetype": "text/x-python",
   "name": "python",
   "nbconvert_exporter": "python",
   "pygments_lexer": "ipython3",
   "version": "3.11.4"
  }
 },
 "nbformat": 4,
 "nbformat_minor": 5
}
