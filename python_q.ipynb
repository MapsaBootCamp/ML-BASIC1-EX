{
 "cells": [
  {
   "cell_type": "markdown",
   "id": "42976f64-9534-4f1c-ba5e-c21c3befa7a6",
   "metadata": {},
   "source": [
    "Find the sum of three integers in the given array 'nums' of length 'n' such that the sum is closest to the target. Return the computed sum. Assume that there is exactly one solution for each input."
   ]
  },
  {
   "cell_type": "markdown",
   "id": "efd7fa7c-4865-4480-863b-7203874b40d6",
   "metadata": {},
   "source": [
    "Example 1:\n",
    "\n",
    "Input: nums = [-1,2,1,-4], target = 1\n",
    "Output: 2\n",
    "Explanation: The sum that is closest to the target is 2. (-1 + 2 + 1 = 2).\n",
    "\n",
    "Example 2:\n",
    "\n",
    "Input: nums = [0,0,0], target = 1\n",
    "Output: 0\n",
    "Explanation: The sum that is closest to the target is 0. (0 + 0 + 0 = 0)."
   ]
  },
  {
   "cell_type": "code",
   "execution_count": 54,
   "id": "6452edb9-b34a-48a2-8c49-af0d99e2cdaa",
   "metadata": {},
   "outputs": [],
   "source": [
    "def find_elements(numbers:list,target):\n",
    "    current_sum=0\n",
    "    numbers.sort()\n",
    "    dict={}\n",
    "    for i in range(len(numbers)):\n",
    "        left=i+1\n",
    "        right=len(numbers)-1\n",
    "        while left<right:\n",
    "            current_sum=abs(numbers[i]+numbers[left]+numbers[right]-target)\n",
    "            dict.update({current_sum:[numbers[i],numbers[left],numbers[right]]})\n",
    "            if current_sum==0:\n",
    "                return(numbers[i],numbers[left],numbers[right])\n",
    "            elif current_sum<0:\n",
    "                left+=1\n",
    "            elif current_sum>0:\n",
    "                right-=1\n",
    "    return(dict.get(min(dict.keys())))\n",
    "                \n",
    "            \n",
    "    \n"
   ]
  },
  {
   "cell_type": "code",
   "execution_count": 55,
   "id": "8cbf5607-04f7-4452-bb30-716bb89cf313",
   "metadata": {},
   "outputs": [
    {
     "data": {
      "text/plain": [
       "[-1, 1, 2]"
      ]
     },
     "execution_count": 55,
     "metadata": {},
     "output_type": "execute_result"
    }
   ],
   "source": [
    "find_elements(numbers=[-1,2,1,-4],target=1)"
   ]
  },
  {
   "cell_type": "code",
   "execution_count": null,
   "id": "dc3d1590-eb61-43ea-937a-6957879f519d",
   "metadata": {},
   "outputs": [],
   "source": []
  }
 ],
 "metadata": {
  "kernelspec": {
   "display_name": "Python 3 (ipykernel)",
   "language": "python",
   "name": "python3"
  },
  "language_info": {
   "codemirror_mode": {
    "name": "ipython",
    "version": 3
   },
   "file_extension": ".py",
   "mimetype": "text/x-python",
   "name": "python",
   "nbconvert_exporter": "python",
   "pygments_lexer": "ipython3",
   "version": "3.8.5"
  }
 },
 "nbformat": 4,
 "nbformat_minor": 5
}
