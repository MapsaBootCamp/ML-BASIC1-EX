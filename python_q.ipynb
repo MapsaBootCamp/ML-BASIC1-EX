{
 "cells": [
  {
   "cell_type": "markdown",
   "id": "42976f64-9534-4f1c-ba5e-c21c3befa7a6",
   "metadata": {},
   "source": [
    "Find the sum of three integers in the given array 'nums' of length 'n' such that the sum is closest to the target. Return the computed sum. Assume that there is exactly one solution for each input."
   ]
  },
  {
   "cell_type": "markdown",
   "id": "efd7fa7c-4865-4480-863b-7203874b40d6",
   "metadata": {},
   "source": [
    "Example 1:\n",
    "\n",
    "Input: nums = [-1,2,1,-4], target = 1\n",
    "Output: 2\n",
    "Explanation: The sum that is closest to the target is 2. (-1 + 2 + 1 = 2).\n",
    "\n",
    "Example 2:\n",
    "\n",
    "Input: nums = [0,0,0], target = 1\n",
    "Output: 0\n",
    "Explanation: The sum that is closest to the target is 0. (0 + 0 + 0 = 0)."
   ]
  },
  {
   "cell_type": "code",
   "execution_count": 18,
   "id": "8d7f8fe5-62f0-4f2a-8fcc-1324efbb648b",
   "metadata": {},
   "outputs": [],
   "source": [
    "from itertools import permutations"
   ]
  },
  {
   "cell_type": "code",
   "execution_count": 105,
   "id": "7b6c88c8-1f3d-4bc5-ad88-16b7bb2db0f5",
   "metadata": {},
   "outputs": [],
   "source": [
    "def closest_value_target(list, counter, target):\n",
    "    tuple_list = []\n",
    "    perm = permutations(list, counter)\n",
    "    for i in perm:\n",
    "        tuple_list.append(i)\n",
    "    sum_tuple_list = [sum(tup) for tup in tuple_list]\n",
    "    diff_sum_tuple_target = [x - target for x in sum_tuple_list]\n",
    "    abs_diff_sum_tuple_target = [abs(x) for x in diff_sum_tuple_target]\n",
    "    min_abs_diff_sum_tuple_target = min(abs_diff_sum_tuple_target)\n",
    "    index_min = abs_diff_sum_tuple_target.index(min_abs_diff_sum_tuple_target)\n",
    "    closest_target = sum_tuple_list[index_min]\n",
    "    tuple_output = tuple_list[index_min]\n",
    "    print(' my_list: ', list, '\\n', 'target: ', target, '\\n', 'The sum that is closest to the target is ', closest_target, ' from this permutation:', tuple_output)"
   ]
  },
  {
   "cell_type": "code",
   "execution_count": 106,
   "id": "2253ced3-9be9-4006-8b52-0bfd6f5c73f2",
   "metadata": {},
   "outputs": [
    {
     "name": "stdout",
     "output_type": "stream",
     "text": [
      " my_list:  [-1, 2, 1, -4] \n",
      " target:  1 \n",
      " The sum that is closest to the target is  2  from this permutation: (-1, 2, 1)\n"
     ]
    }
   ],
   "source": [
    "closest_value_target([-1, 2, 1, -4], 3, 1)"
   ]
  },
  {
   "cell_type": "code",
   "execution_count": 107,
   "id": "0bf3e485-25c8-49c5-a82f-65702f656b8a",
   "metadata": {},
   "outputs": [
    {
     "name": "stdout",
     "output_type": "stream",
     "text": [
      " my_list:  [0, 0, 0] \n",
      " target:  1 \n",
      " The sum that is closest to the target is  0  from this permutation: (0, 0, 0)\n"
     ]
    }
   ],
   "source": [
    "closest_value_target([0, 0, 0], 3, 1)"
   ]
  },
  {
   "cell_type": "code",
   "execution_count": null,
   "id": "372b3444-551b-45af-bcdd-8a6ecb093cce",
   "metadata": {},
   "outputs": [],
   "source": []
  }
 ],
 "metadata": {
  "kernelspec": {
   "display_name": "Python 3 (ipykernel)",
   "language": "python",
   "name": "python3"
  },
  "language_info": {
   "codemirror_mode": {
    "name": "ipython",
    "version": 3
   },
   "file_extension": ".py",
   "mimetype": "text/x-python",
   "name": "python",
   "nbconvert_exporter": "python",
   "pygments_lexer": "ipython3",
   "version": "3.11.4"
  }
 },
 "nbformat": 4,
 "nbformat_minor": 5
}
