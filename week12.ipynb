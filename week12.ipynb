{
 "cells": [
  {
   "cell_type": "markdown",
   "id": "c3c31b86-dc76-4f81-bfa1-8d212ff81f54",
   "metadata": {},
   "source": [
    "<div dir = \"rtl\" style=\"direction:rtl;line-height:300%;\">\n",
    "    <font face=\"XB Zar\" size=6 color=#F32500>\n",
    "        <div  align=center>\n",
    "            تمرین هفته دوازدهم بوت کمپ یادگیری ماشین-\n",
    "            مپصا\n",
    "        </div>\n",
    "        <br/>\n",
    "    </font>\n",
    "</div>"
   ]
  },
  {
   "cell_type": "code",
   "execution_count": 1,
   "id": "f383f6fe-a565-4990-82c6-dfbab8a0002a",
   "metadata": {},
   "outputs": [],
   "source": [
    "# import all packages and libraries here.\n",
    "import numpy as np\n",
    "import pandas as pd"
   ]
  },
  {
   "cell_type": "markdown",
   "id": "40e3c3a8-c6b3-4277-96db-ec4b30a051b3",
   "metadata": {},
   "source": [
    "# 1- State with reasons whether the following sentences are true or false?\n",
    "\n",
    "<ul style=\"font-size:25px\">\n",
    "    <li>\n",
    "        SVMs are not suitable for large datasets.\n",
    "    </li>\n",
    "    <li>\n",
    "       SVMs perform poorly in imbalanced datasets.\n",
    "    </li>\n",
    "     <li>\n",
    "        SVMs perform poorly when there is just too much noise in the data.\n",
    "    </li>\n",
    "</ul>"
   ]
  },
  {
   "cell_type": "markdown",
   "id": "62dcce6f-428b-4d76-9941-a5aed713d795",
   "metadata": {},
   "source": [
    "\n",
    "<div id=\"bayes\" style=\"direction:rtl;line-height:300%;\">\n",
    "\t<font face=\"XB Zar\" size=5 color=#f7f3c8>   <ul>\n",
    "<li>\n",
    "جواب:\n",
    "<li>\n",
    "            <li>\n",
    "          \tدرست است. اگرچه SVM در مجموعه داده‌هایی با ابعاد متوسط به خوبی کار می‌کند، اما با افزایش تعداد ویژگی‌ها و نمونه‌ها، زمان آموزش مدل به شدت افزایش می‌یابد. این مسئله باعث می‌شود که استفاده از SVM در داده‌های بزرگ و پیچیده به لحاظ محاسباتی ناکارآمد باشد.\n",
    "            </li>\n",
    "            <li>\n",
    "          \tدرست است. زمانی که داده‌های آموزشی نامتعادل هستند، یعنی تعداد نمونه‌ها در یک کلاس به مراتب بیشتر از کلاس‌های دیگر است، SVM ممکن است به سمت کلاس با تعداد نمونه بیشتر سوگیری پیدا کند. این مسئله می‌تواند منجر به تشخیص نادرست کلاس‌های با تعداد نمونه کمتر شود.\t\n",
    "            </li>\n",
    "            <li>\n",
    "           \tاشتباه است. SVM بیش از حد روی نمونه‌های نویزدار تمرکز نمی‌کنند و حساسیت کمتری نسبت به موارد دورافتاده دارد، زیرا سعی می‌کند به‌جای حداقل کردن خطای طبقه‌بندی، حاشیه بین دو کلاس را به حداکثر برساند.\n",
    "            </li>           \n",
    "         </ul>\n",
    "</div>"
   ]
  },
  {
   "cell_type": "markdown",
   "id": "1db4eb95-8d60-4d68-a859-5d7007178d0f",
   "metadata": {},
   "source": [
    "<div id=\"bayes\" style=\"direction:rtl;line-height:300%;\">\n",
    "\t<font face=\"XB Zar\" size=6>\n",
    "\t\t ۲- دیتاست lsvt-voice-rehabilitation را از لینک زیر دانلود کنید و به سوالات زیر حواب دهید. در این تمرین مجاز به استفاده از کتابخانه scikit-learn می باشید.\n",
    "\t\t</br>\n",
    "</div>\n",
    "\t\thttps://archive.ics.uci.edu/ml/datasets/LSVT+Voice+Rehabilitation"
   ]
  },
  {
   "cell_type": "markdown",
   "id": "61cdb4b5-e80e-41db-b3a5-e495247bb679",
   "metadata": {},
   "source": [
    "<div id=\"bayes\" style=\"direction:rtl;line-height:300%;\">\n",
    "\t<font face=\"XB Zar\" size=6>\n",
    "\t\t الف- داده ها را به روشهای زیر دسته بندی کنید (حواستان باشد که داده ها را قبل از اعمال به مدل، نرمالایز کنید).\n",
    "        <ul>\n",
    "            <li>\n",
    "            کرنل خطی\n",
    "            </li>\n",
    "            <li>\n",
    "            کرنل چندجمله ای (پارامترهای r, d)\n",
    "            </li>\n",
    "            <li>\n",
    "            کرنل rbf - پارامتر گاما\n",
    "            </li>\n",
    "            <li>\n",
    "            سیگمویید - پارامتر r\n",
    "            </li>           \n",
    "         </ul>\n",
    "</div"
   ]
  },
  {
   "cell_type": "markdown",
   "id": "0c85baea-8d8b-4887-8a53-2c804b049d9b",
   "metadata": {},
   "source": [
    "# Read Data"
   ]
  },
  {
   "cell_type": "code",
   "execution_count": 11,
   "id": "3a2ec69d-9133-4b83-a34e-2ecee51faaca",
   "metadata": {},
   "outputs": [
    {
     "name": "stderr",
     "output_type": "stream",
     "text": [
      "WARNING: pip is being invoked by an old script wrapper. This will fail in a future version of pip.\n",
      "Please see https://github.com/pypa/pip/issues/5599 for advice on fixing the underlying issue.\n",
      "To avoid this problem you can invoke Python with '-m pip' instead of running pip directly.\n"
     ]
    },
    {
     "data": {
      "text/html": [
       "<pre style=\"white-space:pre;overflow-x:auto;line-height:normal;font-family:Menlo,'DejaVu Sans Mono',consolas,'Courier New',monospace\">Collecting openpyxl\n",
       "</pre>\n"
      ],
      "text/plain": [
       "Collecting openpyxl\n"
      ]
     },
     "metadata": {},
     "output_type": "display_data"
    },
    {
     "data": {
      "text/html": [
       "<pre style=\"white-space:pre;overflow-x:auto;line-height:normal;font-family:Menlo,'DejaVu Sans Mono',consolas,'Courier New',monospace\">  Downloading openpyxl-3.1.2-py2.py3-none-any.whl (249 kB)\n",
       "</pre>\n"
      ],
      "text/plain": [
       "  Downloading openpyxl-3.1.2-py2.py3-none-any.whl (249 kB)\n"
      ]
     },
     "metadata": {},
     "output_type": "display_data"
    },
    {
     "data": {
      "text/html": [
       "<pre style=\"white-space:pre;overflow-x:auto;line-height:normal;font-family:Menlo,'DejaVu Sans Mono',consolas,'Courier New',monospace\">C:\\Users\\Radin\\Desktop\\ML-Basic\\ML_Basic_venv\\Lib\\site-packages\\pip\\_vendor\\rich\\live.py:231: UserWarning: install \n",
       "\"ipywidgets\" for Jupyter support\n",
       "  warnings.warn('install \"ipywidgets\" for Jupyter support')\n",
       "</pre>\n"
      ],
      "text/plain": [
       "C:\\Users\\Radin\\Desktop\\ML-Basic\\ML_Basic_venv\\Lib\\site-packages\\pip\\_vendor\\rich\\live.py:231: UserWarning: install \n",
       "\"ipywidgets\" for Jupyter support\n",
       "  warnings.warn('install \"ipywidgets\" for Jupyter support')\n"
      ]
     },
     "metadata": {},
     "output_type": "display_data"
    },
    {
     "data": {
      "text/html": [
       "<pre style=\"white-space:pre;overflow-x:auto;line-height:normal;font-family:Menlo,'DejaVu Sans Mono',consolas,'Courier New',monospace\"></pre>\n"
      ],
      "text/plain": []
     },
     "metadata": {},
     "output_type": "display_data"
    },
    {
     "data": {
      "text/html": [
       "<pre style=\"white-space:pre;overflow-x:auto;line-height:normal;font-family:Menlo,'DejaVu Sans Mono',consolas,'Courier New',monospace\">\n",
       "</pre>\n"
      ],
      "text/plain": [
       "\n"
      ]
     },
     "metadata": {},
     "output_type": "display_data"
    },
    {
     "data": {
      "text/html": [
       "<pre style=\"white-space:pre;overflow-x:auto;line-height:normal;font-family:Menlo,'DejaVu Sans Mono',consolas,'Courier New',monospace\">Collecting et-xmlfile (from openpyxl)\n",
       "</pre>\n"
      ],
      "text/plain": [
       "Collecting et-xmlfile (from openpyxl)\n"
      ]
     },
     "metadata": {},
     "output_type": "display_data"
    },
    {
     "data": {
      "text/html": [
       "<pre style=\"white-space:pre;overflow-x:auto;line-height:normal;font-family:Menlo,'DejaVu Sans Mono',consolas,'Courier New',monospace\">  Downloading et_xmlfile-1.1.0-py3-none-any.whl (4.7 kB)\n",
       "</pre>\n"
      ],
      "text/plain": [
       "  Downloading et_xmlfile-1.1.0-py3-none-any.whl (4.7 kB)\n"
      ]
     },
     "metadata": {},
     "output_type": "display_data"
    },
    {
     "data": {
      "text/html": [
       "<pre style=\"white-space:pre;overflow-x:auto;line-height:normal;font-family:Menlo,'DejaVu Sans Mono',consolas,'Courier New',monospace\">Installing collected packages: et-xmlfile, openpyxl\n",
       "</pre>\n"
      ],
      "text/plain": [
       "Installing collected packages: et-xmlfile, openpyxl\n"
      ]
     },
     "metadata": {},
     "output_type": "display_data"
    },
    {
     "data": {
      "text/html": [
       "<pre style=\"white-space:pre;overflow-x:auto;line-height:normal;font-family:Menlo,'DejaVu Sans Mono',consolas,'Courier New',monospace\">Successfully installed et-xmlfile-1.1.0 openpyxl-3.1.2\n",
       "</pre>\n"
      ],
      "text/plain": [
       "Successfully installed et-xmlfile-1.1.0 openpyxl-3.1.2\n"
      ]
     },
     "metadata": {},
     "output_type": "display_data"
    },
    {
     "data": {
      "text/html": [
       "<pre style=\"white-space:pre;overflow-x:auto;line-height:normal;font-family:Menlo,'DejaVu Sans Mono',consolas,'Courier New',monospace\">\n",
       "<span style=\"font-weight: bold\">[</span><span style=\"color: #000080; text-decoration-color: #000080; background-color: #ffffff\">notice</span><span style=\"color: #000000; text-decoration-color: #000000; background-color: #ffffff; font-weight: bold\">]</span><span style=\"color: #000000; text-decoration-color: #000000; background-color: #ffffff\"> A new release of pip is available: </span><span style=\"color: #800000; text-decoration-color: #800000; background-color: #ffffff\">23.3</span><span style=\"color: #000000; text-decoration-color: #000000; background-color: #ffffff\"> -&gt; </span><span style=\"color: #008000; text-decoration-color: #008000; background-color: #ffffff\">23.3.1</span>\n",
       "<span style=\"font-weight: bold\">[</span><span style=\"color: #000080; text-decoration-color: #000080; background-color: #ffffff\">notice</span><span style=\"color: #000000; text-decoration-color: #000000; background-color: #ffffff; font-weight: bold\">]</span><span style=\"color: #000000; text-decoration-color: #000000; background-color: #ffffff\"> To update, run: </span><span style=\"color: #008000; text-decoration-color: #008000; background-color: #ffffff\">python.exe -m pip install --upgrade pip</span>\n",
       "</pre>\n"
      ],
      "text/plain": [
       "\n",
       "\u001b[1m[\u001b[0m\u001b[34;49mnotice\u001b[0m\u001b[1;39;49m]\u001b[0m\u001b[39;49m A new release of pip is available: \u001b[0m\u001b[31;49m23.3\u001b[0m\u001b[39;49m -> \u001b[0m\u001b[32;49m23.3.1\u001b[0m\n",
       "\u001b[1m[\u001b[0m\u001b[34;49mnotice\u001b[0m\u001b[1;39;49m]\u001b[0m\u001b[39;49m To update, run: \u001b[0m\u001b[32;49mpython.exe -m pip install --upgrade pip\u001b[0m\n"
      ]
     },
     "metadata": {},
     "output_type": "display_data"
    },
    {
     "data": {
      "text/plain": [
       "0"
      ]
     },
     "execution_count": 11,
     "metadata": {},
     "output_type": "execute_result"
    }
   ],
   "source": [
    "import pip\n",
    "pip.main([\"install\", \"openpyxl\"])"
   ]
  },
  {
   "cell_type": "code",
   "execution_count": 229,
   "id": "14dd80eb-d470-45a5-b847-aade561f3a11",
   "metadata": {},
   "outputs": [],
   "source": [
    "xlsx = pd.ExcelFile('LSVT_voice_rehabilitation.xlsx')\n",
    "X = pd.read_excel(xlsx, 'Data')\n",
    "y = pd.read_excel(xlsx, 'Binary response')\n",
    "y= np.ravel(y)"
   ]
  },
  {
   "cell_type": "code",
   "execution_count": 400,
   "id": "b96c5fdd-1ec7-4360-b4ca-499f4d0ec7eb",
   "metadata": {},
   "outputs": [
    {
     "name": "stdout",
     "output_type": "stream",
     "text": [
      "<class 'pandas.core.frame.DataFrame'>\n",
      "RangeIndex: 126 entries, 0 to 125\n",
      "Columns: 310 entries, Jitter->F0_abs_dif to det_TKEO_std4_10_coef\n",
      "dtypes: float64(309), int64(1)\n",
      "memory usage: 305.3 KB\n",
      "Features Info:\n",
      " None\n",
      "<class 'pandas.core.frame.DataFrame'>\n",
      "RangeIndex: 126 entries, 0 to 125\n",
      "Data columns (total 1 columns):\n",
      " #   Column                                     Non-Null Count  Dtype\n",
      "---  ------                                     --------------  -----\n",
      " 0   Binary class 1=acceptable, 2=unacceptable  126 non-null    int64\n",
      "dtypes: int64(1)\n",
      "memory usage: 1.1 KB\n",
      "Label Info: None\n"
     ]
    }
   ],
   "source": [
    "print('Features Info:\\n', X.info())\n",
    "print('Label Info:', y.info())"
   ]
  },
  {
   "cell_type": "markdown",
   "id": "d91b8805-87c7-4080-8776-7d9c9cb462a8",
   "metadata": {},
   "source": [
    "# Import necessary libraries"
   ]
  },
  {
   "cell_type": "code",
   "execution_count": 230,
   "id": "4eca7bc3-3d65-46a2-8cb2-333d46472d66",
   "metadata": {},
   "outputs": [],
   "source": [
    "# TODO\n",
    "from sklearn.pipeline import Pipeline\n",
    "from sklearn.preprocessing import StandardScaler\n",
    "from sklearn.svm import LinearSVC\n",
    "from sklearn.preprocessing import PolynomialFeatures\n",
    "from sklearn.svm import SVC\n",
    "from sklearn.model_selection import GridSearchCV\n",
    "from sklearn.metrics import classification_report, confusion_matrix, accuracy_score, f1_score\n",
    "from sklearn.model_selection import train_test_split"
   ]
  },
  {
   "cell_type": "markdown",
   "id": "f817e797-dae2-4d28-b6db-6c646abc1dda",
   "metadata": {},
   "source": [
    "# Split train and test sets"
   ]
  },
  {
   "cell_type": "code",
   "execution_count": 231,
   "id": "4e846471-4725-45dc-b31f-c42872cd1fc0",
   "metadata": {},
   "outputs": [],
   "source": [
    "X_train, X_test, y_train, y_test = train_test_split(X, y, test_size=0.1, random_state=0)"
   ]
  },
  {
   "cell_type": "markdown",
   "id": "99cca887-ec9f-4995-8fd7-8ae81faaffdc",
   "metadata": {},
   "source": [
    "# Scaling the features"
   ]
  },
  {
   "cell_type": "code",
   "execution_count": 232,
   "id": "26061311-e398-4802-bbc1-c8ca193d2b87",
   "metadata": {},
   "outputs": [],
   "source": [
    "scaler = StandardScaler()\n",
    "X_train_scaled = scaler.fit_transform(X_train)\n",
    "X_test_scaled = scaler.fit_transform(X_test)"
   ]
  },
  {
   "cell_type": "markdown",
   "id": "95a7d0b1-9500-4a57-9fd1-5230eb3f9184",
   "metadata": {},
   "source": [
    "<div id=\"bayes\" style=\"direction:rtl;line-height:300%;\">\n",
    "\t<font face=\"XB Zar\" size=6>\n",
    "\t\t ب- معیار دقت و f1 را برای هریک از دسته بندی های قسمت الف به دست آورید. (برای هر یک از پارامترهای گفته شده حداقل سه مقدار مختلف در نظر بگیرید)\n",
    "\t\t</br>\n",
    "</div>"
   ]
  },
  {
   "cell_type": "markdown",
   "id": "8ec5d8e9-733a-4d85-8302-085b1d763f43",
   "metadata": {},
   "source": [
    "# Define indexes calculation function"
   ]
  },
  {
   "cell_type": "code",
   "execution_count": 233,
   "id": "5d19fcba-bdc4-4026-aeac-4049a5329ab8",
   "metadata": {},
   "outputs": [],
   "source": [
    "# TODO\n",
    "def get_parameter(C_list, gamma_list, d_list, r_list):\n",
    "    accuracy_linear_model = []\n",
    "    accuracy_poly_model = []\n",
    "    accuracy_rbf_model = []\n",
    "    accuracy_sigmoid_model = []\n",
    "    f1_score_linear_model = []\n",
    "    f1_score_poly_model = []\n",
    "    f1_score_rbf_model = []\n",
    "    f1_score_sigmoid_model = []\n",
    "    parameters_list = []\n",
    "    for sub_c in C_list:\n",
    "        for sub_gamma in gamma_list:\n",
    "            for sub_d in d_list:\n",
    "                for sub_r in r_list:\n",
    "                    parameters_list.append([sub_c, sub_gamma, sub_d, sub_r])\n",
    "                    #############################################Linear kernel\n",
    "                    svc_clf_linear = SVC(kernel=\"linear\", C=sub_c)\n",
    "                    svc_clf_linear.fit(X_train_scaled, y_train)\n",
    "                    y_pred_linear=svc_clf_linear.predict(X_test_scaled)\n",
    "                    accuracy_linear_model.append(accuracy_score(y_test, y_pred_linear))\n",
    "                    f1_score_linear_model.append(f1_score(y_test, y_pred_linear))\n",
    "                    #############################################Poly kernel\n",
    "                    svc_clf_poly = SVC(kernel=\"poly\", degree=sub_d, coef0=sub_r, C=sub_c)\n",
    "                    svc_clf_poly.fit(X_train_scaled, y_train)\n",
    "                    y_pred_poly=svc_clf_poly.predict(X_test_scaled)\n",
    "                    accuracy_poly_model.append(accuracy_score(y_test, y_pred_poly)) \n",
    "                    f1_score_poly_model.append(f1_score(y_test, y_pred_poly))\n",
    "                    #############################################RBF kernel\n",
    "                    svc_clf_rbf = SVC(kernel=\"rbf\", gamma=sub_gamma, C=sub_c)\n",
    "                    svc_clf_rbf.fit(X_train_scaled, y_train)\n",
    "                    y_pred_rbf=svc_clf_rbf.predict(X_test_scaled)\n",
    "                    accuracy_rbf_model.append(accuracy_score(y_test, y_pred_rbf))\n",
    "                    f1_score_rbf_model.append(f1_score(y_test, y_pred_rbf))\n",
    "                    #############################################Sigmoid kernel\n",
    "                    svc_clf_sigmoid = SVC(kernel=\"sigmoid\", gamma=sub_gamma, coef0=sub_r, C=sub_c)\n",
    "                    svc_clf_sigmoid.fit(X_train_scaled, y_train)\n",
    "                    y_pred_sigmoid=svc_clf_sigmoid.predict(X_test_scaled)\n",
    "                    accuracy_sigmoid_model.append(accuracy_score(y_test, y_pred_sigmoid))\n",
    "                    f1_score_sigmoid_model.append(f1_score(y_test, y_pred_sigmoid))\n",
    "    df = pd.DataFrame(data=[parameters_list, accuracy_linear_model, f1_score_linear_model, accuracy_poly_model, f1_score_poly_model, accuracy_rbf_model, f1_score_rbf_model, accuracy_sigmoid_model, f1_score_sigmoid_model]).T \n",
    "    df.columns = ['C, gamma, d, r', 'accuracy_linear', 'f1_score_linear', 'accuracy_poly', 'f1_score_poly', 'accuracy_rbf', 'f1_score_rbf', 'accuracy_sigmoid', 'f1_score_sigmoid']\n",
    "    df.to_csv('accuracy_kernels_svm.csv', index=False)\n",
    "    return df"
   ]
  },
  {
   "cell_type": "markdown",
   "id": "096ca752-0afe-49d2-a8d9-107ad15ef065",
   "metadata": {},
   "source": [
    "# Call the indexes calculation function"
   ]
  },
  {
   "cell_type": "code",
   "execution_count": 234,
   "id": "9f667318-6490-4e1e-a58b-797370798955",
   "metadata": {},
   "outputs": [
    {
     "data": {
      "text/html": [
       "<div>\n",
       "<style scoped>\n",
       "    .dataframe tbody tr th:only-of-type {\n",
       "        vertical-align: middle;\n",
       "    }\n",
       "\n",
       "    .dataframe tbody tr th {\n",
       "        vertical-align: top;\n",
       "    }\n",
       "\n",
       "    .dataframe thead th {\n",
       "        text-align: right;\n",
       "    }\n",
       "</style>\n",
       "<table border=\"1\" class=\"dataframe\">\n",
       "  <thead>\n",
       "    <tr style=\"text-align: right;\">\n",
       "      <th></th>\n",
       "      <th>C, gamma, d, r</th>\n",
       "      <th>accuracy_linear</th>\n",
       "      <th>f1_score_linear</th>\n",
       "      <th>accuracy_poly</th>\n",
       "      <th>f1_score_poly</th>\n",
       "      <th>accuracy_rbf</th>\n",
       "      <th>f1_score_rbf</th>\n",
       "      <th>accuracy_sigmoid</th>\n",
       "      <th>f1_score_sigmoid</th>\n",
       "    </tr>\n",
       "  </thead>\n",
       "  <tbody>\n",
       "    <tr>\n",
       "      <th>0</th>\n",
       "      <td>[1, 0.1, 3, 1]</td>\n",
       "      <td>0.846154</td>\n",
       "      <td>0.8</td>\n",
       "      <td>0.923077</td>\n",
       "      <td>0.888889</td>\n",
       "      <td>0.692308</td>\n",
       "      <td>0.0</td>\n",
       "      <td>0.692308</td>\n",
       "      <td>0.333333</td>\n",
       "    </tr>\n",
       "    <tr>\n",
       "      <th>1</th>\n",
       "      <td>[1, 0.1, 3, 2]</td>\n",
       "      <td>0.846154</td>\n",
       "      <td>0.8</td>\n",
       "      <td>0.846154</td>\n",
       "      <td>0.8</td>\n",
       "      <td>0.692308</td>\n",
       "      <td>0.0</td>\n",
       "      <td>0.692308</td>\n",
       "      <td>0.333333</td>\n",
       "    </tr>\n",
       "    <tr>\n",
       "      <th>2</th>\n",
       "      <td>[1, 0.1, 3, 3]</td>\n",
       "      <td>0.846154</td>\n",
       "      <td>0.8</td>\n",
       "      <td>0.846154</td>\n",
       "      <td>0.8</td>\n",
       "      <td>0.692308</td>\n",
       "      <td>0.0</td>\n",
       "      <td>0.692308</td>\n",
       "      <td>0.333333</td>\n",
       "    </tr>\n",
       "    <tr>\n",
       "      <th>3</th>\n",
       "      <td>[1, 0.1, 4, 1]</td>\n",
       "      <td>0.846154</td>\n",
       "      <td>0.8</td>\n",
       "      <td>0.923077</td>\n",
       "      <td>0.888889</td>\n",
       "      <td>0.692308</td>\n",
       "      <td>0.0</td>\n",
       "      <td>0.692308</td>\n",
       "      <td>0.333333</td>\n",
       "    </tr>\n",
       "    <tr>\n",
       "      <th>4</th>\n",
       "      <td>[1, 0.1, 4, 2]</td>\n",
       "      <td>0.846154</td>\n",
       "      <td>0.8</td>\n",
       "      <td>0.769231</td>\n",
       "      <td>0.666667</td>\n",
       "      <td>0.692308</td>\n",
       "      <td>0.0</td>\n",
       "      <td>0.692308</td>\n",
       "      <td>0.333333</td>\n",
       "    </tr>\n",
       "    <tr>\n",
       "      <th>...</th>\n",
       "      <td>...</td>\n",
       "      <td>...</td>\n",
       "      <td>...</td>\n",
       "      <td>...</td>\n",
       "      <td>...</td>\n",
       "      <td>...</td>\n",
       "      <td>...</td>\n",
       "      <td>...</td>\n",
       "      <td>...</td>\n",
       "    </tr>\n",
       "    <tr>\n",
       "      <th>76</th>\n",
       "      <td>[0.01, 10.0, 4, 2]</td>\n",
       "      <td>0.923077</td>\n",
       "      <td>0.888889</td>\n",
       "      <td>0.769231</td>\n",
       "      <td>0.4</td>\n",
       "      <td>0.692308</td>\n",
       "      <td>0.0</td>\n",
       "      <td>0.692308</td>\n",
       "      <td>0.0</td>\n",
       "    </tr>\n",
       "    <tr>\n",
       "      <th>77</th>\n",
       "      <td>[0.01, 10.0, 4, 3]</td>\n",
       "      <td>0.923077</td>\n",
       "      <td>0.888889</td>\n",
       "      <td>0.769231</td>\n",
       "      <td>0.571429</td>\n",
       "      <td>0.692308</td>\n",
       "      <td>0.0</td>\n",
       "      <td>0.692308</td>\n",
       "      <td>0.0</td>\n",
       "    </tr>\n",
       "    <tr>\n",
       "      <th>78</th>\n",
       "      <td>[0.01, 10.0, 5, 1]</td>\n",
       "      <td>0.923077</td>\n",
       "      <td>0.888889</td>\n",
       "      <td>0.692308</td>\n",
       "      <td>0.0</td>\n",
       "      <td>0.692308</td>\n",
       "      <td>0.0</td>\n",
       "      <td>0.692308</td>\n",
       "      <td>0.0</td>\n",
       "    </tr>\n",
       "    <tr>\n",
       "      <th>79</th>\n",
       "      <td>[0.01, 10.0, 5, 2]</td>\n",
       "      <td>0.923077</td>\n",
       "      <td>0.888889</td>\n",
       "      <td>0.769231</td>\n",
       "      <td>0.571429</td>\n",
       "      <td>0.692308</td>\n",
       "      <td>0.0</td>\n",
       "      <td>0.692308</td>\n",
       "      <td>0.0</td>\n",
       "    </tr>\n",
       "    <tr>\n",
       "      <th>80</th>\n",
       "      <td>[0.01, 10.0, 5, 3]</td>\n",
       "      <td>0.923077</td>\n",
       "      <td>0.888889</td>\n",
       "      <td>0.846154</td>\n",
       "      <td>0.8</td>\n",
       "      <td>0.692308</td>\n",
       "      <td>0.0</td>\n",
       "      <td>0.692308</td>\n",
       "      <td>0.0</td>\n",
       "    </tr>\n",
       "  </tbody>\n",
       "</table>\n",
       "<p>81 rows × 9 columns</p>\n",
       "</div>"
      ],
      "text/plain": [
       "        C, gamma, d, r accuracy_linear f1_score_linear accuracy_poly  \\\n",
       "0       [1, 0.1, 3, 1]        0.846154             0.8      0.923077   \n",
       "1       [1, 0.1, 3, 2]        0.846154             0.8      0.846154   \n",
       "2       [1, 0.1, 3, 3]        0.846154             0.8      0.846154   \n",
       "3       [1, 0.1, 4, 1]        0.846154             0.8      0.923077   \n",
       "4       [1, 0.1, 4, 2]        0.846154             0.8      0.769231   \n",
       "..                 ...             ...             ...           ...   \n",
       "76  [0.01, 10.0, 4, 2]        0.923077        0.888889      0.769231   \n",
       "77  [0.01, 10.0, 4, 3]        0.923077        0.888889      0.769231   \n",
       "78  [0.01, 10.0, 5, 1]        0.923077        0.888889      0.692308   \n",
       "79  [0.01, 10.0, 5, 2]        0.923077        0.888889      0.769231   \n",
       "80  [0.01, 10.0, 5, 3]        0.923077        0.888889      0.846154   \n",
       "\n",
       "   f1_score_poly accuracy_rbf f1_score_rbf accuracy_sigmoid f1_score_sigmoid  \n",
       "0       0.888889     0.692308          0.0         0.692308         0.333333  \n",
       "1            0.8     0.692308          0.0         0.692308         0.333333  \n",
       "2            0.8     0.692308          0.0         0.692308         0.333333  \n",
       "3       0.888889     0.692308          0.0         0.692308         0.333333  \n",
       "4       0.666667     0.692308          0.0         0.692308         0.333333  \n",
       "..           ...          ...          ...              ...              ...  \n",
       "76           0.4     0.692308          0.0         0.692308              0.0  \n",
       "77      0.571429     0.692308          0.0         0.692308              0.0  \n",
       "78           0.0     0.692308          0.0         0.692308              0.0  \n",
       "79      0.571429     0.692308          0.0         0.692308              0.0  \n",
       "80           0.8     0.692308          0.0         0.692308              0.0  \n",
       "\n",
       "[81 rows x 9 columns]"
      ]
     },
     "execution_count": 234,
     "metadata": {},
     "output_type": "execute_result"
    }
   ],
   "source": [
    "get_parameter([1, 1e-1, 1e-2], [1e-1, 1, 1e1], [3, 4, 5], [1, 2, 3])"
   ]
  },
  {
   "cell_type": "markdown",
   "id": "c2a6660b-18d8-40ac-b651-f1df747b871f",
   "metadata": {},
   "source": [
    "<div id=\"bayes\" style=\"direction:rtl;line-height:300%;\">\n",
    "\t<font face=\"XB Zar\" size=6>\n",
    "\t\t ج- تاثیر پارامترهای هر کرنل را بر کارآیی مدل ها تحلیل کنید.\n",
    "\t\t</br>\n",
    "</div>"
   ]
  },
  {
   "cell_type": "markdown",
   "id": "c61f16ab-822f-4f5b-85c1-e7398c3a8ec1",
   "metadata": {},
   "source": [
    "<div id=\"bayes\" style=\"direction:rtl;line-height:300%;\">\n",
    "\t<font face=\"XB Zar\" size=5 color=#f7f3c8>   <ul>\n",
    "            <li>  \n",
    "            <li>\n",
    "                پارامتر C یک مقدار مثبت است که با افزایش آن قیدهای مسئله بهینه سازی بیشتر شده و اگر خیلی بزرگ باشد، مسئله شبیه به hard margin می شود. این یعنی خطای طبقه بندی باید صفر شود.\n",
    "            </li>\n",
    "            <li>\n",
    "          \tپارامتر سیگما دارای یک مقدار مثبت است. اینکه هر نقطه مرکزی چقدر از همسایگی خودش را پوشش دهد بسته به مقدار سیگمای کرنل دارد و اگر به درستی تعیین نشود، داده ها در فضای جدید خطی نخواهند بود.\t\n",
    "            </li>\n",
    "            <li>\n",
    "           \tهر چقدر پارامتر گاما بزرگتر باشد، الگوریتم تلاش می کند برازش را دقیقا براساس مجموعه داده های تمرینی انجام دهد  و این امر موجب تعمیم یافتن خطا و وقوع مشکل بیش برازش شود. این یعنی فضای کمتری به هر کلاس می دهد و درنتیجه برای داده تست جایی نباشد. پس موجب می شود خطای بایاس کم و خطای واریانس زیاد شود.\n",
    "            </li>           \n",
    "         </ul>\n",
    "</div>"
   ]
  },
  {
   "cell_type": "markdown",
   "id": "3b7201b1-1800-4e9d-ae00-7cb5c9d673c8",
   "metadata": {},
   "source": [
    "<div id=\"bayes\" style=\"direction:rtl;line-height:300%;\">\n",
    "\t<font face=\"XB Zar\" size=6>\n",
    "\t\t د- کدام مدل عملکرد بهتری دارد؟ چرا؟\n",
    "\t\t</br>\n",
    "</div>"
   ]
  },
  {
   "cell_type": "markdown",
   "id": "e60f47c6-e8a3-480f-806f-f13d5d64867a",
   "metadata": {},
   "source": [
    "\n",
    "<div id=\"bayes\" style=\"direction:rtl;line-height:300%;\">\n",
    "\t<font face=\"XB Zar\" size=5 color=#f7f3c8>   <ul>\n",
    "       <li>\n",
    "      پارامترهایی که برای کرنل های این الگوریتم انتخاب شده اند، براساس حدس و خطا بوده است و مقدار آنها بهینه نیست. براساس نتایج حاصل در جدول بالا، مقدارهای accuracy و f1-score برای کرنل خطی بیشتر از کرنل های دیگر بوده است. از آنجایی‎که کرنل خطی برای داده هایی که فیچرهای بالایی دارند مناسب تر از کرنل های دیگر است. باتوجه با اینکه دیتاست مذکور دارای 310 فیچر است، این دلیل می تواند صادق باشد\n",
    "            </li>           \n",
    "         </ul>\n",
    "</div>"
   ]
  },
  {
   "cell_type": "markdown",
   "id": "4028f455-56e3-489b-94c3-1f77e9460a4d",
   "metadata": {},
   "source": [
    "# 3- Student Intervention System\n",
    "\n",
    "<div style=\"margin-left: 10px;font-size:25px\">a) Run the code cell below to load necessary Python libraries and load the student data. Note that the last column from this dataset, 'passed', will be our target label (whether the student graduated or didn't graduate). All other columns are features about each student.</div>"
   ]
  },
  {
   "cell_type": "code",
   "execution_count": 31,
   "id": "6b3d38d1-e78a-4017-adca-b296225645b5",
   "metadata": {},
   "outputs": [
    {
     "data": {
      "text/html": [
       "<div>\n",
       "<style scoped>\n",
       "    .dataframe tbody tr th:only-of-type {\n",
       "        vertical-align: middle;\n",
       "    }\n",
       "\n",
       "    .dataframe tbody tr th {\n",
       "        vertical-align: top;\n",
       "    }\n",
       "\n",
       "    .dataframe thead th {\n",
       "        text-align: right;\n",
       "    }\n",
       "</style>\n",
       "<table border=\"1\" class=\"dataframe\">\n",
       "  <thead>\n",
       "    <tr style=\"text-align: right;\">\n",
       "      <th></th>\n",
       "      <th>school</th>\n",
       "      <th>sex</th>\n",
       "      <th>age</th>\n",
       "      <th>address</th>\n",
       "      <th>famsize</th>\n",
       "      <th>Pstatus</th>\n",
       "      <th>Medu</th>\n",
       "      <th>Fedu</th>\n",
       "      <th>Mjob</th>\n",
       "      <th>Fjob</th>\n",
       "      <th>...</th>\n",
       "      <th>internet</th>\n",
       "      <th>romantic</th>\n",
       "      <th>famrel</th>\n",
       "      <th>freetime</th>\n",
       "      <th>goout</th>\n",
       "      <th>Dalc</th>\n",
       "      <th>Walc</th>\n",
       "      <th>health</th>\n",
       "      <th>absences</th>\n",
       "      <th>passed</th>\n",
       "    </tr>\n",
       "  </thead>\n",
       "  <tbody>\n",
       "    <tr>\n",
       "      <th>0</th>\n",
       "      <td>GP</td>\n",
       "      <td>F</td>\n",
       "      <td>18</td>\n",
       "      <td>U</td>\n",
       "      <td>GT3</td>\n",
       "      <td>A</td>\n",
       "      <td>4</td>\n",
       "      <td>4</td>\n",
       "      <td>at_home</td>\n",
       "      <td>teacher</td>\n",
       "      <td>...</td>\n",
       "      <td>no</td>\n",
       "      <td>no</td>\n",
       "      <td>4</td>\n",
       "      <td>3</td>\n",
       "      <td>4</td>\n",
       "      <td>1</td>\n",
       "      <td>1</td>\n",
       "      <td>3</td>\n",
       "      <td>6</td>\n",
       "      <td>no</td>\n",
       "    </tr>\n",
       "    <tr>\n",
       "      <th>1</th>\n",
       "      <td>GP</td>\n",
       "      <td>F</td>\n",
       "      <td>17</td>\n",
       "      <td>U</td>\n",
       "      <td>GT3</td>\n",
       "      <td>T</td>\n",
       "      <td>1</td>\n",
       "      <td>1</td>\n",
       "      <td>at_home</td>\n",
       "      <td>other</td>\n",
       "      <td>...</td>\n",
       "      <td>yes</td>\n",
       "      <td>no</td>\n",
       "      <td>5</td>\n",
       "      <td>3</td>\n",
       "      <td>3</td>\n",
       "      <td>1</td>\n",
       "      <td>1</td>\n",
       "      <td>3</td>\n",
       "      <td>4</td>\n",
       "      <td>no</td>\n",
       "    </tr>\n",
       "  </tbody>\n",
       "</table>\n",
       "<p>2 rows × 31 columns</p>\n",
       "</div>"
      ],
      "text/plain": [
       "  school sex  age address famsize Pstatus  Medu  Fedu     Mjob     Fjob  ...  \\\n",
       "0     GP   F   18       U     GT3       A     4     4  at_home  teacher  ...   \n",
       "1     GP   F   17       U     GT3       T     1     1  at_home    other  ...   \n",
       "\n",
       "  internet romantic  famrel  freetime  goout Dalc Walc health absences passed  \n",
       "0       no       no       4         3      4    1    1      3        6     no  \n",
       "1      yes       no       5         3      3    1    1      3        4     no  \n",
       "\n",
       "[2 rows x 31 columns]"
      ]
     },
     "execution_count": 31,
     "metadata": {},
     "output_type": "execute_result"
    }
   ],
   "source": [
    "student_data = pd.read_csv(\"student_data.csv\")\n",
    "student_data.head(2)"
   ]
  },
  {
   "cell_type": "markdown",
   "id": "5bfd5509-8974-44c8-87c9-06e5aefb475c",
   "metadata": {},
   "source": [
    "<div style=\"margin-left: 10px;font-size:25px\">\n",
    "  <p>  \n",
    "b) Let's begin by investigating the dataset to determine how many students we have information on, and learn about the graduation rate among these students. In the code cell below, you will need to compute the following:\n",
    "    </p>\n",
    "    <ul>\n",
    "        <li>The total number of students, n_students.</li>\n",
    "        <li>The total number of features for each student, n_features.</li>\n",
    "        <li>The number of those students who passed, n_passed.</li>\n",
    "        <li>The number of those students who failed, n_failed.</li>\n",
    "        <li>The graduation rate of the class, grad_rate, in percent (%).</li>\n",
    "     </ul>\n",
    "\n",
    "</div>"
   ]
  },
  {
   "cell_type": "code",
   "execution_count": 43,
   "id": "033979a1-2aaf-442b-aa38-41842db77e04",
   "metadata": {},
   "outputs": [
    {
     "data": {
      "text/plain": [
       "Index(['school', 'sex', 'age', 'address', 'famsize', 'Pstatus', 'Medu', 'Fedu',\n",
       "       'Mjob', 'Fjob', 'reason', 'guardian', 'traveltime', 'studytime',\n",
       "       'failures', 'schoolsup', 'famsup', 'paid', 'activities', 'nursery',\n",
       "       'higher', 'internet', 'romantic', 'famrel', 'freetime', 'goout', 'Dalc',\n",
       "       'Walc', 'health', 'absences', 'passed'],\n",
       "      dtype='object')"
      ]
     },
     "execution_count": 43,
     "metadata": {},
     "output_type": "execute_result"
    }
   ],
   "source": [
    "student_data.columns"
   ]
  },
  {
   "cell_type": "code",
   "execution_count": 39,
   "id": "03b71b4c-b877-4975-b696-a04ee3b67270",
   "metadata": {},
   "outputs": [
    {
     "data": {
      "text/plain": [
       "school        False\n",
       "sex           False\n",
       "age           False\n",
       "address       False\n",
       "famsize       False\n",
       "Pstatus       False\n",
       "Medu          False\n",
       "Fedu          False\n",
       "Mjob          False\n",
       "Fjob          False\n",
       "reason        False\n",
       "guardian      False\n",
       "traveltime    False\n",
       "studytime     False\n",
       "failures      False\n",
       "schoolsup     False\n",
       "famsup        False\n",
       "paid          False\n",
       "activities    False\n",
       "nursery       False\n",
       "higher        False\n",
       "internet      False\n",
       "romantic      False\n",
       "famrel        False\n",
       "freetime      False\n",
       "goout         False\n",
       "Dalc          False\n",
       "Walc          False\n",
       "health        False\n",
       "absences      False\n",
       "passed        False\n",
       "dtype: bool"
      ]
     },
     "execution_count": 39,
     "metadata": {},
     "output_type": "execute_result"
    }
   ],
   "source": [
    "student_data.isnull().any()"
   ]
  },
  {
   "cell_type": "code",
   "execution_count": 40,
   "id": "ee65da80-a539-49df-8e2e-f82fa92a9c5e",
   "metadata": {},
   "outputs": [
    {
     "data": {
      "text/html": [
       "<div>\n",
       "<style scoped>\n",
       "    .dataframe tbody tr th:only-of-type {\n",
       "        vertical-align: middle;\n",
       "    }\n",
       "\n",
       "    .dataframe tbody tr th {\n",
       "        vertical-align: top;\n",
       "    }\n",
       "\n",
       "    .dataframe thead th {\n",
       "        text-align: right;\n",
       "    }\n",
       "</style>\n",
       "<table border=\"1\" class=\"dataframe\">\n",
       "  <thead>\n",
       "    <tr style=\"text-align: right;\">\n",
       "      <th></th>\n",
       "      <th>age</th>\n",
       "      <th>Medu</th>\n",
       "      <th>Fedu</th>\n",
       "      <th>traveltime</th>\n",
       "      <th>studytime</th>\n",
       "      <th>failures</th>\n",
       "      <th>famrel</th>\n",
       "      <th>freetime</th>\n",
       "      <th>goout</th>\n",
       "      <th>Dalc</th>\n",
       "      <th>Walc</th>\n",
       "      <th>health</th>\n",
       "      <th>absences</th>\n",
       "    </tr>\n",
       "  </thead>\n",
       "  <tbody>\n",
       "    <tr>\n",
       "      <th>count</th>\n",
       "      <td>395.000000</td>\n",
       "      <td>395.000000</td>\n",
       "      <td>395.000000</td>\n",
       "      <td>395.000000</td>\n",
       "      <td>395.000000</td>\n",
       "      <td>395.000000</td>\n",
       "      <td>395.000000</td>\n",
       "      <td>395.000000</td>\n",
       "      <td>395.000000</td>\n",
       "      <td>395.000000</td>\n",
       "      <td>395.000000</td>\n",
       "      <td>395.000000</td>\n",
       "      <td>395.000000</td>\n",
       "    </tr>\n",
       "    <tr>\n",
       "      <th>mean</th>\n",
       "      <td>16.696203</td>\n",
       "      <td>2.749367</td>\n",
       "      <td>2.521519</td>\n",
       "      <td>1.448101</td>\n",
       "      <td>2.035443</td>\n",
       "      <td>0.334177</td>\n",
       "      <td>3.944304</td>\n",
       "      <td>3.235443</td>\n",
       "      <td>3.108861</td>\n",
       "      <td>1.481013</td>\n",
       "      <td>2.291139</td>\n",
       "      <td>3.554430</td>\n",
       "      <td>5.708861</td>\n",
       "    </tr>\n",
       "    <tr>\n",
       "      <th>std</th>\n",
       "      <td>1.276043</td>\n",
       "      <td>1.094735</td>\n",
       "      <td>1.088201</td>\n",
       "      <td>0.697505</td>\n",
       "      <td>0.839240</td>\n",
       "      <td>0.743651</td>\n",
       "      <td>0.896659</td>\n",
       "      <td>0.998862</td>\n",
       "      <td>1.113278</td>\n",
       "      <td>0.890741</td>\n",
       "      <td>1.287897</td>\n",
       "      <td>1.390303</td>\n",
       "      <td>8.003096</td>\n",
       "    </tr>\n",
       "    <tr>\n",
       "      <th>min</th>\n",
       "      <td>15.000000</td>\n",
       "      <td>0.000000</td>\n",
       "      <td>0.000000</td>\n",
       "      <td>1.000000</td>\n",
       "      <td>1.000000</td>\n",
       "      <td>0.000000</td>\n",
       "      <td>1.000000</td>\n",
       "      <td>1.000000</td>\n",
       "      <td>1.000000</td>\n",
       "      <td>1.000000</td>\n",
       "      <td>1.000000</td>\n",
       "      <td>1.000000</td>\n",
       "      <td>0.000000</td>\n",
       "    </tr>\n",
       "    <tr>\n",
       "      <th>25%</th>\n",
       "      <td>16.000000</td>\n",
       "      <td>2.000000</td>\n",
       "      <td>2.000000</td>\n",
       "      <td>1.000000</td>\n",
       "      <td>1.000000</td>\n",
       "      <td>0.000000</td>\n",
       "      <td>4.000000</td>\n",
       "      <td>3.000000</td>\n",
       "      <td>2.000000</td>\n",
       "      <td>1.000000</td>\n",
       "      <td>1.000000</td>\n",
       "      <td>3.000000</td>\n",
       "      <td>0.000000</td>\n",
       "    </tr>\n",
       "    <tr>\n",
       "      <th>50%</th>\n",
       "      <td>17.000000</td>\n",
       "      <td>3.000000</td>\n",
       "      <td>2.000000</td>\n",
       "      <td>1.000000</td>\n",
       "      <td>2.000000</td>\n",
       "      <td>0.000000</td>\n",
       "      <td>4.000000</td>\n",
       "      <td>3.000000</td>\n",
       "      <td>3.000000</td>\n",
       "      <td>1.000000</td>\n",
       "      <td>2.000000</td>\n",
       "      <td>4.000000</td>\n",
       "      <td>4.000000</td>\n",
       "    </tr>\n",
       "    <tr>\n",
       "      <th>75%</th>\n",
       "      <td>18.000000</td>\n",
       "      <td>4.000000</td>\n",
       "      <td>3.000000</td>\n",
       "      <td>2.000000</td>\n",
       "      <td>2.000000</td>\n",
       "      <td>0.000000</td>\n",
       "      <td>5.000000</td>\n",
       "      <td>4.000000</td>\n",
       "      <td>4.000000</td>\n",
       "      <td>2.000000</td>\n",
       "      <td>3.000000</td>\n",
       "      <td>5.000000</td>\n",
       "      <td>8.000000</td>\n",
       "    </tr>\n",
       "    <tr>\n",
       "      <th>max</th>\n",
       "      <td>22.000000</td>\n",
       "      <td>4.000000</td>\n",
       "      <td>4.000000</td>\n",
       "      <td>4.000000</td>\n",
       "      <td>4.000000</td>\n",
       "      <td>3.000000</td>\n",
       "      <td>5.000000</td>\n",
       "      <td>5.000000</td>\n",
       "      <td>5.000000</td>\n",
       "      <td>5.000000</td>\n",
       "      <td>5.000000</td>\n",
       "      <td>5.000000</td>\n",
       "      <td>75.000000</td>\n",
       "    </tr>\n",
       "  </tbody>\n",
       "</table>\n",
       "</div>"
      ],
      "text/plain": [
       "              age        Medu        Fedu  traveltime   studytime    failures  \\\n",
       "count  395.000000  395.000000  395.000000  395.000000  395.000000  395.000000   \n",
       "mean    16.696203    2.749367    2.521519    1.448101    2.035443    0.334177   \n",
       "std      1.276043    1.094735    1.088201    0.697505    0.839240    0.743651   \n",
       "min     15.000000    0.000000    0.000000    1.000000    1.000000    0.000000   \n",
       "25%     16.000000    2.000000    2.000000    1.000000    1.000000    0.000000   \n",
       "50%     17.000000    3.000000    2.000000    1.000000    2.000000    0.000000   \n",
       "75%     18.000000    4.000000    3.000000    2.000000    2.000000    0.000000   \n",
       "max     22.000000    4.000000    4.000000    4.000000    4.000000    3.000000   \n",
       "\n",
       "           famrel    freetime       goout        Dalc        Walc      health  \\\n",
       "count  395.000000  395.000000  395.000000  395.000000  395.000000  395.000000   \n",
       "mean     3.944304    3.235443    3.108861    1.481013    2.291139    3.554430   \n",
       "std      0.896659    0.998862    1.113278    0.890741    1.287897    1.390303   \n",
       "min      1.000000    1.000000    1.000000    1.000000    1.000000    1.000000   \n",
       "25%      4.000000    3.000000    2.000000    1.000000    1.000000    3.000000   \n",
       "50%      4.000000    3.000000    3.000000    1.000000    2.000000    4.000000   \n",
       "75%      5.000000    4.000000    4.000000    2.000000    3.000000    5.000000   \n",
       "max      5.000000    5.000000    5.000000    5.000000    5.000000    5.000000   \n",
       "\n",
       "         absences  \n",
       "count  395.000000  \n",
       "mean     5.708861  \n",
       "std      8.003096  \n",
       "min      0.000000  \n",
       "25%      0.000000  \n",
       "50%      4.000000  \n",
       "75%      8.000000  \n",
       "max     75.000000  "
      ]
     },
     "execution_count": 40,
     "metadata": {},
     "output_type": "execute_result"
    }
   ],
   "source": [
    "student_data.describe()"
   ]
  },
  {
   "cell_type": "code",
   "execution_count": 36,
   "id": "c72d64f6-ea7e-4595-ae7d-282e3a2646ed",
   "metadata": {},
   "outputs": [
    {
     "data": {
      "text/plain": [
       "school         2\n",
       "sex            2\n",
       "age            8\n",
       "address        2\n",
       "famsize        2\n",
       "Pstatus        2\n",
       "Medu           5\n",
       "Fedu           5\n",
       "Mjob           5\n",
       "Fjob           5\n",
       "reason         4\n",
       "guardian       3\n",
       "traveltime     4\n",
       "studytime      4\n",
       "failures       4\n",
       "schoolsup      2\n",
       "famsup         2\n",
       "paid           2\n",
       "activities     2\n",
       "nursery        2\n",
       "higher         2\n",
       "internet       2\n",
       "romantic       2\n",
       "famrel         5\n",
       "freetime       5\n",
       "goout          5\n",
       "Dalc           5\n",
       "Walc           5\n",
       "health         5\n",
       "absences      34\n",
       "passed         2\n",
       "dtype: int64"
      ]
     },
     "execution_count": 36,
     "metadata": {},
     "output_type": "execute_result"
    }
   ],
   "source": [
    "student_data.nunique()"
   ]
  },
  {
   "cell_type": "code",
   "execution_count": 54,
   "id": "75834b0c-fd2a-45ae-bb4b-041b53ea039f",
   "metadata": {},
   "outputs": [
    {
     "name": "stdout",
     "output_type": "stream",
     "text": [
      "Total number of students: 395\n",
      "Number of features: 30\n",
      "Number of students who passed: 265\n",
      "Number of students who failed: 130\n",
      "Graduation rate of the class: 0.67%\n"
     ]
    }
   ],
   "source": [
    "# TODO: Calculate number of students\n",
    "\n",
    "n_students = student_data['age'].count()\n",
    "\n",
    "# TODO: Calculate number of features\n",
    "n_features = student_data.shape[1]-1\n",
    "\n",
    "# TODO: Calculate passing students\n",
    "n_passed = student_data.loc[student_data['passed']=='yes', 'passed'].count()\n",
    "\n",
    "# TODO: Calculate failing students\n",
    "n_failed = student_data.loc[student_data['passed']=='no', 'passed'].count()\n",
    "\n",
    "# TODO: Calculate graduation rate\n",
    "grad_rate = n_passed / n_students\n",
    "\n",
    "# Print the results\n",
    "print(\"Total number of students: {}\".format(n_students))\n",
    "print(\"Number of features: {}\".format(n_features))\n",
    "print(\"Number of students who passed: {}\".format(n_passed))\n",
    "print(\"Number of students who failed: {}\".format(n_failed))\n",
    "print(\"Graduation rate of the class: {:.2f}%\".format(grad_rate))"
   ]
  },
  {
   "cell_type": "markdown",
   "id": "4eb98764-1eab-402f-a9c6-846417c02d75",
   "metadata": {
    "tags": []
   },
   "source": [
    "<div style=\"margin-left: 10px;font-size:25px\">\n",
    "    <p>c) Preparing the Data</p>\n",
    "    <p>In this section, we will prepare the data for modeling, training and testing.</p>\n",
    "    <p>Identify feature and target columns\n",
    "It is often the case that the data you obtain contains non-numeric features. This can be a problem, as most machine learning algorithms expect numeric data to perform computations with.\n",
    "\n",
    "Run the code cell below to separate the student data into feature and target columns to see if any features are non-numeric.</p>\n",
    "</div>\n",
    "\n",
    "\n"
   ]
  },
  {
   "cell_type": "code",
   "execution_count": 56,
   "id": "62d65bfa-7b48-406d-b496-cb27a4db5139",
   "metadata": {},
   "outputs": [
    {
     "name": "stdout",
     "output_type": "stream",
     "text": [
      "Feature columns:\n",
      "['school', 'sex', 'age', 'address', 'famsize', 'Pstatus', 'Medu', 'Fedu', 'Mjob', 'Fjob', 'reason', 'guardian', 'traveltime', 'studytime', 'failures', 'schoolsup', 'famsup', 'paid', 'activities', 'nursery', 'higher', 'internet', 'romantic', 'famrel', 'freetime', 'goout', 'Dalc', 'Walc', 'health', 'absences']\n",
      "\n",
      "Target column: passed\n"
     ]
    }
   ],
   "source": [
    "# Extract feature columns\n",
    "feature_cols = list(student_data.columns[:-1])\n",
    "\n",
    "# Extract target column 'passed'\n",
    "target_col = student_data.columns[-1] \n",
    "\n",
    "# Show the list of columns\n",
    "print(\"Feature columns:\\n{}\".format(feature_cols))\n",
    "print(\"\\nTarget column: {}\".format(target_col))\n",
    "\n",
    "# Separate the data into feature data and target data (X_all and y_all, respectively)\n",
    "X = student_data[feature_cols]\n",
    "y = student_data[target_col]"
   ]
  },
  {
   "cell_type": "markdown",
   "id": "af1a82fa-9a11-4ad5-8ed1-e61086fa3874",
   "metadata": {},
   "source": [
    "<div style=\"margin-left: 10px;font-size:25px\">\n",
    "    <p>d) Preprocess Feature Columns</p>\n",
    "    <p>As you can see, there are several non-numeric columns that need to be converted! Many of them are simply yes/no, e.g. internet. These can be reasonably converted into 1/0 (binary) values.</p>\n",
    "    <p>\n",
    "Other columns, like Mjob and Fjob, have more than two values, and are known as categorical variables. The recommended way to handle such a column is to create as many columns as possible values (e.g. Fjob_teacher, Fjob_other, Fjob_services, etc.), and assign a 1 to one of them and 0 to all others.\n",
    "\n",
    "These generated columns are sometimes called dummy variables, and we will use the pandas.get_dummies() function to perform this transformation. Run the code cell below to perform the preprocessing routine discussed in this section.</p>\n",
    "</div>\n"
   ]
  },
  {
   "cell_type": "code",
   "execution_count": 57,
   "id": "37fa60c9-b048-443a-8833-3717c637f93b",
   "metadata": {},
   "outputs": [
    {
     "name": "stdout",
     "output_type": "stream",
     "text": [
      "*****binary*****\n",
      "col name:  school----unique values:  ['GP' 'MS']\n",
      "*****binary*****\n",
      "col name:  sex----unique values:  ['F' 'M']\n",
      "*****binary*****\n",
      "col name:  address----unique values:  ['U' 'R']\n",
      "*****binary*****\n",
      "col name:  famsize----unique values:  ['GT3' 'LE3']\n",
      "*****binary*****\n",
      "col name:  Pstatus----unique values:  ['A' 'T']\n",
      "*****categorical*****\n",
      "col name:  Mjob----unique values:  ['at_home' 'health' 'other' 'services' 'teacher']\n",
      "*****categorical*****\n",
      "col name:  Fjob----unique values:  ['teacher' 'other' 'services' 'health' 'at_home']\n",
      "*****categorical*****\n",
      "col name:  reason----unique values:  ['course' 'other' 'home' 'reputation']\n",
      "*****categorical*****\n",
      "col name:  guardian----unique values:  ['mother' 'father' 'other']\n",
      "*****binary*****\n",
      "col name:  schoolsup----unique values:  ['yes' 'no']\n",
      "*****binary*****\n",
      "col name:  famsup----unique values:  ['no' 'yes']\n",
      "*****binary*****\n",
      "col name:  paid----unique values:  ['no' 'yes']\n",
      "*****binary*****\n",
      "col name:  activities----unique values:  ['no' 'yes']\n",
      "*****binary*****\n",
      "col name:  nursery----unique values:  ['yes' 'no']\n",
      "*****binary*****\n",
      "col name:  higher----unique values:  ['yes' 'no']\n",
      "*****binary*****\n",
      "col name:  internet----unique values:  ['no' 'yes']\n",
      "*****binary*****\n",
      "col name:  romantic----unique values:  ['no' 'yes']\n"
     ]
    }
   ],
   "source": [
    "def preprocess_features(X):\n",
    "    ''' Preprocesses the student data and converts non-numeric binary variables into\n",
    "        binary (0/1) variables. Converts categorical variables into dummy variables. '''\n",
    "    \n",
    "    # Initialize new output DataFrame\n",
    "    output = pd.DataFrame(index = X.index)\n",
    "\n",
    "    # Investigate each feature column for the data\n",
    "    for col, col_data in X.items():\n",
    "\n",
    "        # If data type is non-numeric, replace all binary values with 1/0\n",
    "        if col_data.dtype == object and len(col_data.unique()) == 2:\n",
    "            print(\"*****binary*****\")\n",
    "            print(\"col name: \", col, end=\"----\")\n",
    "            col_data_unique = col_data.unique()\n",
    "            print(\"unique values: \", col_data_unique)\n",
    "            col_data = col_data.replace(col_data_unique, [1, 0])\n",
    "\n",
    "        # If data type is categorical, convert to dummy variables\n",
    "        if col_data.dtype == object and len(col_data.unique()) != 2:\n",
    "            print(\"*****categorical*****\")\n",
    "            print(\"col name: \", col, end=\"----\")\n",
    "            col_data_unique = col_data.unique()\n",
    "            print(\"unique values: \", col_data_unique)\n",
    "            # Example: 'school' => 'school_GP' and 'school_MS'\n",
    "            col_data = pd.get_dummies(col_data, prefix = col)  \n",
    "        \n",
    "        # Collect the revised columns\n",
    "        output = output.join(col_data)\n",
    "    \n",
    "    return output\n",
    "\n",
    "X_preprocessed = preprocess_features(X)"
   ]
  },
  {
   "cell_type": "markdown",
   "id": "3cda8da9-4532-4eef-9584-ee528e9a4d29",
   "metadata": {},
   "source": [
    "# Convert the target to 0 & 1"
   ]
  },
  {
   "cell_type": "code",
   "execution_count": 133,
   "id": "52c57653-d1b7-48f9-a1a4-aed047109a98",
   "metadata": {},
   "outputs": [],
   "source": [
    "y = y.replace(y.unique(), [1, 0])"
   ]
  },
  {
   "cell_type": "markdown",
   "id": "d362423d-245a-4be8-b8e8-c21e0dfc9a2b",
   "metadata": {},
   "source": [
    "# count the raw and Preprocessed features"
   ]
  },
  {
   "cell_type": "code",
   "execution_count": 224,
   "id": "ea402870-e193-45be-a38d-0f49b617e2ce",
   "metadata": {},
   "outputs": [
    {
     "name": "stdout",
     "output_type": "stream",
     "text": [
      "Number of raw features:  30\n"
     ]
    }
   ],
   "source": [
    "print('Number of raw features: ', len(X.columns))"
   ]
  },
  {
   "cell_type": "code",
   "execution_count": 223,
   "id": "c0fee62b-cc45-4309-ae74-46263026fd3f",
   "metadata": {},
   "outputs": [
    {
     "name": "stdout",
     "output_type": "stream",
     "text": [
      "Number of preprocessed features:  43\n"
     ]
    }
   ],
   "source": [
    "print( 'Number of preprocessed features: ', len(X_preprocessed.columns))"
   ]
  },
  {
   "cell_type": "markdown",
   "id": "730323a6-decd-4da0-9f56-d15cb7126fe1",
   "metadata": {},
   "source": [
    "<div style=\"margin-left: 10px;font-size:25px\">\n",
    "    <p>e) Training and Testing Data Split</p>\n",
    "    <p>split the data (both features and corresponding labels) into training and test sets.(Use 300 training points (approximately 75%) and 95 testing points (approximately 25%).)</p>\n",
    "</div>"
   ]
  },
  {
   "cell_type": "markdown",
   "id": "ac83b269-e42f-4ee8-983f-78b16c207fe9",
   "metadata": {},
   "source": [
    "# Split train and set sets"
   ]
  },
  {
   "cell_type": "code",
   "execution_count": 142,
   "id": "5d854097-e759-4d75-aa94-d02bdd5a017c",
   "metadata": {},
   "outputs": [],
   "source": [
    "from sklearn.model_selection import train_test_split\n",
    "X_train, X_test, y_train, y_test = train_test_split(X_preprocessed, y, test_size=0.24, random_state=10)"
   ]
  },
  {
   "cell_type": "markdown",
   "id": "eba84511-5161-437b-9ae1-625aaaed87e6",
   "metadata": {},
   "source": [
    "<div style=\"margin-left: 10px;font-size:25px\">\n",
    "<p>f) In this section, you will choose 3 supervised learning models that are appropriate for this problem and available in scikit-learn. You will first discuss the reasoning behind choosing these three models by considering what you know about the data and each model's strengths and weaknesses. You will then fit the model to training data and measure the F1 score. You will need to produce three tables (one for each model) that shows the training set size, training time, prediction time, F1 score on the training set, and F1 score on the testing set.</p>\n",
    "<p>The following supervised learning models are currently available in scikit-learn that you may choose from:</p>\n",
    "    <ul>\n",
    "        <li>Gaussian Naive Bayes (GaussianNB)</li>\n",
    "        <li>K-Nearest Neighbors (KNeighbors)</li>\n",
    "        <li>Stochastic Gradient Descent (SGDC)</li>\n",
    "        <li>Support Vector Machines (SVM)</li>\n",
    "        <li>Logistic Regression</li>\n",
    "     </ul>\n",
    "</div>    "
   ]
  },
  {
   "cell_type": "markdown",
   "id": "dd8d00c4-d081-4b20-99d7-0afc4ce44877",
   "metadata": {},
   "source": [
    "<div style=\"margin-left: 10px;font-size:25px\">\n",
    "<p></p>\n",
    "<p>Answer:</p>\n",
    "    <ul>\n",
    "        <li>Note: this dataset is small and has large features. Also, it has low graduation rate of the class. It seems the GNN, KNN and SVM models are better than other two models. because of;</li>\n",
    "        <li>The GNB is simle and will converge quicker than models like logistic Regression. Also, this model can peform better than more complex models when the dataset is small.</li>\n",
    "        <li>The SVM model is appropiet when the dataset is small and has large featurs.</li>\n",
    "        <li>SGDC model is appropriate for huge datasets, beacuase of it is unable all the data fetch together to the</li>\n",
    "    ram."
   ]
  },
  {
   "cell_type": "markdown",
   "id": "85f5c42d-fb89-4614-a32a-440bbb0a03cd",
   "metadata": {},
   "source": [
    "# Import necessary libraries"
   ]
  },
  {
   "cell_type": "code",
   "execution_count": 121,
   "id": "2827b9a8-6b19-4ee8-8a46-2f297325ad32",
   "metadata": {},
   "outputs": [],
   "source": [
    "from time import time\n",
    "from sklearn.svm import LinearSVC\n",
    "from sklearn.naive_bayes import GaussianNB\n",
    "from sklearn.neighbors import KNeighborsClassifier\n",
    "from sklearn.metrics import f1_score, accuracy_score"
   ]
  },
  {
   "cell_type": "markdown",
   "id": "6217dfc4-5b88-4707-8849-fd9d07b11a91",
   "metadata": {},
   "source": [
    "# Define indexes calculation function"
   ]
  },
  {
   "cell_type": "code",
   "execution_count": 213,
   "id": "735f4667-513c-4315-8906-9838753cfed6",
   "metadata": {},
   "outputs": [],
   "source": [
    "# TODO\n",
    "def get_model_train(clf, X_train, X_test, y_train, y_test):\n",
    "# Scaling features \n",
    " scaler = StandardScaler()\n",
    " X_train_scaled = scaler.fit_transform(X_train)\n",
    " X_test_scaled = scaler.fit_transform(X_test)\n",
    "# Create an instance\n",
    " clf_model = clf()\n",
    "\n",
    "# learning the model\n",
    " start_train_time = time()\n",
    " clf_model.fit(X_train_scaled, np.ravel(y_train))\n",
    " end_train_time = time()\n",
    " deltha_train = end_train_time - start_train_time\n",
    " y_predic_train = clf_model.predict(X_train_scaled)\n",
    "\n",
    "# evaluation the model\n",
    " start_test_time = time()\n",
    " y_predic_test = clf_model.predict(X_test_scaled)\n",
    " end_test_time = time()\n",
    " delta_test = end_test_time - start_test_time\n",
    "\n",
    " return pd.DataFrame({'classifier_name' : clf, 'accuracy_train' : accuracy_score(y_train, y_predic_train),\n",
    "                                      'f1_train' : f1_score(y_train, y_predic_train), 'run_time_train [S]' : deltha_train,\n",
    "                                      'accuracy_test' : accuracy_score(y_test, y_predic_test),\n",
    "                                      'f1_test' : f1_score(y_test, y_predic_test), 'run_time_test [S]' : delta_test}, index=[0])"
   ]
  },
  {
   "cell_type": "markdown",
   "id": "ae71c016-a6d5-465f-917a-f42754fb2239",
   "metadata": {},
   "source": [
    "# Call the indexes calculation function"
   ]
  },
  {
   "cell_type": "code",
   "execution_count": 221,
   "id": "86d6e980-d10a-4524-9fd2-c82d18fec91e",
   "metadata": {},
   "outputs": [
    {
     "name": "stderr",
     "output_type": "stream",
     "text": [
      "C:\\Users\\Radin\\Desktop\\ML-Basic\\ML_Basic_venv\\Lib\\site-packages\\sklearn\\svm\\_classes.py:32: FutureWarning: The default value of `dual` will change from `True` to `'auto'` in 1.5. Set the value of `dual` explicitly to suppress the warning.\n",
      "  warnings.warn(\n",
      "C:\\Users\\Radin\\Desktop\\ML-Basic\\ML_Basic_venv\\Lib\\site-packages\\sklearn\\svm\\_base.py:1250: ConvergenceWarning: Liblinear failed to converge, increase the number of iterations.\n",
      "  warnings.warn(\n"
     ]
    },
    {
     "name": "stdout",
     "output_type": "stream",
     "text": [
      "                            classifier_name  accuracy_train  f1_train  \\\n",
      "0  <class 'sklearn.svm._classes.LinearSVC'>        0.753333  0.574713   \n",
      "\n",
      "   run_time_train [S]  accuracy_test   f1_test  run_time_test [S]  \n",
      "0             0.12211       0.715789  0.470588                0.0  \n",
      "                            classifier_name  accuracy_train  f1_train  \\\n",
      "0  <class 'sklearn.naive_bayes.GaussianNB'>            0.71  0.562814   \n",
      "\n",
      "   run_time_train [S]  accuracy_test  f1_test  run_time_test [S]  \n",
      "0            0.003002       0.705263     0.44                0.0  \n",
      "                                     classifier_name  accuracy_train  \\\n",
      "0  <class 'sklearn.neighbors._classification.KNei...        0.766667   \n",
      "\n",
      "   f1_train  run_time_train [S]  accuracy_test   f1_test  run_time_test [S]  \n",
      "0  0.573171            0.001002       0.642105  0.291667           0.014013  \n"
     ]
    }
   ],
   "source": [
    "for model in [LinearSVC, GaussianNB, KNeighborsClassifier]:\n",
    "    print(get_model_train(model, X_train, X_test, np.ravel(y_train), np.ravel(y_test)))"
   ]
  },
  {
   "cell_type": "code",
   "execution_count": 215,
   "id": "1491022e-a370-4a6e-ae5d-c3fe2f9ca721",
   "metadata": {},
   "outputs": [
    {
     "data": {
      "text/html": [
       "<div>\n",
       "<style scoped>\n",
       "    .dataframe tbody tr th:only-of-type {\n",
       "        vertical-align: middle;\n",
       "    }\n",
       "\n",
       "    .dataframe tbody tr th {\n",
       "        vertical-align: top;\n",
       "    }\n",
       "\n",
       "    .dataframe thead th {\n",
       "        text-align: right;\n",
       "    }\n",
       "</style>\n",
       "<table border=\"1\" class=\"dataframe\">\n",
       "  <thead>\n",
       "    <tr style=\"text-align: right;\">\n",
       "      <th></th>\n",
       "      <th>classifier_name</th>\n",
       "      <th>accuracy_train</th>\n",
       "      <th>f1_train</th>\n",
       "      <th>run_time_train [S]</th>\n",
       "      <th>accuracy_test</th>\n",
       "      <th>f1_test</th>\n",
       "      <th>run_time_test [S]</th>\n",
       "    </tr>\n",
       "  </thead>\n",
       "  <tbody>\n",
       "    <tr>\n",
       "      <th>0</th>\n",
       "      <td>&lt;class 'sklearn.naive_bayes.GaussianNB'&gt;</td>\n",
       "      <td>0.71</td>\n",
       "      <td>0.562814</td>\n",
       "      <td>0.002004</td>\n",
       "      <td>0.705263</td>\n",
       "      <td>0.44</td>\n",
       "      <td>0.0</td>\n",
       "    </tr>\n",
       "  </tbody>\n",
       "</table>\n",
       "</div>"
      ],
      "text/plain": [
       "                            classifier_name  accuracy_train  f1_train  \\\n",
       "0  <class 'sklearn.naive_bayes.GaussianNB'>            0.71  0.562814   \n",
       "\n",
       "   run_time_train [S]  accuracy_test  f1_test  run_time_test [S]  \n",
       "0            0.002004       0.705263     0.44                0.0  "
      ]
     },
     "execution_count": 215,
     "metadata": {},
     "output_type": "execute_result"
    }
   ],
   "source": [
    "get_model_train(GaussianNB, X_train, X_test, np.ravel(y_train), np.ravel(y_test))"
   ]
  }
 ],
 "metadata": {
  "kernelspec": {
   "display_name": "Python 3 (ipykernel)",
   "language": "python",
   "name": "python3"
  },
  "language_info": {
   "codemirror_mode": {
    "name": "ipython",
    "version": 3
   },
   "file_extension": ".py",
   "mimetype": "text/x-python",
   "name": "python",
   "nbconvert_exporter": "python",
   "pygments_lexer": "ipython3",
   "version": "3.11.4"
  }
 },
 "nbformat": 4,
 "nbformat_minor": 5
}
