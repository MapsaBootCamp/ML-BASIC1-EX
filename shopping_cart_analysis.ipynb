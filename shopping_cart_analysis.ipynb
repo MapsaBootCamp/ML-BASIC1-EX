{
 "cells": [
  {
   "cell_type": "code",
   "execution_count": 1,
   "id": "8fb3ff40-135e-43c9-a998-eb8139cb2599",
   "metadata": {},
   "outputs": [],
   "source": [
    "import pandas as pd\n",
    "import numpy as np"
   ]
  },
  {
   "cell_type": "code",
   "execution_count": 2,
   "id": "bbfa9413-eb9b-4cb4-86f3-3e41045d1c98",
   "metadata": {},
   "outputs": [],
   "source": [
    "data = pd.read_csv(\"../Data/supermarket.csv\")"
   ]
  },
  {
   "cell_type": "code",
   "execution_count": 3,
   "id": "31bb48d3-10d5-4d48-8a47-b88fc4598456",
   "metadata": {},
   "outputs": [
    {
     "data": {
      "text/html": [
       "<div>\n",
       "<style scoped>\n",
       "    .dataframe tbody tr th:only-of-type {\n",
       "        vertical-align: middle;\n",
       "    }\n",
       "\n",
       "    .dataframe tbody tr th {\n",
       "        vertical-align: top;\n",
       "    }\n",
       "\n",
       "    .dataframe thead th {\n",
       "        text-align: right;\n",
       "    }\n",
       "</style>\n",
       "<table border=\"1\" class=\"dataframe\">\n",
       "  <thead>\n",
       "    <tr style=\"text-align: right;\">\n",
       "      <th></th>\n",
       "      <th>Customer Id</th>\n",
       "      <th>Date</th>\n",
       "      <th>Product</th>\n",
       "    </tr>\n",
       "  </thead>\n",
       "  <tbody>\n",
       "    <tr>\n",
       "      <th>0</th>\n",
       "      <td>JKML5ZWXP0XQ</td>\n",
       "      <td>2020-07-20</td>\n",
       "      <td>tropical fruit</td>\n",
       "    </tr>\n",
       "    <tr>\n",
       "      <th>1</th>\n",
       "      <td>YOGWQIUPDAJ7</td>\n",
       "      <td>2020-04-30</td>\n",
       "      <td>whole milk</td>\n",
       "    </tr>\n",
       "    <tr>\n",
       "      <th>2</th>\n",
       "      <td>Q3NL22281AF6</td>\n",
       "      <td>2020-09-18</td>\n",
       "      <td>pip fruit</td>\n",
       "    </tr>\n",
       "    <tr>\n",
       "      <th>3</th>\n",
       "      <td>C59GRTLMZQAU</td>\n",
       "      <td>2020-12-11</td>\n",
       "      <td>other vegetables</td>\n",
       "    </tr>\n",
       "    <tr>\n",
       "      <th>4</th>\n",
       "      <td>WUSF8LTEQZ5L</td>\n",
       "      <td>2020-01-02</td>\n",
       "      <td>whole milk</td>\n",
       "    </tr>\n",
       "    <tr>\n",
       "      <th>...</th>\n",
       "      <td>...</td>\n",
       "      <td>...</td>\n",
       "      <td>...</td>\n",
       "    </tr>\n",
       "    <tr>\n",
       "      <th>32705</th>\n",
       "      <td>PM1BQU9H9S2Q</td>\n",
       "      <td>2019-06-05</td>\n",
       "      <td>oil</td>\n",
       "    </tr>\n",
       "    <tr>\n",
       "      <th>32706</th>\n",
       "      <td>6AWIAP3ZV551</td>\n",
       "      <td>2019-08-10</td>\n",
       "      <td>sliced cheese</td>\n",
       "    </tr>\n",
       "    <tr>\n",
       "      <th>32707</th>\n",
       "      <td>LRWVFLSC8X5B</td>\n",
       "      <td>2019-02-23</td>\n",
       "      <td>candy</td>\n",
       "    </tr>\n",
       "    <tr>\n",
       "      <th>32708</th>\n",
       "      <td>8KYRMELYKNIH</td>\n",
       "      <td>2019-04-16</td>\n",
       "      <td>cake bar</td>\n",
       "    </tr>\n",
       "    <tr>\n",
       "      <th>32709</th>\n",
       "      <td>41NGW85T47Q1</td>\n",
       "      <td>2019-03-12</td>\n",
       "      <td>fruit/vegetable juice</td>\n",
       "    </tr>\n",
       "  </tbody>\n",
       "</table>\n",
       "<p>32710 rows × 3 columns</p>\n",
       "</div>"
      ],
      "text/plain": [
       "        Customer Id        Date                Product\n",
       "0      JKML5ZWXP0XQ  2020-07-20         tropical fruit\n",
       "1      YOGWQIUPDAJ7  2020-04-30             whole milk\n",
       "2      Q3NL22281AF6  2020-09-18              pip fruit\n",
       "3      C59GRTLMZQAU  2020-12-11       other vegetables\n",
       "4      WUSF8LTEQZ5L  2020-01-02             whole milk\n",
       "...             ...         ...                    ...\n",
       "32705  PM1BQU9H9S2Q  2019-06-05                    oil\n",
       "32706  6AWIAP3ZV551  2019-08-10          sliced cheese\n",
       "32707  LRWVFLSC8X5B  2019-02-23                  candy\n",
       "32708  8KYRMELYKNIH  2019-04-16               cake bar\n",
       "32709  41NGW85T47Q1  2019-03-12  fruit/vegetable juice\n",
       "\n",
       "[32710 rows x 3 columns]"
      ]
     },
     "execution_count": 3,
     "metadata": {},
     "output_type": "execute_result"
    }
   ],
   "source": [
    "data"
   ]
  },
  {
   "cell_type": "markdown",
   "id": "50895222-46cd-4a42-bce7-3613b3633335",
   "metadata": {},
   "source": [
    "## Q1"
   ]
  },
  {
   "cell_type": "code",
   "execution_count": 4,
   "id": "510e5a7d-0c64-4f17-a802-9fb2b2c0056a",
   "metadata": {},
   "outputs": [
    {
     "data": {
      "text/plain": [
       "137"
      ]
     },
     "execution_count": 4,
     "metadata": {},
     "output_type": "execute_result"
    }
   ],
   "source": [
    "number_of_unique_products = len(data.Product.unique())\n",
    "number_of_unique_products"
   ]
  },
  {
   "cell_type": "markdown",
   "id": "4883054f-0552-4d84-a7d8-a38ce4eb540a",
   "metadata": {},
   "source": [
    "## Q2"
   ]
  },
  {
   "cell_type": "code",
   "execution_count": 5,
   "id": "82f29ee4-4e5b-4da6-a19a-213526088bb7",
   "metadata": {},
   "outputs": [
    {
     "data": {
      "text/plain": [
       "44.93"
      ]
     },
     "execution_count": 5,
     "metadata": {},
     "output_type": "execute_result"
    }
   ],
   "source": [
    "average_sales_per_day = round(data.Date.value_counts().mean(), 2)\n",
    "average_sales_per_day"
   ]
  },
  {
   "cell_type": "markdown",
   "id": "c3db0f6e-1af7-42a3-9dc9-554baf7fab0c",
   "metadata": {},
   "source": [
    "## Q3"
   ]
  },
  {
   "cell_type": "code",
   "execution_count": 6,
   "id": "8a00abae-7d9a-4938-8624-46419e098046",
   "metadata": {},
   "outputs": [
    {
     "data": {
      "text/plain": [
       "Product\n",
       "bags                     4\n",
       "baby cosmetics           3\n",
       "kitchen utensil          1\n",
       "preservation products    1\n",
       "Name: count, dtype: int64"
      ]
     },
     "execution_count": 6,
     "metadata": {},
     "output_type": "execute_result"
    }
   ],
   "source": [
    "lessـcommonـproducts = data.Product.value_counts().tail(4)\n",
    "lessـcommonـproducts"
   ]
  },
  {
   "cell_type": "markdown",
   "id": "6823fef4-244d-485c-a06f-4a233e05c5bb",
   "metadata": {},
   "source": [
    "## Q4"
   ]
  },
  {
   "cell_type": "code",
   "execution_count": 7,
   "id": "e4fcec26-0c68-43d0-9c29-e8b6be6b2b31",
   "metadata": {},
   "outputs": [
    {
     "data": {
      "text/plain": [
       "Customer Id\n",
       "M722MPITBY07    7\n",
       "E7FD9BU4OK0F    7\n",
       "0ZRF32AJ06BC    7\n",
       "M2DT2Z00NQCH    7\n",
       "QBUS9NZY39BE    7\n",
       "dtype: int64"
      ]
     },
     "execution_count": 7,
     "metadata": {},
     "output_type": "execute_result"
    }
   ],
   "source": [
    "data[\"year\"] = data.Date.apply(lambda item: item.split(\"-\")[0])\n",
    "customers_with_most_baskets = data[data.year==\"2020\"].groupby(\"Customer Id\").apply(lambda group: len(group.groupby(\"Date\"))).sort_values(ascending=False).head(5)\n",
    "customers_with_most_baskets"
   ]
  },
  {
   "cell_type": "markdown",
   "id": "86d84997-adda-45cb-ae85-896dc2d10dff",
   "metadata": {},
   "source": [
    "## Q5"
   ]
  },
  {
   "cell_type": "code",
   "execution_count": 8,
   "id": "70965def-3944-4f1a-84b4-8727d38f1b56",
   "metadata": {},
   "outputs": [
    {
     "data": {
      "text/plain": [
       "'Wednesday'"
      ]
     },
     "execution_count": 8,
     "metadata": {},
     "output_type": "execute_result"
    }
   ],
   "source": [
    "best_selling_day_ofـweek = data.Date.apply(lambda date: pd.to_datetime(date).strftime(\"%A\")).value_counts().idxmax()\n",
    "best_selling_day_ofـweek"
   ]
  },
  {
   "cell_type": "markdown",
   "id": "9bc1df98-833e-49c2-ac98-e71b72334803",
   "metadata": {},
   "source": [
    "## Q6"
   ]
  },
  {
   "cell_type": "code",
   "execution_count": 9,
   "id": "824b2d21-86b9-4de2-ad2b-d5c4c9668335",
   "metadata": {},
   "outputs": [],
   "source": [
    "table = pd.pivot_table(data, index=[\"Customer Id\", \"Date\"], columns=\"Product\", values=\"Product\", aggfunc=\"size\")"
   ]
  },
  {
   "cell_type": "code",
   "execution_count": 10,
   "id": "459d5581-75ee-43e8-9b3d-5d12d72021c6",
   "metadata": {},
   "outputs": [],
   "source": [
    "number_of_baskets_containing_product = table.apply(lambda column: column.sum())"
   ]
  },
  {
   "cell_type": "code",
   "execution_count": 11,
   "id": "23e2830a-1763-485c-9b8d-74f095e157bc",
   "metadata": {},
   "outputs": [
    {
     "data": {
      "text/plain": [
       "Product\n",
       "whole milk          2363.0\n",
       "other vegetables    1827.0\n",
       "rolls/buns          1646.0\n",
       "soda                1453.0\n",
       "yogurt              1285.0\n",
       "dtype: float64"
      ]
     },
     "execution_count": 11,
     "metadata": {},
     "output_type": "execute_result"
    }
   ],
   "source": [
    "mostـsupportedـproducts = number_of_baskets_containing_product.sort_values(ascending=False).head()\n",
    "mostـsupportedـproducts"
   ]
  },
  {
   "cell_type": "markdown",
   "id": "4a982cf3-de96-438b-9346-ee69d8a6f814",
   "metadata": {},
   "source": [
    "## Q7"
   ]
  },
  {
   "cell_type": "code",
   "execution_count": 12,
   "id": "5d214634-a9bd-4f36-9810-6eb1c766a2a7",
   "metadata": {},
   "outputs": [],
   "source": [
    "number_of_all_baskets = len(data.groupby([\"Customer Id\", \"Date\"]))"
   ]
  },
  {
   "cell_type": "code",
   "execution_count": 13,
   "id": "f12dd474-810f-4204-9525-97b0febaf873",
   "metadata": {},
   "outputs": [],
   "source": [
    "products_support = number_of_baskets_containing_product / number_of_all_baskets"
   ]
  },
  {
   "cell_type": "code",
   "execution_count": 14,
   "id": "42fd60df-4507-43cb-8d17-d6b59fd0d0de",
   "metadata": {},
   "outputs": [],
   "source": [
    "def calculate_support(row):\n",
    "    row[\"support\"] =  len(table[(table[list(row[\"products\"])] == 1).all(axis=1)]) / number_of_all_baskets\n",
    "    if row[\"support\"] >= 0.01:\n",
    "        row[\"antecedent\"] =  row[\"products\"][0]\n",
    "        row[\"consequent\"] =  row[\"products\"][1]\n",
    "        row[\"antecedent support\"] =  products_support[row[\"antecedent\"]]\n",
    "        row[\"confidence\"] =  row[\"support\"] / row[\"antecedent support\"]\n",
    "\n",
    "    return row"
   ]
  },
  {
   "cell_type": "code",
   "execution_count": 15,
   "id": "f7aad2ff-c4fa-4711-99e5-de4c47799955",
   "metadata": {
    "scrolled": true
   },
   "outputs": [
    {
     "data": {
      "text/html": [
       "<div>\n",
       "<style scoped>\n",
       "    .dataframe tbody tr th:only-of-type {\n",
       "        vertical-align: middle;\n",
       "    }\n",
       "\n",
       "    .dataframe tbody tr th {\n",
       "        vertical-align: top;\n",
       "    }\n",
       "\n",
       "    .dataframe thead th {\n",
       "        text-align: right;\n",
       "    }\n",
       "</style>\n",
       "<table border=\"1\" class=\"dataframe\">\n",
       "  <thead>\n",
       "    <tr style=\"text-align: right;\">\n",
       "      <th></th>\n",
       "      <th>products</th>\n",
       "      <th>antecedent</th>\n",
       "      <th>consequent</th>\n",
       "      <th>antecedent support</th>\n",
       "      <th>support</th>\n",
       "      <th>confidence</th>\n",
       "    </tr>\n",
       "  </thead>\n",
       "  <tbody>\n",
       "    <tr>\n",
       "      <th>0</th>\n",
       "      <td>(yogurt, whole milk)</td>\n",
       "      <td>yogurt</td>\n",
       "      <td>whole milk</td>\n",
       "      <td>0.087101</td>\n",
       "      <td>0.011320</td>\n",
       "      <td>0.129961</td>\n",
       "    </tr>\n",
       "    <tr>\n",
       "      <th>1</th>\n",
       "      <td>(rolls/buns, whole milk)</td>\n",
       "      <td>rolls/buns</td>\n",
       "      <td>whole milk</td>\n",
       "      <td>0.111571</td>\n",
       "      <td>0.014167</td>\n",
       "      <td>0.126974</td>\n",
       "    </tr>\n",
       "  </tbody>\n",
       "</table>\n",
       "</div>"
      ],
      "text/plain": [
       "                   products  antecedent  consequent  antecedent support  \\\n",
       "0      (yogurt, whole milk)      yogurt  whole milk            0.087101   \n",
       "1  (rolls/buns, whole milk)  rolls/buns  whole milk            0.111571   \n",
       "\n",
       "    support  confidence  \n",
       "0  0.011320    0.129961  \n",
       "1  0.014167    0.126974  "
      ]
     },
     "execution_count": 15,
     "metadata": {},
     "output_type": "execute_result"
    }
   ],
   "source": [
    "from itertools import permutations\n",
    "\n",
    "\n",
    "grouped_products_support = pd.DataFrame(columns = [\"products\", \"antecedent\", \"consequent\", \"antecedent support\", \"support\", \"confidence\"])\n",
    "grouped_products_support[\"products\"] = list(permutations(products_support[products_support >= 0.01].index, 2))\n",
    "grouped_products_support = grouped_products_support.apply(calculate_support, axis=1).dropna()\n",
    "patterns_with_most_confidence = grouped_products_support.sort_values(\"confidence\", ascending=False, ignore_index=True).head(2)\n",
    "patterns_with_most_confidence"
   ]
  },
  {
   "cell_type": "markdown",
   "id": "d1a9a914-b16a-4013-87df-92c85d8a2541",
   "metadata": {},
   "source": [
    "## Write the answers in a text file"
   ]
  },
  {
   "cell_type": "code",
   "execution_count": 16,
   "id": "5b056fb6-a545-4592-b5a8-eb22f6294276",
   "metadata": {},
   "outputs": [],
   "source": [
    "with open(\"shopping_cart_analysis_outputs.txt\", \"w\") as answers_file:\n",
    "    answers_file.write(f\"{number_of_unique_products}\\n\")\n",
    "    answers_file.write(f\"{average_sales_per_day}\\n\")\n",
    "    \n",
    "    answers_file.write(\",\".join(lessـcommonـproducts.index))\n",
    "    answers_file.write(\"\\n\")\n",
    "    \n",
    "    answers_file.write(\",\".join(customers_with_most_baskets.index))\n",
    "    answers_file.write(\"\\n\")\n",
    "    \n",
    "    answers_file.write(f\"{best_selling_day_ofـweek}\\n\")\n",
    "\n",
    "    answers_file.write(\",\".join(mostـsupportedـproducts.index))\n",
    "    answers_file.write(\"\\n\")\n",
    "    \n",
    "    answers_file.write(f\"(\\\"{patterns_with_most_confidence.antecedent[0]}\\\")->(\\\"{patterns_with_most_confidence.consequent[0]}\\\")|\")\n",
    "    answers_file.write(f\"(\\\"{patterns_with_most_confidence.antecedent[1]}\\\")->(\\\"{patterns_with_most_confidence.consequent[1]}\\\")\")"
   ]
  }
 ],
 "metadata": {
  "kernelspec": {
   "display_name": "Python 3 (ipykernel)",
   "language": "python",
   "name": "python3"
  },
  "language_info": {
   "codemirror_mode": {
    "name": "ipython",
    "version": 3
   },
   "file_extension": ".py",
   "mimetype": "text/x-python",
   "name": "python",
   "nbconvert_exporter": "python",
   "pygments_lexer": "ipython3",
   "version": "3.11.4"
  }
 },
 "nbformat": 4,
 "nbformat_minor": 5
}
