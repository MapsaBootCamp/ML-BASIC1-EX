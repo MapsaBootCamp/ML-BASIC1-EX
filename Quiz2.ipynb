{
 "cells": [
  {
   "cell_type": "code",
   "execution_count": 53,
   "id": "44988a47-2a04-47c2-894e-ece7fd18e2d0",
   "metadata": {},
   "outputs": [],
   "source": [
    "import numpy as np"
   ]
  },
  {
   "cell_type": "code",
   "execution_count": 54,
   "id": "ed9507a6-5eb1-4c81-a7cb-88279360514a",
   "metadata": {},
   "outputs": [
    {
     "data": {
      "text/plain": [
       "array([ 0, -1,  2, -1,  4, -1,  6, -1,  8, -1])"
      ]
     },
     "execution_count": 54,
     "metadata": {},
     "output_type": "execute_result"
    }
   ],
   "source": [
    "# Question 1:\n",
    "my_np = np.arange(10)\n",
    "my_np[my_np % 2 != 0]  = -1\n",
    "my_np"
   ]
  },
  {
   "cell_type": "code",
   "execution_count": 55,
   "id": "9f0a09b2-6cb1-4e40-ace4-1ef3c39bf764",
   "metadata": {},
   "outputs": [
    {
     "data": {
      "text/plain": [
       "array([[ 0, -1,  2, -1,  4],\n",
       "       [-1,  6, -1,  8, -1]])"
      ]
     },
     "execution_count": 55,
     "metadata": {},
     "output_type": "execute_result"
    }
   ],
   "source": [
    "# Question 2:\n",
    "answer = my_np.reshape(2, 5)\n",
    "answer"
   ]
  },
  {
   "cell_type": "code",
   "execution_count": 56,
   "id": "4db74fc2-fd5f-47b6-babb-da7828f9ed3c",
   "metadata": {},
   "outputs": [
    {
     "name": "stdout",
     "output_type": "stream",
     "text": [
      "Common elements are: [2 4] and their indexes are: (array([1, 3, 5, 7], dtype=int64),)\n"
     ]
    }
   ],
   "source": [
    "# Question 3:\n",
    "arr1 = np.array([1,2,3,2,3,4,3,4,5,6])\n",
    "arr2 = np.array([7,2,10,2,7,4,9,4,9,8])\n",
    "result1 = np.intersect1d(arr1, arr2)\n",
    "result2 = np.where(arr1==arr2)\n",
    "print ('Common elements are:', result1, 'and their indexes are:', result2)"
   ]
  },
  {
   "cell_type": "code",
   "execution_count": 58,
   "id": "d73093f9-0036-43ca-9b50-96b89b668c05",
   "metadata": {},
   "outputs": [
    {
     "data": {
      "text/plain": [
       "array([[False, False, False, False],\n",
       "       [False, False,  True, False],\n",
       "       [ True, False, False, False]])"
      ]
     },
     "execution_count": 58,
     "metadata": {},
     "output_type": "execute_result"
    }
   ],
   "source": [
    "# Question 4:\n",
    "# print numpy array without truncation\n",
    "my_arr1 = np.arange(10000)\n",
    "np.set_printoptions(threshold=np.inf)\n",
    "# check numpy array is nan\n",
    "my_arr2 = ([[1,2,3,4],\n",
    "            [2,3,np.nan,5],\n",
    "            [np.nan,5,2,3]])\n",
    "np.isnan(my_arr2)"
   ]
  },
  {
   "cell_type": "code",
   "execution_count": 60,
   "id": "8e53e6a6-e6bc-496d-bfe4-ddfc53a7895e",
   "metadata": {},
   "outputs": [
    {
     "name": "stdout",
     "output_type": "stream",
     "text": [
      "unique values are: [1 2 3 4 5 6] and counts of elements are: [1 2 3 2 1 1]\n"
     ]
    }
   ],
   "source": [
    "# Question 5:\n",
    "from collections import Counter\n",
    "my_arr = np.array([1,2,3,2,3,4,3,4,5,6])\n",
    "unique_values, counts = np.unique(my_arr, return_counts=True)\n",
    "print ('unique values are:', unique_values, 'and counts of elements are:', counts)"
   ]
  },
  {
   "cell_type": "code",
   "execution_count": 61,
   "id": "4956aa37-5a63-48a0-bdf4-b19c226e153d",
   "metadata": {},
   "outputs": [
    {
     "data": {
      "text/plain": [
       "array([15, 20, 30, 30, 10, 10, 21, 19, 30, 28, 11, 10, 15, 30, 18, 10, 17,\n",
       "       10, 30, 16, 30, 30, 30, 30, 30, 30, 30, 30, 26, 11])"
      ]
     },
     "execution_count": 61,
     "metadata": {},
     "output_type": "execute_result"
    }
   ],
   "source": [
    "# Question 6: \n",
    "rand_arr = np.random.randint(1, 50, 30)\n",
    "np.select([rand_arr < 10, rand_arr > 30], [10, 30], rand_arr)"
   ]
  },
  {
   "cell_type": "code",
   "execution_count": 62,
   "id": "9c005228-66b8-4238-b811-927397c2f3bf",
   "metadata": {},
   "outputs": [
    {
     "name": "stdout",
     "output_type": "stream",
     "text": [
      "reshaping 3D: [[[ 0  1  2]\n",
      "  [ 2  3  4]]\n",
      "\n",
      " [[ 5  6  7]\n",
      "  [ 8  9 10]]] \n",
      " and reshaping 3D to 1D: [ 0  1  2  2  3  4  5  6  7  8  9 10]\n"
     ]
    }
   ],
   "source": [
    "# Question 7:\n",
    "# create 3D numpy array\n",
    "my_arr = np.array([0, 1, 2, 2, 3, 4, 5, 6, 7, 8, 9, 10]).reshape((2, 2, 3))\n",
    "#reshaping 3D to 1D\n",
    "reshaped_my_arr = my_arr.reshape(12)\n",
    "print ('reshaping 3D:', my_arr, '\\n and reshaping 3D to 1D:', reshaped_my_arr)"
   ]
  },
  {
   "cell_type": "code",
   "execution_count": 63,
   "id": "73df1291-75e7-4cd3-ac05-db1df4d88f6d",
   "metadata": {},
   "outputs": [
    {
     "name": "stdout",
     "output_type": "stream",
     "text": [
      " max each column is: [9 9 9 8] \n",
      " max each row is: [9 8 6 9 7 6 8 8]\n"
     ]
    }
   ],
   "source": [
    "# Question 8:\n",
    "np.random.seed(100)\n",
    "my_arr = np.random.randint(1, 10, [8,4])\n",
    "max_each_col = np.max(my_arr, axis = 0)\n",
    "max_each_row = np.max(my_arr, axis = 1)\n",
    "print(' max each column is:', max_each_col, '\\n max each row is:', max_each_row)"
   ]
  },
  {
   "cell_type": "code",
   "execution_count": 50,
   "id": "f2c69dda-c1c9-404e-af92-5c0adc983bcd",
   "metadata": {},
   "outputs": [
    {
     "name": "stdout",
     "output_type": "stream",
     "text": [
      "first datetime:\n",
      " ['2022-02-01' '2022-02-03' '2022-02-05' '2022-02-07' '2022-02-09'\n",
      " '2022-02-11' '2022-02-13' '2022-02-15' '2022-02-17' '2022-02-19'\n",
      " '2022-02-21' '2022-02-23'] \n",
      "second datetime:\n",
      " ['2022-02-01' '2022-02-02' '2022-02-03' '2022-02-04' '2022-02-05'\n",
      " '2022-02-06' '2022-02-07' '2022-02-08' '2022-02-09' '2022-02-10'\n",
      " '2022-02-11' '2022-02-12' '2022-02-13' '2022-02-14' '2022-02-15'\n",
      " '2022-02-16' '2022-02-17' '2022-02-18' '2022-02-19' '2022-02-20'\n",
      " '2022-02-21' '2022-02-23']\n"
     ]
    }
   ],
   "source": [
    "# Question 9:\n",
    "from datetime import datetime, timedelta\n",
    "datetime_arr = np.arange(np.datetime64('2022-02-01'), np.datetime64('2022-02-25'), 2)\n",
    "fn_arr = lambda x: x[:-2]+1\n",
    "total_datetime_arr=np.sort(np.append(datetime_arr, fn_arr(datetime_arr)))\n",
    "print('first datetime:\\n', datetime_arr, '\\nsecond datetime:\\n', total_datetime_arr)"
   ]
  },
  {
   "cell_type": "code",
   "execution_count": 64,
   "id": "9308b701-8456-4033-825f-48a4f04ecb01",
   "metadata": {},
   "outputs": [],
   "source": [
    "# Question 10:\n",
    "import requests\n",
    "from io import BytesIO\n",
    "from PIL import Image\n",
    "url = \"https://dl.profilepic.ir/2019/06/Girl-Profile-01.jpg\"\n",
    "response = requests.get(url)\n",
    "img = Image.open(BytesIO(response.content))\n",
    "img = img.resize((250, 250))\n",
    "img.show()"
   ]
  },
  {
   "cell_type": "code",
   "execution_count": 65,
   "id": "030e7777-c64e-4502-a0cd-3f1f3ff76ac1",
   "metadata": {},
   "outputs": [],
   "source": [
    "# Linux:\n",
    " # Q4\n",
    " #  بایوس از سیستم عامل مستقل است \n",
    " # مهمترین کار بایوس راه اندازی سیستم عامل است. بایوس قطعات سیستم را تست کرده و ترتیب حافظه هایی که برای بوت شدن اولویت بندی شده اند را بررسی می کند و در نتیجه اگر مشکلی نبود سیستم عامل را راه اندازی می کند.\n",
    " # Q5\n",
    " # به عنوان دایرکتوری یک یوزر در نظر گرفته می شود"
   ]
  },
  {
   "cell_type": "code",
   "execution_count": null,
   "id": "d3a25592-3cff-4518-add9-49b3f116c7a5",
   "metadata": {},
   "outputs": [],
   "source": []
  }
 ],
 "metadata": {
  "kernelspec": {
   "display_name": "Python 3 (ipykernel)",
   "language": "python",
   "name": "python3"
  },
  "language_info": {
   "codemirror_mode": {
    "name": "ipython",
    "version": 3
   },
   "file_extension": ".py",
   "mimetype": "text/x-python",
   "name": "python",
   "nbconvert_exporter": "python",
   "pygments_lexer": "ipython3",
   "version": "3.11.4"
  }
 },
 "nbformat": 4,
 "nbformat_minor": 5
}
