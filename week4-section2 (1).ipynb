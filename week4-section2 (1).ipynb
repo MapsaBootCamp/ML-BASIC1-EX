{
 "cells": [
  {
   "cell_type": "markdown",
   "id": "47f59ba8",
   "metadata": {},
   "source": [
    "<br><p style=\"margin-left: 25%; font-size:20px;\">Machine Learning Camp: HomeWork 4 Section 2</p><br>"
   ]
  },
  {
   "cell_type": "code",
   "execution_count": 2,
   "id": "15c4176b",
   "metadata": {},
   "outputs": [],
   "source": [
    "import pandas as pd\n",
    "import numpy as np\n",
    "import matplotlib.pyplot as plt"
   ]
  },
  {
   "cell_type": "code",
   "execution_count": 9,
   "id": "9fe8ded1",
   "metadata": {},
   "outputs": [],
   "source": [
    "flight_df = pd.read_csv(r'D:\\machinelearning\\flights.csv')"
   ]
  },
  {
   "cell_type": "code",
   "execution_count": 10,
   "id": "1248159b",
   "metadata": {},
   "outputs": [],
   "source": [
    "flight_df['time_hour'] = pd.to_datetime(flight_df['time_hour'])\n",
    "flight_df.set_index('time_hour', inplace=True)"
   ]
  },
  {
   "cell_type": "markdown",
   "id": "6e796e17-30e8-4393-892d-cd5ea7db3b6f",
   "metadata": {
    "tags": []
   },
   "source": [
    "<span style=\"font-wight:bold;font-size:20px\">1. Answering Questions from Data:</span> Download the data from [ \n",
    "https://github.com/MapsaBootCamp/useful_datasets/blob/master/structuralData/flights.csv ]. Answer the following questions using this data.\n"
   ]
  },
  {
   "cell_type": "markdown",
   "id": "f26de539-2619-44a8-8ca1-02c899643562",
   "metadata": {},
   "source": [
    "a) What month had the highest proportion of cancelled flights? What month had the lowest? Interpretany seasonal patterns. Please produce a plot that illustrates the proportion of cancelled flights for each month."
   ]
  },
  {
   "cell_type": "code",
   "execution_count": 17,
   "id": "986c418e-3eb6-46cd-a6ac-e5c033b63b0d",
   "metadata": {},
   "outputs": [
    {
     "name": "stdout",
     "output_type": "stream",
     "text": [
      "the most delay is :  28841\n",
      "the most delay belongs to :  8\n"
     ]
    }
   ],
   "source": [
    "#TODO\n",
    "delay_per_month = flight_df.groupby('month').count()\n",
    "max_delay_month = delay_per_month['dep_delay'].idxmax()\n",
    "max_delay = delay_per_month['dep_delay'].max()\n",
    "print(\"the most delay is : \",  max_delay)\n",
    "print(\"the most delay belongs to : \",  max_delay_month)"
   ]
  },
  {
   "cell_type": "markdown",
   "id": "28c0aaa3-58d2-4696-96c1-db0e204bcf72",
   "metadata": {},
   "source": [
    "b) What plane (specified by the tailnum variable) traveled the most times from New York City airports in 2013? Plot the number of trips per week over the year."
   ]
  },
  {
   "cell_type": "code",
   "execution_count": 30,
   "id": "877714d0-a6e7-4dbb-a554-e824a3f242b3",
   "metadata": {},
   "outputs": [
    {
     "data": {
      "text/plain": [
       "'N725MQ'"
      ]
     },
     "execution_count": 30,
     "metadata": {},
     "output_type": "execute_result"
    }
   ],
   "source": [
    "#TODO\n",
    "airplane = flight_df.groupby('tailnum').count()\n",
    "max_airplane = airplane['year'].idxmax()\n",
    "max_airplane"
   ]
  },
  {
   "cell_type": "code",
   "execution_count": 74,
   "id": "0f99f1ff",
   "metadata": {},
   "outputs": [
    {
     "data": {
      "text/plain": [
       "[<matplotlib.lines.Line2D at 0x1f825aa7590>]"
      ]
     },
     "execution_count": 74,
     "metadata": {},
     "output_type": "execute_result"
    },
    {
     "data": {
      "image/png": "[encoded data removed]",
      "text/plain": [
       "<Figure size 640x480 with 1 Axes>"
      ]
     },
     "metadata": {},
     "output_type": "display_data"
    }
   ],
   "source": [
    "weekly_data = flight_df.resample('W').count()\n",
    "weekly_data\n",
    "plt.plot(weekly_data.index, weekly_data['year'], marker='o', linestyle='-')"
   ]
  },
  {
   "cell_type": "markdown",
   "id": "75b95a76-f927-4676-8c24-a77264c83a9d",
   "metadata": {},
   "source": [
    "c) Download the plane data from [ https://github.com/MapsaBootCamp/useful_datasets/blob/master/structuralData/planes.csv ]. Use the flights and planes tables to answer the following questions: What is the oldest plane (specified by the tailnum variable) that flew from New York City airports in 2013? How many airplanes that flew from New York City are included in the planes table?"
   ]
  },
  {
   "cell_type": "code",
   "execution_count": 82,
   "id": "ba1d2b58-edb8-4fc3-8cb4-3887da738094",
   "metadata": {},
   "outputs": [
    {
     "name": "stdout",
     "output_type": "stream",
     "text": [
      "planes :  Index(['tailnum', 'year', 'type', 'manufacturer', 'model', 'engines', 'seats',\n",
      "       'speed', 'engine'],\n",
      "      dtype='object')\n",
      "flights :  Index(['year', 'month', 'day', 'dep_time', 'sched_dep_time', 'dep_delay',\n",
      "       'arr_time', 'sched_arr_time', 'arr_delay', 'carrier', 'flight',\n",
      "       'tailnum', 'origin', 'dest', 'air_time', 'distance', 'hour', 'minute'],\n",
      "      dtype='object')\n",
      "matual_col :  ['tailnum', 'year']\n"
     ]
    }
   ],
   "source": [
    "#TODO\n",
    "plane_df = pd.read_csv(r'D:\\machinelearning\\planes.csv')\n",
    "print(\"planes : \", plane_df.columns)\n",
    "print(\"flights : \", flight_df.columns)\n",
    "plane_col_list = plane_df.columns.to_list()\n",
    "flight_col_list = flight_df.columns.to_list()\n",
    "\n",
    "matual_col = []\n",
    "for i in range(len(plane_col_list)):\n",
    "    for j in range(len(flight_col_list)):\n",
    "        if plane_col_list[i] == flight_col_list[j]:\n",
    "            matual_col.append(plane_col_list[i])\n",
    "            \n",
    "print(\"matual_col : \", matual_col)"
   ]
  },
  {
   "cell_type": "code",
   "execution_count": 93,
   "id": "3f174fa6",
   "metadata": {},
   "outputs": [
    {
     "data": {
      "text/html": [
       "<div>\n",
       "<style scoped>\n",
       "    .dataframe tbody tr th:only-of-type {\n",
       "        vertical-align: middle;\n",
       "    }\n",
       "\n",
       "    .dataframe tbody tr th {\n",
       "        vertical-align: top;\n",
       "    }\n",
       "\n",
       "    .dataframe thead th {\n",
       "        text-align: right;\n",
       "    }\n",
       "</style>\n",
       "<table border=\"1\" class=\"dataframe\">\n",
       "  <thead>\n",
       "    <tr style=\"text-align: right;\">\n",
       "      <th></th>\n",
       "      <th>tailnum</th>\n",
       "      <th>year</th>\n",
       "      <th>type</th>\n",
       "      <th>manufacturer</th>\n",
       "      <th>model</th>\n",
       "      <th>engines</th>\n",
       "      <th>seats</th>\n",
       "      <th>speed</th>\n",
       "      <th>engine</th>\n",
       "    </tr>\n",
       "  </thead>\n",
       "  <tbody>\n",
       "    <tr>\n",
       "      <th>215</th>\n",
       "      <td>N150UW</td>\n",
       "      <td>2013.0</td>\n",
       "      <td>Fixed wing multi engine</td>\n",
       "      <td>AIRBUS</td>\n",
       "      <td>A321-211</td>\n",
       "      <td>2.0</td>\n",
       "      <td>199.0</td>\n",
       "      <td>NaN</td>\n",
       "      <td>Turbo-fan</td>\n",
       "    </tr>\n",
       "    <tr>\n",
       "      <th>216</th>\n",
       "      <td>N151UW</td>\n",
       "      <td>2013.0</td>\n",
       "      <td>Fixed wing multi engine</td>\n",
       "      <td>AIRBUS</td>\n",
       "      <td>A321-211</td>\n",
       "      <td>2.0</td>\n",
       "      <td>199.0</td>\n",
       "      <td>NaN</td>\n",
       "      <td>Turbo-fan</td>\n",
       "    </tr>\n",
       "    <tr>\n",
       "      <th>218</th>\n",
       "      <td>N152UW</td>\n",
       "      <td>2013.0</td>\n",
       "      <td>Fixed wing multi engine</td>\n",
       "      <td>AIRBUS</td>\n",
       "      <td>A321-211</td>\n",
       "      <td>2.0</td>\n",
       "      <td>199.0</td>\n",
       "      <td>NaN</td>\n",
       "      <td>Turbo-fan</td>\n",
       "    </tr>\n",
       "    <tr>\n",
       "      <th>221</th>\n",
       "      <td>N153UW</td>\n",
       "      <td>2013.0</td>\n",
       "      <td>Fixed wing multi engine</td>\n",
       "      <td>AIRBUS</td>\n",
       "      <td>A321-211</td>\n",
       "      <td>2.0</td>\n",
       "      <td>199.0</td>\n",
       "      <td>NaN</td>\n",
       "      <td>Turbo-fan</td>\n",
       "    </tr>\n",
       "    <tr>\n",
       "      <th>223</th>\n",
       "      <td>N154UW</td>\n",
       "      <td>2013.0</td>\n",
       "      <td>Fixed wing multi engine</td>\n",
       "      <td>AIRBUS</td>\n",
       "      <td>A321-211</td>\n",
       "      <td>2.0</td>\n",
       "      <td>199.0</td>\n",
       "      <td>NaN</td>\n",
       "      <td>Turbo-fan</td>\n",
       "    </tr>\n",
       "    <tr>\n",
       "      <th>...</th>\n",
       "      <td>...</td>\n",
       "      <td>...</td>\n",
       "      <td>...</td>\n",
       "      <td>...</td>\n",
       "      <td>...</td>\n",
       "      <td>...</td>\n",
       "      <td>...</td>\n",
       "      <td>...</td>\n",
       "      <td>...</td>\n",
       "    </tr>\n",
       "    <tr>\n",
       "      <th>2801</th>\n",
       "      <td>N8620H</td>\n",
       "      <td>2013.0</td>\n",
       "      <td>Fixed wing multi engine</td>\n",
       "      <td>BOEING</td>\n",
       "      <td>737-8H4</td>\n",
       "      <td>2.0</td>\n",
       "      <td>140.0</td>\n",
       "      <td>NaN</td>\n",
       "      <td>Turbo-fan</td>\n",
       "    </tr>\n",
       "    <tr>\n",
       "      <th>2802</th>\n",
       "      <td>N8621A</td>\n",
       "      <td>2013.0</td>\n",
       "      <td>Fixed wing multi engine</td>\n",
       "      <td>BOEING</td>\n",
       "      <td>737-8H4</td>\n",
       "      <td>2.0</td>\n",
       "      <td>140.0</td>\n",
       "      <td>NaN</td>\n",
       "      <td>Turbo-fan</td>\n",
       "    </tr>\n",
       "    <tr>\n",
       "      <th>2919</th>\n",
       "      <td>N903JB</td>\n",
       "      <td>2013.0</td>\n",
       "      <td>Fixed wing multi engine</td>\n",
       "      <td>AIRBUS</td>\n",
       "      <td>A321-231</td>\n",
       "      <td>2.0</td>\n",
       "      <td>379.0</td>\n",
       "      <td>NaN</td>\n",
       "      <td>Turbo-fan</td>\n",
       "    </tr>\n",
       "    <tr>\n",
       "      <th>2945</th>\n",
       "      <td>N907JB</td>\n",
       "      <td>2013.0</td>\n",
       "      <td>Fixed wing multi engine</td>\n",
       "      <td>AIRBUS INDUSTRIE</td>\n",
       "      <td>A321-231</td>\n",
       "      <td>2.0</td>\n",
       "      <td>379.0</td>\n",
       "      <td>NaN</td>\n",
       "      <td>Turbo-fan</td>\n",
       "    </tr>\n",
       "    <tr>\n",
       "      <th>2982</th>\n",
       "      <td>N913JB</td>\n",
       "      <td>2013.0</td>\n",
       "      <td>Fixed wing multi engine</td>\n",
       "      <td>AIRBUS</td>\n",
       "      <td>A321-231</td>\n",
       "      <td>2.0</td>\n",
       "      <td>379.0</td>\n",
       "      <td>NaN</td>\n",
       "      <td>Turbo-fan</td>\n",
       "    </tr>\n",
       "  </tbody>\n",
       "</table>\n",
       "<p>92 rows × 9 columns</p>\n",
       "</div>"
      ],
      "text/plain": [
       "     tailnum    year                     type      manufacturer     model  \\\n",
       "215   N150UW  2013.0  Fixed wing multi engine            AIRBUS  A321-211   \n",
       "216   N151UW  2013.0  Fixed wing multi engine            AIRBUS  A321-211   \n",
       "218   N152UW  2013.0  Fixed wing multi engine            AIRBUS  A321-211   \n",
       "221   N153UW  2013.0  Fixed wing multi engine            AIRBUS  A321-211   \n",
       "223   N154UW  2013.0  Fixed wing multi engine            AIRBUS  A321-211   \n",
       "...      ...     ...                      ...               ...       ...   \n",
       "2801  N8620H  2013.0  Fixed wing multi engine            BOEING   737-8H4   \n",
       "2802  N8621A  2013.0  Fixed wing multi engine            BOEING   737-8H4   \n",
       "2919  N903JB  2013.0  Fixed wing multi engine            AIRBUS  A321-231   \n",
       "2945  N907JB  2013.0  Fixed wing multi engine  AIRBUS INDUSTRIE  A321-231   \n",
       "2982  N913JB  2013.0  Fixed wing multi engine            AIRBUS  A321-231   \n",
       "\n",
       "      engines  seats  speed     engine  \n",
       "215       2.0  199.0    NaN  Turbo-fan  \n",
       "216       2.0  199.0    NaN  Turbo-fan  \n",
       "218       2.0  199.0    NaN  Turbo-fan  \n",
       "221       2.0  199.0    NaN  Turbo-fan  \n",
       "223       2.0  199.0    NaN  Turbo-fan  \n",
       "...       ...    ...    ...        ...  \n",
       "2801      2.0  140.0    NaN  Turbo-fan  \n",
       "2802      2.0  140.0    NaN  Turbo-fan  \n",
       "2919      2.0  379.0    NaN  Turbo-fan  \n",
       "2945      2.0  379.0    NaN  Turbo-fan  \n",
       "2982      2.0  379.0    NaN  Turbo-fan  \n",
       "\n",
       "[92 rows x 9 columns]"
      ]
     },
     "execution_count": 93,
     "metadata": {},
     "output_type": "execute_result"
    }
   ],
   "source": [
    "sorted(plane_df['year'].unique())\n",
    "plane_df_13 = plane_df[plane_df['year'] == 2013.0]\n",
    "plane_df_13"
   ]
  },
  {
   "cell_type": "markdown",
   "id": "dea4e51d-38e3-4dc7-8a1f-c069943a431a",
   "metadata": {},
   "source": [
    "d) Use the flights and planes tables to answer the following questions: How many planes have a missing date of manufacture? What are the five most common manufacturers (Note: pay close attention to the same manufacturer being represented multiple times)? Has the distribution of manufacturer changed over time as reflected by the airplanes flying from NYC in 2013? Produce a plot that backs up your claim."
   ]
  },
  {
   "cell_type": "code",
   "execution_count": 104,
   "id": "96f68e32-c137-4b06-8c23-a41c28da1d7c",
   "metadata": {},
   "outputs": [],
   "source": [
    "#TODO\n",
    "plane_flight_df = pd.merge(flight_df, plane_df_13, how=\"right\", on=['tailnum', 'year'])\n",
    "plane_flight_df['date'] = pd.to_datetime(plane_flight_df['year'].astype(int).astype(str) + '-' +\n",
    "                            plane_flight_df['month'].astype(int).astype(str) + '-' +\n",
    "                            plane_flight_df['day'].astype(int).astype(str), format='%Y-%m-%d')\n",
    "plane_flight_df.set_index('date', inplace=True)"
   ]
  },
  {
   "cell_type": "code",
   "execution_count": 109,
   "id": "107ebb00",
   "metadata": {},
   "outputs": [
    {
     "name": "stdout",
     "output_type": "stream",
     "text": [
      "Missing Dates:\n",
      "DatetimeIndex(['2013-01-19', '2013-01-20', '2013-01-21', '2013-01-22',\n",
      "               '2013-01-23', '2013-01-24', '2013-01-25', '2013-01-26',\n",
      "               '2013-01-27', '2013-01-28', '2013-01-29', '2013-01-30',\n",
      "               '2013-01-31', '2013-02-01', '2013-02-02', '2013-02-04',\n",
      "               '2013-02-05', '2013-02-06', '2013-02-07', '2013-02-08',\n",
      "               '2013-02-09', '2013-02-10', '2013-02-14', '2013-02-15',\n",
      "               '2013-02-16', '2013-02-17', '2013-02-20', '2013-02-21',\n",
      "               '2013-02-23', '2013-02-24', '2013-02-25', '2013-03-25',\n",
      "               '2013-03-29', '2013-04-11'],\n",
      "              dtype='datetime64[ns]', freq=None)\n"
     ]
    }
   ],
   "source": [
    "start_date = plane_flight_df.index.min()\n",
    "end_date = plane_flight_df.index.max()\n",
    "complete_date_range = pd.date_range(start=start_date, end=end_date, freq='D') \n",
    "missing_dates = complete_date_range[~complete_date_range.isin(plane_flight_df.index)]\n",
    "print(\"Missing Dates:\")\n",
    "print(missing_dates)"
   ]
  },
  {
   "cell_type": "code",
   "execution_count": 123,
   "id": "7ce8eeb0",
   "metadata": {},
   "outputs": [
    {
     "data": {
      "text/plain": [
       "EMBRAER             1642\n",
       "BOEING              1512\n",
       "AIRBUS              1045\n",
       "BOMBARDIER INC       411\n",
       "AIRBUS INDUSTRIE      20\n",
       "Name: manufacturer, dtype: int64"
      ]
     },
     "execution_count": 123,
     "metadata": {},
     "output_type": "execute_result"
    }
   ],
   "source": [
    "top5_manufacturer = plane_flight_df['manufacturer'].value_counts().head(5)\n",
    "top5_manufacturer"
   ]
  },
  {
   "cell_type": "code",
   "execution_count": 125,
   "id": "f9839e98",
   "metadata": {},
   "outputs": [
    {
     "data": {
      "text/plain": [
       "EMBRAER             1642\n",
       "BOEING              1512\n",
       "AIRBUS              1045\n",
       "BOMBARDIER INC       411\n",
       "AIRBUS INDUSTRIE      20\n",
       "Name: manufacturer, dtype: int64"
      ]
     },
     "execution_count": 125,
     "metadata": {},
     "output_type": "execute_result"
    }
   ],
   "source": [
    "plane_flight_df['manufacturer'].value_counts()"
   ]
  },
  {
   "cell_type": "code",
   "execution_count": 126,
   "id": "ed604bd7",
   "metadata": {},
   "outputs": [],
   "source": [
    "def plot_hist(df, column_name):\n",
    "    plt.figure(figsize = (9,3))\n",
    "    plt.hist(df[column_name].value_counts(), bins=10, color='skyblue')\n",
    "    plt.xlabel(column_name)\n",
    "    plt.ylabel(\"Frequency\")\n",
    "    plt.title(f\"{column_name} distribution with hist\")\n",
    "    plt.show()"
   ]
  },
  {
   "cell_type": "code",
   "execution_count": 127,
   "id": "ade368d5",
   "metadata": {},
   "outputs": [
    {
     "data": {
      "image/png": "[encoded data removed]",
      "text/plain": [
       "<Figure size 900x300 with 1 Axes>"
      ]
     },
     "metadata": {},
     "output_type": "display_data"
    }
   ],
   "source": [
    "plot_hist(plane_flight_df, 'manufacturer')"
   ]
  },
  {
   "cell_type": "code",
   "execution_count": 136,
   "id": "3f74ae33",
   "metadata": {},
   "outputs": [
    {
     "data": {
      "text/plain": [
       "[<matplotlib.lines.Line2D at 0x1f830b3f550>]"
      ]
     },
     "execution_count": 136,
     "metadata": {},
     "output_type": "execute_result"
    },
    {
     "data": {
      "image/png": "[encoded data removed]",
      "text/plain": [
       "<Figure size 640x480 with 1 Axes>"
      ]
     },
     "metadata": {},
     "output_type": "display_data"
    }
   ],
   "source": [
    "list_man = plane_flight_df['manufacturer'].to_list()\n",
    "plt.plot(list_man, plane_flight_df.index)"
   ]
  },
  {
   "cell_type": "markdown",
   "id": "2218b073",
   "metadata": {},
   "source": [
    "## 2. **Working with datetime data;** The object `myDate` contains the date and time. Based on this object answer the following questions and type the answer after your findings."
   ]
  },
  {
   "cell_type": "code",
   "execution_count": 142,
   "id": "8e4680e3",
   "metadata": {},
   "outputs": [],
   "source": [
    "myDate = \"2022-10-01 09:42:43\""
   ]
  },
  {
   "cell_type": "markdown",
   "id": "666d9ea6",
   "metadata": {},
   "source": [
    "a. Convert `myDate` into a datetime object with Iran time zone. Display the result."
   ]
  },
  {
   "cell_type": "code",
   "execution_count": 140,
   "id": "0debd74f",
   "metadata": {},
   "outputs": [
    {
     "name": "stdout",
     "output_type": "stream",
     "text": [
      "Requirement already satisfied: pytz in c:\\users\\mardin it\\anaconda3\\lib\\site-packages (2022.7)\n",
      "Note: you may need to restart the kernel to use updated packages.\n"
     ]
    }
   ],
   "source": [
    "pip install pytz\n"
   ]
  },
  {
   "cell_type": "code",
   "execution_count": 143,
   "id": "d0b01179",
   "metadata": {},
   "outputs": [
    {
     "data": {
      "text/plain": [
       "datetime.datetime(2022, 10, 1, 9, 42, 43, tzinfo=<DstTzInfo 'Asia/Tehran' LMT+3:26:00 STD>)"
      ]
     },
     "execution_count": 143,
     "metadata": {},
     "output_type": "execute_result"
    }
   ],
   "source": [
    "import datetime\n",
    "import pytz\n",
    "\n",
    "iran_tz = pytz.timezone('Asia/Tehran')\n",
    "myDatetime = datetime.datetime.strptime(myDate, '%Y-%m-%d %H:%M:%S').replace(tzinfo=iran_tz)\n",
    "myDatetime"
   ]
  },
  {
   "cell_type": "markdown",
   "id": "f2684fe9",
   "metadata": {},
   "source": [
    "b. Write your codes so that it displays the week day and also the month of `myDate`."
   ]
  },
  {
   "cell_type": "code",
   "execution_count": 145,
   "id": "884c4d41",
   "metadata": {},
   "outputs": [
    {
     "name": "stdout",
     "output_type": "stream",
     "text": [
      "Day of the week: Saturday\n",
      "Month: October\n"
     ]
    }
   ],
   "source": [
    "# TODO\n",
    "day_of_week = myDatetime.strftime('%A')\n",
    "month = myDatetime.strftime('%B')\n",
    "print(\"Day of the week:\", day_of_week)\n",
    "print(\"Month:\", month)\n"
   ]
  },
  {
   "cell_type": "markdown",
   "id": "57f8a4a0",
   "metadata": {},
   "source": [
    "c. What weekday and the month is it after exactly 100 years from `myDate`?"
   ]
  },
  {
   "cell_type": "code",
   "execution_count": 149,
   "id": "c8bc864e",
   "metadata": {},
   "outputs": [
    {
     "name": "stdout",
     "output_type": "stream",
     "text": [
      "100 years from now, it will be a Thursday\n",
      "In the month of October\n"
     ]
    }
   ],
   "source": [
    "# TODO\n",
    "from dateutil.relativedelta import relativedelta\n",
    "from dateutil import parser\n",
    "\n",
    "future_date = myDatetime + relativedelta(years=100)\n",
    "future_day_of_week = future_date.strftime('%A') \n",
    "future_month = future_date.strftime('%B') \n",
    "print(\"100 years from now, it will be a\", future_day_of_week)\n",
    "print(\"In the month of\", future_month)"
   ]
  },
  {
   "cell_type": "markdown",
   "id": "211c0893",
   "metadata": {},
   "source": [
    "d. Add two month with myDate and display the resulting date time."
   ]
  },
  {
   "cell_type": "code",
   "execution_count": 150,
   "id": "4427d37a",
   "metadata": {},
   "outputs": [
    {
     "name": "stdout",
     "output_type": "stream",
     "text": [
      "After adding two months: 2022-12-01 09:42:43+03:30\n"
     ]
    }
   ],
   "source": [
    "# TODO\n",
    "myDatetime = parser.parse(myDate).astimezone(iran_tz)\n",
    "future_date = myDatetime + relativedelta(months=2)\n",
    "print(\"After adding two months:\", future_date)\n"
   ]
  },
  {
   "cell_type": "markdown",
   "id": "717c3957",
   "metadata": {},
   "source": [
    "e. Suppose this homework is due on December 23, 2022 by 11.59PM. Compute and display how many seconds you got to complete this homework? Also compute the hours."
   ]
  },
  {
   "cell_type": "code",
   "execution_count": 153,
   "id": "8b46dd46",
   "metadata": {},
   "outputs": [
    {
     "name": "stdout",
     "output_type": "stream",
     "text": [
      "Seconds left to complete the homework: -23994607.610924\n",
      "Hours left to complete the homework: -6665.168780812222\n"
     ]
    }
   ],
   "source": [
    "# TODO\n",
    "from datetime import datetime\n",
    "\n",
    "current_datetime = datetime.now()\n",
    "current_datetime = datetime.now()\n",
    "deadline_datetime = datetime(2022, 12, 23, 23, 59, 0)\n",
    "time_difference = deadline_datetime - current_datetime\n",
    "seconds_left = time_difference.total_seconds()\n",
    "hours_left = seconds_left / 3600  \n",
    "print(\"Seconds left to complete the homework:\", seconds_left)\n",
    "print(\"Hours left to complete the homework:\", hours_left)"
   ]
  },
  {
   "cell_type": "markdown",
   "id": "a94748d3",
   "metadata": {},
   "source": [
    "f. For the years `2021` & `2022`, count the number of weekends. Which year has the highest number of Weekends?"
   ]
  },
  {
   "cell_type": "code",
   "execution_count": 158,
   "id": "062a60ff",
   "metadata": {},
   "outputs": [],
   "source": [
    "# TODO\n",
    "import datetime\n",
    "\n",
    "def count_weekends(year):\n",
    "    total_weekends = 0\n",
    "    # Iterate through the days in the given year\n",
    "    for month in range(1, 13):  # 12 months\n",
    "        for day in range(1, 32):  # Max 31 days in a month\n",
    "            try:\n",
    "                # Create a datetime object for the current day\n",
    "                current_date = datetime.date(year, month, day)\n",
    "                # Check if the day is a Saturday (5) or Sunday (6)\n",
    "                if current_date.weekday() in [5, 6]:\n",
    "                    total_weekends += 1\n",
    "            except ValueError:\n",
    "                # Handle invalid dates (e.g., February 30)\n",
    "                pass\n",
    "    return total_weekends"
   ]
  },
  {
   "cell_type": "code",
   "execution_count": 159,
   "id": "01161dd8",
   "metadata": {},
   "outputs": [
    {
     "name": "stdout",
     "output_type": "stream",
     "text": [
      "Number of weekends in 2021: 104\n",
      "Number of weekends in 2022: 105\n",
      "2022 has the highest number of weekends with 105 weekends.\n"
     ]
    }
   ],
   "source": [
    "weekends_2021 = count_weekends(2021)\n",
    "weekends_2022 = count_weekends(2022)\n",
    "if weekends_2021 > weekends_2022:\n",
    "    highest_year = 2021\n",
    "    highest_count = weekends_2021\n",
    "elif weekends_2022 > weekends_2021:\n",
    "    highest_year = 2022\n",
    "    highest_count = weekends_2022\n",
    "else:\n",
    "    highest_year = None\n",
    "    highest_count = 0\n",
    "\n",
    "print(\"Number of weekends in 2021:\", weekends_2021)\n",
    "print(\"Number of weekends in 2022:\", weekends_2022)\n",
    "\n",
    "if highest_year:\n",
    "    print(f\"{highest_year} has the highest number of weekends with {highest_count} weekends.\")\n",
    "else:\n",
    "    print(\"Both 2021 and 2022 have the same number of weekends.\")"
   ]
  },
  {
   "cell_type": "markdown",
   "id": "31f068c5",
   "metadata": {},
   "source": [
    "g. What is the month(MM) and day(DD) on the `305`th day of the current year?"
   ]
  },
  {
   "cell_type": "code",
   "execution_count": 160,
   "id": "5e17ad7a",
   "metadata": {},
   "outputs": [
    {
     "name": "stdout",
     "output_type": "stream",
     "text": [
      "Month (MM): 11\n",
      "Day (DD): 01\n"
     ]
    }
   ],
   "source": [
    "# TODO\n",
    "current_year = datetime.date.today().year\n",
    "target_date = datetime.date(current_year, 1, 1) + datetime.timedelta(days=304)\n",
    "month_MM = target_date.strftime('%m')  \n",
    "day_DD = target_date.strftime('%d')     \n",
    "\n",
    "print(\"Month (MM):\", month_MM)\n",
    "print(\"Day (DD):\", day_DD)"
   ]
  },
  {
   "cell_type": "markdown",
   "id": "2b6f4dd0",
   "metadata": {},
   "source": [
    "h. The Date `2022-10-20` is formatted `YYYY-MM-DD`, format it into `MM-DD-YYYY`"
   ]
  },
  {
   "cell_type": "code",
   "execution_count": 162,
   "id": "6c5a84c2",
   "metadata": {},
   "outputs": [
    {
     "data": {
      "text/plain": [
       "'10-20-2022'"
      ]
     },
     "execution_count": 162,
     "metadata": {},
     "output_type": "execute_result"
    }
   ],
   "source": [
    "# TODO\n",
    "from datetime import datetime\n",
    "\n",
    "input_date = \"2022-10-20\"\n",
    "date_obj = datetime.strptime(input_date, '%Y-%m-%d')\n",
    "formatted_date = date_obj.strftime('%m-%d-%Y')\n",
    "formatted_date"
   ]
  },
  {
   "cell_type": "markdown",
   "id": "8ecba4de",
   "metadata": {},
   "source": [
    "i. Find if the Date on the question above is the weekend or a weekday."
   ]
  },
  {
   "cell_type": "code",
   "execution_count": 163,
   "id": "bcc38e46",
   "metadata": {},
   "outputs": [
    {
     "name": "stdout",
     "output_type": "stream",
     "text": [
      "The date 2022-10-20 is a weekday.\n"
     ]
    }
   ],
   "source": [
    "# TODO\n",
    "from datetime import datetime\n",
    "\n",
    "\n",
    "input_date = \"2022-10-20\"\n",
    "date_obj = datetime.strptime(input_date, '%Y-%m-%d')\n",
    "weekday_number = date_obj.weekday()\n",
    "if weekday_number in [5, 6]:\n",
    "    day_type = \"weekend\"\n",
    "else:\n",
    "    day_type = \"weekday\"\n",
    "\n",
    "\n",
    "print(f\"The date {input_date} is a {day_type}.\")"
   ]
  },
  {
   "cell_type": "markdown",
   "id": "5761a24f",
   "metadata": {},
   "source": [
    "## 3. **Walmart Sales Analysis:** load and read the dataset `walmart_sales.csv` and `walmart_fuel_prices.csv`.\n",
    "\n",
    "We will follow the following data description when working with the above 2 datasets:\n",
    "\n",
    " * `index:` index is a default value of count\n",
    " * `Store:` Store is represented in number ID(1,2,3,4,...)\n",
    " * `Dept:` Dept is Department in each Store represented in number ID (1,2,3,4,...)\n",
    " * `Date:` Date is in YYYY-MM-DD char format - *needs to be converted into Date data type*\n",
    " * `Weekly_Sales:` Sales of a given Dept in a given Store for the Date\n",
    " * `Temperature:` Average temperature on the Date at given Store region\n",
    " * `Fuel_Price:` Cost of the Fuel on the given Date at a given Store\n",
    " * `IsHoliday:` Is the given Date a holiday Week? "
   ]
  },
  {
   "cell_type": "code",
   "execution_count": 7,
   "id": "06623146",
   "metadata": {
    "scrolled": true
   },
   "outputs": [
    {
     "ename": "UnicodeDecodeError",
     "evalue": "'utf-8' codec can't decode byte 0xd0 in position 0: invalid continuation byte",
     "output_type": "error",
     "traceback": [
      "\u001b[1;31m---------------------------------------------------------------------------\u001b[0m",
      "\u001b[1;31mUnicodeDecodeError\u001b[0m                        Traceback (most recent call last)",
      "Cell \u001b[1;32mIn[7], line 3\u001b[0m\n\u001b[0;32m      1\u001b[0m \u001b[38;5;66;03m# TODO\u001b[39;00m\n\u001b[0;32m      2\u001b[0m wlmrt_sales \u001b[38;5;241m=\u001b[39m pd\u001b[38;5;241m.\u001b[39mread_csv(\u001b[38;5;124mr\u001b[39m\u001b[38;5;124m'\u001b[39m\u001b[38;5;124mD:\u001b[39m\u001b[38;5;124m\\\u001b[39m\u001b[38;5;124mmachinelearning\u001b[39m\u001b[38;5;124m\\\u001b[39m\u001b[38;5;124mwalmart_sales.csv\u001b[39m\u001b[38;5;124m'\u001b[39m)\n\u001b[1;32m----> 3\u001b[0m wlmrt_fuel_sales \u001b[38;5;241m=\u001b[39m pd\u001b[38;5;241m.\u001b[39mread_csv(\u001b[38;5;124mr\u001b[39m\u001b[38;5;124m'\u001b[39m\u001b[38;5;124mD:\u001b[39m\u001b[38;5;124m\\\u001b[39m\u001b[38;5;124mmachinelearning\u001b[39m\u001b[38;5;124m\\\u001b[39m\u001b[38;5;124mPET_PRI_GND_DCUS_NUS_W.csv\u001b[39m\u001b[38;5;124m'\u001b[39m)\n",
      "File \u001b[1;32m~\\anaconda3\\Lib\\site-packages\\pandas\\util\\_decorators.py:211\u001b[0m, in \u001b[0;36mdeprecate_kwarg.<locals>._deprecate_kwarg.<locals>.wrapper\u001b[1;34m(*args, **kwargs)\u001b[0m\n\u001b[0;32m    209\u001b[0m     \u001b[38;5;28;01melse\u001b[39;00m:\n\u001b[0;32m    210\u001b[0m         kwargs[new_arg_name] \u001b[38;5;241m=\u001b[39m new_arg_value\n\u001b[1;32m--> 211\u001b[0m \u001b[38;5;28;01mreturn\u001b[39;00m func(\u001b[38;5;241m*\u001b[39margs, \u001b[38;5;241m*\u001b[39m\u001b[38;5;241m*\u001b[39mkwargs)\n",
      "File \u001b[1;32m~\\anaconda3\\Lib\\site-packages\\pandas\\util\\_decorators.py:331\u001b[0m, in \u001b[0;36mdeprecate_nonkeyword_arguments.<locals>.decorate.<locals>.wrapper\u001b[1;34m(*args, **kwargs)\u001b[0m\n\u001b[0;32m    325\u001b[0m \u001b[38;5;28;01mif\u001b[39;00m \u001b[38;5;28mlen\u001b[39m(args) \u001b[38;5;241m>\u001b[39m num_allow_args:\n\u001b[0;32m    326\u001b[0m     warnings\u001b[38;5;241m.\u001b[39mwarn(\n\u001b[0;32m    327\u001b[0m         msg\u001b[38;5;241m.\u001b[39mformat(arguments\u001b[38;5;241m=\u001b[39m_format_argument_list(allow_args)),\n\u001b[0;32m    328\u001b[0m         \u001b[38;5;167;01mFutureWarning\u001b[39;00m,\n\u001b[0;32m    329\u001b[0m         stacklevel\u001b[38;5;241m=\u001b[39mfind_stack_level(),\n\u001b[0;32m    330\u001b[0m     )\n\u001b[1;32m--> 331\u001b[0m \u001b[38;5;28;01mreturn\u001b[39;00m func(\u001b[38;5;241m*\u001b[39margs, \u001b[38;5;241m*\u001b[39m\u001b[38;5;241m*\u001b[39mkwargs)\n",
      "File \u001b[1;32m~\\anaconda3\\Lib\\site-packages\\pandas\\io\\parsers\\readers.py:950\u001b[0m, in \u001b[0;36mread_csv\u001b[1;34m(filepath_or_buffer, sep, delimiter, header, names, index_col, usecols, squeeze, prefix, mangle_dupe_cols, dtype, engine, converters, true_values, false_values, skipinitialspace, skiprows, skipfooter, nrows, na_values, keep_default_na, na_filter, verbose, skip_blank_lines, parse_dates, infer_datetime_format, keep_date_col, date_parser, dayfirst, cache_dates, iterator, chunksize, compression, thousands, decimal, lineterminator, quotechar, quoting, doublequote, escapechar, comment, encoding, encoding_errors, dialect, error_bad_lines, warn_bad_lines, on_bad_lines, delim_whitespace, low_memory, memory_map, float_precision, storage_options)\u001b[0m\n\u001b[0;32m    935\u001b[0m kwds_defaults \u001b[38;5;241m=\u001b[39m _refine_defaults_read(\n\u001b[0;32m    936\u001b[0m     dialect,\n\u001b[0;32m    937\u001b[0m     delimiter,\n\u001b[1;32m   (...)\u001b[0m\n\u001b[0;32m    946\u001b[0m     defaults\u001b[38;5;241m=\u001b[39m{\u001b[38;5;124m\"\u001b[39m\u001b[38;5;124mdelimiter\u001b[39m\u001b[38;5;124m\"\u001b[39m: \u001b[38;5;124m\"\u001b[39m\u001b[38;5;124m,\u001b[39m\u001b[38;5;124m\"\u001b[39m},\n\u001b[0;32m    947\u001b[0m )\n\u001b[0;32m    948\u001b[0m kwds\u001b[38;5;241m.\u001b[39mupdate(kwds_defaults)\n\u001b[1;32m--> 950\u001b[0m \u001b[38;5;28;01mreturn\u001b[39;00m _read(filepath_or_buffer, kwds)\n",
      "File \u001b[1;32m~\\anaconda3\\Lib\\site-packages\\pandas\\io\\parsers\\readers.py:605\u001b[0m, in \u001b[0;36m_read\u001b[1;34m(filepath_or_buffer, kwds)\u001b[0m\n\u001b[0;32m    602\u001b[0m _validate_names(kwds\u001b[38;5;241m.\u001b[39mget(\u001b[38;5;124m\"\u001b[39m\u001b[38;5;124mnames\u001b[39m\u001b[38;5;124m\"\u001b[39m, \u001b[38;5;28;01mNone\u001b[39;00m))\n\u001b[0;32m    604\u001b[0m \u001b[38;5;66;03m# Create the parser.\u001b[39;00m\n\u001b[1;32m--> 605\u001b[0m parser \u001b[38;5;241m=\u001b[39m TextFileReader(filepath_or_buffer, \u001b[38;5;241m*\u001b[39m\u001b[38;5;241m*\u001b[39mkwds)\n\u001b[0;32m    607\u001b[0m \u001b[38;5;28;01mif\u001b[39;00m chunksize \u001b[38;5;129;01mor\u001b[39;00m iterator:\n\u001b[0;32m    608\u001b[0m     \u001b[38;5;28;01mreturn\u001b[39;00m parser\n",
      "File \u001b[1;32m~\\anaconda3\\Lib\\site-packages\\pandas\\io\\parsers\\readers.py:1442\u001b[0m, in \u001b[0;36mTextFileReader.__init__\u001b[1;34m(self, f, engine, **kwds)\u001b[0m\n\u001b[0;32m   1439\u001b[0m     \u001b[38;5;28mself\u001b[39m\u001b[38;5;241m.\u001b[39moptions[\u001b[38;5;124m\"\u001b[39m\u001b[38;5;124mhas_index_names\u001b[39m\u001b[38;5;124m\"\u001b[39m] \u001b[38;5;241m=\u001b[39m kwds[\u001b[38;5;124m\"\u001b[39m\u001b[38;5;124mhas_index_names\u001b[39m\u001b[38;5;124m\"\u001b[39m]\n\u001b[0;32m   1441\u001b[0m \u001b[38;5;28mself\u001b[39m\u001b[38;5;241m.\u001b[39mhandles: IOHandles \u001b[38;5;241m|\u001b[39m \u001b[38;5;28;01mNone\u001b[39;00m \u001b[38;5;241m=\u001b[39m \u001b[38;5;28;01mNone\u001b[39;00m\n\u001b[1;32m-> 1442\u001b[0m \u001b[38;5;28mself\u001b[39m\u001b[38;5;241m.\u001b[39m_engine \u001b[38;5;241m=\u001b[39m \u001b[38;5;28mself\u001b[39m\u001b[38;5;241m.\u001b[39m_make_engine(f, \u001b[38;5;28mself\u001b[39m\u001b[38;5;241m.\u001b[39mengine)\n",
      "File \u001b[1;32m~\\anaconda3\\Lib\\site-packages\\pandas\\io\\parsers\\readers.py:1753\u001b[0m, in \u001b[0;36mTextFileReader._make_engine\u001b[1;34m(self, f, engine)\u001b[0m\n\u001b[0;32m   1750\u001b[0m     \u001b[38;5;28;01mraise\u001b[39;00m \u001b[38;5;167;01mValueError\u001b[39;00m(msg)\n\u001b[0;32m   1752\u001b[0m \u001b[38;5;28;01mtry\u001b[39;00m:\n\u001b[1;32m-> 1753\u001b[0m     \u001b[38;5;28;01mreturn\u001b[39;00m mapping[engine](f, \u001b[38;5;241m*\u001b[39m\u001b[38;5;241m*\u001b[39m\u001b[38;5;28mself\u001b[39m\u001b[38;5;241m.\u001b[39moptions)\n\u001b[0;32m   1754\u001b[0m \u001b[38;5;28;01mexcept\u001b[39;00m \u001b[38;5;167;01mException\u001b[39;00m:\n\u001b[0;32m   1755\u001b[0m     \u001b[38;5;28;01mif\u001b[39;00m \u001b[38;5;28mself\u001b[39m\u001b[38;5;241m.\u001b[39mhandles \u001b[38;5;129;01mis\u001b[39;00m \u001b[38;5;129;01mnot\u001b[39;00m \u001b[38;5;28;01mNone\u001b[39;00m:\n",
      "File \u001b[1;32m~\\anaconda3\\Lib\\site-packages\\pandas\\io\\parsers\\c_parser_wrapper.py:79\u001b[0m, in \u001b[0;36mCParserWrapper.__init__\u001b[1;34m(self, src, **kwds)\u001b[0m\n\u001b[0;32m     76\u001b[0m     kwds\u001b[38;5;241m.\u001b[39mpop(key, \u001b[38;5;28;01mNone\u001b[39;00m)\n\u001b[0;32m     78\u001b[0m kwds[\u001b[38;5;124m\"\u001b[39m\u001b[38;5;124mdtype\u001b[39m\u001b[38;5;124m\"\u001b[39m] \u001b[38;5;241m=\u001b[39m ensure_dtype_objs(kwds\u001b[38;5;241m.\u001b[39mget(\u001b[38;5;124m\"\u001b[39m\u001b[38;5;124mdtype\u001b[39m\u001b[38;5;124m\"\u001b[39m, \u001b[38;5;28;01mNone\u001b[39;00m))\n\u001b[1;32m---> 79\u001b[0m \u001b[38;5;28mself\u001b[39m\u001b[38;5;241m.\u001b[39m_reader \u001b[38;5;241m=\u001b[39m parsers\u001b[38;5;241m.\u001b[39mTextReader(src, \u001b[38;5;241m*\u001b[39m\u001b[38;5;241m*\u001b[39mkwds)\n\u001b[0;32m     81\u001b[0m \u001b[38;5;28mself\u001b[39m\u001b[38;5;241m.\u001b[39munnamed_cols \u001b[38;5;241m=\u001b[39m \u001b[38;5;28mself\u001b[39m\u001b[38;5;241m.\u001b[39m_reader\u001b[38;5;241m.\u001b[39munnamed_cols\n\u001b[0;32m     83\u001b[0m \u001b[38;5;66;03m# error: Cannot determine type of 'names'\u001b[39;00m\n",
      "File \u001b[1;32m~\\anaconda3\\Lib\\site-packages\\pandas\\_libs\\parsers.pyx:547\u001b[0m, in \u001b[0;36mpandas._libs.parsers.TextReader.__cinit__\u001b[1;34m()\u001b[0m\n",
      "File \u001b[1;32m~\\anaconda3\\Lib\\site-packages\\pandas\\_libs\\parsers.pyx:636\u001b[0m, in \u001b[0;36mpandas._libs.parsers.TextReader._get_header\u001b[1;34m()\u001b[0m\n",
      "File \u001b[1;32m~\\anaconda3\\Lib\\site-packages\\pandas\\_libs\\parsers.pyx:852\u001b[0m, in \u001b[0;36mpandas._libs.parsers.TextReader._tokenize_rows\u001b[1;34m()\u001b[0m\n",
      "File \u001b[1;32m~\\anaconda3\\Lib\\site-packages\\pandas\\_libs\\parsers.pyx:1965\u001b[0m, in \u001b[0;36mpandas._libs.parsers.raise_parser_error\u001b[1;34m()\u001b[0m\n",
      "\u001b[1;31mUnicodeDecodeError\u001b[0m: 'utf-8' codec can't decode byte 0xd0 in position 0: invalid continuation byte"
     ]
    }
   ],
   "source": [
    "# TODO\n",
    "wlmrt_sales = pd.read_csv(r'D:\\machinelearning\\walmart_sales.csv')\n",
    "wlmrt_fuel_sales = pd.read_csv(r'D:\\machinelearning\\PET_PRI_GND_DCUS_NUS_W.csv')\n",
    "# wlmrt_sale"
   ]
  },
  {
   "cell_type": "markdown",
   "id": "28576a96",
   "metadata": {},
   "source": [
    " a. For both datasets, breakdown the `Date` column and create additional new columns `Year`, `Month`, and `Day`. You should now have additional 3 new columns in your both dataset. Report only the column names for both the dataset."
   ]
  },
  {
   "cell_type": "code",
   "execution_count": 12,
   "id": "69d17cb5",
   "metadata": {},
   "outputs": [],
   "source": [
    "# TODO"
   ]
  },
  {
   "cell_type": "markdown",
   "id": "13877d45",
   "metadata": {},
   "source": [
    "b. In `walmart_sales`: which `Month(s)` of `Year` have the highest `Weekly_Sales`? Report the Year, Month, Store, and Dept."
   ]
  },
  {
   "cell_type": "code",
   "execution_count": 13,
   "id": "b3bbf97e",
   "metadata": {},
   "outputs": [],
   "source": [
    "# TODO"
   ]
  },
  {
   "cell_type": "markdown",
   "id": "e0a1faef",
   "metadata": {},
   "source": [
    "c. In `walmart_sales`: calculate the average monthly sales by Department for each Store. Which Store(s) has the highest average monthly sales on the department(s)? Report the Store, Department, Date."
   ]
  },
  {
   "cell_type": "code",
   "execution_count": 14,
   "id": "15ef73fa",
   "metadata": {},
   "outputs": [],
   "source": [
    "# TODO"
   ]
  },
  {
   "cell_type": "markdown",
   "id": "ee38e63a",
   "metadata": {},
   "source": [
    "d. In `walmart_sales`: which month of year `2011` has the highest overall sales by Store? Name the holiday(Labor day, July 4th, Halloween, Thanksgiving, Christmas,... etcs) that falls on the month. After that do the same for `2012`. Does the highest sales per month fall on the same holiday for both years? Report your findings for both year."
   ]
  },
  {
   "cell_type": "code",
   "execution_count": 15,
   "id": "67ce1306",
   "metadata": {},
   "outputs": [],
   "source": [
    "# TODO"
   ]
  },
  {
   "cell_type": "markdown",
   "id": "0e6c35a7",
   "metadata": {},
   "source": [
    " e. In `walmart_sales`: report the lowest sales per month for the year `2011` for `IsHoliday == TRUE`. Name the holiday(Labor day, July 4th, Halloween, Thanksgiving, Christmas,... etcs) that falls on the month. Do the same for `2012` and report if the lowest sales are on the same month."
   ]
  },
  {
   "cell_type": "code",
   "execution_count": 16,
   "id": "da376d70",
   "metadata": {},
   "outputs": [],
   "source": [
    "# TODO"
   ]
  },
  {
   "cell_type": "markdown",
   "id": "1b50bfcd",
   "metadata": {},
   "source": [
    "f. In `walmart_sales`: We have 45 unique stores. Generate a nice plot on the total sales by store for the year `2012`. Report the Store number."
   ]
  },
  {
   "cell_type": "code",
   "execution_count": 17,
   "id": "4d83becc",
   "metadata": {},
   "outputs": [],
   "source": [
    "# TODO"
   ]
  },
  {
   "cell_type": "markdown",
   "id": "5289a946",
   "metadata": {},
   "source": [
    "g. In `walmart_fuel_prices`: For the year `2011` do you think higher the `temperature` relates to higher `fuel price`? Support your answer with a nice plot."
   ]
  },
  {
   "cell_type": "code",
   "execution_count": 18,
   "id": "42da1e4e",
   "metadata": {},
   "outputs": [],
   "source": [
    "# TODO"
   ]
  },
  {
   "cell_type": "markdown",
   "id": "1f3cf869",
   "metadata": {},
   "source": [
    " h. In `walmart_fuel_prices`: For the year `2010` which `Store` had the lowest Fuel Price? Report the `month` and `temperature`. On the same `month`, what was the highest fuel price for the store? Report the difference."
   ]
  },
  {
   "cell_type": "code",
   "execution_count": 19,
   "id": "ab2df5ad",
   "metadata": {},
   "outputs": [],
   "source": [
    "# TODO"
   ]
  },
  {
   "cell_type": "markdown",
   "id": "12b0075e",
   "metadata": {},
   "source": [
    "i. In `walmart_fuel_prices`: For the `IsHoliday == TRUE`, which month has the lowest `Fuel Price` for the year `2012`? name the holiday(Labor day, July 4th, Halloween, Thanksgiving, Christmas,... etcs) that falls on the month. Also report month of the highest fuel price and name of the holiday."
   ]
  },
  {
   "cell_type": "code",
   "execution_count": 20,
   "id": "ac259d5d",
   "metadata": {},
   "outputs": [],
   "source": [
    "# TODO"
   ]
  },
  {
   "cell_type": "markdown",
   "id": "320b4a0a",
   "metadata": {},
   "source": [
    "## 4. **COVID19 Time Series Data:**\n",
    "\n",
    "<br/>\n",
    "Download the data from\n",
    "<a target='_blank' href=\"https://raw.githubusercontent.com/CSSEGISandData/COVID-19/master/csse_covid_19_data/csse_covid_19_time_series/time_series_covid19_confirmed_US.csv\">[github link]</a>\n",
    "(https://raw.githubusercontent.com/CSSEGISandData/COVID-19/master/csse_covid_19_data/csse_covid_19_time_series/time_series_covid19_confirmed_US.csv) \n",
    "\n",
    "<br/>\n",
    "<br/>\n",
    "The link above contains a time-series data for COVID-19 confirmed cases in the US. Limit the data to only use `New York State` and please answer the following questions:\n",
    "\n"
   ]
  },
  {
   "cell_type": "code",
   "execution_count": 58,
   "id": "34afda80",
   "metadata": {},
   "outputs": [
    {
     "data": {
      "text/html": [
       "<div>\n",
       "<style scoped>\n",
       "    .dataframe tbody tr th:only-of-type {\n",
       "        vertical-align: middle;\n",
       "    }\n",
       "\n",
       "    .dataframe tbody tr th {\n",
       "        vertical-align: top;\n",
       "    }\n",
       "\n",
       "    .dataframe thead th {\n",
       "        text-align: right;\n",
       "    }\n",
       "</style>\n",
       "<table border=\"1\" class=\"dataframe\">\n",
       "  <thead>\n",
       "    <tr style=\"text-align: right;\">\n",
       "      <th></th>\n",
       "      <th>UID</th>\n",
       "      <th>iso2</th>\n",
       "      <th>iso3</th>\n",
       "      <th>code3</th>\n",
       "      <th>FIPS</th>\n",
       "      <th>Admin2</th>\n",
       "      <th>Province_State</th>\n",
       "      <th>Country_Region</th>\n",
       "      <th>Lat</th>\n",
       "      <th>Long_</th>\n",
       "      <th>...</th>\n",
       "      <th>2/28/23</th>\n",
       "      <th>3/1/23</th>\n",
       "      <th>3/2/23</th>\n",
       "      <th>3/3/23</th>\n",
       "      <th>3/4/23</th>\n",
       "      <th>3/5/23</th>\n",
       "      <th>3/6/23</th>\n",
       "      <th>3/7/23</th>\n",
       "      <th>3/8/23</th>\n",
       "      <th>3/9/23</th>\n",
       "    </tr>\n",
       "  </thead>\n",
       "  <tbody>\n",
       "    <tr>\n",
       "      <th>0</th>\n",
       "      <td>84001001</td>\n",
       "      <td>US</td>\n",
       "      <td>USA</td>\n",
       "      <td>840</td>\n",
       "      <td>1001.0</td>\n",
       "      <td>Autauga</td>\n",
       "      <td>Alabama</td>\n",
       "      <td>US</td>\n",
       "      <td>32.539527</td>\n",
       "      <td>-86.644082</td>\n",
       "      <td>...</td>\n",
       "      <td>19732</td>\n",
       "      <td>19759</td>\n",
       "      <td>19759</td>\n",
       "      <td>19759</td>\n",
       "      <td>19759</td>\n",
       "      <td>19759</td>\n",
       "      <td>19759</td>\n",
       "      <td>19759</td>\n",
       "      <td>19790</td>\n",
       "      <td>19790</td>\n",
       "    </tr>\n",
       "    <tr>\n",
       "      <th>1</th>\n",
       "      <td>84001003</td>\n",
       "      <td>US</td>\n",
       "      <td>USA</td>\n",
       "      <td>840</td>\n",
       "      <td>1003.0</td>\n",
       "      <td>Baldwin</td>\n",
       "      <td>Alabama</td>\n",
       "      <td>US</td>\n",
       "      <td>30.727750</td>\n",
       "      <td>-87.722071</td>\n",
       "      <td>...</td>\n",
       "      <td>69641</td>\n",
       "      <td>69767</td>\n",
       "      <td>69767</td>\n",
       "      <td>69767</td>\n",
       "      <td>69767</td>\n",
       "      <td>69767</td>\n",
       "      <td>69767</td>\n",
       "      <td>69767</td>\n",
       "      <td>69860</td>\n",
       "      <td>69860</td>\n",
       "    </tr>\n",
       "    <tr>\n",
       "      <th>2</th>\n",
       "      <td>84001005</td>\n",
       "      <td>US</td>\n",
       "      <td>USA</td>\n",
       "      <td>840</td>\n",
       "      <td>1005.0</td>\n",
       "      <td>Barbour</td>\n",
       "      <td>Alabama</td>\n",
       "      <td>US</td>\n",
       "      <td>31.868263</td>\n",
       "      <td>-85.387129</td>\n",
       "      <td>...</td>\n",
       "      <td>7451</td>\n",
       "      <td>7474</td>\n",
       "      <td>7474</td>\n",
       "      <td>7474</td>\n",
       "      <td>7474</td>\n",
       "      <td>7474</td>\n",
       "      <td>7474</td>\n",
       "      <td>7474</td>\n",
       "      <td>7485</td>\n",
       "      <td>7485</td>\n",
       "    </tr>\n",
       "    <tr>\n",
       "      <th>3</th>\n",
       "      <td>84001007</td>\n",
       "      <td>US</td>\n",
       "      <td>USA</td>\n",
       "      <td>840</td>\n",
       "      <td>1007.0</td>\n",
       "      <td>Bibb</td>\n",
       "      <td>Alabama</td>\n",
       "      <td>US</td>\n",
       "      <td>32.996421</td>\n",
       "      <td>-87.125115</td>\n",
       "      <td>...</td>\n",
       "      <td>8067</td>\n",
       "      <td>8087</td>\n",
       "      <td>8087</td>\n",
       "      <td>8087</td>\n",
       "      <td>8087</td>\n",
       "      <td>8087</td>\n",
       "      <td>8087</td>\n",
       "      <td>8087</td>\n",
       "      <td>8091</td>\n",
       "      <td>8091</td>\n",
       "    </tr>\n",
       "  </tbody>\n",
       "</table>\n",
       "<p>4 rows × 1154 columns</p>\n",
       "</div>"
      ],
      "text/plain": [
       "        UID iso2 iso3  code3    FIPS   Admin2 Province_State Country_Region  \\\n",
       "0  84001001   US  USA    840  1001.0  Autauga        Alabama             US   \n",
       "1  84001003   US  USA    840  1003.0  Baldwin        Alabama             US   \n",
       "2  84001005   US  USA    840  1005.0  Barbour        Alabama             US   \n",
       "3  84001007   US  USA    840  1007.0     Bibb        Alabama             US   \n",
       "\n",
       "         Lat      Long_  ... 2/28/23  3/1/23  3/2/23  3/3/23  3/4/23  3/5/23  \\\n",
       "0  32.539527 -86.644082  ...   19732   19759   19759   19759   19759   19759   \n",
       "1  30.727750 -87.722071  ...   69641   69767   69767   69767   69767   69767   \n",
       "2  31.868263 -85.387129  ...    7451    7474    7474    7474    7474    7474   \n",
       "3  32.996421 -87.125115  ...    8067    8087    8087    8087    8087    8087   \n",
       "\n",
       "   3/6/23  3/7/23  3/8/23  3/9/23  \n",
       "0   19759   19759   19790   19790  \n",
       "1   69767   69767   69860   69860  \n",
       "2    7474    7474    7485    7485  \n",
       "3    8087    8087    8091    8091  \n",
       "\n",
       "[4 rows x 1154 columns]"
      ]
     },
     "execution_count": 58,
     "metadata": {},
     "output_type": "execute_result"
    }
   ],
   "source": [
    "covid_df = pd.read_csv(r'D:\\machinelearning\\time_series_covid19_confirmed_US.csv')\n",
    "# covid_df = covid_df[covid_df['Province_State'] == 'New York']\n",
    "covid_df.head(4)"
   ]
  },
  {
   "cell_type": "markdown",
   "id": "9c4fa99f",
   "metadata": {},
   "source": [
    "a. What is the total confirmed cases in Nebraska as of October 30th 2020 as per the dataset?\n"
   ]
  },
  {
   "cell_type": "code",
   "execution_count": 9,
   "id": "698b1b5d",
   "metadata": {},
   "outputs": [
    {
     "data": {
      "text/plain": [
       "69645"
      ]
     },
     "execution_count": 9,
     "metadata": {},
     "output_type": "execute_result"
    }
   ],
   "source": [
    "# TODO\n",
    "covid_df_nebraska = covid_df[covid_df['Province_State'] == 'Nebraska']\n",
    "covid_df_nebraska['10/30/20'].sum()"
   ]
  },
  {
   "cell_type": "code",
   "execution_count": 11,
   "id": "888ef5af",
   "metadata": {},
   "outputs": [
    {
     "data": {
      "text/html": [
       "<div>\n",
       "<style scoped>\n",
       "    .dataframe tbody tr th:only-of-type {\n",
       "        vertical-align: middle;\n",
       "    }\n",
       "\n",
       "    .dataframe tbody tr th {\n",
       "        vertical-align: top;\n",
       "    }\n",
       "\n",
       "    .dataframe thead th {\n",
       "        text-align: right;\n",
       "    }\n",
       "</style>\n",
       "<table border=\"1\" class=\"dataframe\">\n",
       "  <thead>\n",
       "    <tr style=\"text-align: right;\">\n",
       "      <th></th>\n",
       "      <th>UID</th>\n",
       "      <th>iso2</th>\n",
       "      <th>iso3</th>\n",
       "      <th>code3</th>\n",
       "      <th>FIPS</th>\n",
       "      <th>Admin2</th>\n",
       "      <th>Province_State</th>\n",
       "      <th>Country_Region</th>\n",
       "      <th>Lat</th>\n",
       "      <th>Long_</th>\n",
       "      <th>...</th>\n",
       "      <th>2/28/23</th>\n",
       "      <th>3/1/23</th>\n",
       "      <th>3/2/23</th>\n",
       "      <th>3/3/23</th>\n",
       "      <th>3/4/23</th>\n",
       "      <th>3/5/23</th>\n",
       "      <th>3/6/23</th>\n",
       "      <th>3/7/23</th>\n",
       "      <th>3/8/23</th>\n",
       "      <th>3/9/23</th>\n",
       "    </tr>\n",
       "  </thead>\n",
       "  <tbody>\n",
       "    <tr>\n",
       "      <th>1718</th>\n",
       "      <td>84031001</td>\n",
       "      <td>US</td>\n",
       "      <td>USA</td>\n",
       "      <td>840</td>\n",
       "      <td>31001.0</td>\n",
       "      <td>Adams</td>\n",
       "      <td>Nebraska</td>\n",
       "      <td>US</td>\n",
       "      <td>40.524494</td>\n",
       "      <td>-98.501178</td>\n",
       "      <td>...</td>\n",
       "      <td>7811</td>\n",
       "      <td>7811</td>\n",
       "      <td>7811</td>\n",
       "      <td>7830</td>\n",
       "      <td>7830</td>\n",
       "      <td>7830</td>\n",
       "      <td>7830</td>\n",
       "      <td>7830</td>\n",
       "      <td>7830</td>\n",
       "      <td>7830</td>\n",
       "    </tr>\n",
       "    <tr>\n",
       "      <th>1719</th>\n",
       "      <td>84031003</td>\n",
       "      <td>US</td>\n",
       "      <td>USA</td>\n",
       "      <td>840</td>\n",
       "      <td>31003.0</td>\n",
       "      <td>Antelope</td>\n",
       "      <td>Nebraska</td>\n",
       "      <td>US</td>\n",
       "      <td>42.176955</td>\n",
       "      <td>-98.066628</td>\n",
       "      <td>...</td>\n",
       "      <td>1294</td>\n",
       "      <td>1294</td>\n",
       "      <td>1294</td>\n",
       "      <td>1295</td>\n",
       "      <td>1295</td>\n",
       "      <td>1295</td>\n",
       "      <td>1295</td>\n",
       "      <td>1295</td>\n",
       "      <td>1295</td>\n",
       "      <td>1295</td>\n",
       "    </tr>\n",
       "    <tr>\n",
       "      <th>1720</th>\n",
       "      <td>84031005</td>\n",
       "      <td>US</td>\n",
       "      <td>USA</td>\n",
       "      <td>840</td>\n",
       "      <td>31005.0</td>\n",
       "      <td>Arthur</td>\n",
       "      <td>Nebraska</td>\n",
       "      <td>US</td>\n",
       "      <td>41.568961</td>\n",
       "      <td>-101.695956</td>\n",
       "      <td>...</td>\n",
       "      <td>34</td>\n",
       "      <td>34</td>\n",
       "      <td>34</td>\n",
       "      <td>34</td>\n",
       "      <td>34</td>\n",
       "      <td>34</td>\n",
       "      <td>34</td>\n",
       "      <td>34</td>\n",
       "      <td>34</td>\n",
       "      <td>34</td>\n",
       "    </tr>\n",
       "    <tr>\n",
       "      <th>1721</th>\n",
       "      <td>84031007</td>\n",
       "      <td>US</td>\n",
       "      <td>USA</td>\n",
       "      <td>840</td>\n",
       "      <td>31007.0</td>\n",
       "      <td>Banner</td>\n",
       "      <td>Nebraska</td>\n",
       "      <td>US</td>\n",
       "      <td>41.546344</td>\n",
       "      <td>-103.711433</td>\n",
       "      <td>...</td>\n",
       "      <td>103</td>\n",
       "      <td>103</td>\n",
       "      <td>103</td>\n",
       "      <td>104</td>\n",
       "      <td>104</td>\n",
       "      <td>104</td>\n",
       "      <td>104</td>\n",
       "      <td>104</td>\n",
       "      <td>104</td>\n",
       "      <td>104</td>\n",
       "    </tr>\n",
       "    <tr>\n",
       "      <th>1722</th>\n",
       "      <td>84031009</td>\n",
       "      <td>US</td>\n",
       "      <td>USA</td>\n",
       "      <td>840</td>\n",
       "      <td>31009.0</td>\n",
       "      <td>Blaine</td>\n",
       "      <td>Nebraska</td>\n",
       "      <td>US</td>\n",
       "      <td>41.913117</td>\n",
       "      <td>-99.976778</td>\n",
       "      <td>...</td>\n",
       "      <td>76</td>\n",
       "      <td>76</td>\n",
       "      <td>76</td>\n",
       "      <td>76</td>\n",
       "      <td>76</td>\n",
       "      <td>76</td>\n",
       "      <td>76</td>\n",
       "      <td>76</td>\n",
       "      <td>76</td>\n",
       "      <td>76</td>\n",
       "    </tr>\n",
       "  </tbody>\n",
       "</table>\n",
       "<p>5 rows × 1154 columns</p>\n",
       "</div>"
      ],
      "text/plain": [
       "           UID iso2 iso3  code3     FIPS    Admin2 Province_State  \\\n",
       "1718  84031001   US  USA    840  31001.0     Adams       Nebraska   \n",
       "1719  84031003   US  USA    840  31003.0  Antelope       Nebraska   \n",
       "1720  84031005   US  USA    840  31005.0    Arthur       Nebraska   \n",
       "1721  84031007   US  USA    840  31007.0    Banner       Nebraska   \n",
       "1722  84031009   US  USA    840  31009.0    Blaine       Nebraska   \n",
       "\n",
       "     Country_Region        Lat       Long_  ... 2/28/23  3/1/23  3/2/23  \\\n",
       "1718             US  40.524494  -98.501178  ...    7811    7811    7811   \n",
       "1719             US  42.176955  -98.066628  ...    1294    1294    1294   \n",
       "1720             US  41.568961 -101.695956  ...      34      34      34   \n",
       "1721             US  41.546344 -103.711433  ...     103     103     103   \n",
       "1722             US  41.913117  -99.976778  ...      76      76      76   \n",
       "\n",
       "      3/3/23  3/4/23  3/5/23  3/6/23  3/7/23  3/8/23  3/9/23  \n",
       "1718    7830    7830    7830    7830    7830    7830    7830  \n",
       "1719    1295    1295    1295    1295    1295    1295    1295  \n",
       "1720      34      34      34      34      34      34      34  \n",
       "1721     104     104     104     104     104     104     104  \n",
       "1722      76      76      76      76      76      76      76  \n",
       "\n",
       "[5 rows x 1154 columns]"
      ]
     },
     "execution_count": 11,
     "metadata": {},
     "output_type": "execute_result"
    }
   ],
   "source": [
    "covid_df_nebraska.head()"
   ]
  },
  {
   "cell_type": "markdown",
   "id": "9b27a973",
   "metadata": {},
   "source": [
    "b. On what date has the highest confirmed cases? Demonstrate using a suitable graph for all the available data.\n"
   ]
  },
  {
   "cell_type": "code",
   "execution_count": 14,
   "id": "b5f71a56",
   "metadata": {},
   "outputs": [
    {
     "name": "stdout",
     "output_type": "stream",
     "text": [
      "The maximum value is 567426 in column '3/9/23'.\n"
     ]
    }
   ],
   "source": [
    "# TODO\n",
    "covid_df_nebraska1 = covid_df_nebraska.iloc[:, 11:]\n",
    "col_list = covid_df_nebraska1.columns.to_list()\n",
    "max_col = {}\n",
    "for col in col_list:\n",
    "    max_col[str(col)] = covid_df_nebraska1[str(col)].sum()\n",
    "    \n",
    "max_value = max(max_col.values())\n",
    "for key, value in max_col.items():\n",
    "    if value == max_value:\n",
    "        print(f\"The maximum value is {value} in column '{key}'.\")"
   ]
  },
  {
   "cell_type": "markdown",
   "id": "82bc1299",
   "metadata": {},
   "source": [
    "c. Which County has the highest daily confirmed cases? Report both the County name and the date\n"
   ]
  },
  {
   "cell_type": "code",
   "execution_count": 12,
   "id": "856370d5",
   "metadata": {},
   "outputs": [
    {
     "name": "stderr",
     "output_type": "stream",
     "text": [
      "C:\\Users\\mardin it\\AppData\\Local\\Temp\\ipykernel_6928\\1003098914.py:16: FutureWarning: Dropping of nuisance columns in DataFrame reductions (with 'numeric_only=None') is deprecated; in a future version this will raise TypeError.  Select only valid columns before calling the reduction.\n",
      "  county_sum = county_data.sum(axis=1)\n"
     ]
    },
    {
     "name": "stdout",
     "output_type": "stream",
     "text": [
      "The county with the highest daily confirmed cases is 'Alabama' on date '36' with 124875772 cases.\n",
      "The county with the highest daily confirmed cases is 'Arizona' on date '110' with 836675153 cases.\n",
      "The county with the highest daily confirmed cases is 'California' on date '215' with 1919132962 cases.\n",
      "['Alabama', 'Arizona', 'California']\n"
     ]
    }
   ],
   "source": [
    "# TODO\n",
    "dates_df = covid_df.iloc[:, 11:]\n",
    "dates_df['Province_State'] = covid_df['Province_State']\n",
    "county_list = dates_df['Province_State'].unique().tolist()\n",
    "\n",
    "# Initialize variables to keep track of the maximum value and its corresponding county and date\n",
    "max_value = 0\n",
    "max_county = \"\"\n",
    "max_date = \"\"\n",
    "list_top2 = []\n",
    "for county in county_list:\n",
    "    # Filter the DataFrame for the current county\n",
    "    county_data = dates_df[dates_df['Province_State'] == county]\n",
    "    \n",
    "    # Calculate the sum of daily confirmed cases for the current county\n",
    "    county_sum = county_data.sum(axis=1)\n",
    "    \n",
    "    # Find the maximum value and its date for the current county\n",
    "    county_max_value = county_sum.max()\n",
    "    county_max_date = county_sum.idxmax()\n",
    "\n",
    "    # Check if the maximum value for this county is greater than the overal\n",
    "  \n",
    "    for i in range(1):\n",
    "        if county_max_value > max_value:\n",
    "            max_value = county_max_value\n",
    "            max_county = county\n",
    "            max_date = county_max_date\n",
    "            list_top2.append(max_county)\n",
    "            print(f\"The county with the highest daily confirmed cases is '{max_county}' on date '{max_date}' with {max_value} cases.\") \n",
    "print(list_top2)    \n",
    "# Print the county with the highest daily confirmed cases and the corresponding date\n",
    "# print(f\"The county with the highest daily confirmed cases is '{max_county}' on date '{max_date}' with {max_value} cases.\")   "
   ]
  },
  {
   "cell_type": "markdown",
   "id": "db5f161f",
   "metadata": {},
   "source": [
    "d. Identify two countries that have top total confirmed cases. Generate a time series plot of daily confirm cases for these two countries.\n"
   ]
  },
  {
   "cell_type": "code",
   "execution_count": 13,
   "id": "a4380686",
   "metadata": {},
   "outputs": [
    {
     "data": {
      "text/plain": [
       "['Alabama', 'Arizona', 'California']"
      ]
     },
     "execution_count": 13,
     "metadata": {},
     "output_type": "execute_result"
    }
   ],
   "source": [
    "# TODO\n",
    "# county_sum.nlargest(2).idxmax()\n",
    "list_top2"
   ]
  },
  {
   "cell_type": "code",
   "execution_count": 21,
   "id": "2bcba3ae",
   "metadata": {},
   "outputs": [],
   "source": [
    "list_of_date = covid_df.columns[11:].to_list()\n",
    "# list_of_date"
   ]
  },
  {
   "cell_type": "code",
   "execution_count": 37,
   "id": "f38e2537",
   "metadata": {},
   "outputs": [
    {
     "data": {
      "text/plain": [
       "[<matplotlib.lines.Line2D at 0x2bacd1a4090>]"
      ]
     },
     "execution_count": 37,
     "metadata": {},
     "output_type": "execute_result"
    },
    {
     "data": {
      "image/png": "[encoded data removed]",
      "text/plain": [
       "<Figure size 640x480 with 1 Axes>"
      ]
     },
     "metadata": {},
     "output_type": "display_data"
    }
   ],
   "source": [
    "covid_df_Arizona = covid_df[covid_df['Province_State'] == 'Arizona']\n",
    "list_of_date_Arizona = covid_df_Arizona.columns[11:].to_list()\n",
    "\n",
    "# covid_df_Alabama.groupby(list_of_date).sum()\n",
    "sum_list_Arizona = []\n",
    "for col in list_of_date_Arizona:\n",
    "    sum_list_Arizona.append(covid_df_Arizona[str(col)].sum())\n",
    "\n",
    "plt.plot(list_of_date_Arizona, sum_list_Arizona, linestyle='-')"
   ]
  },
  {
   "cell_type": "code",
   "execution_count": 38,
   "id": "f95fe41c",
   "metadata": {},
   "outputs": [
    {
     "data": {
      "text/plain": [
       "[<matplotlib.lines.Line2D at 0x2bac4a62c90>]"
      ]
     },
     "execution_count": 38,
     "metadata": {},
     "output_type": "execute_result"
    },
    {
     "data": {
      "image/png": "[encoded data removed]",
      "text/plain": [
       "<Figure size 640x480 with 1 Axes>"
      ]
     },
     "metadata": {},
     "output_type": "display_data"
    }
   ],
   "source": [
    "covid_df_Alabama = covid_df[covid_df['Province_State'] == 'Alabama']\n",
    "list_of_date_alabama = covid_df_Alabama.columns[11:].to_list()\n",
    "\n",
    "# covid_df_Alabama.groupby(list_of_date).sum()\n",
    "sum_list_alabama = []\n",
    "for col in list_of_date_alabama:\n",
    "    sum_list_alabama.append(covid_df_Alabama[str(col)].sum())\n",
    "\n",
    "plt.plot(list_of_date_alabama, sum_list_alabama, linestyle='-')"
   ]
  },
  {
   "cell_type": "code",
   "execution_count": 61,
   "id": "a39e3e08",
   "metadata": {},
   "outputs": [],
   "source": [
    "def get_sum(city):\n",
    "    covid_df_city = covid_df[covid_df['Province_State'] == str(city)]\n",
    "    list_of_date_city = covid_df_city.columns[11:].to_list()\n",
    "\n",
    "    # covid_df_Alabama.groupby(list_of_date).sum()\n",
    "    sum_list_city = []\n",
    "    for col in list_of_date_city:\n",
    "        sum_list_city.append(covid_df_city[str(col)].sum())\n",
    "    return sum_list_city\n",
    "\n"
   ]
  },
  {
   "cell_type": "markdown",
   "id": "f54baef0",
   "metadata": {},
   "source": [
    "e. Show the total confirmed cases for all the locations in an interactive world map (hint: you may use `leaflet` package in `python`.\n"
   ]
  },
  {
   "cell_type": "code",
   "execution_count": 45,
   "id": "2d758d00",
   "metadata": {},
   "outputs": [
    {
     "name": "stdout",
     "output_type": "stream",
     "text": [
      "Collecting folium\n",
      "  Downloading folium-0.14.0-py2.py3-none-any.whl (102 kB)\n",
      "     ---------------------------------------- 0.0/102.3 kB ? eta -:--:--\n",
      "     ---------------------------------------- 0.0/102.3 kB ? eta -:--:--\n",
      "     ---------------------------------------- 0.0/102.3 kB ? eta -:--:--\n",
      "     ---------------------------------------- 0.0/102.3 kB ? eta -:--:--\n",
      "     ---- ----------------------------------- 10.2/102.3 kB ? eta -:--:--\n",
      "     ---- ----------------------------------- 10.2/102.3 kB ? eta -:--:--\n",
      "     ---- ----------------------------------- 10.2/102.3 kB ? eta -:--:--\n",
      "     ---- ----------------------------------- 10.2/102.3 kB ? eta -:--:--\n",
      "     ---- ----------------------------------- 10.2/102.3 kB ? eta -:--:--\n",
      "     ---- ----------------------------------- 10.2/102.3 kB ? eta -:--:--\n",
      "     ----------- -------------------------- 30.7/102.3 kB 77.0 kB/s eta 0:00:01\n",
      "     ----------- -------------------------- 30.7/102.3 kB 77.0 kB/s eta 0:00:01\n",
      "     ----------- -------------------------- 30.7/102.3 kB 77.0 kB/s eta 0:00:01\n",
      "     --------------- ---------------------- 41.0/102.3 kB 75.5 kB/s eta 0:00:01\n",
      "     --------------- ---------------------- 41.0/102.3 kB 75.5 kB/s eta 0:00:01\n",
      "     --------------- ---------------------- 41.0/102.3 kB 75.5 kB/s eta 0:00:01\n",
      "     ---------------------- --------------- 61.4/102.3 kB 96.2 kB/s eta 0:00:01\n",
      "     ---------------------- --------------- 61.4/102.3 kB 96.2 kB/s eta 0:00:01\n",
      "     -------------------------- ----------- 71.7/102.3 kB 91.4 kB/s eta 0:00:01\n",
      "     -------------------------- ----------- 71.7/102.3 kB 91.4 kB/s eta 0:00:01\n",
      "     -------------------------- ----------- 71.7/102.3 kB 91.4 kB/s eta 0:00:01\n",
      "     ------------------------------------ 102.3/102.3 kB 115.5 kB/s eta 0:00:00\n",
      "Collecting branca>=0.6.0 (from folium)\n",
      "  Downloading branca-0.6.0-py3-none-any.whl (24 kB)\n",
      "Requirement already satisfied: jinja2>=2.9 in c:\\users\\mardin it\\anaconda3\\lib\\site-packages (from folium) (3.1.2)\n",
      "Requirement already satisfied: numpy in c:\\users\\mardin it\\anaconda3\\lib\\site-packages (from folium) (1.24.3)\n",
      "Requirement already satisfied: requests in c:\\users\\mardin it\\anaconda3\\lib\\site-packages (from folium) (2.31.0)\n",
      "Requirement already satisfied: MarkupSafe>=2.0 in c:\\users\\mardin it\\anaconda3\\lib\\site-packages (from jinja2>=2.9->folium) (2.1.1)\n",
      "Requirement already satisfied: charset-normalizer<4,>=2 in c:\\users\\mardin it\\anaconda3\\lib\\site-packages (from requests->folium) (2.0.4)\n",
      "Requirement already satisfied: idna<4,>=2.5 in c:\\users\\mardin it\\anaconda3\\lib\\site-packages (from requests->folium) (3.4)\n",
      "Requirement already satisfied: urllib3<3,>=1.21.1 in c:\\users\\mardin it\\anaconda3\\lib\\site-packages (from requests->folium) (1.26.16)\n",
      "Requirement already satisfied: certifi>=2017.4.17 in c:\\users\\mardin it\\anaconda3\\lib\\site-packages (from requests->folium) (2023.7.22)\n",
      "Installing collected packages: branca, folium\n",
      "Successfully installed branca-0.6.0 folium-0.14.0\n",
      "Note: you may need to restart the kernel to use updated packages.\n"
     ]
    }
   ],
   "source": [
    "pip install folium\n"
   ]
  },
  {
   "cell_type": "code",
   "execution_count": 46,
   "id": "da907734",
   "metadata": {},
   "outputs": [],
   "source": [
    "# TODO\n",
    "import folium\n",
    "from folium import plugins"
   ]
  },
  {
   "cell_type": "code",
   "execution_count": 69,
   "id": "2193b345",
   "metadata": {},
   "outputs": [],
   "source": [
    "# latitude = covid_df['Lat']\n",
    "# longitude = covid_df['Long_']\n",
    "# initial_lat = covid_df['Lat'].iloc[0]\n",
    "# initial_lon = covid_df['Long_'].iloc[0]\n",
    "\n",
    "# m = folium.Map(location=[initial_lat, initial_lon], zoom_start=10)"
   ]
  },
  {
   "cell_type": "code",
   "execution_count": 70,
   "id": "7212c9f0",
   "metadata": {},
   "outputs": [],
   "source": [
    "# list_of_cities = covid_df['Province_State'].unique()\n",
    "# list_of_dates = covid_df.columns[11:].to_list()\n",
    "# list_of_counts = []\n",
    "# for city in list_of_cities:\n",
    "#     count = get_sum(city)  # Replace get_sum(city) with the actual function to calculate the count\n",
    "#     list_of_counts.append(count)\n",
    "# list_of_counts = [get_sum(city) for city in list_of_cities]  # Replace get_sum(city) with the actual function to calculate the count\n"
   ]
  },
  {
   "cell_type": "code",
   "execution_count": 71,
   "id": "003b2bb1",
   "metadata": {},
   "outputs": [],
   "source": [
    "# for date, city, count in zip(list_of_dates, list_of_cities, list_of_counts):\n",
    "#     folium.CircleMarker(\n",
    "#         location=[city_latitude, city_longitude],\n",
    "#         radius=count * scaling_factor,  # Adjust the scaling factor as needed\n",
    "#         color='blue',\n",
    "#         fill=True,\n",
    "#         fill_color='blue',\n",
    "#         fill_opacity=0.6,\n",
    "#         popup=f\"{city}: {count} observations on {date}\"\n",
    "#     ).add_to(m)\n"
   ]
  },
  {
   "cell_type": "code",
   "execution_count": 74,
   "id": "1fd97073",
   "metadata": {},
   "outputs": [
    {
     "ename": "TypeError",
     "evalue": "Object of type int64 is not JSON serializable",
     "output_type": "error",
     "traceback": [
      "\u001b[1;31m---------------------------------------------------------------------------\u001b[0m",
      "\u001b[1;31mTypeError\u001b[0m                                 Traceback (most recent call last)",
      "Cell \u001b[1;32mIn[74], line 31\u001b[0m\n\u001b[0;32m     21\u001b[0m     \u001b[38;5;28;01mfor\u001b[39;00m date, count \u001b[38;5;129;01min\u001b[39;00m \u001b[38;5;28mzip\u001b[39m(list_of_dates, list_of_counts):\n\u001b[0;32m     22\u001b[0m         folium\u001b[38;5;241m.\u001b[39mCircleMarker(\n\u001b[0;32m     23\u001b[0m             location\u001b[38;5;241m=\u001b[39m[city_latitude, city_longitude],\n\u001b[0;32m     24\u001b[0m             radius\u001b[38;5;241m=\u001b[39mcount \u001b[38;5;241m*\u001b[39m \u001b[38;5;241m10\u001b[39m,  \u001b[38;5;66;03m# Adjust the scaling factor as needed\u001b[39;00m\n\u001b[1;32m   (...)\u001b[0m\n\u001b[0;32m     29\u001b[0m             popup\u001b[38;5;241m=\u001b[39m\u001b[38;5;124mf\u001b[39m\u001b[38;5;124m\"\u001b[39m\u001b[38;5;132;01m{\u001b[39;00mcity\u001b[38;5;132;01m}\u001b[39;00m\u001b[38;5;124m: \u001b[39m\u001b[38;5;132;01m{\u001b[39;00mcount\u001b[38;5;132;01m}\u001b[39;00m\u001b[38;5;124m observations on \u001b[39m\u001b[38;5;132;01m{\u001b[39;00mdate\u001b[38;5;132;01m}\u001b[39;00m\u001b[38;5;124m\"\u001b[39m\n\u001b[0;32m     30\u001b[0m         )\u001b[38;5;241m.\u001b[39madd_to(m)\n\u001b[1;32m---> 31\u001b[0m m\u001b[38;5;241m.\u001b[39msave(\u001b[38;5;124m'\u001b[39m\u001b[38;5;124mmap.html\u001b[39m\u001b[38;5;124m'\u001b[39m)\n",
      "File \u001b[1;32m~\\anaconda3\\Lib\\site-packages\\branca\\element.py:184\u001b[0m, in \u001b[0;36mElement.save\u001b[1;34m(self, outfile, close_file, **kwargs)\u001b[0m\n\u001b[0;32m    181\u001b[0m     fid \u001b[38;5;241m=\u001b[39m outfile\n\u001b[0;32m    183\u001b[0m root \u001b[38;5;241m=\u001b[39m \u001b[38;5;28mself\u001b[39m\u001b[38;5;241m.\u001b[39mget_root()\n\u001b[1;32m--> 184\u001b[0m html \u001b[38;5;241m=\u001b[39m root\u001b[38;5;241m.\u001b[39mrender(\u001b[38;5;241m*\u001b[39m\u001b[38;5;241m*\u001b[39mkwargs)\n\u001b[0;32m    185\u001b[0m fid\u001b[38;5;241m.\u001b[39mwrite(html\u001b[38;5;241m.\u001b[39mencode(\u001b[38;5;124m'\u001b[39m\u001b[38;5;124mutf8\u001b[39m\u001b[38;5;124m'\u001b[39m))\n\u001b[0;32m    186\u001b[0m \u001b[38;5;28;01mif\u001b[39;00m close_file:\n",
      "File \u001b[1;32m~\\anaconda3\\Lib\\site-packages\\branca\\element.py:338\u001b[0m, in \u001b[0;36mFigure.render\u001b[1;34m(self, **kwargs)\u001b[0m\n\u001b[0;32m    336\u001b[0m \u001b[38;5;250m\u001b[39m\u001b[38;5;124;03m\"\"\"Renders the HTML representation of the element.\"\"\"\u001b[39;00m\n\u001b[0;32m    337\u001b[0m \u001b[38;5;28;01mfor\u001b[39;00m name, child \u001b[38;5;129;01min\u001b[39;00m \u001b[38;5;28mself\u001b[39m\u001b[38;5;241m.\u001b[39m_children\u001b[38;5;241m.\u001b[39mitems():\n\u001b[1;32m--> 338\u001b[0m     child\u001b[38;5;241m.\u001b[39mrender(\u001b[38;5;241m*\u001b[39m\u001b[38;5;241m*\u001b[39mkwargs)\n\u001b[0;32m    339\u001b[0m \u001b[38;5;28;01mreturn\u001b[39;00m \u001b[38;5;28mself\u001b[39m\u001b[38;5;241m.\u001b[39m_template\u001b[38;5;241m.\u001b[39mrender(this\u001b[38;5;241m=\u001b[39m\u001b[38;5;28mself\u001b[39m, kwargs\u001b[38;5;241m=\u001b[39mkwargs)\n",
      "File \u001b[1;32m~\\anaconda3\\Lib\\site-packages\\folium\\folium.py:401\u001b[0m, in \u001b[0;36mMap.render\u001b[1;34m(self, **kwargs)\u001b[0m\n\u001b[0;32m    374\u001b[0m figure\u001b[38;5;241m.\u001b[39mheader\u001b[38;5;241m.\u001b[39madd_child(\n\u001b[0;32m    375\u001b[0m     Element(\n\u001b[0;32m    376\u001b[0m         \u001b[38;5;124m\"\u001b[39m\u001b[38;5;124m<style>html, body \u001b[39m\u001b[38;5;124m{\u001b[39m\u001b[38;5;124m\"\u001b[39m\n\u001b[1;32m   (...)\u001b[0m\n\u001b[0;32m    384\u001b[0m     name\u001b[38;5;241m=\u001b[39m\u001b[38;5;124m\"\u001b[39m\u001b[38;5;124mcss_style\u001b[39m\u001b[38;5;124m\"\u001b[39m,\n\u001b[0;32m    385\u001b[0m )\n\u001b[0;32m    387\u001b[0m figure\u001b[38;5;241m.\u001b[39mheader\u001b[38;5;241m.\u001b[39madd_child(\n\u001b[0;32m    388\u001b[0m     Element(\n\u001b[0;32m    389\u001b[0m         \u001b[38;5;124m\"\u001b[39m\u001b[38;5;124m<style>#map \u001b[39m\u001b[38;5;124m{\u001b[39m\u001b[38;5;124m\"\u001b[39m\n\u001b[1;32m   (...)\u001b[0m\n\u001b[0;32m    398\u001b[0m     name\u001b[38;5;241m=\u001b[39m\u001b[38;5;124m\"\u001b[39m\u001b[38;5;124mmap_style\u001b[39m\u001b[38;5;124m\"\u001b[39m,\n\u001b[0;32m    399\u001b[0m )\n\u001b[1;32m--> 401\u001b[0m \u001b[38;5;28msuper\u001b[39m()\u001b[38;5;241m.\u001b[39mrender(\u001b[38;5;241m*\u001b[39m\u001b[38;5;241m*\u001b[39mkwargs)\n",
      "File \u001b[1;32m~\\anaconda3\\Lib\\site-packages\\folium\\elements.py:22\u001b[0m, in \u001b[0;36mJSCSSMixin.render\u001b[1;34m(self, **kwargs)\u001b[0m\n\u001b[0;32m     19\u001b[0m \u001b[38;5;28;01mfor\u001b[39;00m name, url \u001b[38;5;129;01min\u001b[39;00m \u001b[38;5;28mself\u001b[39m\u001b[38;5;241m.\u001b[39mdefault_css:\n\u001b[0;32m     20\u001b[0m     figure\u001b[38;5;241m.\u001b[39mheader\u001b[38;5;241m.\u001b[39madd_child(CssLink(url), name\u001b[38;5;241m=\u001b[39mname)\n\u001b[1;32m---> 22\u001b[0m \u001b[38;5;28msuper\u001b[39m()\u001b[38;5;241m.\u001b[39mrender(\u001b[38;5;241m*\u001b[39m\u001b[38;5;241m*\u001b[39mkwargs)\n",
      "File \u001b[1;32m~\\anaconda3\\Lib\\site-packages\\branca\\element.py:645\u001b[0m, in \u001b[0;36mMacroElement.render\u001b[1;34m(self, **kwargs)\u001b[0m\n\u001b[0;32m    641\u001b[0m     figure\u001b[38;5;241m.\u001b[39mscript\u001b[38;5;241m.\u001b[39madd_child(Element(script(\u001b[38;5;28mself\u001b[39m, kwargs)),\n\u001b[0;32m    642\u001b[0m                             name\u001b[38;5;241m=\u001b[39m\u001b[38;5;28mself\u001b[39m\u001b[38;5;241m.\u001b[39mget_name())\n\u001b[0;32m    644\u001b[0m \u001b[38;5;28;01mfor\u001b[39;00m name, element \u001b[38;5;129;01min\u001b[39;00m \u001b[38;5;28mself\u001b[39m\u001b[38;5;241m.\u001b[39m_children\u001b[38;5;241m.\u001b[39mitems():\n\u001b[1;32m--> 645\u001b[0m     element\u001b[38;5;241m.\u001b[39mrender(\u001b[38;5;241m*\u001b[39m\u001b[38;5;241m*\u001b[39mkwargs)\n",
      "File \u001b[1;32m~\\anaconda3\\Lib\\site-packages\\folium\\map.py:354\u001b[0m, in \u001b[0;36mMarker.render\u001b[1;34m(self)\u001b[0m\n\u001b[0;32m    348\u001b[0m \u001b[38;5;28;01mif\u001b[39;00m \u001b[38;5;28mself\u001b[39m\u001b[38;5;241m.\u001b[39mlocation \u001b[38;5;129;01mis\u001b[39;00m \u001b[38;5;28;01mNone\u001b[39;00m:\n\u001b[0;32m    349\u001b[0m     \u001b[38;5;28;01mraise\u001b[39;00m \u001b[38;5;167;01mValueError\u001b[39;00m(\n\u001b[0;32m    350\u001b[0m         \u001b[38;5;124m\"\u001b[39m\u001b[38;5;132;01m{}\u001b[39;00m\u001b[38;5;124m location must be assigned when added directly to map.\u001b[39m\u001b[38;5;124m\"\u001b[39m\u001b[38;5;241m.\u001b[39mformat(\n\u001b[0;32m    351\u001b[0m             \u001b[38;5;28mself\u001b[39m\u001b[38;5;241m.\u001b[39m_name\n\u001b[0;32m    352\u001b[0m         )\n\u001b[0;32m    353\u001b[0m     )\n\u001b[1;32m--> 354\u001b[0m \u001b[38;5;28msuper\u001b[39m()\u001b[38;5;241m.\u001b[39mrender()\n",
      "File \u001b[1;32m~\\anaconda3\\Lib\\site-packages\\branca\\element.py:641\u001b[0m, in \u001b[0;36mMacroElement.render\u001b[1;34m(self, **kwargs)\u001b[0m\n\u001b[0;32m    639\u001b[0m script \u001b[38;5;241m=\u001b[39m \u001b[38;5;28mself\u001b[39m\u001b[38;5;241m.\u001b[39m_template\u001b[38;5;241m.\u001b[39mmodule\u001b[38;5;241m.\u001b[39m\u001b[38;5;18m__dict__\u001b[39m\u001b[38;5;241m.\u001b[39mget(\u001b[38;5;124m'\u001b[39m\u001b[38;5;124mscript\u001b[39m\u001b[38;5;124m'\u001b[39m, \u001b[38;5;28;01mNone\u001b[39;00m)\n\u001b[0;32m    640\u001b[0m \u001b[38;5;28;01mif\u001b[39;00m script \u001b[38;5;129;01mis\u001b[39;00m \u001b[38;5;129;01mnot\u001b[39;00m \u001b[38;5;28;01mNone\u001b[39;00m:\n\u001b[1;32m--> 641\u001b[0m     figure\u001b[38;5;241m.\u001b[39mscript\u001b[38;5;241m.\u001b[39madd_child(Element(script(\u001b[38;5;28mself\u001b[39m, kwargs)),\n\u001b[0;32m    642\u001b[0m                             name\u001b[38;5;241m=\u001b[39m\u001b[38;5;28mself\u001b[39m\u001b[38;5;241m.\u001b[39mget_name())\n\u001b[0;32m    644\u001b[0m \u001b[38;5;28;01mfor\u001b[39;00m name, element \u001b[38;5;129;01min\u001b[39;00m \u001b[38;5;28mself\u001b[39m\u001b[38;5;241m.\u001b[39m_children\u001b[38;5;241m.\u001b[39mitems():\n\u001b[0;32m    645\u001b[0m     element\u001b[38;5;241m.\u001b[39mrender(\u001b[38;5;241m*\u001b[39m\u001b[38;5;241m*\u001b[39mkwargs)\n",
      "File \u001b[1;32m~\\anaconda3\\Lib\\site-packages\\jinja2\\runtime.py:763\u001b[0m, in \u001b[0;36mMacro.__call__\u001b[1;34m(self, *args, **kwargs)\u001b[0m\n\u001b[0;32m    757\u001b[0m \u001b[38;5;28;01melif\u001b[39;00m \u001b[38;5;28mlen\u001b[39m(args) \u001b[38;5;241m>\u001b[39m \u001b[38;5;28mself\u001b[39m\u001b[38;5;241m.\u001b[39m_argument_count:\n\u001b[0;32m    758\u001b[0m     \u001b[38;5;28;01mraise\u001b[39;00m \u001b[38;5;167;01mTypeError\u001b[39;00m(\n\u001b[0;32m    759\u001b[0m         \u001b[38;5;124mf\u001b[39m\u001b[38;5;124m\"\u001b[39m\u001b[38;5;124mmacro \u001b[39m\u001b[38;5;132;01m{\u001b[39;00m\u001b[38;5;28mself\u001b[39m\u001b[38;5;241m.\u001b[39mname\u001b[38;5;132;01m!r}\u001b[39;00m\u001b[38;5;124m takes not more than\u001b[39m\u001b[38;5;124m\"\u001b[39m\n\u001b[0;32m    760\u001b[0m         \u001b[38;5;124mf\u001b[39m\u001b[38;5;124m\"\u001b[39m\u001b[38;5;124m \u001b[39m\u001b[38;5;132;01m{\u001b[39;00m\u001b[38;5;28mlen\u001b[39m(\u001b[38;5;28mself\u001b[39m\u001b[38;5;241m.\u001b[39marguments)\u001b[38;5;132;01m}\u001b[39;00m\u001b[38;5;124m argument(s)\u001b[39m\u001b[38;5;124m\"\u001b[39m\n\u001b[0;32m    761\u001b[0m     )\n\u001b[1;32m--> 763\u001b[0m \u001b[38;5;28;01mreturn\u001b[39;00m \u001b[38;5;28mself\u001b[39m\u001b[38;5;241m.\u001b[39m_invoke(arguments, autoescape)\n",
      "File \u001b[1;32m~\\anaconda3\\Lib\\site-packages\\jinja2\\runtime.py:777\u001b[0m, in \u001b[0;36mMacro._invoke\u001b[1;34m(self, arguments, autoescape)\u001b[0m\n\u001b[0;32m    774\u001b[0m \u001b[38;5;28;01mif\u001b[39;00m \u001b[38;5;28mself\u001b[39m\u001b[38;5;241m.\u001b[39m_environment\u001b[38;5;241m.\u001b[39mis_async:\n\u001b[0;32m    775\u001b[0m     \u001b[38;5;28;01mreturn\u001b[39;00m \u001b[38;5;28mself\u001b[39m\u001b[38;5;241m.\u001b[39m_async_invoke(arguments, autoescape)  \u001b[38;5;66;03m# type: ignore\u001b[39;00m\n\u001b[1;32m--> 777\u001b[0m rv \u001b[38;5;241m=\u001b[39m \u001b[38;5;28mself\u001b[39m\u001b[38;5;241m.\u001b[39m_func(\u001b[38;5;241m*\u001b[39marguments)\n\u001b[0;32m    779\u001b[0m \u001b[38;5;28;01mif\u001b[39;00m autoescape:\n\u001b[0;32m    780\u001b[0m     rv \u001b[38;5;241m=\u001b[39m Markup(rv)\n",
      "File \u001b[1;32m<template>:32\u001b[0m, in \u001b[0;36mmacro\u001b[1;34m(l_1_this, l_1_kwargs)\u001b[0m\n",
      "File \u001b[1;32m~\\anaconda3\\Lib\\site-packages\\jinja2\\filters.py:1688\u001b[0m, in \u001b[0;36mdo_tojson\u001b[1;34m(eval_ctx, value, indent)\u001b[0m\n\u001b[0;32m   1685\u001b[0m     kwargs \u001b[38;5;241m=\u001b[39m kwargs\u001b[38;5;241m.\u001b[39mcopy()\n\u001b[0;32m   1686\u001b[0m     kwargs[\u001b[38;5;124m\"\u001b[39m\u001b[38;5;124mindent\u001b[39m\u001b[38;5;124m\"\u001b[39m] \u001b[38;5;241m=\u001b[39m indent\n\u001b[1;32m-> 1688\u001b[0m \u001b[38;5;28;01mreturn\u001b[39;00m htmlsafe_json_dumps(value, dumps\u001b[38;5;241m=\u001b[39mdumps, \u001b[38;5;241m*\u001b[39m\u001b[38;5;241m*\u001b[39mkwargs)\n",
      "File \u001b[1;32m~\\anaconda3\\Lib\\site-packages\\jinja2\\utils.py:658\u001b[0m, in \u001b[0;36mhtmlsafe_json_dumps\u001b[1;34m(obj, dumps, **kwargs)\u001b[0m\n\u001b[0;32m    654\u001b[0m \u001b[38;5;28;01mif\u001b[39;00m dumps \u001b[38;5;129;01mis\u001b[39;00m \u001b[38;5;28;01mNone\u001b[39;00m:\n\u001b[0;32m    655\u001b[0m     dumps \u001b[38;5;241m=\u001b[39m json\u001b[38;5;241m.\u001b[39mdumps\n\u001b[0;32m    657\u001b[0m \u001b[38;5;28;01mreturn\u001b[39;00m markupsafe\u001b[38;5;241m.\u001b[39mMarkup(\n\u001b[1;32m--> 658\u001b[0m     dumps(obj, \u001b[38;5;241m*\u001b[39m\u001b[38;5;241m*\u001b[39mkwargs)\n\u001b[0;32m    659\u001b[0m     \u001b[38;5;241m.\u001b[39mreplace(\u001b[38;5;124m\"\u001b[39m\u001b[38;5;124m<\u001b[39m\u001b[38;5;124m\"\u001b[39m, \u001b[38;5;124m\"\u001b[39m\u001b[38;5;130;01m\\\\\u001b[39;00m\u001b[38;5;124mu003c\u001b[39m\u001b[38;5;124m\"\u001b[39m)\n\u001b[0;32m    660\u001b[0m     \u001b[38;5;241m.\u001b[39mreplace(\u001b[38;5;124m\"\u001b[39m\u001b[38;5;124m>\u001b[39m\u001b[38;5;124m\"\u001b[39m, \u001b[38;5;124m\"\u001b[39m\u001b[38;5;130;01m\\\\\u001b[39;00m\u001b[38;5;124mu003e\u001b[39m\u001b[38;5;124m\"\u001b[39m)\n\u001b[0;32m    661\u001b[0m     \u001b[38;5;241m.\u001b[39mreplace(\u001b[38;5;124m\"\u001b[39m\u001b[38;5;124m&\u001b[39m\u001b[38;5;124m\"\u001b[39m, \u001b[38;5;124m\"\u001b[39m\u001b[38;5;130;01m\\\\\u001b[39;00m\u001b[38;5;124mu0026\u001b[39m\u001b[38;5;124m\"\u001b[39m)\n\u001b[0;32m    662\u001b[0m     \u001b[38;5;241m.\u001b[39mreplace(\u001b[38;5;124m\"\u001b[39m\u001b[38;5;124m'\u001b[39m\u001b[38;5;124m\"\u001b[39m, \u001b[38;5;124m\"\u001b[39m\u001b[38;5;130;01m\\\\\u001b[39;00m\u001b[38;5;124mu0027\u001b[39m\u001b[38;5;124m\"\u001b[39m)\n\u001b[0;32m    663\u001b[0m )\n",
      "File \u001b[1;32m~\\anaconda3\\Lib\\json\\__init__.py:238\u001b[0m, in \u001b[0;36mdumps\u001b[1;34m(obj, skipkeys, ensure_ascii, check_circular, allow_nan, cls, indent, separators, default, sort_keys, **kw)\u001b[0m\n\u001b[0;32m    232\u001b[0m \u001b[38;5;28;01mif\u001b[39;00m \u001b[38;5;28mcls\u001b[39m \u001b[38;5;129;01mis\u001b[39;00m \u001b[38;5;28;01mNone\u001b[39;00m:\n\u001b[0;32m    233\u001b[0m     \u001b[38;5;28mcls\u001b[39m \u001b[38;5;241m=\u001b[39m JSONEncoder\n\u001b[0;32m    234\u001b[0m \u001b[38;5;28;01mreturn\u001b[39;00m \u001b[38;5;28mcls\u001b[39m(\n\u001b[0;32m    235\u001b[0m     skipkeys\u001b[38;5;241m=\u001b[39mskipkeys, ensure_ascii\u001b[38;5;241m=\u001b[39mensure_ascii,\n\u001b[0;32m    236\u001b[0m     check_circular\u001b[38;5;241m=\u001b[39mcheck_circular, allow_nan\u001b[38;5;241m=\u001b[39mallow_nan, indent\u001b[38;5;241m=\u001b[39mindent,\n\u001b[0;32m    237\u001b[0m     separators\u001b[38;5;241m=\u001b[39mseparators, default\u001b[38;5;241m=\u001b[39mdefault, sort_keys\u001b[38;5;241m=\u001b[39msort_keys,\n\u001b[1;32m--> 238\u001b[0m     \u001b[38;5;241m*\u001b[39m\u001b[38;5;241m*\u001b[39mkw)\u001b[38;5;241m.\u001b[39mencode(obj)\n",
      "File \u001b[1;32m~\\anaconda3\\Lib\\json\\encoder.py:200\u001b[0m, in \u001b[0;36mJSONEncoder.encode\u001b[1;34m(self, o)\u001b[0m\n\u001b[0;32m    196\u001b[0m         \u001b[38;5;28;01mreturn\u001b[39;00m encode_basestring(o)\n\u001b[0;32m    197\u001b[0m \u001b[38;5;66;03m# This doesn't pass the iterator directly to ''.join() because the\u001b[39;00m\n\u001b[0;32m    198\u001b[0m \u001b[38;5;66;03m# exceptions aren't as detailed.  The list call should be roughly\u001b[39;00m\n\u001b[0;32m    199\u001b[0m \u001b[38;5;66;03m# equivalent to the PySequence_Fast that ''.join() would do.\u001b[39;00m\n\u001b[1;32m--> 200\u001b[0m chunks \u001b[38;5;241m=\u001b[39m \u001b[38;5;28mself\u001b[39m\u001b[38;5;241m.\u001b[39miterencode(o, _one_shot\u001b[38;5;241m=\u001b[39m\u001b[38;5;28;01mTrue\u001b[39;00m)\n\u001b[0;32m    201\u001b[0m \u001b[38;5;28;01mif\u001b[39;00m \u001b[38;5;129;01mnot\u001b[39;00m \u001b[38;5;28misinstance\u001b[39m(chunks, (\u001b[38;5;28mlist\u001b[39m, \u001b[38;5;28mtuple\u001b[39m)):\n\u001b[0;32m    202\u001b[0m     chunks \u001b[38;5;241m=\u001b[39m \u001b[38;5;28mlist\u001b[39m(chunks)\n",
      "File \u001b[1;32m~\\anaconda3\\Lib\\json\\encoder.py:258\u001b[0m, in \u001b[0;36mJSONEncoder.iterencode\u001b[1;34m(self, o, _one_shot)\u001b[0m\n\u001b[0;32m    253\u001b[0m \u001b[38;5;28;01melse\u001b[39;00m:\n\u001b[0;32m    254\u001b[0m     _iterencode \u001b[38;5;241m=\u001b[39m _make_iterencode(\n\u001b[0;32m    255\u001b[0m         markers, \u001b[38;5;28mself\u001b[39m\u001b[38;5;241m.\u001b[39mdefault, _encoder, \u001b[38;5;28mself\u001b[39m\u001b[38;5;241m.\u001b[39mindent, floatstr,\n\u001b[0;32m    256\u001b[0m         \u001b[38;5;28mself\u001b[39m\u001b[38;5;241m.\u001b[39mkey_separator, \u001b[38;5;28mself\u001b[39m\u001b[38;5;241m.\u001b[39mitem_separator, \u001b[38;5;28mself\u001b[39m\u001b[38;5;241m.\u001b[39msort_keys,\n\u001b[0;32m    257\u001b[0m         \u001b[38;5;28mself\u001b[39m\u001b[38;5;241m.\u001b[39mskipkeys, _one_shot)\n\u001b[1;32m--> 258\u001b[0m \u001b[38;5;28;01mreturn\u001b[39;00m _iterencode(o, \u001b[38;5;241m0\u001b[39m)\n",
      "File \u001b[1;32m~\\anaconda3\\Lib\\json\\encoder.py:180\u001b[0m, in \u001b[0;36mJSONEncoder.default\u001b[1;34m(self, o)\u001b[0m\n\u001b[0;32m    161\u001b[0m \u001b[38;5;28;01mdef\u001b[39;00m \u001b[38;5;21mdefault\u001b[39m(\u001b[38;5;28mself\u001b[39m, o):\n\u001b[0;32m    162\u001b[0m \u001b[38;5;250m    \u001b[39m\u001b[38;5;124;03m\"\"\"Implement this method in a subclass such that it returns\u001b[39;00m\n\u001b[0;32m    163\u001b[0m \u001b[38;5;124;03m    a serializable object for ``o``, or calls the base implementation\u001b[39;00m\n\u001b[0;32m    164\u001b[0m \u001b[38;5;124;03m    (to raise a ``TypeError``).\u001b[39;00m\n\u001b[1;32m   (...)\u001b[0m\n\u001b[0;32m    178\u001b[0m \n\u001b[0;32m    179\u001b[0m \u001b[38;5;124;03m    \"\"\"\u001b[39;00m\n\u001b[1;32m--> 180\u001b[0m     \u001b[38;5;28;01mraise\u001b[39;00m \u001b[38;5;167;01mTypeError\u001b[39;00m(\u001b[38;5;124mf\u001b[39m\u001b[38;5;124m'\u001b[39m\u001b[38;5;124mObject of type \u001b[39m\u001b[38;5;132;01m{\u001b[39;00mo\u001b[38;5;241m.\u001b[39m\u001b[38;5;18m__class__\u001b[39m\u001b[38;5;241m.\u001b[39m\u001b[38;5;18m__name__\u001b[39m\u001b[38;5;132;01m}\u001b[39;00m\u001b[38;5;124m \u001b[39m\u001b[38;5;124m'\u001b[39m\n\u001b[0;32m    181\u001b[0m                     \u001b[38;5;124mf\u001b[39m\u001b[38;5;124m'\u001b[39m\u001b[38;5;124mis not JSON serializable\u001b[39m\u001b[38;5;124m'\u001b[39m)\n",
      "\u001b[1;31mTypeError\u001b[0m: Object of type int64 is not JSON serializable"
     ]
    }
   ],
   "source": [
    "import folium\n",
    "\n",
    "# Assuming you have latitude and longitude columns in your DataFrame named 'Lat' and 'Long_'\n",
    "latitude = covid_df['Lat']\n",
    "longitude = covid_df['Long_']\n",
    "initial_lat = covid_df['Lat'].iloc[0]\n",
    "initial_lon = covid_df['Long_'].iloc[0]\n",
    "\n",
    "m = folium.Map(location=[initial_lat, initial_lon], zoom_start=10)\n",
    "\n",
    "list_of_cities = covid_df['Province_State'].unique()\n",
    "list_of_dates = covid_df.columns[11:].to_list()\n",
    "\n",
    "for city in list_of_cities:\n",
    "    city_data = covid_df[covid_df['Province_State'] == city]\n",
    "    city_latitude = city_data['Lat'].iloc[0]\n",
    "    city_longitude = city_data['Long_'].iloc[0]\n",
    "    \n",
    "    list_of_counts = [get_sum(city) for city in list_of_cities]  # Replace get_sum(city) with the actual function to calculate the count\n",
    "    \n",
    "    for date, count in zip(list_of_dates, list_of_counts):\n",
    "        folium.CircleMarker(\n",
    "            location=[city_latitude, city_longitude],\n",
    "            radius=count * 10,  # Adjust the scaling factor as needed\n",
    "            color='blue',\n",
    "            fill=True,\n",
    "            fill_color='blue',\n",
    "            fill_opacity=0.6,\n",
    "            popup=f\"{city}: {count} observations on {date}\"\n",
    "        ).add_to(m)\n",
    "m.save('map.html')"
   ]
  },
  {
   "cell_type": "code",
   "execution_count": null,
   "id": "42e89e9f",
   "metadata": {},
   "outputs": [],
   "source": []
  }
 ],
 "metadata": {
  "kernelspec": {
   "display_name": "Python 3 (ipykernel)",
   "language": "python",
   "name": "python3"
  },
  "language_info": {
   "codemirror_mode": {
    "name": "ipython",
    "version": 3
   },
   "file_extension": ".py",
   "mimetype": "text/x-python",
   "name": "python",
   "nbconvert_exporter": "python",
   "pygments_lexer": "ipython3",
   "version": "3.11.4"
  }
 },
 "nbformat": 4,
 "nbformat_minor": 5
}
