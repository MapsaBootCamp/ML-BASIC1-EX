{
 "cells": [
  {
   "cell_type": "code",
   "execution_count": 67,
   "metadata": {},
   "outputs": [],
   "source": [
    "import numpy as np\n",
    "import requests"
   ]
  },
  {
   "cell_type": "markdown",
   "metadata": {
    "id": "9U1oR4G6phxk"
   },
   "source": [
    "# تمامی سوالات با نامپای حل شود و لیست ها به\n",
    "# numpy array\n",
    "\n",
    "# تبدیل شود\n",
    " نامپای اری = numpy array\n",
    "\n",
    " اری = array"
   ]
  },
  {
   "cell_type": "markdown",
   "metadata": {
    "id": "-aJMm-G8j-tk"
   },
   "source": [
    "۱-\n",
    "اعداد فرد را با -۱ جایگزین کنید\n",
    "\n",
    "[0, 1, 2, 3, 4, 5, 6, 7, 8, 9]"
   ]
  },
  {
   "cell_type": "code",
   "execution_count": 9,
   "metadata": {
    "colab": {
     "base_uri": "https://localhost:8080/"
    },
    "id": "QoDo1HE6j9d7",
    "outputId": "5bfb26fc-2a92-41b5-bec0-b1da3a1d3211"
   },
   "outputs": [
    {
     "data": {
      "text/plain": [
       "array([ 0, -1,  2, -1,  4, -1,  6, -1,  8, -1])"
      ]
     },
     "execution_count": 9,
     "metadata": {},
     "output_type": "execute_result"
    }
   ],
   "source": [
    "n_odd = np.array([0, 1, 2, 3, 4, 5, 6, 7, 8, 9])\n",
    "n_odd[n_odd % 2 !=0] = -1\n",
    "n_odd"
   ]
  },
  {
   "cell_type": "markdown",
   "metadata": {
    "id": "crI0NSuDlVGh"
   },
   "source": [
    "۲- خروجی کد بالا را به شکل زیر تغییر دهید"
   ]
  },
  {
   "cell_type": "code",
   "execution_count": 12,
   "metadata": {
    "colab": {
     "base_uri": "https://localhost:8080/"
    },
    "id": "Hl2Xmim_lPjI",
    "outputId": "02ea0e86-e220-4289-f75f-f9509dfbd044"
   },
   "outputs": [
    {
     "data": {
      "text/plain": [
       "array([[ 0, -1,  2, -1,  4],\n",
       "       [-1,  6, -1,  8, -1]])"
      ]
     },
     "execution_count": 12,
     "metadata": {},
     "output_type": "execute_result"
    }
   ],
   "source": [
    "n_odd.reshape(2,5)"
   ]
  },
  {
   "cell_type": "markdown",
   "metadata": {
    "id": "7Bs4QG5nl7hD"
   },
   "source": [
    "[1,2,3,2,3,4,3,4,5,6]\n",
    "\n",
    "[7,2,10,2,7,4,9,4,9,8]\n",
    "\n",
    "۳- مشخص کنید بین دو لیست گفته شده کدام اعضا و در چه ایندکسی اشتراک دارند"
   ]
  },
  {
   "cell_type": "code",
   "execution_count": 8,
   "metadata": {
    "colab": {
     "base_uri": "https://localhost:8080/"
    },
    "id": "TVo8Kjo3l8BH",
    "outputId": "aee15b75-8ee1-46cf-c528-2344d669197e"
   },
   "outputs": [
    {
     "data": {
      "text/plain": [
       "(array([2, 4]), array([1, 5]), array([1, 5]))"
      ]
     },
     "execution_count": 8,
     "metadata": {},
     "output_type": "execute_result"
    }
   ],
   "source": [
    "l1, l2=[1,2,3,2,3,4,3,4,5,6],[7,2,10,2,7,4,9,4,9,8]\n",
    "l1, l2 = np.array(l1), np.array(l2)\n",
    "\n",
    "shared_elements = np.intersect1d(l1,l2,return_indices=True)\n",
    "shared_elements"
   ]
  },
  {
   "cell_type": "code",
   "execution_count": 10,
   "metadata": {},
   "outputs": [
    {
     "data": {
      "text/plain": [
       "array([0, 1, 3, 5, 7, 8])"
      ]
     },
     "execution_count": 10,
     "metadata": {},
     "output_type": "execute_result"
    }
   ],
   "source": [
    "np.where(np.isin(l1, shared_elements))[0]"
   ]
  },
  {
   "cell_type": "code",
   "execution_count": 11,
   "metadata": {},
   "outputs": [
    {
     "data": {
      "text/plain": [
       "array([1, 3, 5, 7])"
      ]
     },
     "execution_count": 11,
     "metadata": {},
     "output_type": "execute_result"
    }
   ],
   "source": [
    " np.where(np.isin(l2, shared_elements))[0]"
   ]
  },
  {
   "cell_type": "markdown",
   "metadata": {
    "id": "TCbDJ_Hom-_T"
   },
   "source": [
    "array([ 0,  1,  2, ..., 12, 13, 14]\n",
    "\n",
    "۴- برای حذف سه نقطه به هنگام پرینت چه راهی پیشنهاد می دهید\n",
    "\n",
    "و با چه روشی میتوان چک کرد مقدار خالی وجود دارد یا خیر\n"
   ]
  },
  {
   "cell_type": "code",
   "execution_count": 10,
   "metadata": {
    "id": "4-6xXGJVm_dS"
   },
   "outputs": [
    {
     "name": "stdout",
     "output_type": "stream",
     "text": [
      "S1: [   0    1    2    2  153    3    4    5    6   12 4356  123  123  123\n",
      "   12   13   14]\n",
      "S2: [0, 1, 2, 2, 153, 3, 4, 5, 6, 12, 4356, 123, 123, 123, 12, 13, 14]\n"
     ]
    }
   ],
   "source": [
    "np.set_printoptions(threshold=np.inf)\n",
    "print('S1:',x)\n",
    "\n",
    "np.set_printoptions(threshold=5)\n",
    "x=np.array([ 0, 1, 2,2,153,3,4,5,6,12,4356,123,123,123, 12, 13, 14])\n",
    "print('S2:',x.tolist())\n",
    "\n"
   ]
  },
  {
   "cell_type": "markdown",
   "metadata": {
    "id": "hGcIjdVRpIhO"
   },
   "source": [
    "۵- مقادیر یکتای لیست زیر چقدر است و از هر کدام چند تا در لیست وجود دارد\n",
    "\n",
    "[1,2,3,2,3,4,3,4,5,6]"
   ]
  },
  {
   "cell_type": "code",
   "execution_count": 14,
   "metadata": {
    "colab": {
     "base_uri": "https://localhost:8080/"
    },
    "id": "d-7MSzEpoUNn",
    "outputId": "b4ca36e2-7de6-463a-9926-672e9b005996"
   },
   "outputs": [
    {
     "name": "stdout",
     "output_type": "stream",
     "text": [
      "K: 1, Count: 1\n",
      "K: 2, Count: 2\n",
      "K: 3, Count: 3\n",
      "K: 4, Count: 2\n",
      "K: 5, Count: 1\n",
      "K: 6, Count: 1\n"
     ]
    }
   ],
   "source": [
    "l5=np.array([1,2,3,2,3,4,3,4,5,6])\n",
    "# np.unique(l5,return_counts=True)\n",
    "\n",
    "unique_values, counts = np.unique(l5, return_counts=True)\n",
    "\n",
    "for value, count in zip(unique_values, counts):\n",
    "    print(f\"K: {value}, Count: {count}\")"
   ]
  },
  {
   "cell_type": "markdown",
   "metadata": {
    "id": "ApHYEVwuqtTg"
   },
   "source": [
    "۶- یک array\n",
    "\n",
    " رندوم ۳۰ عضوی بین اعداد ۱ تا ۵۰ بسازید و اعدادی که کوچکتر از ۱۰ هستند را به ۱۰ و اعدادی که از ۳۰ بزرگتر هستند را به ۳۰ تغییر دهید"
   ]
  },
  {
   "cell_type": "code",
   "execution_count": 47,
   "metadata": {},
   "outputs": [
    {
     "name": "stdout",
     "output_type": "stream",
     "text": [
      "[10 10 30 ... 10 30 29]\n"
     ]
    }
   ],
   "source": [
    "arr = np.random.randint(1, 51, size=30)\n",
    "arr[arr < 10] = 10  \n",
    "arr[arr > 30] = 30  \n",
    "\n",
    "print(arr)"
   ]
  },
  {
   "cell_type": "code",
   "execution_count": 21,
   "metadata": {
    "colab": {
     "base_uri": "https://localhost:8080/"
    },
    "id": "wi70Mm8Vo0Ml",
    "outputId": "4b1422f7-811c-4fb8-fe1a-f58644ef1975"
   },
   "outputs": [
    {
     "name": "stdout",
     "output_type": "stream",
     "text": [
      "[33.14924709 30.39618519 25.54217583 19.57381963  4.24468725 35.04802683\n",
      "  7.46221009  8.7607952  48.46878651 45.28799358 27.07073741 11.04564957\n",
      " 19.78331448 45.29088422  7.17456182 26.43073495  5.63140353 18.6468186\n",
      " 15.12981261 35.0725932  42.21729431 17.06519106 10.75266421 15.80499943\n",
      " 31.49733997 32.77095484 31.90320938 29.84397576 19.11062236  9.63998387]\n",
      "[30.         30.         25.54217583 19.57381963 10.         30.\n",
      " 10.         10.         30.         30.         27.07073741 11.04564957\n",
      " 19.78331448 30.         10.         26.43073495 10.         18.6468186\n",
      " 15.12981261 30.         30.         17.06519106 10.75266421 15.80499943\n",
      " 30.         30.         30.         29.84397576 19.11062236 10.        ]\n"
     ]
    }
   ],
   "source": []
  },
  {
   "cell_type": "markdown",
   "metadata": {
    "id": "yqDvPeDsr86h"
   },
   "source": [
    "۷-  array یک\n",
    "\n",
    "سه بعدی ساخته و در انتها آن را یک بعدی کنید"
   ]
  },
  {
   "cell_type": "code",
   "execution_count": 52,
   "metadata": {},
   "outputs": [
    {
     "data": {
      "text/plain": [
       "array([ 0,  1,  2, ..., 24, 25, 26])"
      ]
     },
     "execution_count": 52,
     "metadata": {},
     "output_type": "execute_result"
    }
   ],
   "source": [
    "array_3d = np.arange(27).reshape(3,3,3)\n",
    "array_3d.flatten()\n"
   ]
  },
  {
   "cell_type": "code",
   "execution_count": 66,
   "metadata": {
    "colab": {
     "base_uri": "https://localhost:8080/"
    },
    "id": "HZLxYYD0rqQ3",
    "outputId": "05cd0c02-3d27-4f66-cd30-d259849e6a6b"
   },
   "outputs": [
    {
     "name": "stdout",
     "output_type": "stream",
     "text": [
      "array_of_arrays:  [array([0, 1, 2]) array([2, 3, 4, 5, 6]) array([7, 8, 9])]\n",
      "array_of_arrays:  (3,)\n",
      "[0 1 2 2 3 4 5 6 7 8 9]\n"
     ]
    },
    {
     "name": "stderr",
     "output_type": "stream",
     "text": [
      "<ipython-input-66-a491e9c35e8a>:5: VisibleDeprecationWarning: Creating an ndarray from ragged nested sequences (which is a list-or-tuple of lists-or-tuples-or ndarrays with different lengths or shapes) is deprecated. If you meant to do this, you must specify 'dtype=object' when creating the ndarray.\n",
      "  array_of_arrays = np.array([arr1, arr2, arr3])\n"
     ]
    }
   ],
   "source": []
  },
  {
   "cell_type": "markdown",
   "metadata": {
    "id": "lPvjwDButXsY"
   },
   "source": [
    "۸- بزرگترین عضو در هر ردیف و سپس بزرگترین عضو در هر ستون بیابید"
   ]
  },
  {
   "cell_type": "code",
   "execution_count": 59,
   "metadata": {
    "colab": {
     "base_uri": "https://localhost:8080/"
    },
    "id": "UHnkAFfOuApB",
    "outputId": "c3734429-eccb-493b-c0fb-2cfe3a91a8e5"
   },
   "outputs": [
    {
     "name": "stdout",
     "output_type": "stream",
     "text": [
      "max_in_each_row=array([9, 8, 6, ..., 6, 8, 8]) \n",
      "max_in_each_col=array([9, 9, 9, 8]) \n"
     ]
    }
   ],
   "source": [
    "import numpy as np\n",
    "\n",
    "np.random.seed(100)\n",
    "a = np.random.randint(1,10, [8,4])\n",
    "# print(a)\n",
    "\n",
    "max_in_each_row = np.max(a, axis=1)\n",
    "print(f\"{max_in_each_row=} \")\n",
    "\n",
    "\n",
    "max_in_each_col = np.max(a, axis=0)\n",
    "print(f\"{max_in_each_col=} \")"
   ]
  },
  {
   "cell_type": "code",
   "execution_count": null,
   "metadata": {},
   "outputs": [],
   "source": [
    "np."
   ]
  },
  {
   "cell_type": "markdown",
   "metadata": {
    "id": "cLNzAJuwyS8t"
   },
   "source": [
    "۹- نامپای اری را بسازید که بین دو تاریخ '2022-02-01' و '2022-02-25'\n",
    "به صورت یک روز در میان باشد\n",
    "\n",
    "حالا روزهای جا افتاده در اری بالا را به آن اضافه کنید\n"
   ]
  },
  {
   "cell_type": "code",
   "execution_count": 66,
   "metadata": {},
   "outputs": [
    {
     "name": "stdout",
     "output_type": "stream",
     "text": [
      "['2022-02-01' '2022-02-02' '2022-02-03' ... '2022-02-23' '2022-02-24'\n",
      " '2022-02-25']\n"
     ]
    },
    {
     "data": {
      "text/plain": [
       "array(['2022-02-01', '2022-02-02', '2022-02-03', ..., '2022-02-23',\n",
       "       '2022-02-24', '2022-02-25'], dtype='datetime64[D]')"
      ]
     },
     "execution_count": 66,
     "metadata": {},
     "output_type": "execute_result"
    }
   ],
   "source": [
    "import numpy as np\n",
    "\n",
    "start_date = np.datetime64('2022-02-01')\n",
    "end_date = np.datetime64('2022-02-25')\n",
    "\n",
    "dates = np.arange(start_date, end_date + np.timedelta64(1, 'D'), dtype='datetime64[D]')\n",
    "\n",
    "print(dates)\n",
    "dates"
   ]
  },
  {
   "cell_type": "code",
   "execution_count": 58,
   "metadata": {
    "colab": {
     "base_uri": "https://localhost:8080/"
    },
    "id": "TDIjSak3vbDQ",
    "outputId": "97e9e8b7-4348-401c-c3d8-8eb91f8bfec3"
   },
   "outputs": [
    {
     "name": "stdout",
     "output_type": "stream",
     "text": [
      "['2018-02-01' '2018-02-03' '2018-02-05' '2018-02-07' '2018-02-09'\n",
      " '2018-02-11' '2018-02-13' '2018-02-15' '2018-02-17' '2018-02-19'\n",
      " '2018-02-21' '2018-02-23']\n"
     ]
    },
    {
     "data": {
      "text/plain": [
       "array(['2018-02-01', '2018-02-02', '2018-02-03', '2018-02-04',\n",
       "       '2018-02-05', '2018-02-06', '2018-02-07', '2018-02-08',\n",
       "       '2018-02-09', '2018-02-10', '2018-02-11', '2018-02-12',\n",
       "       '2018-02-13', '2018-02-14', '2018-02-15', '2018-02-16',\n",
       "       '2018-02-17', '2018-02-18', '2018-02-19', '2018-02-20',\n",
       "       '2018-02-21', '2018-02-22', '2018-02-23'], dtype='datetime64[D]')"
      ]
     },
     "execution_count": 58,
     "metadata": {},
     "output_type": "execute_result"
    }
   ],
   "source": []
  },
  {
   "cell_type": "markdown",
   "metadata": {
    "id": "-kiAuUBPzKAy"
   },
   "source": [
    "۱۰- عکس زیر را با کتابخانه\n",
    "\n",
    "requests\n",
    "\n",
    "گرفته و سپس با استفاده از کتابخانه\n",
    "\n",
    "BytesIO\n",
    "\n",
    "آن را باز کرده و به سایز ۲۵۰ در ۲۵۰ تغییر داده و در نامپای اری ذخیره کنید\n"
   ]
  },
  {
   "cell_type": "code",
   "execution_count": 79,
   "metadata": {},
   "outputs": [],
   "source": [
    "url = 'https://via.placeholder.com/150/FF0000/FFFFFF?Text=yttags.com'  # Replace with the actual image URL\n",
    "response = requests.get(url)"
   ]
  },
  {
   "cell_type": "code",
   "execution_count": 92,
   "metadata": {},
   "outputs": [
    {
     "name": "stdout",
     "output_type": "stream",
     "text": [
      "(150, 150, 3)\n",
      "------------------------------\n",
      "(250, 250, 3)\n"
     ]
    }
   ],
   "source": [
    "import requests\n",
    "from PIL import Image\n",
    "import numpy as np\n",
    "from io import BytesIO\n",
    "# Image\n",
    "# Get the image using requests library\n",
    "url = 'https://via.placeholder.com/150/FF0000/FFFFFF?Text=yttags.com'  # Replace with the actual image URL\n",
    "response = requests.get(url)\n",
    "image_data = response.content\n",
    "\n",
    "# Open the image and resize it to 250x250\n",
    "image = Image.open(BytesIO(image_data))\n",
    "print(np.array(image).shape)\n",
    "resized_image = image.resize((250, 250))\n",
    "\n",
    "# Convert the resized image to a NumPy array\n",
    "image_array = np.array(resized_image)\n",
    "image.save(fp='test_image.jpg')\n",
    "# Print the shape of the image array\n",
    "print('------------------------------')\n",
    "print(image_array.shape)"
   ]
  },
  {
   "cell_type": "code",
   "execution_count": 60,
   "metadata": {
    "colab": {
     "base_uri": "https://localhost:8080/"
    },
    "id": "DMklSUtRugcL",
    "outputId": "05415873-c8f2-4b7c-c90f-74e2e73549fb"
   },
   "outputs": [
    {
     "data": {
      "text/plain": [
       "array([[[100, 103, 112],\n",
       "        [ 98, 101, 110],\n",
       "        [ 97, 100, 109],\n",
       "        ...,\n",
       "        [120, 119, 124],\n",
       "        [120, 119, 124],\n",
       "        [114, 113, 118]],\n",
       "\n",
       "       [[107, 110, 119],\n",
       "        [106, 109, 118],\n",
       "        [102, 105, 114],\n",
       "        ...,\n",
       "        [116, 115, 121],\n",
       "        [117, 116, 121],\n",
       "        [116, 115, 120]],\n",
       "\n",
       "       [[108, 111, 120],\n",
       "        [108, 111, 120],\n",
       "        [101, 104, 113],\n",
       "        ...,\n",
       "        [106, 105, 111],\n",
       "        [112, 111, 116],\n",
       "        [116, 115, 120]],\n",
       "\n",
       "       ...,\n",
       "\n",
       "       [[ 64,  62,  73],\n",
       "        [ 66,  64,  75],\n",
       "        [ 67,  65,  76],\n",
       "        ...,\n",
       "        [240, 241, 238],\n",
       "        [237, 238, 233],\n",
       "        [237, 238, 233]],\n",
       "\n",
       "       [[ 65,  63,  74],\n",
       "        [ 66,  64,  75],\n",
       "        [ 70,  68,  79],\n",
       "        ...,\n",
       "        [241, 241, 239],\n",
       "        [240, 241, 236],\n",
       "        [240, 241, 236]],\n",
       "\n",
       "       [[ 73,  71,  82],\n",
       "        [ 70,  68,  79],\n",
       "        [ 72,  70,  81],\n",
       "        ...,\n",
       "        [239, 239, 238],\n",
       "        [240, 240, 237],\n",
       "        [240, 241, 236]]], dtype=uint8)"
      ]
     },
     "execution_count": 60,
     "metadata": {},
     "output_type": "execute_result"
    }
   ],
   "source": []
  },
  {
   "cell_type": "markdown",
   "metadata": {
    "id": "6WEDqaz_3WVh"
   },
   "source": [
    "# linux\n",
    "1-برای تنظیمات گراب بهتر است کدوم فولدر تغییر داده شود\n",
    "\n",
    "در این مسیر میتوان فایل های گراب را تغییر داد \n",
    "/etc/defult/grub\n",
    "\n",
    "2- شما برنامه ای را برای پیش بینی قیمت کالا نوشته اید این برمامه برای ران شدن احتیاج به خواندن ورودی به عنوان کانفیگ دارد کانفیگ های برنامه بهتر است چگونه و در کجا اعمال شوند\n",
    "\n",
    "3-به نظر شما نود پرینتر یا هر سخت افزار در کدام فولدر ذخیره میشود\n",
    "\n",
    "/dev\n",
    "\n",
    "4-چیست bios کار\n",
    "\n",
    "نرم‌افزاری است که مسئول بوت کردن و آماده سازی  اولیه  اجزای سخت‌افزاری سیستم قبل از کنترل سیستم عامل می‌باشد. این نرم‌افزار عملیات ورودی/خروجی در سطح پایین و مقداردهی اولیه سخت‌افزار را فراهم می‌کند.\n",
    "و پس از آن کنترل سیستم را به سیستم عامل میدهد. یک جورایی عملا سیستم روشن میکنه و سیستم عامل رو میاره بالا و یسری اطلاعات به سیستم عامل میده تا بتونه کارش رو انجام بده\n",
    "\n",
    "5- منظور از ~ چیست\n",
    "\n",
    "ادرس home یوز را نشان میدهد\n",
    "cd /home/<username>/ === cd . \n"
   ]
  }
 ],
 "metadata": {
  "colab": {
   "provenance": []
  },
  "kernelspec": {
   "display_name": "Python 3 (ipykernel)",
   "language": "python",
   "name": "python3"
  },
  "language_info": {
   "codemirror_mode": {
    "name": "ipython",
    "version": 3
   },
   "file_extension": ".py",
   "mimetype": "text/x-python",
   "name": "python",
   "nbconvert_exporter": "python",
   "pygments_lexer": "ipython3",
   "version": "3.11.4"
  }
 },
 "nbformat": 4,
 "nbformat_minor": 4
}
