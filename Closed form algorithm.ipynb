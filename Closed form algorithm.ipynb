{
 "cells": [
  {
   "cell_type": "markdown",
   "id": "739c1f63-2b6d-46e8-b4e1-1d254cc75b88",
   "metadata": {},
   "source": [
    "## Import LIbraries"
   ]
  },
  {
   "cell_type": "code",
   "execution_count": 1,
   "id": "1eab59e9-f7d8-4569-8582-e0e14dcd3866",
   "metadata": {},
   "outputs": [],
   "source": [
    "import numpy as np\n",
    "import pandas as pd\n",
    "import matplotlib.pyplot as plt"
   ]
  },
  {
   "cell_type": "markdown",
   "id": "56f89d54-f2f6-4fb5-afa0-916473b626bb",
   "metadata": {},
   "source": [
    "## Create Data"
   ]
  },
  {
   "cell_type": "code",
   "execution_count": 11,
   "id": "5fdcfb4e-7645-444d-86cd-5563eaa00757",
   "metadata": {},
   "outputs": [],
   "source": [
    "X = 2 * np.random.rand(100, 1)\n",
    "y = 5 + 4 * X + np.random.randn(100, 1)"
   ]
  },
  {
   "cell_type": "markdown",
   "id": "fd447c8f-3992-44f1-bce5-f9d6d6cd00ad",
   "metadata": {},
   "source": [
    "## Estimation of the model parameters "
   ]
  },
  {
   "cell_type": "code",
   "execution_count": 6,
   "id": "1994d4b4-7317-4256-ae83-768b99a42bf3",
   "metadata": {},
   "outputs": [],
   "source": [
    "def find_theta(X, y):\n",
    " N = X.shape[0]\n",
    " d = X.shape[1]\n",
    " \n",
    " X_rev = np.c_[np.ones((X.shape[0], 1)), X]\n",
    " theta = np.dot(np.linalg.inv(X_rev.T.dot(X_rev)), X_rev.T.dot(y))\n",
    "     \n",
    " error =  y - X_rev.dot(theta)  \n",
    " mse = np.square(error).mean()\n",
    " return theta"
   ]
  },
  {
   "cell_type": "markdown",
   "id": "fb5b0b72-229a-448f-8e2a-2da49e7c5e04",
   "metadata": {},
   "source": [
    "## Show the model parameters"
   ]
  },
  {
   "cell_type": "code",
   "execution_count": 12,
   "id": "a2faa7d7-d083-4b15-9b5e-af56b1a7f093",
   "metadata": {},
   "outputs": [
    {
     "name": "stdout",
     "output_type": "stream",
     "text": [
      "The parameters of model are:\n",
      " [[5.19220242]\n",
      " [3.79921302]]\n"
     ]
    }
   ],
   "source": [
    "parameters = find_theta(X, y)\n",
    "print('The parameters of model are:\\n', parameters)"
   ]
  },
  {
   "cell_type": "markdown",
   "id": "b0e61700-b35a-40cb-ba08-944cb9a8fb4c",
   "metadata": {},
   "source": [
    "## The prediction model"
   ]
  },
  {
   "cell_type": "code",
   "execution_count": 13,
   "id": "59c7cf36-4cfc-4837-8193-d0203e1ea9cb",
   "metadata": {},
   "outputs": [],
   "source": [
    "X_rev = np.c_[np.ones((X.shape[0], 1)), X]\n",
    "y_hat = X_rev.dot(parameter)"
   ]
  },
  {
   "cell_type": "markdown",
   "id": "ec0f63b8-0422-4584-8566-931c6fd7f7d1",
   "metadata": {},
   "source": [
    "## Plot the prediction result"
   ]
  },
  {
   "cell_type": "code",
   "execution_count": 14,
   "id": "1eeaab7d-2d7a-42a2-9c65-32fc500c620a",
   "metadata": {},
   "outputs": [
    {
     "data": {
      "text/plain": [
       "[<matplotlib.lines.Line2D at 0x2142481fd0>]"
      ]
     },
     "execution_count": 14,
     "metadata": {},
     "output_type": "execute_result"
    },
    {
     "data": {
      "image/png": "[encoded data removed]",
      "text/plain": [
       "<Figure size 640x480 with 1 Axes>"
      ]
     },
     "metadata": {},
     "output_type": "display_data"
    }
   ],
   "source": [
    "plt.scatter(X, y, color = '#346eeb')\n",
    "plt.plot(X, y_hat, color = '#eb344f')"
   ]
  },
  {
   "cell_type": "code",
   "execution_count": null,
   "id": "5fa1b280-4a11-43cb-b0e0-3130023ece7a",
   "metadata": {},
   "outputs": [],
   "source": []
  }
 ],
 "metadata": {
  "kernelspec": {
   "display_name": "Python 3 (ipykernel)",
   "language": "python",
   "name": "python3"
  },
  "language_info": {
   "codemirror_mode": {
    "name": "ipython",
    "version": 3
   },
   "file_extension": ".py",
   "mimetype": "text/x-python",
   "name": "python",
   "nbconvert_exporter": "python",
   "pygments_lexer": "ipython3",
   "version": "3.11.4"
  }
 },
 "nbformat": 4,
 "nbformat_minor": 5
}
