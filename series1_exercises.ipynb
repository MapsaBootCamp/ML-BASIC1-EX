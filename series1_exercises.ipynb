{
 "cells": [
  {
   "cell_type": "markdown",
   "id": "697c1c7e-ea6c-4519-a575-cc01207ad2ca",
   "metadata": {},
   "source": [
    "# Series1 exercises"
   ]
  },
  {
   "cell_type": "markdown",
   "id": "b9951e94-907c-4250-a7f6-e21cafba111e",
   "metadata": {
    "jp-MarkdownHeadingCollapsed": true
   },
   "source": [
    "## common libraries"
   ]
  },
  {
   "cell_type": "code",
   "execution_count": 1,
   "id": "071d51e7-1052-4700-b40d-689ac356ec7a",
   "metadata": {},
   "outputs": [],
   "source": [
    "from typing import List, Dict"
   ]
  },
  {
   "cell_type": "code",
   "execution_count": 2,
   "id": "bf362b58-463c-40e4-8315-3dceecdef730",
   "metadata": {},
   "outputs": [],
   "source": [
    "import string"
   ]
  },
  {
   "cell_type": "markdown",
   "id": "ef4c5d3e-c53c-4cd1-8895-913c14a9e728",
   "metadata": {
    "jp-MarkdownHeadingCollapsed": true
   },
   "source": [
    "## page 83 - exercise 15"
   ]
  },
  {
   "cell_type": "markdown",
   "id": "0ab3f45c-f968-43a1-8f5a-a404579baeb3",
   "metadata": {},
   "source": [
    "Use a list comprehension to create the list below, which consists of ones separated by increasingly many zeroes.\n",
    "The last two ones in the list should be separated by ten zeroes.\n",
    "\n",
    "[1,1,0,1,0,0,1,0,0,0,1,0,0,0,0,1,....]"
   ]
  },
  {
   "cell_type": "code",
   "execution_count": 3,
   "id": "29fbd5f5-1f5a-4681-ad36-0e7196bc8239",
   "metadata": {},
   "outputs": [],
   "source": [
    "def ones_separated_by_zeroes(number_of_ones: int) -> List[int]:\n",
    "    return [1 if j == 0 else 0 for i in range(number_of_ones-1) for j in range(i+1)]+[1]"
   ]
  },
  {
   "cell_type": "code",
   "execution_count": 4,
   "id": "75f1b25a-391f-443a-826b-cb36771a0225",
   "metadata": {},
   "outputs": [
    {
     "name": "stdout",
     "output_type": "stream",
     "text": [
      "[1, 1, 0, 1, 0, 0, 1, 0, 0, 0, 1, 0, 0, 0, 0, 1, 0, 0, 0, 0, 0, 1, 0, 0, 0, 0, 0, 0, 1, 0, 0, 0, 0, 0, 0, 0, 1, 0, 0, 0, 0, 0, 0, 0, 0, 1, 0, 0, 0, 0, 0, 0, 0, 0, 0, 1, 0, 0, 0, 0, 0, 0, 0, 0, 0, 0, 1]\n"
     ]
    }
   ],
   "source": [
    "print(ones_separated_by_zeroes(12))"
   ]
  },
  {
   "cell_type": "markdown",
   "id": "29c046fd-c8b3-449c-8c4e-a6a38596bc0a",
   "metadata": {
    "jp-MarkdownHeadingCollapsed": true
   },
   "source": [
    "## page 83 - exercise 16"
   ]
  },
  {
   "cell_type": "markdown",
   "id": "982bc1a3-844c-4761-80d6-da2678d2b548",
   "metadata": {},
   "source": [
    "Let L=[2,3,5,7,11,13,17,19,23,29,31,37,41,43,47]. Use a list comprehension to\n",
    "produce a list of the gaps between consecutive entries in L. Then find the maximum gap size\n",
    "and the percentage of gaps that have size 2."
   ]
  },
  {
   "cell_type": "code",
   "execution_count": 5,
   "id": "58a116bc-c8d1-42b7-9fe0-7c5aef6082d6",
   "metadata": {},
   "outputs": [],
   "source": [
    "def list_of_gaps(input_list: List[float]) -> List[float]:\n",
    "    return [input_list[i] - input_list[i-1] for i in range(1, len(input_list))]"
   ]
  },
  {
   "cell_type": "code",
   "execution_count": 6,
   "id": "096d87d5-ff0b-4648-af3d-6b050777f21c",
   "metadata": {},
   "outputs": [],
   "source": [
    "def find_maximum_gap_size(input_list: List[float]) -> float:\n",
    "    gaps = list_of_gaps(input_list)\n",
    "    return sorted(gaps)[-1]"
   ]
  },
  {
   "cell_type": "code",
   "execution_count": 7,
   "id": "2654ed61-d22a-4302-a0bc-5377f3d149e2",
   "metadata": {},
   "outputs": [],
   "source": [
    "def size2_gap_percentage(input_list: List[float]) -> float:\n",
    "    gaps = list_of_gaps(input_list)\n",
    "    return gaps.count(2)/len(gaps) * 100"
   ]
  },
  {
   "cell_type": "code",
   "execution_count": 8,
   "id": "d13c36ec-6b32-4769-8bba-3b413895674b",
   "metadata": {},
   "outputs": [],
   "source": [
    "l = [2, 3, 5, 7, 11, 13, 17, 19, 23, 29, 31, 37, 41, 43, 47] "
   ]
  },
  {
   "cell_type": "code",
   "execution_count": 9,
   "id": "b19f8b4b-115f-4cd3-b244-d1a98b0ee1a8",
   "metadata": {},
   "outputs": [
    {
     "data": {
      "text/plain": [
       "[1, 2, 2, 4, 2, 4, 2, 4, 6, 2, 6, 4, 2, 4]"
      ]
     },
     "execution_count": 9,
     "metadata": {},
     "output_type": "execute_result"
    }
   ],
   "source": [
    "list_of_gaps(l)"
   ]
  },
  {
   "cell_type": "code",
   "execution_count": 10,
   "id": "c00604ec-df85-4527-9ade-6399c0f80e5c",
   "metadata": {},
   "outputs": [
    {
     "data": {
      "text/plain": [
       "6"
      ]
     },
     "execution_count": 10,
     "metadata": {},
     "output_type": "execute_result"
    }
   ],
   "source": [
    "find_maximum_gap_size(l)"
   ]
  },
  {
   "cell_type": "code",
   "execution_count": 11,
   "id": "c691cc7a-21f9-4f61-84f9-a83e4a80a612",
   "metadata": {},
   "outputs": [
    {
     "data": {
      "text/plain": [
       "42.857142857142854"
      ]
     },
     "execution_count": 11,
     "metadata": {},
     "output_type": "execute_result"
    }
   ],
   "source": [
    "size2_gap_percentage(l)"
   ]
  },
  {
   "cell_type": "markdown",
   "id": "3e5458c0-989b-4598-b515-b548831af4a6",
   "metadata": {
    "jp-MarkdownHeadingCollapsed": true
   },
   "source": [
    "## page 83 - exercise 17"
   ]
  },
  {
   "cell_type": "markdown",
   "id": "5e40d084-07ac-48f6-9d66-15595575f55f",
   "metadata": {},
   "source": [
    "Write a program that finds the average of all of the entries in a 4 × 4 list of integers."
   ]
  },
  {
   "cell_type": "code",
   "execution_count": 12,
   "id": "61c392e5-83b7-41cf-9d3b-363b1c85c8c9",
   "metadata": {},
   "outputs": [],
   "source": [
    "import random"
   ]
  },
  {
   "cell_type": "code",
   "execution_count": 13,
   "id": "09c472af-c40c-4729-be9b-abda818dfbb7",
   "metadata": {},
   "outputs": [],
   "source": [
    "def find_average_of_entries(input_list: List[List[float]]) -> float:\n",
    "    sum = 0\n",
    "    count = 0\n",
    "    for list in input_list:\n",
    "        for number in list:\n",
    "            sum += number\n",
    "            count += 1\n",
    "\n",
    "    return sum/count"
   ]
  },
  {
   "cell_type": "code",
   "execution_count": 14,
   "id": "2db0b3ff-bb03-4572-bb79-c4be991a35ee",
   "metadata": {},
   "outputs": [],
   "source": [
    "list = [[random.randint(1, 100) for i in range(4)] for j in range(4)]"
   ]
  },
  {
   "cell_type": "code",
   "execution_count": 15,
   "id": "2d055100-42b8-477f-84e6-3b818b3c6ade",
   "metadata": {},
   "outputs": [
    {
     "data": {
      "text/plain": [
       "[[27, 14, 71, 77], [71, 37, 65, 24], [82, 97, 89, 82], [6, 7, 70, 15]]"
      ]
     },
     "execution_count": 15,
     "metadata": {},
     "output_type": "execute_result"
    }
   ],
   "source": [
    "list"
   ]
  },
  {
   "cell_type": "code",
   "execution_count": 16,
   "id": "d4f05e2c-ac9f-41ab-b78b-a6428179cc63",
   "metadata": {},
   "outputs": [
    {
     "data": {
      "text/plain": [
       "52.125"
      ]
     },
     "execution_count": 16,
     "metadata": {},
     "output_type": "execute_result"
    }
   ],
   "source": [
    "find_average_of_entries(list)"
   ]
  },
  {
   "cell_type": "markdown",
   "id": "8105704d-66cb-4bde-8041-ebae0188d720",
   "metadata": {
    "jp-MarkdownHeadingCollapsed": true
   },
   "source": [
    "## page 83 - exercise 25 (optional)"
   ]
  },
  {
   "cell_type": "markdown",
   "id": "53aefe0c-23dc-4525-bf94-670c2d02ea7f",
   "metadata": {},
   "source": [
    "Here is an old puzzle question you can solve with a computer program. There is only one\n",
    "five-digit number n that is such that every one of the following ten numbers shares exactly\n",
    "one digit in common in the same position as n. Find n.\n",
    "\n",
    "01265, 12171, 23257, 34548, 45970, 56236, 67324, 78084, 89872, 99414"
   ]
  },
  {
   "cell_type": "code",
   "execution_count": 17,
   "id": "33a1882f-811f-492c-a5eb-ccd43d383e3d",
   "metadata": {},
   "outputs": [
    {
     "name": "stdout",
     "output_type": "stream",
     "text": [
      "30274\n"
     ]
    }
   ],
   "source": [
    "def find_common_digits_number(number1, number2) -> int:\n",
    "    common_digits = [number1[i] for i in range(5) if number1[i] == number2[i]]\n",
    "    return len(common_digits)\n",
    "\n",
    "\n",
    "numbers = ['01265', '12171', '23257', '34548', '45970', '56236', '67324', '78084', '89872', '99414']\n",
    "for i in range(10000, 100000):\n",
    "    for number in numbers:\n",
    "        if find_common_digits_number(str(i), number) != 1:\n",
    "            break\n",
    "    else:\n",
    "        print(i)"
   ]
  },
  {
   "cell_type": "markdown",
   "id": "6f37c9bd-cd99-4caa-b44e-a581b5ecf4a3",
   "metadata": {
    "jp-MarkdownHeadingCollapsed": true
   },
   "source": [
    "## page 106 - exercise 10 (optional)"
   ]
  },
  {
   "cell_type": "markdown",
   "id": "52677ae5-4e60-4c84-aeed-c600403a9fa1",
   "metadata": {},
   "source": [
    "Adding certain numbers to their reversals sometimes produces a palindromic number. For\n",
    "instance, 241 + 142 = 383. Sometimes, we have to repeat the process. For instance, 84 + 48 =\n",
    "132 and 132 + 231 = 363. Write a program that finds both two-digit numbers for which this\n",
    "process must be repeated more than 20 times to obtain a palindromic number."
   ]
  },
  {
   "cell_type": "code",
   "execution_count": 18,
   "id": "5021788b-457b-4eac-9d4c-c0bee34221d7",
   "metadata": {},
   "outputs": [
    {
     "data": {
      "text/plain": [
       "[89, 98]"
      ]
     },
     "execution_count": 18,
     "metadata": {},
     "output_type": "execute_result"
    }
   ],
   "source": [
    "def find_reversal(number: int) -> int:\n",
    "    return int(str(number)[::-1])\n",
    "\n",
    "\n",
    "def is_palindromic(number: int) -> bool:\n",
    "    return number == find_reversal(number)\n",
    "\n",
    "\n",
    "def my_func() -> List:\n",
    "    result = []\n",
    "    calulated_numbers = []\n",
    "    for number in range(10, 100):\n",
    "        if number in calulated_numbers or number % 10 == 0 or number % 11 == 0:\n",
    "            continue\n",
    "            \n",
    "        reversal = find_reversal(number)\n",
    "        calulated_numbers.extend((number,reversal))\n",
    "\n",
    "        n = number\n",
    "        for i in range(20):\n",
    "            sum = n + find_reversal(n)\n",
    "            if is_palindromic(sum):\n",
    "                break\n",
    "            n = sum\n",
    "        \n",
    "        else:\n",
    "            result.extend((number, reversal))\n",
    "\n",
    "    return result\n",
    "\n",
    "my_func()"
   ]
  },
  {
   "cell_type": "markdown",
   "id": "9b00bf30-6058-4fb7-828e-d106b57d8589",
   "metadata": {
    "jp-MarkdownHeadingCollapsed": true
   },
   "source": [
    "## page 115 - exercise 4"
   ]
  },
  {
   "cell_type": "markdown",
   "id": "2bea29a6-5ba6-49bf-9903-50be04ef9642",
   "metadata": {},
   "source": [
    "Write a program that uses a dictionary that contains ten user names and passwords. The\n",
    "program should ask the user to enter their username and password. If the username is not in\n",
    "the dictionary, the program should indicate that the person is not a valid user of the system. If\n",
    "the username is in the dictionary, but the user does not enter the right password, the program\n",
    "should say that the password is invalid. If the password is correct, then the program should\n",
    "tell the user that they are now logged in to the system."
   ]
  },
  {
   "cell_type": "code",
   "execution_count": 19,
   "id": "76c35162-1fc7-4cc6-8f80-e5826ed4c467",
   "metadata": {},
   "outputs": [],
   "source": [
    "def is_valid_user(user_name: str, users: Dict[str, int]):\n",
    "    return user_name in users"
   ]
  },
  {
   "cell_type": "code",
   "execution_count": 20,
   "id": "3e88495b-081d-45a1-822c-b18b3ab19396",
   "metadata": {},
   "outputs": [],
   "source": [
    "def is_valid_password(name: str, password: int, users: Dict[str, int]):\n",
    "    return users[name] == password"
   ]
  },
  {
   "cell_type": "code",
   "execution_count": 21,
   "id": "a8712ce3-9e01-464f-b923-4065fced5b4a",
   "metadata": {},
   "outputs": [],
   "source": [
    "users = {\"User1\": 1234, \"User2\": 2345, \"User3\": 3456, \"User4\": 4567, \"User5\": 5678, \"User6\": 6789, \"User7\": 7890, \"User8\": 8901, \"User9\": 9012, \"User10\": 1230}"
   ]
  },
  {
   "cell_type": "code",
   "execution_count": 22,
   "id": "29f72db6-5008-4ab6-bfdc-13c5fb32cbc2",
   "metadata": {},
   "outputs": [
    {
     "name": "stdin",
     "output_type": "stream",
     "text": [
      "Please enter your name:  User1\n",
      "Please enter your password:  1234\n"
     ]
    },
    {
     "name": "stdout",
     "output_type": "stream",
     "text": [
      "You are now logged in to the system.\n"
     ]
    }
   ],
   "source": [
    "user_name = input(\"Please enter your name: \")\n",
    "password = int(input(\"Please enter your password: \"))\n",
    "\n",
    "if not is_valid_user(user_name, users):\n",
    "    print(\"You are not a valid user of the system.\")   \n",
    "elif is_valid_password(user_name, password, users):\n",
    "    print(\"You are now logged in to the system.\")\n",
    "else:\n",
    "    print(\"The password is invalid.\")"
   ]
  },
  {
   "cell_type": "markdown",
   "id": "909ac88d-7a67-4426-8c98-3da1bcca1196",
   "metadata": {
    "jp-MarkdownHeadingCollapsed": true
   },
   "source": [
    "## page 115 - exercise 7"
   ]
  },
  {
   "cell_type": "markdown",
   "id": "fbb58e0d-f7ea-4260-a1a4-6d74aa7c8ea4",
   "metadata": {},
   "source": [
    "Create a 5 × 5 list of numbers. Then write a program that creates a dictionary whose keys are\n",
    "the numbers and whose values are the how many times the number occurs. Then print the\n",
    "three most common numbers."
   ]
  },
  {
   "cell_type": "code",
   "execution_count": 23,
   "id": "dd4db8ba-c7d1-43f9-973e-4ae22f5249f9",
   "metadata": {},
   "outputs": [],
   "source": [
    "def count_number_of_items(input_list: List[float]) -> Dict:\n",
    "    result = {}\n",
    "    for list in input_list:\n",
    "        for item in list:\n",
    "            if item in result:\n",
    "                result[item] += 1\n",
    "            else:\n",
    "                result[item] = 1\n",
    "    return result"
   ]
  },
  {
   "cell_type": "code",
   "execution_count": 24,
   "id": "3b38e339-74d9-4faa-9ec8-380862145175",
   "metadata": {},
   "outputs": [],
   "source": [
    "def find_three_most_common(input_list: List[float]) -> List:\n",
    "    count_numbers = count_number_of_items(input_list)\n",
    "    sorted_count_numbers = sorted(count_numbers.items(), key=lambda kv: kv[1])\n",
    "    return [item[0] for item in sorted_count_numbers[-1:-4:-1]]"
   ]
  },
  {
   "cell_type": "code",
   "execution_count": 25,
   "id": "daa947a2-cfba-4040-bd9e-b6392a4a1957",
   "metadata": {},
   "outputs": [],
   "source": [
    "my_list = [[2, 1, 1 , 5, 8],[4, 3, 3, 2, 1],[1, 0, 8, 7, 6],[0, 1, 2, 3, 1],[4, 9, 9, 5, 3]]"
   ]
  },
  {
   "cell_type": "code",
   "execution_count": 26,
   "id": "d11d3df6-2bf1-4eff-a6a1-8dc47fdc59fc",
   "metadata": {},
   "outputs": [
    {
     "data": {
      "text/plain": [
       "{2: 3, 1: 6, 5: 2, 8: 2, 4: 2, 3: 4, 0: 2, 7: 1, 6: 1, 9: 2}"
      ]
     },
     "execution_count": 26,
     "metadata": {},
     "output_type": "execute_result"
    }
   ],
   "source": [
    "count_number_of_items(my_list)"
   ]
  },
  {
   "cell_type": "code",
   "execution_count": 27,
   "id": "ca5deed5-5311-46ee-81c4-4e531c0e18bc",
   "metadata": {},
   "outputs": [
    {
     "data": {
      "text/plain": [
       "[1, 3, 2]"
      ]
     },
     "execution_count": 27,
     "metadata": {},
     "output_type": "execute_result"
    }
   ],
   "source": [
    "find_three_most_common(my_list)"
   ]
  },
  {
   "cell_type": "markdown",
   "id": "e53e3136-f874-4af8-9e45-1c51b0375095",
   "metadata": {
    "jp-MarkdownHeadingCollapsed": true
   },
   "source": [
    "## page 115 - exercise 11 (optional)"
   ]
  },
  {
   "cell_type": "markdown",
   "id": "d7cea957-4af1-4435-b3a0-4781c08196a9",
   "metadata": {},
   "source": [
    "In Section 6.10 we met the substitution cipher. This cipher replaces every letter with a different\n",
    "letter. For instance every a might be replaced with an e, every b might be replaced with an\n",
    "a, etc. Write a program that asks the user to enter two strings. Then determine if the second\n",
    "string could be an encoded version of the first one with a substitution cipher. For instance,\n",
    "CXYZ is not an encoded version of BOOK because O got mapped to two separate letters.\n",
    "Also, CXXK is not an encoded version of BOOK, because K got mapped to itself. On the other\n",
    "hand, CXXZ would be an encoding of BOOK. This problem can be done with or without a\n",
    "dictionary."
   ]
  },
  {
   "cell_type": "code",
   "execution_count": 28,
   "id": "925c3598-cc3a-4d97-ac6b-34e9ee944a21",
   "metadata": {},
   "outputs": [],
   "source": [
    "def is_values_repetitive(input_dict: Dict) -> bool:\n",
    "    values = tuple(input_dict.values())\n",
    "    for key, value in input_dict.items():\n",
    "        if values.count(value) > 1:\n",
    "            return True\n",
    "    return False\n",
    "\n",
    "def is_encoded(str1: str, str2: str) -> bool:\n",
    "    if len(str1) != len(str2):\n",
    "        return False\n",
    "        \n",
    "    ziped_strings = tuple(zip(str1, str2))\n",
    "    encoder = {}\n",
    "    for ch1, ch2 in ziped_strings:\n",
    "        if ch1 == ch2:\n",
    "            return False\n",
    "            \n",
    "        if ch1 in encoder and encoder[ch1] != ch2:\n",
    "                return False\n",
    "        \n",
    "        encoder[ch1] = ch2\n",
    "    \n",
    "    if is_values_repetitive(encoder):\n",
    "            return False\n",
    "        \n",
    "    return True\n",
    "    "
   ]
  },
  {
   "cell_type": "code",
   "execution_count": 29,
   "id": "cafd3c51-e9be-4382-adfb-44552f7dee0c",
   "metadata": {},
   "outputs": [
    {
     "name": "stdin",
     "output_type": "stream",
     "text": [
      "Enter two strings:  BOOK CXYZ\n"
     ]
    }
   ],
   "source": [
    "str1, str2 = input(\"Enter two strings: \").split()"
   ]
  },
  {
   "cell_type": "code",
   "execution_count": 30,
   "id": "2f4e4d69-ff91-438b-8ea2-d7a4523df0e3",
   "metadata": {},
   "outputs": [
    {
     "data": {
      "text/plain": [
       "False"
      ]
     },
     "execution_count": 30,
     "metadata": {},
     "output_type": "execute_result"
    }
   ],
   "source": [
    "is_encoded(str1, str2)"
   ]
  },
  {
   "cell_type": "markdown",
   "id": "2c7c59e9-e3a2-4ca7-9e38-04b78d034afc",
   "metadata": {
    "jp-MarkdownHeadingCollapsed": true
   },
   "source": [
    "## page 116 - exercise 13"
   ]
  },
  {
   "cell_type": "markdown",
   "id": "04aa941c-b440-40de-926e-6a759777f7fe",
   "metadata": {},
   "source": [
    "Suppose you are given the following list of strings:\n",
    "\n",
    "L = [ 'aabaabac ', 'cabaabca ', 'aaabbcba ', 'aabacbab ', 'acababba ']\n",
    "\n",
    "Patterns like this show up in many places, including DNA sequencing. The user has a\n",
    "string of their own with only some letters filled in and the rest as asterisks. An example\n",
    "is a**a****. The user would like to know which of the strings in the list fit with their pat-\n",
    "tern. In the example just given, the matching strings are the first and fourth. One way to\n",
    "solve this problem is to create a dictionary whose keys are the indices in the user’s string of\n",
    "the non-asterisk characters and whose values are those characters. Write a program imple-\n",
    "menting this approach (or some other approach) to find the strings that match a user-entered\n",
    "string."
   ]
  },
  {
   "cell_type": "code",
   "execution_count": 31,
   "id": "6b69965e-a9e8-4af2-a1c6-0e0456c149f6",
   "metadata": {},
   "outputs": [],
   "source": [
    "def find_pattern(input_str: str) -> Dict[int, str]:\n",
    "    result = {}\n",
    "    for index, char in enumerate(input_str):\n",
    "        if char != \"*\":\n",
    "            result[index] = char\n",
    "    return result"
   ]
  },
  {
   "cell_type": "code",
   "execution_count": 32,
   "id": "20b43005-7800-4ca2-b948-fd1162bd0e05",
   "metadata": {},
   "outputs": [],
   "source": [
    "def check_pattern(pattern: Dict[int, str], strings_list: List[str]) -> List[int]:\n",
    "    result = []\n",
    "    for index, string in enumerate(strings_list):\n",
    "        for key, value in pattern.items():\n",
    "            if string[key] != value:\n",
    "                break\n",
    "        else: \n",
    "            result.append(index)\n",
    "    return result"
   ]
  },
  {
   "cell_type": "code",
   "execution_count": 33,
   "id": "17397f7d-bde8-4ef3-825e-9dff81c6728f",
   "metadata": {},
   "outputs": [],
   "source": [
    "l = [\"aabaabac\", \"cabaabca\", \"aaabbcba\", \"aabacbab\", \"acavabba\"]"
   ]
  },
  {
   "cell_type": "code",
   "execution_count": 34,
   "id": "c13ebf2a-604d-41a5-ba39-db2a999aa77c",
   "metadata": {},
   "outputs": [
    {
     "name": "stdin",
     "output_type": "stream",
     "text": [
      "Enter a string:  a**a****\n"
     ]
    }
   ],
   "source": [
    "user_string = input(\"Enter a string: \")"
   ]
  },
  {
   "cell_type": "code",
   "execution_count": 35,
   "id": "a4736bad-e9db-458e-b592-eae4dacb894e",
   "metadata": {},
   "outputs": [],
   "source": [
    "pattern = find_pattern(user_string)"
   ]
  },
  {
   "cell_type": "code",
   "execution_count": 36,
   "id": "77842f52-f3f0-4630-9992-dd387554ab50",
   "metadata": {},
   "outputs": [
    {
     "data": {
      "text/plain": [
       "{0: 'a', 3: 'a'}"
      ]
     },
     "execution_count": 36,
     "metadata": {},
     "output_type": "execute_result"
    }
   ],
   "source": [
    "pattern"
   ]
  },
  {
   "cell_type": "code",
   "execution_count": 37,
   "id": "7eb246aa-efd5-454d-aa90-d910fca1b370",
   "metadata": {},
   "outputs": [],
   "source": [
    "matching_strings_index = check_pattern(pattern, l)"
   ]
  },
  {
   "cell_type": "code",
   "execution_count": 38,
   "id": "9bccbb0b-5802-4b94-b53f-126f6ae03e5c",
   "metadata": {},
   "outputs": [
    {
     "data": {
      "text/plain": [
       "[0, 3]"
      ]
     },
     "execution_count": 38,
     "metadata": {},
     "output_type": "execute_result"
    }
   ],
   "source": [
    "matching_strings_index"
   ]
  },
  {
   "cell_type": "code",
   "execution_count": 39,
   "id": "81c36bbe-fc0c-4dac-a05a-b792dbf996b6",
   "metadata": {},
   "outputs": [
    {
     "name": "stdout",
     "output_type": "stream",
     "text": [
      "The matching strings are 1 and 4\n"
     ]
    }
   ],
   "source": [
    "print(\"The matching strings are \" + \" and \".join(str(item + 1) for item in matching_strings_index))"
   ]
  },
  {
   "cell_type": "markdown",
   "id": "42f655e3-9896-4396-bfd5-fdff44551007",
   "metadata": {
    "jp-MarkdownHeadingCollapsed": true
   },
   "source": [
    "## page 116 - exercise 14"
   ]
  },
  {
   "cell_type": "markdown",
   "id": "32ae964a-eca4-4928-a95c-579af99f60b4",
   "metadata": {},
   "source": [
    "Dictionaries provide a convenient way to store structured data. Here is an example dictio-\n",
    "nary:\n",
    "\n",
    "d=[{ 'name ': 'Todd ', 'phone ': '555-1414 ', 'email ': 'todd@mail.net '},\n",
    "   { 'name ': 'Helga ', 'phone ': '555-1618 ', 'email ': 'helga@mail.net '},\n",
    "   { 'name ': 'Princess ', 'phone ': '555-3141 ', 'email ': ''},\n",
    "   { 'name ': 'LJ ', 'phone ': '555-2718 ', 'email ': 'lj@mail.net '}]\n",
    "\n",
    "Write a program that reads through any dictionary like this and prints the following:\n",
    "(a) All the users whose phone number ends in an 8\n",
    "(b) All the users that don’t have an email address listed"
   ]
  },
  {
   "cell_type": "code",
   "execution_count": 40,
   "id": "b1075616-be53-46e1-b610-db8d5dfb66a9",
   "metadata": {},
   "outputs": [],
   "source": [
    "def end_in(phone_numbers_list: str, ends_in: int) -> List[str]:\n",
    "    return [phone_number for phone_number in phone_numbers_list if int(phone_number[-1]) == ends_in]"
   ]
  },
  {
   "cell_type": "code",
   "execution_count": 41,
   "id": "6f9bb1d1-5e6b-44a9-99dd-bf5aa66c99ef",
   "metadata": {},
   "outputs": [],
   "source": [
    "def creat_phone_numbers_list(users_data: List):\n",
    "        return [value for user_data in users_data for key, value in user_data.items() if key == \"phone\"]"
   ]
  },
  {
   "cell_type": "code",
   "execution_count": 42,
   "id": "e6990e47-c0fd-4607-9a1f-2b40884a540a",
   "metadata": {},
   "outputs": [],
   "source": [
    "d = [{\"name\": \"Todd\", \"phone\": \"555-1414\", \"email\": \"todd@mail.net\"},\n",
    "     {\"name\": \"Helga\", \"phone\": \"555-1618\", \"email\": \"helga@mail.net\"},\n",
    "     {\"name\": \"Princess\", \"phone\": \"555-3141\", \"email\":\"\"},\n",
    "     {\"name\": \"LJ\", \"phone\": \"555-2718\", \"email\": \"lj@mail.net\"}]"
   ]
  },
  {
   "cell_type": "code",
   "execution_count": 43,
   "id": "ce4e464b-3930-4b81-9e19-553024d8bcf4",
   "metadata": {},
   "outputs": [],
   "source": [
    "phone_numbers_list = creat_phone_numbers_list(d)"
   ]
  },
  {
   "cell_type": "code",
   "execution_count": 44,
   "id": "abc7c267-62d8-4e70-afbb-340824e120ee",
   "metadata": {},
   "outputs": [
    {
     "data": {
      "text/plain": [
       "['555-1414', '555-1618', '555-3141', '555-2718']"
      ]
     },
     "execution_count": 44,
     "metadata": {},
     "output_type": "execute_result"
    }
   ],
   "source": [
    "phone_numbers_list"
   ]
  },
  {
   "cell_type": "code",
   "execution_count": 45,
   "id": "6a1e9e7b-b438-452f-a57e-d2d969648a72",
   "metadata": {},
   "outputs": [
    {
     "data": {
      "text/plain": [
       "['555-1618', '555-2718']"
      ]
     },
     "execution_count": 45,
     "metadata": {},
     "output_type": "execute_result"
    }
   ],
   "source": [
    "end_in(phone_numbers_list,  8)"
   ]
  },
  {
   "cell_type": "markdown",
   "id": "c3bc1038-5d6d-4fb0-a2f0-bc8a3f335331",
   "metadata": {
    "jp-MarkdownHeadingCollapsed": true
   },
   "source": [
    "## page 126 - exercise 11"
   ]
  },
  {
   "cell_type": "markdown",
   "id": "b064e44a-1c0d-480a-abae-3272f3c00ea3",
   "metadata": {},
   "source": [
    "Write a program to help with word games. The user enters a word and the program uses the\n",
    "wordlist to determine if the user’s word is a real word or not."
   ]
  },
  {
   "cell_type": "code",
   "execution_count": 46,
   "id": "d3edd13a-d9de-4213-a4c5-8f098c516e4e",
   "metadata": {},
   "outputs": [
    {
     "name": "stdin",
     "output_type": "stream",
     "text": [
      "Enter a word:  apple\n"
     ]
    },
    {
     "name": "stdout",
     "output_type": "stream",
     "text": [
      "The entered word is not real!\n"
     ]
    }
   ],
   "source": [
    "with open(\"word.txt\") as words_list_file:\n",
    "    words_list = words_list_file.read().split(\", \")\n",
    "\n",
    "    user_word = input(\"Enter a word: \")\n",
    "\n",
    "    if user_word in words_list:\n",
    "        print(\"The entered word is real.\")\n",
    "    else:\n",
    "        print(\"The entered word is not real!\")"
   ]
  },
  {
   "cell_type": "markdown",
   "id": "998f036c-6b94-4cec-9588-9bd338ebaf26",
   "metadata": {
    "jp-MarkdownHeadingCollapsed": true
   },
   "source": [
    "## page 126 - exercise 17"
   ]
  },
  {
   "cell_type": "markdown",
   "id": "2c8b462f-b082-426b-9d95-30a2bb5ea0ec",
   "metadata": {},
   "source": [
    "Using the wordlist, produce a dictionary whose keys are the letters a through z and whose\n",
    "values are the percentage of words that use that letter."
   ]
  },
  {
   "cell_type": "code",
   "execution_count": 47,
   "id": "84efb797-1438-4d3c-b87e-a663cbe7dfe4",
   "metadata": {
    "scrolled": true
   },
   "outputs": [
    {
     "name": "stdout",
     "output_type": "stream",
     "text": [
      "{'a': 44.0, 'b': 4.0, 'c': 38.0, 'd': 16.0, 'e': 62.0, 'f': 12.0, 'g': 16.0, 'h': 22.0, 'i': 62.0, 'j': 2.0, 'k': 10.0, 'l': 20.0, 'm': 12.0, 'n': 40.0, 'o': 40.0, 'p': 20.0, 'q': 2.0, 'r': 32.0, 's': 34.0, 't': 62.0, 'u': 20.0, 'v': 8.0, 'w': 6.0, 'x': 2.0, 'y': 16.0, 'z': 0.0}\n"
     ]
    }
   ],
   "source": [
    "with open(\"word.txt\") as words_list_file:\n",
    "    words_list = words_list_file.read().split(\", \")\n",
    "    length = len(words_list)\n",
    "    lists_of_chars = {k:0 for k in  string.ascii_lowercase}\n",
    "\n",
    "    for char in lists_of_chars:\n",
    "        for word in words_list:\n",
    "            if char in word:\n",
    "                lists_of_chars[char] += 1\n",
    "        lists_of_chars[char] = lists_of_chars[char] / length * 100\n",
    "    \n",
    "    print(lists_of_chars)"
   ]
  },
  {
   "cell_type": "markdown",
   "id": "30528d9d-f931-461e-bcb1-46e64269b19c",
   "metadata": {
    "jp-MarkdownHeadingCollapsed": true
   },
   "source": [
    "## page 126 - exercise 18"
   ]
  },
  {
   "cell_type": "markdown",
   "id": "6a437ace-b23d-45c9-b83f-db7e1f1d1f32",
   "metadata": {},
   "source": [
    "Using the wordlist, produce a dictionary whose keys are the letters a through z and whose\n",
    "values are the percentage of total letters in the wordlist that are that letter."
   ]
  },
  {
   "cell_type": "code",
   "execution_count": 48,
   "id": "5063fef2-e371-42b3-8db8-2decd4eac817",
   "metadata": {},
   "outputs": [
    {
     "name": "stdout",
     "output_type": "stream",
     "text": [
      "{'a': 7.06, 'b': 0.28, 'c': 1.98, 'd': 0.64, 'e': 2.54, 'f': 0.33, 'g': 0.32, 'h': 0.42, 'i': 1.16, 'j': 0.03, 'k': 0.13, 'l': 0.26, 'm': 0.15, 'n': 0.54, 'o': 0.43, 'p': 0.18, 'q': 0.02, 'r': 0.33, 's': 0.31, 't': 0.49, 'u': 0.13, 'v': 0.05, 'w': 0.04, 'x': 0.01, 'y': 0.09, 'z': 0.0}\n"
     ]
    }
   ],
   "source": [
    "with open(\"word.txt\") as words_list_file:\n",
    "    words_list = words_list_file.read().split(\", \")\n",
    "    lists_of_chars = {k:0 for k in  string.ascii_lowercase}\n",
    "\n",
    "    char_length = 0\n",
    "    for char in lists_of_chars:\n",
    "        for word in words_list:\n",
    "            for ch in word:\n",
    "                char_length += 1\n",
    "                if ch == char:\n",
    "                    lists_of_chars[char] += 1\n",
    "        lists_of_chars[char] = round(lists_of_chars[char] / char_length * 100, 2)\n",
    "    \n",
    "    print(lists_of_chars)"
   ]
  }
 ],
 "metadata": {
  "kernelspec": {
   "display_name": "Python 3 (ipykernel)",
   "language": "python",
   "name": "python3"
  },
  "language_info": {
   "codemirror_mode": {
    "name": "ipython",
    "version": 3
   },
   "file_extension": ".py",
   "mimetype": "text/x-python",
   "name": "python",
   "nbconvert_exporter": "python",
   "pygments_lexer": "ipython3",
   "version": "3.11.4"
  }
 },
 "nbformat": 4,
 "nbformat_minor": 5
}
