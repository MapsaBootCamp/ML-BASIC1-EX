{
 "cells": [
  {
   "cell_type": "markdown",
   "id": "42976f64-9534-4f1c-ba5e-c21c3befa7a6",
   "metadata": {},
   "source": [
    "Find the sum of three integers in the given array 'nums' of length 'n' such that the sum is closest to the target. Return the computed sum. Assume that there is exactly one solution for each input."
   ]
  },
  {
   "cell_type": "markdown",
   "id": "efd7fa7c-4865-4480-863b-7203874b40d6",
   "metadata": {},
   "source": [
    "Example 1:\n",
    "\n",
    "Input: nums = [-1,2,1,-4], target = 1\n",
    "Output: 2\n",
    "Explanation: The sum that is closest to the target is 2. (-1 + 2 + 1 = 2).\n",
    "\n",
    "Example 2:\n",
    "\n",
    "Input: nums = [0,0,0], target = 1\n",
    "Output: 0\n",
    "Explanation: The sum that is closest to the target is 0. (0 + 0 + 0 = 0)."
   ]
  },
  {
   "cell_type": "code",
   "execution_count": 109,
   "id": "341892f7-3c07-4afc-b450-6cc06b8f74a8",
   "metadata": {},
   "outputs": [],
   "source": [
    "lst =  [-1,2,1,-4]\n",
    "target = 1"
   ]
  },
  {
   "cell_type": "code",
   "execution_count": 110,
   "id": "a626db95-331a-4d05-9385-88669fa9d6e4",
   "metadata": {},
   "outputs": [],
   "source": [
    "import time"
   ]
  },
  {
   "cell_type": "code",
   "execution_count": 111,
   "id": "f07608ba-6cb7-40ef-86a2-34c650a59e82",
   "metadata": {},
   "outputs": [
    {
     "name": "stdout",
     "output_type": "stream",
     "text": [
      "target is :  1\n",
      "closest combination :  (-1, 2, 1)\n",
      "sum of closest combination :  2\n",
      "The distance of the closest composition to the target :  1\n",
      "run time :  0.0001723766326904297\n"
     ]
    }
   ],
   "source": [
    "from itertools import combinations\n",
    "\n",
    "start = time.time()\n",
    "def find_sum_of_three_with_comb(lst:list,target:int):\n",
    "    if len(lst) < 3:\n",
    "        print('The length of the list should be at least 3')\n",
    "    else:\n",
    "        lst_of_combinations = list(combinations(lst,3))\n",
    "        closest_dist = abs(sum(lst_of_combinations[0])-target)\n",
    "        closest = lst_of_combinations[0]\n",
    "        for each_lst in lst_of_combinations[1:]:\n",
    "            if abs(sum(each_lst) - target) < closest_dist:\n",
    "                closest_dist = abs(sum(each_lst) - target)\n",
    "                closest = each_lst\n",
    "        print('target is : ',target)\n",
    "        print('closest combination : ',closest)\n",
    "        print('sum of closest combination : ',sum(closest))\n",
    "        print('The distance of the closest composition to the target : ',closest_dist)\n",
    "find_sum_of_three_with_comb(lst,target)\n",
    "print('run time : ',time.time()-start)"
   ]
  },
  {
   "cell_type": "code",
   "execution_count": 117,
   "id": "72ca9420-2250-46fc-8938-268f868e1768",
   "metadata": {},
   "outputs": [
    {
     "name": "stdout",
     "output_type": "stream",
     "text": [
      "target is :  1\n",
      "closest combination :  (2, 1, -1)\n",
      "sum of closest combination :  2\n",
      "The distance of the closest composition to the target :  1\n",
      "run time :  0.00022482872009277344\n"
     ]
    }
   ],
   "source": [
    "start = time.time()\n",
    "def find_sum_of_three(lst:list,target:int):\n",
    "    if len(lst) < 3:\n",
    "        print('The length of the list should be at least 3')\n",
    "    else:\n",
    "        lst = sorted(lst)\n",
    "        for each_time in lst:\n",
    "            closest_dist = abs (lst[0] + lst[1] + lst[-1] - target)\n",
    "            closest = (lst[0] , lst[1] , lst[-1])\n",
    "            # print(closest,closest_dist,'*')\n",
    "            lst = lst[::-1]\n",
    "            new_dist = abs (lst[0] + lst[1] + lst[-1] - target)\n",
    "            new_closest = (lst[0] , lst[1] , lst[-1])\n",
    "            # print(new_closest,new_dist,'**')\n",
    "            lst.pop()\n",
    "            if (len(lst) < 3):\n",
    "                print('target is : ',target)\n",
    "                print('closest combination : ',closest)\n",
    "                print('sum of closest combination : ',sum(closest))\n",
    "                print('The distance of the closest composition to the target : ',closest_dist)\n",
    "                break\n",
    "            elif new_dist <= closest_dist:\n",
    "                closest_dist = new_dist\n",
    "                closest = new_closest \n",
    "                # print('*********')\n",
    "            \n",
    "\n",
    "find_sum_of_three(lst,target)\n",
    "print('run time : ',time.time()-start)"
   ]
  }
 ],
 "metadata": {
  "kernelspec": {
   "display_name": "Python 3 (ipykernel)",
   "language": "python",
   "name": "python3"
  },
  "language_info": {
   "codemirror_mode": {
    "name": "ipython",
    "version": 3
   },
   "file_extension": ".py",
   "mimetype": "text/x-python",
   "name": "python",
   "nbconvert_exporter": "python",
   "pygments_lexer": "ipython3",
   "version": "3.12.1"
  }
 },
 "nbformat": 4,
 "nbformat_minor": 5
}
