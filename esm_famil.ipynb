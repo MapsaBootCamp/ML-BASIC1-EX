{
 "cells": [
  {
   "cell_type": "markdown",
   "id": "d0fa353d-f511-4be6-8f5c-4c423125d19e",
   "metadata": {},
   "source": [
    "# Import"
   ]
  },
  {
   "cell_type": "code",
   "execution_count": 65,
   "id": "46c85687-a6d6-4714-a4fd-dd7e2f1628e1",
   "metadata": {},
   "outputs": [],
   "source": [
    "import pandas as pd"
   ]
  },
  {
   "cell_type": "markdown",
   "id": "b5ba880e-96bf-413c-9f52-ac55630c4a89",
   "metadata": {},
   "source": [
    "# Read Data"
   ]
  },
  {
   "cell_type": "code",
   "execution_count": 66,
   "id": "af9f5ad8-8ca4-4a8d-8814-aa9a5efbd9ee",
   "metadata": {},
   "outputs": [],
   "source": [
    "df_game = ready_up(path='../../datasets/esm_famil_data.csv')"
   ]
  },
  {
   "cell_type": "markdown",
   "id": "9ea89636-a9df-4945-9f03-368f7fdd4834",
   "metadata": {},
   "source": [
    "# Esm Famil"
   ]
  },
  {
   "cell_type": "markdown",
   "id": "ebefdd0a-ccce-40ff-b029-026578c6291d",
   "metadata": {},
   "source": [
    "بازی اسم‌فامیل\n",
    "\n",
    "سلیب که از تنهایی و خانه‌نشینی حوصله‌اش سر رفته تصمیم گرفته که دوستانش را دعوت کند تا با آن‌ها اسم‌فامیل بازی کند.\n",
    "\n",
    "بعد از رسیدن دوستان سلیب آن‌ها بازی را شروع کردند، اما بعد از تمام شدن دست اول در امتیاز‌دهی دچار مشکل شده‌اند. هیچ‌کس کلمات دیگری را قبول نداشت به همین خاطر نمره‌ی هر کلمه نامشخص بود.\n",
    "\n",
    "سلیب و دوستانش برنامه‌نویس هستند و فقط به برنامه‌ها اعتماد دارند. به همین خاطر از شما می‌خواهند برایشان برنامه‌ای بنویسید تا با دریافت فایل تمامی کلمات قابل قبول طبق قوانین ذکر شده، بتواند به او و دوستانش نمره‌ای صحیح بدهد.\n",
    "\n",
    "https://quera.org/problemset/87182/"
   ]
  },
  {
   "cell_type": "markdown",
   "id": "08789f85-755e-474f-8050-6d869e11df52",
   "metadata": {},
   "source": [
    " اگر خودشون برنامه نویس هستن بنویسن دیگه از ما چرا میخوان !!!"
   ]
  },
  {
   "cell_type": "markdown",
   "id": "52b06ab3-e989-482e-8aaa-a25ab226ef2c",
   "metadata": {},
   "source": [
    "## Functional Programming"
   ]
  },
  {
   "cell_type": "code",
   "execution_count": 101,
   "id": "242b4aaa-acef-4d31-af86-761b62b47afc",
   "metadata": {},
   "outputs": [],
   "source": [
    "def ready_up(path:str='./esm_famil_data.csv'):\n",
    "    return pd.read_csv(path)"
   ]
  },
  {
   "cell_type": "code",
   "execution_count": 102,
   "id": "0aadd0bc-0127-406b-b242-294fde3f9103",
   "metadata": {},
   "outputs": [],
   "source": [
    "def add_participant(participant, answers):\n",
    "    players[participant] = answers\n",
    "    players_score[participant] = 0\n",
    "    return players"
   ]
  },
  {
   "cell_type": "code",
   "execution_count": 103,
   "id": "ebb4d10d-ac49-41fe-ba4b-ed66480b7a59",
   "metadata": {},
   "outputs": [],
   "source": [
    "def calculate_all(col:pd.Series)->pd.Series:  \n",
    "    game_col = df_game[col.name]\n",
    "        \n",
    "    for i,v in enumerate(col):\n",
    "        count_same = list(col).count(v)\n",
    "\n",
    "        # print(i,v,count_same)\n",
    "        if game_col.isin([v]).any():\n",
    "            if col.all():\n",
    "                if count_same == 0:\n",
    "                    players_score[players_name[i]] += 0\n",
    "                elif count_same == 1:\n",
    "                    players_score[players_name[i]] += 10\n",
    "                else:\n",
    "                    players_score[players_name[i]] += 5\n",
    "            else:\n",
    "                if count_same == 0:\n",
    "                    players_score[players_name[i]] += 0\n",
    "                elif count_same == 1:\n",
    "                    players_score[players_name[i]] += 15\n",
    "                else:\n",
    "                    players_score[players_name[i]] += 10\n",
    "    return col"
   ]
  },
  {
   "cell_type": "code",
   "execution_count": 104,
   "id": "9fccc434-c090-4cc1-bca0-c65ad40f736a",
   "metadata": {},
   "outputs": [],
   "source": [
    "players = {}\n",
    "players_score = {}"
   ]
  },
  {
   "cell_type": "code",
   "execution_count": 105,
   "id": "2ff632af-43a5-4f1e-83e2-7f2a2fedd0c8",
   "metadata": {},
   "outputs": [],
   "source": [
    "add_participant(\n",
    "    participant = 'salib',\n",
    "    answers = {\n",
    "        'esm': 'بردیا', 'famil': 'بابایی', 'keshvar': 'باربادوس',\n",
    "        'rang': 'بنفش', 'ashia': '651651', 'ghaza': 'باقالیپلو'\n",
    "        })\n",
    "add_participant(\n",
    "    participant = 'meli',\n",
    "    answers = {\n",
    "        'esm': '', 'famil': 'بانی', 'keshvar': 'باربادوس',\n",
    "        'rang': 'بنفش', 'ashia': 'بمب', 'ghaza': 'باقالیپلو'\n",
    "        })\n",
    "\n",
    "add_participant(\n",
    "    participant = 'ali',\n",
    "    answers = {\n",
    "        'esm': 'بردیا', 'famil': 'بابایی', 'keshvar': 'باهاما',\n",
    "        'rang': 'بنفش', 'ashia': 'بمب', 'ghaza': 'باقی'\n",
    "        })\n",
    "\n",
    "add_participant(\n",
    "    participant = 'nanaeghamar',\n",
    "    answers = {\n",
    "        'esm': 'بردار', 'famil': 'بابازاده', 'keshvar': 'بارسا',\n",
    "        'rang': 'بزی', 'ashia': 'بیب بیب', 'ghaza': 'باشماق'\n",
    "        });"
   ]
  },
  {
   "cell_type": "code",
   "execution_count": 106,
   "id": "5b9376fe-0fe6-48ac-8e1b-8a35c9ce12cd",
   "metadata": {},
   "outputs": [],
   "source": [
    "data = pd.DataFrame(players)"
   ]
  },
  {
   "cell_type": "code",
   "execution_count": 107,
   "id": "48fd4436-d366-4589-87f2-8f338380840c",
   "metadata": {},
   "outputs": [
    {
     "data": {
      "text/html": [
       "<div>\n",
       "<style scoped>\n",
       "    .dataframe tbody tr th:only-of-type {\n",
       "        vertical-align: middle;\n",
       "    }\n",
       "\n",
       "    .dataframe tbody tr th {\n",
       "        vertical-align: top;\n",
       "    }\n",
       "\n",
       "    .dataframe thead th {\n",
       "        text-align: right;\n",
       "    }\n",
       "</style>\n",
       "<table border=\"1\" class=\"dataframe\">\n",
       "  <thead>\n",
       "    <tr style=\"text-align: right;\">\n",
       "      <th></th>\n",
       "      <th>salib</th>\n",
       "      <th>meli</th>\n",
       "      <th>ali</th>\n",
       "      <th>nanaeghamar</th>\n",
       "    </tr>\n",
       "  </thead>\n",
       "  <tbody>\n",
       "    <tr>\n",
       "      <th>esm</th>\n",
       "      <td>بردیا</td>\n",
       "      <td></td>\n",
       "      <td>بردیا</td>\n",
       "      <td>بردار</td>\n",
       "    </tr>\n",
       "    <tr>\n",
       "      <th>famil</th>\n",
       "      <td>بابایی</td>\n",
       "      <td>بانی</td>\n",
       "      <td>بابایی</td>\n",
       "      <td>بابازاده</td>\n",
       "    </tr>\n",
       "    <tr>\n",
       "      <th>keshvar</th>\n",
       "      <td>باربادوس</td>\n",
       "      <td>باربادوس</td>\n",
       "      <td>باهاما</td>\n",
       "      <td>بارسا</td>\n",
       "    </tr>\n",
       "    <tr>\n",
       "      <th>rang</th>\n",
       "      <td>بنفش</td>\n",
       "      <td>بنفش</td>\n",
       "      <td>بنفش</td>\n",
       "      <td>بزی</td>\n",
       "    </tr>\n",
       "    <tr>\n",
       "      <th>ashia</th>\n",
       "      <td>651651</td>\n",
       "      <td>بمب</td>\n",
       "      <td>بمب</td>\n",
       "      <td>بیب بیب</td>\n",
       "    </tr>\n",
       "    <tr>\n",
       "      <th>ghaza</th>\n",
       "      <td>باقالیپلو</td>\n",
       "      <td>باقالیپلو</td>\n",
       "      <td>باقی</td>\n",
       "      <td>باشماق</td>\n",
       "    </tr>\n",
       "  </tbody>\n",
       "</table>\n",
       "</div>"
      ],
      "text/plain": [
       "             salib       meli     ali nanaeghamar\n",
       "esm          بردیا              بردیا       بردار\n",
       "famil       بابایی       بانی  بابایی    بابازاده\n",
       "keshvar   باربادوس   باربادوس  باهاما       بارسا\n",
       "rang          بنفش       بنفش    بنفش         بزی\n",
       "ashia       651651        بمب     بمب     بیب بیب\n",
       "ghaza    باقالیپلو  باقالیپلو    باقی      باشماق"
      ]
     },
     "execution_count": 107,
     "metadata": {},
     "output_type": "execute_result"
    }
   ],
   "source": [
    "players_name = list(players.keys())\n",
    "data.apply(calculate_all, axis=1)"
   ]
  },
  {
   "cell_type": "code",
   "execution_count": 108,
   "id": "6b421b60-8517-4190-a243-90c86024386f",
   "metadata": {},
   "outputs": [
    {
     "data": {
      "text/plain": [
       "{'salib': 25, 'meli': 25, 'ali': 35, 'nanaeghamar': 0}"
      ]
     },
     "execution_count": 108,
     "metadata": {},
     "output_type": "execute_result"
    }
   ],
   "source": [
    "players_score"
   ]
  },
  {
   "cell_type": "code",
   "execution_count": null,
   "id": "f49c4908-000e-42de-8a0b-a75780195ff2",
   "metadata": {},
   "outputs": [],
   "source": []
  },
  {
   "cell_type": "code",
   "execution_count": null,
   "id": "49b9efdd-b89c-44b9-9f95-5bed5dc0d893",
   "metadata": {},
   "outputs": [],
   "source": []
  },
  {
   "cell_type": "markdown",
   "id": "1ab3f151-92ff-4923-b0b0-65939d537763",
   "metadata": {},
   "source": [
    "## OOP Solution"
   ]
  },
  {
   "cell_type": "code",
   "execution_count": 153,
   "id": "fabe3bd3-f936-4450-81c8-a6579cc43ee7",
   "metadata": {},
   "outputs": [],
   "source": [
    "class Game:\n",
    "    def __init__(self, path:str = './esm_famil_data.csv'):\n",
    "        self.df_game = self.ready_up(path)\n",
    "        self.players = {}\n",
    "        self.players_score = {}\n",
    "        self.finished: bool = False\n",
    "        \n",
    "    def ready_up(self, path:str='./esm_famil_data.csv'):\n",
    "        return pd.read_csv(path)\n",
    "    \n",
    "    def add_participant(self, participant, answers):\n",
    "        self.players[participant] = answers\n",
    "        self.players_score[participant] = 0\n",
    "        return players\n",
    "\n",
    "    def calculate_all(self,col:pd.Series)->pd.Series:  \n",
    "        if not self.finished:\n",
    "            game_col = self.df_game[col.name]\n",
    "            players_name = list(players.keys())\n",
    "    \n",
    "            for i,v in enumerate(col):\n",
    "                count_same = list(col).count(v)\n",
    "        \n",
    "                # print(i,v,count_same)\n",
    "                if game_col.isin([v]).any():\n",
    "                    if col.all():\n",
    "                        if count_same == 0:\n",
    "                            self.players_score[players_name[i]] += 0\n",
    "                        elif count_same == 1:\n",
    "                            self.players_score[players_name[i]] += 10\n",
    "                        else:\n",
    "                            self.players_score[players_name[i]] += 5\n",
    "                    else:\n",
    "                        if count_same == 0:\n",
    "                            self.players_score[players_name[i]] += 0\n",
    "                        elif count_same == 1:\n",
    "                            self.players_score[players_name[i]] += 15\n",
    "                        else:\n",
    "                            self.players_score[players_name[i]] += 10\n",
    "        return col\n",
    "    def calc(self):\n",
    "        data = pd.DataFrame(players)\n",
    "        data.apply(self.calculate_all, axis=1) \n",
    "        self.finished = True\n",
    "        return self.players_score"
   ]
  },
  {
   "cell_type": "code",
   "execution_count": 154,
   "id": "a6305d05-b942-405b-a1d8-5bd58582efae",
   "metadata": {},
   "outputs": [],
   "source": [
    "game = Game('../../datasets/esm_famil_data.csv')"
   ]
  },
  {
   "cell_type": "code",
   "execution_count": 155,
   "id": "37bbdeae-966b-4c4d-b84f-5f49935bf003",
   "metadata": {},
   "outputs": [],
   "source": [
    "game.add_participant(\n",
    "    participant = 'salib',\n",
    "    answers = {\n",
    "        'esm': 'بردیا', 'famil': 'بابایی', 'keshvar': 'باربادوس',\n",
    "        'rang': 'بنفش', 'ashia': '651651', 'ghaza': 'باقالیپلو'\n",
    "        })\n",
    "game.add_participant(\n",
    "    participant = 'meli',\n",
    "    answers = {\n",
    "        'esm': '', 'famil': 'بانی', 'keshvar': 'باربادوس',\n",
    "        'rang': 'بنفش', 'ashia': 'بمب', 'ghaza': 'باقالیپلو'\n",
    "        })\n",
    "\n",
    "game.add_participant(\n",
    "    participant = 'ali',\n",
    "    answers = {\n",
    "        'esm': 'بردیا', 'famil': 'بابایی', 'keshvar': 'باهاما',\n",
    "        'rang': 'بنفش', 'ashia': 'بمب', 'ghaza': 'باقی'\n",
    "        })\n",
    "\n",
    "game.add_participant(\n",
    "    participant = 'nanaeghamar',\n",
    "    answers = {\n",
    "        'esm': 'بردار', 'famil': 'بابازاده', 'keshvar': 'بارسا',\n",
    "        'rang': 'بزی', 'ashia': 'بیب بیب', 'ghaza': 'باشماق'\n",
    "        });"
   ]
  },
  {
   "cell_type": "code",
   "execution_count": 156,
   "id": "0a5dc4be-4c63-481f-a551-3c4a0e08c2e2",
   "metadata": {},
   "outputs": [
    {
     "data": {
      "text/plain": [
       "{'salib': 25, 'meli': 25, 'ali': 35, 'nanaeghamar': 0}"
      ]
     },
     "execution_count": 156,
     "metadata": {},
     "output_type": "execute_result"
    }
   ],
   "source": [
    "game.calc()"
   ]
  },
  {
   "cell_type": "code",
   "execution_count": 157,
   "id": "05d7632f-e47c-4161-8dab-f5cce437b2de",
   "metadata": {},
   "outputs": [
    {
     "data": {
      "text/plain": [
       "{'salib': 25, 'meli': 25, 'ali': 35, 'nanaeghamar': 0}"
      ]
     },
     "execution_count": 157,
     "metadata": {},
     "output_type": "execute_result"
    }
   ],
   "source": [
    "game.calc()"
   ]
  },
  {
   "cell_type": "code",
   "execution_count": 158,
   "id": "6e4a00f1-3981-4249-9aec-1f8e3c9e598a",
   "metadata": {},
   "outputs": [
    {
     "data": {
      "text/plain": [
       "{'salib': 25, 'meli': 25, 'ali': 35, 'nanaeghamar': 0}"
      ]
     },
     "execution_count": 158,
     "metadata": {},
     "output_type": "execute_result"
    }
   ],
   "source": [
    "players_score"
   ]
  },
  {
   "cell_type": "code",
   "execution_count": 159,
   "id": "7e12826f-a958-47db-a339-b0b743fba4f7",
   "metadata": {},
   "outputs": [
    {
     "data": {
      "text/plain": [
       "True"
      ]
     },
     "execution_count": 159,
     "metadata": {},
     "output_type": "execute_result"
    }
   ],
   "source": [
    "game.calc() == players_score"
   ]
  },
  {
   "cell_type": "code",
   "execution_count": null,
   "id": "48d716c4-4eb3-486b-9894-9f10e4c2b237",
   "metadata": {},
   "outputs": [],
   "source": []
  },
  {
   "cell_type": "code",
   "execution_count": null,
   "id": "8cebc57e-6c0b-42ed-b921-2435cf390256",
   "metadata": {},
   "outputs": [],
   "source": []
  }
 ],
 "metadata": {
  "kernelspec": {
   "display_name": "Python 3 (ipykernel)",
   "language": "python",
   "name": "python3"
  },
  "language_info": {
   "codemirror_mode": {
    "name": "ipython",
    "version": 3
   },
   "file_extension": ".py",
   "mimetype": "text/x-python",
   "name": "python",
   "nbconvert_exporter": "python",
   "pygments_lexer": "ipython3",
   "version": "3.11.4"
  }
 },
 "nbformat": 4,
 "nbformat_minor": 5
}
