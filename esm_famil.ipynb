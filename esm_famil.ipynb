{
 "cells": [
  {
   "cell_type": "markdown",
   "metadata": {},
   "source": [
    "# Esm famil"
   ]
  },
  {
   "cell_type": "code",
   "execution_count": 2,
   "metadata": {},
   "outputs": [],
   "source": [
    "import pandas as pd\n",
    "import re"
   ]
  },
  {
   "cell_type": "markdown",
   "metadata": {},
   "source": [
    "## ready_up"
   ]
  },
  {
   "cell_type": "code",
   "execution_count": 3,
   "metadata": {},
   "outputs": [
    {
     "data": {
      "text/html": [
       "<div>\n",
       "<style scoped>\n",
       "    .dataframe tbody tr th:only-of-type {\n",
       "        vertical-align: middle;\n",
       "    }\n",
       "\n",
       "    .dataframe tbody tr th {\n",
       "        vertical-align: top;\n",
       "    }\n",
       "\n",
       "    .dataframe thead th {\n",
       "        text-align: right;\n",
       "    }\n",
       "</style>\n",
       "<table border=\"1\" class=\"dataframe\">\n",
       "  <thead>\n",
       "    <tr style=\"text-align: right;\">\n",
       "      <th></th>\n",
       "      <th>esm</th>\n",
       "      <th>famil</th>\n",
       "      <th>keshvar</th>\n",
       "      <th>rang</th>\n",
       "      <th>ashia</th>\n",
       "      <th>ghaza</th>\n",
       "    </tr>\n",
       "  </thead>\n",
       "  <tbody>\n",
       "    <tr>\n",
       "      <th>0</th>\n",
       "      <td>اوا</td>\n",
       "      <td>اسدی</td>\n",
       "      <td>المان</td>\n",
       "      <td>ابی</td>\n",
       "      <td>استکان</td>\n",
       "      <td>ابگوشت</td>\n",
       "    </tr>\n",
       "    <tr>\n",
       "      <th>1</th>\n",
       "      <td>ارزو</td>\n",
       "      <td>ارمانی</td>\n",
       "      <td>البانی</td>\n",
       "      <td>اجری</td>\n",
       "      <td>ایینه</td>\n",
       "      <td>اش</td>\n",
       "    </tr>\n",
       "    <tr>\n",
       "      <th>2</th>\n",
       "      <td>اتنا</td>\n",
       "      <td>اکبری</td>\n",
       "      <td>انگولا</td>\n",
       "      <td>ارغوانی</td>\n",
       "      <td>اره</td>\n",
       "      <td>برنجخورشت</td>\n",
       "    </tr>\n",
       "    <tr>\n",
       "      <th>3</th>\n",
       "      <td>ارش</td>\n",
       "      <td>اعظمی</td>\n",
       "      <td>اتریش</td>\n",
       "      <td>ارکیده</td>\n",
       "      <td>ارهبرقی</td>\n",
       "      <td>باقالیپلو</td>\n",
       "    </tr>\n",
       "    <tr>\n",
       "      <th>4</th>\n",
       "      <td>امنه</td>\n",
       "      <td>امینی</td>\n",
       "      <td>امریکا</td>\n",
       "      <td>البالویی</td>\n",
       "      <td>ابپاش</td>\n",
       "      <td>بهپلو</td>\n",
       "    </tr>\n",
       "    <tr>\n",
       "      <th>...</th>\n",
       "      <td>...</td>\n",
       "      <td>...</td>\n",
       "      <td>...</td>\n",
       "      <td>...</td>\n",
       "      <td>...</td>\n",
       "      <td>...</td>\n",
       "    </tr>\n",
       "    <tr>\n",
       "      <th>162</th>\n",
       "      <td>هلیا</td>\n",
       "      <td>nan</td>\n",
       "      <td>nan</td>\n",
       "      <td>nan</td>\n",
       "      <td>nan</td>\n",
       "      <td>nan</td>\n",
       "    </tr>\n",
       "    <tr>\n",
       "      <th>163</th>\n",
       "      <td>یاسر</td>\n",
       "      <td>nan</td>\n",
       "      <td>nan</td>\n",
       "      <td>nan</td>\n",
       "      <td>nan</td>\n",
       "      <td>nan</td>\n",
       "    </tr>\n",
       "    <tr>\n",
       "      <th>164</th>\n",
       "      <td>یلدا</td>\n",
       "      <td>nan</td>\n",
       "      <td>nan</td>\n",
       "      <td>nan</td>\n",
       "      <td>nan</td>\n",
       "      <td>nan</td>\n",
       "    </tr>\n",
       "    <tr>\n",
       "      <th>165</th>\n",
       "      <td>یاسمن</td>\n",
       "      <td>nan</td>\n",
       "      <td>nan</td>\n",
       "      <td>nan</td>\n",
       "      <td>nan</td>\n",
       "      <td>nan</td>\n",
       "    </tr>\n",
       "    <tr>\n",
       "      <th>166</th>\n",
       "      <td>یاس</td>\n",
       "      <td>nan</td>\n",
       "      <td>nan</td>\n",
       "      <td>nan</td>\n",
       "      <td>nan</td>\n",
       "      <td>nan</td>\n",
       "    </tr>\n",
       "  </tbody>\n",
       "</table>\n",
       "<p>167 rows × 6 columns</p>\n",
       "</div>"
      ],
      "text/plain": [
       "       esm   famil keshvar      rang    ashia      ghaza\n",
       "0      اوا    اسدی   المان       ابی   استکان     ابگوشت\n",
       "1     ارزو  ارمانی  البانی      اجری    ایینه         اش\n",
       "2     اتنا   اکبری  انگولا   ارغوانی      اره  برنجخورشت\n",
       "3      ارش   اعظمی   اتریش    ارکیده  ارهبرقی  باقالیپلو\n",
       "4     امنه   امینی  امریکا  البالویی    ابپاش      بهپلو\n",
       "..     ...     ...     ...       ...      ...        ...\n",
       "162   هلیا     nan     nan       nan      nan        nan\n",
       "163   یاسر     nan     nan       nan      nan        nan\n",
       "164   یلدا     nan     nan       nan      nan        nan\n",
       "165  یاسمن     nan     nan       nan      nan        nan\n",
       "166    یاس     nan     nan       nan      nan        nan\n",
       "\n",
       "[167 rows x 6 columns]"
      ]
     },
     "execution_count": 3,
     "metadata": {},
     "output_type": "execute_result"
    }
   ],
   "source": [
    "def remove_spaces_from_string(s):\n",
    "    return str(s).replace(' ', '')\n",
    "\n",
    "def ready_up() -> pd.DataFrame:\n",
    "    csv_file_path = \"/home/gemmara/Downloads/esm_famil_data.csv\"\n",
    "    df = pd.read_csv(csv_file_path).applymap(remove_spaces_from_string)\n",
    "    return df\n",
    "ready_up()"
   ]
  },
  {
   "cell_type": "markdown",
   "metadata": {},
   "source": [
    "## add_participant\n",
    "    add_participant(participant = 'salib', answers = {'esm': 'بردیا', 'famil': 'بابایی', 'keshvar': 'باربادوس', 'rang': 'بنفش', 'ashia': 'بمب', 'ghaza': 'باقالیپلو'})\n"
   ]
  },
  {
   "cell_type": "code",
   "execution_count": 4,
   "metadata": {},
   "outputs": [
    {
     "data": {
      "text/plain": [
       "{'salib': {'esm': 'بردیا',\n",
       "  'famil': 'بابایی',\n",
       "  'keshvar': 'باربادوس',\n",
       "  'rang': 'بنفش',\n",
       "  'ashia': 'بمب',\n",
       "  'ghaza': 'باقالیپلو'},\n",
       " 'kianoush': {'esm': 'بهرام',\n",
       "  'famil': 'بهرامی',\n",
       "  'keshvar': 'برزیل',\n",
       "  'rang': 'بلوطی',\n",
       "  'ashia': 'بیل',\n",
       "  'ghaza': 'بهپلو'},\n",
       " 'sajjad': {'esm': 'بابک',\n",
       "  'famil': 'بهشتی',\n",
       "  'keshvar': 'باهاما',\n",
       "  'rang': 'بژ',\n",
       "  'ashia': None,\n",
       "  'ghaza': 'برنجخورشت'},\n",
       " 'farhad': {'esm': 'بهرام',\n",
       "  'famil': 'براتی',\n",
       "  'keshvar': 'بببببب',\n",
       "  'rang': 'بژ',\n",
       "  'ashia': 'بیل',\n",
       "  'ghaza': 'باقلوا'}}"
      ]
     },
     "execution_count": 4,
     "metadata": {},
     "output_type": "execute_result"
    }
   ],
   "source": [
    "def letter_validator(letter: str) -> str:\n",
    "    letter_list = ['ا', 'ب', 'پ', 'ت', 'ث', 'ج', 'چ', 'ح', 'خ', 'د', 'ذ', 'ر', 'ز', 'س', 'ش', 'ص', 'ض', 'ط', 'ظ', 'ع', 'غ', 'ف', 'ق', 'ک', 'گ', 'ل', 'م', 'ن', 'ه', 'و', 'ی']\n",
    "    letter_exp = Exception(\"Letter not found in the list\")\n",
    "    return letter if letter in letter_list else letter_exp\n",
    "\n",
    "\n",
    "def game(letter: str):\n",
    "    letter = letter_validator(letter)\n",
    "    game_data = dict()  \n",
    "    def add_participant(participant, answers):\n",
    "        for key, val in answers.items():\n",
    "            answers[key] = re.sub(r'\\s+', '', val) \n",
    "            if answers[key] == '':\n",
    "                answers[key] = None\n",
    "            elif answers[key][0] != letter.strip():\n",
    "                answers[key] = None\n",
    "        game_data[participant] = answers                \n",
    "    return add_participant, game_data\n",
    "\n",
    "\n",
    "add_participant, game_data = game('ب')\n",
    "add_participant(participant = 'salib', answers = {'esm': 'بردیا', 'famil': 'بابایی', 'keshvar': 'باربادوس', 'rang': 'بنفش', 'ashia': 'بمب', 'ghaza': 'باقالیپلو'})\n",
    "add_participant(participant = 'kianoush', answers = {'esm': 'بهرام', 'famil': 'بهرامی', 'keshvar': 'برزیل', 'rang': 'بلوطی', 'ashia': 'بیل', 'ghaza': 'به   پلو'})\n",
    "add_participant(participant = 'sajjad', answers = {'esm': 'بابک', 'famil': 'بهشتی', 'keshvar': 'باهاما', 'rang': 'بژ', 'ashia': '        ', 'ghaza': 'برنج خورشت'})\n",
    "add_participant(participant = 'farhad', answers = {'esm': 'بهرام', 'famil': 'براتی', 'keshvar': 'بببببب', 'rang': 'بژ', 'ashia': 'بیل', 'ghaza': 'باقلوا'})\n",
    "    \n",
    "game_data"
   ]
  },
  {
   "cell_type": "markdown",
   "metadata": {},
   "source": [
    "## calculate_all"
   ]
  },
  {
   "cell_type": "code",
   "execution_count": 6,
   "metadata": {},
   "outputs": [
    {
     "data": {
      "text/plain": [
       "{'score': {'salib': 65, 'kianoush': 55, 'sajjad': 45, 'farhad': 40}}"
      ]
     },
     "execution_count": 6,
     "metadata": {},
     "output_type": "execute_result"
    }
   ],
   "source": [
    "def calculate_score(row, game_df): \n",
    "    max_score = 15 if row.isnull().any() else 10\n",
    "    common_indices = list(row[(row.duplicated(keep=False)) & row.isin(csv_data[row.name])].index)\n",
    "    valid_indices = list(row[row.isin(csv_data[row.name]) & ~(row.duplicated(keep=False))].index)\n",
    "\n",
    "    for name in valid_indices:\n",
    "        game_df.at[name, 'score'] += max_score\n",
    "\n",
    "    for name in common_indices:\n",
    "        game_df.at[name, 'score'] += max_score - 5\n",
    "    \n",
    "\n",
    "def calculate_all() -> dict:\n",
    "    game_df = pd.DataFrame(game_data).T\n",
    "    game_df['score'] = 0\n",
    "    game_df.iloc[:, :-1].apply(calculate_score, args=(game_df,), ) # appch in each column\n",
    "    return game_df.loc[:, ['score']].to_dict()\n",
    "\n",
    "csv_data = ready_up()\n",
    "calculate_all()\n"
   ]
  },
  {
   "cell_type": "code",
   "execution_count": null,
   "metadata": {},
   "outputs": [],
   "source": []
  }
 ],
 "metadata": {
  "kernelspec": {
   "display_name": "Python 3",
   "language": "python",
   "name": "python3"
  },
  "language_info": {
   "codemirror_mode": {
    "name": "ipython",
    "version": 3
   },
   "file_extension": ".py",
   "mimetype": "text/x-python",
   "name": "python",
   "nbconvert_exporter": "python",
   "pygments_lexer": "ipython3",
   "version": "3.10.12"
  },
  "orig_nbformat": 4
 },
 "nbformat": 4,
 "nbformat_minor": 2
}
