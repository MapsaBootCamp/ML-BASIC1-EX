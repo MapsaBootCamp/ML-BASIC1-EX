{
 "cells": [
  {
   "cell_type": "code",
   "execution_count": 1,
   "id": "7adadaf8-2bba-4c3e-b302-d4e704974582",
   "metadata": {},
   "outputs": [],
   "source": [
    "import pandas as pd\n",
    "from typing import Dict"
   ]
  },
  {
   "cell_type": "code",
   "execution_count": 2,
   "id": "1f32fb21-c0e0-46a6-b6e2-63f6b0dc6df0",
   "metadata": {},
   "outputs": [],
   "source": [
    "class Game:\n",
    "    def __init__(self):\n",
    "        self.data = self.ready_up()\n",
    "        self.users_answers = pd.DataFrame()\n",
    "        self.participants = []\n",
    "        self.scores = []\n",
    "\n",
    "    def ready_up(self) -> pd.DataFrame:\n",
    "        data = pd.read_csv(\"../Data/esm_famil_data.csv\")\n",
    "        data = data.apply(lambda column: column.str.replace(\" \", \"\"))\n",
    "        return data\n",
    "\n",
    "    def add_participant(self, participant: str, answers: Dict[str, str]) -> None:\n",
    "        self.participants.append(participant)\n",
    "        self.scores.append(0)\n",
    "        self.users_answers[participant] = answers\n",
    "\n",
    "    def row_mapping_function(self, row: pd.Series) -> pd.Series:\n",
    "        self.row = row.str.replace(\" \", \"\")\n",
    "        return self.row.map(self.word_mapping_function)\n",
    "\n",
    "    def word_mapping_function(self, word: str) -> str:\n",
    "        self.column_index += 1\n",
    "        self.column_index %= 4\n",
    "\n",
    "        if word == \"\" or word not in self.data.values:\n",
    "            return word\n",
    "\n",
    "        if \"\" in self.row.values and self.row.value_counts()[word] > 1:\n",
    "            self.scores[self.column_index] += 10\n",
    "            return word\n",
    "\n",
    "        if \"\" in self.row.values:\n",
    "            self.scores[self.column_index] += 15\n",
    "            return word\n",
    "\n",
    "        if self.row.value_counts()[word] > 1:\n",
    "            self.scores[self.column_index] += 5\n",
    "            return word\n",
    "\n",
    "        self.scores[self.column_index] += 10\n",
    "        return word\n",
    "\n",
    "    def calculate_all(self) -> Dict[str, int]:\n",
    "        self.column_index = -1\n",
    "        self.users_answers = self.users_answers.apply(self.row_mapping_function, axis=\"columns\")\n",
    "        self.scores = dict(zip(self.participants, self.scores))\n",
    "        return self.scores\n"
   ]
  },
  {
   "cell_type": "code",
   "execution_count": 3,
   "id": "82d3626f-34b1-4881-879c-17569f1b8314",
   "metadata": {},
   "outputs": [],
   "source": [
    "game = Game()"
   ]
  },
  {
   "cell_type": "code",
   "execution_count": 4,
   "id": "8e870606-d546-4f3e-84f4-8f2d170dc2e9",
   "metadata": {},
   "outputs": [],
   "source": [
    "game.add_participant(participant = 'salib', answers = {'esm': 'بردیا', 'famil': 'بابایی', 'keshvar': 'باربادوس', 'rang': 'بنفش', 'ashia': 'بمب', 'ghaza': 'باقالیپلو'})\n",
    "game.add_participant(participant = 'kianoush', answers = {'esm': 'بهرام', 'famil': 'بهرامی', 'keshvar': 'برزیل', 'rang': 'بلوطی', 'ashia': 'بیل', 'ghaza': 'به   پلو'})\n",
    "game.add_participant(participant = 'sajjad', answers = {'esm': 'بابک', 'famil': 'بهشتی', 'keshvar': 'باهاما', 'rang': 'بژ', 'ashia': '        ', 'ghaza': 'برنج خورشت'})\n",
    "game.add_participant(participant = 'farhad', answers = {'esm': 'بهرام', 'famil': 'براتی', 'keshvar': 'بببببب', 'rang': 'بژ', 'ashia': 'بیل', 'ghaza': 'باقلوا'})"
   ]
  },
  {
   "cell_type": "code",
   "execution_count": 5,
   "id": "abfe69ed-56a9-4b59-862c-79601db5403b",
   "metadata": {},
   "outputs": [
    {
     "data": {
      "text/plain": [
       "{'salib': 65, 'kianoush': 55, 'sajjad': 45, 'farhad': 40}"
      ]
     },
     "execution_count": 5,
     "metadata": {},
     "output_type": "execute_result"
    }
   ],
   "source": [
    "game.calculate_all()"
   ]
  }
 ],
 "metadata": {
  "kernelspec": {
   "display_name": "Python 3 (ipykernel)",
   "language": "python",
   "name": "python3"
  },
  "language_info": {
   "codemirror_mode": {
    "name": "ipython",
    "version": 3
   },
   "file_extension": ".py",
   "mimetype": "text/x-python",
   "name": "python",
   "nbconvert_exporter": "python",
   "pygments_lexer": "ipython3",
   "version": "3.11.4"
  }
 },
 "nbformat": 4,
 "nbformat_minor": 5
}
