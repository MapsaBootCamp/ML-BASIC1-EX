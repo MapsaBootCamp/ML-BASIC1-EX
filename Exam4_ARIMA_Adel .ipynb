{
 "cells": [
  {
   "cell_type": "markdown",
   "metadata": {
    "id": "B-JkskUgRyOb"
   },
   "source": [
    "Quiz Title: Bitcoin Price Forecasting with ARIMA\n",
    "\n",
    "Quiz Description:\n",
    "\n",
    "First collect bitcoin price from 2022-01-01T00:00:00Z till 2022-12-01T23:59:59Z within 1 hour interval you can use wallex or nobitex or coinbase.com or ...\n",
    "\n",
    "Then Your task is to use the ARIMA (AutoRegressive Integrated Moving Average) model to forecast the price of Bitcoin for a future period accoarding to data that you collected.\n",
    "\n",
    "Question 1: Perform a visual analysis of the dataset. Plot the time series of Bitcoin prices over the 12 months.\n",
    "\n",
    "Question 2: Before applying ARIMA, what steps would you take to make the time series stationary? Do them all\n",
    "\n",
    "Question 3: Apply the ARIMA model to the dataset. Choose appropriate values for p, d, and q.\n",
    "\n",
    "Question 4: Forecast the Bitcoin price for the next 3 hours using your ARIMA model.\n",
    "\n",
    "Question 5: Evaluate the performance of your ARIMA model. Calculate and explain appropriate evaluation metrics such as Mean Absolute Error (MAE) and Root Mean Squared Error (RMSE) for your forecast."
   ]
  },
  {
   "cell_type": "code",
   "execution_count": null,
   "metadata": {
    "colab": {
     "base_uri": "https://localhost:8080/",
     "height": 1000
    },
    "id": "62M9wcsIp9SM",
    "outputId": "2c0ac3f7-b147-4e44-ac83-85e4ff3e00d3"
   },
   "outputs": [],
   "source": [
    "\n"
   ]
  },
  {
   "cell_type": "code",
   "execution_count": 3,
   "metadata": {},
   "outputs": [],
   "source": [
    "import pandas as pd\n",
    "import numpy as np\n",
    "import matplotlib.pyplot as plt\n",
    "import yfinance as yf"
   ]
  },
  {
   "cell_type": "code",
   "execution_count": 4,
   "metadata": {},
   "outputs": [],
   "source": [
    "import requests\n",
    "import datetime"
   ]
  },
  {
   "cell_type": "code",
   "execution_count": 5,
   "metadata": {},
   "outputs": [],
   "source": [
    "# raw_df = yf.download('BTC-USD', start='2022-01-01', end= '2022-12-01', interval= '1h')"
   ]
  },
  {
   "cell_type": "code",
   "execution_count": 6,
   "metadata": {},
   "outputs": [],
   "source": [
    "# df = raw_df.asfreq('h')"
   ]
  },
  {
   "cell_type": "code",
   "execution_count": 7,
   "metadata": {},
   "outputs": [],
   "source": [
    "# print(raw_df.shape)\n",
    "# print(df.shape)"
   ]
  },
  {
   "cell_type": "code",
   "execution_count": 8,
   "metadata": {},
   "outputs": [],
   "source": [
    "symbol = 'BTCUSDT'\n",
    "from_timestamp = int(datetime.datetime(year=2022, month=1, day=1).timestamp())\n",
    "to_timestamp = int(datetime.datetime(2022,12,31).timestamp())\n",
    "\n",
    "wallex = f'https://api.wallex.ir/v1/udf/history?symbol={symbol}&resolution=60&from={from_timestamp}&to={to_timestamp}'\n",
    "\n",
    "r= requests.get(wallex)"
   ]
  },
  {
   "cell_type": "code",
   "execution_count": 9,
   "metadata": {},
   "outputs": [],
   "source": [
    "data = r.json()\n",
    "df = pd.DataFrame({\"timestamp\":data['t'],\"open\":data['o'],\"close\":data['c'],\"low\":data['l'],\"high\":data['h']}\n",
    "                  # ,dtype='float32'\n",
    "                 )\n",
    "df.to_csv('bitcoin_prices.csv')"
   ]
  },
  {
   "cell_type": "code",
   "execution_count": 10,
   "metadata": {},
   "outputs": [],
   "source": [
    "# Load the dataset\n",
    "df = pd.read_csv('./bitcoin_prices.csv')\n",
    "\n",
    "df['datetime'] = df['timestamp'].map(lambda x: datetime.datetime.fromtimestamp(x))\n",
    "# Convert timestamp column to datetime format\n",
    "df['datetime'] = pd.to_datetime(df['datetime'])\n",
    "\n",
    "df['mean_price'] = df.apply(lambda x: (x.open + x.close+x.low+x.high)/4,axis=1)\n",
    "df['price'] = df.apply(lambda x: (x.close if x.open > x.close else x.open),axis=1)\n",
    "# # Set timestamp column as index\n",
    "df.set_index('datetime', inplace=True)"
   ]
  },
  {
   "cell_type": "code",
   "execution_count": 11,
   "metadata": {},
   "outputs": [
    {
     "data": {
      "text/html": [
       "<div>\n",
       "<style scoped>\n",
       "    .dataframe tbody tr th:only-of-type {\n",
       "        vertical-align: middle;\n",
       "    }\n",
       "\n",
       "    .dataframe tbody tr th {\n",
       "        vertical-align: top;\n",
       "    }\n",
       "\n",
       "    .dataframe thead th {\n",
       "        text-align: right;\n",
       "    }\n",
       "</style>\n",
       "<table border=\"1\" class=\"dataframe\">\n",
       "  <thead>\n",
       "    <tr style=\"text-align: right;\">\n",
       "      <th></th>\n",
       "      <th>Unnamed: 0</th>\n",
       "      <th>timestamp</th>\n",
       "      <th>open</th>\n",
       "      <th>close</th>\n",
       "      <th>low</th>\n",
       "      <th>high</th>\n",
       "      <th>mean_price</th>\n",
       "      <th>price</th>\n",
       "    </tr>\n",
       "    <tr>\n",
       "      <th>datetime</th>\n",
       "      <th></th>\n",
       "      <th></th>\n",
       "      <th></th>\n",
       "      <th></th>\n",
       "      <th></th>\n",
       "      <th></th>\n",
       "      <th></th>\n",
       "      <th></th>\n",
       "    </tr>\n",
       "  </thead>\n",
       "  <tbody>\n",
       "    <tr>\n",
       "      <th>2022-01-01 00:30:00</th>\n",
       "      <td>0</td>\n",
       "      <td>1640984400</td>\n",
       "      <td>46850.00</td>\n",
       "      <td>46850.00</td>\n",
       "      <td>46850.00</td>\n",
       "      <td>46850.00</td>\n",
       "      <td>46850.0000</td>\n",
       "      <td>46850.00</td>\n",
       "    </tr>\n",
       "    <tr>\n",
       "      <th>2022-01-01 01:30:00</th>\n",
       "      <td>1</td>\n",
       "      <td>1640988000</td>\n",
       "      <td>47265.70</td>\n",
       "      <td>46657.45</td>\n",
       "      <td>46400.00</td>\n",
       "      <td>47265.70</td>\n",
       "      <td>46897.2125</td>\n",
       "      <td>46657.45</td>\n",
       "    </tr>\n",
       "    <tr>\n",
       "      <th>2022-01-01 02:30:00</th>\n",
       "      <td>2</td>\n",
       "      <td>1640991600</td>\n",
       "      <td>46100.00</td>\n",
       "      <td>46000.00</td>\n",
       "      <td>46000.00</td>\n",
       "      <td>46176.79</td>\n",
       "      <td>46069.1975</td>\n",
       "      <td>46000.00</td>\n",
       "    </tr>\n",
       "    <tr>\n",
       "      <th>2022-01-01 03:30:00</th>\n",
       "      <td>3</td>\n",
       "      <td>1640995200</td>\n",
       "      <td>45900.00</td>\n",
       "      <td>45800.11</td>\n",
       "      <td>45800.11</td>\n",
       "      <td>45900.00</td>\n",
       "      <td>45850.0550</td>\n",
       "      <td>45800.11</td>\n",
       "    </tr>\n",
       "    <tr>\n",
       "      <th>2022-01-01 04:30:00</th>\n",
       "      <td>4</td>\n",
       "      <td>1640998800</td>\n",
       "      <td>46124.85</td>\n",
       "      <td>46146.43</td>\n",
       "      <td>45946.28</td>\n",
       "      <td>46155.71</td>\n",
       "      <td>46093.3175</td>\n",
       "      <td>46124.85</td>\n",
       "    </tr>\n",
       "  </tbody>\n",
       "</table>\n",
       "</div>"
      ],
      "text/plain": [
       "                     Unnamed: 0   timestamp      open     close       low  \\\n",
       "datetime                                                                    \n",
       "2022-01-01 00:30:00           0  1640984400  46850.00  46850.00  46850.00   \n",
       "2022-01-01 01:30:00           1  1640988000  47265.70  46657.45  46400.00   \n",
       "2022-01-01 02:30:00           2  1640991600  46100.00  46000.00  46000.00   \n",
       "2022-01-01 03:30:00           3  1640995200  45900.00  45800.11  45800.11   \n",
       "2022-01-01 04:30:00           4  1640998800  46124.85  46146.43  45946.28   \n",
       "\n",
       "                         high  mean_price     price  \n",
       "datetime                                             \n",
       "2022-01-01 00:30:00  46850.00  46850.0000  46850.00  \n",
       "2022-01-01 01:30:00  47265.70  46897.2125  46657.45  \n",
       "2022-01-01 02:30:00  46176.79  46069.1975  46000.00  \n",
       "2022-01-01 03:30:00  45900.00  45850.0550  45800.11  \n",
       "2022-01-01 04:30:00  46155.71  46093.3175  46124.85  "
      ]
     },
     "execution_count": 11,
     "metadata": {},
     "output_type": "execute_result"
    }
   ],
   "source": [
    "df.head()"
   ]
  },
  {
   "cell_type": "code",
   "execution_count": 12,
   "metadata": {},
   "outputs": [
    {
     "data": {
      "text/plain": [
       "Unnamed: 0    0\n",
       "timestamp     0\n",
       "open          0\n",
       "close         0\n",
       "low           0\n",
       "high          0\n",
       "mean_price    0\n",
       "price         0\n",
       "dtype: int64"
      ]
     },
     "execution_count": 12,
     "metadata": {},
     "output_type": "execute_result"
    }
   ],
   "source": [
    "df.isna().sum()"
   ]
  },
  {
   "cell_type": "code",
   "execution_count": null,
   "metadata": {},
   "outputs": [],
   "source": []
  },
  {
   "cell_type": "code",
   "execution_count": null,
   "metadata": {},
   "outputs": [],
   "source": []
  },
  {
   "cell_type": "markdown",
   "metadata": {},
   "source": [
    "Question 1: Perform a visual analysis of the dataset. Plot the time series of Bitcoin prices over the 12 months.\n"
   ]
  },
  {
   "cell_type": "code",
   "execution_count": 13,
   "metadata": {},
   "outputs": [
    {
     "data": {
      "image/png": "[encoded data removed]",
      "text/plain": [
       "<Figure size 800x400 with 1 Axes>"
      ]
     },
     "metadata": {},
     "output_type": "display_data"
    }
   ],
   "source": [
    "plt.figure(figsize=(8,4))\n",
    "plt.plot(df.close)\n",
    "plt.xlabel('Time')\n",
    "plt.ylabel('Bitcoin Price (USD)')\n",
    "plt.title('Bitcon Price Over Time')\n",
    "plt.xticks(fontsize=8)\n",
    "plt.yticks(fontsize=8)\n",
    "plt.grid(linestyle='-')"
   ]
  },
  {
   "cell_type": "code",
   "execution_count": null,
   "metadata": {},
   "outputs": [],
   "source": []
  },
  {
   "cell_type": "markdown",
   "metadata": {},
   "source": [
    "Question 2: Before applying ARIMA, what steps would you take to make the time series stationary? Do them all"
   ]
  },
  {
   "cell_type": "code",
   "execution_count": 15,
   "metadata": {},
   "outputs": [],
   "source": [
    "import statsmodels.graphics.tsaplots as sgt\n",
    "from statsmodels.tsa.arima.model import ARIMA"
   ]
  },
  {
   "cell_type": "raw",
   "metadata": {},
   "source": [
    "The ACF"
   ]
  },
  {
   "cell_type": "code",
   "execution_count": null,
   "metadata": {},
   "outputs": [],
   "source": []
  },
  {
   "cell_type": "code",
   "execution_count": 16,
   "metadata": {},
   "outputs": [
    {
     "data": {
      "text/plain": [
       "Text(0.5, 1.0, 'ACF for prices')"
      ]
     },
     "execution_count": 16,
     "metadata": {},
     "output_type": "execute_result"
    },
    {
     "data": {
      "image/png": "[encoded data removed]",
      "text/plain": [
       "<Figure size 640x480 with 1 Axes>"
      ]
     },
     "metadata": {},
     "output_type": "display_data"
    }
   ],
   "source": [
    "sgt.plot_acf(df.close, zero = False, lags=40)\n",
    "plt.title('ACF for prices', size=12)"
   ]
  },
  {
   "cell_type": "raw",
   "metadata": {},
   "source": [
    "The PACF"
   ]
  },
  {
   "cell_type": "code",
   "execution_count": 17,
   "metadata": {},
   "outputs": [
    {
     "data": {
      "text/plain": [
       "Text(0.5, 1.0, 'PACF for prices, size=12')"
      ]
     },
     "execution_count": 17,
     "metadata": {},
     "output_type": "execute_result"
    },
    {
     "data": {
      "image/png": "[encoded data removed]",
      "text/plain": [
       "<Figure size 640x480 with 1 Axes>"
      ]
     },
     "metadata": {},
     "output_type": "display_data"
    }
   ],
   "source": [
    "sgt.plot_pacf(df.close, lags=40, zero=False, method=('ols'))\n",
    "plt.title('PACF for prices, size=12')"
   ]
  },
  {
   "cell_type": "raw",
   "metadata": {},
   "source": [
    "the ACF above suggests a random walk and shows no order for MA model in the 40 lags"
   ]
  },
  {
   "cell_type": "raw",
   "metadata": {},
   "source": [
    "the PACF above shows some correlations of AR order of 3"
   ]
  },
  {
   "cell_type": "code",
   "execution_count": null,
   "metadata": {},
   "outputs": [],
   "source": [
    "    "
   ]
  },
  {
   "cell_type": "raw",
   "metadata": {},
   "source": [
    "The AR(3) model"
   ]
  },
  {
   "cell_type": "code",
   "execution_count": 18,
   "metadata": {},
   "outputs": [],
   "source": [
    "df2 = df.resample('H').mean()"
   ]
  },
  {
   "cell_type": "code",
   "execution_count": 19,
   "metadata": {},
   "outputs": [],
   "source": [
    "model_ar_1 = ARIMA(df2.close, order=(3,0,0))"
   ]
  },
  {
   "cell_type": "code",
   "execution_count": 20,
   "metadata": {},
   "outputs": [],
   "source": [
    "results_ar_1 = model_ar_1.fit()"
   ]
  },
  {
   "cell_type": "code",
   "execution_count": 21,
   "metadata": {},
   "outputs": [
    {
     "data": {
      "text/html": [
       "<table class=\"simpletable\">\n",
       "<caption>SARIMAX Results</caption>\n",
       "<tr>\n",
       "  <th>Dep. Variable:</th>         <td>close</td>      <th>  No. Observations:  </th>    <td>8736</td>   \n",
       "</tr>\n",
       "<tr>\n",
       "  <th>Model:</th>            <td>ARIMA(3, 0, 0)</td>  <th>  Log Likelihood     </th> <td>-61633.751</td>\n",
       "</tr>\n",
       "<tr>\n",
       "  <th>Date:</th>            <td>Mon, 09 Oct 2023</td> <th>  AIC                </th> <td>123277.502</td>\n",
       "</tr>\n",
       "<tr>\n",
       "  <th>Time:</th>                <td>22:40:46</td>     <th>  BIC                </th> <td>123312.878</td>\n",
       "</tr>\n",
       "<tr>\n",
       "  <th>Sample:</th>             <td>01-01-2022</td>    <th>  HQIC               </th> <td>123289.557</td>\n",
       "</tr>\n",
       "<tr>\n",
       "  <th></th>                   <td>- 12-30-2022</td>   <th>                     </th>      <td> </td>    \n",
       "</tr>\n",
       "<tr>\n",
       "  <th>Covariance Type:</th>        <td>opg</td>       <th>                     </th>      <td> </td>    \n",
       "</tr>\n",
       "</table>\n",
       "<table class=\"simpletable\">\n",
       "<tr>\n",
       "     <td></td>       <th>coef</th>     <th>std err</th>      <th>z</th>      <th>P>|z|</th>  <th>[0.025</th>    <th>0.975]</th>  \n",
       "</tr>\n",
       "<tr>\n",
       "  <th>const</th>  <td> 2.813e+04</td> <td>    1.401</td> <td> 2.01e+04</td> <td> 0.000</td> <td> 2.81e+04</td> <td> 2.81e+04</td>\n",
       "</tr>\n",
       "<tr>\n",
       "  <th>ar.L1</th>  <td>    0.6694</td> <td>    0.003</td> <td>  260.004</td> <td> 0.000</td> <td>    0.664</td> <td>    0.674</td>\n",
       "</tr>\n",
       "<tr>\n",
       "  <th>ar.L2</th>  <td>    0.2330</td> <td>    0.004</td> <td>   62.444</td> <td> 0.000</td> <td>    0.226</td> <td>    0.240</td>\n",
       "</tr>\n",
       "<tr>\n",
       "  <th>ar.L3</th>  <td>    0.0970</td> <td>    0.004</td> <td>   21.841</td> <td> 0.000</td> <td>    0.088</td> <td>    0.106</td>\n",
       "</tr>\n",
       "<tr>\n",
       "  <th>sigma2</th> <td> 1.003e+05</td> <td>  306.427</td> <td>  327.180</td> <td> 0.000</td> <td> 9.97e+04</td> <td> 1.01e+05</td>\n",
       "</tr>\n",
       "</table>\n",
       "<table class=\"simpletable\">\n",
       "<tr>\n",
       "  <th>Ljung-Box (L1) (Q):</th>     <td>0.00</td> <th>  Jarque-Bera (JB):  </th> <td>2071338.51</td>\n",
       "</tr>\n",
       "<tr>\n",
       "  <th>Prob(Q):</th>                <td>0.95</td> <th>  Prob(JB):          </th>    <td>0.00</td>   \n",
       "</tr>\n",
       "<tr>\n",
       "  <th>Heteroskedasticity (H):</th> <td>0.08</td> <th>  Skew:              </th>    <td>1.41</td>   \n",
       "</tr>\n",
       "<tr>\n",
       "  <th>Prob(H) (two-sided):</th>    <td>0.00</td> <th>  Kurtosis:          </th>    <td>78.38</td>  \n",
       "</tr>\n",
       "</table><br/><br/>Warnings:<br/>[1] Covariance matrix calculated using the outer product of gradients (complex-step).<br/>[2] Covariance matrix is singular or near-singular, with condition number 2.23e+18. Standard errors may be unstable."
      ],
      "text/latex": [
       "\\begin{center}\n",
       "\\begin{tabular}{lclc}\n",
       "\\toprule\n",
       "\\textbf{Dep. Variable:}          &      close       & \\textbf{  No. Observations:  } &    8736     \\\\\n",
       "\\textbf{Model:}                  &  ARIMA(3, 0, 0)  & \\textbf{  Log Likelihood     } & -61633.751  \\\\\n",
       "\\textbf{Date:}                   & Mon, 09 Oct 2023 & \\textbf{  AIC                } & 123277.502  \\\\\n",
       "\\textbf{Time:}                   &     22:40:46     & \\textbf{  BIC                } & 123312.878  \\\\\n",
       "\\textbf{Sample:}                 &    01-01-2022    & \\textbf{  HQIC               } & 123289.557  \\\\\n",
       "\\textbf{}                        &   - 12-30-2022   & \\textbf{                     } &             \\\\\n",
       "\\textbf{Covariance Type:}        &       opg        & \\textbf{                     } &             \\\\\n",
       "\\bottomrule\n",
       "\\end{tabular}\n",
       "\\begin{tabular}{lcccccc}\n",
       "                & \\textbf{coef} & \\textbf{std err} & \\textbf{z} & \\textbf{P$> |$z$|$} & \\textbf{[0.025} & \\textbf{0.975]}  \\\\\n",
       "\\midrule\n",
       "\\textbf{const}  &    2.813e+04  &        1.401     &  2.01e+04  &         0.000        &     2.81e+04    &     2.81e+04     \\\\\n",
       "\\textbf{ar.L1}  &       0.6694  &        0.003     &   260.004  &         0.000        &        0.664    &        0.674     \\\\\n",
       "\\textbf{ar.L2}  &       0.2330  &        0.004     &    62.444  &         0.000        &        0.226    &        0.240     \\\\\n",
       "\\textbf{ar.L3}  &       0.0970  &        0.004     &    21.841  &         0.000        &        0.088    &        0.106     \\\\\n",
       "\\textbf{sigma2} &    1.003e+05  &      306.427     &   327.180  &         0.000        &     9.97e+04    &     1.01e+05     \\\\\n",
       "\\bottomrule\n",
       "\\end{tabular}\n",
       "\\begin{tabular}{lclc}\n",
       "\\textbf{Ljung-Box (L1) (Q):}     & 0.00 & \\textbf{  Jarque-Bera (JB):  } & 2071338.51  \\\\\n",
       "\\textbf{Prob(Q):}                & 0.95 & \\textbf{  Prob(JB):          } &    0.00     \\\\\n",
       "\\textbf{Heteroskedasticity (H):} & 0.08 & \\textbf{  Skew:              } &    1.41     \\\\\n",
       "\\textbf{Prob(H) (two-sided):}    & 0.00 & \\textbf{  Kurtosis:          } &   78.38     \\\\\n",
       "\\bottomrule\n",
       "\\end{tabular}\n",
       "%\\caption{SARIMAX Results}\n",
       "\\end{center}\n",
       "\n",
       "Warnings: \\newline\n",
       " [1] Covariance matrix calculated using the outer product of gradients (complex-step). \\newline\n",
       " [2] Covariance matrix is singular or near-singular, with condition number 2.23e+18. Standard errors may be unstable."
      ],
      "text/plain": [
       "<class 'statsmodels.iolib.summary.Summary'>\n",
       "\"\"\"\n",
       "                               SARIMAX Results                                \n",
       "==============================================================================\n",
       "Dep. Variable:                  close   No. Observations:                 8736\n",
       "Model:                 ARIMA(3, 0, 0)   Log Likelihood              -61633.751\n",
       "Date:                Mon, 09 Oct 2023   AIC                         123277.502\n",
       "Time:                        22:40:46   BIC                         123312.878\n",
       "Sample:                    01-01-2022   HQIC                        123289.557\n",
       "                         - 12-30-2022                                         \n",
       "Covariance Type:                  opg                                         \n",
       "==============================================================================\n",
       "                 coef    std err          z      P>|z|      [0.025      0.975]\n",
       "------------------------------------------------------------------------------\n",
       "const       2.813e+04      1.401   2.01e+04      0.000    2.81e+04    2.81e+04\n",
       "ar.L1          0.6694      0.003    260.004      0.000       0.664       0.674\n",
       "ar.L2          0.2330      0.004     62.444      0.000       0.226       0.240\n",
       "ar.L3          0.0970      0.004     21.841      0.000       0.088       0.106\n",
       "sigma2      1.003e+05    306.427    327.180      0.000    9.97e+04    1.01e+05\n",
       "===================================================================================\n",
       "Ljung-Box (L1) (Q):                   0.00   Jarque-Bera (JB):           2071338.51\n",
       "Prob(Q):                              0.95   Prob(JB):                         0.00\n",
       "Heteroskedasticity (H):               0.08   Skew:                             1.41\n",
       "Prob(H) (two-sided):                  0.00   Kurtosis:                        78.38\n",
       "===================================================================================\n",
       "\n",
       "Warnings:\n",
       "[1] Covariance matrix calculated using the outer product of gradients (complex-step).\n",
       "[2] Covariance matrix is singular or near-singular, with condition number 2.23e+18. Standard errors may be unstable.\n",
       "\"\"\""
      ]
     },
     "execution_count": 21,
     "metadata": {},
     "output_type": "execute_result"
    }
   ],
   "source": [
    "results_ar_1.summary()"
   ]
  },
  {
   "cell_type": "raw",
   "metadata": {},
   "source": [
    "as expected the AR(3) models shows all AR coefficients for all 3 lags are 95% significant "
   ]
  },
  {
   "cell_type": "raw",
   "metadata": {},
   "source": [
    "Despite PACF shows some AR lags, ARMA models are applicatble to stationary time series,\n",
    "we apply \"augmented dicky fuller\" test to check the process is stationary or not."
   ]
  },
  {
   "cell_type": "raw",
   "metadata": {},
   "source": [
    "# importing adfuller test"
   ]
  },
  {
   "cell_type": "code",
   "execution_count": 22,
   "metadata": {},
   "outputs": [],
   "source": [
    "from statsmodels.tsa.stattools import adfuller"
   ]
  },
  {
   "cell_type": "code",
   "execution_count": 23,
   "metadata": {},
   "outputs": [],
   "source": [
    "import statsmodels.tsa.stattools as sts"
   ]
  },
  {
   "cell_type": "code",
   "execution_count": 24,
   "metadata": {},
   "outputs": [
    {
     "data": {
      "text/plain": [
       "(-1.5584865691748953,\n",
       " 0.5044063619641599,\n",
       " 26,\n",
       " 8564,\n",
       " {'1%': -3.4311138091018725,\n",
       "  '5%': -2.86187755195482,\n",
       "  '10%': -2.5669496739842286},\n",
       " 122746.12482559744)"
      ]
     },
     "execution_count": 24,
     "metadata": {},
     "output_type": "execute_result"
    }
   ],
   "source": [
    "sts.adfuller(df.close)"
   ]
  },
  {
   "cell_type": "raw",
   "metadata": {},
   "source": [
    "again as expected we see p-value = 0.5044 and the time series is not stationary"
   ]
  },
  {
   "cell_type": "raw",
   "metadata": {},
   "source": [
    "This time instead of the close prices, the differences are considered"
   ]
  },
  {
   "cell_type": "code",
   "execution_count": 25,
   "metadata": {},
   "outputs": [],
   "source": [
    "df['dif'] = df.close.diff()"
   ]
  },
  {
   "cell_type": "code",
   "execution_count": 26,
   "metadata": {},
   "outputs": [
    {
     "data": {
      "text/html": [
       "<div>\n",
       "<style scoped>\n",
       "    .dataframe tbody tr th:only-of-type {\n",
       "        vertical-align: middle;\n",
       "    }\n",
       "\n",
       "    .dataframe tbody tr th {\n",
       "        vertical-align: top;\n",
       "    }\n",
       "\n",
       "    .dataframe thead th {\n",
       "        text-align: right;\n",
       "    }\n",
       "</style>\n",
       "<table border=\"1\" class=\"dataframe\">\n",
       "  <thead>\n",
       "    <tr style=\"text-align: right;\">\n",
       "      <th></th>\n",
       "      <th>Unnamed: 0</th>\n",
       "      <th>timestamp</th>\n",
       "      <th>open</th>\n",
       "      <th>close</th>\n",
       "      <th>low</th>\n",
       "      <th>high</th>\n",
       "      <th>mean_price</th>\n",
       "      <th>price</th>\n",
       "      <th>dif</th>\n",
       "    </tr>\n",
       "    <tr>\n",
       "      <th>datetime</th>\n",
       "      <th></th>\n",
       "      <th></th>\n",
       "      <th></th>\n",
       "      <th></th>\n",
       "      <th></th>\n",
       "      <th></th>\n",
       "      <th></th>\n",
       "      <th></th>\n",
       "      <th></th>\n",
       "    </tr>\n",
       "  </thead>\n",
       "  <tbody>\n",
       "    <tr>\n",
       "      <th>2022-01-01 00:30:00</th>\n",
       "      <td>0</td>\n",
       "      <td>1640984400</td>\n",
       "      <td>46850.00</td>\n",
       "      <td>46850.00</td>\n",
       "      <td>46850.00</td>\n",
       "      <td>46850.00</td>\n",
       "      <td>46850.0000</td>\n",
       "      <td>46850.00</td>\n",
       "      <td>NaN</td>\n",
       "    </tr>\n",
       "    <tr>\n",
       "      <th>2022-01-01 01:30:00</th>\n",
       "      <td>1</td>\n",
       "      <td>1640988000</td>\n",
       "      <td>47265.70</td>\n",
       "      <td>46657.45</td>\n",
       "      <td>46400.00</td>\n",
       "      <td>47265.70</td>\n",
       "      <td>46897.2125</td>\n",
       "      <td>46657.45</td>\n",
       "      <td>-192.55</td>\n",
       "    </tr>\n",
       "    <tr>\n",
       "      <th>2022-01-01 02:30:00</th>\n",
       "      <td>2</td>\n",
       "      <td>1640991600</td>\n",
       "      <td>46100.00</td>\n",
       "      <td>46000.00</td>\n",
       "      <td>46000.00</td>\n",
       "      <td>46176.79</td>\n",
       "      <td>46069.1975</td>\n",
       "      <td>46000.00</td>\n",
       "      <td>-657.45</td>\n",
       "    </tr>\n",
       "    <tr>\n",
       "      <th>2022-01-01 03:30:00</th>\n",
       "      <td>3</td>\n",
       "      <td>1640995200</td>\n",
       "      <td>45900.00</td>\n",
       "      <td>45800.11</td>\n",
       "      <td>45800.11</td>\n",
       "      <td>45900.00</td>\n",
       "      <td>45850.0550</td>\n",
       "      <td>45800.11</td>\n",
       "      <td>-199.89</td>\n",
       "    </tr>\n",
       "    <tr>\n",
       "      <th>2022-01-01 04:30:00</th>\n",
       "      <td>4</td>\n",
       "      <td>1640998800</td>\n",
       "      <td>46124.85</td>\n",
       "      <td>46146.43</td>\n",
       "      <td>45946.28</td>\n",
       "      <td>46155.71</td>\n",
       "      <td>46093.3175</td>\n",
       "      <td>46124.85</td>\n",
       "      <td>346.32</td>\n",
       "    </tr>\n",
       "  </tbody>\n",
       "</table>\n",
       "</div>"
      ],
      "text/plain": [
       "                     Unnamed: 0   timestamp      open     close       low  \\\n",
       "datetime                                                                    \n",
       "2022-01-01 00:30:00           0  1640984400  46850.00  46850.00  46850.00   \n",
       "2022-01-01 01:30:00           1  1640988000  47265.70  46657.45  46400.00   \n",
       "2022-01-01 02:30:00           2  1640991600  46100.00  46000.00  46000.00   \n",
       "2022-01-01 03:30:00           3  1640995200  45900.00  45800.11  45800.11   \n",
       "2022-01-01 04:30:00           4  1640998800  46124.85  46146.43  45946.28   \n",
       "\n",
       "                         high  mean_price     price     dif  \n",
       "datetime                                                     \n",
       "2022-01-01 00:30:00  46850.00  46850.0000  46850.00     NaN  \n",
       "2022-01-01 01:30:00  47265.70  46897.2125  46657.45 -192.55  \n",
       "2022-01-01 02:30:00  46176.79  46069.1975  46000.00 -657.45  \n",
       "2022-01-01 03:30:00  45900.00  45850.0550  45800.11 -199.89  \n",
       "2022-01-01 04:30:00  46155.71  46093.3175  46124.85  346.32  "
      ]
     },
     "execution_count": 26,
     "metadata": {},
     "output_type": "execute_result"
    }
   ],
   "source": [
    "df.head()"
   ]
  },
  {
   "cell_type": "code",
   "execution_count": 27,
   "metadata": {},
   "outputs": [],
   "source": [
    "df = df[1:]"
   ]
  },
  {
   "cell_type": "code",
   "execution_count": 28,
   "metadata": {},
   "outputs": [
    {
     "data": {
      "image/png": "[encoded data removed]",
      "text/plain": [
       "<Figure size 800x400 with 1 Axes>"
      ]
     },
     "metadata": {},
     "output_type": "display_data"
    }
   ],
   "source": [
    "plt.figure(figsize=(8,4))\n",
    "plt.plot(df.dif)\n",
    "plt.xlabel('Time')\n",
    "plt.ylabel('Bitcoin Price (USD)')\n",
    "plt.title('Price Differences')\n",
    "plt.xticks(fontsize=8)\n",
    "plt.yticks(fontsize=8)\n",
    "plt.grid(linestyle='-')"
   ]
  },
  {
   "cell_type": "code",
   "execution_count": 29,
   "metadata": {},
   "outputs": [
    {
     "data": {
      "text/plain": [
       "(-19.038259507019426,\n",
       " 0.0,\n",
       " 25,\n",
       " 8564,\n",
       " {'1%': -3.4311138091018725,\n",
       "  '5%': -2.86187755195482,\n",
       "  '10%': -2.5669496739842286},\n",
       " 122731.25754460794)"
      ]
     },
     "execution_count": 29,
     "metadata": {},
     "output_type": "execute_result"
    }
   ],
   "source": [
    "sts.adfuller(df.dif)"
   ]
  },
  {
   "cell_type": "raw",
   "metadata": {},
   "source": [
    "now p-value is 0.0 and therefore the dif columns represents a stationary process"
   ]
  },
  {
   "cell_type": "raw",
   "metadata": {},
   "source": [
    "The ACF for differences"
   ]
  },
  {
   "cell_type": "code",
   "execution_count": 30,
   "metadata": {},
   "outputs": [
    {
     "data": {
      "text/plain": [
       "Text(0.5, 1.0, 'ACF for the differences')"
      ]
     },
     "execution_count": 30,
     "metadata": {},
     "output_type": "execute_result"
    },
    {
     "data": {
      "image/png": "[encoded data removed]",
      "text/plain": [
       "<Figure size 640x480 with 1 Axes>"
      ]
     },
     "metadata": {},
     "output_type": "display_data"
    }
   ],
   "source": [
    "sgt.plot_acf(df.dif, zero = False, lags=40)\n",
    "plt.title('ACF for the differences', size=12)"
   ]
  },
  {
   "cell_type": "raw",
   "metadata": {},
   "source": [
    "The PACF for the differences"
   ]
  },
  {
   "cell_type": "code",
   "execution_count": 31,
   "metadata": {},
   "outputs": [
    {
     "data": {
      "text/plain": [
       "Text(0.5, 1.0, 'PACF for differences, size=12')"
      ]
     },
     "execution_count": 31,
     "metadata": {},
     "output_type": "execute_result"
    },
    {
     "data": {
      "image/png": "[encoded data removed]",
      "text/plain": [
       "<Figure size 640x480 with 1 Axes>"
      ]
     },
     "metadata": {},
     "output_type": "display_data"
    }
   ],
   "source": [
    "sgt.plot_pacf(df.dif, lags=40, zero=False, method=('ols'))\n",
    "plt.title('PACF for differences, size=12')"
   ]
  },
  {
   "cell_type": "raw",
   "metadata": {},
   "source": [
    "the ACF and PACF of 'dif' column shows one lag and two lags for MA and RA respectively"
   ]
  },
  {
   "cell_type": "raw",
   "metadata": {},
   "source": [
    "so apply ARIMA model with the parameters: p=2 , d=1, q=1"
   ]
  },
  {
   "cell_type": "code",
   "execution_count": 32,
   "metadata": {},
   "outputs": [],
   "source": [
    "model_ar_2_d_1_ma_1 = ARIMA(df2.close, order=(2,1,1))"
   ]
  },
  {
   "cell_type": "code",
   "execution_count": 33,
   "metadata": {},
   "outputs": [],
   "source": [
    "results_ar_2_d_1_ma_1 = model_ar_2_d_1_ma_1.fit()"
   ]
  },
  {
   "cell_type": "code",
   "execution_count": 34,
   "metadata": {},
   "outputs": [
    {
     "data": {
      "text/html": [
       "<table class=\"simpletable\">\n",
       "<caption>SARIMAX Results</caption>\n",
       "<tr>\n",
       "  <th>Dep. Variable:</th>         <td>close</td>      <th>  No. Observations:  </th>    <td>8736</td>   \n",
       "</tr>\n",
       "<tr>\n",
       "  <th>Model:</th>            <td>ARIMA(2, 1, 1)</td>  <th>  Log Likelihood     </th> <td>-61619.179</td>\n",
       "</tr>\n",
       "<tr>\n",
       "  <th>Date:</th>            <td>Mon, 09 Oct 2023</td> <th>  AIC                </th> <td>123246.358</td>\n",
       "</tr>\n",
       "<tr>\n",
       "  <th>Time:</th>                <td>22:42:31</td>     <th>  BIC                </th> <td>123274.658</td>\n",
       "</tr>\n",
       "<tr>\n",
       "  <th>Sample:</th>             <td>01-01-2022</td>    <th>  HQIC               </th> <td>123256.002</td>\n",
       "</tr>\n",
       "<tr>\n",
       "  <th></th>                   <td>- 12-30-2022</td>   <th>                     </th>      <td> </td>    \n",
       "</tr>\n",
       "<tr>\n",
       "  <th>Covariance Type:</th>        <td>opg</td>       <th>                     </th>      <td> </td>    \n",
       "</tr>\n",
       "</table>\n",
       "<table class=\"simpletable\">\n",
       "<tr>\n",
       "     <td></td>       <th>coef</th>     <th>std err</th>      <th>z</th>      <th>P>|z|</th>  <th>[0.025</th>    <th>0.975]</th>  \n",
       "</tr>\n",
       "<tr>\n",
       "  <th>ar.L1</th>  <td>    0.0926</td> <td>    0.050</td> <td>    1.862</td> <td> 0.063</td> <td>   -0.005</td> <td>    0.190</td>\n",
       "</tr>\n",
       "<tr>\n",
       "  <th>ar.L2</th>  <td>    0.0286</td> <td>    0.016</td> <td>    1.748</td> <td> 0.080</td> <td>   -0.003</td> <td>    0.061</td>\n",
       "</tr>\n",
       "<tr>\n",
       "  <th>ma.L1</th>  <td>   -0.4212</td> <td>    0.049</td> <td>   -8.546</td> <td> 0.000</td> <td>   -0.518</td> <td>   -0.325</td>\n",
       "</tr>\n",
       "<tr>\n",
       "  <th>sigma2</th> <td> 9.884e+04</td> <td>  295.384</td> <td>  334.601</td> <td> 0.000</td> <td> 9.83e+04</td> <td> 9.94e+04</td>\n",
       "</tr>\n",
       "</table>\n",
       "<table class=\"simpletable\">\n",
       "<tr>\n",
       "  <th>Ljung-Box (L1) (Q):</th>     <td>0.10</td> <th>  Jarque-Bera (JB):  </th> <td>2119096.93</td>\n",
       "</tr>\n",
       "<tr>\n",
       "  <th>Prob(Q):</th>                <td>0.75</td> <th>  Prob(JB):          </th>    <td>0.00</td>   \n",
       "</tr>\n",
       "<tr>\n",
       "  <th>Heteroskedasticity (H):</th> <td>0.08</td> <th>  Skew:              </th>    <td>1.38</td>   \n",
       "</tr>\n",
       "<tr>\n",
       "  <th>Prob(H) (two-sided):</th>    <td>0.00</td> <th>  Kurtosis:          </th>    <td>79.25</td>  \n",
       "</tr>\n",
       "</table><br/><br/>Warnings:<br/>[1] Covariance matrix calculated using the outer product of gradients (complex-step)."
      ],
      "text/latex": [
       "\\begin{center}\n",
       "\\begin{tabular}{lclc}\n",
       "\\toprule\n",
       "\\textbf{Dep. Variable:}          &      close       & \\textbf{  No. Observations:  } &    8736     \\\\\n",
       "\\textbf{Model:}                  &  ARIMA(2, 1, 1)  & \\textbf{  Log Likelihood     } & -61619.179  \\\\\n",
       "\\textbf{Date:}                   & Mon, 09 Oct 2023 & \\textbf{  AIC                } & 123246.358  \\\\\n",
       "\\textbf{Time:}                   &     22:42:31     & \\textbf{  BIC                } & 123274.658  \\\\\n",
       "\\textbf{Sample:}                 &    01-01-2022    & \\textbf{  HQIC               } & 123256.002  \\\\\n",
       "\\textbf{}                        &   - 12-30-2022   & \\textbf{                     } &             \\\\\n",
       "\\textbf{Covariance Type:}        &       opg        & \\textbf{                     } &             \\\\\n",
       "\\bottomrule\n",
       "\\end{tabular}\n",
       "\\begin{tabular}{lcccccc}\n",
       "                & \\textbf{coef} & \\textbf{std err} & \\textbf{z} & \\textbf{P$> |$z$|$} & \\textbf{[0.025} & \\textbf{0.975]}  \\\\\n",
       "\\midrule\n",
       "\\textbf{ar.L1}  &       0.0926  &        0.050     &     1.862  &         0.063        &       -0.005    &        0.190     \\\\\n",
       "\\textbf{ar.L2}  &       0.0286  &        0.016     &     1.748  &         0.080        &       -0.003    &        0.061     \\\\\n",
       "\\textbf{ma.L1}  &      -0.4212  &        0.049     &    -8.546  &         0.000        &       -0.518    &       -0.325     \\\\\n",
       "\\textbf{sigma2} &    9.884e+04  &      295.384     &   334.601  &         0.000        &     9.83e+04    &     9.94e+04     \\\\\n",
       "\\bottomrule\n",
       "\\end{tabular}\n",
       "\\begin{tabular}{lclc}\n",
       "\\textbf{Ljung-Box (L1) (Q):}     & 0.10 & \\textbf{  Jarque-Bera (JB):  } & 2119096.93  \\\\\n",
       "\\textbf{Prob(Q):}                & 0.75 & \\textbf{  Prob(JB):          } &    0.00     \\\\\n",
       "\\textbf{Heteroskedasticity (H):} & 0.08 & \\textbf{  Skew:              } &    1.38     \\\\\n",
       "\\textbf{Prob(H) (two-sided):}    & 0.00 & \\textbf{  Kurtosis:          } &   79.25     \\\\\n",
       "\\bottomrule\n",
       "\\end{tabular}\n",
       "%\\caption{SARIMAX Results}\n",
       "\\end{center}\n",
       "\n",
       "Warnings: \\newline\n",
       " [1] Covariance matrix calculated using the outer product of gradients (complex-step)."
      ],
      "text/plain": [
       "<class 'statsmodels.iolib.summary.Summary'>\n",
       "\"\"\"\n",
       "                               SARIMAX Results                                \n",
       "==============================================================================\n",
       "Dep. Variable:                  close   No. Observations:                 8736\n",
       "Model:                 ARIMA(2, 1, 1)   Log Likelihood              -61619.179\n",
       "Date:                Mon, 09 Oct 2023   AIC                         123246.358\n",
       "Time:                        22:42:31   BIC                         123274.658\n",
       "Sample:                    01-01-2022   HQIC                        123256.002\n",
       "                         - 12-30-2022                                         \n",
       "Covariance Type:                  opg                                         \n",
       "==============================================================================\n",
       "                 coef    std err          z      P>|z|      [0.025      0.975]\n",
       "------------------------------------------------------------------------------\n",
       "ar.L1          0.0926      0.050      1.862      0.063      -0.005       0.190\n",
       "ar.L2          0.0286      0.016      1.748      0.080      -0.003       0.061\n",
       "ma.L1         -0.4212      0.049     -8.546      0.000      -0.518      -0.325\n",
       "sigma2      9.884e+04    295.384    334.601      0.000    9.83e+04    9.94e+04\n",
       "===================================================================================\n",
       "Ljung-Box (L1) (Q):                   0.10   Jarque-Bera (JB):           2119096.93\n",
       "Prob(Q):                              0.75   Prob(JB):                         0.00\n",
       "Heteroskedasticity (H):               0.08   Skew:                             1.38\n",
       "Prob(H) (two-sided):                  0.00   Kurtosis:                        79.25\n",
       "===================================================================================\n",
       "\n",
       "Warnings:\n",
       "[1] Covariance matrix calculated using the outer product of gradients (complex-step).\n",
       "\"\"\""
      ]
     },
     "execution_count": 34,
     "metadata": {},
     "output_type": "execute_result"
    }
   ],
   "source": [
    "results_ar_2_d_1_ma_1.summary()"
   ]
  },
  {
   "cell_type": "raw",
   "metadata": {},
   "source": [
    "compared to the first ARIMA(3,0,0) the new ARIMA(2,1,1) gives higher log-likelihood\n",
    "'-61619.179' vs '-61633.751'  and lower AIC which shows better fit by the model"
   ]
  },
  {
   "cell_type": "raw",
   "metadata": {},
   "source": []
  },
  {
   "cell_type": "raw",
   "metadata": {},
   "source": [
    "Question 4: Forecast the Bitcoin price for the next 3 hours using your ARIMA model."
   ]
  },
  {
   "cell_type": "code",
   "execution_count": null,
   "metadata": {},
   "outputs": [],
   "source": []
  },
  {
   "cell_type": "code",
   "execution_count": 35,
   "metadata": {},
   "outputs": [],
   "source": [
    "forecast = results_ar_2_d_1_ma_1.forecast(steps=3)\n",
    "forecast = pd.DataFrame(forecast)"
   ]
  },
  {
   "cell_type": "code",
   "execution_count": 36,
   "metadata": {},
   "outputs": [
    {
     "data": {
      "text/html": [
       "<div>\n",
       "<style scoped>\n",
       "    .dataframe tbody tr th:only-of-type {\n",
       "        vertical-align: middle;\n",
       "    }\n",
       "\n",
       "    .dataframe tbody tr th {\n",
       "        vertical-align: top;\n",
       "    }\n",
       "\n",
       "    .dataframe thead th {\n",
       "        text-align: right;\n",
       "    }\n",
       "</style>\n",
       "<table border=\"1\" class=\"dataframe\">\n",
       "  <thead>\n",
       "    <tr style=\"text-align: right;\">\n",
       "      <th></th>\n",
       "      <th>predicted_mean</th>\n",
       "    </tr>\n",
       "  </thead>\n",
       "  <tbody>\n",
       "    <tr>\n",
       "      <th>2022-12-31 00:00:00</th>\n",
       "      <td>16573.092018</td>\n",
       "    </tr>\n",
       "    <tr>\n",
       "      <th>2022-12-31 01:00:00</th>\n",
       "      <td>16572.922227</td>\n",
       "    </tr>\n",
       "    <tr>\n",
       "      <th>2022-12-31 02:00:00</th>\n",
       "      <td>16572.773784</td>\n",
       "    </tr>\n",
       "  </tbody>\n",
       "</table>\n",
       "</div>"
      ],
      "text/plain": [
       "                     predicted_mean\n",
       "2022-12-31 00:00:00    16573.092018\n",
       "2022-12-31 01:00:00    16572.922227\n",
       "2022-12-31 02:00:00    16572.773784"
      ]
     },
     "execution_count": 36,
     "metadata": {},
     "output_type": "execute_result"
    }
   ],
   "source": [
    "forecast"
   ]
  },
  {
   "cell_type": "raw",
   "metadata": {},
   "source": [
    "using auto_arima library"
   ]
  },
  {
   "cell_type": "code",
   "execution_count": 38,
   "metadata": {},
   "outputs": [],
   "source": [
    "from pmdarima.arima import auto_arima"
   ]
  },
  {
   "cell_type": "code",
   "execution_count": 39,
   "metadata": {},
   "outputs": [],
   "source": [
    "model_auto = auto_arima(df.close)"
   ]
  },
  {
   "cell_type": "code",
   "execution_count": 40,
   "metadata": {},
   "outputs": [
    {
     "data": {
      "text/html": [
       "<table class=\"simpletable\">\n",
       "<caption>SARIMAX Results</caption>\n",
       "<tr>\n",
       "  <th>Dep. Variable:</th>           <td>y</td>        <th>  No. Observations:  </th>    <td>8590</td>   \n",
       "</tr>\n",
       "<tr>\n",
       "  <th>Model:</th>           <td>SARIMAX(2, 1, 3)</td> <th>  Log Likelihood     </th> <td>-61631.261</td>\n",
       "</tr>\n",
       "<tr>\n",
       "  <th>Date:</th>            <td>Mon, 09 Oct 2023</td> <th>  AIC                </th> <td>123274.523</td>\n",
       "</tr>\n",
       "<tr>\n",
       "  <th>Time:</th>                <td>23:10:20</td>     <th>  BIC                </th> <td>123316.872</td>\n",
       "</tr>\n",
       "<tr>\n",
       "  <th>Sample:</th>                  <td>0</td>        <th>  HQIC               </th> <td>123288.967</td>\n",
       "</tr>\n",
       "<tr>\n",
       "  <th></th>                      <td> - 8590</td>     <th>                     </th>      <td> </td>    \n",
       "</tr>\n",
       "<tr>\n",
       "  <th>Covariance Type:</th>        <td>opg</td>       <th>                     </th>      <td> </td>    \n",
       "</tr>\n",
       "</table>\n",
       "<table class=\"simpletable\">\n",
       "<tr>\n",
       "     <td></td>       <th>coef</th>     <th>std err</th>      <th>z</th>      <th>P>|z|</th>  <th>[0.025</th>    <th>0.975]</th>  \n",
       "</tr>\n",
       "<tr>\n",
       "  <th>ar.L1</th>  <td>   -1.5288</td> <td>    0.005</td> <td> -285.158</td> <td> 0.000</td> <td>   -1.539</td> <td>   -1.518</td>\n",
       "</tr>\n",
       "<tr>\n",
       "  <th>ar.L2</th>  <td>   -0.9862</td> <td>    0.005</td> <td> -186.067</td> <td> 0.000</td> <td>   -0.997</td> <td>   -0.976</td>\n",
       "</tr>\n",
       "<tr>\n",
       "  <th>ma.L1</th>  <td>    1.1986</td> <td>    0.006</td> <td>  195.983</td> <td> 0.000</td> <td>    1.187</td> <td>    1.211</td>\n",
       "</tr>\n",
       "<tr>\n",
       "  <th>ma.L2</th>  <td>    0.4864</td> <td>    0.006</td> <td>   80.718</td> <td> 0.000</td> <td>    0.475</td> <td>    0.498</td>\n",
       "</tr>\n",
       "<tr>\n",
       "  <th>ma.L3</th>  <td>   -0.3155</td> <td>    0.004</td> <td>  -70.359</td> <td> 0.000</td> <td>   -0.324</td> <td>   -0.307</td>\n",
       "</tr>\n",
       "<tr>\n",
       "  <th>sigma2</th> <td> 1.001e+05</td> <td>  389.320</td> <td>  257.015</td> <td> 0.000</td> <td> 9.93e+04</td> <td> 1.01e+05</td>\n",
       "</tr>\n",
       "</table>\n",
       "<table class=\"simpletable\">\n",
       "<tr>\n",
       "  <th>Ljung-Box (L1) (Q):</th>     <td>0.00</td> <th>  Jarque-Bera (JB):  </th> <td>1807116.04</td>\n",
       "</tr>\n",
       "<tr>\n",
       "  <th>Prob(Q):</th>                <td>0.98</td> <th>  Prob(JB):          </th>    <td>0.00</td>   \n",
       "</tr>\n",
       "<tr>\n",
       "  <th>Heteroskedasticity (H):</th> <td>0.08</td> <th>  Skew:              </th>    <td>1.32</td>   \n",
       "</tr>\n",
       "<tr>\n",
       "  <th>Prob(H) (two-sided):</th>    <td>0.00</td> <th>  Kurtosis:          </th>    <td>74.01</td>  \n",
       "</tr>\n",
       "</table><br/><br/>Warnings:<br/>[1] Covariance matrix calculated using the outer product of gradients (complex-step)."
      ],
      "text/latex": [
       "\\begin{center}\n",
       "\\begin{tabular}{lclc}\n",
       "\\toprule\n",
       "\\textbf{Dep. Variable:}          &        y         & \\textbf{  No. Observations:  } &    8590     \\\\\n",
       "\\textbf{Model:}                  & SARIMAX(2, 1, 3) & \\textbf{  Log Likelihood     } & -61631.261  \\\\\n",
       "\\textbf{Date:}                   & Mon, 09 Oct 2023 & \\textbf{  AIC                } & 123274.523  \\\\\n",
       "\\textbf{Time:}                   &     23:10:20     & \\textbf{  BIC                } & 123316.872  \\\\\n",
       "\\textbf{Sample:}                 &        0         & \\textbf{  HQIC               } & 123288.967  \\\\\n",
       "\\textbf{}                        &      - 8590      & \\textbf{                     } &             \\\\\n",
       "\\textbf{Covariance Type:}        &       opg        & \\textbf{                     } &             \\\\\n",
       "\\bottomrule\n",
       "\\end{tabular}\n",
       "\\begin{tabular}{lcccccc}\n",
       "                & \\textbf{coef} & \\textbf{std err} & \\textbf{z} & \\textbf{P$> |$z$|$} & \\textbf{[0.025} & \\textbf{0.975]}  \\\\\n",
       "\\midrule\n",
       "\\textbf{ar.L1}  &      -1.5288  &        0.005     &  -285.158  &         0.000        &       -1.539    &       -1.518     \\\\\n",
       "\\textbf{ar.L2}  &      -0.9862  &        0.005     &  -186.067  &         0.000        &       -0.997    &       -0.976     \\\\\n",
       "\\textbf{ma.L1}  &       1.1986  &        0.006     &   195.983  &         0.000        &        1.187    &        1.211     \\\\\n",
       "\\textbf{ma.L2}  &       0.4864  &        0.006     &    80.718  &         0.000        &        0.475    &        0.498     \\\\\n",
       "\\textbf{ma.L3}  &      -0.3155  &        0.004     &   -70.359  &         0.000        &       -0.324    &       -0.307     \\\\\n",
       "\\textbf{sigma2} &    1.001e+05  &      389.320     &   257.015  &         0.000        &     9.93e+04    &     1.01e+05     \\\\\n",
       "\\bottomrule\n",
       "\\end{tabular}\n",
       "\\begin{tabular}{lclc}\n",
       "\\textbf{Ljung-Box (L1) (Q):}     & 0.00 & \\textbf{  Jarque-Bera (JB):  } & 1807116.04  \\\\\n",
       "\\textbf{Prob(Q):}                & 0.98 & \\textbf{  Prob(JB):          } &    0.00     \\\\\n",
       "\\textbf{Heteroskedasticity (H):} & 0.08 & \\textbf{  Skew:              } &    1.32     \\\\\n",
       "\\textbf{Prob(H) (two-sided):}    & 0.00 & \\textbf{  Kurtosis:          } &   74.01     \\\\\n",
       "\\bottomrule\n",
       "\\end{tabular}\n",
       "%\\caption{SARIMAX Results}\n",
       "\\end{center}\n",
       "\n",
       "Warnings: \\newline\n",
       " [1] Covariance matrix calculated using the outer product of gradients (complex-step)."
      ],
      "text/plain": [
       "<class 'statsmodels.iolib.summary.Summary'>\n",
       "\"\"\"\n",
       "                               SARIMAX Results                                \n",
       "==============================================================================\n",
       "Dep. Variable:                      y   No. Observations:                 8590\n",
       "Model:               SARIMAX(2, 1, 3)   Log Likelihood              -61631.261\n",
       "Date:                Mon, 09 Oct 2023   AIC                         123274.523\n",
       "Time:                        23:10:20   BIC                         123316.872\n",
       "Sample:                             0   HQIC                        123288.967\n",
       "                               - 8590                                         \n",
       "Covariance Type:                  opg                                         \n",
       "==============================================================================\n",
       "                 coef    std err          z      P>|z|      [0.025      0.975]\n",
       "------------------------------------------------------------------------------\n",
       "ar.L1         -1.5288      0.005   -285.158      0.000      -1.539      -1.518\n",
       "ar.L2         -0.9862      0.005   -186.067      0.000      -0.997      -0.976\n",
       "ma.L1          1.1986      0.006    195.983      0.000       1.187       1.211\n",
       "ma.L2          0.4864      0.006     80.718      0.000       0.475       0.498\n",
       "ma.L3         -0.3155      0.004    -70.359      0.000      -0.324      -0.307\n",
       "sigma2      1.001e+05    389.320    257.015      0.000    9.93e+04    1.01e+05\n",
       "===================================================================================\n",
       "Ljung-Box (L1) (Q):                   0.00   Jarque-Bera (JB):           1807116.04\n",
       "Prob(Q):                              0.98   Prob(JB):                         0.00\n",
       "Heteroskedasticity (H):               0.08   Skew:                             1.32\n",
       "Prob(H) (two-sided):                  0.00   Kurtosis:                        74.01\n",
       "===================================================================================\n",
       "\n",
       "Warnings:\n",
       "[1] Covariance matrix calculated using the outer product of gradients (complex-step).\n",
       "\"\"\""
      ]
     },
     "execution_count": 40,
     "metadata": {},
     "output_type": "execute_result"
    }
   ],
   "source": [
    "model_auto.summary()"
   ]
  },
  {
   "cell_type": "code",
   "execution_count": null,
   "metadata": {},
   "outputs": [],
   "source": [
    "auto-atima suggest ARIMA(2,1,3) model and no seasonality"
   ]
  },
  {
   "cell_type": "raw",
   "metadata": {},
   "source": [
    "p and d are same with the first model but auto arima suggest order of 3 for q and lower LLR!"
   ]
  },
  {
   "cell_type": "code",
   "execution_count": null,
   "metadata": {},
   "outputs": [],
   "source": [
    "since ARIMA(2,1,1) has higher LLR therefore still it is the choice"
   ]
  },
  {
   "cell_type": "code",
   "execution_count": null,
   "metadata": {},
   "outputs": [],
   "source": []
  },
  {
   "cell_type": "code",
   "execution_count": null,
   "metadata": {},
   "outputs": [],
   "source": []
  },
  {
   "cell_type": "raw",
   "metadata": {},
   "source": []
  },
  {
   "cell_type": "raw",
   "metadata": {},
   "source": [
    "Question 5: Evaluate the performance of your ARIMA model. Calculate and explain appropriate evaluation metrics such as Mean Absolute Error (MAE) and Root Mean Squared Error (RMSE) for your forecast."
   ]
  },
  {
   "cell_type": "code",
   "execution_count": null,
   "metadata": {},
   "outputs": [],
   "source": []
  },
  {
   "cell_type": "raw",
   "metadata": {},
   "source": [
    "in order to find now we devide the data into 80% training data and 20% test data\n"
   ]
  },
  {
   "cell_type": "code",
   "execution_count": 131,
   "metadata": {},
   "outputs": [],
   "source": [
    "L = len(df)\n",
    "train = df.close.iloc[:int(0.8*L)]\n",
    "test = df.close.iloc[int(0.8*L):]"
   ]
  },
  {
   "cell_type": "code",
   "execution_count": null,
   "metadata": {},
   "outputs": [],
   "source": [
    "train = pd.DataFrame(train)\n",
    "test = pd.DataFrame(test)"
   ]
  },
  {
   "cell_type": "code",
   "execution_count": null,
   "metadata": {},
   "outputs": [],
   "source": []
  },
  {
   "cell_type": "code",
   "execution_count": 100,
   "metadata": {},
   "outputs": [],
   "source": [
    "train = train.reset_index\n",
    "test = test.reset_index"
   ]
  },
  {
   "cell_type": "code",
   "execution_count": null,
   "metadata": {},
   "outputs": [],
   "source": [
    "#summary_results = []\n",
    "\n",
    "#for index, row in test.iterrows():\n",
    "#    D = len(train) - len(test) + index  \n",
    "#    model = ARIMA(train.iloc[len(test)+index:len(test)+D], order=(2, 1, 3))\n",
    "#    result = model.fit()\n",
    "#    forecast = result.forecast()\n",
    "#    summary_results.append(forecast)\n",
    "#\n",
    "#\n",
    "#print(\"Forecasted Values:\", summary_results)"
   ]
  },
  {
   "cell_type": "raw",
   "metadata": {},
   "source": [
    "/usr/local/lib/python3.10/dist-packages/statsmodels/tsa/statespace/sarimax.py:966: UserWarning: Non-stationary starting autoregressive parameters found. Using zeros as starting parameters.\n",
    "  warn('Non-stationary starting autoregressive parameters'"
   ]
  },
  {
   "cell_type": "code",
   "execution_count": null,
   "metadata": {},
   "outputs": [],
   "source": []
  },
  {
   "cell_type": "code",
   "execution_count": 159,
   "metadata": {},
   "outputs": [],
   "source": [
    "summary_results = []\n",
    "\n",
    "for index, row in test.iterrows():\n",
    "    D = len(train) - len(test) + index  \n",
    "    model = ARIMA(train.iloc[len(test)-index:-index-1], order=(2, 1, 1))\n",
    "    result = model.fit()\n",
    "    forecast = result.forecast()\n",
    "    summary_results.append(forecast)\n",
    "\n",
    "\n",
    "print(\"Forecasted Values:\", summary_results)"
   ]
  },
  {
   "cell_type": "code",
   "execution_count": null,
   "metadata": {},
   "outputs": [],
   "source": []
  },
  {
   "cell_type": "raw",
   "metadata": {},
   "source": [
    "I tried to run both above for loops to get a forecast data, both cases\n",
    "failed due to  : warn('Non-stationary starting autoregressive parameters'"
   ]
  },
  {
   "cell_type": "code",
   "execution_count": null,
   "metadata": {},
   "outputs": [],
   "source": []
  },
  {
   "cell_type": "raw",
   "metadata": {},
   "source": [
    "in order to find MAE and RSME I calculate 5 last forecasts manualy \n"
   ]
  },
  {
   "cell_type": "code",
   "execution_count": null,
   "metadata": {},
   "outputs": [],
   "source": []
  },
  {
   "cell_type": "code",
   "execution_count": null,
   "metadata": {},
   "outputs": [],
   "source": []
  },
  {
   "cell_type": "code",
   "execution_count": 192,
   "metadata": {},
   "outputs": [],
   "source": [
    "model_1 = ARIMA(df2.close[:-1], order=(2,1,1))\n",
    "results_1 = model_1.fit()\n",
    "forecast_1 = results_1.forecast(steps=1)"
   ]
  },
  {
   "cell_type": "code",
   "execution_count": 181,
   "metadata": {},
   "outputs": [],
   "source": [
    "model_2 = ARIMA(df2[:-2].close, order=(2,1,1))\n",
    "results_2 = model_2.fit()\n",
    "forecast_2 = results_2.forecast(steps=1)"
   ]
  },
  {
   "cell_type": "code",
   "execution_count": 184,
   "metadata": {},
   "outputs": [],
   "source": [
    "model_3 = ARIMA(df2[:-3].close, order=(2,1,1))\n",
    "results_3 = model_3.fit()\n",
    "forecast_3 = results_3.forecast(steps=1)"
   ]
  },
  {
   "cell_type": "code",
   "execution_count": 185,
   "metadata": {},
   "outputs": [],
   "source": [
    "model_4 = ARIMA(df2[:-4].close, order=(2,1,1))\n",
    "results_4 = model_4.fit()\n",
    "forecast_4 = results_4.forecast(steps=1)"
   ]
  },
  {
   "cell_type": "code",
   "execution_count": 186,
   "metadata": {},
   "outputs": [],
   "source": [
    "model_5 = ARIMA(df2[:-5].close, order=(2,1,1))\n",
    "results_5 = model_5.fit()\n",
    "forecast_5 = results_5.forecast(steps=1)"
   ]
  },
  {
   "cell_type": "code",
   "execution_count": 240,
   "metadata": {},
   "outputs": [],
   "source": [
    "forecast=[list(forecast_1), list(forecast_2), list(forecast_3), list(forecast_4), list(forecast_5)]"
   ]
  },
  {
   "cell_type": "code",
   "execution_count": 241,
   "metadata": {},
   "outputs": [
    {
     "data": {
      "text/plain": [
       "0    16564.127229\n",
       "1    16556.689970\n",
       "2    16553.683664\n",
       "3    16520.466291\n",
       "4    16420.876936\n",
       "dtype: float64"
      ]
     },
     "execution_count": 241,
     "metadata": {},
     "output_type": "execute_result"
    }
   ],
   "source": [
    "forecast = pd.Series(forecast)\n",
    "forecast = forecast.apply(lambda x: x[0])\n",
    "forecast"
   ]
  },
  {
   "cell_type": "code",
   "execution_count": 242,
   "metadata": {},
   "outputs": [],
   "source": [
    "actual = df2.close[-5:]"
   ]
  },
  {
   "cell_type": "code",
   "execution_count": 243,
   "metadata": {},
   "outputs": [
    {
     "data": {
      "text/plain": [
       "0    16568.61\n",
       "1    16568.61\n",
       "2    16560.22\n",
       "3    16568.61\n",
       "4    16577.74\n",
       "Name: close, dtype: float64"
      ]
     },
     "execution_count": 243,
     "metadata": {},
     "output_type": "execute_result"
    }
   ],
   "source": [
    "actual.index = range(0,5)\n",
    "actual"
   ]
  },
  {
   "cell_type": "code",
   "execution_count": 244,
   "metadata": {},
   "outputs": [
    {
     "data": {
      "text/plain": [
       "45.58918193440477"
      ]
     },
     "execution_count": 244,
     "metadata": {},
     "output_type": "execute_result"
    }
   ],
   "source": [
    "mae = np.mean(np.abs(actual - forecast))\n",
    "mae"
   ]
  },
  {
   "cell_type": "code",
   "execution_count": 246,
   "metadata": {},
   "outputs": [
    {
     "data": {
      "text/plain": [
       "73.65968180402997"
      ]
     },
     "execution_count": 246,
     "metadata": {},
     "output_type": "execute_result"
    }
   ],
   "source": [
    "rmse = np.sqrt(np.mean((actual - forecast) ** 2))\n",
    "rmse"
   ]
  },
  {
   "cell_type": "code",
   "execution_count": null,
   "metadata": {},
   "outputs": [],
   "source": []
  },
  {
   "cell_type": "code",
   "execution_count": null,
   "metadata": {},
   "outputs": [],
   "source": []
  },
  {
   "cell_type": "code",
   "execution_count": null,
   "metadata": {},
   "outputs": [],
   "source": []
  },
  {
   "cell_type": "code",
   "execution_count": null,
   "metadata": {},
   "outputs": [],
   "source": []
  },
  {
   "cell_type": "code",
   "execution_count": null,
   "metadata": {},
   "outputs": [],
   "source": []
  }
 ],
 "metadata": {
  "colab": {
   "provenance": []
  },
  "kernelspec": {
   "display_name": "Python 3 (ipykernel)",
   "language": "python",
   "name": "python3"
  },
  "language_info": {
   "codemirror_mode": {
    "name": "ipython",
    "version": 3
   },
   "file_extension": ".py",
   "mimetype": "text/x-python",
   "name": "python",
   "nbconvert_exporter": "python",
   "pygments_lexer": "ipython3",
   "version": "3.10.12"
  }
 },
 "nbformat": 4,
 "nbformat_minor": 4
}
