{
 "cells": [
  {
   "cell_type": "code",
   "execution_count": 101,
   "id": "85a3dea6-5c47-4c35-bea5-a88c47fe1188",
   "metadata": {},
   "outputs": [],
   "source": [
    "import numpy as np\n",
    "import sys\n",
    "import random\n",
    "from datetime import datetime, timedelta"
   ]
  },
  {
   "cell_type": "markdown",
   "id": "807e9665-c366-42a7-8d18-6de8161a87ad",
   "metadata": {},
   "source": [
    "# Tamrin1"
   ]
  },
  {
   "cell_type": "code",
   "execution_count": 4,
   "id": "82b65f7a-b1d4-4428-96e3-79055eeb5945",
   "metadata": {},
   "outputs": [
    {
     "data": {
      "text/plain": [
       "array([ 0, -1,  2, -1,  4, -1,  6, -1,  8, -1])"
      ]
     },
     "execution_count": 4,
     "metadata": {},
     "output_type": "execute_result"
    }
   ],
   "source": [
    "a = np.array([0, 1, 2, 3, 4, 5,6, 7, 8,9])\n",
    "a[a % 2 == 1] = -1\n",
    "a"
   ]
  },
  {
   "cell_type": "markdown",
   "id": "2e030c00-703b-47d3-9549-736acbd82fff",
   "metadata": {},
   "source": [
    "# Tamrin2"
   ]
  },
  {
   "cell_type": "code",
   "execution_count": 10,
   "id": "b9242762-e1f3-4aec-934e-49d8fed6efc1",
   "metadata": {},
   "outputs": [
    {
     "data": {
      "text/plain": [
       "array([[ 0, -1,  2, -1,  4],\n",
       "       [-1,  6, -1,  8, -1]])"
      ]
     },
     "execution_count": 10,
     "metadata": {},
     "output_type": "execute_result"
    }
   ],
   "source": [
    "b = a.reshape(2, -1)\n",
    "b"
   ]
  },
  {
   "cell_type": "markdown",
   "id": "5ea20551-7809-421f-93bd-69e5471a0fee",
   "metadata": {},
   "source": [
    "# Tamrin3"
   ]
  },
  {
   "cell_type": "code",
   "execution_count": 18,
   "id": "afdbe616-0492-4403-8880-e97923ae0442",
   "metadata": {},
   "outputs": [
    {
     "data": {
      "text/plain": [
       "(array([1, 3, 5, 7], dtype=int64),)"
      ]
     },
     "execution_count": 18,
     "metadata": {},
     "output_type": "execute_result"
    }
   ],
   "source": [
    "c1 = np.array([1, 2, 3, 2, 3, 4, 3, 4, 5, 6])\n",
    "c2 = np.array([7, 2, 10, 2, 7, 4, 9, 4, 9,8])\n",
    "\n",
    "np.where(c1 == c2)"
   ]
  },
  {
   "cell_type": "markdown",
   "id": "afb7bfd3-80b2-463a-bd63-f5bc279e602b",
   "metadata": {},
   "source": [
    "# Tamrin4"
   ]
  },
  {
   "cell_type": "code",
   "execution_count": 66,
   "id": "a77340a0-00b3-406b-beb5-0026206c2494",
   "metadata": {},
   "outputs": [
    {
     "data": {
      "text/plain": [
       "array([ 0,  1,  2,  3,  4,  5,  6,  7,  8,  9, 10, 11, 12, 13, 14])"
      ]
     },
     "execution_count": 66,
     "metadata": {},
     "output_type": "execute_result"
    }
   ],
   "source": [
    "d = np.array([1, 2, 3, ..., 15])\n",
    "d = np.arange(15)\n",
    "#np.set_printoptions(threshold=np.inf)\n",
    "d"
   ]
  },
  {
   "cell_type": "code",
   "execution_count": 64,
   "id": "8231af37-a3ce-40c0-b53f-dfc701332b34",
   "metadata": {},
   "outputs": [
    {
     "name": "stdout",
     "output_type": "stream",
     "text": [
      "There is Ellipsis in your numpy array\n"
     ]
    }
   ],
   "source": [
    "def find_ellipsis(x):\n",
    "    if len(np.arange(x[-1])) - len(x) > 0:\n",
    "        print('There is Ellipsis in your numpy array')\n",
    "    else:\n",
    "        print('**')\n",
    "\n",
    "find_ellipsis(np.array([1, 2, ... , 15]))"
   ]
  },
  {
   "cell_type": "markdown",
   "id": "b341c34c-0442-4ca9-a5b1-e00cd34f2ac8",
   "metadata": {},
   "source": [
    "# Tamrin5"
   ]
  },
  {
   "cell_type": "code",
   "execution_count": 69,
   "id": "50bbfa1b-956d-475f-8c0f-0a47a3f7266c",
   "metadata": {},
   "outputs": [
    {
     "data": {
      "text/plain": [
       "(array([1, 2, 3, 4, 5, 6]), array([1, 2, 3, 2, 1, 1], dtype=int64))"
      ]
     },
     "execution_count": 69,
     "metadata": {},
     "output_type": "execute_result"
    }
   ],
   "source": [
    "e = np.array([1, 2, 3, 2, 3, 4, 3, 4, 5, 6])\n",
    "unique, counts = np.unique(e, return_counts=True)\n",
    "unique, counts"
   ]
  },
  {
   "cell_type": "markdown",
   "id": "147b6397-d9c0-4638-907c-4f75974bed33",
   "metadata": {},
   "source": [
    "# Tamrin6"
   ]
  },
  {
   "cell_type": "code",
   "execution_count": 81,
   "id": "3a3a3027-366e-4078-a0bc-ffdb3366727d",
   "metadata": {},
   "outputs": [
    {
     "data": {
      "text/plain": [
       "array([33.68148155,  4.01815098, 43.50774547,  7.41390648, 48.27775945,\n",
       "       22.86508626, 44.21434909,  9.06476149, 30.56724203, 12.43992188,\n",
       "       24.50041327, 40.35493505, 33.90764865, 44.19808017, 16.35420525,\n",
       "       33.60968532,  7.81373485, 46.34566223, 44.65724804, 24.01345937,\n",
       "       28.12554611, 19.61787803, 33.82777439,  5.58194352, 17.37316552,\n",
       "        9.83708586, 31.74331908, 20.08730524, 24.75378505, 13.42623811])"
      ]
     },
     "execution_count": 81,
     "metadata": {},
     "output_type": "execute_result"
    }
   ],
   "source": [
    "rand_num = np.random.uniform(1, 50, size=(30,))\n",
    "rand_num"
   ]
  },
  {
   "cell_type": "code",
   "execution_count": 83,
   "id": "0d16906a-4da1-48d3-9518-913167e73a9e",
   "metadata": {},
   "outputs": [
    {
     "data": {
      "text/plain": [
       "array([30.        , 10.        , 30.        , 10.        , 30.        ,\n",
       "       22.86508626, 30.        , 10.        , 30.        , 12.43992188,\n",
       "       24.50041327, 30.        , 30.        , 30.        , 16.35420525,\n",
       "       30.        , 10.        , 30.        , 30.        , 24.01345937,\n",
       "       28.12554611, 19.61787803, 30.        , 10.        , 17.37316552,\n",
       "       10.        , 30.        , 20.08730524, 24.75378505, 13.42623811])"
      ]
     },
     "execution_count": 83,
     "metadata": {},
     "output_type": "execute_result"
    }
   ],
   "source": [
    "rand_num[rand_num < 10] = 10\n",
    "rand_num[rand_num > 30] = 30\n",
    "rand_num"
   ]
  },
  {
   "cell_type": "markdown",
   "id": "b5d811eb-b4a6-4ebe-86f1-758380ba63e0",
   "metadata": {},
   "source": [
    "# Tamrin7"
   ]
  },
  {
   "cell_type": "code",
   "execution_count": 85,
   "id": "5b47dca9-b6a3-466a-a64c-6798c1effb3c",
   "metadata": {},
   "outputs": [
    {
     "data": {
      "text/plain": [
       "array([[[0, 1, 2]],\n",
       "\n",
       "       [[4, 5, 6]],\n",
       "\n",
       "       [[7, 8, 9]]])"
      ]
     },
     "execution_count": 85,
     "metadata": {},
     "output_type": "execute_result"
    }
   ],
   "source": [
    "array_of_arrays = np.array([[[0, 1, 2]],[[4, 5, 6]],[[7, 8, 9]]])\n",
    "array_of_arrays"
   ]
  },
  {
   "cell_type": "code",
   "execution_count": 88,
   "id": "baf24a8a-e4d2-4247-a44b-983466828e2d",
   "metadata": {},
   "outputs": [
    {
     "data": {
      "text/plain": [
       "array([[0, 1, 2, 4, 5, 6, 7, 8, 9]])"
      ]
     },
     "execution_count": 88,
     "metadata": {},
     "output_type": "execute_result"
    }
   ],
   "source": [
    "change_3d_array = np.reshape(array_of_arrays, (1, np.product(array_of_arrays.shape)))\n",
    "change_3d_array"
   ]
  },
  {
   "cell_type": "markdown",
   "id": "7233dd6a-9302-42f8-99eb-3e5e4bd4bd7e",
   "metadata": {},
   "source": [
    "# Tamrin8"
   ]
  },
  {
   "cell_type": "code",
   "execution_count": 91,
   "id": "6d31c6b1-5dad-4f15-85c0-b0f908625a55",
   "metadata": {},
   "outputs": [
    {
     "data": {
      "text/plain": [
       "array([[9, 9, 4, 8],\n",
       "       [8, 1, 5, 3],\n",
       "       [6, 3, 3, 3],\n",
       "       [2, 1, 9, 5],\n",
       "       [1, 7, 3, 5],\n",
       "       [2, 6, 4, 5],\n",
       "       [5, 4, 8, 2],\n",
       "       [2, 8, 8, 1]])"
      ]
     },
     "execution_count": 91,
     "metadata": {},
     "output_type": "execute_result"
    }
   ],
   "source": [
    "np.random.seed(100)\n",
    "f = np.random.randint(1,10, [8,4])\n",
    "f"
   ]
  },
  {
   "cell_type": "code",
   "execution_count": 94,
   "id": "50b1d16c-19f9-43fe-a578-45ce0a4eb910",
   "metadata": {},
   "outputs": [
    {
     "data": {
      "text/plain": [
       "array([9, 8, 6, 9, 7, 6, 8, 8])"
      ]
     },
     "execution_count": 94,
     "metadata": {},
     "output_type": "execute_result"
    }
   ],
   "source": [
    "max_row = np.max(f, axis = 1)\n",
    "max_row"
   ]
  },
  {
   "cell_type": "code",
   "execution_count": 97,
   "id": "dd50c470-de25-4aee-b1ce-9c35112c73df",
   "metadata": {},
   "outputs": [
    {
     "data": {
      "text/plain": [
       "array([9, 9, 9, 8])"
      ]
     },
     "execution_count": 97,
     "metadata": {},
     "output_type": "execute_result"
    }
   ],
   "source": [
    "max_column = np.max(f, axis = 0)\n",
    "max_column"
   ]
  },
  {
   "cell_type": "markdown",
   "id": "83691fb8-2d36-4db1-a479-cab86a3842cf",
   "metadata": {},
   "source": [
    "# Tamrin9"
   ]
  },
  {
   "cell_type": "code",
   "execution_count": 131,
   "id": "b64e6085-32fd-4274-8f5c-4fe48acb2954",
   "metadata": {},
   "outputs": [
    {
     "data": {
      "text/plain": [
       "array(['2018-02-01', '2018-02-03', '2018-02-05', '2018-02-07',\n",
       "       '2018-02-09', '2018-02-11', '2018-02-13', '2018-02-15',\n",
       "       '2018-02-17', '2018-02-19', '2018-02-21', '2018-02-23'],\n",
       "      dtype='datetime64[D]')"
      ]
     },
     "execution_count": 131,
     "metadata": {},
     "output_type": "execute_result"
    }
   ],
   "source": [
    "arr1 = np.arange(np.datetime64(\"2018-02-01\"), np.datetime64(\"2018-02-24\"), np.timedelta64(2, 'D'))\n",
    "arr1"
   ]
  },
  {
   "cell_type": "code",
   "execution_count": 136,
   "id": "0e2cfb1f-953a-4021-b5b7-b053cfc57348",
   "metadata": {},
   "outputs": [
    {
     "data": {
      "text/plain": [
       "array(['2018-02-02', '2018-02-04', '2018-02-06', '2018-02-08',\n",
       "       '2018-02-10', '2018-02-12', '2018-02-14', '2018-02-16',\n",
       "       '2018-02-18', '2018-02-20', '2018-02-22', '2018-02-24'],\n",
       "      dtype='datetime64[D]')"
      ]
     },
     "execution_count": 136,
     "metadata": {},
     "output_type": "execute_result"
    }
   ],
   "source": [
    "arr2 = np.arange(np.datetime64(\"2018-02-02\"), np.datetime64(\"2018-02-25\"), np.timedelta64(2, 'D'))\n",
    "arr2"
   ]
  },
  {
   "cell_type": "code",
   "execution_count": 137,
   "id": "89f00c21-ff2b-476a-a688-6ef81a94f26d",
   "metadata": {},
   "outputs": [
    {
     "data": {
      "text/plain": [
       "array([['2018-02-01', '2018-02-02'],\n",
       "       ['2018-02-03', '2018-02-04'],\n",
       "       ['2018-02-05', '2018-02-06'],\n",
       "       ['2018-02-07', '2018-02-08'],\n",
       "       ['2018-02-09', '2018-02-10'],\n",
       "       ['2018-02-11', '2018-02-12'],\n",
       "       ['2018-02-13', '2018-02-14'],\n",
       "       ['2018-02-15', '2018-02-16'],\n",
       "       ['2018-02-17', '2018-02-18'],\n",
       "       ['2018-02-19', '2018-02-20'],\n",
       "       ['2018-02-21', '2018-02-22'],\n",
       "       ['2018-02-23', '2018-02-24']], dtype='datetime64[D]')"
      ]
     },
     "execution_count": 137,
     "metadata": {},
     "output_type": "execute_result"
    }
   ],
   "source": [
    "con = np.stack((arr1, arr2), axis = 1)\n",
    "con"
   ]
  },
  {
   "cell_type": "code",
   "execution_count": 138,
   "id": "8ae74df8-d15f-4275-b1ed-02980ee8a23d",
   "metadata": {},
   "outputs": [
    {
     "data": {
      "text/plain": [
       "array([['2018-02-01', '2018-02-02', '2018-02-03', '2018-02-04',\n",
       "        '2018-02-05', '2018-02-06', '2018-02-07', '2018-02-08',\n",
       "        '2018-02-09', '2018-02-10', '2018-02-11', '2018-02-12',\n",
       "        '2018-02-13', '2018-02-14', '2018-02-15', '2018-02-16',\n",
       "        '2018-02-17', '2018-02-18', '2018-02-19', '2018-02-20',\n",
       "        '2018-02-21', '2018-02-22', '2018-02-23', '2018-02-24']],\n",
       "      dtype='datetime64[D]')"
      ]
     },
     "execution_count": 138,
     "metadata": {},
     "output_type": "execute_result"
    }
   ],
   "source": [
    "change_con = np.reshape(con, (1, np.product(con.shape)))\n",
    "change_con"
   ]
  }
 ],
 "metadata": {
  "kernelspec": {
   "display_name": "Python 3 (ipykernel)",
   "language": "python",
   "name": "python3"
  },
  "language_info": {
   "codemirror_mode": {
    "name": "ipython",
    "version": 3
   },
   "file_extension": ".py",
   "mimetype": "text/x-python",
   "name": "python",
   "nbconvert_exporter": "python",
   "pygments_lexer": "ipython3",
   "version": "3.11.1"
  }
 },
 "nbformat": 4,
 "nbformat_minor": 5
}
