{
  "nbformat": 4,
  "nbformat_minor": 0,
  "metadata": {
    "colab": {
      "provenance": []
    },
    "kernelspec": {
      "name": "python3",
      "display_name": "Python 3"
    },
    "language_info": {
      "name": "python"
    }
  },
  "cells": [
    {
      "cell_type": "code",
      "execution_count": 1,
      "metadata": {
        "id": "wo1lWQ6fZAfP"
      },
      "outputs": [],
      "source": [
        "import numpy as np\n",
        "\n",
        "class GradientDescent:\n",
        "    def __init__(self, learning_rate=0.01, num_iterations=1000):\n",
        "        self.learning_rate = learning_rate\n",
        "        self.num_iterations = num_iterations\n",
        "        self.theta = None\n",
        "\n",
        "    def fit(self, X, y):\n",
        "        num_samples, num_features = X.shape\n",
        "        self.theta = np.zeros(num_features)  # Initialize the parameters\n",
        "\n",
        "        for _ in range(self.num_iterations):\n",
        "            # Calculate the predicted values\n",
        "            y_pred = np.dot(X, self.theta)\n",
        "\n",
        "            # Calculate the gradient\n",
        "            gradient = (1 / num_samples) * np.dot(X.T, (y_pred - y))\n",
        "\n",
        "            # Update the parameters\n",
        "            self.theta -= self.learning_rate * gradient\n",
        "\n",
        "    def predict(self, X):\n",
        "        if self.theta is None:\n",
        "            raise Exception(\"Model has not been trained yet.\")\n",
        "\n",
        "        return np.dot(X, self.theta)"
      ]
    },
    {
      "cell_type": "code",
      "source": [
        "X = np.array([[1, 2, 3], [4, 5, 6], [7, 8, 9]])  # Input features\n",
        "y = np.array([4, 8, 12])  # Target values\n",
        "\n",
        "gd = GradientDescent(learning_rate=0.01, num_iterations=1000)\n",
        "gd.fit(X, y)\n",
        "\n",
        "new_X = np.array([[2, 3, 4], [5, 6, 7]])  # New input data\n",
        "predictions = gd.predict(new_X)\n",
        "\n",
        "print(\"Predictions:\", predictions)"
      ],
      "metadata": {
        "colab": {
          "base_uri": "https://localhost:8080/"
        },
        "id": "o9PxNbFGZEhh",
        "outputId": "ed19605d-1ff3-4080-e92b-4ed09a19358b"
      },
      "execution_count": 2,
      "outputs": [
        {
          "output_type": "stream",
          "name": "stdout",
          "text": [
            "Predictions: [5.32004849 9.33260254]\n"
          ]
        }
      ]
    }
  ]
}