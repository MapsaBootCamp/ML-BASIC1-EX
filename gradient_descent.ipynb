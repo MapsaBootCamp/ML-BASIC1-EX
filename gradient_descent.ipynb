{
 "cells": [
  {
   "cell_type": "code",
   "execution_count": 1,
   "id": "b3710848-c81b-484e-8a91-e540d71f1e96",
   "metadata": {},
   "outputs": [],
   "source": [
    "import numpy as np"
   ]
  },
  {
   "cell_type": "code",
   "execution_count": null,
   "id": "5175eea5-4438-488c-a4de-0ac14a70295e",
   "metadata": {},
   "outputs": [],
   "source": [
    "class GradientDescent_LinearRegression:\n",
    "    def __init__(self, learning_rate=0.1, iteration=10000):\n",
    "        self.learning_rate = learning_rate\n",
    "        self.iteration = iteration\n",
    "        self.weights = None\n",
    "        self.bias = None\n",
    "\n",
    "    def fit(self, X, y):\n",
    "        samples, features = X.shape\n",
    "        self.weights = np.zeros(features)\n",
    "        self.bias = 0\n",
    "\n",
    "        for i in range(self.iteration):\n",
    "            y_pred = np.dot(X, self.weights) + self.bias\n",
    "            grad_w = (1 / samples) * np.dot(X.T, (y_pred - y))\n",
    "            grad_b = (1 / samples) * np.sum(y_pred - y)\n",
    "            self.weights = self.weights - self.learning_rate * grad_w\n",
    "            self.bias = self.bias - self.learning_rate * grad_b\n",
    "\n",
    "    def predict(self, X):\n",
    "        return np.dot(X, self.weights) + self.bias"
   ]
  }
 ],
 "metadata": {
  "kernelspec": {
   "display_name": "Python 3 (ipykernel)",
   "language": "python",
   "name": "python3"
  },
  "language_info": {
   "codemirror_mode": {
    "name": "ipython",
    "version": 3
   },
   "file_extension": ".py",
   "mimetype": "text/x-python",
   "name": "python",
   "nbconvert_exporter": "python",
   "pygments_lexer": "ipython3",
   "version": "3.10.12"
  }
 },
 "nbformat": 4,
 "nbformat_minor": 5
}
