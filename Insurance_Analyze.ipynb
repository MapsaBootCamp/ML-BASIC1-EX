{
 "cells": [
  {
   "cell_type": "code",
   "execution_count": 1,
   "id": "27c0d67b",
   "metadata": {},
   "outputs": [],
   "source": [
    "import pandas as pd"
   ]
  },
  {
   "cell_type": "code",
   "execution_count": 2,
   "id": "b2690b5c",
   "metadata": {},
   "outputs": [
    {
     "data": {
      "text/html": [
       "<div>\n",
       "<style scoped>\n",
       "    .dataframe tbody tr th:only-of-type {\n",
       "        vertical-align: middle;\n",
       "    }\n",
       "\n",
       "    .dataframe tbody tr th {\n",
       "        vertical-align: top;\n",
       "    }\n",
       "\n",
       "    .dataframe thead th {\n",
       "        text-align: right;\n",
       "    }\n",
       "</style>\n",
       "<table border=\"1\" class=\"dataframe\">\n",
       "  <thead>\n",
       "    <tr style=\"text-align: right;\">\n",
       "      <th></th>\n",
       "      <th>Customer Id</th>\n",
       "      <th>Age</th>\n",
       "      <th>Employment Type</th>\n",
       "      <th>GraduateOrNot</th>\n",
       "      <th>AnnualIncome</th>\n",
       "      <th>FamilyMembers</th>\n",
       "      <th>ChronicDiseases</th>\n",
       "      <th>FrequentFlyer</th>\n",
       "      <th>EverTravelledAbroad</th>\n",
       "      <th>TravelInsurance</th>\n",
       "    </tr>\n",
       "  </thead>\n",
       "  <tbody>\n",
       "    <tr>\n",
       "      <th>0</th>\n",
       "      <td>3JUN0VW6F043</td>\n",
       "      <td>34</td>\n",
       "      <td>Private Sector/Self Employed</td>\n",
       "      <td>Yes</td>\n",
       "      <td>1300000</td>\n",
       "      <td>6</td>\n",
       "      <td>0</td>\n",
       "      <td>Yes</td>\n",
       "      <td>No</td>\n",
       "      <td>No</td>\n",
       "    </tr>\n",
       "    <tr>\n",
       "      <th>1</th>\n",
       "      <td>VLHY2ABIR4QL</td>\n",
       "      <td>28</td>\n",
       "      <td>Private Sector/Self Employed</td>\n",
       "      <td>Yes</td>\n",
       "      <td>750000</td>\n",
       "      <td>7</td>\n",
       "      <td>0</td>\n",
       "      <td>Yes</td>\n",
       "      <td>No</td>\n",
       "      <td>No</td>\n",
       "    </tr>\n",
       "    <tr>\n",
       "      <th>2</th>\n",
       "      <td>6E3F7UNXYNFF</td>\n",
       "      <td>28</td>\n",
       "      <td>Private Sector/Self Employed</td>\n",
       "      <td>Yes</td>\n",
       "      <td>750000</td>\n",
       "      <td>6</td>\n",
       "      <td>0</td>\n",
       "      <td>Yes</td>\n",
       "      <td>No</td>\n",
       "      <td>No</td>\n",
       "    </tr>\n",
       "    <tr>\n",
       "      <th>3</th>\n",
       "      <td>JJ8R0ZRYWR31</td>\n",
       "      <td>32</td>\n",
       "      <td>Government Sector</td>\n",
       "      <td>Yes</td>\n",
       "      <td>800000</td>\n",
       "      <td>6</td>\n",
       "      <td>1</td>\n",
       "      <td>No</td>\n",
       "      <td>No</td>\n",
       "      <td>No</td>\n",
       "    </tr>\n",
       "    <tr>\n",
       "      <th>4</th>\n",
       "      <td>2WGFUEX6IEHM</td>\n",
       "      <td>34</td>\n",
       "      <td>Private Sector/Self Employed</td>\n",
       "      <td>Yes</td>\n",
       "      <td>700000</td>\n",
       "      <td>4</td>\n",
       "      <td>1</td>\n",
       "      <td>No</td>\n",
       "      <td>No</td>\n",
       "      <td>No</td>\n",
       "    </tr>\n",
       "    <tr>\n",
       "      <th>...</th>\n",
       "      <td>...</td>\n",
       "      <td>...</td>\n",
       "      <td>...</td>\n",
       "      <td>...</td>\n",
       "      <td>...</td>\n",
       "      <td>...</td>\n",
       "      <td>...</td>\n",
       "      <td>...</td>\n",
       "      <td>...</td>\n",
       "      <td>...</td>\n",
       "    </tr>\n",
       "    <tr>\n",
       "      <th>1585</th>\n",
       "      <td>W9JDK752JWHA</td>\n",
       "      <td>29</td>\n",
       "      <td>Private Sector/Self Employed</td>\n",
       "      <td>Yes</td>\n",
       "      <td>600000</td>\n",
       "      <td>3</td>\n",
       "      <td>0</td>\n",
       "      <td>No</td>\n",
       "      <td>No</td>\n",
       "      <td>No</td>\n",
       "    </tr>\n",
       "    <tr>\n",
       "      <th>1586</th>\n",
       "      <td>2JEE5P5T9MT0</td>\n",
       "      <td>34</td>\n",
       "      <td>Private Sector/Self Employed</td>\n",
       "      <td>Yes</td>\n",
       "      <td>850000</td>\n",
       "      <td>3</td>\n",
       "      <td>1</td>\n",
       "      <td>No</td>\n",
       "      <td>Yes</td>\n",
       "      <td>No</td>\n",
       "    </tr>\n",
       "    <tr>\n",
       "      <th>1587</th>\n",
       "      <td>797K83M5QWO2</td>\n",
       "      <td>34</td>\n",
       "      <td>Private Sector/Self Employed</td>\n",
       "      <td>No</td>\n",
       "      <td>1300000</td>\n",
       "      <td>4</td>\n",
       "      <td>0</td>\n",
       "      <td>No</td>\n",
       "      <td>No</td>\n",
       "      <td>No</td>\n",
       "    </tr>\n",
       "    <tr>\n",
       "      <th>1588</th>\n",
       "      <td>8V9QYC8TCCMF</td>\n",
       "      <td>33</td>\n",
       "      <td>Government Sector</td>\n",
       "      <td>Yes</td>\n",
       "      <td>400000</td>\n",
       "      <td>5</td>\n",
       "      <td>0</td>\n",
       "      <td>No</td>\n",
       "      <td>No</td>\n",
       "      <td>No</td>\n",
       "    </tr>\n",
       "    <tr>\n",
       "      <th>1589</th>\n",
       "      <td>8VEME4MXPTBC</td>\n",
       "      <td>28</td>\n",
       "      <td>Private Sector/Self Employed</td>\n",
       "      <td>Yes</td>\n",
       "      <td>750000</td>\n",
       "      <td>5</td>\n",
       "      <td>1</td>\n",
       "      <td>Yes</td>\n",
       "      <td>No</td>\n",
       "      <td>No</td>\n",
       "    </tr>\n",
       "  </tbody>\n",
       "</table>\n",
       "<p>1590 rows × 10 columns</p>\n",
       "</div>"
      ],
      "text/plain": [
       "       Customer Id  Age               Employment Type GraduateOrNot  \\\n",
       "0     3JUN0VW6F043   34  Private Sector/Self Employed           Yes   \n",
       "1     VLHY2ABIR4QL   28  Private Sector/Self Employed           Yes   \n",
       "2     6E3F7UNXYNFF   28  Private Sector/Self Employed           Yes   \n",
       "3     JJ8R0ZRYWR31   32             Government Sector           Yes   \n",
       "4     2WGFUEX6IEHM   34  Private Sector/Self Employed           Yes   \n",
       "...            ...  ...                           ...           ...   \n",
       "1585  W9JDK752JWHA   29  Private Sector/Self Employed           Yes   \n",
       "1586  2JEE5P5T9MT0   34  Private Sector/Self Employed           Yes   \n",
       "1587  797K83M5QWO2   34  Private Sector/Self Employed            No   \n",
       "1588  8V9QYC8TCCMF   33             Government Sector           Yes   \n",
       "1589  8VEME4MXPTBC   28  Private Sector/Self Employed           Yes   \n",
       "\n",
       "      AnnualIncome  FamilyMembers  ChronicDiseases FrequentFlyer  \\\n",
       "0          1300000              6                0           Yes   \n",
       "1           750000              7                0           Yes   \n",
       "2           750000              6                0           Yes   \n",
       "3           800000              6                1            No   \n",
       "4           700000              4                1            No   \n",
       "...            ...            ...              ...           ...   \n",
       "1585        600000              3                0            No   \n",
       "1586        850000              3                1            No   \n",
       "1587       1300000              4                0            No   \n",
       "1588        400000              5                0            No   \n",
       "1589        750000              5                1           Yes   \n",
       "\n",
       "     EverTravelledAbroad TravelInsurance  \n",
       "0                     No              No  \n",
       "1                     No              No  \n",
       "2                     No              No  \n",
       "3                     No              No  \n",
       "4                     No              No  \n",
       "...                  ...             ...  \n",
       "1585                  No              No  \n",
       "1586                 Yes              No  \n",
       "1587                  No              No  \n",
       "1588                  No              No  \n",
       "1589                  No              No  \n",
       "\n",
       "[1590 rows x 10 columns]"
      ]
     },
     "execution_count": 2,
     "metadata": {},
     "output_type": "execute_result"
    }
   ],
   "source": [
    "df=pd.read_csv('train.csv')\n",
    "df"
   ]
  },
  {
   "cell_type": "markdown",
   "id": "d22ffd95",
   "metadata": {},
   "source": [
    "ابتدا تعداد سطر و سپس تعداد ستون‌های این دادگان را به دست آورید‌ (با space، جدا کنید)"
   ]
  },
  {
   "cell_type": "code",
   "execution_count": 3,
   "id": "0f3a7f1d",
   "metadata": {},
   "outputs": [
    {
     "name": "stdout",
     "output_type": "stream",
     "text": [
      "1590 10\n"
     ]
    }
   ],
   "source": [
    "print(df.shape[0],df.shape[1])"
   ]
  },
  {
   "cell_type": "markdown",
   "id": "ffa2d199",
   "metadata": {},
   "source": [
    "متوسط درآمد سالانه مشتریان چه‌ قدر است (فقط قسمت عدد صحیح)؟"
   ]
  },
  {
   "cell_type": "code",
   "execution_count": 4,
   "id": "610ee206",
   "metadata": {},
   "outputs": [
    {
     "data": {
      "text/plain": [
       "928553"
      ]
     },
     "execution_count": 4,
     "metadata": {},
     "output_type": "execute_result"
    }
   ],
   "source": [
    "int(df['AnnualIncome'].mean())"
   ]
  },
  {
   "cell_type": "markdown",
   "id": "da16afd6",
   "metadata": {},
   "source": [
    "چند نفر از مشتریان سابقه سفر خارجی داشته‌اند؟"
   ]
  },
  {
   "cell_type": "code",
   "execution_count": 5,
   "id": "567d8711",
   "metadata": {},
   "outputs": [
    {
     "data": {
      "text/plain": [
       "302"
      ]
     },
     "execution_count": 5,
     "metadata": {},
     "output_type": "execute_result"
    }
   ],
   "source": [
    "df[df['EverTravelledAbroad']=='Yes'].shape[0]"
   ]
  },
  {
   "cell_type": "markdown",
   "id": "8d545820",
   "metadata": {},
   "source": [
    "بیشتر افراد، در بخش خصوصی به کار گرفته شده‌اند و یا بخش دولتی؟ چند درصد افراد در آن بخش مشغول هستند (با دقت دو رقم اعشار)؟"
   ]
  },
  {
   "cell_type": "code",
   "execution_count": 6,
   "id": "4f7c5b14",
   "metadata": {},
   "outputs": [
    {
     "data": {
      "text/plain": [
       "Private Sector/Self Employed    72.641509\n",
       "Government Sector               27.358491\n",
       "Name: Employment Type, dtype: float64"
      ]
     },
     "execution_count": 6,
     "metadata": {},
     "output_type": "execute_result"
    }
   ],
   "source": [
    "df['Employment Type'].value_counts(normalize=True)*100"
   ]
  },
  {
   "cell_type": "markdown",
   "id": "3eccf1e6",
   "metadata": {},
   "source": [
    "چند درصد از افرادی که بیماری زمینه‌ای دارند، خودشان را برای سفر بیمه کرده‌اند (دقت تا دو رقم اعشار)؟"
   ]
  },
  {
   "cell_type": "code",
   "execution_count": 7,
   "id": "04cdaab9",
   "metadata": {},
   "outputs": [
    {
     "data": {
      "text/plain": [
       "10.50314465408805"
      ]
     },
     "execution_count": 7,
     "metadata": {},
     "output_type": "execute_result"
    }
   ],
   "source": [
    "((df.loc[(df['ChronicDiseases'] == 1) & (df['TravelInsurance'] == 'Yes')].shape[0])/(df.shape[0]))*100"
   ]
  }
 ],
 "metadata": {
  "kernelspec": {
   "display_name": "Python 3 (ipykernel)",
   "language": "python",
   "name": "python3"
  },
  "language_info": {
   "codemirror_mode": {
    "name": "ipython",
    "version": 3
   },
   "file_extension": ".py",
   "mimetype": "text/x-python",
   "name": "python",
   "nbconvert_exporter": "python",
   "pygments_lexer": "ipython3",
   "version": "3.9.13"
  }
 },
 "nbformat": 4,
 "nbformat_minor": 5
}
