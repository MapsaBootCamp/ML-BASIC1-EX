{
 "cells": [
  {
   "cell_type": "code",
   "execution_count": 10,
   "id": "2f938cac-0208-4ffa-b5af-951cbbf6232b",
   "metadata": {},
   "outputs": [],
   "source": [
    "import pandas as pd\n",
    "import re"
   ]
  },
  {
   "cell_type": "code",
   "execution_count": 11,
   "id": "87bcca7e-1179-4106-a6aa-f9e5ded12756",
   "metadata": {},
   "outputs": [],
   "source": [
    "df_supermarket = pd.read_csv('supermarket.csv')"
   ]
  },
  {
   "cell_type": "code",
   "execution_count": 12,
   "id": "64cb7711-10e2-4eea-b76e-eb349cd39943",
   "metadata": {},
   "outputs": [],
   "source": [
    "df_supermarket.sort_values(by=\"Date\",ignore_index=True,inplace=True)"
   ]
  },
  {
   "cell_type": "code",
   "execution_count": 13,
   "id": "a65eb59b-e367-43a4-a991-769adcc1a60f",
   "metadata": {},
   "outputs": [
    {
     "data": {
      "text/plain": [
       "137"
      ]
     },
     "execution_count": 13,
     "metadata": {},
     "output_type": "execute_result"
    }
   ],
   "source": [
    "q1 = len(df_supermarket['Product'].unique())\n",
    "q1"
   ]
  },
  {
   "cell_type": "code",
   "execution_count": 14,
   "id": "871e50a4-8691-4c5a-b457-2107feda8a4b",
   "metadata": {},
   "outputs": [
    {
     "data": {
      "text/plain": [
       "44.93"
      ]
     },
     "execution_count": 14,
     "metadata": {},
     "output_type": "execute_result"
    }
   ],
   "source": [
    "q2 = round(len(df_supermarket['Product'])/len(df_supermarket['Date'].unique()),2)\n",
    "q2"
   ]
  },
  {
   "cell_type": "code",
   "execution_count": 15,
   "id": "a57ddce2-8dce-42bc-904e-a159d9223481",
   "metadata": {},
   "outputs": [],
   "source": [
    "dict_less_faver = {}\n",
    "def counter_item(x):\n",
    "    global dict_less_faver\n",
    "    if x in dict_less_faver:\n",
    "        dict_less_faver[x] += 1\n",
    "    else:\n",
    "        dict_less_faver[x] = 1\n",
    "    return dict_less_faver"
   ]
  },
  {
   "cell_type": "code",
   "execution_count": 16,
   "id": "ec9d25f7-9a28-4941-8453-598c9d29cedf",
   "metadata": {},
   "outputs": [
    {
     "data": {
      "text/plain": [
       "['preservation products', 'kitchen utensil', 'baby cosmetics', 'bags']"
      ]
     },
     "execution_count": 16,
     "metadata": {},
     "output_type": "execute_result"
    }
   ],
   "source": [
    "q3 = []\n",
    "df_supermarket['Product'].apply(counter_item)\n",
    "\n",
    "less_faver = pd.DataFrame(dict_less_faver.values(),index=dict_less_faver.keys()).sort_values(0).head(4).index\n",
    "\n",
    "for i in less_faver:\n",
    "    q3.append(i)\n",
    "q3"
   ]
  },
  {
   "cell_type": "code",
   "execution_count": 17,
   "id": "5eccab69-b80b-438e-9884-2e0b85e7f12d",
   "metadata": {},
   "outputs": [
    {
     "data": {
      "text/plain": [
       "['0ZRF32AJ06BC',\n",
       " 'KACGV5OJXMJW',\n",
       " '0P1TPIH74E79',\n",
       " 'ED8WY0DE27XG',\n",
       " 'NQQZGF4K1FE0']"
      ]
     },
     "execution_count": 17,
     "metadata": {},
     "output_type": "execute_result"
    }
   ],
   "source": [
    "q4 =df_supermarket[df_supermarket['Date'].str.contains('2020',case=True)]['Customer Id'].value_counts()[:5].index.tolist()\n",
    "q4"
   ]
  },
  {
   "cell_type": "code",
   "execution_count": 18,
   "id": "06ac055c-3eff-4838-b883-5867a6ed1466",
   "metadata": {},
   "outputs": [
    {
     "data": {
      "text/plain": [
       "'Wednesday'"
      ]
     },
     "execution_count": 18,
     "metadata": {},
     "output_type": "execute_result"
    }
   ],
   "source": [
    "df_supermarket['week_day'] = pd.to_datetime(df_supermarket['Date']).dt.day_name()\n",
    "q5 = df_supermarket['week_day'].value_counts().index[0]\n",
    "q5"
   ]
  },
  {
   "cell_type": "code",
   "execution_count": 21,
   "id": "a32f1182-25ef-4539-97be-7e14cbfe6242",
   "metadata": {},
   "outputs": [],
   "source": [
    "with open('output.txt','w') as file:\n",
    "    file.write(str(q1))\n",
    "    file.write('\\n')\n",
    "    file.write(str(q2))\n",
    "    file.write('\\n')\n",
    "    file.write(str(q3))\n",
    "    file.write('\\n')\n",
    "    file.write(str(q4))\n",
    "    file.write('\\n')\n",
    "    file.write(str(q5))"
   ]
  },
  {
   "cell_type": "code",
   "execution_count": null,
   "id": "350674f8-efe9-4028-a813-61f546039e74",
   "metadata": {},
   "outputs": [],
   "source": []
  }
 ],
 "metadata": {
  "kernelspec": {
   "display_name": "Python 3 (ipykernel)",
   "language": "python",
   "name": "python3"
  },
  "language_info": {
   "codemirror_mode": {
    "name": "ipython",
    "version": 3
   },
   "file_extension": ".py",
   "mimetype": "text/x-python",
   "name": "python",
   "nbconvert_exporter": "python",
   "pygments_lexer": "ipython3",
   "version": "3.10.12"
  },
  "widgets": {
   "application/vnd.jupyter.widget-state+json": {
    "state": {},
    "version_major": 2,
    "version_minor": 0
   }
  }
 },
 "nbformat": 4,
 "nbformat_minor": 5
}
