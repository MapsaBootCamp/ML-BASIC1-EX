{
  "nbformat": 4,
  "nbformat_minor": 0,
  "metadata": {
    "colab": {
      "provenance": []
    },
    "kernelspec": {
      "name": "python3",
      "display_name": "Python 3"
    },
    "language_info": {
      "name": "python"
    }
  },
  "cells": [
    {
      "cell_type": "markdown",
      "source": [
        "# تمامی سوالات با نامپای حل شود و لیست ها به\n",
        "# numpy array\n",
        "\n",
        "# تبدیل شود\n",
        " نامپای اری = numpy array\n",
        "\n",
        " اری = array"
      ],
      "metadata": {
        "id": "9U1oR4G6phxk"
      }
    },
    {
      "cell_type": "code",
      "source": [
        "import pandas as pd\n",
        "import numpy as np"
      ],
      "metadata": {
        "id": "T4q5bTWOqXzd"
      },
      "execution_count": 1,
      "outputs": []
    },
    {
      "cell_type": "markdown",
      "source": [
        "۱-\n",
        "اعداد فرد را با -۱ جایگزین کنید\n",
        "\n",
        "[0, 1, 2, 3, 4, 5, 6, 7, 8, 9]"
      ],
      "metadata": {
        "id": "-aJMm-G8j-tk"
      }
    },
    {
      "cell_type": "code",
      "execution_count": 2,
      "metadata": {
        "colab": {
          "base_uri": "https://localhost:8080/"
        },
        "id": "QoDo1HE6j9d7",
        "outputId": "2617a0f6-83ef-4a67-d987-d5ba1e39554b"
      },
      "outputs": [
        {
          "output_type": "execute_result",
          "data": {
            "text/plain": [
              "array([ 0, -1,  2, -1,  4, -1,  6, -1,  8, -1])"
            ]
          },
          "metadata": {},
          "execution_count": 2
        }
      ],
      "source": [
        "arr= np.array([0, 1, 2, 3, 4, 5, 6, 7, 8, 9])\n",
        "odd_indices = arr % 2 != 0\n",
        "arr[odd_indices] = -1\n",
        "arr"
      ]
    },
    {
      "cell_type": "markdown",
      "source": [
        "۲- خروجی کد بالا را به شکل زیر تغییر دهید"
      ],
      "metadata": {
        "id": "crI0NSuDlVGh"
      }
    },
    {
      "cell_type": "code",
      "source": [
        "reshaped_arr = np.reshape(arr, (2, 5))\n",
        "reshaped_arr"
      ],
      "metadata": {
        "colab": {
          "base_uri": "https://localhost:8080/"
        },
        "id": "Hl2Xmim_lPjI",
        "outputId": "6d3f0621-51ce-412e-b05d-1b9c1a737030"
      },
      "execution_count": 5,
      "outputs": [
        {
          "output_type": "execute_result",
          "data": {
            "text/plain": [
              "array([[ 0, -1,  2, -1,  4],\n",
              "       [-1,  6, -1,  8, -1]])"
            ]
          },
          "metadata": {},
          "execution_count": 5
        }
      ]
    },
    {
      "cell_type": "markdown",
      "source": [
        " [1,2,3,2,3,4,3,4,5,6]\n",
        "\n",
        "[7,2,10,2,7,4,9,4,9,8]\n",
        "\n",
        "۳- مشخص کنید بین دو لیست گفته شده کدام اعضا و در چه ایندکسی اشتراک دارند"
      ],
      "metadata": {
        "id": "7Bs4QG5nl7hD"
      }
    },
    {
      "cell_type": "code",
      "source": [
        "arr1 = np.array([1, 2, 3, 2, 3, 4, 3, 4, 5, 6])\n",
        "arr2 = np.array([7, 2, 10, 2, 7, 4, 9, 4, 9, 8])\n",
        "matual_arr_index = np.where(arr1 == arr2)\n",
        "matual_arr = arr2[matual_arr_index]\n",
        "\n",
        "print(\"matual elements : \", matual_arr)\n",
        "print(\"matual indexs of elements : \", matual_arr_index)"
      ],
      "metadata": {
        "colab": {
          "base_uri": "https://localhost:8080/"
        },
        "id": "TVo8Kjo3l8BH",
        "outputId": "d9ea74c6-f997-4c51-9904-a411cfa285e5"
      },
      "execution_count": 10,
      "outputs": [
        {
          "output_type": "stream",
          "name": "stdout",
          "text": [
            "matual elements :  [2 2 4 4]\n",
            "matual indexs of elements :  (array([1, 3, 5, 7]),)\n"
          ]
        }
      ]
    },
    {
      "cell_type": "markdown",
      "source": [
        "array([ 0,  1,  2, ..., 12, 13, 14]\n",
        "\n",
        "۴- برای حذف سه نقطه به هنگام پرینت چه راهی پیشنهاد می دهید\n",
        "\n",
        "و با چه روشی میتوان چک کرد مقدار خالی وجود دارد یا خیر\n"
      ],
      "metadata": {
        "id": "TCbDJ_Hom-_T"
      }
    },
    {
      "cell_type": "code",
      "source": [
        "wierd_arr = np.array([0, 1, 2, ..., 12, 13, 14])\n",
        "\n",
        "def is_numeric(x):\n",
        "    return isinstance(x, (int, float, complex))\n",
        "\n",
        "numeric_mask = np.vectorize(is_numeric)(wierd_arr)\n",
        "filtered_arr = wierd_arr[numeric_mask]\n",
        "\n",
        "print(filtered_arr)"
      ],
      "metadata": {
        "id": "4-6xXGJVm_dS",
        "colab": {
          "base_uri": "https://localhost:8080/"
        },
        "outputId": "2fb74f69-be51-40df-97c8-10c65b4ab748"
      },
      "execution_count": 26,
      "outputs": [
        {
          "output_type": "stream",
          "name": "stdout",
          "text": [
            "[0 1 2 12 13 14]\n"
          ]
        }
      ]
    },
    {
      "cell_type": "code",
      "source": [
        "has_none = np.any(wierd_arr == None)\n",
        "if has_none:\n",
        "    print(\"The array contains None values.\")\n",
        "else:\n",
        "    print(\"The array does not contain None values.\")"
      ],
      "metadata": {
        "colab": {
          "base_uri": "https://localhost:8080/"
        },
        "id": "sn5tFIJjxZvd",
        "outputId": "6338796f-ed73-48c6-8bc4-d0ff48fd5ca3"
      },
      "execution_count": 20,
      "outputs": [
        {
          "output_type": "stream",
          "name": "stdout",
          "text": [
            "The array does not contain None values.\n"
          ]
        }
      ]
    },
    {
      "cell_type": "markdown",
      "source": [
        "۵- مقادیر یکتای لیست زیر چقدر است و از هر کدام چند تا در لیست وجود دارد\n",
        "\n",
        "[1,2,3,2,3,4,3,4,5,6]"
      ],
      "metadata": {
        "id": "hGcIjdVRpIhO"
      }
    },
    {
      "cell_type": "code",
      "source": [
        "arr3 = np.array([1,2,3,2,3,4,3,4,5,6])\n",
        "unique_values, counts = np.unique(arr3, return_counts=True)\n",
        "for value, count in zip(unique_values, counts):\n",
        "    print(f\"Value {value} is repeated {count} times.\")"
      ],
      "metadata": {
        "colab": {
          "base_uri": "https://localhost:8080/"
        },
        "id": "d-7MSzEpoUNn",
        "outputId": "1a9a2824-75ca-45b5-e0a9-b00fb526f864"
      },
      "execution_count": 36,
      "outputs": [
        {
          "output_type": "stream",
          "name": "stdout",
          "text": [
            "Value 1 is repeated 1 times.\n",
            "Value 2 is repeated 2 times.\n",
            "Value 3 is repeated 3 times.\n",
            "Value 4 is repeated 2 times.\n",
            "Value 5 is repeated 1 times.\n",
            "Value 6 is repeated 1 times.\n"
          ]
        }
      ]
    },
    {
      "cell_type": "markdown",
      "source": [
        "۶- یک array\n",
        "\n",
        " رندوم ۳۰ عضوی بین اعداد ۱ تا ۵۰ بسازید و اعدادی که کوچکتر از ۱۰ هستند را به ۱۰ و اعدادی که از ۳۰ بزرگتر هستند را به ۳۰ تغییر دهید"
      ],
      "metadata": {
        "id": "ApHYEVwuqtTg"
      }
    },
    {
      "cell_type": "code",
      "source": [
        "arr4 = np.random.uniform(1, 50, 30)\n",
        "con4 = np.where(arr4 < 10, 10, arr4)\n",
        "con5 = np.where(con4 > 30, 30, con4)\n",
        "con5"
      ],
      "metadata": {
        "colab": {
          "base_uri": "https://localhost:8080/"
        },
        "id": "wi70Mm8Vo0Ml",
        "outputId": "d6c1f17d-3963-4e1d-b3cf-160ac1ae7898"
      },
      "execution_count": 45,
      "outputs": [
        {
          "output_type": "execute_result",
          "data": {
            "text/plain": [
              "array([30.        , 30.        , 30.        , 14.63152156, 30.        ,\n",
              "       30.        , 30.        , 28.28908591, 30.        , 10.        ,\n",
              "       30.        , 30.        , 14.82607302, 14.06253774, 10.        ,\n",
              "       10.05570795, 15.52662764, 30.        , 30.        , 10.97243609,\n",
              "       10.96668164, 10.        , 30.        , 30.        , 10.        ,\n",
              "       24.03926923, 10.        , 30.        , 30.        , 30.        ])"
            ]
          },
          "metadata": {},
          "execution_count": 45
        }
      ]
    },
    {
      "cell_type": "markdown",
      "source": [
        "۷-  array یک\n",
        "\n",
        "سه بعدی ساخته و در انتها آن را یک بعدی کنید"
      ],
      "metadata": {
        "id": "yqDvPeDsr86h"
      }
    },
    {
      "cell_type": "code",
      "source": [
        "arr5 = np.arange(1, 28)\n",
        "arr6 = arr5.reshape((3, 3, 3))\n",
        "arr6_1d = arr6.reshape(1, -1)\n",
        "\n",
        "arr6_1d"
      ],
      "metadata": {
        "colab": {
          "base_uri": "https://localhost:8080/"
        },
        "id": "HZLxYYD0rqQ3",
        "outputId": "f9ec198e-10eb-4f87-d8c2-bd574cd4efd6"
      },
      "execution_count": 50,
      "outputs": [
        {
          "output_type": "execute_result",
          "data": {
            "text/plain": [
              "array([[ 1,  2,  3,  4,  5,  6,  7,  8,  9, 10, 11, 12, 13, 14, 15, 16,\n",
              "        17, 18, 19, 20, 21, 22, 23, 24, 25, 26, 27]])"
            ]
          },
          "metadata": {},
          "execution_count": 50
        }
      ]
    },
    {
      "cell_type": "markdown",
      "source": [
        "۸- بزرگترین عضو در هر ردیف و سپس بزرگترین عضو در هر ستون بیابید"
      ],
      "metadata": {
        "id": "lPvjwDButXsY"
      }
    },
    {
      "cell_type": "code",
      "source": [
        "np.random.seed(100)\n",
        "a = np.random.randint(1,10, [8,4])\n",
        "\n",
        "max_in_each_row = np.max(a, axis=1)\n",
        "max_in_each_column = np.max(a, axis=0)\n",
        "\n",
        "print(\"max in each row : \", max_in_each_row)\n",
        "print(\"max in each column : \", max_in_each_column)"
      ],
      "metadata": {
        "colab": {
          "base_uri": "https://localhost:8080/"
        },
        "id": "UHnkAFfOuApB",
        "outputId": "2d474c12-503f-4ae9-bf36-df5fa2a88a7e"
      },
      "execution_count": 52,
      "outputs": [
        {
          "output_type": "stream",
          "name": "stdout",
          "text": [
            "max in each row :  [9 8 6 9 7 6 8 8]\n",
            "max in each column :  [9 9 9 8]\n"
          ]
        }
      ]
    },
    {
      "cell_type": "markdown",
      "source": [
        "۹- نامپای اری را بسازید که بین دو تاریخ '2022-02-01' و '2022-02-25'\n",
        "به صورت یک روز در میان باشد\n",
        "\n",
        "حالا روزهای جا افتاده در اری بالا را به آن اضافه کنید\n"
      ],
      "metadata": {
        "id": "cLNzAJuwyS8t"
      }
    },
    {
      "cell_type": "code",
      "source": [
        "start_date = '2022-02-01'\n",
        "end_date = '2022-02-25'\n",
        "date_range = pd.date_range(start=start_date, end=end_date)\n",
        "date_array = np.array(date_range)\n",
        "date_array"
      ],
      "metadata": {
        "colab": {
          "base_uri": "https://localhost:8080/"
        },
        "id": "TDIjSak3vbDQ",
        "outputId": "9343bb03-ddca-47bc-e07c-4421ae6a6003"
      },
      "execution_count": 53,
      "outputs": [
        {
          "output_type": "execute_result",
          "data": {
            "text/plain": [
              "array(['2022-02-01T00:00:00.000000000', '2022-02-02T00:00:00.000000000',\n",
              "       '2022-02-03T00:00:00.000000000', '2022-02-04T00:00:00.000000000',\n",
              "       '2022-02-05T00:00:00.000000000', '2022-02-06T00:00:00.000000000',\n",
              "       '2022-02-07T00:00:00.000000000', '2022-02-08T00:00:00.000000000',\n",
              "       '2022-02-09T00:00:00.000000000', '2022-02-10T00:00:00.000000000',\n",
              "       '2022-02-11T00:00:00.000000000', '2022-02-12T00:00:00.000000000',\n",
              "       '2022-02-13T00:00:00.000000000', '2022-02-14T00:00:00.000000000',\n",
              "       '2022-02-15T00:00:00.000000000', '2022-02-16T00:00:00.000000000',\n",
              "       '2022-02-17T00:00:00.000000000', '2022-02-18T00:00:00.000000000',\n",
              "       '2022-02-19T00:00:00.000000000', '2022-02-20T00:00:00.000000000',\n",
              "       '2022-02-21T00:00:00.000000000', '2022-02-22T00:00:00.000000000',\n",
              "       '2022-02-23T00:00:00.000000000', '2022-02-24T00:00:00.000000000',\n",
              "       '2022-02-25T00:00:00.000000000'], dtype='datetime64[ns]')"
            ]
          },
          "metadata": {},
          "execution_count": 53
        }
      ]
    },
    {
      "cell_type": "code",
      "source": [
        "missing_dates = pd.date_range(start_date, end_date).difference(date_range)\n",
        "date_array_with_missing = np.concatenate([date_array, missing_dates])\n",
        "date_array_with_missing"
      ],
      "metadata": {
        "colab": {
          "base_uri": "https://localhost:8080/"
        },
        "id": "j4Ju6gYb-v7v",
        "outputId": "4cde4c0c-bbcb-4be6-bd36-1653cbdbdeed"
      },
      "execution_count": 54,
      "outputs": [
        {
          "output_type": "execute_result",
          "data": {
            "text/plain": [
              "array(['2022-02-01T00:00:00.000000000', '2022-02-02T00:00:00.000000000',\n",
              "       '2022-02-03T00:00:00.000000000', '2022-02-04T00:00:00.000000000',\n",
              "       '2022-02-05T00:00:00.000000000', '2022-02-06T00:00:00.000000000',\n",
              "       '2022-02-07T00:00:00.000000000', '2022-02-08T00:00:00.000000000',\n",
              "       '2022-02-09T00:00:00.000000000', '2022-02-10T00:00:00.000000000',\n",
              "       '2022-02-11T00:00:00.000000000', '2022-02-12T00:00:00.000000000',\n",
              "       '2022-02-13T00:00:00.000000000', '2022-02-14T00:00:00.000000000',\n",
              "       '2022-02-15T00:00:00.000000000', '2022-02-16T00:00:00.000000000',\n",
              "       '2022-02-17T00:00:00.000000000', '2022-02-18T00:00:00.000000000',\n",
              "       '2022-02-19T00:00:00.000000000', '2022-02-20T00:00:00.000000000',\n",
              "       '2022-02-21T00:00:00.000000000', '2022-02-22T00:00:00.000000000',\n",
              "       '2022-02-23T00:00:00.000000000', '2022-02-24T00:00:00.000000000',\n",
              "       '2022-02-25T00:00:00.000000000'], dtype='datetime64[ns]')"
            ]
          },
          "metadata": {},
          "execution_count": 54
        }
      ]
    },
    {
      "cell_type": "markdown",
      "source": [
        "۱۰- عکس زیر را با کتابخانه\n",
        "\n",
        "requests\n",
        "\n",
        "گرفته و سپس با استفاده از کتابخانه\n",
        "\n",
        "BytesIO\n",
        "\n",
        "آن را باز کرده و به سایز ۲۵۰ در ۲۵۰ تغییر داده و در نامپای اری ذخیره کنید\n"
      ],
      "metadata": {
        "id": "-kiAuUBPzKAy"
      }
    },
    {
      "cell_type": "code",
      "source": [
        "#couldnt understand this"
      ],
      "metadata": {
        "colab": {
          "base_uri": "https://localhost:8080/"
        },
        "id": "DMklSUtRugcL",
        "outputId": "05415873-c8f2-4b7c-c90f-74e2e73549fb"
      },
      "execution_count": null,
      "outputs": [
        {
          "output_type": "execute_result",
          "data": {
            "text/plain": [
              "array([[[100, 103, 112],\n",
              "        [ 98, 101, 110],\n",
              "        [ 97, 100, 109],\n",
              "        ...,\n",
              "        [120, 119, 124],\n",
              "        [120, 119, 124],\n",
              "        [114, 113, 118]],\n",
              "\n",
              "       [[107, 110, 119],\n",
              "        [106, 109, 118],\n",
              "        [102, 105, 114],\n",
              "        ...,\n",
              "        [116, 115, 121],\n",
              "        [117, 116, 121],\n",
              "        [116, 115, 120]],\n",
              "\n",
              "       [[108, 111, 120],\n",
              "        [108, 111, 120],\n",
              "        [101, 104, 113],\n",
              "        ...,\n",
              "        [106, 105, 111],\n",
              "        [112, 111, 116],\n",
              "        [116, 115, 120]],\n",
              "\n",
              "       ...,\n",
              "\n",
              "       [[ 64,  62,  73],\n",
              "        [ 66,  64,  75],\n",
              "        [ 67,  65,  76],\n",
              "        ...,\n",
              "        [240, 241, 238],\n",
              "        [237, 238, 233],\n",
              "        [237, 238, 233]],\n",
              "\n",
              "       [[ 65,  63,  74],\n",
              "        [ 66,  64,  75],\n",
              "        [ 70,  68,  79],\n",
              "        ...,\n",
              "        [241, 241, 239],\n",
              "        [240, 241, 236],\n",
              "        [240, 241, 236]],\n",
              "\n",
              "       [[ 73,  71,  82],\n",
              "        [ 70,  68,  79],\n",
              "        [ 72,  70,  81],\n",
              "        ...,\n",
              "        [239, 239, 238],\n",
              "        [240, 240, 237],\n",
              "        [240, 241, 236]]], dtype=uint8)"
            ]
          },
          "metadata": {},
          "execution_count": 60
        }
      ]
    },
    {
      "cell_type": "markdown",
      "source": [
        "# linux\n",
        "1-برای تنظیمات گراب بهتر است کدوم فولدر تغییر داده شود\n",
        "\n",
        "2- شما برنامه ای را برای پیش بینی قیمت کالا نوشته اید این برمامه برای ران شدن احتیاج به خواندن ورودی به عنوان کانفیگ دارد کانفیگ های برنامه بهتر است چگونه و در کجا اعمال شوند\n",
        "\n",
        "3-به نظر شما نود پرینتر یا هر سخت افزار در کدام فولدر ذخیره میشود\n",
        "\n",
        "4-چیست bios کار\n",
        "\n",
        "5- منظور از ~ چیست"
      ],
      "metadata": {
        "id": "6WEDqaz_3WVh"
      }
    },
    {
      "cell_type": "markdown",
      "source": [
        "1. /etc/default/grub\n",
        "2./etc or /etc/<app_name>\n",
        "3./lib/modules/<kernel_version>\n",
        "4.BIOS (Basic Input/Output System) is low-level software used in personal computers (PCs) and servers to perform basic hardware-related functions. It manages and communicates with the hardware components of the system, such as booting the operating system from a hard disk, system date and time settings, boot priority from storage devices, and similar settings.\n",
        "5./home/<username>\n",
        "\n",
        "!!! \"I searched for all in linux questions\" !!!\n"
      ],
      "metadata": {
        "id": "zrMhPNzA_Y4W"
      }
    }
  ]
}