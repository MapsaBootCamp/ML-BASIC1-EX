{
 "cells": [
  {
   "cell_type": "code",
   "execution_count": 107,
   "id": "9a760c8a-fedc-40f7-bf67-90731996162b",
   "metadata": {},
   "outputs": [],
   "source": [
    "import pandas as pd\n",
    "import numpy as np"
   ]
  },
  {
   "cell_type": "code",
   "execution_count": 108,
   "id": "0b62cd6a-8526-4c2c-8804-2a1ffc867a1d",
   "metadata": {},
   "outputs": [],
   "source": [
    "df=pd.read_csv('esm_famil_data.csv')"
   ]
  },
  {
   "cell_type": "code",
   "execution_count": 109,
   "id": "16214cdd-ac83-4871-bd76-c872e84583a2",
   "metadata": {},
   "outputs": [
    {
     "data": {
      "text/html": [
       "<div>\n",
       "<style scoped>\n",
       "    .dataframe tbody tr th:only-of-type {\n",
       "        vertical-align: middle;\n",
       "    }\n",
       "\n",
       "    .dataframe tbody tr th {\n",
       "        vertical-align: top;\n",
       "    }\n",
       "\n",
       "    .dataframe thead th {\n",
       "        text-align: right;\n",
       "    }\n",
       "</style>\n",
       "<table border=\"1\" class=\"dataframe\">\n",
       "  <thead>\n",
       "    <tr style=\"text-align: right;\">\n",
       "      <th></th>\n",
       "      <th>esm</th>\n",
       "      <th>famil</th>\n",
       "      <th>keshvar</th>\n",
       "      <th>rang</th>\n",
       "      <th>ashia</th>\n",
       "      <th>ghaza</th>\n",
       "    </tr>\n",
       "  </thead>\n",
       "  <tbody>\n",
       "    <tr>\n",
       "      <th>0</th>\n",
       "      <td>اوا</td>\n",
       "      <td>اسدی</td>\n",
       "      <td>المان</td>\n",
       "      <td>ابی</td>\n",
       "      <td>استکان</td>\n",
       "      <td>اب گوشت</td>\n",
       "    </tr>\n",
       "    <tr>\n",
       "      <th>1</th>\n",
       "      <td>ارزو</td>\n",
       "      <td>ارمانی</td>\n",
       "      <td>البانی</td>\n",
       "      <td>اجری</td>\n",
       "      <td>ایینه</td>\n",
       "      <td>اش</td>\n",
       "    </tr>\n",
       "    <tr>\n",
       "      <th>2</th>\n",
       "      <td>اتنا</td>\n",
       "      <td>اکبری</td>\n",
       "      <td>انگولا</td>\n",
       "      <td>ارغوانی</td>\n",
       "      <td>اره</td>\n",
       "      <td>برنج خورشت</td>\n",
       "    </tr>\n",
       "    <tr>\n",
       "      <th>3</th>\n",
       "      <td>ارش</td>\n",
       "      <td>اعظمی</td>\n",
       "      <td>اتریش</td>\n",
       "      <td>ارکیده</td>\n",
       "      <td>اره برقی</td>\n",
       "      <td>باقالی پلو</td>\n",
       "    </tr>\n",
       "    <tr>\n",
       "      <th>4</th>\n",
       "      <td>امنه</td>\n",
       "      <td>امینی</td>\n",
       "      <td>امریکا</td>\n",
       "      <td>البالویی</td>\n",
       "      <td>اب پاش</td>\n",
       "      <td>به پلو</td>\n",
       "    </tr>\n",
       "    <tr>\n",
       "      <th>...</th>\n",
       "      <td>...</td>\n",
       "      <td>...</td>\n",
       "      <td>...</td>\n",
       "      <td>...</td>\n",
       "      <td>...</td>\n",
       "      <td>...</td>\n",
       "    </tr>\n",
       "    <tr>\n",
       "      <th>162</th>\n",
       "      <td>هلیا</td>\n",
       "      <td>NaN</td>\n",
       "      <td>NaN</td>\n",
       "      <td>NaN</td>\n",
       "      <td>NaN</td>\n",
       "      <td>NaN</td>\n",
       "    </tr>\n",
       "    <tr>\n",
       "      <th>163</th>\n",
       "      <td>یاسر</td>\n",
       "      <td>NaN</td>\n",
       "      <td>NaN</td>\n",
       "      <td>NaN</td>\n",
       "      <td>NaN</td>\n",
       "      <td>NaN</td>\n",
       "    </tr>\n",
       "    <tr>\n",
       "      <th>164</th>\n",
       "      <td>یلدا</td>\n",
       "      <td>NaN</td>\n",
       "      <td>NaN</td>\n",
       "      <td>NaN</td>\n",
       "      <td>NaN</td>\n",
       "      <td>NaN</td>\n",
       "    </tr>\n",
       "    <tr>\n",
       "      <th>165</th>\n",
       "      <td>یاسمن</td>\n",
       "      <td>NaN</td>\n",
       "      <td>NaN</td>\n",
       "      <td>NaN</td>\n",
       "      <td>NaN</td>\n",
       "      <td>NaN</td>\n",
       "    </tr>\n",
       "    <tr>\n",
       "      <th>166</th>\n",
       "      <td>یاس</td>\n",
       "      <td>NaN</td>\n",
       "      <td>NaN</td>\n",
       "      <td>NaN</td>\n",
       "      <td>NaN</td>\n",
       "      <td>NaN</td>\n",
       "    </tr>\n",
       "  </tbody>\n",
       "</table>\n",
       "<p>167 rows × 6 columns</p>\n",
       "</div>"
      ],
      "text/plain": [
       "       esm   famil keshvar      rang     ashia       ghaza\n",
       "0      اوا    اسدی   المان       ابی    استکان     اب گوشت\n",
       "1     ارزو  ارمانی  البانی      اجری     ایینه          اش\n",
       "2     اتنا   اکبری  انگولا   ارغوانی       اره  برنج خورشت\n",
       "3      ارش   اعظمی   اتریش    ارکیده  اره برقی  باقالی پلو\n",
       "4     امنه   امینی  امریکا  البالویی    اب پاش      به پلو\n",
       "..     ...     ...     ...       ...       ...         ...\n",
       "162   هلیا     NaN     NaN       NaN       NaN         NaN\n",
       "163   یاسر     NaN     NaN       NaN       NaN         NaN\n",
       "164   یلدا     NaN     NaN       NaN       NaN         NaN\n",
       "165  یاسمن     NaN     NaN       NaN       NaN         NaN\n",
       "166    یاس     NaN     NaN       NaN       NaN         NaN\n",
       "\n",
       "[167 rows x 6 columns]"
      ]
     },
     "execution_count": 109,
     "metadata": {},
     "output_type": "execute_result"
    }
   ],
   "source": [
    "df"
   ]
  },
  {
   "cell_type": "code",
   "execution_count": 111,
   "id": "efd614e3-a196-4845-ac51-129093580f4c",
   "metadata": {},
   "outputs": [],
   "source": [
    "data_frame=pd.DataFrame()\n",
    "def add_participant(participant,answers:dict):\n",
    "    global data_frame\n",
    "    new_data_frame=pd.DataFrame(answers,index=[participant])\n",
    "    data_frame=pd.concat([data_frame,new_data_frame])\n",
    "    return data_frame"
   ]
  },
  {
   "cell_type": "code",
   "execution_count": 113,
   "id": "ebe3d7bf-e268-4f24-89bd-21791933eca7",
   "metadata": {},
   "outputs": [
    {
     "data": {
      "text/html": [
       "<div>\n",
       "<style scoped>\n",
       "    .dataframe tbody tr th:only-of-type {\n",
       "        vertical-align: middle;\n",
       "    }\n",
       "\n",
       "    .dataframe tbody tr th {\n",
       "        vertical-align: top;\n",
       "    }\n",
       "\n",
       "    .dataframe thead th {\n",
       "        text-align: right;\n",
       "    }\n",
       "</style>\n",
       "<table border=\"1\" class=\"dataframe\">\n",
       "  <thead>\n",
       "    <tr style=\"text-align: right;\">\n",
       "      <th></th>\n",
       "      <th>esm</th>\n",
       "      <th>famil</th>\n",
       "      <th>keshvar</th>\n",
       "      <th>rang</th>\n",
       "      <th>ashia</th>\n",
       "      <th>ghaza</th>\n",
       "    </tr>\n",
       "  </thead>\n",
       "  <tbody>\n",
       "    <tr>\n",
       "      <th>salib</th>\n",
       "      <td>بردیا</td>\n",
       "      <td>بردیایی</td>\n",
       "      <td>برزیل</td>\n",
       "      <td>بژ</td>\n",
       "      <td>بیل</td>\n",
       "      <td>باقالیپلو</td>\n",
       "    </tr>\n",
       "  </tbody>\n",
       "</table>\n",
       "</div>"
      ],
      "text/plain": [
       "         esm    famil keshvar rang ashia      ghaza\n",
       "salib  بردیا  بردیایی   برزیل   بژ   بیل  باقالیپلو"
      ]
     },
     "execution_count": 113,
     "metadata": {},
     "output_type": "execute_result"
    }
   ],
   "source": [
    "data_2=add_participant(participant = 'salib', answers = {'esm': 'بردیا', 'famil': 'بردیایی', 'keshvar': 'برزیل', 'rang': 'بژ', 'ashia': 'بیل', 'ghaza': 'باقالیپلو'})\n",
    "data_2"
   ]
  },
  {
   "cell_type": "code",
   "execution_count": 114,
   "id": "89f9d8cb-12f1-4704-a724-a030a66b39b5",
   "metadata": {},
   "outputs": [],
   "source": [
    "data_2=add_participant(participant = 'ali', answers = {'esm': 'بهراد', 'famil': 'بابایی', 'keshvar': 'باربادوس', 'rang': 'بنفش', 'ashia': 'بمب', 'ghaza': 'باقالیپلو'})"
   ]
  },
  {
   "cell_type": "code",
   "execution_count": 115,
   "id": "ffec736d-88f3-48ea-b6e8-b84c03a553b5",
   "metadata": {},
   "outputs": [],
   "source": [
    "data_2=add_participant(participant = 'alireza', answers = {'esm': None, 'famil': 'بابیابب', 'keshvar': 'بولیوی', 'rang': 'بنفش', 'ashia': 'بمب', 'ghaza': 'باقالیپلو'})"
   ]
  },
  {
   "cell_type": "code",
   "execution_count": 153,
   "id": "2100c811-7e8b-4084-994e-5f053ff624bf",
   "metadata": {},
   "outputs": [],
   "source": [
    "def calculate_all(data,esm_famil_data): \n",
    "    for item in esm_famil_data.columns:\n",
    "        data[f'{item} rating']=0\n",
    "    data['sum']=0\n",
    "        \n",
    "    for participant in data.index:\n",
    "        for item in esm_famil_data.columns:\n",
    "            if not pd.isna(data[item]).any():\n",
    "                if data.loc[participant,item] in list(esm_famil_data[item]):\n",
    "                # data_2.loc[participant,f'{item} rating']=1\n",
    "            # if data_2.loc[participant,item] in list(df[item]):\n",
    "                    if data[item].value_counts()[data.loc[participant,item]]>1:\n",
    "                        data.loc[participant,f'{item} rating']=5\n",
    "                    else:\n",
    "                        data.loc[participant,f'{item} rating']=10\n",
    "            else:\n",
    "                if data.loc[participant,item] in list(esm_famil_data[item]):\n",
    "                    if data[item].value_counts()[data_2.loc[participant,item]]>1:\n",
    "                        data.loc[participant,f'{item} rating']=10\n",
    "                    else:\n",
    "                        data.loc[participant,f'{item} rating']=15\n",
    "    list_of_sum=data.columns[len(data_2.columns)//2:]\n",
    "    data['sum']=data.loc[:,list_of_sum].sum(axis=1)\n",
    "    return data['sum']\n"
   ]
  },
  {
   "cell_type": "code",
   "execution_count": 154,
   "id": "a4d97c17-eae7-483c-9e98-52fa518b406c",
   "metadata": {},
   "outputs": [
    {
     "data": {
      "text/plain": [
       "salib      45\n",
       "ali        30\n",
       "alireza    20\n",
       "Name: sum, dtype: int64"
      ]
     },
     "execution_count": 154,
     "metadata": {},
     "output_type": "execute_result"
    }
   ],
   "source": [
    "calculate_all(data=data_2,esm_famil_data=df)"
   ]
  },
  {
   "cell_type": "code",
   "execution_count": null,
   "id": "e575a99e-4de1-46a8-90b4-931112f9fa70",
   "metadata": {},
   "outputs": [],
   "source": []
  }
 ],
 "metadata": {
  "kernelspec": {
   "display_name": "Python 3 (ipykernel)",
   "language": "python",
   "name": "python3"
  },
  "language_info": {
   "codemirror_mode": {
    "name": "ipython",
    "version": 3
   },
   "file_extension": ".py",
   "mimetype": "text/x-python",
   "name": "python",
   "nbconvert_exporter": "python",
   "pygments_lexer": "ipython3",
   "version": "3.8.5"
  }
 },
 "nbformat": 4,
 "nbformat_minor": 5
}
