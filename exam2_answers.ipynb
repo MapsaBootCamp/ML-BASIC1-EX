{
 "cells": [
  {
   "cell_type": "markdown",
   "metadata": {
    "id": "9U1oR4G6phxk"
   },
   "source": [
    "# تمامی سوالات با نامپای حل شود و لیست ها به\n",
    "# numpy array\n",
    "\n",
    "# تبدیل شود\n",
    " نامپای اری = numpy array\n",
    "\n",
    " اری = array"
   ]
  },
  {
   "cell_type": "code",
   "execution_count": 1,
   "metadata": {},
   "outputs": [],
   "source": [
    "import numpy as np"
   ]
  },
  {
   "cell_type": "markdown",
   "metadata": {
    "jp-MarkdownHeadingCollapsed": true
   },
   "source": [
    "## Question1"
   ]
  },
  {
   "cell_type": "markdown",
   "metadata": {
    "id": "-aJMm-G8j-tk"
   },
   "source": [
    "۱-\n",
    "اعداد فرد را با -۱ جایگزین کنید\n",
    "\n",
    "[0, 1, 2, 3, 4, 5, 6, 7, 8, 9]"
   ]
  },
  {
   "cell_type": "code",
   "execution_count": 2,
   "metadata": {},
   "outputs": [
    {
     "data": {
      "text/plain": [
       "array([ 0, -1,  2, -1,  4, -1,  6, -1,  8, -1])"
      ]
     },
     "execution_count": 2,
     "metadata": {},
     "output_type": "execute_result"
    }
   ],
   "source": [
    "arr = np.array([0, 1, 2, 3, 4, 5, 6, 7, 8, 9])\n",
    "arr = np.where(arr % 2 == 1, -1, arr)\n",
    "arr"
   ]
  },
  {
   "cell_type": "markdown",
   "metadata": {
    "jp-MarkdownHeadingCollapsed": true
   },
   "source": [
    "## Question2"
   ]
  },
  {
   "cell_type": "markdown",
   "metadata": {
    "id": "crI0NSuDlVGh"
   },
   "source": [
    "۲- خروجی کد بالا را به شکل زیر تغییر دهید"
   ]
  },
  {
   "cell_type": "code",
   "execution_count": 3,
   "metadata": {},
   "outputs": [
    {
     "data": {
      "text/plain": [
       "array([[ 0, -1,  2, -1,  4],\n",
       "       [-1,  6, -1,  8, -1]])"
      ]
     },
     "execution_count": 3,
     "metadata": {},
     "output_type": "execute_result"
    }
   ],
   "source": [
    "arr.reshape(2, 5)"
   ]
  },
  {
   "cell_type": "markdown",
   "metadata": {
    "jp-MarkdownHeadingCollapsed": true
   },
   "source": [
    "## Question3"
   ]
  },
  {
   "cell_type": "markdown",
   "metadata": {
    "id": "7Bs4QG5nl7hD"
   },
   "source": [
    "[1,2,3,2,3,4,3,4,5,6]\n",
    "\n",
    "[7,2,10,2,7,4,9,4,9,8]\n",
    "\n",
    "۳- مشخص کنید بین دو لیست گفته شده کدام اعضا و در چه ایندکسی اشتراک دارند"
   ]
  },
  {
   "cell_type": "code",
   "execution_count": 4,
   "metadata": {},
   "outputs": [
    {
     "data": {
      "text/plain": [
       "(array([1, 3, 5, 7]),)"
      ]
     },
     "execution_count": 4,
     "metadata": {},
     "output_type": "execute_result"
    }
   ],
   "source": [
    "arr1 = np.array([1,2,3,2,3,4,3,4,5,6])\n",
    "arr2 = np.array([7,2,10,2,7,4,9,4,9,8])\n",
    "condition = np.where(arr1 == arr2)\n",
    "# values = arr1[condition]\n",
    "# indices = condition\n",
    "# print(f\"values: {values}\")\n",
    "# print(f\"indices: {indices}\")\n",
    "\n",
    "condition"
   ]
  },
  {
   "cell_type": "markdown",
   "metadata": {
    "jp-MarkdownHeadingCollapsed": true
   },
   "source": [
    "## Question4"
   ]
  },
  {
   "cell_type": "markdown",
   "metadata": {
    "id": "TCbDJ_Hom-_T"
   },
   "source": [
    "array([ 0,  1,  2, ..., 12, 13, 14]\n",
    "\n",
    "۴- برای حذف سه نقطه به هنگام پرینت چه راهی پیشنهاد می دهید\n",
    "\n",
    "و با چه روشی میتوان چک کرد مقدار خالی وجود دارد یا خیر\n"
   ]
  },
  {
   "cell_type": "code",
   "execution_count": 5,
   "metadata": {},
   "outputs": [
    {
     "data": {
      "text/plain": [
       "array([0, 1, 2, 12, 13, 14], dtype=object)"
      ]
     },
     "execution_count": 5,
     "metadata": {},
     "output_type": "execute_result"
    }
   ],
   "source": [
    "arr = np.array([ 0, 1, 2, ..., 12, 13, 14])\n",
    "arr = np.delete(arr, np.where(arr == Ellipsis))\n",
    "arr"
   ]
  },
  {
   "cell_type": "code",
   "execution_count": 6,
   "metadata": {},
   "outputs": [
    {
     "data": {
      "text/plain": [
       "True"
      ]
     },
     "execution_count": 6,
     "metadata": {},
     "output_type": "execute_result"
    }
   ],
   "source": [
    "arr = arr.astype(\"float\")\n",
    "arr[[1, 4]] = np.nan\n",
    "np.isnan(arr).any()"
   ]
  },
  {
   "cell_type": "markdown",
   "metadata": {
    "jp-MarkdownHeadingCollapsed": true
   },
   "source": [
    "## Question5"
   ]
  },
  {
   "cell_type": "markdown",
   "metadata": {
    "id": "hGcIjdVRpIhO"
   },
   "source": [
    "۵- مقادیر یکتای لیست زیر چقدر است و از هر کدام چند تا در لیست وجود دارد\n",
    "\n",
    "[1,2,3,2,3,4,3,4,5,6]"
   ]
  },
  {
   "cell_type": "code",
   "execution_count": 7,
   "metadata": {},
   "outputs": [],
   "source": [
    "arr = np.array([1,2,3,2,3,4,3,4,5,6])"
   ]
  },
  {
   "cell_type": "code",
   "execution_count": 8,
   "metadata": {},
   "outputs": [
    {
     "data": {
      "text/plain": [
       "(array([1, 2, 3, 4, 5, 6]), array([1, 2, 3, 2, 1, 1]))"
      ]
     },
     "execution_count": 8,
     "metadata": {},
     "output_type": "execute_result"
    }
   ],
   "source": [
    "np.unique(arr, return_counts=True)"
   ]
  },
  {
   "cell_type": "markdown",
   "metadata": {
    "jp-MarkdownHeadingCollapsed": true
   },
   "source": [
    "## Question6"
   ]
  },
  {
   "cell_type": "markdown",
   "metadata": {
    "id": "ApHYEVwuqtTg"
   },
   "source": [
    "۶- یک array\n",
    "\n",
    " رندوم ۳۰ عضوی بین اعداد ۱ تا ۵۰ بسازید و اعدادی که کوچکتر از ۱۰ هستند را به ۱۰ و اعدادی که از ۳۰ بزرگتر هستند را به ۳۰ تغییر دهید"
   ]
  },
  {
   "cell_type": "code",
   "execution_count": 9,
   "metadata": {},
   "outputs": [
    {
     "name": "stdout",
     "output_type": "stream",
     "text": [
      "[ 9.20338233 22.09002425 48.06291869  3.78920119 17.144569   30.64747538\n",
      " 33.2728567  34.280969   20.38684862 27.53035095 43.23515698  2.72826864\n",
      " 36.73837845 12.15994161 13.18046043 21.35538392 31.2310809  14.02791844\n",
      "  7.19285239 23.57448781 12.19059195 21.15503396  7.95384254 46.00157012\n",
      "  4.74711594 23.03065296  9.71870988 17.53036226 47.01978344 41.33435937]\n",
      "[ 9.20338233 22.09002425 30.          3.78920119 17.144569   30.\n",
      " 30.         30.         20.38684862 27.53035095 30.          2.72826864\n",
      " 30.         12.15994161 13.18046043 21.35538392 30.         14.02791844\n",
      "  7.19285239 23.57448781 12.19059195 21.15503396  7.95384254 30.\n",
      "  4.74711594 23.03065296  9.71870988 17.53036226 30.         30.        ]\n"
     ]
    }
   ],
   "source": [
    "random_numbers = np.random.uniform(1, 50, 30)\n",
    "print(random_numbers)\n",
    "random_numbers[random_numbers >  30] = 30\n",
    "print(random_numbers)"
   ]
  },
  {
   "cell_type": "markdown",
   "metadata": {
    "jp-MarkdownHeadingCollapsed": true
   },
   "source": [
    "## Question7"
   ]
  },
  {
   "cell_type": "markdown",
   "metadata": {
    "id": "yqDvPeDsr86h"
   },
   "source": [
    "۷-  array یک\n",
    "\n",
    "سه بعدی ساخته و در انتها آن را یک بعدی کنید"
   ]
  },
  {
   "cell_type": "code",
   "execution_count": 10,
   "metadata": {},
   "outputs": [
    {
     "name": "stdout",
     "output_type": "stream",
     "text": [
      "array_of_arrays: [array([0, 1, 2]) array([2, 3, 4, 5, 6]) array([7, 8, 9])]\n",
      "array_of_arrays: (3,)\n",
      "[0 1 2 2 3 4 5 6 7 8 9]\n"
     ]
    }
   ],
   "source": [
    "arr1 = np.array([0, 1, 2])\n",
    "arr2 = np.array([2, 3, 4, 5, 6])\n",
    "arr3 = np.array([7, 8, 9])\n",
    "array_of_arrays = np.array([arr1, arr2, arr3], dtype=object)\n",
    "print(f\"array_of_arrays: {array_of_arrays}\")\n",
    "print(f\"array_of_arrays: {array_of_arrays.shape}\")\n",
    "print(np.concatenate(array_of_arrays))"
   ]
  },
  {
   "cell_type": "markdown",
   "metadata": {
    "jp-MarkdownHeadingCollapsed": true
   },
   "source": [
    "## Question8"
   ]
  },
  {
   "cell_type": "markdown",
   "metadata": {
    "id": "lPvjwDButXsY"
   },
   "source": [
    "۸- بزرگترین عضو در هر ردیف و سپس بزرگترین عضو در هر ستون بیابید"
   ]
  },
  {
   "cell_type": "code",
   "execution_count": 11,
   "metadata": {
    "colab": {
     "base_uri": "https://localhost:8080/"
    },
    "id": "UHnkAFfOuApB",
    "outputId": "c3734429-eccb-493b-c0fb-2cfe3a91a8e5"
   },
   "outputs": [
    {
     "name": "stdout",
     "output_type": "stream",
     "text": [
      "[[9 9 4 8]\n",
      " [8 1 5 3]\n",
      " [6 3 3 3]\n",
      " [2 1 9 5]\n",
      " [1 7 3 5]\n",
      " [2 6 4 5]\n",
      " [5 4 8 2]\n",
      " [2 8 8 1]]\n"
     ]
    }
   ],
   "source": [
    "np.random.seed(100)\n",
    "a = np.random.randint(1,10, [8,4])\n",
    "print(a)\n"
   ]
  },
  {
   "cell_type": "code",
   "execution_count": 12,
   "metadata": {},
   "outputs": [
    {
     "data": {
      "text/plain": [
       "array([9, 8, 6, 9, 7, 6, 8, 8])"
      ]
     },
     "execution_count": 12,
     "metadata": {},
     "output_type": "execute_result"
    }
   ],
   "source": [
    "a.max(axis=1)"
   ]
  },
  {
   "cell_type": "code",
   "execution_count": 13,
   "metadata": {},
   "outputs": [
    {
     "data": {
      "text/plain": [
       "array([9, 9, 9, 8])"
      ]
     },
     "execution_count": 13,
     "metadata": {},
     "output_type": "execute_result"
    }
   ],
   "source": [
    "a.max(axis=0)"
   ]
  },
  {
   "cell_type": "markdown",
   "metadata": {
    "jp-MarkdownHeadingCollapsed": true
   },
   "source": [
    "## Question9"
   ]
  },
  {
   "cell_type": "markdown",
   "metadata": {
    "id": "cLNzAJuwyS8t"
   },
   "source": [
    "۹- نامپای اری را بسازید که بین دو تاریخ '2022-02-01' و '2022-02-25'\n",
    "به صورت یک روز در میان باشد\n",
    "\n",
    "حالا روزهای جا افتاده در اری بالا را به آن اضافه کنید\n"
   ]
  },
  {
   "cell_type": "code",
   "execution_count": 14,
   "metadata": {},
   "outputs": [
    {
     "name": "stdout",
     "output_type": "stream",
     "text": [
      "['2022-02-01' '2022-02-03' '2022-02-05' '2022-02-07' '2022-02-09'\n",
      " '2022-02-11' '2022-02-13' '2022-02-15' '2022-02-17' '2022-02-19'\n",
      " '2022-02-21' '2022-02-23']\n"
     ]
    },
    {
     "data": {
      "text/plain": [
       "array(['2022-02-01', '2022-02-02', '2022-02-03', '2022-02-04',\n",
       "       '2022-02-05', '2022-02-06', '2022-02-07', '2022-02-08',\n",
       "       '2022-02-09', '2022-02-10', '2022-02-11', '2022-02-12',\n",
       "       '2022-02-13', '2022-02-14', '2022-02-15', '2022-02-16',\n",
       "       '2022-02-17', '2022-02-18', '2022-02-19', '2022-02-20',\n",
       "       '2022-02-21', '2022-02-22', '2022-02-23'], dtype='datetime64[D]')"
      ]
     },
     "execution_count": 14,
     "metadata": {},
     "output_type": "execute_result"
    }
   ],
   "source": [
    "a = np.arange(\"2022-02-01\" , \"2022-02-25\", 2, dtype='datetime64[D]')\n",
    "b = np.arange(\"2022-02-02\" , \"2022-02-23\", 2, dtype='datetime64[D]')\n",
    "print(a)\n",
    "np.sort(np.concatenate([a, b]))"
   ]
  },
  {
   "cell_type": "markdown",
   "metadata": {
    "jp-MarkdownHeadingCollapsed": true
   },
   "source": [
    "## Question10"
   ]
  },
  {
   "cell_type": "markdown",
   "metadata": {
    "id": "-kiAuUBPzKAy"
   },
   "source": [
    "۱۰- عکس زیر را با کتابخانه\n",
    "\n",
    "requests\n",
    "\n",
    "گرفته و سپس با استفاده از کتابخانه\n",
    "\n",
    "BytesIO\n",
    "\n",
    "آن را باز کرده و به سایز ۲۵۰ در ۲۵۰ تغییر داده و در نامپای اری ذخیره کنید\n"
   ]
  },
  {
   "cell_type": "code",
   "execution_count": 15,
   "metadata": {},
   "outputs": [],
   "source": [
    "import requests\n",
    "from PIL import Image\n",
    "from io import BytesIO"
   ]
  },
  {
   "cell_type": "code",
   "execution_count": 16,
   "metadata": {},
   "outputs": [],
   "source": [
    "image_url = \"https://cdn.thewirecutter.com/wp-content/media/2022/10/laptopstopicpage-2048px-2102-2x1-1.jpg?auto=webp&quality=75&crop=2:1&width=980&dpr=2\"\n",
    "response = requests.get(image_url)"
   ]
  },
  {
   "cell_type": "code",
   "execution_count": 17,
   "metadata": {},
   "outputs": [],
   "source": [
    "image = Image.open(BytesIO(response.content))"
   ]
  },
  {
   "cell_type": "code",
   "execution_count": 18,
   "metadata": {},
   "outputs": [],
   "source": [
    "resized_image = image.resize((250, 250))"
   ]
  },
  {
   "cell_type": "code",
   "execution_count": 19,
   "metadata": {},
   "outputs": [
    {
     "data": {
      "text/plain": [
       "array([[[242, 190, 202],\n",
       "        [242, 190, 202],\n",
       "        [242, 190, 203],\n",
       "        ...,\n",
       "        [246, 208, 221],\n",
       "        [246, 208, 221],\n",
       "        [246, 208, 221]],\n",
       "\n",
       "       [[242, 190, 202],\n",
       "        [242, 190, 202],\n",
       "        [242, 190, 203],\n",
       "        ...,\n",
       "        [246, 208, 221],\n",
       "        [246, 208, 221],\n",
       "        [246, 208, 221]],\n",
       "\n",
       "       [[242, 190, 202],\n",
       "        [242, 190, 202],\n",
       "        [242, 190, 203],\n",
       "        ...,\n",
       "        [246, 208, 221],\n",
       "        [246, 208, 221],\n",
       "        [246, 208, 221]],\n",
       "\n",
       "       ...,\n",
       "\n",
       "       [[ 33,  32,  40],\n",
       "        [ 33,  32,  39],\n",
       "        [ 27,  26,  32],\n",
       "        ...,\n",
       "        [ 78,  98, 122],\n",
       "        [ 78,  98, 122],\n",
       "        [ 78,  98, 122]],\n",
       "\n",
       "       [[ 33,  32,  40],\n",
       "        [ 35,  34,  42],\n",
       "        [ 27,  26,  32],\n",
       "        ...,\n",
       "        [ 78,  98, 122],\n",
       "        [ 78,  98, 122],\n",
       "        [ 78,  98, 122]],\n",
       "\n",
       "       [[ 33,  32,  40],\n",
       "        [ 29,  31,  38],\n",
       "        [ 21,  20,  26],\n",
       "        ...,\n",
       "        [ 78,  98, 122],\n",
       "        [ 79,  99, 123],\n",
       "        [ 78,  98, 122]]], dtype=uint8)"
      ]
     },
     "execution_count": 19,
     "metadata": {},
     "output_type": "execute_result"
    }
   ],
   "source": [
    "np.array(resized_image)"
   ]
  },
  {
   "cell_type": "markdown",
   "metadata": {
    "id": "6WEDqaz_3WVh"
   },
   "source": [
    "# linux\n",
    "1-برای تنظیمات گراب بهتر است کدوم فولدر تغییر داده شود\n",
    "\n",
    "2- شما برنامه ای را برای پیش بینی قیمت کالا نوشته اید این برمامه برای ران شدن احتیاج به خواندن ورودی به عنوان کانفیگ دارد کانفیگ های برنامه بهتر است چگونه و در کجا اعمال شوند\n",
    "\n",
    "3-به نظر شما نود پرینتر یا هر سخت افزار در کدام فولدر ذخیره میشود\n",
    "\n",
    "4-چیست bios کار\n",
    "\n",
    "5- منظور از ~ چیست"
   ]
  }
 ],
 "metadata": {
  "colab": {
   "provenance": []
  },
  "kernelspec": {
   "display_name": "Python 3 (ipykernel)",
   "language": "python",
   "name": "python3"
  },
  "language_info": {
   "codemirror_mode": {
    "name": "ipython",
    "version": 3
   },
   "file_extension": ".py",
   "mimetype": "text/x-python",
   "name": "python",
   "nbconvert_exporter": "python",
   "pygments_lexer": "ipython3",
   "version": "3.11.4"
  }
 },
 "nbformat": 4,
 "nbformat_minor": 4
}
