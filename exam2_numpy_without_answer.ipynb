{
  "cells": [
    {
      "cell_type": "markdown",
      "metadata": {
        "id": "9U1oR4G6phxk"
      },
      "source": [
        "# تمامی سوالات با نامپای حل شود و لیست ها به\n",
        "# numpy array\n",
        "\n",
        "# تبدیل شود\n",
        " نامپای اری = numpy array\n",
        "\n",
        " اری = array"
      ]
    },
    {
      "cell_type": "code",
      "execution_count": 1,
      "metadata": {},
      "outputs": [],
      "source": [
        "import numpy as np"
      ]
    },
    {
      "cell_type": "markdown",
      "metadata": {
        "id": "-aJMm-G8j-tk"
      },
      "source": [
        "۱-\n",
        "اعداد فرد را با -۱ جایگزین کنید\n",
        "\n",
        "[0, 1, 2, 3, 4, 5, 6, 7, 8, 9]"
      ]
    },
    {
      "cell_type": "code",
      "execution_count": 3,
      "metadata": {
        "colab": {
          "base_uri": "https://localhost:8080/"
        },
        "id": "QoDo1HE6j9d7",
        "outputId": "5bfb26fc-2a92-41b5-bec0-b1da3a1d3211"
      },
      "outputs": [
        {
          "data": {
            "text/plain": [
              "array([ 0, -1,  2, -1,  4, -1,  6, -1,  8, -1])"
            ]
          },
          "execution_count": 3,
          "metadata": {},
          "output_type": "execute_result"
        }
      ],
      "source": [
        "arr = np.array([0, 1, 2, 3, 4, 5, 6, 7, 8, 9])\n",
        "\n",
        "for index, value in enumerate(arr):\n",
        "    if not (value % 2 == 0):\n",
        "        arr[index] = -1\n",
        "\n",
        "arr"
      ]
    },
    {
      "cell_type": "markdown",
      "metadata": {
        "id": "crI0NSuDlVGh"
      },
      "source": [
        "۲- خروجی کد بالا را به شکل زیر تغییر دهید"
      ]
    },
    {
      "cell_type": "code",
      "execution_count": 4,
      "metadata": {
        "colab": {
          "base_uri": "https://localhost:8080/"
        },
        "id": "Hl2Xmim_lPjI",
        "outputId": "02ea0e86-e220-4289-f75f-f9509dfbd044"
      },
      "outputs": [
        {
          "data": {
            "text/plain": [
              "array([[ 0, -1,  2, -1,  4],\n",
              "       [-1,  6, -1,  8, -1]])"
            ]
          },
          "execution_count": 4,
          "metadata": {},
          "output_type": "execute_result"
        }
      ],
      "source": [
        "np.array([\n",
        "    [ 0, -1,  2, -1,  4],\n",
        "     [ -1,  6, -1,  8, -1]\n",
        "\n",
        "])"
      ]
    },
    {
      "cell_type": "markdown",
      "metadata": {
        "id": "7Bs4QG5nl7hD"
      },
      "source": [
        "[1,2,3,2,3,4,3,4,5,6]\n",
        "\n",
        "[7,2,10,2,7,4,9,4,9,8]\n",
        "\n",
        "۳- مشخص کنید بین دو لیست گفته شده کدام اعضا و در چه ایندکسی اشتراک دارند"
      ]
    },
    {
      "cell_type": "code",
      "execution_count": 12,
      "metadata": {
        "colab": {
          "base_uri": "https://localhost:8080/"
        },
        "id": "TVo8Kjo3l8BH",
        "outputId": "aee15b75-8ee1-46cf-c528-2344d669197e"
      },
      "outputs": [
        {
          "data": {
            "text/plain": [
              "array([1, 3, 5, 7], dtype=int64)"
            ]
          },
          "execution_count": 12,
          "metadata": {},
          "output_type": "execute_result"
        }
      ],
      "source": [
        "arr0 = np.array([1,2,3,2,3,4,3,4,5,6])\n",
        "arr1 = np.array([7,2,10,2,7,4,9,4,9,8])\n",
        "\n",
        "common_indices_alt = np.where(arr1[:] == arr0)[0]\n",
        "\n",
        "common_indices_alt"
      ]
    },
    {
      "cell_type": "markdown",
      "metadata": {
        "id": "TCbDJ_Hom-_T"
      },
      "source": [
        "array([ 0,  1,  2, ..., 12, 13, 14]\n",
        "\n",
        "۴- برای حذف سه نقطه به هنگام پرینت چه راهی پیشنهاد می دهید\n",
        "\n",
        "و با چه روشی میتوان چک کرد مقدار خالی وجود دارد یا خیر\n"
      ]
    },
    {
      "cell_type": "code",
      "execution_count": 18,
      "metadata": {
        "id": "4-6xXGJVm_dS"
      },
      "outputs": [
        {
          "data": {
            "text/plain": [
              "array([0, 1, 2, 12, 13, 14], dtype=object)"
            ]
          },
          "execution_count": 18,
          "metadata": {},
          "output_type": "execute_result"
        }
      ],
      "source": [
        "arr = np.array([ 0,  1,  2, ..., 12, 13, 14])\n",
        "np.delete(arr,np.where(arr[:] == Ellipsis)[0][0])"
      ]
    },
    {
      "cell_type": "markdown",
      "metadata": {
        "id": "hGcIjdVRpIhO"
      },
      "source": [
        "۵- مقادیر یکتای لیست زیر چقدر است و از هر کدام چند تا در لیست وجود دارد\n",
        "\n",
        "[1,2,3,2,3,4,3,4,5,6]"
      ]
    },
    {
      "cell_type": "code",
      "execution_count": 21,
      "metadata": {
        "colab": {
          "base_uri": "https://localhost:8080/"
        },
        "id": "d-7MSzEpoUNn",
        "outputId": "b4ca36e2-7de6-463a-9926-672e9b005996"
      },
      "outputs": [
        {
          "data": {
            "text/plain": [
              "(array([1, 2, 3, 4, 5, 6]), array([1, 2, 3, 2, 1, 1], dtype=int64))"
            ]
          },
          "execution_count": 21,
          "metadata": {},
          "output_type": "execute_result"
        }
      ],
      "source": [
        "arr = np.array([1,2,3,2,3,4,3,4,5,6])\n",
        "\n",
        "np.unique(arr, return_counts=True,)"
      ]
    },
    {
      "cell_type": "markdown",
      "metadata": {
        "id": "ApHYEVwuqtTg"
      },
      "source": [
        "۶- یک array\n",
        "\n",
        " رندوم ۳۰ عضوی بین اعداد ۱ تا ۵۰ بسازید و اعدادی که کوچکتر از ۱۰ هستند را به ۱۰ و اعدادی که از ۳۰ بزرگتر هستند را به ۳۰ تغییر دهید"
      ]
    },
    {
      "cell_type": "code",
      "execution_count": 30,
      "metadata": {
        "colab": {
          "base_uri": "https://localhost:8080/"
        },
        "id": "wi70Mm8Vo0Ml",
        "outputId": "4b1422f7-811c-4fb8-fe1a-f58644ef1975"
      },
      "outputs": [
        {
          "data": {
            "text/plain": [
              "array([42, 10, 36, 30, 31, 42, 48, 30, 34, 40, 44, 10, 10, 49, 49, 30, 30,\n",
              "       45, 37, 37, 49, 30, 10, 30, 10, 10, 30, 10, 10, 30])"
            ]
          },
          "execution_count": 30,
          "metadata": {},
          "output_type": "execute_result"
        }
      ],
      "source": [
        "arr = np.random.randint(1,50, 30)\n",
        "for index , value in enumerate(arr):\n",
        "    if value < 10:\n",
        "        arr[index] = 10\n",
        "    elif value < 30:\n",
        "        arr[index] = 30\n",
        "\n",
        "arr\n"
      ]
    },
    {
      "cell_type": "markdown",
      "metadata": {
        "id": "yqDvPeDsr86h"
      },
      "source": [
        "۷-  array یک\n",
        "\n",
        "سه بعدی ساخته و در انتها آن را یک بعدی کنید"
      ]
    },
    {
      "cell_type": "code",
      "execution_count": 66,
      "metadata": {
        "colab": {
          "base_uri": "https://localhost:8080/"
        },
        "id": "HZLxYYD0rqQ3",
        "outputId": "05cd0c02-3d27-4f66-cd30-d259849e6a6b"
      },
      "outputs": [
        {
          "name": "stdout",
          "output_type": "stream",
          "text": [
            "array_of_arrays:  [array([0, 1, 2]) array([2, 3, 4, 5, 6]) array([7, 8, 9])]\n",
            "array_of_arrays:  (3,)\n",
            "[0 1 2 2 3 4 5 6 7 8 9]\n"
          ]
        },
        {
          "name": "stderr",
          "output_type": "stream",
          "text": [
            "<ipython-input-66-a491e9c35e8a>:5: VisibleDeprecationWarning: Creating an ndarray from ragged nested sequences (which is a list-or-tuple of lists-or-tuples-or ndarrays with different lengths or shapes) is deprecated. If you meant to do this, you must specify 'dtype=object' when creating the ndarray.\n",
            "  array_of_arrays = np.array([arr1, arr2, arr3])\n"
          ]
        }
      ],
      "source": []
    },
    {
      "cell_type": "markdown",
      "metadata": {
        "id": "lPvjwDButXsY"
      },
      "source": [
        "۸- بزرگترین عضو در هر ردیف و سپس بزرگترین عضو در هر ستون بیابید"
      ]
    },
    {
      "cell_type": "code",
      "execution_count": 44,
      "metadata": {
        "colab": {
          "base_uri": "https://localhost:8080/"
        },
        "id": "UHnkAFfOuApB",
        "outputId": "c3734429-eccb-493b-c0fb-2cfe3a91a8e5"
      },
      "outputs": [
        {
          "name": "stdout",
          "output_type": "stream",
          "text": [
            "[[9 9 4 8]\n",
            " [8 1 5 3]\n",
            " [6 3 3 3]\n",
            " [2 1 9 5]\n",
            " [1 7 3 5]\n",
            " [2 6 4 5]\n",
            " [5 4 8 2]\n",
            " [2 8 8 1]]\n"
          ]
        },
        {
          "data": {
            "text/plain": [
              "array([[8, 1, 5, 3],\n",
              "       [6, 3, 3, 3],\n",
              "       [2, 1, 9, 5],\n",
              "       [1, 7, 3, 5],\n",
              "       [2, 6, 4, 5],\n",
              "       [5, 4, 8, 2],\n",
              "       [2, 8, 8, 1]])"
            ]
          },
          "execution_count": 44,
          "metadata": {},
          "output_type": "execute_result"
        }
      ],
      "source": [
        "import numpy as np\n",
        "\n",
        "np.random.seed(100)\n",
        "a = np.random.randint(1,10, [8,4])\n",
        "print(a)\n",
        "\n",
        "i"
      ]
    },
    {
      "cell_type": "markdown",
      "metadata": {
        "id": "cLNzAJuwyS8t"
      },
      "source": [
        "۹- نامپای اری را بسازید که بین دو تاریخ '2022-02-01' و '2022-02-25'\n",
        "به صورت یک روز در میان باشد\n",
        "\n",
        "حالا روزهای جا افتاده در اری بالا را به آن اضافه کنید\n"
      ]
    },
    {
      "cell_type": "code",
      "execution_count": 33,
      "metadata": {
        "colab": {
          "base_uri": "https://localhost:8080/"
        },
        "id": "TDIjSak3vbDQ",
        "outputId": "97e9e8b7-4348-401c-c3d8-8eb91f8bfec3"
      },
      "outputs": [
        {
          "data": {
            "text/plain": [
              "numpy.datetime64('2020-02-12')"
            ]
          },
          "execution_count": 33,
          "metadata": {},
          "output_type": "execute_result"
        }
      ],
      "source": []
    },
    {
      "cell_type": "markdown",
      "metadata": {
        "id": "-kiAuUBPzKAy"
      },
      "source": [
        "۱۰- عکس زیر را با کتابخانه\n",
        "\n",
        "requests\n",
        "\n",
        "گرفته و سپس با استفاده از کتابخانه\n",
        "\n",
        "BytesIO\n",
        "\n",
        "آن را باز کرده و به سایز ۲۵۰ در ۲۵۰ تغییر داده و در نامپای اری ذخیره کنید\n"
      ]
    },
    {
      "cell_type": "code",
      "execution_count": 60,
      "metadata": {
        "colab": {
          "base_uri": "https://localhost:8080/"
        },
        "id": "DMklSUtRugcL",
        "outputId": "05415873-c8f2-4b7c-c90f-74e2e73549fb"
      },
      "outputs": [
        {
          "data": {
            "text/plain": [
              "array([[[100, 103, 112],\n",
              "        [ 98, 101, 110],\n",
              "        [ 97, 100, 109],\n",
              "        ...,\n",
              "        [120, 119, 124],\n",
              "        [120, 119, 124],\n",
              "        [114, 113, 118]],\n",
              "\n",
              "       [[107, 110, 119],\n",
              "        [106, 109, 118],\n",
              "        [102, 105, 114],\n",
              "        ...,\n",
              "        [116, 115, 121],\n",
              "        [117, 116, 121],\n",
              "        [116, 115, 120]],\n",
              "\n",
              "       [[108, 111, 120],\n",
              "        [108, 111, 120],\n",
              "        [101, 104, 113],\n",
              "        ...,\n",
              "        [106, 105, 111],\n",
              "        [112, 111, 116],\n",
              "        [116, 115, 120]],\n",
              "\n",
              "       ...,\n",
              "\n",
              "       [[ 64,  62,  73],\n",
              "        [ 66,  64,  75],\n",
              "        [ 67,  65,  76],\n",
              "        ...,\n",
              "        [240, 241, 238],\n",
              "        [237, 238, 233],\n",
              "        [237, 238, 233]],\n",
              "\n",
              "       [[ 65,  63,  74],\n",
              "        [ 66,  64,  75],\n",
              "        [ 70,  68,  79],\n",
              "        ...,\n",
              "        [241, 241, 239],\n",
              "        [240, 241, 236],\n",
              "        [240, 241, 236]],\n",
              "\n",
              "       [[ 73,  71,  82],\n",
              "        [ 70,  68,  79],\n",
              "        [ 72,  70,  81],\n",
              "        ...,\n",
              "        [239, 239, 238],\n",
              "        [240, 240, 237],\n",
              "        [240, 241, 236]]], dtype=uint8)"
            ]
          },
          "execution_count": 60,
          "metadata": {},
          "output_type": "execute_result"
        }
      ],
      "source": []
    },
    {
      "cell_type": "markdown",
      "metadata": {
        "id": "6WEDqaz_3WVh"
      },
      "source": [
        "# linux\n",
        "1-برای تنظیمات گراب بهتر است کدوم فولدر تغییر داده شود\n",
        "\n",
        "2- شما برنامه ای را برای پیش بینی قیمت کالا نوشته اید این برمامه برای ران شدن احتیاج به خواندن ورودی به عنوان کانفیگ دارد کانفیگ های برنامه بهتر است چگونه و در کجا اعمال شوند\n",
        "\n",
        "3-به نظر شما نود پرینتر یا هر سخت افزار در کدام فولدر ذخیره میشود\n",
        "\n",
        "4-چیست bios کار\n",
        "\n",
        "5- منظور از ~ چیست"
      ]
    }
  ],
  "metadata": {
    "colab": {
      "provenance": []
    },
    "kernelspec": {
      "display_name": "Python 3",
      "name": "python3"
    },
    "language_info": {
      "codemirror_mode": {
        "name": "ipython",
        "version": 3
      },
      "file_extension": ".py",
      "mimetype": "text/x-python",
      "name": "python",
      "nbconvert_exporter": "python",
      "pygments_lexer": "ipython3",
      "version": "3.11.4"
    }
  },
  "nbformat": 4,
  "nbformat_minor": 0
}
