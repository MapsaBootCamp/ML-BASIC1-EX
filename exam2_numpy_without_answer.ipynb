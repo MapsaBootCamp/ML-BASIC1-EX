{
  "nbformat": 4,
  "nbformat_minor": 0,
  "metadata": {
    "colab": {
      "provenance": []
    },
    "kernelspec": {
      "name": "python3",
      "display_name": "Python 3"
    },
    "language_info": {
      "name": "python"
    }
  },
  "cells": [
    {
      "cell_type": "markdown",
      "source": [
        "# تمامی سوالات با نامپای حل شود و لیست ها به\n",
        "# numpy array\n",
        "\n",
        "# تبدیل شود\n",
        " نامپای اری = numpy array\n",
        "\n",
        " اری = array"
      ],
      "metadata": {
        "id": "9U1oR4G6phxk"
      }
    },
    {
      "cell_type": "markdown",
      "source": [
        "۱-\n",
        "اعداد فرد را با -۱ جایگزین کنید\n",
        "\n",
        "[0, 1, 2, 3, 4, 5, 6, 7, 8, 9]"
      ],
      "metadata": {
        "id": "-aJMm-G8j-tk"
      }
    },
    {
      "cell_type": "code",
      "execution_count": null,
      "metadata": {
        "colab": {
          "base_uri": "https://localhost:8080/"
        },
        "id": "QoDo1HE6j9d7",
        "outputId": "5bfb26fc-2a92-41b5-bec0-b1da3a1d3211"
      },
      "outputs": [
        {
          "output_type": "execute_result",
          "data": {
            "text/plain": [
              "array([ 0, -1,  2, -1,  4, -1,  6, -1,  8, -1])"
            ]
          },
          "metadata": {},
          "execution_count": 7
        }
      ],
      "source": []
    },
    {
      "cell_type": "markdown",
      "source": [
        "۲- خروجی کد بالا را به شکل زیر تغییر دهید"
      ],
      "metadata": {
        "id": "crI0NSuDlVGh"
      }
    },
    {
      "cell_type": "code",
      "source": [],
      "metadata": {
        "colab": {
          "base_uri": "https://localhost:8080/"
        },
        "id": "Hl2Xmim_lPjI",
        "outputId": "02ea0e86-e220-4289-f75f-f9509dfbd044"
      },
      "execution_count": null,
      "outputs": [
        {
          "output_type": "execute_result",
          "data": {
            "text/plain": [
              "array([[ 0, -1,  2, -1,  4],\n",
              "       [-1,  6, -1,  8, -1]])"
            ]
          },
          "metadata": {},
          "execution_count": 8
        }
      ]
    },
    {
      "cell_type": "markdown",
      "source": [
        "[1,2,3,2,3,4,3,4,5,6]\n",
        "\n",
        "[7,2,10,2,7,4,9,4,9,8]\n",
        "\n",
        "۳- مشخص کنید بین دو لیست گفته شده کدام اعضا و در چه ایندکسی اشتراک دارند"
      ],
      "metadata": {
        "id": "7Bs4QG5nl7hD"
      }
    },
    {
      "cell_type": "code",
      "source": [],
      "metadata": {
        "colab": {
          "base_uri": "https://localhost:8080/"
        },
        "id": "TVo8Kjo3l8BH",
        "outputId": "aee15b75-8ee1-46cf-c528-2344d669197e"
      },
      "execution_count": 61,
      "outputs": [
        {
          "output_type": "execute_result",
          "data": {
            "text/plain": [
              "(array([1, 3, 5, 7]),)"
            ]
          },
          "metadata": {},
          "execution_count": 61
        }
      ]
    },
    {
      "cell_type": "markdown",
      "source": [
        "array([ 0,  1,  2, ..., 12, 13, 14]\n",
        "\n",
        "۴- برای حذف سه نقطه به هنگام پرینت چه راهی پیشنهاد می دهید\n",
        "\n",
        "و با چه روشی میتوان چک کرد مقدار خالی وجود دارد یا خیر\n"
      ],
      "metadata": {
        "id": "TCbDJ_Hom-_T"
      }
    },
    {
      "cell_type": "code",
      "source": [],
      "metadata": {
        "id": "4-6xXGJVm_dS"
      },
      "execution_count": null,
      "outputs": []
    },
    {
      "cell_type": "markdown",
      "source": [
        "۵- مقادیر یکتای لیست زیر چقدر است و از هر کدام چند تا در لیست وجود دارد\n",
        "\n",
        "[1,2,3,2,3,4,3,4,5,6]"
      ],
      "metadata": {
        "id": "hGcIjdVRpIhO"
      }
    },
    {
      "cell_type": "code",
      "source": [],
      "metadata": {
        "colab": {
          "base_uri": "https://localhost:8080/"
        },
        "id": "d-7MSzEpoUNn",
        "outputId": "b4ca36e2-7de6-463a-9926-672e9b005996"
      },
      "execution_count": 14,
      "outputs": [
        {
          "output_type": "execute_result",
          "data": {
            "text/plain": [
              "(array([1, 2, 3, 4, 5, 6]), array([1, 2, 3, 2, 1, 1]))"
            ]
          },
          "metadata": {},
          "execution_count": 14
        }
      ]
    },
    {
      "cell_type": "markdown",
      "source": [
        "۶- یک array\n",
        "\n",
        " رندوم ۳۰ عضوی بین اعداد ۱ تا ۵۰ بسازید و اعدادی که کوچکتر از ۱۰ هستند را به ۱۰ و اعدادی که از ۳۰ بزرگتر هستند را به ۳۰ تغییر دهید"
      ],
      "metadata": {
        "id": "ApHYEVwuqtTg"
      }
    },
    {
      "cell_type": "code",
      "source": [],
      "metadata": {
        "colab": {
          "base_uri": "https://localhost:8080/"
        },
        "id": "wi70Mm8Vo0Ml",
        "outputId": "4b1422f7-811c-4fb8-fe1a-f58644ef1975"
      },
      "execution_count": 21,
      "outputs": [
        {
          "output_type": "stream",
          "name": "stdout",
          "text": [
            "[33.14924709 30.39618519 25.54217583 19.57381963  4.24468725 35.04802683\n",
            "  7.46221009  8.7607952  48.46878651 45.28799358 27.07073741 11.04564957\n",
            " 19.78331448 45.29088422  7.17456182 26.43073495  5.63140353 18.6468186\n",
            " 15.12981261 35.0725932  42.21729431 17.06519106 10.75266421 15.80499943\n",
            " 31.49733997 32.77095484 31.90320938 29.84397576 19.11062236  9.63998387]\n",
            "[30.         30.         25.54217583 19.57381963 10.         30.\n",
            " 10.         10.         30.         30.         27.07073741 11.04564957\n",
            " 19.78331448 30.         10.         26.43073495 10.         18.6468186\n",
            " 15.12981261 30.         30.         17.06519106 10.75266421 15.80499943\n",
            " 30.         30.         30.         29.84397576 19.11062236 10.        ]\n"
          ]
        }
      ]
    },
    {
      "cell_type": "markdown",
      "source": [
        "۷-  array یک\n",
        "\n",
        "سه بعدی ساخته و در انتها آن را یک بعدی کنید"
      ],
      "metadata": {
        "id": "yqDvPeDsr86h"
      }
    },
    {
      "cell_type": "code",
      "source": [],
      "metadata": {
        "colab": {
          "base_uri": "https://localhost:8080/"
        },
        "id": "HZLxYYD0rqQ3",
        "outputId": "05cd0c02-3d27-4f66-cd30-d259849e6a6b"
      },
      "execution_count": 66,
      "outputs": [
        {
          "output_type": "stream",
          "name": "stdout",
          "text": [
            "array_of_arrays:  [array([0, 1, 2]) array([2, 3, 4, 5, 6]) array([7, 8, 9])]\n",
            "array_of_arrays:  (3,)\n",
            "[0 1 2 2 3 4 5 6 7 8 9]\n"
          ]
        },
        {
          "output_type": "stream",
          "name": "stderr",
          "text": [
            "<ipython-input-66-a491e9c35e8a>:5: VisibleDeprecationWarning: Creating an ndarray from ragged nested sequences (which is a list-or-tuple of lists-or-tuples-or ndarrays with different lengths or shapes) is deprecated. If you meant to do this, you must specify 'dtype=object' when creating the ndarray.\n",
            "  array_of_arrays = np.array([arr1, arr2, arr3])\n"
          ]
        }
      ]
    },
    {
      "cell_type": "markdown",
      "source": [
        "۸- بزرگترین عضو در هر ردیف و سپس بزرگترین عضو در هر ستون بیابید"
      ],
      "metadata": {
        "id": "lPvjwDButXsY"
      }
    },
    {
      "cell_type": "code",
      "source": [
        "import numpy as np\n",
        "\n",
        "np.random.seed(100)\n",
        "a = np.random.randint(1,10, [8,4])\n",
        "print(a)\n"
      ],
      "metadata": {
        "colab": {
          "base_uri": "https://localhost:8080/"
        },
        "id": "UHnkAFfOuApB",
        "outputId": "c3734429-eccb-493b-c0fb-2cfe3a91a8e5"
      },
      "execution_count": 67,
      "outputs": [
        {
          "output_type": "stream",
          "name": "stdout",
          "text": [
            "[[9 9 4 8]\n",
            " [8 1 5 3]\n",
            " [6 3 3 3]\n",
            " [2 1 9 5]\n",
            " [1 7 3 5]\n",
            " [2 6 4 5]\n",
            " [5 4 8 2]\n",
            " [2 8 8 1]]\n"
          ]
        }
      ]
    },
    {
      "cell_type": "markdown",
      "source": [
        "۹- نامپای اری را بسازید که بین دو تاریخ '2022-02-01' و '2022-02-25'\n",
        "به صورت یک روز در میان باشد\n",
        "\n",
        "حالا روزهای جا افتاده در اری بالا را به آن اضافه کنید\n"
      ],
      "metadata": {
        "id": "cLNzAJuwyS8t"
      }
    },
    {
      "cell_type": "code",
      "source": [],
      "metadata": {
        "colab": {
          "base_uri": "https://localhost:8080/"
        },
        "id": "TDIjSak3vbDQ",
        "outputId": "97e9e8b7-4348-401c-c3d8-8eb91f8bfec3"
      },
      "execution_count": 58,
      "outputs": [
        {
          "output_type": "stream",
          "name": "stdout",
          "text": [
            "['2018-02-01' '2018-02-03' '2018-02-05' '2018-02-07' '2018-02-09'\n",
            " '2018-02-11' '2018-02-13' '2018-02-15' '2018-02-17' '2018-02-19'\n",
            " '2018-02-21' '2018-02-23']\n"
          ]
        },
        {
          "output_type": "execute_result",
          "data": {
            "text/plain": [
              "array(['2018-02-01', '2018-02-02', '2018-02-03', '2018-02-04',\n",
              "       '2018-02-05', '2018-02-06', '2018-02-07', '2018-02-08',\n",
              "       '2018-02-09', '2018-02-10', '2018-02-11', '2018-02-12',\n",
              "       '2018-02-13', '2018-02-14', '2018-02-15', '2018-02-16',\n",
              "       '2018-02-17', '2018-02-18', '2018-02-19', '2018-02-20',\n",
              "       '2018-02-21', '2018-02-22', '2018-02-23'], dtype='datetime64[D]')"
            ]
          },
          "metadata": {},
          "execution_count": 58
        }
      ]
    },
    {
      "cell_type": "markdown",
      "source": [
        "۱۰- عکس زیر را با کتابخانه\n",
        "\n",
        "requests\n",
        "\n",
        "گرفته و سپس با استفاده از کتابخانه\n",
        "\n",
        "BytesIO\n",
        "\n",
        "آن را باز کرده و به سایز ۲۵۰ در ۲۵۰ تغییر داده و در نامپای اری ذخیره کنید\n"
      ],
      "metadata": {
        "id": "-kiAuUBPzKAy"
      }
    },
    {
      "cell_type": "code",
      "source": [],
      "metadata": {
        "colab": {
          "base_uri": "https://localhost:8080/"
        },
        "id": "DMklSUtRugcL",
        "outputId": "05415873-c8f2-4b7c-c90f-74e2e73549fb"
      },
      "execution_count": 60,
      "outputs": [
        {
          "output_type": "execute_result",
          "data": {
            "text/plain": [
              "array([[[100, 103, 112],\n",
              "        [ 98, 101, 110],\n",
              "        [ 97, 100, 109],\n",
              "        ...,\n",
              "        [120, 119, 124],\n",
              "        [120, 119, 124],\n",
              "        [114, 113, 118]],\n",
              "\n",
              "       [[107, 110, 119],\n",
              "        [106, 109, 118],\n",
              "        [102, 105, 114],\n",
              "        ...,\n",
              "        [116, 115, 121],\n",
              "        [117, 116, 121],\n",
              "        [116, 115, 120]],\n",
              "\n",
              "       [[108, 111, 120],\n",
              "        [108, 111, 120],\n",
              "        [101, 104, 113],\n",
              "        ...,\n",
              "        [106, 105, 111],\n",
              "        [112, 111, 116],\n",
              "        [116, 115, 120]],\n",
              "\n",
              "       ...,\n",
              "\n",
              "       [[ 64,  62,  73],\n",
              "        [ 66,  64,  75],\n",
              "        [ 67,  65,  76],\n",
              "        ...,\n",
              "        [240, 241, 238],\n",
              "        [237, 238, 233],\n",
              "        [237, 238, 233]],\n",
              "\n",
              "       [[ 65,  63,  74],\n",
              "        [ 66,  64,  75],\n",
              "        [ 70,  68,  79],\n",
              "        ...,\n",
              "        [241, 241, 239],\n",
              "        [240, 241, 236],\n",
              "        [240, 241, 236]],\n",
              "\n",
              "       [[ 73,  71,  82],\n",
              "        [ 70,  68,  79],\n",
              "        [ 72,  70,  81],\n",
              "        ...,\n",
              "        [239, 239, 238],\n",
              "        [240, 240, 237],\n",
              "        [240, 241, 236]]], dtype=uint8)"
            ]
          },
          "metadata": {},
          "execution_count": 60
        }
      ]
    },
    {
      "cell_type": "markdown",
      "source": [
        "# linux\n",
        "1-برای تنظیمات گراب بهتر است کدوم فولدر تغییر داده شود\n",
        "\n",
        "2- شما برنامه ای را برای پیش بینی قیمت کالا نوشته اید این برمامه برای ران شدن احتیاج به خواندن ورودی به عنوان کانفیگ دارد کانفیگ های برنامه بهتر است چگونه و در کجا اعمال شوند\n",
        "\n",
        "3-به نظر شما نود پرینتر یا هر سخت افزار در کدام فولدر ذخیره میشود\n",
        "\n",
        "4-چیست bios کار\n",
        "\n",
        "5- منظور از ~ چیست"
      ],
      "metadata": {
        "id": "6WEDqaz_3WVh"
      }
    }
  ]
}