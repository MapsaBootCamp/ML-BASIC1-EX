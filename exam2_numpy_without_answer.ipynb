{
 "cells": [
  {
   "cell_type": "markdown",
   "metadata": {
    "id": "9U1oR4G6phxk"
   },
   "source": [
    "# تمامی سوالات با نامپای حل شود و لیست ها به\n",
    "# numpy array\n",
    "\n",
    "# تبدیل شود\n",
    " نامپای اری = numpy array\n",
    "\n",
    " اری = array"
   ]
  },
  {
   "cell_type": "code",
   "execution_count": 2,
   "metadata": {},
   "outputs": [],
   "source": [
    "import numpy as np"
   ]
  },
  {
   "cell_type": "markdown",
   "metadata": {
    "id": "-aJMm-G8j-tk"
   },
   "source": [
    "۱-\n",
    "اعداد فرد را با -۱ جایگزین کنید\n",
    "\n",
    "[0, 1, 2, 3, 4, 5, 6, 7, 8, 9]"
   ]
  },
  {
   "cell_type": "code",
   "execution_count": 6,
   "metadata": {
    "colab": {
     "base_uri": "https://localhost:8080/"
    },
    "id": "QoDo1HE6j9d7",
    "outputId": "5bfb26fc-2a92-41b5-bec0-b1da3a1d3211",
    "tags": []
   },
   "outputs": [
    {
     "data": {
      "text/plain": [
       "array([0, 1, 2, 3, 4, 5, 6, 7, 8, 9])"
      ]
     },
     "execution_count": 6,
     "metadata": {},
     "output_type": "execute_result"
    }
   ],
   "source": [
    "data_list=[0,1,2,3,4,5,6,7,8,9]\n",
    "data_array=np.array(data_list)\n",
    "data_array"
   ]
  },
  {
   "cell_type": "code",
   "execution_count": 8,
   "metadata": {},
   "outputs": [
    {
     "data": {
      "text/plain": [
       "array([ 0, -1,  2, -1,  4, -1,  6, -1,  8, -1])"
      ]
     },
     "execution_count": 8,
     "metadata": {},
     "output_type": "execute_result"
    }
   ],
   "source": [
    "data_array[data_array%2!=0]=-1\n",
    "data_array"
   ]
  },
  {
   "cell_type": "markdown",
   "metadata": {
    "id": "crI0NSuDlVGh"
   },
   "source": [
    "۲- خروجی کد بالا را به شکل زیر تغییر دهید"
   ]
  },
  {
   "cell_type": "code",
   "execution_count": 9,
   "metadata": {
    "colab": {
     "base_uri": "https://localhost:8080/"
    },
    "id": "Hl2Xmim_lPjI",
    "outputId": "02ea0e86-e220-4289-f75f-f9509dfbd044"
   },
   "outputs": [
    {
     "data": {
      "text/plain": [
       "array([[ 0, -1,  2, -1,  4],\n",
       "       [-1,  6, -1,  8, -1]])"
      ]
     },
     "execution_count": 9,
     "metadata": {},
     "output_type": "execute_result"
    }
   ],
   "source": [
    "data_array.reshape(2,5)"
   ]
  },
  {
   "cell_type": "markdown",
   "metadata": {
    "id": "7Bs4QG5nl7hD"
   },
   "source": [
    "[1,2,3,2,3,4,3,4,5,6]\n",
    "\n",
    "[7,2,10,2,7,4,9,4,9,8]\n",
    "\n",
    "۳- مشخص کنید بین دو لیست گفته شده کدام اعضا و در چه ایندکسی اشتراک دارند"
   ]
  },
  {
   "cell_type": "code",
   "execution_count": 16,
   "metadata": {},
   "outputs": [
    {
     "name": "stdout",
     "output_type": "stream",
     "text": [
      "اعضای مشترک: [2 4]\n",
      " ایندکس های مشترک لیست اول: [1 3 5 7]\n",
      " ایندکس های مشترک لیست دوم: [1 3 5 7]\n"
     ]
    }
   ],
   "source": [
    "list1 = [1,2,3,2,3,4,3,4,5,6]\n",
    "list2 = [7,2,10,2,7,4,9,4,9,8]\n",
    "arr1 = np.array(list1)\n",
    "arr2 = np.array(list2)\n",
    "intersect = np.intersect1d(arr1, arr2)\n",
    "index1 = np.where(np.isin(arr1, intersect))[0]\n",
    "index2 = np.where(np.isin(arr2, intersect))[0]\n",
    "print(f'اعضای مشترک: {intersect}\\n ایندکس های مشترک لیست اول: {index1}\\n ایندکس های مشترک لیست دوم: {index2}')\n"
   ]
  },
  {
   "cell_type": "markdown",
   "metadata": {
    "id": "TCbDJ_Hom-_T"
   },
   "source": [
    "array([ 0,  1,  2, ..., 12, 13, 14]\n",
    "\n",
    "۴- برای حذف سه نقطه به هنگام پرینت چه راهی پیشنهاد می دهید\n",
    "\n",
    "و با چه روشی میتوان چک کرد مقدار خالی وجود دارد یا خیر\n"
   ]
  },
  {
   "cell_type": "code",
   "execution_count": null,
   "metadata": {},
   "outputs": [],
   "source": []
  },
  {
   "cell_type": "code",
   "execution_count": null,
   "metadata": {},
   "outputs": [],
   "source": []
  },
  {
   "cell_type": "markdown",
   "metadata": {
    "id": "hGcIjdVRpIhO"
   },
   "source": [
    "۵- مقادیر یکتای لیست زیر چقدر است و از هر کدام چند تا در لیست وجود دارد\n",
    "\n",
    "[1,2,3,2,3,4,3,4,5,6]"
   ]
  },
  {
   "cell_type": "code",
   "execution_count": 4,
   "metadata": {
    "colab": {
     "base_uri": "https://localhost:8080/"
    },
    "id": "d-7MSzEpoUNn",
    "outputId": "b4ca36e2-7de6-463a-9926-672e9b005996"
   },
   "outputs": [
    {
     "name": "stdout",
     "output_type": "stream",
     "text": [
      "مقادیر یکتا:[1 2 3 4 5 6]\n",
      "تعداد هر مقدار یکتا:[1 2 3 2 1 1]\n"
     ]
    }
   ],
   "source": [
    "data_list = [1, 2, 3, 2, 3, 4, 3, 4, 5, 6]\n",
    "data_array = np.array(data_list)\n",
    "unique_values = np.unique(data_array)\n",
    "count_of_each_value = np.bincount(data_array)\n",
    "print(f\"مقادیر یکتا:{unique_values}\")\n",
    "print(f\"تعداد هر مقدار یکتا:{count_of_each_value[unique_values]}\")\n"
   ]
  },
  {
   "cell_type": "markdown",
   "metadata": {
    "id": "ApHYEVwuqtTg"
   },
   "source": [
    "۶- یک array\n",
    "\n",
    " رندوم ۳۰ عضوی بین اعداد ۱ تا ۵۰ بسازید و اعدادی که کوچکتر از ۱۰ هستند را به ۱۰ و اعدادی که از ۳۰ بزرگتر هستند را به ۳۰ تغییر دهید"
   ]
  },
  {
   "cell_type": "code",
   "execution_count": 35,
   "metadata": {
    "colab": {
     "base_uri": "https://localhost:8080/"
    },
    "id": "wi70Mm8Vo0Ml",
    "outputId": "4b1422f7-811c-4fb8-fe1a-f58644ef1975"
   },
   "outputs": [
    {
     "name": "stdout",
     "output_type": "stream",
     "text": [
      "[23.99213578  6.79434881  7.47161328  2.98369886 19.87547265 25.85227543\n",
      " 16.53612713 35.22903138 26.27327078 13.42595758 41.00071741 44.88831928\n",
      " 34.59393299 43.68760877 14.37645858 37.02308517  1.1040843   9.4327936\n",
      " 27.05016625 22.96842904  9.46382979 14.04737656 12.60659551 25.44846811\n",
      " 28.31007323  2.34536133 45.70135928 11.09954534  7.72578513 11.09657516]\n",
      "[23.99213578 10.         10.         10.         19.87547265 25.85227543\n",
      " 16.53612713 30.         26.27327078 13.42595758 30.         30.\n",
      " 30.         30.         14.37645858 30.         10.         10.\n",
      " 27.05016625 22.96842904 10.         14.04737656 12.60659551 25.44846811\n",
      " 28.31007323 10.         30.         11.09954534 10.         11.09657516]\n"
     ]
    }
   ],
   "source": [
    "random_array = np.random.uniform(1, 51, 30)\n",
    "print(random_array)\n",
    "random_array[random_array < 10] = 10\n",
    "random_array[random_array > 30] = 30\n",
    "print(random_array)"
   ]
  },
  {
   "cell_type": "markdown",
   "metadata": {
    "id": "yqDvPeDsr86h"
   },
   "source": [
    "۷-  array یک\n",
    "\n",
    "سه بعدی ساخته و در انتها آن را یک بعدی کنید"
   ]
  },
  {
   "cell_type": "code",
   "execution_count": 46,
   "metadata": {
    "colab": {
     "base_uri": "https://localhost:8080/"
    },
    "id": "HZLxYYD0rqQ3",
    "outputId": "05cd0c02-3d27-4f66-cd30-d259849e6a6b"
   },
   "outputs": [
    {
     "data": {
      "text/plain": [
       "array([[[11, 26, 21, 10, 17],\n",
       "        [21, 21, 32, 26, 19]],\n",
       "\n",
       "       [[47,  9,  4,  2,  3],\n",
       "        [25, 45, 34, 18, 39]],\n",
       "\n",
       "       [[15, 20, 15, 39, 44],\n",
       "        [48, 17,  8, 14, 23]]])"
      ]
     },
     "execution_count": 46,
     "metadata": {},
     "output_type": "execute_result"
    }
   ],
   "source": [
    "arr = np.random.randint(1, 51, size=(3, 2, 5))\n",
    "arr"
   ]
  },
  {
   "cell_type": "code",
   "execution_count": 48,
   "metadata": {},
   "outputs": [
    {
     "data": {
      "text/plain": [
       "array([[11, 26, 21, 10, 17, 21, 21, 32, 26, 19, 47,  9,  4,  2,  3, 25,\n",
       "        45, 34, 18, 39, 15, 20, 15, 39, 44, 48, 17,  8, 14, 23]])"
      ]
     },
     "execution_count": 48,
     "metadata": {},
     "output_type": "execute_result"
    }
   ],
   "source": [
    "arr.reshape(1,30)"
   ]
  },
  {
   "cell_type": "markdown",
   "metadata": {
    "id": "lPvjwDButXsY"
   },
   "source": [
    "۸- بزرگترین عضو در هر ردیف و سپس بزرگترین عضو در هر ستون بیابید"
   ]
  },
  {
   "cell_type": "code",
   "execution_count": 50,
   "metadata": {
    "colab": {
     "base_uri": "https://localhost:8080/"
    },
    "id": "UHnkAFfOuApB",
    "outputId": "c3734429-eccb-493b-c0fb-2cfe3a91a8e5",
    "tags": []
   },
   "outputs": [
    {
     "name": "stdout",
     "output_type": "stream",
     "text": [
      "[[9 9 4 8]\n",
      " [8 1 5 3]\n",
      " [6 3 3 3]\n",
      " [2 1 9 5]\n",
      " [1 7 3 5]\n",
      " [2 6 4 5]\n",
      " [5 4 8 2]\n",
      " [2 8 8 1]]\n",
      "بزرگترین هر ردیف:\n",
      " [9 8 6 9 7 6 8 8]\n",
      "بزرگترین هر ردیف:\n",
      " [9 9 9 8]\n"
     ]
    }
   ],
   "source": [
    "np.random.seed(100)\n",
    "a = np.random.randint(1,10, [8,4])\n",
    "print(a)\n",
    "max_row=np.max(a,axis=1)\n",
    "max_col=np.max(a,axis=0)\n",
    "print(f\"بزرگترین هر ردیف:\\n {max_row}\")\n",
    "print(f\"بزرگترین هر ردیف:\\n {max_col}\")"
   ]
  },
  {
   "cell_type": "markdown",
   "metadata": {
    "id": "cLNzAJuwyS8t"
   },
   "source": [
    "۹- نامپای اری را بسازید که بین دو تاریخ '2022-02-01' و '2022-02-25'\n",
    "به صورت یک روز در میان باشد\n",
    "\n",
    "حالا روزهای جا افتاده در اری بالا را به آن اضافه کنید\n"
   ]
  },
  {
   "cell_type": "code",
   "execution_count": 9,
   "metadata": {},
   "outputs": [
    {
     "data": {
      "text/plain": [
       "array(['2022-02-01', '2022-02-03', '2022-02-05', '2022-02-07',\n",
       "       '2022-02-09', '2022-02-11', '2022-02-13', '2022-02-15',\n",
       "       '2022-02-17', '2022-02-19', '2022-02-21', '2022-02-23'],\n",
       "      dtype='datetime64[D]')"
      ]
     },
     "execution_count": 9,
     "metadata": {},
     "output_type": "execute_result"
    }
   ],
   "source": [
    "dt=np.arange(np.datetime64('2022-02-01'), np.datetime64('2022-02-25'),np.timedelta64(2, \"D\"))\n",
    "dt"
   ]
  },
  {
   "cell_type": "code",
   "execution_count": 10,
   "metadata": {},
   "outputs": [
    {
     "data": {
      "text/plain": [
       "array(['2022-02-01', '2022-02-02', '2022-02-03', '2022-02-04',\n",
       "       '2022-02-05', '2022-02-06', '2022-02-07', '2022-02-08',\n",
       "       '2022-02-09', '2022-02-10', '2022-02-11', '2022-02-12',\n",
       "       '2022-02-13', '2022-02-14', '2022-02-15', '2022-02-16',\n",
       "       '2022-02-17', '2022-02-18', '2022-02-19', '2022-02-20',\n",
       "       '2022-02-21', '2022-02-22', '2022-02-23', '2022-02-24'],\n",
       "      dtype='datetime64[D]')"
      ]
     },
     "execution_count": 10,
     "metadata": {},
     "output_type": "execute_result"
    }
   ],
   "source": [
    "extra = (dt[1] - dt[0])\n",
    "result = np.arange(np.datetime64(dt[0]), np.datetime64(dt[-1] + extra))\n",
    "result"
   ]
  },
  {
   "cell_type": "markdown",
   "metadata": {
    "id": "-kiAuUBPzKAy"
   },
   "source": [
    "۱۰- عکس زیر را با کتابخانه\n",
    "\n",
    "requests\n",
    "\n",
    "گرفته و سپس با استفاده از کتابخانه\n",
    "\n",
    "BytesIO\n",
    "\n",
    "آن را باز کرده و به سایز ۲۵۰ در ۲۵۰ تغییر داده و در نامپای اری ذخیره کنید\n"
   ]
  },
  {
   "cell_type": "code",
   "execution_count": 60,
   "metadata": {
    "colab": {
     "base_uri": "https://localhost:8080/"
    },
    "id": "DMklSUtRugcL",
    "outputId": "05415873-c8f2-4b7c-c90f-74e2e73549fb"
   },
   "outputs": [
    {
     "data": {
      "text/plain": [
       "array([[[100, 103, 112],\n",
       "        [ 98, 101, 110],\n",
       "        [ 97, 100, 109],\n",
       "        ...,\n",
       "        [120, 119, 124],\n",
       "        [120, 119, 124],\n",
       "        [114, 113, 118]],\n",
       "\n",
       "       [[107, 110, 119],\n",
       "        [106, 109, 118],\n",
       "        [102, 105, 114],\n",
       "        ...,\n",
       "        [116, 115, 121],\n",
       "        [117, 116, 121],\n",
       "        [116, 115, 120]],\n",
       "\n",
       "       [[108, 111, 120],\n",
       "        [108, 111, 120],\n",
       "        [101, 104, 113],\n",
       "        ...,\n",
       "        [106, 105, 111],\n",
       "        [112, 111, 116],\n",
       "        [116, 115, 120]],\n",
       "\n",
       "       ...,\n",
       "\n",
       "       [[ 64,  62,  73],\n",
       "        [ 66,  64,  75],\n",
       "        [ 67,  65,  76],\n",
       "        ...,\n",
       "        [240, 241, 238],\n",
       "        [237, 238, 233],\n",
       "        [237, 238, 233]],\n",
       "\n",
       "       [[ 65,  63,  74],\n",
       "        [ 66,  64,  75],\n",
       "        [ 70,  68,  79],\n",
       "        ...,\n",
       "        [241, 241, 239],\n",
       "        [240, 241, 236],\n",
       "        [240, 241, 236]],\n",
       "\n",
       "       [[ 73,  71,  82],\n",
       "        [ 70,  68,  79],\n",
       "        [ 72,  70,  81],\n",
       "        ...,\n",
       "        [239, 239, 238],\n",
       "        [240, 240, 237],\n",
       "        [240, 241, 236]]], dtype=uint8)"
      ]
     },
     "execution_count": 60,
     "metadata": {},
     "output_type": "execute_result"
    }
   ],
   "source": []
  },
  {
   "cell_type": "markdown",
   "metadata": {
    "id": "6WEDqaz_3WVh"
   },
   "source": [
    "# linux\n",
    "1-برای تنظیمات گراب بهتر است کدوم فولدر تغییر داده شود\n",
    "\n",
    "2- شما برنامه ای را برای پیش بینی قیمت کالا نوشته اید این برمامه برای ران شدن احتیاج به خواندن ورودی به عنوان کانفیگ دارد کانفیگ های برنامه بهتر است چگونه و در کجا اعمال شوند\n",
    "\n",
    "3-به نظر شما نود پرینتر یا هر سخت افزار در کدام فولدر ذخیره میشود\n",
    "\n",
    "4-چیست bios کار\n",
    "\n",
    "5- منظور از ~ چیست"
   ]
  }
 ],
 "metadata": {
  "colab": {
   "provenance": []
  },
  "kernelspec": {
   "display_name": "Python 3 (ipykernel)",
   "language": "python",
   "name": "python3"
  },
  "language_info": {
   "codemirror_mode": {
    "name": "ipython",
    "version": 3
   },
   "file_extension": ".py",
   "mimetype": "text/x-python",
   "name": "python",
   "nbconvert_exporter": "python",
   "pygments_lexer": "ipython3",
   "version": "3.9.13"
  }
 },
 "nbformat": 4,
 "nbformat_minor": 4
}
