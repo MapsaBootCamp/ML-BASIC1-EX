{
 "cells": [
  {
   "cell_type": "markdown",
   "metadata": {
    "id": "B-JkskUgRyOb"
   },
   "source": [
    "Quiz Title: Bitcoin Price Forecasting with ARIMA\n",
    "\n",
    "Quiz Description:\n",
    "\n",
    "First collect bitcoin price from 2022-01-01T00:00:00Z till 2022-12-01T23:59:59Z within 1 hour interval you can use wallex or nobitex or coinbase.com or ...\n",
    "\n",
    "Then Your task is to use the ARIMA (AutoRegressive Integrated Moving Average) model to forecast the price of Bitcoin for a future period accoarding to data that you collected.\n",
    "\n",
    "Question 1: Perform a visual analysis of the dataset. Plot the time series of Bitcoin prices over the 12 months.\n",
    "\n",
    "Question 2: Before applying ARIMA, what steps would you take to make the time series stationary? Do them all\n",
    "\n",
    "Question 3: Apply the ARIMA model to the dataset. Choose appropriate values for p, d, and q.\n",
    "\n",
    "Question 4: Forecast the Bitcoin price for the next 3 hours using your ARIMA model.\n",
    "\n",
    "Question 5: Evaluate the performance of your ARIMA model. Calculate and explain appropriate evaluation metrics such as Mean Absolute Error (MAE) and Root Mean Squared Error (RMSE) for your forecast."
   ]
  },
  {
   "cell_type": "code",
   "execution_count": 43,
   "metadata": {},
   "outputs": [],
   "source": [
    "import json\n",
    "from statsmodels.graphics.tsaplots import plot_acf , plot_pacf\n",
    "from statsmodels.tsa.stattools import adfuller\n",
    "from sklearn.metrics import mean_absolute_error, mean_squared_error\n",
    "from sklearn.model_selection import train_test_split\n",
    "import requests\n",
    "import pandas as pd\n",
    "import matplotlib.pyplot as plt\n",
    "import datetime\n",
    "import pandas as pd\n",
    "import numpy as np \n",
    "import matplotlib.pyplot as plt\n",
    "import datetime\n",
    "import matplotlib.pyplot as plt\n",
    "import seaborn as sns\n"
   ]
  },
  {
   "cell_type": "code",
   "execution_count": 44,
   "metadata": {
    "scrolled": true
   },
   "outputs": [
    {
     "data": {
      "text/plain": [
       "<Response [200]>"
      ]
     },
     "execution_count": 44,
     "metadata": {},
     "output_type": "execute_result"
    }
   ],
   "source": [
    "symbol = 'BTCUSDT'\n",
    "from_timestamp = int(datetime.datetime(year=2022,month=1,day=1).timestamp())\n",
    "to_timestamp = int(datetime.datetime(2022,12,31).timestamp())\n",
    "\n",
    "wallex = f'https://api.wallex.ir/v1/udf/history?symbol={symbol}&resolution=60&from={from_timestamp}&to={to_timestamp}'\n",
    "\n",
    "r= requests.get(wallex)\n",
    "r"
   ]
  },
  {
   "cell_type": "code",
   "execution_count": 45,
   "metadata": {},
   "outputs": [
    {
     "data": {
      "text/plain": [
       "dict_keys(['s', 't', 'c', 'o', 'h', 'l', 'v'])"
      ]
     },
     "execution_count": 45,
     "metadata": {},
     "output_type": "execute_result"
    }
   ],
   "source": [
    "data=r.json()\n",
    "data.keys()"
   ]
  },
  {
   "cell_type": "code",
   "execution_count": 46,
   "metadata": {},
   "outputs": [
    {
     "data": {
      "text/html": [
       "<div>\n",
       "<style scoped>\n",
       "    .dataframe tbody tr th:only-of-type {\n",
       "        vertical-align: middle;\n",
       "    }\n",
       "\n",
       "    .dataframe tbody tr th {\n",
       "        vertical-align: top;\n",
       "    }\n",
       "\n",
       "    .dataframe thead th {\n",
       "        text-align: right;\n",
       "    }\n",
       "</style>\n",
       "<table border=\"1\" class=\"dataframe\">\n",
       "  <thead>\n",
       "    <tr style=\"text-align: right;\">\n",
       "      <th></th>\n",
       "      <th>date_time</th>\n",
       "      <th>close</th>\n",
       "      <th>open</th>\n",
       "      <th>high</th>\n",
       "      <th>low</th>\n",
       "    </tr>\n",
       "  </thead>\n",
       "  <tbody>\n",
       "    <tr>\n",
       "      <th>0</th>\n",
       "      <td>1640984400</td>\n",
       "      <td>46850.0000000000000000</td>\n",
       "      <td>46850.0000000000000000</td>\n",
       "      <td>46850.0000000000000000</td>\n",
       "      <td>46850.0000000000000000</td>\n",
       "    </tr>\n",
       "    <tr>\n",
       "      <th>1</th>\n",
       "      <td>1640988000</td>\n",
       "      <td>46657.4500000000000000</td>\n",
       "      <td>47265.7000000000000000</td>\n",
       "      <td>47265.7000000000000000</td>\n",
       "      <td>46400.0000000000000000</td>\n",
       "    </tr>\n",
       "    <tr>\n",
       "      <th>2</th>\n",
       "      <td>1640991600</td>\n",
       "      <td>46000.0000000000000000</td>\n",
       "      <td>46100.0000000000000000</td>\n",
       "      <td>46176.7900000000000000</td>\n",
       "      <td>46000.0000000000000000</td>\n",
       "    </tr>\n",
       "    <tr>\n",
       "      <th>3</th>\n",
       "      <td>1640995200</td>\n",
       "      <td>45800.1100000000000000</td>\n",
       "      <td>45900.0000000000000000</td>\n",
       "      <td>45900.0000000000000000</td>\n",
       "      <td>45800.1100000000000000</td>\n",
       "    </tr>\n",
       "    <tr>\n",
       "      <th>4</th>\n",
       "      <td>1640998800</td>\n",
       "      <td>46146.4300000000000000</td>\n",
       "      <td>46124.8500000000000000</td>\n",
       "      <td>46155.7100000000000000</td>\n",
       "      <td>45946.2800000000000000</td>\n",
       "    </tr>\n",
       "    <tr>\n",
       "      <th>...</th>\n",
       "      <td>...</td>\n",
       "      <td>...</td>\n",
       "      <td>...</td>\n",
       "      <td>...</td>\n",
       "      <td>...</td>\n",
       "    </tr>\n",
       "    <tr>\n",
       "      <th>8586</th>\n",
       "      <td>1672416000</td>\n",
       "      <td>16568.6100000000000000</td>\n",
       "      <td>16389.6900000000000000</td>\n",
       "      <td>16568.6100000000000000</td>\n",
       "      <td>16388.6900000000000000</td>\n",
       "    </tr>\n",
       "    <tr>\n",
       "      <th>8587</th>\n",
       "      <td>1672419600</td>\n",
       "      <td>16568.6100000000000000</td>\n",
       "      <td>16568.6100000000000000</td>\n",
       "      <td>16568.6100000000000000</td>\n",
       "      <td>16568.6100000000000000</td>\n",
       "    </tr>\n",
       "    <tr>\n",
       "      <th>8588</th>\n",
       "      <td>1672423200</td>\n",
       "      <td>16560.2200000000000000</td>\n",
       "      <td>16504.1800000000000000</td>\n",
       "      <td>16566.6600000000000000</td>\n",
       "      <td>16504.1800000000000000</td>\n",
       "    </tr>\n",
       "    <tr>\n",
       "      <th>8589</th>\n",
       "      <td>1672426800</td>\n",
       "      <td>16568.6100000000000000</td>\n",
       "      <td>16568.6100000000000000</td>\n",
       "      <td>16568.6100000000000000</td>\n",
       "      <td>16568.6100000000000000</td>\n",
       "    </tr>\n",
       "    <tr>\n",
       "      <th>8590</th>\n",
       "      <td>1672430400</td>\n",
       "      <td>16577.7400000000000000</td>\n",
       "      <td>16568.6100000000000000</td>\n",
       "      <td>16577.7400000000000000</td>\n",
       "      <td>16533.8700000000000000</td>\n",
       "    </tr>\n",
       "  </tbody>\n",
       "</table>\n",
       "<p>8591 rows × 5 columns</p>\n",
       "</div>"
      ],
      "text/plain": [
       "       date_time                   close                    open  \\\n",
       "0     1640984400  46850.0000000000000000  46850.0000000000000000   \n",
       "1     1640988000  46657.4500000000000000  47265.7000000000000000   \n",
       "2     1640991600  46000.0000000000000000  46100.0000000000000000   \n",
       "3     1640995200  45800.1100000000000000  45900.0000000000000000   \n",
       "4     1640998800  46146.4300000000000000  46124.8500000000000000   \n",
       "...          ...                     ...                     ...   \n",
       "8586  1672416000  16568.6100000000000000  16389.6900000000000000   \n",
       "8587  1672419600  16568.6100000000000000  16568.6100000000000000   \n",
       "8588  1672423200  16560.2200000000000000  16504.1800000000000000   \n",
       "8589  1672426800  16568.6100000000000000  16568.6100000000000000   \n",
       "8590  1672430400  16577.7400000000000000  16568.6100000000000000   \n",
       "\n",
       "                        high                     low  \n",
       "0     46850.0000000000000000  46850.0000000000000000  \n",
       "1     47265.7000000000000000  46400.0000000000000000  \n",
       "2     46176.7900000000000000  46000.0000000000000000  \n",
       "3     45900.0000000000000000  45800.1100000000000000  \n",
       "4     46155.7100000000000000  45946.2800000000000000  \n",
       "...                      ...                     ...  \n",
       "8586  16568.6100000000000000  16388.6900000000000000  \n",
       "8587  16568.6100000000000000  16568.6100000000000000  \n",
       "8588  16566.6600000000000000  16504.1800000000000000  \n",
       "8589  16568.6100000000000000  16568.6100000000000000  \n",
       "8590  16577.7400000000000000  16533.8700000000000000  \n",
       "\n",
       "[8591 rows x 5 columns]"
      ]
     },
     "execution_count": 46,
     "metadata": {},
     "output_type": "execute_result"
    }
   ],
   "source": [
    "df=pd.DataFrame(data,columns=['t','c','o','h','l'])\n",
    "df.rename(columns={'t':'date_time','c':'close','o':'open','h':'high','l':'low'},inplace=True)\n",
    "df"
   ]
  },
  {
   "cell_type": "markdown",
   "metadata": {},
   "source": [
    "###### datetime.datetime.fromtimestamp(int(df['date_time'][5]))\n"
   ]
  },
  {
   "cell_type": "code",
   "execution_count": 47,
   "metadata": {},
   "outputs": [],
   "source": [
    "df['date_time']=df['date_time'].apply(lambda x: datetime.datetime.fromtimestamp(int(x)))\n"
   ]
  },
  {
   "cell_type": "code",
   "execution_count": 48,
   "metadata": {},
   "outputs": [
    {
     "name": "stdout",
     "output_type": "stream",
     "text": [
      "<class 'pandas.core.frame.DataFrame'>\n",
      "DatetimeIndex: 8591 entries, 2022-01-01 00:30:00 to 2022-12-30 23:30:00\n",
      "Data columns (total 4 columns):\n",
      " #   Column  Non-Null Count  Dtype \n",
      "---  ------  --------------  ----- \n",
      " 0   close   8591 non-null   object\n",
      " 1   open    8591 non-null   object\n",
      " 2   high    8591 non-null   object\n",
      " 3   low     8591 non-null   object\n",
      "dtypes: object(4)\n",
      "memory usage: 335.6+ KB\n"
     ]
    }
   ],
   "source": [
    "df.set_index('date_time', inplace=True)\n",
    "df.info()"
   ]
  },
  {
   "cell_type": "code",
   "execution_count": 49,
   "metadata": {},
   "outputs": [
    {
     "data": {
      "text/html": [
       "<div>\n",
       "<style scoped>\n",
       "    .dataframe tbody tr th:only-of-type {\n",
       "        vertical-align: middle;\n",
       "    }\n",
       "\n",
       "    .dataframe tbody tr th {\n",
       "        vertical-align: top;\n",
       "    }\n",
       "\n",
       "    .dataframe thead th {\n",
       "        text-align: right;\n",
       "    }\n",
       "</style>\n",
       "<table border=\"1\" class=\"dataframe\">\n",
       "  <thead>\n",
       "    <tr style=\"text-align: right;\">\n",
       "      <th></th>\n",
       "      <th>close</th>\n",
       "      <th>open</th>\n",
       "      <th>high</th>\n",
       "      <th>low</th>\n",
       "    </tr>\n",
       "    <tr>\n",
       "      <th>date_time</th>\n",
       "      <th></th>\n",
       "      <th></th>\n",
       "      <th></th>\n",
       "      <th></th>\n",
       "    </tr>\n",
       "  </thead>\n",
       "  <tbody>\n",
       "    <tr>\n",
       "      <th>2022-01-01 00:30:00</th>\n",
       "      <td>46850.0000000000000000</td>\n",
       "      <td>46850.0000000000000000</td>\n",
       "      <td>46850.0000000000000000</td>\n",
       "      <td>46850.0000000000000000</td>\n",
       "    </tr>\n",
       "    <tr>\n",
       "      <th>2022-01-01 01:30:00</th>\n",
       "      <td>46657.4500000000000000</td>\n",
       "      <td>47265.7000000000000000</td>\n",
       "      <td>47265.7000000000000000</td>\n",
       "      <td>46400.0000000000000000</td>\n",
       "    </tr>\n",
       "    <tr>\n",
       "      <th>2022-01-01 02:30:00</th>\n",
       "      <td>46000.0000000000000000</td>\n",
       "      <td>46100.0000000000000000</td>\n",
       "      <td>46176.7900000000000000</td>\n",
       "      <td>46000.0000000000000000</td>\n",
       "    </tr>\n",
       "    <tr>\n",
       "      <th>2022-01-01 03:30:00</th>\n",
       "      <td>45800.1100000000000000</td>\n",
       "      <td>45900.0000000000000000</td>\n",
       "      <td>45900.0000000000000000</td>\n",
       "      <td>45800.1100000000000000</td>\n",
       "    </tr>\n",
       "    <tr>\n",
       "      <th>2022-01-01 04:30:00</th>\n",
       "      <td>46146.4300000000000000</td>\n",
       "      <td>46124.8500000000000000</td>\n",
       "      <td>46155.7100000000000000</td>\n",
       "      <td>45946.2800000000000000</td>\n",
       "    </tr>\n",
       "    <tr>\n",
       "      <th>...</th>\n",
       "      <td>...</td>\n",
       "      <td>...</td>\n",
       "      <td>...</td>\n",
       "      <td>...</td>\n",
       "    </tr>\n",
       "    <tr>\n",
       "      <th>2022-12-30 19:30:00</th>\n",
       "      <td>16568.6100000000000000</td>\n",
       "      <td>16389.6900000000000000</td>\n",
       "      <td>16568.6100000000000000</td>\n",
       "      <td>16388.6900000000000000</td>\n",
       "    </tr>\n",
       "    <tr>\n",
       "      <th>2022-12-30 20:30:00</th>\n",
       "      <td>16568.6100000000000000</td>\n",
       "      <td>16568.6100000000000000</td>\n",
       "      <td>16568.6100000000000000</td>\n",
       "      <td>16568.6100000000000000</td>\n",
       "    </tr>\n",
       "    <tr>\n",
       "      <th>2022-12-30 21:30:00</th>\n",
       "      <td>16560.2200000000000000</td>\n",
       "      <td>16504.1800000000000000</td>\n",
       "      <td>16566.6600000000000000</td>\n",
       "      <td>16504.1800000000000000</td>\n",
       "    </tr>\n",
       "    <tr>\n",
       "      <th>2022-12-30 22:30:00</th>\n",
       "      <td>16568.6100000000000000</td>\n",
       "      <td>16568.6100000000000000</td>\n",
       "      <td>16568.6100000000000000</td>\n",
       "      <td>16568.6100000000000000</td>\n",
       "    </tr>\n",
       "    <tr>\n",
       "      <th>2022-12-30 23:30:00</th>\n",
       "      <td>16577.7400000000000000</td>\n",
       "      <td>16568.6100000000000000</td>\n",
       "      <td>16577.7400000000000000</td>\n",
       "      <td>16533.8700000000000000</td>\n",
       "    </tr>\n",
       "  </tbody>\n",
       "</table>\n",
       "<p>8591 rows × 4 columns</p>\n",
       "</div>"
      ],
      "text/plain": [
       "                                      close                    open  \\\n",
       "date_time                                                             \n",
       "2022-01-01 00:30:00  46850.0000000000000000  46850.0000000000000000   \n",
       "2022-01-01 01:30:00  46657.4500000000000000  47265.7000000000000000   \n",
       "2022-01-01 02:30:00  46000.0000000000000000  46100.0000000000000000   \n",
       "2022-01-01 03:30:00  45800.1100000000000000  45900.0000000000000000   \n",
       "2022-01-01 04:30:00  46146.4300000000000000  46124.8500000000000000   \n",
       "...                                     ...                     ...   \n",
       "2022-12-30 19:30:00  16568.6100000000000000  16389.6900000000000000   \n",
       "2022-12-30 20:30:00  16568.6100000000000000  16568.6100000000000000   \n",
       "2022-12-30 21:30:00  16560.2200000000000000  16504.1800000000000000   \n",
       "2022-12-30 22:30:00  16568.6100000000000000  16568.6100000000000000   \n",
       "2022-12-30 23:30:00  16577.7400000000000000  16568.6100000000000000   \n",
       "\n",
       "                                       high                     low  \n",
       "date_time                                                            \n",
       "2022-01-01 00:30:00  46850.0000000000000000  46850.0000000000000000  \n",
       "2022-01-01 01:30:00  47265.7000000000000000  46400.0000000000000000  \n",
       "2022-01-01 02:30:00  46176.7900000000000000  46000.0000000000000000  \n",
       "2022-01-01 03:30:00  45900.0000000000000000  45800.1100000000000000  \n",
       "2022-01-01 04:30:00  46155.7100000000000000  45946.2800000000000000  \n",
       "...                                     ...                     ...  \n",
       "2022-12-30 19:30:00  16568.6100000000000000  16388.6900000000000000  \n",
       "2022-12-30 20:30:00  16568.6100000000000000  16568.6100000000000000  \n",
       "2022-12-30 21:30:00  16566.6600000000000000  16504.1800000000000000  \n",
       "2022-12-30 22:30:00  16568.6100000000000000  16568.6100000000000000  \n",
       "2022-12-30 23:30:00  16577.7400000000000000  16533.8700000000000000  \n",
       "\n",
       "[8591 rows x 4 columns]"
      ]
     },
     "execution_count": 49,
     "metadata": {},
     "output_type": "execute_result"
    }
   ],
   "source": [
    "df"
   ]
  },
  {
   "cell_type": "code",
   "execution_count": 50,
   "metadata": {},
   "outputs": [
    {
     "name": "stdout",
     "output_type": "stream",
     "text": [
      "<class 'pandas.core.frame.DataFrame'>\n",
      "DatetimeIndex: 8591 entries, 2022-01-01 00:30:00 to 2022-12-30 23:30:00\n",
      "Data columns (total 4 columns):\n",
      " #   Column  Non-Null Count  Dtype \n",
      "---  ------  --------------  ----- \n",
      " 0   close   8591 non-null   object\n",
      " 1   open    8591 non-null   object\n",
      " 2   high    8591 non-null   object\n",
      " 3   low     8591 non-null   object\n",
      "dtypes: object(4)\n",
      "memory usage: 335.6+ KB\n"
     ]
    }
   ],
   "source": [
    "df.info()"
   ]
  },
  {
   "cell_type": "code",
   "execution_count": 51,
   "metadata": {
    "scrolled": true
   },
   "outputs": [
    {
     "name": "stdout",
     "output_type": "stream",
     "text": [
      "<class 'pandas.core.frame.DataFrame'>\n",
      "DatetimeIndex: 8591 entries, 2022-01-01 00:30:00 to 2022-12-30 23:30:00\n",
      "Data columns (total 4 columns):\n",
      " #   Column  Non-Null Count  Dtype  \n",
      "---  ------  --------------  -----  \n",
      " 0   close   8591 non-null   float64\n",
      " 1   open    8591 non-null   float64\n",
      " 2   high    8591 non-null   float64\n",
      " 3   low     8591 non-null   float64\n",
      "dtypes: float64(4)\n",
      "memory usage: 335.6 KB\n"
     ]
    }
   ],
   "source": [
    "for column in df.columns:\n",
    "    df[column] = df[column].astype(float)\n",
    "    \n",
    "    \n",
    "    \n",
    "df.info()\n"
   ]
  },
  {
   "cell_type": "code",
   "execution_count": 52,
   "metadata": {},
   "outputs": [
    {
     "data": {
      "text/html": [
       "<div>\n",
       "<style scoped>\n",
       "    .dataframe tbody tr th:only-of-type {\n",
       "        vertical-align: middle;\n",
       "    }\n",
       "\n",
       "    .dataframe tbody tr th {\n",
       "        vertical-align: top;\n",
       "    }\n",
       "\n",
       "    .dataframe thead th {\n",
       "        text-align: right;\n",
       "    }\n",
       "</style>\n",
       "<table border=\"1\" class=\"dataframe\">\n",
       "  <thead>\n",
       "    <tr style=\"text-align: right;\">\n",
       "      <th></th>\n",
       "      <th>close</th>\n",
       "      <th>open</th>\n",
       "      <th>high</th>\n",
       "      <th>low</th>\n",
       "    </tr>\n",
       "    <tr>\n",
       "      <th>date_time</th>\n",
       "      <th></th>\n",
       "      <th></th>\n",
       "      <th></th>\n",
       "      <th></th>\n",
       "    </tr>\n",
       "  </thead>\n",
       "  <tbody>\n",
       "    <tr>\n",
       "      <th>2022-01-01 00:30:00</th>\n",
       "      <td>46850.00</td>\n",
       "      <td>46850.00</td>\n",
       "      <td>46850.00</td>\n",
       "      <td>46850.00</td>\n",
       "    </tr>\n",
       "    <tr>\n",
       "      <th>2022-01-01 01:30:00</th>\n",
       "      <td>46657.45</td>\n",
       "      <td>47265.70</td>\n",
       "      <td>47265.70</td>\n",
       "      <td>46400.00</td>\n",
       "    </tr>\n",
       "    <tr>\n",
       "      <th>2022-01-01 02:30:00</th>\n",
       "      <td>46000.00</td>\n",
       "      <td>46100.00</td>\n",
       "      <td>46176.79</td>\n",
       "      <td>46000.00</td>\n",
       "    </tr>\n",
       "    <tr>\n",
       "      <th>2022-01-01 03:30:00</th>\n",
       "      <td>45800.11</td>\n",
       "      <td>45900.00</td>\n",
       "      <td>45900.00</td>\n",
       "      <td>45800.11</td>\n",
       "    </tr>\n",
       "    <tr>\n",
       "      <th>2022-01-01 04:30:00</th>\n",
       "      <td>46146.43</td>\n",
       "      <td>46124.85</td>\n",
       "      <td>46155.71</td>\n",
       "      <td>45946.28</td>\n",
       "    </tr>\n",
       "    <tr>\n",
       "      <th>...</th>\n",
       "      <td>...</td>\n",
       "      <td>...</td>\n",
       "      <td>...</td>\n",
       "      <td>...</td>\n",
       "    </tr>\n",
       "    <tr>\n",
       "      <th>2022-12-01 19:30:00</th>\n",
       "      <td>17003.37</td>\n",
       "      <td>17000.00</td>\n",
       "      <td>17018.91</td>\n",
       "      <td>16987.69</td>\n",
       "    </tr>\n",
       "    <tr>\n",
       "      <th>2022-12-01 20:30:00</th>\n",
       "      <td>17003.37</td>\n",
       "      <td>17003.37</td>\n",
       "      <td>17003.37</td>\n",
       "      <td>17003.37</td>\n",
       "    </tr>\n",
       "    <tr>\n",
       "      <th>2022-12-01 21:30:00</th>\n",
       "      <td>17003.37</td>\n",
       "      <td>17003.37</td>\n",
       "      <td>17003.37</td>\n",
       "      <td>17003.37</td>\n",
       "    </tr>\n",
       "    <tr>\n",
       "      <th>2022-12-01 22:30:00</th>\n",
       "      <td>17000.36</td>\n",
       "      <td>17000.36</td>\n",
       "      <td>17000.36</td>\n",
       "      <td>17000.36</td>\n",
       "    </tr>\n",
       "    <tr>\n",
       "      <th>2022-12-01 23:30:00</th>\n",
       "      <td>16916.38</td>\n",
       "      <td>16908.67</td>\n",
       "      <td>16917.09</td>\n",
       "      <td>16908.67</td>\n",
       "    </tr>\n",
       "  </tbody>\n",
       "</table>\n",
       "<p>7895 rows × 4 columns</p>\n",
       "</div>"
      ],
      "text/plain": [
       "                        close      open      high       low\n",
       "date_time                                                  \n",
       "2022-01-01 00:30:00  46850.00  46850.00  46850.00  46850.00\n",
       "2022-01-01 01:30:00  46657.45  47265.70  47265.70  46400.00\n",
       "2022-01-01 02:30:00  46000.00  46100.00  46176.79  46000.00\n",
       "2022-01-01 03:30:00  45800.11  45900.00  45900.00  45800.11\n",
       "2022-01-01 04:30:00  46146.43  46124.85  46155.71  45946.28\n",
       "...                       ...       ...       ...       ...\n",
       "2022-12-01 19:30:00  17003.37  17000.00  17018.91  16987.69\n",
       "2022-12-01 20:30:00  17003.37  17003.37  17003.37  17003.37\n",
       "2022-12-01 21:30:00  17003.37  17003.37  17003.37  17003.37\n",
       "2022-12-01 22:30:00  17000.36  17000.36  17000.36  17000.36\n",
       "2022-12-01 23:30:00  16916.38  16908.67  16917.09  16908.67\n",
       "\n",
       "[7895 rows x 4 columns]"
      ]
     },
     "execution_count": 52,
     "metadata": {},
     "output_type": "execute_result"
    }
   ],
   "source": [
    "df_t = df.loc['2022-01-01 00:00:00': '2022-12-01 23:59:59']\n",
    "df_t"
   ]
  },
  {
   "cell_type": "code",
   "execution_count": 53,
   "metadata": {
    "scrolled": false
   },
   "outputs": [
    {
     "data": {
      "image/png": "[encoded data removed]",
      "text/plain": [
       "<Figure size 1008x576 with 1 Axes>"
      ]
     },
     "metadata": {},
     "output_type": "display_data"
    }
   ],
   "source": [
    "\n",
    "sns.set_theme()\n",
    "\n",
    "plt.figure(figsize=(14, 8))  \n",
    "plt.plot(df_t.index, df_t['close'], label='Bitcoin Price',marker='o',  linestyle=\"-\")\n",
    "plt.title('Bitcoin Price Over Time')\n",
    "plt.xlabel('Time')\n",
    "plt.ylabel('Price (USD)')\n",
    "plt.legend()\n",
    "plt.grid(True)\n",
    "plt.show()\n"
   ]
  },
  {
   "cell_type": "code",
   "execution_count": 54,
   "metadata": {},
   "outputs": [
    {
     "name": "stderr",
     "output_type": "stream",
     "text": [
      "C:\\Users\\negar\\AppData\\Local\\Temp\\ipykernel_10852\\3413326185.py:3: SettingWithCopyWarning: \n",
      "A value is trying to be set on a copy of a slice from a DataFrame.\n",
      "Try using .loc[row_indexer,col_indexer] = value instead\n",
      "\n",
      "See the caveats in the documentation: https://pandas.pydata.org/pandas-docs/stable/user_guide/indexing.html#returning-a-view-versus-a-copy\n",
      "  df_t['Differenced'] = df_t['close'].diff(1)\n",
      "C:\\Users\\negar\\AppData\\Local\\Temp\\ipykernel_10852\\3413326185.py:5: SettingWithCopyWarning: \n",
      "A value is trying to be set on a copy of a slice from a DataFrame\n",
      "\n",
      "See the caveats in the documentation: https://pandas.pydata.org/pandas-docs/stable/user_guide/indexing.html#returning-a-view-versus-a-copy\n",
      "  df_t.dropna(inplace=True)\n"
     ]
    },
    {
     "name": "stdout",
     "output_type": "stream",
     "text": [
      "st\n"
     ]
    }
   ],
   "source": [
    "from statsmodels.tsa.stattools import adfuller\n",
    "\n",
    "df_t['Differenced'] = df_t['close'].diff(1)\n",
    "\n",
    "df_t.dropna(inplace=True)\n",
    "\n",
    "result = adfuller(df_t['Differenced'])\n",
    "p_value = result[1]\n",
    "\n",
    "if p_value < 0.05:\n",
    "    print(\"st\")\n",
    "else:\n",
    "    print(\"not st\")\n"
   ]
  },
  {
   "cell_type": "code",
   "execution_count": 55,
   "metadata": {
    "scrolled": false
   },
   "outputs": [
    {
     "data": {
      "image/png": "[encoded data removed]",
      "text/plain": [
       "<Figure size 432x288 with 1 Axes>"
      ]
     },
     "metadata": {},
     "output_type": "display_data"
    },
    {
     "name": "stderr",
     "output_type": "stream",
     "text": [
      "C:\\Users\\negar\\anaconda3\\lib\\site-packages\\statsmodels\\graphics\\tsaplots.py:348: FutureWarning: The default method 'yw' can produce PACF values outside of the [-1,1] interval. After 0.13, the default will change tounadjusted Yule-Walker ('ywm'). You can use this method now by setting method='ywm'.\n",
      "  warnings.warn(\n"
     ]
    },
    {
     "data": {
      "image/png": "[encoded data removed]",
      "text/plain": [
       "<Figure size 432x288 with 1 Axes>"
      ]
     },
     "metadata": {},
     "output_type": "display_data"
    }
   ],
   "source": [
    "from statsmodels.tsa.arima_model import ARIMA\n",
    "from statsmodels.graphics.tsaplots import plot_acf, plot_pacf\n",
    "\n",
    "plot_acf(df_t['Differenced'], lags=20)\n",
    "plt.show()\n",
    "plot_pacf(df_t['Differenced'], lags=20)\n",
    "plt.show()\n"
   ]
  },
  {
   "cell_type": "code",
   "execution_count": 56,
   "metadata": {
    "scrolled": false
   },
   "outputs": [
    {
     "name": "stderr",
     "output_type": "stream",
     "text": [
      "C:\\Users\\negar\\anaconda3\\lib\\site-packages\\statsmodels\\tsa\\base\\tsa_model.py:471: ValueWarning: A date index has been provided, but it has no associated frequency information and so will be ignored when e.g. forecasting.\n",
      "  self._init_dates(dates, freq)\n",
      "C:\\Users\\negar\\anaconda3\\lib\\site-packages\\statsmodels\\tsa\\base\\tsa_model.py:471: ValueWarning: A date index has been provided, but it has no associated frequency information and so will be ignored when e.g. forecasting.\n",
      "  self._init_dates(dates, freq)\n",
      "C:\\Users\\negar\\anaconda3\\lib\\site-packages\\statsmodels\\tsa\\base\\tsa_model.py:471: ValueWarning: A date index has been provided, but it has no associated frequency information and so will be ignored when e.g. forecasting.\n",
      "  self._init_dates(dates, freq)\n"
     ]
    },
    {
     "name": "stdout",
     "output_type": "stream",
     "text": [
      "                               SARIMAX Results                                \n",
      "==============================================================================\n",
      "Dep. Variable:                  close   No. Observations:                 8591\n",
      "Model:                 ARIMA(2, 1, 3)   Log Likelihood              -61644.602\n",
      "Date:                Mon, 09 Oct 2023   AIC                         123301.205\n",
      "Time:                        22:35:11   BIC                         123343.555\n",
      "Sample:                             0   HQIC                        123315.649\n",
      "                               - 8591                                         \n",
      "Covariance Type:                  opg                                         \n",
      "==============================================================================\n",
      "                 coef    std err          z      P>|z|      [0.025      0.975]\n",
      "------------------------------------------------------------------------------\n",
      "ar.L1         -1.5120      0.019    -77.955      0.000      -1.550      -1.474\n",
      "ar.L2         -0.9478      0.019    -48.906      0.000      -0.986      -0.910\n",
      "ma.L1          1.1826      0.020     59.446      0.000       1.144       1.222\n",
      "ma.L2          0.4519      0.015     29.733      0.000       0.422       0.482\n",
      "ma.L3         -0.2992      0.009    -33.066      0.000      -0.317      -0.281\n",
      "sigma2      1.001e+05    385.302    259.845      0.000    9.94e+04    1.01e+05\n",
      "===================================================================================\n",
      "Ljung-Box (L1) (Q):                   0.02   Jarque-Bera (JB):           1835071.94\n",
      "Prob(Q):                              0.90   Prob(JB):                         0.00\n",
      "Heteroskedasticity (H):               0.08   Skew:                             1.34\n",
      "Prob(H) (two-sided):                  0.00   Kurtosis:                        74.55\n",
      "===================================================================================\n",
      "\n",
      "Warnings:\n",
      "[1] Covariance matrix calculated using the outer product of gradients (complex-step).\n"
     ]
    },
    {
     "name": "stderr",
     "output_type": "stream",
     "text": [
      "C:\\Users\\negar\\anaconda3\\lib\\site-packages\\statsmodels\\base\\model.py:604: ConvergenceWarning: Maximum Likelihood optimization failed to converge. Check mle_retvals\n",
      "  warnings.warn(\"Maximum Likelihood optimization failed to \"\n"
     ]
    }
   ],
   "source": [
    "from statsmodels.tsa.arima.model import ARIMA\n",
    "p = 2  \n",
    "d = 1 \n",
    "q = 3\n",
    "\n",
    "model = ARIMA(df['close'], order=(p, d, q))\n",
    "model_fit = model.fit()\n",
    "\n",
    "print(model_fit.summary())"
   ]
  },
  {
   "cell_type": "code",
   "execution_count": 57,
   "metadata": {},
   "outputs": [
    {
     "name": "stdout",
     "output_type": "stream",
     "text": [
      "Bitcoin Price Forecast for the Next 3 Hours:\n"
     ]
    },
    {
     "name": "stderr",
     "output_type": "stream",
     "text": [
      "C:\\Users\\negar\\anaconda3\\lib\\site-packages\\statsmodels\\tsa\\base\\tsa_model.py:834: ValueWarning: No supported index is available. Prediction results will be given with an integer index beginning at `start`.\n",
      "  return get_prediction_index(\n"
     ]
    },
    {
     "data": {
      "text/plain": [
       "8591    16575.993009\n",
       "8592    16574.216500\n",
       "8593    16573.991832\n",
       "Name: predicted_mean, dtype: float64"
      ]
     },
     "execution_count": 57,
     "metadata": {},
     "output_type": "execute_result"
    }
   ],
   "source": [
    "n_forecast = 3\n",
    "\n",
    "forecast = model_fit.forecast(steps=n_forecast)\n",
    "print(\"Bitcoin Price Forecast for the Next 3 Hours:\")\n",
    "forecast\n"
   ]
  },
  {
   "cell_type": "code",
   "execution_count": 58,
   "metadata": {},
   "outputs": [
    {
     "name": "stdout",
     "output_type": "stream",
     "text": [
      "tarin 6315\n",
      "test: 1579\n"
     ]
    }
   ],
   "source": [
    "\n",
    "train_data, test_data = train_test_split(df_t, test_size=0.2, random_state=42)\n",
    "\n",
    "print(\"tarin\", len(train_data))\n",
    "print(\"test:\", len(test_data))\n"
   ]
  },
  {
   "cell_type": "code",
   "execution_count": 59,
   "metadata": {},
   "outputs": [
    {
     "ename": "ValueError",
     "evalue": "Found input variables with inconsistent numbers of samples: [1579, 4]",
     "output_type": "error",
     "traceback": [
      "\u001b[1;31m---------------------------------------------------------------------------\u001b[0m",
      "\u001b[1;31mValueError\u001b[0m                                Traceback (most recent call last)",
      "Input \u001b[1;32mIn [59]\u001b[0m, in \u001b[0;36m<cell line: 6>\u001b[1;34m()\u001b[0m\n\u001b[0;32m      2\u001b[0m forecast_values\u001b[38;5;241m.\u001b[39mappend(forecast)\n\u001b[0;32m      4\u001b[0m actual_values \u001b[38;5;241m=\u001b[39m test_data[\u001b[38;5;124m'\u001b[39m\u001b[38;5;124mclose\u001b[39m\u001b[38;5;124m'\u001b[39m]\u001b[38;5;241m.\u001b[39mvalues\n\u001b[1;32m----> 6\u001b[0m mae \u001b[38;5;241m=\u001b[39m \u001b[43mmean_absolute_error\u001b[49m\u001b[43m(\u001b[49m\u001b[43mactual_values\u001b[49m\u001b[43m,\u001b[49m\u001b[43m \u001b[49m\u001b[43mforecast_values\u001b[49m\u001b[43m)\u001b[49m\n\u001b[0;32m      7\u001b[0m rmse \u001b[38;5;241m=\u001b[39m np\u001b[38;5;241m.\u001b[39msqrt(mean_squared_error(actual_values, forecast_values))\n\u001b[0;32m      9\u001b[0m \u001b[38;5;28mprint\u001b[39m(\u001b[38;5;124mf\u001b[39m\u001b[38;5;124m\"\u001b[39m\u001b[38;5;124mMean Absolute Error (MAE): \u001b[39m\u001b[38;5;132;01m{\u001b[39;00mmae\u001b[38;5;132;01m}\u001b[39;00m\u001b[38;5;124m\"\u001b[39m)\n",
      "File \u001b[1;32m~\\anaconda3\\lib\\site-packages\\sklearn\\metrics\\_regression.py:191\u001b[0m, in \u001b[0;36mmean_absolute_error\u001b[1;34m(y_true, y_pred, sample_weight, multioutput)\u001b[0m\n\u001b[0;32m    135\u001b[0m \u001b[38;5;28;01mdef\u001b[39;00m \u001b[38;5;21mmean_absolute_error\u001b[39m(\n\u001b[0;32m    136\u001b[0m     y_true, y_pred, \u001b[38;5;241m*\u001b[39m, sample_weight\u001b[38;5;241m=\u001b[39m\u001b[38;5;28;01mNone\u001b[39;00m, multioutput\u001b[38;5;241m=\u001b[39m\u001b[38;5;124m\"\u001b[39m\u001b[38;5;124muniform_average\u001b[39m\u001b[38;5;124m\"\u001b[39m\n\u001b[0;32m    137\u001b[0m ):\n\u001b[0;32m    138\u001b[0m     \u001b[38;5;124;03m\"\"\"Mean absolute error regression loss.\u001b[39;00m\n\u001b[0;32m    139\u001b[0m \n\u001b[0;32m    140\u001b[0m \u001b[38;5;124;03m    Read more in the :ref:`User Guide <mean_absolute_error>`.\u001b[39;00m\n\u001b[1;32m   (...)\u001b[0m\n\u001b[0;32m    189\u001b[0m \u001b[38;5;124;03m    0.85...\u001b[39;00m\n\u001b[0;32m    190\u001b[0m \u001b[38;5;124;03m    \"\"\"\u001b[39;00m\n\u001b[1;32m--> 191\u001b[0m     y_type, y_true, y_pred, multioutput \u001b[38;5;241m=\u001b[39m \u001b[43m_check_reg_targets\u001b[49m\u001b[43m(\u001b[49m\n\u001b[0;32m    192\u001b[0m \u001b[43m        \u001b[49m\u001b[43my_true\u001b[49m\u001b[43m,\u001b[49m\u001b[43m \u001b[49m\u001b[43my_pred\u001b[49m\u001b[43m,\u001b[49m\u001b[43m \u001b[49m\u001b[43mmultioutput\u001b[49m\n\u001b[0;32m    193\u001b[0m \u001b[43m    \u001b[49m\u001b[43m)\u001b[49m\n\u001b[0;32m    194\u001b[0m     check_consistent_length(y_true, y_pred, sample_weight)\n\u001b[0;32m    195\u001b[0m     output_errors \u001b[38;5;241m=\u001b[39m np\u001b[38;5;241m.\u001b[39maverage(np\u001b[38;5;241m.\u001b[39mabs(y_pred \u001b[38;5;241m-\u001b[39m y_true), weights\u001b[38;5;241m=\u001b[39msample_weight, axis\u001b[38;5;241m=\u001b[39m\u001b[38;5;241m0\u001b[39m)\n",
      "File \u001b[1;32m~\\anaconda3\\lib\\site-packages\\sklearn\\metrics\\_regression.py:94\u001b[0m, in \u001b[0;36m_check_reg_targets\u001b[1;34m(y_true, y_pred, multioutput, dtype)\u001b[0m\n\u001b[0;32m     60\u001b[0m \u001b[38;5;28;01mdef\u001b[39;00m \u001b[38;5;21m_check_reg_targets\u001b[39m(y_true, y_pred, multioutput, dtype\u001b[38;5;241m=\u001b[39m\u001b[38;5;124m\"\u001b[39m\u001b[38;5;124mnumeric\u001b[39m\u001b[38;5;124m\"\u001b[39m):\n\u001b[0;32m     61\u001b[0m     \u001b[38;5;124;03m\"\"\"Check that y_true and y_pred belong to the same regression task.\u001b[39;00m\n\u001b[0;32m     62\u001b[0m \n\u001b[0;32m     63\u001b[0m \u001b[38;5;124;03m    Parameters\u001b[39;00m\n\u001b[1;32m   (...)\u001b[0m\n\u001b[0;32m     92\u001b[0m \u001b[38;5;124;03m        the dtype argument passed to check_array.\u001b[39;00m\n\u001b[0;32m     93\u001b[0m \u001b[38;5;124;03m    \"\"\"\u001b[39;00m\n\u001b[1;32m---> 94\u001b[0m     \u001b[43mcheck_consistent_length\u001b[49m\u001b[43m(\u001b[49m\u001b[43my_true\u001b[49m\u001b[43m,\u001b[49m\u001b[43m \u001b[49m\u001b[43my_pred\u001b[49m\u001b[43m)\u001b[49m\n\u001b[0;32m     95\u001b[0m     y_true \u001b[38;5;241m=\u001b[39m check_array(y_true, ensure_2d\u001b[38;5;241m=\u001b[39m\u001b[38;5;28;01mFalse\u001b[39;00m, dtype\u001b[38;5;241m=\u001b[39mdtype)\n\u001b[0;32m     96\u001b[0m     y_pred \u001b[38;5;241m=\u001b[39m check_array(y_pred, ensure_2d\u001b[38;5;241m=\u001b[39m\u001b[38;5;28;01mFalse\u001b[39;00m, dtype\u001b[38;5;241m=\u001b[39mdtype)\n",
      "File \u001b[1;32m~\\anaconda3\\lib\\site-packages\\sklearn\\utils\\validation.py:332\u001b[0m, in \u001b[0;36mcheck_consistent_length\u001b[1;34m(*arrays)\u001b[0m\n\u001b[0;32m    330\u001b[0m uniques \u001b[38;5;241m=\u001b[39m np\u001b[38;5;241m.\u001b[39munique(lengths)\n\u001b[0;32m    331\u001b[0m \u001b[38;5;28;01mif\u001b[39;00m \u001b[38;5;28mlen\u001b[39m(uniques) \u001b[38;5;241m>\u001b[39m \u001b[38;5;241m1\u001b[39m:\n\u001b[1;32m--> 332\u001b[0m     \u001b[38;5;28;01mraise\u001b[39;00m \u001b[38;5;167;01mValueError\u001b[39;00m(\n\u001b[0;32m    333\u001b[0m         \u001b[38;5;124m\"\u001b[39m\u001b[38;5;124mFound input variables with inconsistent numbers of samples: \u001b[39m\u001b[38;5;132;01m%r\u001b[39;00m\u001b[38;5;124m\"\u001b[39m\n\u001b[0;32m    334\u001b[0m         \u001b[38;5;241m%\u001b[39m [\u001b[38;5;28mint\u001b[39m(l) \u001b[38;5;28;01mfor\u001b[39;00m l \u001b[38;5;129;01min\u001b[39;00m lengths]\n\u001b[0;32m    335\u001b[0m     )\n",
      "\u001b[1;31mValueError\u001b[0m: Found input variables with inconsistent numbers of samples: [1579, 4]"
     ]
    }
   ],
   "source": [
    "\n",
    "forecast = model_fit.predict(start=len(train_data), end=len(train_data) + len(test_data) - 1, typ='levels')\n",
    "forecast_values.append(forecast)\n",
    "\n",
    "actual_values = test_data['close'].values\n",
    "\n",
    "mae = mean_absolute_error(actual_values, forecast_values)\n",
    "rmse = np.sqrt(mean_squared_error(actual_values, forecast_values))\n",
    "\n",
    "print(f\"Mean Absolute Error (MAE): {mae}\")\n",
    "print(f\"Root Mean Squared Error (RMSE): {rmse}\")\n"
   ]
  }
 ],
 "metadata": {
  "colab": {
   "provenance": []
  },
  "kernelspec": {
   "display_name": "Python 3 (ipykernel)",
   "language": "python",
   "name": "python3"
  },
  "language_info": {
   "codemirror_mode": {
    "name": "ipython",
    "version": 3
   },
   "file_extension": ".py",
   "mimetype": "text/x-python",
   "name": "python",
   "nbconvert_exporter": "python",
   "pygments_lexer": "ipython3",
   "version": "3.9.12"
  }
 },
 "nbformat": 4,
 "nbformat_minor": 1
}
