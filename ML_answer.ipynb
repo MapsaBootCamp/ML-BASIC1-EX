{
 "cells": [
  {
   "cell_type": "markdown",
   "id": "1c733717-ce2a-4d71-87ba-0b7bc2bd6592",
   "metadata": {},
   "source": [
    "## Import Python Libraries"
   ]
  },
  {
   "cell_type": "code",
   "execution_count": 1,
   "id": "036e7fae-2189-44b0-93ec-4fe42d4d44a0",
   "metadata": {},
   "outputs": [],
   "source": [
    "import pandas as pd\n",
    "import numpy as np\n",
    "import matplotlib.pyplot as plt\n",
    "import seaborn as sns\n",
    "\n",
    "import warnings\n",
    "warnings.filterwarnings('ignore')"
   ]
  },
  {
   "cell_type": "markdown",
   "id": "4842275b-2016-4ed2-a64e-a6eb37fd9bf0",
   "metadata": {},
   "source": [
    "## Reading Dataset"
   ]
  },
  {
   "cell_type": "code",
   "execution_count": 2,
   "id": "06eb45d3-c61a-468b-8f1b-51d161c8c581",
   "metadata": {},
   "outputs": [],
   "source": [
    "df = pd.read_csv(\"bank.csv\", delimiter=\";\")"
   ]
  },
  {
   "cell_type": "markdown",
   "id": "816d1675-b615-4c36-a2c1-9fdf716bd932",
   "metadata": {},
   "source": [
    "## Analyzing the Data"
   ]
  },
  {
   "cell_type": "markdown",
   "id": "9fd73749-308f-4f7d-8a36-c14fabfd45ca",
   "metadata": {},
   "source": [
    "   ## Description:\n",
    "   The data is related with direct marketing campaigns of a Portuguese banking institution.<br/> \r\n",
    "   The marketing campaigns were based on phone calls. Often, more than one contact to the same client was required,<br/> \r\n",
    "   in order to access if the product (bank term deposit) would be (or not) subscribed. \r\n"
   ]
  },
  {
   "cell_type": "markdown",
   "id": "c2bbd4e3-790d-4d36-82a1-f95fc05cdec9",
   "metadata": {},
   "source": [
    "### Input variables:"
   ]
  },
  {
   "cell_type": "markdown",
   "id": "5e77843f-df08-4a97-90ec-7feb105abc83",
   "metadata": {},
   "source": [
    "<ul> \n",
    "    <li>1 - age (numeric)</li>\n",
    "    <li>2 - job : type of job (categorical: \"admin.\",\"unknown\",\"unemployed\",\"management\",\"housemaid\",\"entrepreneur\",\"student\",\n",
    "                                        \"blue-collar\",\"self-employed\",\"retired\",\"technician\",\"services\") </li>\n",
    "    <li>3 - marital : marital status (categorical: \"married\",\"divorced\",\"single\"; note: \"divorced\" means divorced or widowed)</li>\n",
    "    <li>4 - education (categorical: \"unknown\",\"secondary\",\"primary\",\"tertiary\")</li>\n",
    "    <li>5 - default: has credit in default? (binary: \"yes\",\"no\")</li>\n",
    "    <li>6 - balance: average yearly balance, in euros (numeric) </li>\n",
    "    <li>7 - housing: has housing loan? (binary: \"yes\",\"no\")</li>\n",
    "    <li>8 - loan: has personal loan? (binary: \"yes\",\"no\")</li>\n",
    "   <li>9 - contact: contact communication type (categorical: \"unknown\",\"telephone\",\"cellular\") </li>\n",
    "   <li>10 - day: last contact day of the month (numeric)</li>\n",
    "   <li>11 - month: last contact month of year (categorical: \"jan\", \"feb\", \"mar\", ..., \"nov\", \"dec\")</li>\n",
    "   <li>12 - duration: last contact duration, in seconds (numeric) </li>\n",
    "   <li>13 - campaign: number of contacts performed during this campaign and for this client (numeric, includes last contact)</li>\n",
    "   <li>14 - pdays: number of days that passed by after the client was last contacted from a previous campaign (numeric, -1 means client was not     previously contacted)</li>\n",
    "   <li>15 - previous: number of contacts performed before this campaign and for this client (numeric)</li>\n",
    "   <li>16 - poutcome: outcome of the previous marketing campaign (categorical: \"unknown\",\"other\",\"failure\",\"success\")</li>\n",
    "   <li>17 - y - has the client subscribed a term deposit? (binary: \"yes\",\"no\")</li>\n",
    "</ul>"
   ]
  },
  {
   "cell_type": "code",
   "execution_count": 3,
   "id": "874b9533-809d-4465-99d5-2d1e785e4cf6",
   "metadata": {},
   "outputs": [
    {
     "data": {
      "text/html": [
       "<div>\n",
       "<style scoped>\n",
       "    .dataframe tbody tr th:only-of-type {\n",
       "        vertical-align: middle;\n",
       "    }\n",
       "\n",
       "    .dataframe tbody tr th {\n",
       "        vertical-align: top;\n",
       "    }\n",
       "\n",
       "    .dataframe thead th {\n",
       "        text-align: right;\n",
       "    }\n",
       "</style>\n",
       "<table border=\"1\" class=\"dataframe\">\n",
       "  <thead>\n",
       "    <tr style=\"text-align: right;\">\n",
       "      <th></th>\n",
       "      <th>age</th>\n",
       "      <th>job</th>\n",
       "      <th>marital</th>\n",
       "      <th>education</th>\n",
       "      <th>default</th>\n",
       "      <th>balance</th>\n",
       "      <th>housing</th>\n",
       "      <th>loan</th>\n",
       "      <th>contact</th>\n",
       "      <th>day</th>\n",
       "      <th>month</th>\n",
       "      <th>duration</th>\n",
       "      <th>campaign</th>\n",
       "      <th>pdays</th>\n",
       "      <th>previous</th>\n",
       "      <th>poutcome</th>\n",
       "      <th>y</th>\n",
       "    </tr>\n",
       "  </thead>\n",
       "  <tbody>\n",
       "    <tr>\n",
       "      <th>0</th>\n",
       "      <td>58</td>\n",
       "      <td>management</td>\n",
       "      <td>married</td>\n",
       "      <td>tertiary</td>\n",
       "      <td>no</td>\n",
       "      <td>2143</td>\n",
       "      <td>yes</td>\n",
       "      <td>no</td>\n",
       "      <td>unknown</td>\n",
       "      <td>5</td>\n",
       "      <td>may</td>\n",
       "      <td>261</td>\n",
       "      <td>1</td>\n",
       "      <td>-1</td>\n",
       "      <td>0</td>\n",
       "      <td>unknown</td>\n",
       "      <td>no</td>\n",
       "    </tr>\n",
       "    <tr>\n",
       "      <th>1</th>\n",
       "      <td>44</td>\n",
       "      <td>technician</td>\n",
       "      <td>single</td>\n",
       "      <td>secondary</td>\n",
       "      <td>no</td>\n",
       "      <td>29</td>\n",
       "      <td>yes</td>\n",
       "      <td>no</td>\n",
       "      <td>unknown</td>\n",
       "      <td>5</td>\n",
       "      <td>may</td>\n",
       "      <td>151</td>\n",
       "      <td>1</td>\n",
       "      <td>-1</td>\n",
       "      <td>0</td>\n",
       "      <td>unknown</td>\n",
       "      <td>no</td>\n",
       "    </tr>\n",
       "    <tr>\n",
       "      <th>2</th>\n",
       "      <td>33</td>\n",
       "      <td>entrepreneur</td>\n",
       "      <td>married</td>\n",
       "      <td>secondary</td>\n",
       "      <td>no</td>\n",
       "      <td>2</td>\n",
       "      <td>yes</td>\n",
       "      <td>yes</td>\n",
       "      <td>unknown</td>\n",
       "      <td>5</td>\n",
       "      <td>may</td>\n",
       "      <td>76</td>\n",
       "      <td>1</td>\n",
       "      <td>-1</td>\n",
       "      <td>0</td>\n",
       "      <td>unknown</td>\n",
       "      <td>no</td>\n",
       "    </tr>\n",
       "    <tr>\n",
       "      <th>3</th>\n",
       "      <td>47</td>\n",
       "      <td>blue-collar</td>\n",
       "      <td>married</td>\n",
       "      <td>unknown</td>\n",
       "      <td>no</td>\n",
       "      <td>1506</td>\n",
       "      <td>yes</td>\n",
       "      <td>no</td>\n",
       "      <td>unknown</td>\n",
       "      <td>5</td>\n",
       "      <td>may</td>\n",
       "      <td>92</td>\n",
       "      <td>1</td>\n",
       "      <td>-1</td>\n",
       "      <td>0</td>\n",
       "      <td>unknown</td>\n",
       "      <td>no</td>\n",
       "    </tr>\n",
       "    <tr>\n",
       "      <th>4</th>\n",
       "      <td>33</td>\n",
       "      <td>unknown</td>\n",
       "      <td>single</td>\n",
       "      <td>unknown</td>\n",
       "      <td>no</td>\n",
       "      <td>1</td>\n",
       "      <td>no</td>\n",
       "      <td>no</td>\n",
       "      <td>unknown</td>\n",
       "      <td>5</td>\n",
       "      <td>may</td>\n",
       "      <td>198</td>\n",
       "      <td>1</td>\n",
       "      <td>-1</td>\n",
       "      <td>0</td>\n",
       "      <td>unknown</td>\n",
       "      <td>no</td>\n",
       "    </tr>\n",
       "  </tbody>\n",
       "</table>\n",
       "</div>"
      ],
      "text/plain": [
       "   age           job  marital  education default  balance housing loan  \\\n",
       "0   58    management  married   tertiary      no     2143     yes   no   \n",
       "1   44    technician   single  secondary      no       29     yes   no   \n",
       "2   33  entrepreneur  married  secondary      no        2     yes  yes   \n",
       "3   47   blue-collar  married    unknown      no     1506     yes   no   \n",
       "4   33       unknown   single    unknown      no        1      no   no   \n",
       "\n",
       "   contact  day month  duration  campaign  pdays  previous poutcome   y  \n",
       "0  unknown    5   may       261         1     -1         0  unknown  no  \n",
       "1  unknown    5   may       151         1     -1         0  unknown  no  \n",
       "2  unknown    5   may        76         1     -1         0  unknown  no  \n",
       "3  unknown    5   may        92         1     -1         0  unknown  no  \n",
       "4  unknown    5   may       198         1     -1         0  unknown  no  "
      ]
     },
     "execution_count": 3,
     "metadata": {},
     "output_type": "execute_result"
    }
   ],
   "source": [
    "df.head()"
   ]
  },
  {
   "cell_type": "code",
   "execution_count": 4,
   "id": "a76b2726-2035-4901-8aa0-440f8521ba29",
   "metadata": {},
   "outputs": [
    {
     "data": {
      "text/html": [
       "<div>\n",
       "<style scoped>\n",
       "    .dataframe tbody tr th:only-of-type {\n",
       "        vertical-align: middle;\n",
       "    }\n",
       "\n",
       "    .dataframe tbody tr th {\n",
       "        vertical-align: top;\n",
       "    }\n",
       "\n",
       "    .dataframe thead th {\n",
       "        text-align: right;\n",
       "    }\n",
       "</style>\n",
       "<table border=\"1\" class=\"dataframe\">\n",
       "  <thead>\n",
       "    <tr style=\"text-align: right;\">\n",
       "      <th></th>\n",
       "      <th>age</th>\n",
       "      <th>job</th>\n",
       "      <th>marital</th>\n",
       "      <th>education</th>\n",
       "      <th>default</th>\n",
       "      <th>balance</th>\n",
       "      <th>housing</th>\n",
       "      <th>loan</th>\n",
       "      <th>contact</th>\n",
       "      <th>day</th>\n",
       "      <th>month</th>\n",
       "      <th>duration</th>\n",
       "      <th>campaign</th>\n",
       "      <th>pdays</th>\n",
       "      <th>previous</th>\n",
       "      <th>poutcome</th>\n",
       "      <th>y</th>\n",
       "    </tr>\n",
       "  </thead>\n",
       "  <tbody>\n",
       "    <tr>\n",
       "      <th>45206</th>\n",
       "      <td>51</td>\n",
       "      <td>technician</td>\n",
       "      <td>married</td>\n",
       "      <td>tertiary</td>\n",
       "      <td>no</td>\n",
       "      <td>825</td>\n",
       "      <td>no</td>\n",
       "      <td>no</td>\n",
       "      <td>cellular</td>\n",
       "      <td>17</td>\n",
       "      <td>nov</td>\n",
       "      <td>977</td>\n",
       "      <td>3</td>\n",
       "      <td>-1</td>\n",
       "      <td>0</td>\n",
       "      <td>unknown</td>\n",
       "      <td>yes</td>\n",
       "    </tr>\n",
       "    <tr>\n",
       "      <th>45207</th>\n",
       "      <td>71</td>\n",
       "      <td>retired</td>\n",
       "      <td>divorced</td>\n",
       "      <td>primary</td>\n",
       "      <td>no</td>\n",
       "      <td>1729</td>\n",
       "      <td>no</td>\n",
       "      <td>no</td>\n",
       "      <td>cellular</td>\n",
       "      <td>17</td>\n",
       "      <td>nov</td>\n",
       "      <td>456</td>\n",
       "      <td>2</td>\n",
       "      <td>-1</td>\n",
       "      <td>0</td>\n",
       "      <td>unknown</td>\n",
       "      <td>yes</td>\n",
       "    </tr>\n",
       "    <tr>\n",
       "      <th>45208</th>\n",
       "      <td>72</td>\n",
       "      <td>retired</td>\n",
       "      <td>married</td>\n",
       "      <td>secondary</td>\n",
       "      <td>no</td>\n",
       "      <td>5715</td>\n",
       "      <td>no</td>\n",
       "      <td>no</td>\n",
       "      <td>cellular</td>\n",
       "      <td>17</td>\n",
       "      <td>nov</td>\n",
       "      <td>1127</td>\n",
       "      <td>5</td>\n",
       "      <td>184</td>\n",
       "      <td>3</td>\n",
       "      <td>success</td>\n",
       "      <td>yes</td>\n",
       "    </tr>\n",
       "    <tr>\n",
       "      <th>45209</th>\n",
       "      <td>57</td>\n",
       "      <td>blue-collar</td>\n",
       "      <td>married</td>\n",
       "      <td>secondary</td>\n",
       "      <td>no</td>\n",
       "      <td>668</td>\n",
       "      <td>no</td>\n",
       "      <td>no</td>\n",
       "      <td>telephone</td>\n",
       "      <td>17</td>\n",
       "      <td>nov</td>\n",
       "      <td>508</td>\n",
       "      <td>4</td>\n",
       "      <td>-1</td>\n",
       "      <td>0</td>\n",
       "      <td>unknown</td>\n",
       "      <td>no</td>\n",
       "    </tr>\n",
       "    <tr>\n",
       "      <th>45210</th>\n",
       "      <td>37</td>\n",
       "      <td>entrepreneur</td>\n",
       "      <td>married</td>\n",
       "      <td>secondary</td>\n",
       "      <td>no</td>\n",
       "      <td>2971</td>\n",
       "      <td>no</td>\n",
       "      <td>no</td>\n",
       "      <td>cellular</td>\n",
       "      <td>17</td>\n",
       "      <td>nov</td>\n",
       "      <td>361</td>\n",
       "      <td>2</td>\n",
       "      <td>188</td>\n",
       "      <td>11</td>\n",
       "      <td>other</td>\n",
       "      <td>no</td>\n",
       "    </tr>\n",
       "  </tbody>\n",
       "</table>\n",
       "</div>"
      ],
      "text/plain": [
       "       age           job   marital  education default  balance housing loan  \\\n",
       "45206   51    technician   married   tertiary      no      825      no   no   \n",
       "45207   71       retired  divorced    primary      no     1729      no   no   \n",
       "45208   72       retired   married  secondary      no     5715      no   no   \n",
       "45209   57   blue-collar   married  secondary      no      668      no   no   \n",
       "45210   37  entrepreneur   married  secondary      no     2971      no   no   \n",
       "\n",
       "         contact  day month  duration  campaign  pdays  previous poutcome    y  \n",
       "45206   cellular   17   nov       977         3     -1         0  unknown  yes  \n",
       "45207   cellular   17   nov       456         2     -1         0  unknown  yes  \n",
       "45208   cellular   17   nov      1127         5    184         3  success  yes  \n",
       "45209  telephone   17   nov       508         4     -1         0  unknown   no  \n",
       "45210   cellular   17   nov       361         2    188        11    other   no  "
      ]
     },
     "execution_count": 4,
     "metadata": {},
     "output_type": "execute_result"
    }
   ],
   "source": [
    "df.tail()"
   ]
  },
  {
   "cell_type": "code",
   "execution_count": 5,
   "id": "525d3b1f-241b-4785-8186-f59b5cc9729f",
   "metadata": {},
   "outputs": [
    {
     "name": "stdout",
     "output_type": "stream",
     "text": [
      "<class 'pandas.core.frame.DataFrame'>\n",
      "RangeIndex: 45211 entries, 0 to 45210\n",
      "Data columns (total 17 columns):\n",
      " #   Column     Non-Null Count  Dtype \n",
      "---  ------     --------------  ----- \n",
      " 0   age        45211 non-null  int64 \n",
      " 1   job        45211 non-null  object\n",
      " 2   marital    45211 non-null  object\n",
      " 3   education  45211 non-null  object\n",
      " 4   default    45211 non-null  object\n",
      " 5   balance    45211 non-null  int64 \n",
      " 6   housing    45211 non-null  object\n",
      " 7   loan       45211 non-null  object\n",
      " 8   contact    45211 non-null  object\n",
      " 9   day        45211 non-null  int64 \n",
      " 10  month      45211 non-null  object\n",
      " 11  duration   45211 non-null  int64 \n",
      " 12  campaign   45211 non-null  int64 \n",
      " 13  pdays      45211 non-null  int64 \n",
      " 14  previous   45211 non-null  int64 \n",
      " 15  poutcome   45211 non-null  object\n",
      " 16  y          45211 non-null  object\n",
      "dtypes: int64(7), object(10)\n",
      "memory usage: 5.9+ MB\n"
     ]
    }
   ],
   "source": [
    "df.info()"
   ]
  },
  {
   "cell_type": "code",
   "execution_count": 6,
   "id": "7fc016bc-2ab9-4a9f-a61f-fb3a51d3964e",
   "metadata": {},
   "outputs": [
    {
     "data": {
      "text/plain": [
       "age            77\n",
       "job            12\n",
       "marital         3\n",
       "education       4\n",
       "default         2\n",
       "balance      7168\n",
       "housing         2\n",
       "loan            2\n",
       "contact         3\n",
       "day            31\n",
       "month          12\n",
       "duration     1573\n",
       "campaign       48\n",
       "pdays         559\n",
       "previous       41\n",
       "poutcome        4\n",
       "y               2\n",
       "dtype: int64"
      ]
     },
     "execution_count": 6,
     "metadata": {},
     "output_type": "execute_result"
    }
   ],
   "source": [
    "df.nunique()"
   ]
  },
  {
   "cell_type": "code",
   "execution_count": 7,
   "id": "5c3dfa56-6f52-4773-9abb-474e5b5c6fa7",
   "metadata": {},
   "outputs": [
    {
     "data": {
      "text/plain": [
       "age          0\n",
       "job          0\n",
       "marital      0\n",
       "education    0\n",
       "default      0\n",
       "balance      0\n",
       "housing      0\n",
       "loan         0\n",
       "contact      0\n",
       "day          0\n",
       "month        0\n",
       "duration     0\n",
       "campaign     0\n",
       "pdays        0\n",
       "previous     0\n",
       "poutcome     0\n",
       "y            0\n",
       "dtype: int64"
      ]
     },
     "execution_count": 7,
     "metadata": {},
     "output_type": "execute_result"
    }
   ],
   "source": [
    "df.isnull().sum()"
   ]
  },
  {
   "cell_type": "code",
   "execution_count": 8,
   "id": "9d67cb9b-2441-4765-b235-72ce15e20e8d",
   "metadata": {},
   "outputs": [
    {
     "data": {
      "text/html": [
       "<div>\n",
       "<style scoped>\n",
       "    .dataframe tbody tr th:only-of-type {\n",
       "        vertical-align: middle;\n",
       "    }\n",
       "\n",
       "    .dataframe tbody tr th {\n",
       "        vertical-align: top;\n",
       "    }\n",
       "\n",
       "    .dataframe thead th {\n",
       "        text-align: right;\n",
       "    }\n",
       "</style>\n",
       "<table border=\"1\" class=\"dataframe\">\n",
       "  <thead>\n",
       "    <tr style=\"text-align: right;\">\n",
       "      <th></th>\n",
       "      <th>age</th>\n",
       "      <th>balance</th>\n",
       "      <th>day</th>\n",
       "      <th>duration</th>\n",
       "      <th>campaign</th>\n",
       "      <th>pdays</th>\n",
       "      <th>previous</th>\n",
       "    </tr>\n",
       "  </thead>\n",
       "  <tbody>\n",
       "    <tr>\n",
       "      <th>count</th>\n",
       "      <td>45211.000000</td>\n",
       "      <td>45211.000000</td>\n",
       "      <td>45211.000000</td>\n",
       "      <td>45211.000000</td>\n",
       "      <td>45211.000000</td>\n",
       "      <td>45211.000000</td>\n",
       "      <td>45211.000000</td>\n",
       "    </tr>\n",
       "    <tr>\n",
       "      <th>mean</th>\n",
       "      <td>40.936210</td>\n",
       "      <td>1362.272058</td>\n",
       "      <td>15.806419</td>\n",
       "      <td>258.163080</td>\n",
       "      <td>2.763841</td>\n",
       "      <td>40.197828</td>\n",
       "      <td>0.580323</td>\n",
       "    </tr>\n",
       "    <tr>\n",
       "      <th>std</th>\n",
       "      <td>10.618762</td>\n",
       "      <td>3044.765829</td>\n",
       "      <td>8.322476</td>\n",
       "      <td>257.527812</td>\n",
       "      <td>3.098021</td>\n",
       "      <td>100.128746</td>\n",
       "      <td>2.303441</td>\n",
       "    </tr>\n",
       "    <tr>\n",
       "      <th>min</th>\n",
       "      <td>18.000000</td>\n",
       "      <td>-8019.000000</td>\n",
       "      <td>1.000000</td>\n",
       "      <td>0.000000</td>\n",
       "      <td>1.000000</td>\n",
       "      <td>-1.000000</td>\n",
       "      <td>0.000000</td>\n",
       "    </tr>\n",
       "    <tr>\n",
       "      <th>25%</th>\n",
       "      <td>33.000000</td>\n",
       "      <td>72.000000</td>\n",
       "      <td>8.000000</td>\n",
       "      <td>103.000000</td>\n",
       "      <td>1.000000</td>\n",
       "      <td>-1.000000</td>\n",
       "      <td>0.000000</td>\n",
       "    </tr>\n",
       "    <tr>\n",
       "      <th>50%</th>\n",
       "      <td>39.000000</td>\n",
       "      <td>448.000000</td>\n",
       "      <td>16.000000</td>\n",
       "      <td>180.000000</td>\n",
       "      <td>2.000000</td>\n",
       "      <td>-1.000000</td>\n",
       "      <td>0.000000</td>\n",
       "    </tr>\n",
       "    <tr>\n",
       "      <th>75%</th>\n",
       "      <td>48.000000</td>\n",
       "      <td>1428.000000</td>\n",
       "      <td>21.000000</td>\n",
       "      <td>319.000000</td>\n",
       "      <td>3.000000</td>\n",
       "      <td>-1.000000</td>\n",
       "      <td>0.000000</td>\n",
       "    </tr>\n",
       "    <tr>\n",
       "      <th>max</th>\n",
       "      <td>95.000000</td>\n",
       "      <td>102127.000000</td>\n",
       "      <td>31.000000</td>\n",
       "      <td>4918.000000</td>\n",
       "      <td>63.000000</td>\n",
       "      <td>871.000000</td>\n",
       "      <td>275.000000</td>\n",
       "    </tr>\n",
       "  </tbody>\n",
       "</table>\n",
       "</div>"
      ],
      "text/plain": [
       "                age        balance           day      duration      campaign  \\\n",
       "count  45211.000000   45211.000000  45211.000000  45211.000000  45211.000000   \n",
       "mean      40.936210    1362.272058     15.806419    258.163080      2.763841   \n",
       "std       10.618762    3044.765829      8.322476    257.527812      3.098021   \n",
       "min       18.000000   -8019.000000      1.000000      0.000000      1.000000   \n",
       "25%       33.000000      72.000000      8.000000    103.000000      1.000000   \n",
       "50%       39.000000     448.000000     16.000000    180.000000      2.000000   \n",
       "75%       48.000000    1428.000000     21.000000    319.000000      3.000000   \n",
       "max       95.000000  102127.000000     31.000000   4918.000000     63.000000   \n",
       "\n",
       "              pdays      previous  \n",
       "count  45211.000000  45211.000000  \n",
       "mean      40.197828      0.580323  \n",
       "std      100.128746      2.303441  \n",
       "min       -1.000000      0.000000  \n",
       "25%       -1.000000      0.000000  \n",
       "50%       -1.000000      0.000000  \n",
       "75%       -1.000000      0.000000  \n",
       "max      871.000000    275.000000  "
      ]
     },
     "execution_count": 8,
     "metadata": {},
     "output_type": "execute_result"
    }
   ],
   "source": [
    "df.describe()"
   ]
  },
  {
   "cell_type": "code",
   "execution_count": 9,
   "id": "99f5900a-6c5a-42a8-9bf6-e1fd8bb95474",
   "metadata": {},
   "outputs": [],
   "source": [
    "def change_column_dtype(column, dtype):\n",
    "    df[column] = df[column].astype(dtype)"
   ]
  },
  {
   "cell_type": "code",
   "execution_count": 10,
   "id": "f2aa4b22-2d9c-4d77-a451-fd4ca39086c1",
   "metadata": {},
   "outputs": [],
   "source": [
    "for column in [\"age\", \"day\", \"campaign\", \"previous\"]:\n",
    "    change_column_dtype(column, \"uint8\") "
   ]
  },
  {
   "cell_type": "code",
   "execution_count": 11,
   "id": "39fc8efe-aaee-45f0-9872-dba05e55d7aa",
   "metadata": {},
   "outputs": [],
   "source": [
    "change_column_dtype(\"duration\", \"uint16\")"
   ]
  },
  {
   "cell_type": "code",
   "execution_count": 12,
   "id": "e96a5a97-69e6-43b2-845a-147419541c07",
   "metadata": {},
   "outputs": [],
   "source": [
    "change_column_dtype(\"pdays\", \"int16\")"
   ]
  },
  {
   "cell_type": "code",
   "execution_count": 13,
   "id": "deb155e8-6d59-4ea9-8a1a-5d14c2180a16",
   "metadata": {},
   "outputs": [],
   "source": [
    "categorical_nominal_columns = [\"job\", \"marital\", \"contact\", \"month\", \"poutcome\"]\n",
    "categorical_ordinal_columns = [\"education\"]\n",
    "numerical_discrete_columns = [\"age\", \"day\", \"duration\", \"campaign\", \"pdays\", \"previous\"]\n",
    "numerical_continuous_columns = [\"balance\"]\n",
    "binary_columns = [\"default\", \"housing\", \"loan\", \"y\"]"
   ]
  },
  {
   "cell_type": "code",
   "execution_count": 14,
   "id": "8365245f-5f40-4b35-9224-513c63c2fef9",
   "metadata": {},
   "outputs": [],
   "source": [
    "for column in binary_columns:\n",
    "    df[column] = df[column].map({'yes': 1, 'no': 0})\n",
    "    change_column_dtype(column, \"uint8\")"
   ]
  },
  {
   "cell_type": "code",
   "execution_count": 15,
   "id": "2cc68488-7a6c-47f7-b410-390e04fe3d64",
   "metadata": {},
   "outputs": [],
   "source": [
    "numerical_columns = df.select_dtypes(include='number')\n",
    "categorical_columns = df.select_dtypes(include=\"object\")"
   ]
  },
  {
   "cell_type": "code",
   "execution_count": 16,
   "id": "50146683-4135-4258-b9bc-c15e6e494cbb",
   "metadata": {},
   "outputs": [
    {
     "name": "stdout",
     "output_type": "stream",
     "text": [
      "job uniques: ['management' 'technician' 'entrepreneur' 'blue-collar' 'unknown'\n",
      " 'retired' 'admin.' 'services' 'self-employed' 'unemployed' 'housemaid'\n",
      " 'student']\n",
      "marital uniques: ['married' 'single' 'divorced']\n",
      "education uniques: ['tertiary' 'secondary' 'unknown' 'primary']\n",
      "contact uniques: ['unknown' 'cellular' 'telephone']\n",
      "month uniques: ['may' 'jun' 'jul' 'aug' 'oct' 'nov' 'dec' 'jan' 'feb' 'mar' 'apr' 'sep']\n",
      "poutcome uniques: ['unknown' 'failure' 'other' 'success']\n"
     ]
    }
   ],
   "source": [
    "for column in categorical_columns:\n",
    "    print(f\"{column} uniques: {df[column].unique()}\")"
   ]
  },
  {
   "cell_type": "code",
   "execution_count": 17,
   "id": "15f4aced-698d-4642-9bf9-df3049aebc56",
   "metadata": {},
   "outputs": [],
   "source": [
    "df[\"job\"] = df[\"job\"].map(lambda item: \"admin\" if item == \"admin.\" else item) "
   ]
  },
  {
   "cell_type": "code",
   "execution_count": 18,
   "id": "a2e1b3e8-f515-4843-8c6e-cf65085217af",
   "metadata": {},
   "outputs": [],
   "source": [
    "for column in categorical_columns:\n",
    "    df[column] = df[column].map(lambda item: np.nan if item == \"unknown\" else item)"
   ]
  },
  {
   "cell_type": "code",
   "execution_count": 19,
   "id": "07940fce-0944-483d-92ef-ff49e24176c8",
   "metadata": {},
   "outputs": [
    {
     "data": {
      "text/plain": [
       "age              0\n",
       "job            288\n",
       "marital          0\n",
       "education     1857\n",
       "default          0\n",
       "balance          0\n",
       "housing          0\n",
       "loan             0\n",
       "contact      13020\n",
       "day              0\n",
       "month            0\n",
       "duration         0\n",
       "campaign         0\n",
       "pdays            0\n",
       "previous         0\n",
       "poutcome     36959\n",
       "y                0\n",
       "dtype: int64"
      ]
     },
     "execution_count": 19,
     "metadata": {},
     "output_type": "execute_result"
    }
   ],
   "source": [
    "df.isnull().sum()"
   ]
  },
  {
   "cell_type": "code",
   "execution_count": 20,
   "id": "731e59e5-6a8a-4c3b-8072-6f439c34d3c8",
   "metadata": {},
   "outputs": [
    {
     "data": {
      "image/png": "[encoded data removed]",
      "text/plain": [
       "<Figure size 2000x1500 with 9 Axes>"
      ]
     },
     "metadata": {},
     "output_type": "display_data"
    }
   ],
   "source": [
    "df.drop(columns=binary_columns).hist(bins=50, figsize=(20, 15))\n",
    "plt.show()"
   ]
  },
  {
   "cell_type": "code",
   "execution_count": 21,
   "id": "badbbf18-4e7c-4d76-9086-f5b69526fb54",
   "metadata": {},
   "outputs": [],
   "source": [
    "from sklearn.model_selection import train_test_split"
   ]
  },
  {
   "cell_type": "code",
   "execution_count": 22,
   "id": "194f451e-4b0e-45cd-8a59-42989b10ba1d",
   "metadata": {},
   "outputs": [],
   "source": [
    "train_set, test_set = train_test_split(df, test_size=0.2, random_state=42, stratify=df[\"y\"])"
   ]
  },
  {
   "cell_type": "markdown",
   "id": "50e96dd4-756b-4e2f-becb-1514ff63792b",
   "metadata": {},
   "source": [
    "## EDA"
   ]
  },
  {
   "cell_type": "code",
   "execution_count": 23,
   "id": "10c888f6-78e9-4fa7-962b-2411361f4468",
   "metadata": {},
   "outputs": [],
   "source": [
    "eda_df = train_set.copy()"
   ]
  },
  {
   "cell_type": "code",
   "execution_count": 24,
   "id": "6ec073b8-b9e8-46f7-b33c-d570a54344d8",
   "metadata": {},
   "outputs": [
    {
     "name": "stdout",
     "output_type": "stream",
     "text": [
      "age\n",
      "Skew : 0.69\n"
     ]
    },
    {
     "data": {
      "image/png": "[encoded data removed]",
      "text/plain": [
       "<Figure size 1500x400 with 2 Axes>"
      ]
     },
     "metadata": {},
     "output_type": "display_data"
    },
    {
     "name": "stdout",
     "output_type": "stream",
     "text": [
      "default\n",
      "Skew : 7.27\n"
     ]
    },
    {
     "data": {
      "image/png": "[encoded data removed]",
      "text/plain": [
       "<Figure size 1500x400 with 2 Axes>"
      ]
     },
     "metadata": {},
     "output_type": "display_data"
    },
    {
     "name": "stdout",
     "output_type": "stream",
     "text": [
      "balance\n",
      "Skew : 8.34\n"
     ]
    },
    {
     "data": {
      "image/png": "[encoded data removed]",
      "text/plain": [
       "<Figure size 1500x400 with 2 Axes>"
      ]
     },
     "metadata": {},
     "output_type": "display_data"
    },
    {
     "name": "stdout",
     "output_type": "stream",
     "text": [
      "housing\n",
      "Skew : -0.23\n"
     ]
    },
    {
     "data": {
      "image/png": "[encoded data removed]",
      "text/plain": [
       "<Figure size 1500x400 with 2 Axes>"
      ]
     },
     "metadata": {},
     "output_type": "display_data"
    },
    {
     "name": "stdout",
     "output_type": "stream",
     "text": [
      "loan\n",
      "Skew : 1.85\n"
     ]
    },
    {
     "data": {
      "image/png": "[encoded data removed]",
      "text/plain": [
       "<Figure size 1500x400 with 2 Axes>"
      ]
     },
     "metadata": {},
     "output_type": "display_data"
    },
    {
     "name": "stdout",
     "output_type": "stream",
     "text": [
      "day\n",
      "Skew : 0.09\n"
     ]
    },
    {
     "data": {
      "image/png": "[encoded data removed]",
      "text/plain": [
       "<Figure size 1500x400 with 2 Axes>"
      ]
     },
     "metadata": {},
     "output_type": "display_data"
    },
    {
     "name": "stdout",
     "output_type": "stream",
     "text": [
      "duration\n",
      "Skew : 3.21\n"
     ]
    },
    {
     "data": {
      "image/png": "[encoded data removed]",
      "text/plain": [
       "<Figure size 1500x400 with 2 Axes>"
      ]
     },
     "metadata": {},
     "output_type": "display_data"
    },
    {
     "name": "stdout",
     "output_type": "stream",
     "text": [
      "campaign\n",
      "Skew : 4.94\n"
     ]
    },
    {
     "data": {
      "image/png": "[encoded data removed]",
      "text/plain": [
       "<Figure size 1500x400 with 2 Axes>"
      ]
     },
     "metadata": {},
     "output_type": "display_data"
    },
    {
     "name": "stdout",
     "output_type": "stream",
     "text": [
      "pdays\n",
      "Skew : 2.62\n"
     ]
    },
    {
     "data": {
      "image/png": "[encoded data removed]",
      "text/plain": [
       "<Figure size 1500x400 with 2 Axes>"
      ]
     },
     "metadata": {},
     "output_type": "display_data"
    },
    {
     "name": "stdout",
     "output_type": "stream",
     "text": [
      "previous\n",
      "Skew : 8.09\n"
     ]
    },
    {
     "data": {
      "image/png": "[encoded data removed]",
      "text/plain": [
       "<Figure size 1500x400 with 2 Axes>"
      ]
     },
     "metadata": {},
     "output_type": "display_data"
    },
    {
     "name": "stdout",
     "output_type": "stream",
     "text": [
      "y\n",
      "Skew : 2.38\n"
     ]
    },
    {
     "data": {
      "image/png": "[encoded data removed]",
      "text/plain": [
       "<Figure size 1500x400 with 2 Axes>"
      ]
     },
     "metadata": {},
     "output_type": "display_data"
    }
   ],
   "source": [
    "for col in numerical_columns:\n",
    "    print(col)\n",
    "    print('Skew :', round(eda_df[col].skew(), 2))\n",
    "    plt.figure(figsize = (15, 4))\n",
    "    plt.subplot(1, 2, 1)\n",
    "    eda_df[col].hist(grid=False)\n",
    "    plt.ylabel('count')\n",
    "    plt.subplot(1, 2, 2)\n",
    "    sns.boxplot(x=eda_df[col])\n",
    "    plt.show()"
   ]
  },
  {
   "cell_type": "code",
   "execution_count": 25,
   "id": "2148fab2-a414-43f6-8857-766de20ccbb8",
   "metadata": {},
   "outputs": [],
   "source": [
    "eda_df[\"day_cat\"] = pd.cut(eda_df[\"day\"],\n",
    "bins=[0., 5., 10.0, 15.0, 20., 25., 30., np.inf],\n",
    "labels=[1, 2, 3, 4, 5, 6, 7])"
   ]
  },
  {
   "cell_type": "code",
   "execution_count": 26,
   "id": "aa4c85ca-46f5-4d68-bd3f-aba797e9aae5",
   "metadata": {},
   "outputs": [],
   "source": [
    "corr_matrix = eda_df.corr(numeric_only=True)"
   ]
  },
  {
   "cell_type": "code",
   "execution_count": 27,
   "id": "520f9924-f62e-4844-a180-e3c6d4d30df8",
   "metadata": {},
   "outputs": [
    {
     "data": {
      "text/plain": [
       "y           1.000000\n",
       "duration    0.396742\n",
       "previous    0.112155\n",
       "pdays       0.100703\n",
       "balance     0.055025\n",
       "age         0.024704\n",
       "default    -0.024460\n",
       "day        -0.026595\n",
       "loan       -0.066525\n",
       "campaign   -0.071978\n",
       "housing    -0.139432\n",
       "Name: y, dtype: float64"
      ]
     },
     "execution_count": 27,
     "metadata": {},
     "output_type": "execute_result"
    }
   ],
   "source": [
    "corr_matrix[\"y\"].sort_values(ascending=False)"
   ]
  },
  {
   "cell_type": "code",
   "execution_count": 28,
   "id": "6dd96361-5cbf-4222-8905-0d0d690a7a75",
   "metadata": {},
   "outputs": [
    {
     "data": {
      "text/html": [
       "<div>\n",
       "<style scoped>\n",
       "    .dataframe tbody tr th:only-of-type {\n",
       "        vertical-align: middle;\n",
       "    }\n",
       "\n",
       "    .dataframe tbody tr th {\n",
       "        vertical-align: top;\n",
       "    }\n",
       "\n",
       "    .dataframe thead th {\n",
       "        text-align: right;\n",
       "    }\n",
       "</style>\n",
       "<table border=\"1\" class=\"dataframe\">\n",
       "  <thead>\n",
       "    <tr style=\"text-align: right;\">\n",
       "      <th></th>\n",
       "      <th>age</th>\n",
       "      <th>default</th>\n",
       "      <th>balance</th>\n",
       "      <th>housing</th>\n",
       "      <th>loan</th>\n",
       "      <th>day</th>\n",
       "      <th>duration</th>\n",
       "      <th>campaign</th>\n",
       "      <th>pdays</th>\n",
       "      <th>previous</th>\n",
       "      <th>y</th>\n",
       "    </tr>\n",
       "  </thead>\n",
       "  <tbody>\n",
       "    <tr>\n",
       "      <th>age</th>\n",
       "      <td>1.000000</td>\n",
       "      <td>-0.018859</td>\n",
       "      <td>0.096164</td>\n",
       "      <td>-0.189143</td>\n",
       "      <td>-0.018716</td>\n",
       "      <td>-0.009765</td>\n",
       "      <td>-0.004284</td>\n",
       "      <td>0.007818</td>\n",
       "      <td>-0.024410</td>\n",
       "      <td>0.002593</td>\n",
       "      <td>0.024704</td>\n",
       "    </tr>\n",
       "    <tr>\n",
       "      <th>default</th>\n",
       "      <td>-0.018859</td>\n",
       "      <td>1.000000</td>\n",
       "      <td>-0.066333</td>\n",
       "      <td>-0.004213</td>\n",
       "      <td>0.080089</td>\n",
       "      <td>0.007856</td>\n",
       "      <td>-0.011941</td>\n",
       "      <td>0.013624</td>\n",
       "      <td>-0.027646</td>\n",
       "      <td>-0.023202</td>\n",
       "      <td>-0.024460</td>\n",
       "    </tr>\n",
       "    <tr>\n",
       "      <th>balance</th>\n",
       "      <td>0.096164</td>\n",
       "      <td>-0.066333</td>\n",
       "      <td>1.000000</td>\n",
       "      <td>-0.067494</td>\n",
       "      <td>-0.085082</td>\n",
       "      <td>0.002354</td>\n",
       "      <td>0.021114</td>\n",
       "      <td>-0.014405</td>\n",
       "      <td>0.003141</td>\n",
       "      <td>0.022596</td>\n",
       "      <td>0.055025</td>\n",
       "    </tr>\n",
       "    <tr>\n",
       "      <th>housing</th>\n",
       "      <td>-0.189143</td>\n",
       "      <td>-0.004213</td>\n",
       "      <td>-0.067494</td>\n",
       "      <td>1.000000</td>\n",
       "      <td>0.043248</td>\n",
       "      <td>-0.031700</td>\n",
       "      <td>0.004452</td>\n",
       "      <td>-0.022074</td>\n",
       "      <td>0.123723</td>\n",
       "      <td>0.041814</td>\n",
       "      <td>-0.139432</td>\n",
       "    </tr>\n",
       "    <tr>\n",
       "      <th>loan</th>\n",
       "      <td>-0.018716</td>\n",
       "      <td>0.080089</td>\n",
       "      <td>-0.085082</td>\n",
       "      <td>0.043248</td>\n",
       "      <td>1.000000</td>\n",
       "      <td>0.011784</td>\n",
       "      <td>-0.008520</td>\n",
       "      <td>0.008179</td>\n",
       "      <td>-0.025025</td>\n",
       "      <td>-0.014168</td>\n",
       "      <td>-0.066525</td>\n",
       "    </tr>\n",
       "    <tr>\n",
       "      <th>day</th>\n",
       "      <td>-0.009765</td>\n",
       "      <td>0.007856</td>\n",
       "      <td>0.002354</td>\n",
       "      <td>-0.031700</td>\n",
       "      <td>0.011784</td>\n",
       "      <td>1.000000</td>\n",
       "      <td>-0.031352</td>\n",
       "      <td>0.161620</td>\n",
       "      <td>-0.093492</td>\n",
       "      <td>-0.055593</td>\n",
       "      <td>-0.026595</td>\n",
       "    </tr>\n",
       "    <tr>\n",
       "      <th>duration</th>\n",
       "      <td>-0.004284</td>\n",
       "      <td>-0.011941</td>\n",
       "      <td>0.021114</td>\n",
       "      <td>0.004452</td>\n",
       "      <td>-0.008520</td>\n",
       "      <td>-0.031352</td>\n",
       "      <td>1.000000</td>\n",
       "      <td>-0.086704</td>\n",
       "      <td>-0.006306</td>\n",
       "      <td>-0.002265</td>\n",
       "      <td>0.396742</td>\n",
       "    </tr>\n",
       "    <tr>\n",
       "      <th>campaign</th>\n",
       "      <td>0.007818</td>\n",
       "      <td>0.013624</td>\n",
       "      <td>-0.014405</td>\n",
       "      <td>-0.022074</td>\n",
       "      <td>0.008179</td>\n",
       "      <td>0.161620</td>\n",
       "      <td>-0.086704</td>\n",
       "      <td>1.000000</td>\n",
       "      <td>-0.088898</td>\n",
       "      <td>-0.038065</td>\n",
       "      <td>-0.071978</td>\n",
       "    </tr>\n",
       "    <tr>\n",
       "      <th>pdays</th>\n",
       "      <td>-0.024410</td>\n",
       "      <td>-0.027646</td>\n",
       "      <td>0.003141</td>\n",
       "      <td>0.123723</td>\n",
       "      <td>-0.025025</td>\n",
       "      <td>-0.093492</td>\n",
       "      <td>-0.006306</td>\n",
       "      <td>-0.088898</td>\n",
       "      <td>1.000000</td>\n",
       "      <td>0.539411</td>\n",
       "      <td>0.100703</td>\n",
       "    </tr>\n",
       "    <tr>\n",
       "      <th>previous</th>\n",
       "      <td>0.002593</td>\n",
       "      <td>-0.023202</td>\n",
       "      <td>0.022596</td>\n",
       "      <td>0.041814</td>\n",
       "      <td>-0.014168</td>\n",
       "      <td>-0.055593</td>\n",
       "      <td>-0.002265</td>\n",
       "      <td>-0.038065</td>\n",
       "      <td>0.539411</td>\n",
       "      <td>1.000000</td>\n",
       "      <td>0.112155</td>\n",
       "    </tr>\n",
       "    <tr>\n",
       "      <th>y</th>\n",
       "      <td>0.024704</td>\n",
       "      <td>-0.024460</td>\n",
       "      <td>0.055025</td>\n",
       "      <td>-0.139432</td>\n",
       "      <td>-0.066525</td>\n",
       "      <td>-0.026595</td>\n",
       "      <td>0.396742</td>\n",
       "      <td>-0.071978</td>\n",
       "      <td>0.100703</td>\n",
       "      <td>0.112155</td>\n",
       "      <td>1.000000</td>\n",
       "    </tr>\n",
       "  </tbody>\n",
       "</table>\n",
       "</div>"
      ],
      "text/plain": [
       "               age   default   balance   housing      loan       day  \\\n",
       "age       1.000000 -0.018859  0.096164 -0.189143 -0.018716 -0.009765   \n",
       "default  -0.018859  1.000000 -0.066333 -0.004213  0.080089  0.007856   \n",
       "balance   0.096164 -0.066333  1.000000 -0.067494 -0.085082  0.002354   \n",
       "housing  -0.189143 -0.004213 -0.067494  1.000000  0.043248 -0.031700   \n",
       "loan     -0.018716  0.080089 -0.085082  0.043248  1.000000  0.011784   \n",
       "day      -0.009765  0.007856  0.002354 -0.031700  0.011784  1.000000   \n",
       "duration -0.004284 -0.011941  0.021114  0.004452 -0.008520 -0.031352   \n",
       "campaign  0.007818  0.013624 -0.014405 -0.022074  0.008179  0.161620   \n",
       "pdays    -0.024410 -0.027646  0.003141  0.123723 -0.025025 -0.093492   \n",
       "previous  0.002593 -0.023202  0.022596  0.041814 -0.014168 -0.055593   \n",
       "y         0.024704 -0.024460  0.055025 -0.139432 -0.066525 -0.026595   \n",
       "\n",
       "          duration  campaign     pdays  previous         y  \n",
       "age      -0.004284  0.007818 -0.024410  0.002593  0.024704  \n",
       "default  -0.011941  0.013624 -0.027646 -0.023202 -0.024460  \n",
       "balance   0.021114 -0.014405  0.003141  0.022596  0.055025  \n",
       "housing   0.004452 -0.022074  0.123723  0.041814 -0.139432  \n",
       "loan     -0.008520  0.008179 -0.025025 -0.014168 -0.066525  \n",
       "day      -0.031352  0.161620 -0.093492 -0.055593 -0.026595  \n",
       "duration  1.000000 -0.086704 -0.006306 -0.002265  0.396742  \n",
       "campaign -0.086704  1.000000 -0.088898 -0.038065 -0.071978  \n",
       "pdays    -0.006306 -0.088898  1.000000  0.539411  0.100703  \n",
       "previous -0.002265 -0.038065  0.539411  1.000000  0.112155  \n",
       "y         0.396742 -0.071978  0.100703  0.112155  1.000000  "
      ]
     },
     "execution_count": 28,
     "metadata": {},
     "output_type": "execute_result"
    }
   ],
   "source": [
    "corr_matrix"
   ]
  },
  {
   "cell_type": "markdown",
   "id": "ed5e1de6-6d89-4168-b346-b42c569a814c",
   "metadata": {},
   "source": [
    "## Preprocessing"
   ]
  },
  {
   "cell_type": "code",
   "execution_count": 29,
   "id": "d4f33791-1601-4639-b1ea-9a20e81a232e",
   "metadata": {},
   "outputs": [],
   "source": [
    "from sklearn.pipeline import make_pipeline\n",
    "from sklearn.experimental import enable_iterative_imputer\n",
    "from sklearn.impute import SimpleImputer, KNNImputer, IterativeImputer\n",
    "from sklearn.preprocessing import FunctionTransformer, StandardScaler, OneHotEncoder, OrdinalEncoder\n",
    "from sklearn.compose import ColumnTransformer, make_column_selector"
   ]
  },
  {
   "cell_type": "code",
   "execution_count": 30,
   "id": "43c52394-0fb6-4499-ba9f-bbaf0464d781",
   "metadata": {},
   "outputs": [],
   "source": [
    "from sklearn.ensemble import RandomForestClassifier, RandomForestRegressor\n",
    "from lightgbm import LGBMClassifier, LGBMRegressor"
   ]
  },
  {
   "cell_type": "code",
   "execution_count": 31,
   "id": "07c1bed9-2243-4a7a-a762-a12c3d7439f3",
   "metadata": {},
   "outputs": [],
   "source": [
    "X_train = train_set.drop(\"y\", axis=1)\n",
    "y_train = train_set[\"y\"].copy()"
   ]
  },
  {
   "cell_type": "code",
   "execution_count": 32,
   "id": "9e5e8fcc-9797-4b7d-85f6-d889053dcf8b",
   "metadata": {},
   "outputs": [],
   "source": [
    "X_test = test_set.drop(\"y\", axis=1)\n",
    "y_test = test_set[\"y\"].copy()"
   ]
  },
  {
   "cell_type": "code",
   "execution_count": 33,
   "id": "2e6b3029-9caa-4160-8ecd-3083ec81276d",
   "metadata": {},
   "outputs": [],
   "source": [
    "log_pipeline = make_pipeline(\n",
    "    IterativeImputer(estimator=LGBMRegressor(verbose=-1)),\n",
    "    FunctionTransformer(np.log, feature_names_out=\"one-to-one\"),\n",
    "    StandardScaler())"
   ]
  },
  {
   "cell_type": "code",
   "execution_count": 34,
   "id": "cc2bbfcd-8e88-478c-81e7-ea3d657014b8",
   "metadata": {},
   "outputs": [],
   "source": [
    "categorical_nominal_pipeline = make_pipeline(\n",
    "    OneHotEncoder(handle_unknown=\"ignore\", sparse=False),\n",
    "    IterativeImputer(estimator=LGBMClassifier(verbose=-1)))"
   ]
  },
  {
   "cell_type": "code",
   "execution_count": 35,
   "id": "e2c391bd-b61d-4f38-a2ef-2424fc98892f",
   "metadata": {},
   "outputs": [],
   "source": [
    "categorical_ordinal_pipeline = make_pipeline(\n",
    "    OrdinalEncoder(),\n",
    "    IterativeImputer(estimator=LGBMClassifier(verbose=-1)))"
   ]
  },
  {
   "cell_type": "code",
   "execution_count": 36,
   "id": "2b003633-1a5d-46d1-8251-2c8f44078d4c",
   "metadata": {},
   "outputs": [],
   "source": [
    "numerical_pipeline = make_pipeline(\n",
    "    IterativeImputer(estimator=LGBMRegressor(verbose=-1)),\n",
    "    StandardScaler())"
   ]
  },
  {
   "cell_type": "code",
   "execution_count": 40,
   "id": "473d531b-6473-4af6-b251-411ee54d93e6",
   "metadata": {},
   "outputs": [],
   "source": [
    "binary_pipeline = make_pipeline(\n",
    "    IterativeImputer(estimator=LGBMClassifier(verbose=-1)),\n",
    "    StandardScaler())"
   ]
  },
  {
   "cell_type": "code",
   "execution_count": 38,
   "id": "ae047dc6-be1c-4eb2-a974-ca2b1ca46317",
   "metadata": {},
   "outputs": [],
   "source": [
    "binary_columns.remove(\"y\")"
   ]
  },
  {
   "cell_type": "code",
   "execution_count": 39,
   "id": "7dd10bd8-7c1a-4058-b4d6-5a41fceaf74e",
   "metadata": {},
   "outputs": [],
   "source": [
    "preprocessing = ColumnTransformer([\n",
    "        (\"categorical_nominal\", categorical_nominal_pipeline, categorical_nominal_columns),\n",
    "        (\"categorical_ordinal\", categorical_ordinal_pipeline, categorical_ordinal_columns),\n",
    "        (\"binary\", binary_pipeline, binary_columns),\n",
    "    ],\n",
    "    remainder=numerical_pipeline)"
   ]
  },
  {
   "cell_type": "markdown",
   "id": "40471d88-814a-4d73-b2b0-a55a46f0a293",
   "metadata": {},
   "source": [
    "## Model"
   ]
  },
  {
   "cell_type": "code",
   "execution_count": 41,
   "id": "3d5e6a3e-ce9f-4616-bbb1-37163f336f56",
   "metadata": {},
   "outputs": [],
   "source": [
    "from sklearn.model_selection import cross_val_score"
   ]
  },
  {
   "cell_type": "code",
   "execution_count": 42,
   "id": "6f6781b4-3120-499c-8d24-359b7b042df0",
   "metadata": {},
   "outputs": [],
   "source": [
    "f1_score = []\n",
    "roc_auc = []\n",
    "accuracy = []"
   ]
  },
  {
   "cell_type": "markdown",
   "id": "4670a3fc-94f8-41f7-a7d0-8ae1f7bbd447",
   "metadata": {},
   "source": [
    "### Stochastic Gradient Descent Classifier"
   ]
  },
  {
   "cell_type": "code",
   "execution_count": 40,
   "id": "799034b5-e120-4809-ab6d-b4737bb4357d",
   "metadata": {},
   "outputs": [
    {
     "name": "stdout",
     "output_type": "stream",
     "text": [
      "[0.88039666 0.89141242 0.89003951]\n"
     ]
    }
   ],
   "source": [
    "from sklearn.linear_model import SGDClassifier\n",
    "\n",
    "sgd_clf = make_pipeline(preprocessing, SGDClassifier(random_state=42))\n",
    "\n",
    "# sgd_f1 = cross_val_score(sgd_clf, X_train, y_train, cv=3, scoring=\"f1\")\n",
    "sgd_roc_auc = cross_val_score(sgd_clf, X_train, y_train, cv=3, scoring=\"roc_auc\")\n",
    "# sgd_accuracy = cross_val_score(sgd_clf, X_train, y_train, cv=3, scoring=\"accuracy\")\n",
    "\n",
    "# f1_score.append({\"sgd_f1\": sgd_f1.mean()})\n",
    "roc_auc.append({\"sgd_roc_auc\": sgd_roc_auc.mean()})\n",
    "# accuracy.append({\"sgd_accuracy\": sgd_accuracy.mean()})\n",
    "\n",
    "# print(sgd_f1)\n",
    "print(sgd_roc_auc) \n",
    "# print(sgd_accuracy) "
   ]
  },
  {
   "cell_type": "markdown",
   "id": "81bc3bb1-4bc9-4577-b95a-6d5fff0e5341",
   "metadata": {},
   "source": [
    "### Logistic Regression"
   ]
  },
  {
   "cell_type": "code",
   "execution_count": 41,
   "id": "f8601852-2b21-4075-982c-badf271f4f63",
   "metadata": {},
   "outputs": [
    {
     "name": "stdout",
     "output_type": "stream",
     "text": [
      "[0.90731124 0.90458901 0.90879771]\n"
     ]
    }
   ],
   "source": [
    "from sklearn.linear_model import LogisticRegression\n",
    "\n",
    "lr_clf = make_pipeline(preprocessing, LogisticRegression(random_state=42))\n",
    "\n",
    "# lr_f1 = cross_val_score(lr_clf, X_train, y_train, cv=3, scoring=\"f1\")\n",
    "lr_roc_auc = cross_val_score(lr_clf, X_train, y_train, cv=3, scoring=\"roc_auc\")\n",
    "# lr_accuracy = cross_val_score(lr_clf, X_train, y_train, cv=3, scoring=\"accuracy\")\n",
    "\n",
    "# f1_score.append({\"lr_f1\": lr_f1.mean()})\n",
    "roc_auc.append({\"lr_roc_auc\": lr_roc_auc.mean()})\n",
    "# accuracy.append({\"lr_accuracy\": lr_accuracy.mean()})\n",
    "\n",
    "# print(lr_f1)\n",
    "print(lr_roc_auc) \n",
    "# print(lr_accuracy) "
   ]
  },
  {
   "cell_type": "markdown",
   "id": "72cd6d27-f16c-4637-9780-b57c03f34eb5",
   "metadata": {},
   "source": [
    "### SVM"
   ]
  },
  {
   "cell_type": "code",
   "execution_count": 42,
   "id": "6272261b-a09a-4e16-aca9-c1074cfe6feb",
   "metadata": {},
   "outputs": [
    {
     "name": "stdout",
     "output_type": "stream",
     "text": [
      "[0.90528138 0.89856557 0.90653987]\n"
     ]
    }
   ],
   "source": [
    "from sklearn.svm import SVC\n",
    "\n",
    "svc_clf = make_pipeline(preprocessing, SVC(random_state=42))\n",
    "\n",
    "# svc_f1 = cross_val_score(svc_clf, X_train, y_train, cv=3, scoring=\"f1\")\n",
    "svc_roc_auc = cross_val_score(svc_clf, X_train, y_train, cv=3, scoring=\"roc_auc\")\n",
    "# svc_accuracy = cross_val_score(svc_clf, X_train, y_train, cv=3, scoring=\"accuracy\")\n",
    "\n",
    "# f1_score.append({\"svc_f1\": svc_f1.mean()})\n",
    "roc_auc.append({\"svc_roc_auc\": svc_roc_auc.mean()})\n",
    "# accuracy.append({\"svc_accuracy\": svc_accuracy.mean()})\n",
    "\n",
    "# print(svc_f1)\n",
    "print(svc_roc_auc) \n",
    "# print(svc_accuracy) "
   ]
  },
  {
   "cell_type": "markdown",
   "id": "377c2138-4053-449e-b3d6-5f6e176c8aa3",
   "metadata": {},
   "source": [
    "### KNN"
   ]
  },
  {
   "cell_type": "code",
   "execution_count": 43,
   "id": "d5c03e4b-0746-4060-b1cc-71a51c7b1626",
   "metadata": {},
   "outputs": [
    {
     "name": "stdout",
     "output_type": "stream",
     "text": [
      "[0.82941024 0.82040846 0.8320217 ]\n"
     ]
    }
   ],
   "source": [
    "from sklearn.neighbors import KNeighborsClassifier\n",
    "\n",
    "knn_clf = make_pipeline(preprocessing, KNeighborsClassifier())\n",
    "\n",
    "# knn_f1 = cross_val_score(knn_clf, X_train, y_train, cv=3, scoring=\"f1\")\n",
    "knn_roc_auc = cross_val_score(knn_clf, X_train, y_train, cv=3, scoring=\"roc_auc\")\n",
    "# knn_accuracy = cross_val_score(knn_clf, X_train, y_train, cv=3, scoring=\"accuracy\")\n",
    "\n",
    "# f1_score.append({\"knn_f1\": knn_f1.mean()})\n",
    "roc_auc.append({\"knn_roc_auc\": knn_roc_auc.mean()})\n",
    "# accuracy.append({\"knn_accuracy\": knn_accuracy.mean()})\n",
    "\n",
    "# print(knn_f1)\n",
    "print(knn_roc_auc) \n",
    "# print(knn_accuracy) "
   ]
  },
  {
   "cell_type": "markdown",
   "id": "73a7d94b-8d1b-47d2-ab1c-22cc779bcebe",
   "metadata": {},
   "source": [
    "### Gaussian Naive Bayes"
   ]
  },
  {
   "cell_type": "code",
   "execution_count": 44,
   "id": "c19a7fe4-1d26-403c-8eb5-99fe63aa5bfb",
   "metadata": {},
   "outputs": [
    {
     "name": "stdout",
     "output_type": "stream",
     "text": [
      "[0.81089511 0.79970861 0.80859745]\n"
     ]
    }
   ],
   "source": [
    "from sklearn.naive_bayes import GaussianNB\n",
    "\n",
    "gnb_clf = make_pipeline(preprocessing, GaussianNB())\n",
    "\n",
    "# gnb_f1 = cross_val_score(gnb_clf, X_train, y_train, cv=3, scoring=\"f1\")\n",
    "gnb_roc_auc = cross_val_score(gnb_clf, X_train, y_train, cv=3, scoring=\"roc_auc\")\n",
    "# gnb_accuracy = cross_val_score(gnb_clf, X_train, y_train, cv=3, scoring=\"accuracy\")\n",
    "\n",
    "# f1_score.append({\"gnb_f1\": gnb_f1.mean()})\n",
    "roc_auc.append({\"gnb_roc_auc\": gnb_roc_auc.mean()})\n",
    "# accuracy.append({\"gnb_accuracy\": gnb_accuracy.mean()})\n",
    "\n",
    "# print(gnb_f1)\n",
    "print(gnb_roc_auc) \n",
    "# print(gnb_accuracy) "
   ]
  },
  {
   "cell_type": "markdown",
   "id": "bb2456af-1e97-46a5-8ea6-994797382c38",
   "metadata": {},
   "source": [
    "### Decision Tree"
   ]
  },
  {
   "cell_type": "code",
   "execution_count": 45,
   "id": "4a3c831a-704d-4109-9430-8c4eb90b6736",
   "metadata": {},
   "outputs": [
    {
     "name": "stdout",
     "output_type": "stream",
     "text": [
      "[0.70549702 0.70823051 0.72339393]\n"
     ]
    }
   ],
   "source": [
    "from sklearn.tree import DecisionTreeClassifier\n",
    "\n",
    "dt_clf = make_pipeline(preprocessing, DecisionTreeClassifier(random_state=42))\n",
    "\n",
    "# dt_f1 = cross_val_score(dt_clf, X_train, y_train, cv=3, scoring=\"f1\")\n",
    "dt_roc_auc = cross_val_score(dt_clf, X_train, y_train, cv=3, scoring=\"roc_auc\")\n",
    "# dt_accuracy = cross_val_score(dt_clf, X_train, y_train, cv=3, scoring=\"accuracy\")\n",
    "\n",
    "# f1_score.append({\"dt_f1\": dt_f1.mean()})\n",
    "roc_auc.append({\"dt_roc_auc\": dt_roc_auc.mean()})\n",
    "# accuracy.append({\"dt_accuracy\": dt_accuracy.mean()})\n",
    "\n",
    "# print(dt_f1)\n",
    "print(dt_roc_auc) \n",
    "# print(dt_accuracy) "
   ]
  },
  {
   "cell_type": "markdown",
   "id": "20e31063-f0b4-480c-81ca-601abd8fac60",
   "metadata": {},
   "source": [
    "### Random Forest"
   ]
  },
  {
   "cell_type": "code",
   "execution_count": 46,
   "id": "71dc9860-3c5e-4858-8e6a-a5616d4909eb",
   "metadata": {},
   "outputs": [
    {
     "name": "stdout",
     "output_type": "stream",
     "text": [
      "[0.92757101 0.92601343 0.92806257]\n"
     ]
    }
   ],
   "source": [
    "from sklearn.ensemble import RandomForestClassifier\n",
    "\n",
    "rf_clf = make_pipeline(preprocessing, RandomForestClassifier(random_state=42))\n",
    "\n",
    "# rf_f1 = cross_val_score(rf_clf, X_train, y_train, cv=3, scoring=\"f1\")\n",
    "rf_roc_auc = cross_val_score(rf_clf, X_train, y_train, cv=3, scoring=\"roc_auc\")\n",
    "# rf_accuracy = cross_val_score(rf_clf, X_train, y_train, cv=3, scoring=\"accuracy\")\n",
    "\n",
    "# f1_score.append({\"rf_f1\": rf_f1.mean()})\n",
    "roc_auc.append({\"rf_roc_auc\": rf_roc_auc.mean()})\n",
    "# accuracy.append({\"rf_accuracy\": rf_accuracy.mean()})\n",
    "\n",
    "# print(rf_f1)\n",
    "print(rf_roc_auc) \n",
    "# print(rf_accuracy) "
   ]
  },
  {
   "cell_type": "markdown",
   "id": "27f30f61-5973-4635-8d48-2624e0ea016c",
   "metadata": {},
   "source": [
    "### Gradient Boosting Classifier"
   ]
  },
  {
   "cell_type": "code",
   "execution_count": 47,
   "id": "a7dca08c-3dc0-4d46-b4f6-de7e2834e9bc",
   "metadata": {},
   "outputs": [
    {
     "name": "stdout",
     "output_type": "stream",
     "text": [
      "[0.92448251 0.92425594 0.92721158]\n"
     ]
    }
   ],
   "source": [
    "from sklearn.ensemble import GradientBoostingClassifier\n",
    "\n",
    "gb_clf = make_pipeline(preprocessing, GradientBoostingClassifier(random_state=42))\n",
    "\n",
    "# gb_f1 = cross_val_score(gb_clf, X_train, y_train, cv=3, scoring=\"f1\")\n",
    "gb_roc_auc = cross_val_score(gb_clf, X_train, y_train, cv=3, scoring=\"roc_auc\")\n",
    "# gb_accuracy = cross_val_score(gb_clf, X_train, y_train, cv=3, scoring=\"accuracy\")\n",
    "\n",
    "# f1_score.append({\"gb_f1\": gb_f1.mean()})\n",
    "roc_auc.append({\"gb_roc_auc\": gb_roc_auc.mean()})\n",
    "# accuracy.append({\"gb_accuracy\": gb_accuracy.mean()})\n",
    "\n",
    "# print(gb_f1)\n",
    "print(gb_roc_auc) \n",
    "# print(gb_accuracy) "
   ]
  },
  {
   "cell_type": "markdown",
   "id": "efefa40d-b493-459d-b68a-84044171eb62",
   "metadata": {},
   "source": [
    "### LGBM Classifier"
   ]
  },
  {
   "cell_type": "code",
   "execution_count": 48,
   "id": "0ef74bae-2f84-455b-90b4-07a45a047957",
   "metadata": {},
   "outputs": [
    {
     "name": "stdout",
     "output_type": "stream",
     "text": [
      "[0.93489843 0.93333537 0.93720326]\n"
     ]
    }
   ],
   "source": [
    "from lightgbm import LGBMClassifier\n",
    "\n",
    "lgbm_clf = make_pipeline(preprocessing, LGBMClassifier(random_state=42, verbose=-1))\n",
    "\n",
    "# lgbm_f1 = cross_val_score(lgbm_clf, X_train, y_train, cv=3, scoring=\"f1\")\n",
    "lgbm_roc_auc = cross_val_score(lgbm_clf, X_train, y_train, cv=3, scoring=\"roc_auc\")\n",
    "# lgbm_accuracy = cross_val_score(lgbm_clf, X_train, y_train, cv=3, scoring=\"accuracy\")\n",
    "\n",
    "# f1_score.append({\"lgbm_f1\": lgbm_f1.mean()})\n",
    "roc_auc.append({\"lgbm_roc_auc\": lgbm_roc_auc.mean()})\n",
    "# accuracy.append({\"lgbm_accuracy\": lgbm_accuracy.mean()})\n",
    "\n",
    "# print(lgbm_f1)\n",
    "print(lgbm_roc_auc) \n",
    "# print(lgbm_accuracy) "
   ]
  },
  {
   "cell_type": "markdown",
   "id": "33b7bf32-d423-4162-b51e-f14c4ccd6443",
   "metadata": {},
   "source": [
    "### XGBoost Classifier"
   ]
  },
  {
   "cell_type": "code",
   "execution_count": 49,
   "id": "36747b39-5c89-480d-a131-4a6317704716",
   "metadata": {},
   "outputs": [
    {
     "name": "stdout",
     "output_type": "stream",
     "text": [
      "[0.92952782 0.92795036 0.93233305]\n"
     ]
    }
   ],
   "source": [
    "from xgboost.sklearn import XGBClassifier\n",
    "\n",
    "xgb_clf = make_pipeline(preprocessing, XGBClassifier(random_state=42))\n",
    "\n",
    "# xgb_f1 = cross_val_score(xgb_clf, X_train, y_train, cv=3, scoring=\"f1\")\n",
    "xgb_roc_auc = cross_val_score(xgb_clf, X_train, y_train, cv=3, scoring=\"roc_auc\")\n",
    "# xgb_accuracy = cross_val_score(xgb_clf, X_train, y_train, cv=3, scoring=\"accuracy\")\n",
    "\n",
    "# f1_score.append({\"xgb_f1\": xgb_f1.mean()})\n",
    "roc_auc.append({\"xgb_roc_auc\": xgb_roc_auc.mean()})\n",
    "# accuracy.append({\"xgb_accuracy\": xgb_accuracy.mean()})\n",
    "\n",
    "# print(xgb_f1)\n",
    "print(xgb_roc_auc) \n",
    "# print(xgb_accuracy) "
   ]
  },
  {
   "cell_type": "markdown",
   "id": "aa4dd660-0315-4392-85a0-e5470d9b16de",
   "metadata": {},
   "source": [
    "### Catboost"
   ]
  },
  {
   "cell_type": "code",
   "execution_count": 43,
   "id": "664b379b-30b2-405f-a19f-6582d5bc32ed",
   "metadata": {},
   "outputs": [
    {
     "name": "stdout",
     "output_type": "stream",
     "text": [
      "[0.93861171 0.93593385 0.93962575]\n"
     ]
    }
   ],
   "source": [
    "from catboost import CatBoostClassifier\n",
    "\n",
    "cb_clf = make_pipeline(preprocessing, CatBoostClassifier(random_state=42, verbose=0))\n",
    "\n",
    "# cb_f1 = cross_val_score(cb_clf, X_train, y_train, cv=3, scoring=\"f1\")\n",
    "cb_roc_auc = cross_val_score(cb_clf, X_train, y_train, cv=3, scoring=\"roc_auc\")\n",
    "# cb_accuracy = cross_val_score(cb_clf, X_train, y_train, cv=3, scoring=\"accuracy\")\n",
    "\n",
    "# f1_score.append({\"cb_f1\": cb_f1.mean()})\n",
    "roc_auc.append({\"cb_roc_auc\": cb_roc_auc.mean()})\n",
    "# accuracy.append({\"cb_accuracy\": cb_accuracy.mean()})\n",
    "\n",
    "# print(cb_f1)\n",
    "print(cb_roc_auc) \n",
    "# print(cb_accuracy) "
   ]
  },
  {
   "cell_type": "code",
   "execution_count": 44,
   "id": "0f7db3c1-d0f2-4127-aa09-2a6a00c8e20b",
   "metadata": {},
   "outputs": [
    {
     "data": {
      "text/plain": [
       "0.9380571034619125"
      ]
     },
     "execution_count": 44,
     "metadata": {},
     "output_type": "execute_result"
    }
   ],
   "source": [
    "cb_roc_auc.mean()"
   ]
  },
  {
   "cell_type": "code",
   "execution_count": 88,
   "id": "d0a56691-7653-4ec3-a756-c6e0f465a6ee",
   "metadata": {},
   "outputs": [
    {
     "data": {
      "text/plain": [
       "[{'cb_roc_auc': 0.9380571034619125},\n",
       " {'lgbm_roc_auc': 0.9351456862541209},\n",
       " {'xgb_roc_auc': 0.9299370789830957},\n",
       " {'rf_roc_auc': 0.9272156701247402},\n",
       " {'gb_roc_auc': 0.9253166751953579},\n",
       " {'lr_roc_auc': 0.9068993216269478},\n",
       " {'svc_roc_auc': 0.9034622734091918},\n",
       " {'sgd_roc_auc': 0.8872828624325196},\n",
       " {'knn_roc_auc': 0.827280133174377},\n",
       " {'gnb_roc_auc': 0.806400390618502},\n",
       " {'dt_roc_auc': 0.7123738181798117}]"
      ]
     },
     "execution_count": 88,
     "metadata": {},
     "output_type": "execute_result"
    }
   ],
   "source": [
    "sorted(roc_auc, key=lambda items: list(items.values()), reverse=True)"
   ]
  },
  {
   "cell_type": "code",
   "execution_count": 52,
   "id": "ca042f43-eb4f-410b-aece-af205e2a05c7",
   "metadata": {},
   "outputs": [],
   "source": [
    "from skopt import BayesSearchCV\n",
    "from sklearn.model_selection import RandomizedSearchCV\n",
    "from catboost import CatBoostClassifier"
   ]
  },
  {
   "cell_type": "code",
   "execution_count": 60,
   "id": "d2fc1b3e-8db3-497c-8eed-ece1e01751b9",
   "metadata": {},
   "outputs": [
    {
     "name": "stdout",
     "output_type": "stream",
     "text": [
      "[0.91732932 0.93532662        nan]\n"
     ]
    }
   ],
   "source": [
    "catboost = CatBoostClassifier(verbose=False)\n",
    "\n",
    "param_space = {\n",
    "    'learning_rate': (0.01, 0.7, 'log-uniform'),\n",
    "    'depth': (3, 10),\n",
    "    'n_estimators': (100, 1000),\n",
    "    'l2_leaf_reg': (1, 10),\n",
    "    'subsample': (0.3, 1.0, 'uniform'),\n",
    "    'colsample_bylevel': (0.3, 1.0, 'uniform'),\n",
    "    'min_child_samples': (1, 20),\n",
    "    'border_count': (1, 255)\n",
    "}\n",
    "\n",
    "cat_b = make_pipeline(preprocessing, RandomizedSearchCV(\n",
    "    catboost, param_space, n_iter=5, scoring='roc_auc', cv=5, verbose=False))\n",
    "\n",
    "cb_ftr_roc_auc = cross_val_score(cat_b, X_train, y_train, cv=3, scoring=\"roc_auc\")\n",
    "\n",
    "print(cb_ftr_roc_auc) "
   ]
  },
  {
   "cell_type": "code",
   "execution_count": 57,
   "id": "83fbad6f-d6b5-47c6-9366-e4bbf5bd04a6",
   "metadata": {},
   "outputs": [],
   "source": [
    "catboost = CatBoostClassifier(verbose=False)\n",
    "\n",
    "param_space = {\n",
    "    'learning_rate': (0.01, 0.3, 'log-uniform'),\n",
    "    'depth': (3, 10),\n",
    "    'n_estimators': (100, 1000),\n",
    "    'l2_leaf_reg': (1, 10),\n",
    "    'subsample': (0.5, 1.0, 'uniform'),\n",
    "    'colsample_bylevel': (0.5, 1.0, 'uniform'),\n",
    "    'min_child_samples': (1, 20),\n",
    "    'border_count': (1, 255)\n",
    "}\n",
    "\n",
    "cat_b = make_pipeline(preprocessing, BayesSearchCV(\n",
    "    catboost, param_space, n_iter=5, scoring='roc_auc', cv=2, verbose=False))"
   ]
  },
  {
   "cell_type": "code",
   "execution_count": 58,
   "id": "5e753452-7c35-49dc-9acc-164efd61a907",
   "metadata": {},
   "outputs": [
    {
     "name": "stdout",
     "output_type": "stream",
     "text": [
      "[0.9372946  0.9344855  0.93891863]\n"
     ]
    }
   ],
   "source": [
    "cb_ft_roc_auc = cross_val_score(cat_b, X_train, y_train, cv=3, scoring=\"roc_auc\")\n",
    "\n",
    "print(cb_ft_roc_auc) "
   ]
  },
  {
   "cell_type": "code",
   "execution_count": 59,
   "id": "d1098f4e-bfa6-40e6-a664-ca4852f15b1b",
   "metadata": {},
   "outputs": [
    {
     "data": {
      "text/plain": [
       "0.93689957551764"
      ]
     },
     "execution_count": 59,
     "metadata": {},
     "output_type": "execute_result"
    }
   ],
   "source": [
    "cb_ft_roc_auc.mean()"
   ]
  },
  {
   "cell_type": "code",
   "execution_count": 45,
   "id": "a9e2eab0-c0b5-413f-91c7-63b1f1ad6be6",
   "metadata": {},
   "outputs": [],
   "source": [
    "final_model = cb_clf"
   ]
  },
  {
   "cell_type": "code",
   "execution_count": 46,
   "id": "7d94929d-502d-4c3a-a121-fd7f960b2b54",
   "metadata": {},
   "outputs": [],
   "source": [
    "final_model.fit(X_train, y_train)\n",
    "predictions = final_model.predict(X_test)"
   ]
  },
  {
   "cell_type": "code",
   "execution_count": 47,
   "id": "81ebbb4a-e7a6-4db4-ac11-13b75261d8d7",
   "metadata": {},
   "outputs": [],
   "source": [
    "from sklearn.metrics import roc_auc_score, f1_score, accuracy_score"
   ]
  },
  {
   "cell_type": "code",
   "execution_count": 48,
   "id": "5bcb46b1-8304-48f9-8a10-3b6d04191c26",
   "metadata": {},
   "outputs": [
    {
     "data": {
      "text/plain": [
       "0.7391743498265296"
      ]
     },
     "execution_count": 48,
     "metadata": {},
     "output_type": "execute_result"
    }
   ],
   "source": [
    "roc_auc_score(y_test, predictions)"
   ]
  },
  {
   "cell_type": "code",
   "execution_count": 49,
   "id": "b17a6df9-b252-4798-b193-1a40ffe7b8de",
   "metadata": {},
   "outputs": [
    {
     "data": {
      "text/plain": [
       "0.5793693212185996"
      ]
     },
     "execution_count": 49,
     "metadata": {},
     "output_type": "execute_result"
    }
   ],
   "source": [
    "f1_score(y_test, predictions)"
   ]
  },
  {
   "cell_type": "code",
   "execution_count": 50,
   "id": "d4524762-8e53-4641-9e5d-b12312bada95",
   "metadata": {},
   "outputs": [
    {
     "data": {
      "text/plain": [
       "0.9129713590622581"
      ]
     },
     "execution_count": 50,
     "metadata": {},
     "output_type": "execute_result"
    }
   ],
   "source": [
    "accuracy_score(y_test, predictions)"
   ]
  }
 ],
 "metadata": {
  "kernelspec": {
   "display_name": "Python 3 (ipykernel)",
   "language": "python",
   "name": "python3"
  },
  "language_info": {
   "codemirror_mode": {
    "name": "ipython",
    "version": 3
   },
   "file_extension": ".py",
   "mimetype": "text/x-python",
   "name": "python",
   "nbconvert_exporter": "python",
   "pygments_lexer": "ipython3",
   "version": "3.11.4"
  }
 },
 "nbformat": 4,
 "nbformat_minor": 5
}
