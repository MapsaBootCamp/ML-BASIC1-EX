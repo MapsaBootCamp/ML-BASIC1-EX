{
 "cells": [
  {
   "cell_type": "code",
   "execution_count": 2,
   "id": "c083699f-b702-491d-af4d-2e90b3d31e07",
   "metadata": {},
   "outputs": [],
   "source": [
    "import pandas as pd "
   ]
  },
  {
   "cell_type": "code",
   "execution_count": 3,
   "id": "8e52b4c5-fd47-4dc5-83b5-094fb103a460",
   "metadata": {},
   "outputs": [
    {
     "data": {
      "text/html": [
       "<div>\n",
       "<style scoped>\n",
       "    .dataframe tbody tr th:only-of-type {\n",
       "        vertical-align: middle;\n",
       "    }\n",
       "\n",
       "    .dataframe tbody tr th {\n",
       "        vertical-align: top;\n",
       "    }\n",
       "\n",
       "    .dataframe thead th {\n",
       "        text-align: right;\n",
       "    }\n",
       "</style>\n",
       "<table border=\"1\" class=\"dataframe\">\n",
       "  <thead>\n",
       "    <tr style=\"text-align: right;\">\n",
       "      <th></th>\n",
       "      <th>Customer Id</th>\n",
       "      <th>Date</th>\n",
       "      <th>Product</th>\n",
       "    </tr>\n",
       "  </thead>\n",
       "  <tbody>\n",
       "    <tr>\n",
       "      <th>0</th>\n",
       "      <td>JKML5ZWXP0XQ</td>\n",
       "      <td>2020-07-20</td>\n",
       "      <td>tropical fruit</td>\n",
       "    </tr>\n",
       "    <tr>\n",
       "      <th>1</th>\n",
       "      <td>YOGWQIUPDAJ7</td>\n",
       "      <td>2020-04-30</td>\n",
       "      <td>whole milk</td>\n",
       "    </tr>\n",
       "    <tr>\n",
       "      <th>2</th>\n",
       "      <td>Q3NL22281AF6</td>\n",
       "      <td>2020-09-18</td>\n",
       "      <td>pip fruit</td>\n",
       "    </tr>\n",
       "    <tr>\n",
       "      <th>3</th>\n",
       "      <td>C59GRTLMZQAU</td>\n",
       "      <td>2020-12-11</td>\n",
       "      <td>other vegetables</td>\n",
       "    </tr>\n",
       "    <tr>\n",
       "      <th>4</th>\n",
       "      <td>WUSF8LTEQZ5L</td>\n",
       "      <td>2020-01-02</td>\n",
       "      <td>whole milk</td>\n",
       "    </tr>\n",
       "    <tr>\n",
       "      <th>...</th>\n",
       "      <td>...</td>\n",
       "      <td>...</td>\n",
       "      <td>...</td>\n",
       "    </tr>\n",
       "    <tr>\n",
       "      <th>32705</th>\n",
       "      <td>PM1BQU9H9S2Q</td>\n",
       "      <td>2019-06-05</td>\n",
       "      <td>oil</td>\n",
       "    </tr>\n",
       "    <tr>\n",
       "      <th>32706</th>\n",
       "      <td>6AWIAP3ZV551</td>\n",
       "      <td>2019-08-10</td>\n",
       "      <td>sliced cheese</td>\n",
       "    </tr>\n",
       "    <tr>\n",
       "      <th>32707</th>\n",
       "      <td>LRWVFLSC8X5B</td>\n",
       "      <td>2019-02-23</td>\n",
       "      <td>candy</td>\n",
       "    </tr>\n",
       "    <tr>\n",
       "      <th>32708</th>\n",
       "      <td>8KYRMELYKNIH</td>\n",
       "      <td>2019-04-16</td>\n",
       "      <td>cake bar</td>\n",
       "    </tr>\n",
       "    <tr>\n",
       "      <th>32709</th>\n",
       "      <td>41NGW85T47Q1</td>\n",
       "      <td>2019-03-12</td>\n",
       "      <td>fruit/vegetable juice</td>\n",
       "    </tr>\n",
       "  </tbody>\n",
       "</table>\n",
       "<p>32710 rows × 3 columns</p>\n",
       "</div>"
      ],
      "text/plain": [
       "        Customer Id        Date                Product\n",
       "0      JKML5ZWXP0XQ  2020-07-20         tropical fruit\n",
       "1      YOGWQIUPDAJ7  2020-04-30             whole milk\n",
       "2      Q3NL22281AF6  2020-09-18              pip fruit\n",
       "3      C59GRTLMZQAU  2020-12-11       other vegetables\n",
       "4      WUSF8LTEQZ5L  2020-01-02             whole milk\n",
       "...             ...         ...                    ...\n",
       "32705  PM1BQU9H9S2Q  2019-06-05                    oil\n",
       "32706  6AWIAP3ZV551  2019-08-10          sliced cheese\n",
       "32707  LRWVFLSC8X5B  2019-02-23                  candy\n",
       "32708  8KYRMELYKNIH  2019-04-16               cake bar\n",
       "32709  41NGW85T47Q1  2019-03-12  fruit/vegetable juice\n",
       "\n",
       "[32710 rows x 3 columns]"
      ]
     },
     "execution_count": 3,
     "metadata": {},
     "output_type": "execute_result"
    }
   ],
   "source": [
    "super_market = pd.read_csv('supermarket.csv')\n",
    "super_market"
   ]
  },
  {
   "cell_type": "code",
   "execution_count": 4,
   "id": "85ec2e66-fd99-486a-a8fb-16538bf7ee6c",
   "metadata": {},
   "outputs": [
    {
     "data": {
      "text/plain": [
       "137"
      ]
     },
     "execution_count": 4,
     "metadata": {},
     "output_type": "execute_result"
    }
   ],
   "source": [
    "### soal1 =  tedad mahsoolat yekta\n",
    "unique_numbers= super_market['Product'].nunique()\n",
    "unique_numbers"
   ]
  },
  {
   "cell_type": "code",
   "execution_count": 5,
   "id": "a6e08719-20ce-4328-9884-6e3b83f79427",
   "metadata": {
    "tags": []
   },
   "outputs": [
    {
     "data": {
      "text/plain": [
       "Product\n",
       "whole milk                7.2\n",
       "other vegetables          5.6\n",
       "rolls/buns                5.0\n",
       "soda                      4.4\n",
       "yogurt                    3.9\n",
       "                         ... \n",
       "honey                     0.0\n",
       "ready soups               0.0\n",
       "cooking chocolate         0.0\n",
       "flower soil/fertilizer    0.0\n",
       "kitchen utensil           0.0\n",
       "Name: Date, Length: 137, dtype: float64"
      ]
     },
     "execution_count": 5,
     "metadata": {},
     "output_type": "execute_result"
    }
   ],
   "source": [
    "### soal 2 = mizan forosh be eza har rooz  be sorat miangin\n",
    "mizan_dar_yek_rooz= super_market.groupby('Product')['Date'].agg('size').sort_values(ascending=False)\n",
    "kol_mahsoolat= super_market['Date'].count()\n",
    "result = mizan_dar_yek_rooz/kol_mahsoolat\n",
    "(result.round(3)*100).sort_values(ascending=False)"
   ]
  },
  {
   "cell_type": "code",
   "execution_count": 6,
   "id": "b9f3e48e-d54a-4910-8ddb-106a4b6f790f",
   "metadata": {},
   "outputs": [
    {
     "data": {
      "text/plain": [
       "Product\n",
       "kitchen utensil          1\n",
       "preservation products    1\n",
       "baby cosmetics           3\n",
       "bags                     4\n",
       "Name: tedad, dtype: int64"
      ]
     },
     "execution_count": 6,
     "metadata": {},
     "output_type": "execute_result"
    }
   ],
   "source": [
    "# soal 3 = mahsool ke kamtar dar sabad moshtarian boodan\n",
    "super_market['tedad'] = super_market['Product'].value_counts()\n",
    "majmoe = (super_market.groupby('Product')['tedad'].agg('size')).sort_values()\n",
    "majmoe[0:4]\n",
    "### ==> utensil , preservation , baby cosmetcs , bags\n"
   ]
  },
  {
   "cell_type": "code",
   "execution_count": 7,
   "id": "6a3bb12d-3ae9-444c-a805-26d6a1ca683e",
   "metadata": {},
   "outputs": [
    {
     "data": {
      "text/plain": [
       "Customer Id\n",
       "0P1TPIH74E79    32\n",
       "0ZRF32AJ06BC    30\n",
       "L1V5UZI2G191    28\n",
       "JKC89PT6OZ01    26\n",
       "Name: year, dtype: int64"
      ]
     },
     "execution_count": 7,
     "metadata": {},
     "output_type": "execute_result"
    }
   ],
   "source": [
    "### soal4 = 5 moshtary bartar dar 2020\n",
    "import datetime\n",
    "f = lambda x : x.split('-')[0]\n",
    "super_market['year'] = super_market['Date'].apply(f)\n",
    "x = super_market.groupby('Customer Id')['year'].agg('count').sort_values(ascending=False)\n",
    "x[0:4]"
   ]
  },
  {
   "cell_type": "code",
   "execution_count": 8,
   "id": "4931abe1-1566-4a35-a8a5-34e40686f1ff",
   "metadata": {
    "tags": []
   },
   "outputs": [
    {
     "data": {
      "text/plain": [
       "Date\n",
       "2020-01-21    80\n",
       "2019-08-28    76\n",
       "2020-03-25    74\n",
       "2019-03-04    74\n",
       "2020-07-20    73\n",
       "              ..\n",
       "2019-07-12    21\n",
       "2019-04-07    20\n",
       "2020-03-16    18\n",
       "2020-01-09    18\n",
       "2020-03-15    17\n",
       "Name: day, Length: 728, dtype: int64"
      ]
     },
     "execution_count": 8,
     "metadata": {},
     "output_type": "execute_result"
    }
   ],
   "source": [
    "# soal5 = roozie ke bishtarin mahsool forosh rafte\n",
    "from datetime import *\n",
    "def f(date):\n",
    "        dt = datetime.strptime(date, '%Y-%m-%d')\n",
    "        weekday = dt.strftime('%A')\n",
    "        return weekday\n",
    "super_market['day'] = super_market['Date'].apply(f)\n",
    "result= (super_market.groupby('Date')['day'].agg('size')).sort_values(ascending=False)\n",
    "result"
   ]
  },
  {
   "cell_type": "code",
   "execution_count": 9,
   "id": "573d03b8-6874-4ec1-8747-9b73657ec4c7",
   "metadata": {},
   "outputs": [
    {
     "data": {
      "text/plain": [
       "'Tuesday'"
      ]
     },
     "execution_count": 9,
     "metadata": {},
     "output_type": "execute_result"
    }
   ],
   "source": [
    "f('2020-01-21')"
   ]
  },
  {
   "cell_type": "code",
   "execution_count": 10,
   "id": "62c77e8f-21bf-4d2e-9ee3-407a03503223",
   "metadata": {},
   "outputs": [],
   "source": [
    "#soal6 = 5 mahsooli ke bishtarin support ra darand "
   ]
  },
  {
   "cell_type": "code",
   "execution_count": 35,
   "id": "aeba4dae-105b-4aba-9e45-92d56a9e10b8",
   "metadata": {},
   "outputs": [
    {
     "data": {
      "text/plain": [
       "Product\n",
       "whole milk          7.224090\n",
       "other vegetables    5.585448\n",
       "rolls/buns          5.032100\n",
       "soda                4.442067\n",
       "yogurt              3.928462\n",
       "dtype: float64"
      ]
     },
     "execution_count": 35,
     "metadata": {},
     "output_type": "execute_result"
    }
   ],
   "source": [
    "kol_sabad_ha= super_market['Product'].size\n",
    "har_mahsool_che_ghadr = super_market.groupby('Product').agg('size')\n",
    "result = har_mahsool_che_ghadr/kol_sabad_ha\n",
    "(result*100).sort_values(ascending=False).head()"
   ]
  },
  {
   "cell_type": "code",
   "execution_count": 46,
   "id": "83e6a303-96f0-46df-a1ab-5546992f87bf",
   "metadata": {},
   "outputs": [
    {
     "data": {
      "text/plain": [
       "-1"
      ]
     },
     "execution_count": 46,
     "metadata": {},
     "output_type": "execute_result"
    }
   ],
   "source": [
    "#soal7 = bishtarin confidence dar do\n",
    "-1"
   ]
  },
  {
   "cell_type": "code",
   "execution_count": null,
   "id": "ed7da8e3-ae58-4f0f-a651-d55d7153495c",
   "metadata": {},
   "outputs": [],
   "source": []
  }
 ],
 "metadata": {
  "kernelspec": {
   "display_name": "Python 3 (ipykernel)",
   "language": "python",
   "name": "python3"
  },
  "language_info": {
   "codemirror_mode": {
    "name": "ipython",
    "version": 3
   },
   "file_extension": ".py",
   "mimetype": "text/x-python",
   "name": "python",
   "nbconvert_exporter": "python",
   "pygments_lexer": "ipython3",
   "version": "3.10.9"
  }
 },
 "nbformat": 4,
 "nbformat_minor": 5
}
