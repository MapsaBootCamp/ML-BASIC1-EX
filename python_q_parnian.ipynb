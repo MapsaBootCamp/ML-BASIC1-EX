{
  "cells": [
    {
      "cell_type": "markdown",
      "id": "42976f64-9534-4f1c-ba5e-c21c3befa7a6",
      "metadata": {
        "id": "42976f64-9534-4f1c-ba5e-c21c3befa7a6"
      },
      "source": [
        "Find the sum of three integers in the given array 'nums' of length 'n' such that the sum is closest to the target. Return the computed sum. Assume that there is exactly one solution for each input."
      ]
    },
    {
      "cell_type": "markdown",
      "id": "efd7fa7c-4865-4480-863b-7203874b40d6",
      "metadata": {
        "id": "efd7fa7c-4865-4480-863b-7203874b40d6"
      },
      "source": [
        "Example 1:\n",
        "\n",
        "Input: nums = [-1,2,1,-4], target = 1\n",
        "Output: 2\n",
        "Explanation: The sum that is closest to the target is 2. (-1 + 2 + 1 = 2).\n",
        "\n",
        "Example 2:\n",
        "\n",
        "Input: nums = [0,0,0], target = 1\n",
        "Output: 0\n",
        "Explanation: The sum that is closest to the target is 0. (0 + 0 + 0 = 0)."
      ]
    },
    {
      "cell_type": "code",
      "source": [
        "n = int(input(\"Enter the length of the nums(n) : \"))\n",
        "target = int(input(\"Enter the target : \"))"
      ],
      "metadata": {
        "colab": {
          "base_uri": "https://localhost:8080/"
        },
        "id": "obh2Koe0ipqJ",
        "outputId": "3046f169-412a-4878-f889-9c4705273cb7"
      },
      "id": "obh2Koe0ipqJ",
      "execution_count": 3,
      "outputs": [
        {
          "name": "stdout",
          "output_type": "stream",
          "text": [
            "Enter the length of the nums(n) : 5\n",
            "Enter the target : 5\n"
          ]
        }
      ]
    },
    {
      "cell_type": "code",
      "source": [
        "nums = []\n",
        "for i in range(n):\n",
        "  nums.append(int(input(\"Enter each elements of the nums : \")))"
      ],
      "metadata": {
        "colab": {
          "base_uri": "https://localhost:8080/"
        },
        "id": "8dFpyXrNipsz",
        "outputId": "5fb4ceb1-df78-4704-bed0-f4c1ce287beb"
      },
      "id": "8dFpyXrNipsz",
      "execution_count": 4,
      "outputs": [
        {
          "name": "stdout",
          "output_type": "stream",
          "text": [
            "Enter each elements of the nums : 3\n",
            "Enter each elements of the nums : 4\n",
            "Enter each elements of the nums : 5\n",
            "Enter each elements of the nums : -1\n",
            "Enter each elements of the nums : 3\n"
          ]
        }
      ]
    },
    {
      "cell_type": "code",
      "source": [
        "import itertools\n",
        "subset_list = []\n",
        "for subset in itertools.combinations(nums, 3):\n",
        "    subset_list.append(subset)\n"
      ],
      "metadata": {
        "id": "PtBPuC_sipvW"
      },
      "id": "PtBPuC_sipvW",
      "execution_count": 7,
      "outputs": []
    },
    {
      "cell_type": "code",
      "source": [
        "subset_dict = {}\n",
        "for sub in subset_list:\n",
        "  subset_dict[sub] = abs(target - sum(sub))\n"
      ],
      "metadata": {
        "id": "62FUAjSCipx-"
      },
      "id": "62FUAjSCipx-",
      "execution_count": null,
      "outputs": []
    },
    {
      "cell_type": "code",
      "source": [
        "subset_with_min_value = min(subset_dict, key=subset_dict.get)\n",
        "\n",
        "print(\"Key with minimum value:\", subset_with_min_value)\n"
      ],
      "metadata": {
        "colab": {
          "base_uri": "https://localhost:8080/"
        },
        "id": "FeT5FSgxip0m",
        "outputId": "b7fad707-c700-4b38-b031-a7dee90f396b"
      },
      "id": "FeT5FSgxip0m",
      "execution_count": 13,
      "outputs": [
        {
          "output_type": "stream",
          "name": "stdout",
          "text": [
            "Key with minimum value: (3, -1, 3)\n"
          ]
        }
      ]
    },
    {
      "cell_type": "markdown",
      "source": [
        "### **Fuctionilizing it **"
      ],
      "metadata": {
        "id": "lqXe6C2kmqOl"
      },
      "id": "lqXe6C2kmqOl"
    },
    {
      "cell_type": "code",
      "source": [
        "def closet_target(nums, target):\n",
        "  subset_list = []\n",
        "  for subset in itertools.combinations(nums, 3):\n",
        "    subset_list.append(subset)\n",
        "  subset_dict = {}\n",
        "  for sub in subset_list:\n",
        "    subset_dict[sub] = abs(target - sum(sub))\n",
        "\n",
        "  subset_with_min_value = min(subset_dict, key=subset_dict.get)\n",
        "  return subset_with_min_value\n"
      ],
      "metadata": {
        "id": "WrcmHJ5iip3H"
      },
      "id": "WrcmHJ5iip3H",
      "execution_count": 14,
      "outputs": []
    },
    {
      "cell_type": "code",
      "source": [
        "print(closet_target(nums, target))"
      ],
      "metadata": {
        "colab": {
          "base_uri": "https://localhost:8080/"
        },
        "id": "zWucXxHznRVQ",
        "outputId": "68459954-8472-4675-8db6-152831e80912"
      },
      "id": "zWucXxHznRVQ",
      "execution_count": 15,
      "outputs": [
        {
          "output_type": "stream",
          "name": "stdout",
          "text": [
            "(3, -1, 3)\n"
          ]
        }
      ]
    }
  ],
  "metadata": {
    "kernelspec": {
      "display_name": "Python 3 (ipykernel)",
      "language": "python",
      "name": "python3"
    },
    "language_info": {
      "codemirror_mode": {
        "name": "ipython",
        "version": 3
      },
      "file_extension": ".py",
      "mimetype": "text/x-python",
      "name": "python",
      "nbconvert_exporter": "python",
      "pygments_lexer": "ipython3",
      "version": "3.9.6"
    },
    "colab": {
      "provenance": []
    }
  },
  "nbformat": 4,
  "nbformat_minor": 5
}