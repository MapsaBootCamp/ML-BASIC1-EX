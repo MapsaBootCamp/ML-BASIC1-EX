{
 "cells": [
  {
   "cell_type": "markdown",
   "id": "f8b8be6a-4b63-4750-a0f3-966175468e2c",
   "metadata": {},
   "source": [
    "Find the sum of three integers in the given array 'nums' of length 'n' such that the sum is closest to the target. Return the computed sum. Assume that there is exactly one solution for each input.\n"
   ]
  },
  {
   "cell_type": "code",
   "execution_count": 1,
   "id": "b058e7b2-8d01-4848-b260-779d36193342",
   "metadata": {},
   "outputs": [],
   "source": [
    "def closest_sum(nums, n, target):\n",
    "    \n",
    "    closest_diff = 999999\n",
    "    closest_sum = None  \n",
    "    for i in range(n):\n",
    "        for j in range(i + 1, n):\n",
    "            curr_sum = nums[i] + nums[j]\n",
    "            diff = abs(target - curr_sum)\n",
    "            \n",
    "            if diff < closest_diff:\n",
    "                closest_diff = diff\n",
    "                closest_sum = curr_sum\n",
    "\n",
    "    return closest_sum"
   ]
  },
  {
   "cell_type": "code",
   "execution_count": 2,
   "id": "6dafda12-f792-4d8d-94b5-e360d3eb3713",
   "metadata": {},
   "outputs": [
    {
     "data": {
      "text/plain": [
       "1"
      ]
     },
     "execution_count": 2,
     "metadata": {},
     "output_type": "execute_result"
    }
   ],
   "source": [
    "nums = [-1,2,1,-4]\n",
    "target = 1\n",
    "n = len(nums)\n",
    "sum = closest_sum(nums, n, target)\n",
    "sum"
   ]
  },
  {
   "cell_type": "code",
   "execution_count": 3,
   "id": "dabf5172-568a-4478-b8b4-f0a11d5e2379",
   "metadata": {},
   "outputs": [
    {
     "data": {
      "text/plain": [
       "0"
      ]
     },
     "execution_count": 3,
     "metadata": {},
     "output_type": "execute_result"
    }
   ],
   "source": [
    "nums = [0,0,0]\n",
    "target = 1\n",
    "n = len(nums)\n",
    "sum = closest_sum(nums, n, target)\n",
    "sum"
   ]
  },
  {
   "cell_type": "code",
   "execution_count": null,
   "id": "7ebfc6f7-0dd7-4aa1-84e1-11143ebcdf81",
   "metadata": {},
   "outputs": [],
   "source": []
  }
 ],
 "metadata": {
  "kernelspec": {
   "display_name": "Python 3 (ipykernel)",
   "language": "python",
   "name": "python3"
  },
  "language_info": {
   "codemirror_mode": {
    "name": "ipython",
    "version": 3
   },
   "file_extension": ".py",
   "mimetype": "text/x-python",
   "name": "python",
   "nbconvert_exporter": "python",
   "pygments_lexer": "ipython3",
   "version": "3.10.12"
  }
 },
 "nbformat": 4,
 "nbformat_minor": 5
}
