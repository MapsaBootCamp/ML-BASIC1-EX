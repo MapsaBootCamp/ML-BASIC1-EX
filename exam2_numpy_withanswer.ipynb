{
 "cells": [
  {
   "cell_type": "markdown",
   "metadata": {
    "id": "9U1oR4G6phxk"
   },
   "source": [
    "# تمامی سوالات با نامپای حل شود و لیست ها به\n",
    "# numpy array\n",
    "\n",
    "# تبدیل شود\n",
    " نامپای اری = numpy array\n",
    "\n",
    " اری = array"
   ]
  },
  {
   "cell_type": "code",
   "execution_count": 1,
   "metadata": {},
   "outputs": [],
   "source": [
    "import numpy as np"
   ]
  },
  {
   "cell_type": "markdown",
   "metadata": {
    "id": "-aJMm-G8j-tk"
   },
   "source": [
    "۱-\n",
    "اعداد فرد را با -۱ جایگزین کنید\n",
    "\n",
    "[0, 1, 2, 3, 4, 5, 6, 7, 8, 9]"
   ]
  },
  {
   "cell_type": "code",
   "execution_count": 12,
   "metadata": {
    "colab": {
     "base_uri": "https://localhost:8080/"
    },
    "id": "QoDo1HE6j9d7",
    "outputId": "5bfb26fc-2a92-41b5-bec0-b1da3a1d3211"
   },
   "outputs": [
    {
     "data": {
      "text/plain": [
       "array([0, 1, 2, 1, 4, 1, 6, 1, 8, 1])"
      ]
     },
     "execution_count": 12,
     "metadata": {},
     "output_type": "execute_result"
    }
   ],
   "source": [
    "arr1=np.array([0, 1, 2, 3, 4, 5, 6, 7, 8, 9])\n",
    "# np.where(arr1%2==0,1,arr1)\n",
    "arr1[1::2]=1\n",
    "arr1"
   ]
  },
  {
   "cell_type": "markdown",
   "metadata": {
    "id": "crI0NSuDlVGh"
   },
   "source": [
    "۲- خروجی کد بالا را به شکل زیر تغییر دهید"
   ]
  },
  {
   "cell_type": "code",
   "execution_count": 16,
   "metadata": {
    "colab": {
     "base_uri": "https://localhost:8080/"
    },
    "id": "Hl2Xmim_lPjI",
    "outputId": "02ea0e86-e220-4289-f75f-f9509dfbd044"
   },
   "outputs": [
    {
     "data": {
      "text/plain": [
       "array([[ 0, -1,  2, -1,  4],\n",
       "       [-1,  6, -1,  8, -1]])"
      ]
     },
     "execution_count": 16,
     "metadata": {},
     "output_type": "execute_result"
    }
   ],
   "source": [
    "arr1[1::2]=-1\n",
    "np.reshape(arr1,(2,5))"
   ]
  },
  {
   "cell_type": "markdown",
   "metadata": {
    "id": "7Bs4QG5nl7hD"
   },
   "source": [
    "[1,2,3,2,3,4,3,4,5,6]\n",
    "\n",
    "[7,2,10,2,7,4,9,4,9,8]\n",
    "\n",
    "۳- مشخص کنید بین دو لیست گفته شده کدام اعضا و در چه ایندکسی اشتراک دارند"
   ]
  },
  {
   "cell_type": "code",
   "execution_count": 237,
   "metadata": {
    "colab": {
     "base_uri": "https://localhost:8080/"
    },
    "id": "TVo8Kjo3l8BH",
    "outputId": "aee15b75-8ee1-46cf-c528-2344d669197e"
   },
   "outputs": [
    {
     "name": "stdout",
     "output_type": "stream",
     "text": [
      "list_of_index:  [1 3 5 7] \n",
      "list_of_mutual: [2 2 4 4]\n"
     ]
    }
   ],
   "source": [
    "list1=np.array([1,2,3,2,3,4,3,4,5,6])\n",
    "list2=np.array([7,2,10,2,7,4,9,4,9,8])\n",
    "print('list_of_index: ',np.where(list1==list2)[0],'\\nlist_of_mutual:',list1[list1==list2])\n"
   ]
  },
  {
   "cell_type": "code",
   "execution_count": 39,
   "metadata": {},
   "outputs": [
    {
     "data": {
      "text/plain": [
       "False"
      ]
     },
     "execution_count": 39,
     "metadata": {},
     "output_type": "execute_result"
    }
   ],
   "source": [
    "# np.isnan(list1)\n",
    "np.allclose(np.nan,list1)"
   ]
  },
  {
   "cell_type": "markdown",
   "metadata": {
    "id": "TCbDJ_Hom-_T"
   },
   "source": [
    "array([ 0,  1,  2, ..., 12, 13, 14]\n",
    "\n",
    "۴- برای حذف سه نقطه به هنگام پرینت چه راهی پیشنهاد می دهید\n",
    "\n",
    "و با چه روشی میتوان چک کرد مقدار خالی وجود دارد یا خیر\n"
   ]
  },
  {
   "cell_type": "markdown",
   "metadata": {
    "id": "4-6xXGJVm_dS"
   },
   "source": [
    " ##### to print without elipsis:np.set_printoptions(threshold=len(arr))\n",
    " ##### to check each element is nan: np.isclose(np.nan,arr1)\n",
    " ##### to check is there any nan in array: np.allclose(np.nan,arr1)\n"
   ]
  },
  {
   "cell_type": "markdown",
   "metadata": {
    "id": "hGcIjdVRpIhO"
   },
   "source": [
    "۵- مقادیر یکتای لیست زیر چقدر است و از هر کدام چند تا در لیست وجود دارد\n",
    "\n",
    "[1,2,3,2,3,4,3,4,5,6]"
   ]
  },
  {
   "cell_type": "code",
   "execution_count": 50,
   "metadata": {
    "colab": {
     "base_uri": "https://localhost:8080/"
    },
    "id": "d-7MSzEpoUNn",
    "outputId": "b4ca36e2-7de6-463a-9926-672e9b005996"
   },
   "outputs": [
    {
     "name": "stdout",
     "output_type": "stream",
     "text": [
      "The first item is unique value and second is count of it :[(1, 1), (2, 2), (3, 3), (4, 2), (5, 1), (6, 1)]\n"
     ]
    }
   ],
   "source": [
    "uniq_list=np.array([1,2,3,2,3,4,3,4,5,6])\n",
    "unique,count=np.unique(uniq_list,return_counts=True)\n",
    "print(f'The first item is unique value and second is count of it :{[*zip(unique , count)]}') "
   ]
  },
  {
   "cell_type": "markdown",
   "metadata": {
    "id": "ApHYEVwuqtTg"
   },
   "source": [
    "۶- یک array\n",
    "\n",
    " رندوم ۳۰ عضوی بین اعداد ۱ تا ۵۰ بسازید و اعدادی که کوچکتر از ۱۰ هستند را به ۱۰ و اعدادی که از ۳۰ بزرگتر هستند را به ۳۰ تغییر دهید"
   ]
  },
  {
   "cell_type": "code",
   "execution_count": 62,
   "metadata": {
    "colab": {
     "base_uri": "https://localhost:8080/"
    },
    "id": "wi70Mm8Vo0Ml",
    "outputId": "4b1422f7-811c-4fb8-fe1a-f58644ef1975"
   },
   "outputs": [
    {
     "data": {
      "text/plain": [
       "array([13, 13, 40, 34, 23, 44,  5, 44, 26, 14, 43, 28, 37, 25, 42, 26, 32,\n",
       "        5,  7, 45, 49, 47, 13, 36, 12, 26, 14, 47, 26,  9])"
      ]
     },
     "execution_count": 62,
     "metadata": {},
     "output_type": "execute_result"
    }
   ],
   "source": [
    "arr3=np.random.randint(1,50,30)\n",
    "# np.where(arr3<10,10,arr3>30,30)\n",
    "def change_10_30(x):\n",
    "    if x<10:\n",
    "        return 10\n",
    "    elif x>30:\n",
    "        return 30\n",
    "    else:\n",
    "        return x\n",
    "arr3"
   ]
  },
  {
   "cell_type": "code",
   "execution_count": 63,
   "metadata": {},
   "outputs": [
    {
     "data": {
      "text/plain": [
       "array([13, 13, 30, 30, 23, 30, 10, 30, 26, 14, 30, 28, 30, 25, 30, 26, 30,\n",
       "       10, 10, 30, 30, 30, 13, 30, 12, 26, 14, 30, 26, 10])"
      ]
     },
     "execution_count": 63,
     "metadata": {},
     "output_type": "execute_result"
    }
   ],
   "source": [
    "change_array=np.vectorize(change_10_30)\n",
    "change_array(arr3)"
   ]
  },
  {
   "cell_type": "markdown",
   "metadata": {
    "id": "yqDvPeDsr86h"
   },
   "source": [
    "۷-  array یک\n",
    "\n",
    "سه بعدی ساخته و در انتها آن را یک بعدی کنید"
   ]
  },
  {
   "cell_type": "code",
   "execution_count": 68,
   "metadata": {
    "colab": {
     "base_uri": "https://localhost:8080/"
    },
    "id": "HZLxYYD0rqQ3",
    "outputId": "05cd0c02-3d27-4f66-cd30-d259849e6a6b"
   },
   "outputs": [],
   "source": [
    "arr4=np.random.randint(1,100,[3,5,2])"
   ]
  },
  {
   "cell_type": "code",
   "execution_count": 69,
   "metadata": {},
   "outputs": [
    {
     "data": {
      "text/plain": [
       "array([[[82, 22],\n",
       "        [45, 10],\n",
       "        [25, 40],\n",
       "        [89, 87],\n",
       "        [80, 81]],\n",
       "\n",
       "       [[68, 53],\n",
       "        [54, 76],\n",
       "        [71, 46],\n",
       "        [30, 81],\n",
       "        [26,  3]],\n",
       "\n",
       "       [[74, 70],\n",
       "        [33, 35],\n",
       "        [83, 26],\n",
       "        [23, 85],\n",
       "        [89, 96]]])"
      ]
     },
     "execution_count": 69,
     "metadata": {},
     "output_type": "execute_result"
    }
   ],
   "source": [
    "arr4"
   ]
  },
  {
   "cell_type": "code",
   "execution_count": 75,
   "metadata": {},
   "outputs": [
    {
     "data": {
      "text/plain": [
       "array([82, 22, 45, 10, 25, 40, 89, 87, 80, 81, 68, 53, 54, 76, 71, 46, 30,\n",
       "       81, 26,  3, 74, 70, 33, 35, 83, 26, 23, 85, 89, 96])"
      ]
     },
     "execution_count": 75,
     "metadata": {},
     "output_type": "execute_result"
    }
   ],
   "source": [
    "arr4.flatten()"
   ]
  },
  {
   "cell_type": "markdown",
   "metadata": {
    "id": "lPvjwDButXsY"
   },
   "source": [
    "۸- بزرگترین عضو در هر ردیف و سپس بزرگترین عضو در هر ستون بیابید"
   ]
  },
  {
   "cell_type": "code",
   "execution_count": 162,
   "metadata": {
    "colab": {
     "base_uri": "https://localhost:8080/"
    },
    "id": "UHnkAFfOuApB",
    "outputId": "c3734429-eccb-493b-c0fb-2cfe3a91a8e5"
   },
   "outputs": [
    {
     "name": "stdout",
     "output_type": "stream",
     "text": [
      "[[9 9 4 8]\n",
      " [8 1 5 3]\n",
      " [6 3 3 3]\n",
      " [2 1 9 5]\n",
      " [1 7 3 5]\n",
      " [2 6 4 5]\n",
      " [5 4 8 2]\n",
      " [2 8 8 1]]\n"
     ]
    }
   ],
   "source": [
    "# import numpy as np\n",
    "\n",
    "np.random.seed(100)\n",
    "a = np.random.randint(1,10, [8,4])\n",
    "print(a)\n"
   ]
  },
  {
   "cell_type": "code",
   "execution_count": 163,
   "metadata": {},
   "outputs": [
    {
     "name": "stdout",
     "output_type": "stream",
     "text": [
      "maximum in each columns: [9 9 9 8], maximum in each row: [9 8 6 9 7 6 8 8]\n"
     ]
    }
   ],
   "source": [
    "print(f'maximum in each columns: {a.max(0)}, maximum in each row: {a.max(1)}')"
   ]
  },
  {
   "cell_type": "markdown",
   "metadata": {},
   "source": [
    "۹- نامپای اری را بسازید که بین دو تاریخ '2022-02-01' و '2022-02-25'\n",
    "به صورت یک روز در میان باشد\n",
    "\n",
    "حالا روزهای جا افتاده در اری بالا را به آن اضافه کنید"
   ]
  },
  {
   "cell_type": "code",
   "execution_count": 86,
   "metadata": {},
   "outputs": [],
   "source": [
    "from datetime import datetime ,timedelta \n"
   ]
  },
  {
   "cell_type": "code",
   "execution_count": 146,
   "metadata": {},
   "outputs": [],
   "source": [
    "date_1=np.arange(np.datetime64('2022-02-02'),np.datetime64('2022-02-25'),2)"
   ]
  },
  {
   "cell_type": "code",
   "execution_count": 158,
   "metadata": {},
   "outputs": [],
   "source": [
    "date_2=np.arange(np.datetime64('2022-02-03'),np.datetime64('2022-02-25'),2)"
   ]
  },
  {
   "cell_type": "code",
   "execution_count": 159,
   "metadata": {},
   "outputs": [
    {
     "data": {
      "text/plain": [
       "array(['2022-02-02', '2022-02-04', '2022-02-06', '2022-02-08',\n",
       "       '2022-02-10', '2022-02-12', '2022-02-14', '2022-02-16',\n",
       "       '2022-02-18', '2022-02-20', '2022-02-22', '2022-02-24'],\n",
       "      dtype='datetime64[D]')"
      ]
     },
     "execution_count": 159,
     "metadata": {},
     "output_type": "execute_result"
    }
   ],
   "source": [
    "date_1"
   ]
  },
  {
   "cell_type": "code",
   "execution_count": 157,
   "metadata": {},
   "outputs": [
    {
     "data": {
      "text/plain": [
       "array(['2022-02-02', '2022-02-03', '2022-02-04', '2022-02-05',\n",
       "       '2022-02-06', '2022-02-07', '2022-02-08', '2022-02-09',\n",
       "       '2022-02-10', '2022-02-11', '2022-02-12', '2022-02-13',\n",
       "       '2022-02-14', '2022-02-15', '2022-02-16', '2022-02-17',\n",
       "       '2022-02-18', '2022-02-19', '2022-02-20', '2022-02-21',\n",
       "       '2022-02-22', '2022-02-23', '2022-02-24'], dtype='<U28')"
      ]
     },
     "execution_count": 157,
     "metadata": {},
     "output_type": "execute_result"
    }
   ],
   "source": [
    "np.sort(np.append(np.datetime_as_string(date_1),(np.datetime_as_string(date_2))))"
   ]
  },
  {
   "cell_type": "markdown",
   "metadata": {
    "id": "-kiAuUBPzKAy"
   },
   "source": [
    "۱۰- عکس زیر را با کتابخانه\n",
    "\n",
    "requests\n",
    "\n",
    "گرفته و سپس با استفاده از کتابخانه\n",
    "\n",
    "BytesIO\n",
    "\n",
    "آن را باز کرده و به سایز ۲۵۰ در ۲۵۰ تغییر داده و در نامپای اری ذخیره کنید\n"
   ]
  },
  {
   "cell_type": "code",
   "execution_count": 175,
   "metadata": {},
   "outputs": [],
   "source": [
    "import requests\n",
    "from io import BytesIO\n",
    "from PIL import Image"
   ]
  },
  {
   "cell_type": "code",
   "execution_count": 190,
   "metadata": {},
   "outputs": [],
   "source": [
    "url='https://w0.peakpx.com/wallpaper/803/135/HD-wallpaper-dark-logo-dark-netflix-dark-season-dark-web-series-german-sci-fi-thriller.jpg'"
   ]
  },
  {
   "cell_type": "code",
   "execution_count": 191,
   "metadata": {},
   "outputs": [],
   "source": [
    "response = requests.get(url)"
   ]
  },
  {
   "cell_type": "code",
   "execution_count": 192,
   "metadata": {},
   "outputs": [
    {
     "data": {
      "text/plain": [
       "<_io.BytesIO at 0x20110155cc0>"
      ]
     },
     "execution_count": 192,
     "metadata": {},
     "output_type": "execute_result"
    }
   ],
   "source": [
    "BytesIO(response.content)"
   ]
  },
  {
   "cell_type": "code",
   "execution_count": 194,
   "metadata": {},
   "outputs": [],
   "source": [
    "image=Image.open(BytesIO(response.content))\n"
   ]
  },
  {
   "cell_type": "code",
   "execution_count": 200,
   "metadata": {
    "colab": {
     "base_uri": "https://localhost:8080/"
    },
    "id": "DMklSUtRugcL",
    "outputId": "05415873-c8f2-4b7c-c90f-74e2e73549fb"
   },
   "outputs": [
    {
     "data": {
      "text/plain": [
       "(800, 1422)"
      ]
     },
     "execution_count": 200,
     "metadata": {},
     "output_type": "execute_result"
    }
   ],
   "source": [
    "image.size"
   ]
  },
  {
   "cell_type": "code",
   "execution_count": 222,
   "metadata": {},
   "outputs": [],
   "source": [
    "np_image=np.array(image)"
   ]
  },
  {
   "cell_type": "code",
   "execution_count": 229,
   "metadata": {},
   "outputs": [],
   "source": [
    "resise_image=image.resize((250,250))"
   ]
  },
  {
   "cell_type": "code",
   "execution_count": 234,
   "metadata": {},
   "outputs": [],
   "source": [
    "resise_image=np.array(resise_image)"
   ]
  },
  {
   "cell_type": "code",
   "execution_count": 235,
   "metadata": {},
   "outputs": [
    {
     "data": {
      "text/plain": [
       "(250, 250, 3)"
      ]
     },
     "execution_count": 235,
     "metadata": {},
     "output_type": "execute_result"
    }
   ],
   "source": [
    "resise_image.shape"
   ]
  },
  {
   "cell_type": "markdown",
   "metadata": {
    "id": "6WEDqaz_3WVh"
   },
   "source": [
    "# linux\n",
    "1-برای تنظیمات گراب بهتر است کدوم فولدر تغییر داده شود\n",
    "\n",
    "2- شما برنامه ای را برای پیش بینی قیمت کالا نوشته اید این برمامه برای ران شدن احتیاج به خواندن ورودی به عنوان کانفیگ دارد کانفیگ های برنامه بهتر است چگونه و در کجا اعمال شوند\n",
    "\n",
    "3-به نظر شما نود پرینتر یا هر سخت افزار در کدام فولدر ذخیره میشود\n",
    "\n",
    "4-چیست bios کار\n",
    "\n",
    "5- منظور از ~ چیست"
   ]
  },
  {
   "cell_type": "markdown",
   "metadata": {},
   "source": [
    "# 1"
   ]
  },
  {
   "cell_type": "markdown",
   "metadata": {},
   "source": [
    "   sudo nano /etc/default/grub"
   ]
  },
  {
   "cell_type": "markdown",
   "metadata": {},
   "source": [
    "# 2\n"
   ]
  },
  {
   "cell_type": "markdown",
   "metadata": {},
   "source": [
    "/etc or /etc/<module_name>. \n",
    "________Restarting Services: After modifying a configuration file, you may need to restart the corresponding service\n"
   ]
  },
  {
   "cell_type": "markdown",
   "metadata": {},
   "source": [
    "# 3\n"
   ]
  },
  {
   "cell_type": "markdown",
   "metadata": {},
   "source": [
    "/sys"
   ]
  },
  {
   "cell_type": "markdown",
   "metadata": {},
   "source": [
    "# 4"
   ]
  },
  {
   "cell_type": "markdown",
   "metadata": {},
   "source": [
    "BIOS stands for Basic Input/Output System. It is a firmware that is built into the computer's motherboard and is responsible for initializing and controlling the hardware components during the boot process."
   ]
  },
  {
   "cell_type": "markdown",
   "metadata": {},
   "source": [
    "# 5"
   ]
  },
  {
   "cell_type": "markdown",
   "metadata": {},
   "source": [
    "In a Linux terminal, the tilde (~) is a shorthand notation that represents the current user's home directory."
   ]
  },
  {
   "cell_type": "code",
   "execution_count": null,
   "metadata": {},
   "outputs": [],
   "source": []
  }
 ],
 "metadata": {
  "colab": {
   "provenance": []
  },
  "kernelspec": {
   "display_name": "Python 3 (ipykernel)",
   "language": "python",
   "name": "python3"
  },
  "language_info": {
   "codemirror_mode": {
    "name": "ipython",
    "version": 3
   },
   "file_extension": ".py",
   "mimetype": "text/x-python",
   "name": "python",
   "nbconvert_exporter": "python",
   "pygments_lexer": "ipython3",
   "version": "3.8.5"
  }
 },
 "nbformat": 4,
 "nbformat_minor": 4
}
