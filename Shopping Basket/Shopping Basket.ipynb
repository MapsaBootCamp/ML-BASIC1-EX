{
 "cells": [
  {
   "cell_type": "code",
   "execution_count": 1,
   "id": "852e05d0-5e5c-4aa8-97f3-03b008e16a82",
   "metadata": {},
   "outputs": [],
   "source": [
    "import pandas as pd\n",
    "import numpy as np"
   ]
  },
  {
   "cell_type": "code",
   "execution_count": 2,
   "id": "26c601e3-51d8-4e1d-a2b5-f413e39d3c0a",
   "metadata": {},
   "outputs": [],
   "source": [
    "df=pd.read_csv('supermarket.csv')"
   ]
  },
  {
   "cell_type": "code",
   "execution_count": 3,
   "id": "4c1ced93-2d79-4188-bcdc-204c43b0b4ad",
   "metadata": {},
   "outputs": [
    {
     "data": {
      "text/html": [
       "<div>\n",
       "<style scoped>\n",
       "    .dataframe tbody tr th:only-of-type {\n",
       "        vertical-align: middle;\n",
       "    }\n",
       "\n",
       "    .dataframe tbody tr th {\n",
       "        vertical-align: top;\n",
       "    }\n",
       "\n",
       "    .dataframe thead th {\n",
       "        text-align: right;\n",
       "    }\n",
       "</style>\n",
       "<table border=\"1\" class=\"dataframe\">\n",
       "  <thead>\n",
       "    <tr style=\"text-align: right;\">\n",
       "      <th></th>\n",
       "      <th>Customer Id</th>\n",
       "      <th>Date</th>\n",
       "      <th>Product</th>\n",
       "    </tr>\n",
       "  </thead>\n",
       "  <tbody>\n",
       "    <tr>\n",
       "      <th>0</th>\n",
       "      <td>JKML5ZWXP0XQ</td>\n",
       "      <td>2020-07-20</td>\n",
       "      <td>tropical fruit</td>\n",
       "    </tr>\n",
       "    <tr>\n",
       "      <th>1</th>\n",
       "      <td>YOGWQIUPDAJ7</td>\n",
       "      <td>2020-04-30</td>\n",
       "      <td>whole milk</td>\n",
       "    </tr>\n",
       "    <tr>\n",
       "      <th>2</th>\n",
       "      <td>Q3NL22281AF6</td>\n",
       "      <td>2020-09-18</td>\n",
       "      <td>pip fruit</td>\n",
       "    </tr>\n",
       "    <tr>\n",
       "      <th>3</th>\n",
       "      <td>C59GRTLMZQAU</td>\n",
       "      <td>2020-12-11</td>\n",
       "      <td>other vegetables</td>\n",
       "    </tr>\n",
       "    <tr>\n",
       "      <th>4</th>\n",
       "      <td>WUSF8LTEQZ5L</td>\n",
       "      <td>2020-01-02</td>\n",
       "      <td>whole milk</td>\n",
       "    </tr>\n",
       "    <tr>\n",
       "      <th>...</th>\n",
       "      <td>...</td>\n",
       "      <td>...</td>\n",
       "      <td>...</td>\n",
       "    </tr>\n",
       "    <tr>\n",
       "      <th>32705</th>\n",
       "      <td>PM1BQU9H9S2Q</td>\n",
       "      <td>2019-06-05</td>\n",
       "      <td>oil</td>\n",
       "    </tr>\n",
       "    <tr>\n",
       "      <th>32706</th>\n",
       "      <td>6AWIAP3ZV551</td>\n",
       "      <td>2019-08-10</td>\n",
       "      <td>sliced cheese</td>\n",
       "    </tr>\n",
       "    <tr>\n",
       "      <th>32707</th>\n",
       "      <td>LRWVFLSC8X5B</td>\n",
       "      <td>2019-02-23</td>\n",
       "      <td>candy</td>\n",
       "    </tr>\n",
       "    <tr>\n",
       "      <th>32708</th>\n",
       "      <td>8KYRMELYKNIH</td>\n",
       "      <td>2019-04-16</td>\n",
       "      <td>cake bar</td>\n",
       "    </tr>\n",
       "    <tr>\n",
       "      <th>32709</th>\n",
       "      <td>41NGW85T47Q1</td>\n",
       "      <td>2019-03-12</td>\n",
       "      <td>fruit/vegetable juice</td>\n",
       "    </tr>\n",
       "  </tbody>\n",
       "</table>\n",
       "<p>32710 rows × 3 columns</p>\n",
       "</div>"
      ],
      "text/plain": [
       "        Customer Id        Date                Product\n",
       "0      JKML5ZWXP0XQ  2020-07-20         tropical fruit\n",
       "1      YOGWQIUPDAJ7  2020-04-30             whole milk\n",
       "2      Q3NL22281AF6  2020-09-18              pip fruit\n",
       "3      C59GRTLMZQAU  2020-12-11       other vegetables\n",
       "4      WUSF8LTEQZ5L  2020-01-02             whole milk\n",
       "...             ...         ...                    ...\n",
       "32705  PM1BQU9H9S2Q  2019-06-05                    oil\n",
       "32706  6AWIAP3ZV551  2019-08-10          sliced cheese\n",
       "32707  LRWVFLSC8X5B  2019-02-23                  candy\n",
       "32708  8KYRMELYKNIH  2019-04-16               cake bar\n",
       "32709  41NGW85T47Q1  2019-03-12  fruit/vegetable juice\n",
       "\n",
       "[32710 rows x 3 columns]"
      ]
     },
     "execution_count": 3,
     "metadata": {},
     "output_type": "execute_result"
    }
   ],
   "source": [
    "df"
   ]
  },
  {
   "cell_type": "markdown",
   "id": "c5a73984-9617-413d-b7e6-445653140533",
   "metadata": {},
   "source": [
    "## تعداد محصولات یکتا در کل دادگان، چندتاست؟"
   ]
  },
  {
   "cell_type": "code",
   "execution_count": 11,
   "id": "f383a374-7c7c-4137-9103-2a3134493dfd",
   "metadata": {},
   "outputs": [
    {
     "data": {
      "text/plain": [
       "137"
      ]
     },
     "execution_count": 11,
     "metadata": {},
     "output_type": "execute_result"
    }
   ],
   "source": [
    "df['Product'].nunique()"
   ]
  },
  {
   "cell_type": "markdown",
   "id": "a2cd7fd1-d649-469a-9aef-d7d127ac13ba",
   "metadata": {},
   "source": [
    "## میزان فروش به ازای هر روز به صورت میانگین چند است (تا دو رقم بعد از اعشار)؟"
   ]
  },
  {
   "cell_type": "code",
   "execution_count": 13,
   "id": "1fdb63f7-e10a-4deb-9815-c43dd12baf79",
   "metadata": {},
   "outputs": [
    {
     "name": "stdout",
     "output_type": "stream",
     "text": [
      "<class 'pandas.core.frame.DataFrame'>\n",
      "RangeIndex: 32710 entries, 0 to 32709\n",
      "Data columns (total 3 columns):\n",
      " #   Column       Non-Null Count  Dtype \n",
      "---  ------       --------------  ----- \n",
      " 0   Customer Id  32710 non-null  object\n",
      " 1   Date         32710 non-null  object\n",
      " 2   Product      32710 non-null  object\n",
      "dtypes: object(3)\n",
      "memory usage: 766.8+ KB\n"
     ]
    }
   ],
   "source": [
    "df.info()"
   ]
  },
  {
   "cell_type": "code",
   "execution_count": 41,
   "id": "98155dd7-845a-4f20-a156-cc3344461d39",
   "metadata": {},
   "outputs": [
    {
     "name": "stdout",
     "output_type": "stream",
     "text": [
      "44.93 %\n"
     ]
    }
   ],
   "source": [
    "print(f'{(df.Date.value_counts().mean()):.2f} %')"
   ]
  },
  {
   "cell_type": "markdown",
   "id": "b1967f1f-742c-44cd-8f6b-365bd030c685",
   "metadata": {},
   "source": [
    "## چهار محصولی که کمتر از بقیه در سبد مشتریان قرار گرفته‌اند، کدامند (ترتیب مهم نیست)؟"
   ]
  },
  {
   "cell_type": "code",
   "execution_count": 43,
   "id": "9987d40d-881e-4ddf-84ee-3f186bc2735a",
   "metadata": {},
   "outputs": [
    {
     "data": {
      "text/html": [
       "<div>\n",
       "<style scoped>\n",
       "    .dataframe tbody tr th:only-of-type {\n",
       "        vertical-align: middle;\n",
       "    }\n",
       "\n",
       "    .dataframe tbody tr th {\n",
       "        vertical-align: top;\n",
       "    }\n",
       "\n",
       "    .dataframe thead th {\n",
       "        text-align: right;\n",
       "    }\n",
       "</style>\n",
       "<table border=\"1\" class=\"dataframe\">\n",
       "  <thead>\n",
       "    <tr style=\"text-align: right;\">\n",
       "      <th></th>\n",
       "      <th>Customer Id</th>\n",
       "      <th>Date</th>\n",
       "    </tr>\n",
       "    <tr>\n",
       "      <th>Product</th>\n",
       "      <th></th>\n",
       "      <th></th>\n",
       "    </tr>\n",
       "  </thead>\n",
       "  <tbody>\n",
       "    <tr>\n",
       "      <th>Instant food products</th>\n",
       "      <td>60</td>\n",
       "      <td>60</td>\n",
       "    </tr>\n",
       "    <tr>\n",
       "      <th>UHT-milk</th>\n",
       "      <td>320</td>\n",
       "      <td>320</td>\n",
       "    </tr>\n",
       "    <tr>\n",
       "      <th>abrasive cleaner</th>\n",
       "      <td>22</td>\n",
       "      <td>22</td>\n",
       "    </tr>\n",
       "    <tr>\n",
       "      <th>artif. sweetener</th>\n",
       "      <td>29</td>\n",
       "      <td>29</td>\n",
       "    </tr>\n",
       "    <tr>\n",
       "      <th>baby cosmetics</th>\n",
       "      <td>3</td>\n",
       "      <td>3</td>\n",
       "    </tr>\n",
       "    <tr>\n",
       "      <th>...</th>\n",
       "      <td>...</td>\n",
       "      <td>...</td>\n",
       "    </tr>\n",
       "    <tr>\n",
       "      <th>whipped/sour cream</th>\n",
       "      <td>654</td>\n",
       "      <td>654</td>\n",
       "    </tr>\n",
       "    <tr>\n",
       "      <th>white bread</th>\n",
       "      <td>359</td>\n",
       "      <td>359</td>\n",
       "    </tr>\n",
       "    <tr>\n",
       "      <th>whole milk</th>\n",
       "      <td>2363</td>\n",
       "      <td>2363</td>\n",
       "    </tr>\n",
       "    <tr>\n",
       "      <th>yogurt</th>\n",
       "      <td>1285</td>\n",
       "      <td>1285</td>\n",
       "    </tr>\n",
       "    <tr>\n",
       "      <th>zwieback</th>\n",
       "      <td>60</td>\n",
       "      <td>60</td>\n",
       "    </tr>\n",
       "  </tbody>\n",
       "</table>\n",
       "<p>137 rows × 2 columns</p>\n",
       "</div>"
      ],
      "text/plain": [
       "                       Customer Id  Date\n",
       "Product                                 \n",
       "Instant food products           60    60\n",
       "UHT-milk                       320   320\n",
       "abrasive cleaner                22    22\n",
       "artif. sweetener                29    29\n",
       "baby cosmetics                   3     3\n",
       "...                            ...   ...\n",
       "whipped/sour cream             654   654\n",
       "white bread                    359   359\n",
       "whole milk                    2363  2363\n",
       "yogurt                        1285  1285\n",
       "zwieback                        60    60\n",
       "\n",
       "[137 rows x 2 columns]"
      ]
     },
     "execution_count": 43,
     "metadata": {},
     "output_type": "execute_result"
    }
   ],
   "source": [
    "df.groupby('Product').count()"
   ]
  },
  {
   "cell_type": "code",
   "execution_count": 76,
   "id": "4606e7bc-9260-4491-b172-03f9579078fd",
   "metadata": {},
   "outputs": [],
   "source": [
    "least_product=list(df['Product'].value_counts(ascending=True).index[:4])"
   ]
  },
  {
   "cell_type": "code",
   "execution_count": 90,
   "id": "ef53e0bc-9ee4-4a9b-8072-38bf65649cf5",
   "metadata": {},
   "outputs": [],
   "source": [
    "result=''\n",
    "for x in least_product:\n",
    "    if x!= least_product[-1]: \n",
    "        result += x+', '\n",
    "    else:\n",
    "        result +=x"
   ]
  },
  {
   "cell_type": "code",
   "execution_count": 91,
   "id": "cda999b3-3a02-4683-9845-b2783cc37502",
   "metadata": {},
   "outputs": [
    {
     "name": "stdout",
     "output_type": "stream",
     "text": [
      "preservation products, kitchen utensil, baby cosmetics, bags\n"
     ]
    }
   ],
   "source": [
    "print(result)"
   ]
  },
  {
   "cell_type": "markdown",
   "id": "fb100a2f-e5c1-40f0-884d-14e0c4defba7",
   "metadata": {},
   "source": [
    "## پنج مشتری‌ای که در سال ۲۰۲۰، بیشترین تعداد \"سبد\" را داشته‌اند، کدامند (ترتیب مهم نیست)؟"
   ]
  },
  {
   "cell_type": "code",
   "execution_count": 120,
   "id": "713a4319-44fa-414f-85aa-8b2cb1c6fbee",
   "metadata": {},
   "outputs": [],
   "source": [
    "df['Date2'] = pd.to_datetime(df['Date'])"
   ]
  },
  {
   "cell_type": "code",
   "execution_count": 121,
   "id": "54928029-e1ff-4eda-ae2e-4a109ef5ee26",
   "metadata": {},
   "outputs": [
    {
     "name": "stdout",
     "output_type": "stream",
     "text": [
      "<class 'pandas.core.frame.DataFrame'>\n",
      "RangeIndex: 32710 entries, 0 to 32709\n",
      "Data columns (total 4 columns):\n",
      " #   Column       Non-Null Count  Dtype         \n",
      "---  ------       --------------  -----         \n",
      " 0   Customer Id  32710 non-null  object        \n",
      " 1   Date         32710 non-null  object        \n",
      " 2   Product      32710 non-null  object        \n",
      " 3   Date2        32710 non-null  datetime64[ns]\n",
      "dtypes: datetime64[ns](1), object(3)\n",
      "memory usage: 1022.3+ KB\n"
     ]
    }
   ],
   "source": [
    "df.info()"
   ]
  },
  {
   "cell_type": "code",
   "execution_count": 178,
   "id": "a54aac1e-5d7f-4ec2-ba75-8d429c41d4f3",
   "metadata": {},
   "outputs": [
    {
     "data": {
      "text/html": [
       "<div>\n",
       "<style scoped>\n",
       "    .dataframe tbody tr th:only-of-type {\n",
       "        vertical-align: middle;\n",
       "    }\n",
       "\n",
       "    .dataframe tbody tr th {\n",
       "        vertical-align: top;\n",
       "    }\n",
       "\n",
       "    .dataframe thead th {\n",
       "        text-align: right;\n",
       "    }\n",
       "</style>\n",
       "<table border=\"1\" class=\"dataframe\">\n",
       "  <thead>\n",
       "    <tr style=\"text-align: right;\">\n",
       "      <th></th>\n",
       "      <th>Customer Id</th>\n",
       "      <th>Date</th>\n",
       "      <th>Product</th>\n",
       "      <th>Date2</th>\n",
       "      <th>day_of_week</th>\n",
       "    </tr>\n",
       "  </thead>\n",
       "  <tbody>\n",
       "    <tr>\n",
       "      <th>0</th>\n",
       "      <td>JKML5ZWXP0XQ</td>\n",
       "      <td>2020-07-20</td>\n",
       "      <td>tropical fruit</td>\n",
       "      <td>2020-07-20</td>\n",
       "      <td>Monday</td>\n",
       "    </tr>\n",
       "    <tr>\n",
       "      <th>1</th>\n",
       "      <td>YOGWQIUPDAJ7</td>\n",
       "      <td>2020-04-30</td>\n",
       "      <td>whole milk</td>\n",
       "      <td>2020-04-30</td>\n",
       "      <td>Thursday</td>\n",
       "    </tr>\n",
       "    <tr>\n",
       "      <th>2</th>\n",
       "      <td>Q3NL22281AF6</td>\n",
       "      <td>2020-09-18</td>\n",
       "      <td>pip fruit</td>\n",
       "      <td>2020-09-18</td>\n",
       "      <td>Friday</td>\n",
       "    </tr>\n",
       "    <tr>\n",
       "      <th>3</th>\n",
       "      <td>C59GRTLMZQAU</td>\n",
       "      <td>2020-12-11</td>\n",
       "      <td>other vegetables</td>\n",
       "      <td>2020-12-11</td>\n",
       "      <td>Friday</td>\n",
       "    </tr>\n",
       "    <tr>\n",
       "      <th>4</th>\n",
       "      <td>WUSF8LTEQZ5L</td>\n",
       "      <td>2020-01-02</td>\n",
       "      <td>whole milk</td>\n",
       "      <td>2020-01-02</td>\n",
       "      <td>Thursday</td>\n",
       "    </tr>\n",
       "  </tbody>\n",
       "</table>\n",
       "</div>"
      ],
      "text/plain": [
       "    Customer Id        Date           Product      Date2 day_of_week\n",
       "0  JKML5ZWXP0XQ  2020-07-20    tropical fruit 2020-07-20      Monday\n",
       "1  YOGWQIUPDAJ7  2020-04-30        whole milk 2020-04-30    Thursday\n",
       "2  Q3NL22281AF6  2020-09-18         pip fruit 2020-09-18      Friday\n",
       "3  C59GRTLMZQAU  2020-12-11  other vegetables 2020-12-11      Friday\n",
       "4  WUSF8LTEQZ5L  2020-01-02        whole milk 2020-01-02    Thursday"
      ]
     },
     "execution_count": 178,
     "metadata": {},
     "output_type": "execute_result"
    }
   ],
   "source": [
    "df.head()"
   ]
  },
  {
   "cell_type": "code",
   "execution_count": 170,
   "id": "8482b030-d73b-4507-b2f0-caa36e90f79f",
   "metadata": {},
   "outputs": [
    {
     "data": {
      "text/plain": [
       "Customer Id\n",
       "0ZRF32AJ06BC    26\n",
       "KACGV5OJXMJW    23\n",
       "0P1TPIH74E79    21\n",
       "ED8WY0DE27XG    20\n",
       "NQQZGF4K1FE0    20\n",
       "                ..\n",
       "R7NI4CQ9Q369     1\n",
       "25NVXGTRIE9K     1\n",
       "51MNXTIHDQL2     1\n",
       "AVEOR3CX01PU     1\n",
       "W18UX1FKSWLQ     1\n",
       "Name: count, Length: 3298, dtype: int64"
      ]
     },
     "execution_count": 170,
     "metadata": {},
     "output_type": "execute_result"
    }
   ],
   "source": [
    "df[df['Date2']>='2020-01-01']['Customer Id'].value_counts(ascending=False)"
   ]
  },
  {
   "cell_type": "code",
   "execution_count": 164,
   "id": "79c1a188-ce05-4d61-b770-0b2a1e1c4841",
   "metadata": {},
   "outputs": [],
   "source": [
    "list_customer=list(df[(df['Date2']>='2020-01-01') & (df['Date2']<='2020-12-30')]['Customer Id'].value_counts().index[:5])"
   ]
  },
  {
   "cell_type": "code",
   "execution_count": 165,
   "id": "47745082-9731-44e1-9c19-d6c3246d0eab",
   "metadata": {},
   "outputs": [
    {
     "data": {
      "text/plain": [
       "['0ZRF32AJ06BC',\n",
       " 'KACGV5OJXMJW',\n",
       " '0P1TPIH74E79',\n",
       " 'ED8WY0DE27XG',\n",
       " 'NQQZGF4K1FE0']"
      ]
     },
     "execution_count": 165,
     "metadata": {},
     "output_type": "execute_result"
    }
   ],
   "source": [
    "list_customer"
   ]
  },
  {
   "cell_type": "code",
   "execution_count": 166,
   "id": "d4a99d11-aed6-4efa-9826-75926028247b",
   "metadata": {},
   "outputs": [],
   "source": [
    "customer_output=''\n",
    "for x in list_customer:\n",
    "    if x!= list_customer[-1]: \n",
    "        customer_output+= x+', '\n",
    "    else:\n",
    "        customer_output+=x"
   ]
  },
  {
   "cell_type": "code",
   "execution_count": 167,
   "id": "c13688e3-c78c-4613-9723-f1d908aca637",
   "metadata": {},
   "outputs": [
    {
     "name": "stdout",
     "output_type": "stream",
     "text": [
      "0ZRF32AJ06BC, KACGV5OJXMJW, 0P1TPIH74E79, ED8WY0DE27XG, NQQZGF4K1FE0\n"
     ]
    }
   ],
   "source": [
    "print(customer_output)"
   ]
  },
  {
   "cell_type": "markdown",
   "id": "77aaa795-09c2-4539-94e9-ac1d9ecf3e06",
   "metadata": {},
   "source": [
    "## کدام روز هفته، بیشترین تعداد محصول فروش رفته‌است؟"
   ]
  },
  {
   "cell_type": "code",
   "execution_count": 171,
   "id": "8c6ad94f-d197-4c51-aed4-029f53fd31e2",
   "metadata": {},
   "outputs": [],
   "source": [
    "df['day_of_week'] = df['Date2'].dt.day_name()"
   ]
  },
  {
   "cell_type": "code",
   "execution_count": 177,
   "id": "9fa01465-a8c5-465e-8521-77f182f4793c",
   "metadata": {},
   "outputs": [
    {
     "data": {
      "text/html": [
       "<div>\n",
       "<style scoped>\n",
       "    .dataframe tbody tr th:only-of-type {\n",
       "        vertical-align: middle;\n",
       "    }\n",
       "\n",
       "    .dataframe tbody tr th {\n",
       "        vertical-align: top;\n",
       "    }\n",
       "\n",
       "    .dataframe thead th {\n",
       "        text-align: right;\n",
       "    }\n",
       "</style>\n",
       "<table border=\"1\" class=\"dataframe\">\n",
       "  <thead>\n",
       "    <tr style=\"text-align: right;\">\n",
       "      <th></th>\n",
       "      <th>Customer Id</th>\n",
       "      <th>Date</th>\n",
       "      <th>Product</th>\n",
       "      <th>Date2</th>\n",
       "      <th>day_of_week</th>\n",
       "    </tr>\n",
       "  </thead>\n",
       "  <tbody>\n",
       "    <tr>\n",
       "      <th>0</th>\n",
       "      <td>JKML5ZWXP0XQ</td>\n",
       "      <td>2020-07-20</td>\n",
       "      <td>tropical fruit</td>\n",
       "      <td>2020-07-20</td>\n",
       "      <td>Monday</td>\n",
       "    </tr>\n",
       "    <tr>\n",
       "      <th>1</th>\n",
       "      <td>YOGWQIUPDAJ7</td>\n",
       "      <td>2020-04-30</td>\n",
       "      <td>whole milk</td>\n",
       "      <td>2020-04-30</td>\n",
       "      <td>Thursday</td>\n",
       "    </tr>\n",
       "    <tr>\n",
       "      <th>2</th>\n",
       "      <td>Q3NL22281AF6</td>\n",
       "      <td>2020-09-18</td>\n",
       "      <td>pip fruit</td>\n",
       "      <td>2020-09-18</td>\n",
       "      <td>Friday</td>\n",
       "    </tr>\n",
       "    <tr>\n",
       "      <th>3</th>\n",
       "      <td>C59GRTLMZQAU</td>\n",
       "      <td>2020-12-11</td>\n",
       "      <td>other vegetables</td>\n",
       "      <td>2020-12-11</td>\n",
       "      <td>Friday</td>\n",
       "    </tr>\n",
       "    <tr>\n",
       "      <th>4</th>\n",
       "      <td>WUSF8LTEQZ5L</td>\n",
       "      <td>2020-01-02</td>\n",
       "      <td>whole milk</td>\n",
       "      <td>2020-01-02</td>\n",
       "      <td>Thursday</td>\n",
       "    </tr>\n",
       "  </tbody>\n",
       "</table>\n",
       "</div>"
      ],
      "text/plain": [
       "    Customer Id        Date           Product      Date2 day_of_week\n",
       "0  JKML5ZWXP0XQ  2020-07-20    tropical fruit 2020-07-20      Monday\n",
       "1  YOGWQIUPDAJ7  2020-04-30        whole milk 2020-04-30    Thursday\n",
       "2  Q3NL22281AF6  2020-09-18         pip fruit 2020-09-18      Friday\n",
       "3  C59GRTLMZQAU  2020-12-11  other vegetables 2020-12-11      Friday\n",
       "4  WUSF8LTEQZ5L  2020-01-02        whole milk 2020-01-02    Thursday"
      ]
     },
     "execution_count": 177,
     "metadata": {},
     "output_type": "execute_result"
    }
   ],
   "source": [
    "df.head()"
   ]
  },
  {
   "cell_type": "code",
   "execution_count": 175,
   "id": "837d7b84-e895-4bf6-b491-c9e63aa5df3d",
   "metadata": {},
   "outputs": [
    {
     "data": {
      "text/plain": [
       "'Wednesday'"
      ]
     },
     "execution_count": 175,
     "metadata": {},
     "output_type": "execute_result"
    }
   ],
   "source": [
    "df['day_of_week'].value_counts(ascending=False).index[0]"
   ]
  }
 ],
 "metadata": {
  "kernelspec": {
   "display_name": "Python 3 (ipykernel)",
   "language": "python",
   "name": "python3"
  },
  "language_info": {
   "codemirror_mode": {
    "name": "ipython",
    "version": 3
   },
   "file_extension": ".py",
   "mimetype": "text/x-python",
   "name": "python",
   "nbconvert_exporter": "python",
   "pygments_lexer": "ipython3",
   "version": "3.8.5"
  }
 },
 "nbformat": 4,
 "nbformat_minor": 5
}
